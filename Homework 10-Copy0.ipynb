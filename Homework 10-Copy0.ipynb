{
 "metadata": {
  "name": "",
  "signature": "sha256:343ab99142fc911da78ebe67169c94a42d1436d43f2c46188500266f1cac61bf"
 },
 "nbformat": 3,
 "nbformat_minor": 0,
 "worksheets": [
  {
   "cells": [
    {
     "cell_type": "code",
     "collapsed": false,
     "input": [
      "%matplotlib inline"
     ],
     "language": "python",
     "metadata": {},
     "outputs": [],
     "prompt_number": 1
    },
    {
     "cell_type": "code",
     "collapsed": false,
     "input": [
      "import sqlite3\n",
      "import pandas\n",
      "from sklearn import preprocessing\n",
      "from sklearn.preprocessing import Imputer\n",
      "from sklearn import ensemble\n",
      "import numpy\n",
      "from sklearn.feature_selection import RFECV\n",
      "from sklearn.cross_validation import cross_val_score\n",
      "from sklearn.grid_search import  GridSearchCV\n",
      "from sklearn import tree\n",
      "import matplotlib.pyplot as plt\n",
      "\n",
      "\n",
      "# including our functions from last week up here for use. \n",
      "def cleanup_data(df, cutoffPercent = .01):\n",
      "    for col in df:\n",
      "        sizes = df[col].value_counts(normalize = True)\n",
      "        # get the names of the levels that make up less than 1% of the dataset\n",
      "        values_to_delete = sizes[sizes<cutoffPercent].index\n",
      "        df[col].ix[df[col].isin(values_to_delete)] = \"Other\"\n",
      "    return df\n",
      "#\n",
      "\n",
      "def get_binary_values(data_frame):\n",
      "    \"\"\"encodes cateogrical features in Pandas.\n",
      "    \"\"\"\n",
      "    all_columns = pandas.DataFrame( index = data_frame.index)\n",
      "    for col in data_frame.columns:\n",
      "        data = pandas.get_dummies(data_frame[col], prefix=col.encode('ascii', 'replace'))\n",
      "        all_columns = pandas.concat([all_columns, data], axis=1)\n",
      "    return all_columns\n",
      "#\n",
      "def find_zero_var(df):\n",
      "    \"\"\"finds columns in the dataframe with zero variance -- ie those\n",
      "        with the same value in every observation.\n",
      "    \"\"\"   \n",
      "    toKeep = []\n",
      "    toDelete = []\n",
      "    for col in df:\n",
      "        if len(df[col].value_counts()) > 1:\n",
      "            toKeep.append(col)\n",
      "        else:\n",
      "            toDelete.append(col)\n",
      "        ##\n",
      "    return {'toKeep':toKeep, 'toDelete':toDelete} \n",
      "##\n",
      "def find_perfect_corr(df):\n",
      "    \"\"\"finds columns that are eother positively or negatively perfectly correlated (with correlations of +1 or -1), and creates a dict \n",
      "        that includes which columns to drop so that each remaining column\n",
      "        is independent\n",
      "    \"\"\"  \n",
      "    corrMatrix = df.corr()\n",
      "    corrMatrix.loc[:,:] =  numpy.tril(corrMatrix.values, k = -1)\n",
      "    already_in = set()\n",
      "    result = []\n",
      "    for col in corrMatrix:\n",
      "        perfect_corr = corrMatrix[col][abs(numpy.round(corrMatrix[col],10)) == 1.00].index.tolist()\n",
      "        if perfect_corr and col not in already_in:\n",
      "            already_in.update(set(perfect_corr))\n",
      "            perfect_corr.append(col)\n",
      "            result.append(perfect_corr)\n",
      "    toRemove = []\n",
      "    for item in result:\n",
      "        toRemove.append(item[1:(len(item)+1)])\n",
      "    toRemove = sum(toRemove, [])\n",
      "    return {'corrGroupings':result, 'toRemove':toRemove}\n",
      "###\n",
      "\n",
      "\n",
      "# putting a setting into pandas that lets you print out the entire\n",
      "# DataFrame when you use the .head() method\n",
      "pandas.set_option('display.max_columns', None)"
     ],
     "language": "python",
     "metadata": {},
     "outputs": [],
     "prompt_number": 2
    },
    {
     "cell_type": "code",
     "collapsed": false,
     "input": [
      "# first, let's create a categorical feature that shows the dominant team \n",
      "# played per player\n",
      "database = r'C:\\Users\\Teresa\\Documents\\GA Data Science\\lahman2013.sqlite'\n",
      "conn = sqlite3.connect(database)\n",
      "query = 'select playerID, teamID from Batting;'\n",
      "df = pandas.read_sql(query, conn)\n",
      "conn.close()\n",
      "\n",
      "# use pandas.DataFrame.groupby and an annonymous lambda function\n",
      "# to pull the mode team for each player\n",
      "majority_team_by_player = df.groupby(['playerID']).agg(lambda x:x.value_counts().idxmax())\n",
      "\n",
      "## write the data back to the database\n",
      "conn = sqlite3.connect(database)\n",
      "majority_team_by_player.to_sql('dominant_team_per_player', conn, if_exists = 'replace')\n",
      "# closing the connection.\n",
      "conn.close()\n",
      "\n",
      "##Create another categorical variable\n",
      "database = r'C:\\Users\\Teresa\\Documents\\GA Data Science\\lahman2013.sqlite'\n",
      "conn = sqlite3.connect(database)\n",
      "\n",
      "query = 'select playerID, lgID from Batting'\n",
      "df = pandas.read_sql(query, conn)\n",
      "conn.close()\n",
      "\n",
      "# use pandas.DataFrame.groupby and an annonymous lambda function\n",
      "# to pull the mode team for each player\n",
      "majority_league_by_player = df.groupby(['playerID']).agg(lambda x:x.value_counts().idxmax())\n",
      "\n",
      "## write the data back to the database\n",
      "database = r'C:\\Users\\Teresa\\Documents\\GA Data Science\\lahman2013.sqlite'\n",
      "conn = sqlite3.connect(database)\n",
      "majority_league_by_player.to_sql('dominant_league_per_player', conn, if_exists = 'replace')\n",
      "# closing the connection.\n",
      "conn.close()"
     ],
     "language": "python",
     "metadata": {},
     "outputs": [],
     "prompt_number": 3
    },
    {
     "cell_type": "code",
     "collapsed": false,
     "input": [
      "## using the new table as part of the monster query from last class\n",
      "monster_query = \"\"\"\n",
      "SELECT hfi.playerID,hfi.inducted, batting.*, pitching.*, fielding.*,t.*,l.* FROM \n",
      "        (SELECT playerID, CASE WHEN average_inducted = 0 then 0 else 1 end as inducted from \n",
      "            (\n",
      "            select playerID, avg(case when inducted = 'Y' then 1 else 0 end ) as average_inducted from  HallOfFame hf\n",
      "            where yearid < 2000\n",
      "            group by playerID\n",
      "            )\n",
      "        ) hfi \n",
      "    left outer join \n",
      "    (\n",
      "    select playerID,  sum(AB) as total_at_bats, sum(H) as total_hits, sum(R) as total_runs, sum(HR) as total_home_runs, sum(SB) as total_stolen_bases,\n",
      "    sum(RBI) as total_RBI, sum(CS) as total_caught_stealing, sum(SO) as total_hitter_strikeouts, sum(IBB) as total_intentional_walks\n",
      "    from Batting\n",
      "    group by playerID\n",
      "    )\n",
      "    batting on batting.playerID = hfi.playerID\n",
      "    left outer join\n",
      "    (\n",
      "     select playerID, sum(G) as total_games_pitched, sum(SO) as total_shutouts, sum(sv) as total_saves, sum(IPouts) as total_outs_pitched, \n",
      "    sum(H) as total_pitching_hits, sum(er) as total_pitching_earned_runs, sum(so) as total_pitcher_strikeouts, \n",
      "    avg(ERA) as average_ERA, sum(WP) as total_wild_pitches, sum(HBP) as total_hit_by_pitch, sum(GF) as total_games_finished,\n",
      "    sum(R) as total_runs_allowed\n",
      "    from Pitching\n",
      "    group by playerID\n",
      "    ) \n",
      "    pitching on pitching.playerID = hfi.playerID \n",
      "    LEFT OUTER JOIN\n",
      "    (\n",
      "    select playerID, sum(G) as total_games_fielded, sum(InnOuts) as total_time_in_field_with_outs, \n",
      "    sum(PO) as total_putouts, sum(E) as total_errors, sum(DP) as total_double_plays\n",
      "    from Fielding\n",
      "    group by playerID\n",
      "    ) \n",
      "    fielding on fielding.playerID = hfi.playerID\n",
      "    LEFT OUTER JOIN \n",
      "        dominant_team_per_player t on t.playerID = hfi.playerID\n",
      "    LEFT OUTER JOIN \n",
      "        dominant_league_per_player l on l.playerID = hfi.playerID\n",
      "\"\"\"\n",
      "\n",
      "##Create another categorical variable\n",
      "\n",
      "database = r'C:\\Users\\Teresa\\Documents\\GA Data Science\\lahman2013.sqlite'\n",
      "conn = sqlite3.connect(database)\n",
      "df = pandas.read_sql(monster_query, conn)\n",
      "conn.close()\n",
      "\n",
      "## getting an intial view of the data for validation\n",
      "df.head(10)\n",
      "df.columns\n",
      "\n",
      "# dropping duplicate playerID columns\n",
      "df.drop('playerID',  1, inplace = True)\n",
      "\n",
      "df.columns\n",
      "\n",
      "#rename columns\n",
      "df.rename(columns={'hfi.playerID': 'playerID', 'hfi.inducted': 'inducted'}, inplace=True)\n",
      "df.head()"
     ],
     "language": "python",
     "metadata": {},
     "outputs": [
      {
       "html": [
        "<div style=\"max-height:1000px;max-width:1500px;overflow:auto;\">\n",
        "<table border=\"1\" class=\"dataframe\">\n",
        "  <thead>\n",
        "    <tr style=\"text-align: right;\">\n",
        "      <th></th>\n",
        "      <th>playerID</th>\n",
        "      <th>inducted</th>\n",
        "      <th>total_at_bats</th>\n",
        "      <th>total_hits</th>\n",
        "      <th>total_runs</th>\n",
        "      <th>total_home_runs</th>\n",
        "      <th>total_stolen_bases</th>\n",
        "      <th>total_RBI</th>\n",
        "      <th>total_caught_stealing</th>\n",
        "      <th>total_hitter_strikeouts</th>\n",
        "      <th>total_intentional_walks</th>\n",
        "      <th>total_games_pitched</th>\n",
        "      <th>total_shutouts</th>\n",
        "      <th>total_saves</th>\n",
        "      <th>total_outs_pitched</th>\n",
        "      <th>total_pitching_hits</th>\n",
        "      <th>total_pitching_earned_runs</th>\n",
        "      <th>total_pitcher_strikeouts</th>\n",
        "      <th>average_ERA</th>\n",
        "      <th>total_wild_pitches</th>\n",
        "      <th>total_hit_by_pitch</th>\n",
        "      <th>total_games_finished</th>\n",
        "      <th>total_runs_allowed</th>\n",
        "      <th>total_games_fielded</th>\n",
        "      <th>total_time_in_field_with_outs</th>\n",
        "      <th>total_putouts</th>\n",
        "      <th>total_errors</th>\n",
        "      <th>total_double_plays</th>\n",
        "      <th>teamID</th>\n",
        "      <th>lgID</th>\n",
        "    </tr>\n",
        "  </thead>\n",
        "  <tbody>\n",
        "    <tr>\n",
        "      <th>0</th>\n",
        "      <td> aaronha01</td>\n",
        "      <td> 1</td>\n",
        "      <td> 12364</td>\n",
        "      <td> 3771</td>\n",
        "      <td> 2174</td>\n",
        "      <td> 755</td>\n",
        "      <td> 240</td>\n",
        "      <td> 2297</td>\n",
        "      <td> 73</td>\n",
        "      <td> 1383</td>\n",
        "      <td> 293</td>\n",
        "      <td> NaN</td>\n",
        "      <td>  NaN</td>\n",
        "      <td>NaN</td>\n",
        "      <td>  NaN</td>\n",
        "      <td>  NaN</td>\n",
        "      <td> NaN</td>\n",
        "      <td>  NaN</td>\n",
        "      <td>      NaN</td>\n",
        "      <td>NaN</td>\n",
        "      <td>NaN</td>\n",
        "      <td>NaN</td>\n",
        "      <td>  NaN</td>\n",
        "      <td> 6019</td>\n",
        "      <td> 150488</td>\n",
        "      <td> 12926</td>\n",
        "      <td> 259</td>\n",
        "      <td> 258</td>\n",
        "      <td> ML1</td>\n",
        "      <td> NL</td>\n",
        "    </tr>\n",
        "    <tr>\n",
        "      <th>1</th>\n",
        "      <td> adamsba01</td>\n",
        "      <td> 0</td>\n",
        "      <td>  1019</td>\n",
        "      <td>  216</td>\n",
        "      <td>   79</td>\n",
        "      <td>   3</td>\n",
        "      <td>   1</td>\n",
        "      <td>   75</td>\n",
        "      <td>  1</td>\n",
        "      <td>  177</td>\n",
        "      <td> NaN</td>\n",
        "      <td> 482</td>\n",
        "      <td> 1036</td>\n",
        "      <td> 15</td>\n",
        "      <td> 8986</td>\n",
        "      <td> 2841</td>\n",
        "      <td> 917</td>\n",
        "      <td> 1036</td>\n",
        "      <td> 3.733684</td>\n",
        "      <td> 26</td>\n",
        "      <td> 47</td>\n",
        "      <td> 89</td>\n",
        "      <td> 1129</td>\n",
        "      <td>  482</td>\n",
        "      <td>    NaN</td>\n",
        "      <td>    58</td>\n",
        "      <td>  17</td>\n",
        "      <td>  17</td>\n",
        "      <td> PIT</td>\n",
        "      <td> NL</td>\n",
        "    </tr>\n",
        "    <tr>\n",
        "      <th>2</th>\n",
        "      <td> adamsbo03</td>\n",
        "      <td> 0</td>\n",
        "      <td>  4019</td>\n",
        "      <td> 1082</td>\n",
        "      <td>  591</td>\n",
        "      <td>  37</td>\n",
        "      <td>  67</td>\n",
        "      <td>  303</td>\n",
        "      <td> 30</td>\n",
        "      <td>  447</td>\n",
        "      <td>   1</td>\n",
        "      <td> NaN</td>\n",
        "      <td>  NaN</td>\n",
        "      <td>NaN</td>\n",
        "      <td>  NaN</td>\n",
        "      <td>  NaN</td>\n",
        "      <td> NaN</td>\n",
        "      <td>  NaN</td>\n",
        "      <td>      NaN</td>\n",
        "      <td>NaN</td>\n",
        "      <td>NaN</td>\n",
        "      <td>NaN</td>\n",
        "      <td>  NaN</td>\n",
        "      <td> 1066</td>\n",
        "      <td>   6022</td>\n",
        "      <td>  1748</td>\n",
        "      <td> 158</td>\n",
        "      <td> 371</td>\n",
        "      <td> CIN</td>\n",
        "      <td> NL</td>\n",
        "    </tr>\n",
        "    <tr>\n",
        "      <th>3</th>\n",
        "      <td> adamssp01</td>\n",
        "      <td> 0</td>\n",
        "      <td>  5557</td>\n",
        "      <td> 1588</td>\n",
        "      <td>  844</td>\n",
        "      <td>   9</td>\n",
        "      <td> 154</td>\n",
        "      <td>  394</td>\n",
        "      <td> 50</td>\n",
        "      <td>  223</td>\n",
        "      <td> NaN</td>\n",
        "      <td> NaN</td>\n",
        "      <td>  NaN</td>\n",
        "      <td>NaN</td>\n",
        "      <td>  NaN</td>\n",
        "      <td>  NaN</td>\n",
        "      <td> NaN</td>\n",
        "      <td>  NaN</td>\n",
        "      <td>      NaN</td>\n",
        "      <td>NaN</td>\n",
        "      <td>NaN</td>\n",
        "      <td>NaN</td>\n",
        "      <td>  NaN</td>\n",
        "      <td> 1384</td>\n",
        "      <td>    NaN</td>\n",
        "      <td>  2287</td>\n",
        "      <td> 230</td>\n",
        "      <td> 597</td>\n",
        "      <td> CHN</td>\n",
        "      <td> NL</td>\n",
        "    </tr>\n",
        "    <tr>\n",
        "      <th>4</th>\n",
        "      <td>  ageeto01</td>\n",
        "      <td> 0</td>\n",
        "      <td>  3912</td>\n",
        "      <td>  999</td>\n",
        "      <td>  558</td>\n",
        "      <td> 130</td>\n",
        "      <td> 167</td>\n",
        "      <td>  433</td>\n",
        "      <td> 81</td>\n",
        "      <td>  918</td>\n",
        "      <td>  26</td>\n",
        "      <td> NaN</td>\n",
        "      <td>  NaN</td>\n",
        "      <td>NaN</td>\n",
        "      <td>  NaN</td>\n",
        "      <td>  NaN</td>\n",
        "      <td> NaN</td>\n",
        "      <td>  NaN</td>\n",
        "      <td>      NaN</td>\n",
        "      <td>NaN</td>\n",
        "      <td>NaN</td>\n",
        "      <td>NaN</td>\n",
        "      <td>  NaN</td>\n",
        "      <td> 2201</td>\n",
        "      <td>  52930</td>\n",
        "      <td>  4759</td>\n",
        "      <td> 123</td>\n",
        "      <td>  36</td>\n",
        "      <td> NYN</td>\n",
        "      <td> NL</td>\n",
        "    </tr>\n",
        "  </tbody>\n",
        "</table>\n",
        "</div>"
       ],
       "metadata": {},
       "output_type": "pyout",
       "prompt_number": 4,
       "text": [
        "    playerID  inducted  total_at_bats  total_hits  total_runs  \\\n",
        "0  aaronha01         1          12364        3771        2174   \n",
        "1  adamsba01         0           1019         216          79   \n",
        "2  adamsbo03         0           4019        1082         591   \n",
        "3  adamssp01         0           5557        1588         844   \n",
        "4   ageeto01         0           3912         999         558   \n",
        "\n",
        "   total_home_runs  total_stolen_bases  total_RBI  total_caught_stealing  \\\n",
        "0              755                 240       2297                     73   \n",
        "1                3                   1         75                      1   \n",
        "2               37                  67        303                     30   \n",
        "3                9                 154        394                     50   \n",
        "4              130                 167        433                     81   \n",
        "\n",
        "   total_hitter_strikeouts  total_intentional_walks  total_games_pitched  \\\n",
        "0                     1383                      293                  NaN   \n",
        "1                      177                      NaN                  482   \n",
        "2                      447                        1                  NaN   \n",
        "3                      223                      NaN                  NaN   \n",
        "4                      918                       26                  NaN   \n",
        "\n",
        "   total_shutouts  total_saves  total_outs_pitched  total_pitching_hits  \\\n",
        "0             NaN          NaN                 NaN                  NaN   \n",
        "1            1036           15                8986                 2841   \n",
        "2             NaN          NaN                 NaN                  NaN   \n",
        "3             NaN          NaN                 NaN                  NaN   \n",
        "4             NaN          NaN                 NaN                  NaN   \n",
        "\n",
        "   total_pitching_earned_runs  total_pitcher_strikeouts  average_ERA  \\\n",
        "0                         NaN                       NaN          NaN   \n",
        "1                         917                      1036     3.733684   \n",
        "2                         NaN                       NaN          NaN   \n",
        "3                         NaN                       NaN          NaN   \n",
        "4                         NaN                       NaN          NaN   \n",
        "\n",
        "   total_wild_pitches  total_hit_by_pitch  total_games_finished  \\\n",
        "0                 NaN                 NaN                   NaN   \n",
        "1                  26                  47                    89   \n",
        "2                 NaN                 NaN                   NaN   \n",
        "3                 NaN                 NaN                   NaN   \n",
        "4                 NaN                 NaN                   NaN   \n",
        "\n",
        "   total_runs_allowed  total_games_fielded  total_time_in_field_with_outs  \\\n",
        "0                 NaN                 6019                         150488   \n",
        "1                1129                  482                            NaN   \n",
        "2                 NaN                 1066                           6022   \n",
        "3                 NaN                 1384                            NaN   \n",
        "4                 NaN                 2201                          52930   \n",
        "\n",
        "   total_putouts  total_errors  total_double_plays teamID lgID  \n",
        "0          12926           259                 258    ML1   NL  \n",
        "1             58            17                  17    PIT   NL  \n",
        "2           1748           158                 371    CIN   NL  \n",
        "3           2287           230                 597    CHN   NL  \n",
        "4           4759           123                  36    NYN   NL  "
       ]
      }
     ],
     "prompt_number": 4
    },
    {
     "cell_type": "code",
     "collapsed": false,
     "input": [
      "#############\n",
      "## repeating the same preprocessing from the previous lesson\n",
      "############\n",
      "\n",
      "## splitting out the explanatory features \n",
      "explanatory_features = [col for col in df.columns if col not in ['playerID', 'inducted']]\n",
      "explanatory_df = df[explanatory_features]\n",
      "\n",
      "# dropping rows with no data.\n",
      "explanatory_df.dropna(how='all', inplace = True) \n",
      "\n",
      "# extracting column names \n",
      "explanatory_colnames = explanatory_df.columns\n",
      "\n",
      "## doing the same for response\n",
      "response_series = df.inducted\n",
      "response_series.dropna(how='all', inplace = True) \n",
      "\n",
      "## seeing which explanatory feature rows got removed.  Looks like none.\n",
      "response_series.index[~response_series.index.isin(explanatory_df.index)]\n",
      "\n",
      "### now, let's seperate the numeric explanatory data from the string data\n",
      "string_features = explanatory_df.ix[:, explanatory_df.dtypes == 'object']\n",
      "numeric_features = explanatory_df.ix[:, explanatory_df.dtypes != 'object']\n",
      "\n",
      "\n",
      "# that are all NANs, as they will show up as all 'Nothing' when we start binning or look for features with no variation)\n",
      "string_features = string_features.fillna('Nothing')\n",
      "# cleaning up string features\n",
      "string_features = cleanup_data(string_features)\n",
      "# binarizing string features \n",
      "encoded_data = get_binary_values(string_features)\n",
      "\n",
      "## imputing features\n",
      "imputer_object = Imputer(missing_values='NaN', strategy='median', axis=0)\n",
      "imputer_object.fit(numeric_features)\n",
      "numeric_features = pandas.DataFrame(imputer_object.transform(numeric_features), columns = numeric_features.columns)\n",
      "\n",
      "## pulling together numeric and encoded data.\n",
      "explanatory_df = pandas.concat([numeric_features, encoded_data],axis = 1)\n",
      "explanatory_df.head()"
     ],
     "language": "python",
     "metadata": {},
     "outputs": [
      {
       "output_type": "stream",
       "stream": "stderr",
       "text": [
        "-c:10: SettingWithCopyWarning: \n",
        "A value is trying to be set on a copy of a slice from a DataFrame\n",
        "\n",
        "See the the caveats in the documentation: http://pandas.pydata.org/pandas-docs/stable/indexing.html#indexing-view-versus-copy\n"
       ]
      },
      {
       "html": [
        "<div style=\"max-height:1000px;max-width:1500px;overflow:auto;\">\n",
        "<table border=\"1\" class=\"dataframe\">\n",
        "  <thead>\n",
        "    <tr style=\"text-align: right;\">\n",
        "      <th></th>\n",
        "      <th>total_at_bats</th>\n",
        "      <th>total_hits</th>\n",
        "      <th>total_runs</th>\n",
        "      <th>total_home_runs</th>\n",
        "      <th>total_stolen_bases</th>\n",
        "      <th>total_RBI</th>\n",
        "      <th>total_caught_stealing</th>\n",
        "      <th>total_hitter_strikeouts</th>\n",
        "      <th>total_intentional_walks</th>\n",
        "      <th>total_games_pitched</th>\n",
        "      <th>total_shutouts</th>\n",
        "      <th>total_saves</th>\n",
        "      <th>total_outs_pitched</th>\n",
        "      <th>total_pitching_hits</th>\n",
        "      <th>total_pitching_earned_runs</th>\n",
        "      <th>total_pitcher_strikeouts</th>\n",
        "      <th>average_ERA</th>\n",
        "      <th>total_wild_pitches</th>\n",
        "      <th>total_hit_by_pitch</th>\n",
        "      <th>total_games_finished</th>\n",
        "      <th>total_runs_allowed</th>\n",
        "      <th>total_games_fielded</th>\n",
        "      <th>total_time_in_field_with_outs</th>\n",
        "      <th>total_putouts</th>\n",
        "      <th>total_errors</th>\n",
        "      <th>total_double_plays</th>\n",
        "      <th>teamID_BAL</th>\n",
        "      <th>teamID_BOS</th>\n",
        "      <th>teamID_BRO</th>\n",
        "      <th>teamID_BSN</th>\n",
        "      <th>teamID_CAL</th>\n",
        "      <th>teamID_CHA</th>\n",
        "      <th>teamID_CHN</th>\n",
        "      <th>teamID_CIN</th>\n",
        "      <th>teamID_CLE</th>\n",
        "      <th>teamID_DET</th>\n",
        "      <th>teamID_HOU</th>\n",
        "      <th>teamID_KCA</th>\n",
        "      <th>teamID_LAN</th>\n",
        "      <th>teamID_MIN</th>\n",
        "      <th>teamID_ML4</th>\n",
        "      <th>teamID_MON</th>\n",
        "      <th>teamID_NY1</th>\n",
        "      <th>teamID_NYA</th>\n",
        "      <th>teamID_NYN</th>\n",
        "      <th>teamID_Other</th>\n",
        "      <th>teamID_PHA</th>\n",
        "      <th>teamID_PHI</th>\n",
        "      <th>teamID_PIT</th>\n",
        "      <th>teamID_SFN</th>\n",
        "      <th>teamID_SLA</th>\n",
        "      <th>teamID_SLN</th>\n",
        "      <th>teamID_WS1</th>\n",
        "      <th>lgID_AL</th>\n",
        "      <th>lgID_NL</th>\n",
        "      <th>lgID_Other</th>\n",
        "    </tr>\n",
        "  </thead>\n",
        "  <tbody>\n",
        "    <tr>\n",
        "      <th>0</th>\n",
        "      <td> 12364</td>\n",
        "      <td> 3771</td>\n",
        "      <td> 2174</td>\n",
        "      <td> 755</td>\n",
        "      <td> 240</td>\n",
        "      <td> 2297</td>\n",
        "      <td> 73</td>\n",
        "      <td> 1383</td>\n",
        "      <td> 293</td>\n",
        "      <td> 392</td>\n",
        "      <td>  944</td>\n",
        "      <td>  8</td>\n",
        "      <td> 6256</td>\n",
        "      <td> 1978</td>\n",
        "      <td> 767</td>\n",
        "      <td>  944</td>\n",
        "      <td> 3.765333</td>\n",
        "      <td> 39</td>\n",
        "      <td> 34</td>\n",
        "      <td> 43</td>\n",
        "      <td>  924</td>\n",
        "      <td> 6019</td>\n",
        "      <td> 150488.0</td>\n",
        "      <td> 12926</td>\n",
        "      <td> 259</td>\n",
        "      <td> 258</td>\n",
        "      <td> 0</td>\n",
        "      <td> 0</td>\n",
        "      <td> 0</td>\n",
        "      <td> 0</td>\n",
        "      <td> 0</td>\n",
        "      <td> 0</td>\n",
        "      <td> 0</td>\n",
        "      <td> 0</td>\n",
        "      <td> 0</td>\n",
        "      <td> 0</td>\n",
        "      <td> 0</td>\n",
        "      <td> 0</td>\n",
        "      <td> 0</td>\n",
        "      <td> 0</td>\n",
        "      <td> 0</td>\n",
        "      <td> 0</td>\n",
        "      <td> 0</td>\n",
        "      <td> 0</td>\n",
        "      <td> 0</td>\n",
        "      <td> 1</td>\n",
        "      <td> 0</td>\n",
        "      <td> 0</td>\n",
        "      <td> 0</td>\n",
        "      <td> 0</td>\n",
        "      <td> 0</td>\n",
        "      <td> 0</td>\n",
        "      <td> 0</td>\n",
        "      <td> 0</td>\n",
        "      <td> 1</td>\n",
        "      <td> 0</td>\n",
        "    </tr>\n",
        "    <tr>\n",
        "      <th>1</th>\n",
        "      <td>  1019</td>\n",
        "      <td>  216</td>\n",
        "      <td>   79</td>\n",
        "      <td>   3</td>\n",
        "      <td>   1</td>\n",
        "      <td>   75</td>\n",
        "      <td>  1</td>\n",
        "      <td>  177</td>\n",
        "      <td>  18</td>\n",
        "      <td> 482</td>\n",
        "      <td> 1036</td>\n",
        "      <td> 15</td>\n",
        "      <td> 8986</td>\n",
        "      <td> 2841</td>\n",
        "      <td> 917</td>\n",
        "      <td> 1036</td>\n",
        "      <td> 3.733684</td>\n",
        "      <td> 26</td>\n",
        "      <td> 47</td>\n",
        "      <td> 89</td>\n",
        "      <td> 1129</td>\n",
        "      <td>  482</td>\n",
        "      <td>  23479.5</td>\n",
        "      <td>    58</td>\n",
        "      <td>  17</td>\n",
        "      <td>  17</td>\n",
        "      <td> 0</td>\n",
        "      <td> 0</td>\n",
        "      <td> 0</td>\n",
        "      <td> 0</td>\n",
        "      <td> 0</td>\n",
        "      <td> 0</td>\n",
        "      <td> 0</td>\n",
        "      <td> 0</td>\n",
        "      <td> 0</td>\n",
        "      <td> 0</td>\n",
        "      <td> 0</td>\n",
        "      <td> 0</td>\n",
        "      <td> 0</td>\n",
        "      <td> 0</td>\n",
        "      <td> 0</td>\n",
        "      <td> 0</td>\n",
        "      <td> 0</td>\n",
        "      <td> 0</td>\n",
        "      <td> 0</td>\n",
        "      <td> 0</td>\n",
        "      <td> 0</td>\n",
        "      <td> 0</td>\n",
        "      <td> 1</td>\n",
        "      <td> 0</td>\n",
        "      <td> 0</td>\n",
        "      <td> 0</td>\n",
        "      <td> 0</td>\n",
        "      <td> 0</td>\n",
        "      <td> 1</td>\n",
        "      <td> 0</td>\n",
        "    </tr>\n",
        "    <tr>\n",
        "      <th>2</th>\n",
        "      <td>  4019</td>\n",
        "      <td> 1082</td>\n",
        "      <td>  591</td>\n",
        "      <td>  37</td>\n",
        "      <td>  67</td>\n",
        "      <td>  303</td>\n",
        "      <td> 30</td>\n",
        "      <td>  447</td>\n",
        "      <td>   1</td>\n",
        "      <td> 392</td>\n",
        "      <td>  944</td>\n",
        "      <td>  8</td>\n",
        "      <td> 6256</td>\n",
        "      <td> 1978</td>\n",
        "      <td> 767</td>\n",
        "      <td>  944</td>\n",
        "      <td> 3.765333</td>\n",
        "      <td> 39</td>\n",
        "      <td> 34</td>\n",
        "      <td> 43</td>\n",
        "      <td>  924</td>\n",
        "      <td> 1066</td>\n",
        "      <td>   6022.0</td>\n",
        "      <td>  1748</td>\n",
        "      <td> 158</td>\n",
        "      <td> 371</td>\n",
        "      <td> 0</td>\n",
        "      <td> 0</td>\n",
        "      <td> 0</td>\n",
        "      <td> 0</td>\n",
        "      <td> 0</td>\n",
        "      <td> 0</td>\n",
        "      <td> 0</td>\n",
        "      <td> 1</td>\n",
        "      <td> 0</td>\n",
        "      <td> 0</td>\n",
        "      <td> 0</td>\n",
        "      <td> 0</td>\n",
        "      <td> 0</td>\n",
        "      <td> 0</td>\n",
        "      <td> 0</td>\n",
        "      <td> 0</td>\n",
        "      <td> 0</td>\n",
        "      <td> 0</td>\n",
        "      <td> 0</td>\n",
        "      <td> 0</td>\n",
        "      <td> 0</td>\n",
        "      <td> 0</td>\n",
        "      <td> 0</td>\n",
        "      <td> 0</td>\n",
        "      <td> 0</td>\n",
        "      <td> 0</td>\n",
        "      <td> 0</td>\n",
        "      <td> 0</td>\n",
        "      <td> 1</td>\n",
        "      <td> 0</td>\n",
        "    </tr>\n",
        "    <tr>\n",
        "      <th>3</th>\n",
        "      <td>  5557</td>\n",
        "      <td> 1588</td>\n",
        "      <td>  844</td>\n",
        "      <td>   9</td>\n",
        "      <td> 154</td>\n",
        "      <td>  394</td>\n",
        "      <td> 50</td>\n",
        "      <td>  223</td>\n",
        "      <td>  18</td>\n",
        "      <td> 392</td>\n",
        "      <td>  944</td>\n",
        "      <td>  8</td>\n",
        "      <td> 6256</td>\n",
        "      <td> 1978</td>\n",
        "      <td> 767</td>\n",
        "      <td>  944</td>\n",
        "      <td> 3.765333</td>\n",
        "      <td> 39</td>\n",
        "      <td> 34</td>\n",
        "      <td> 43</td>\n",
        "      <td>  924</td>\n",
        "      <td> 1384</td>\n",
        "      <td>  23479.5</td>\n",
        "      <td>  2287</td>\n",
        "      <td> 230</td>\n",
        "      <td> 597</td>\n",
        "      <td> 0</td>\n",
        "      <td> 0</td>\n",
        "      <td> 0</td>\n",
        "      <td> 0</td>\n",
        "      <td> 0</td>\n",
        "      <td> 0</td>\n",
        "      <td> 1</td>\n",
        "      <td> 0</td>\n",
        "      <td> 0</td>\n",
        "      <td> 0</td>\n",
        "      <td> 0</td>\n",
        "      <td> 0</td>\n",
        "      <td> 0</td>\n",
        "      <td> 0</td>\n",
        "      <td> 0</td>\n",
        "      <td> 0</td>\n",
        "      <td> 0</td>\n",
        "      <td> 0</td>\n",
        "      <td> 0</td>\n",
        "      <td> 0</td>\n",
        "      <td> 0</td>\n",
        "      <td> 0</td>\n",
        "      <td> 0</td>\n",
        "      <td> 0</td>\n",
        "      <td> 0</td>\n",
        "      <td> 0</td>\n",
        "      <td> 0</td>\n",
        "      <td> 0</td>\n",
        "      <td> 1</td>\n",
        "      <td> 0</td>\n",
        "    </tr>\n",
        "    <tr>\n",
        "      <th>4</th>\n",
        "      <td>  3912</td>\n",
        "      <td>  999</td>\n",
        "      <td>  558</td>\n",
        "      <td> 130</td>\n",
        "      <td> 167</td>\n",
        "      <td>  433</td>\n",
        "      <td> 81</td>\n",
        "      <td>  918</td>\n",
        "      <td>  26</td>\n",
        "      <td> 392</td>\n",
        "      <td>  944</td>\n",
        "      <td>  8</td>\n",
        "      <td> 6256</td>\n",
        "      <td> 1978</td>\n",
        "      <td> 767</td>\n",
        "      <td>  944</td>\n",
        "      <td> 3.765333</td>\n",
        "      <td> 39</td>\n",
        "      <td> 34</td>\n",
        "      <td> 43</td>\n",
        "      <td>  924</td>\n",
        "      <td> 2201</td>\n",
        "      <td>  52930.0</td>\n",
        "      <td>  4759</td>\n",
        "      <td> 123</td>\n",
        "      <td>  36</td>\n",
        "      <td> 0</td>\n",
        "      <td> 0</td>\n",
        "      <td> 0</td>\n",
        "      <td> 0</td>\n",
        "      <td> 0</td>\n",
        "      <td> 0</td>\n",
        "      <td> 0</td>\n",
        "      <td> 0</td>\n",
        "      <td> 0</td>\n",
        "      <td> 0</td>\n",
        "      <td> 0</td>\n",
        "      <td> 0</td>\n",
        "      <td> 0</td>\n",
        "      <td> 0</td>\n",
        "      <td> 0</td>\n",
        "      <td> 0</td>\n",
        "      <td> 0</td>\n",
        "      <td> 0</td>\n",
        "      <td> 1</td>\n",
        "      <td> 0</td>\n",
        "      <td> 0</td>\n",
        "      <td> 0</td>\n",
        "      <td> 0</td>\n",
        "      <td> 0</td>\n",
        "      <td> 0</td>\n",
        "      <td> 0</td>\n",
        "      <td> 0</td>\n",
        "      <td> 0</td>\n",
        "      <td> 1</td>\n",
        "      <td> 0</td>\n",
        "    </tr>\n",
        "  </tbody>\n",
        "</table>\n",
        "</div>"
       ],
       "metadata": {},
       "output_type": "pyout",
       "prompt_number": 5,
       "text": [
        "   total_at_bats  total_hits  total_runs  total_home_runs  total_stolen_bases  \\\n",
        "0          12364        3771        2174              755                 240   \n",
        "1           1019         216          79                3                   1   \n",
        "2           4019        1082         591               37                  67   \n",
        "3           5557        1588         844                9                 154   \n",
        "4           3912         999         558              130                 167   \n",
        "\n",
        "   total_RBI  total_caught_stealing  total_hitter_strikeouts  \\\n",
        "0       2297                     73                     1383   \n",
        "1         75                      1                      177   \n",
        "2        303                     30                      447   \n",
        "3        394                     50                      223   \n",
        "4        433                     81                      918   \n",
        "\n",
        "   total_intentional_walks  total_games_pitched  total_shutouts  total_saves  \\\n",
        "0                      293                  392             944            8   \n",
        "1                       18                  482            1036           15   \n",
        "2                        1                  392             944            8   \n",
        "3                       18                  392             944            8   \n",
        "4                       26                  392             944            8   \n",
        "\n",
        "   total_outs_pitched  total_pitching_hits  total_pitching_earned_runs  \\\n",
        "0                6256                 1978                         767   \n",
        "1                8986                 2841                         917   \n",
        "2                6256                 1978                         767   \n",
        "3                6256                 1978                         767   \n",
        "4                6256                 1978                         767   \n",
        "\n",
        "   total_pitcher_strikeouts  average_ERA  total_wild_pitches  \\\n",
        "0                       944     3.765333                  39   \n",
        "1                      1036     3.733684                  26   \n",
        "2                       944     3.765333                  39   \n",
        "3                       944     3.765333                  39   \n",
        "4                       944     3.765333                  39   \n",
        "\n",
        "   total_hit_by_pitch  total_games_finished  total_runs_allowed  \\\n",
        "0                  34                    43                 924   \n",
        "1                  47                    89                1129   \n",
        "2                  34                    43                 924   \n",
        "3                  34                    43                 924   \n",
        "4                  34                    43                 924   \n",
        "\n",
        "   total_games_fielded  total_time_in_field_with_outs  total_putouts  \\\n",
        "0                 6019                       150488.0          12926   \n",
        "1                  482                        23479.5             58   \n",
        "2                 1066                         6022.0           1748   \n",
        "3                 1384                        23479.5           2287   \n",
        "4                 2201                        52930.0           4759   \n",
        "\n",
        "   total_errors  total_double_plays  teamID_BAL  teamID_BOS  teamID_BRO  \\\n",
        "0           259                 258           0           0           0   \n",
        "1            17                  17           0           0           0   \n",
        "2           158                 371           0           0           0   \n",
        "3           230                 597           0           0           0   \n",
        "4           123                  36           0           0           0   \n",
        "\n",
        "   teamID_BSN  teamID_CAL  teamID_CHA  teamID_CHN  teamID_CIN  teamID_CLE  \\\n",
        "0           0           0           0           0           0           0   \n",
        "1           0           0           0           0           0           0   \n",
        "2           0           0           0           0           1           0   \n",
        "3           0           0           0           1           0           0   \n",
        "4           0           0           0           0           0           0   \n",
        "\n",
        "   teamID_DET  teamID_HOU  teamID_KCA  teamID_LAN  teamID_MIN  teamID_ML4  \\\n",
        "0           0           0           0           0           0           0   \n",
        "1           0           0           0           0           0           0   \n",
        "2           0           0           0           0           0           0   \n",
        "3           0           0           0           0           0           0   \n",
        "4           0           0           0           0           0           0   \n",
        "\n",
        "   teamID_MON  teamID_NY1  teamID_NYA  teamID_NYN  teamID_Other  teamID_PHA  \\\n",
        "0           0           0           0           0             1           0   \n",
        "1           0           0           0           0             0           0   \n",
        "2           0           0           0           0             0           0   \n",
        "3           0           0           0           0             0           0   \n",
        "4           0           0           0           1             0           0   \n",
        "\n",
        "   teamID_PHI  teamID_PIT  teamID_SFN  teamID_SLA  teamID_SLN  teamID_WS1  \\\n",
        "0           0           0           0           0           0           0   \n",
        "1           0           1           0           0           0           0   \n",
        "2           0           0           0           0           0           0   \n",
        "3           0           0           0           0           0           0   \n",
        "4           0           0           0           0           0           0   \n",
        "\n",
        "   lgID_AL  lgID_NL  lgID_Other  \n",
        "0        0        1           0  \n",
        "1        0        1           0  \n",
        "2        0        1           0  \n",
        "3        0        1           0  \n",
        "4        0        1           0  "
       ]
      }
     ],
     "prompt_number": 5
    },
    {
     "cell_type": "code",
     "collapsed": false,
     "input": [
      "#now, let's find features with no variance \n",
      "no_variation = find_zero_var(explanatory_df)\n",
      "print no_variation\n",
      "explanatory_df.drop(no_variation['toDelete'], inplace = True)\n",
      "#Nothing to delete"
     ],
     "language": "python",
     "metadata": {},
     "outputs": [
      {
       "output_type": "stream",
       "stream": "stdout",
       "text": [
        "{'toKeep': ['total_at_bats', 'total_hits', 'total_runs', 'total_home_runs', 'total_stolen_bases', 'total_RBI', 'total_caught_stealing', 'total_hitter_strikeouts', 'total_intentional_walks', 'total_games_pitched', 'total_shutouts', 'total_saves', 'total_outs_pitched', 'total_pitching_hits', 'total_pitching_earned_runs', 'total_pitcher_strikeouts', 'average_ERA', 'total_wild_pitches', 'total_hit_by_pitch', 'total_games_finished', 'total_runs_allowed', 'total_games_fielded', 'total_time_in_field_with_outs', 'total_putouts', 'total_errors', 'total_double_plays', u'teamID_BAL', u'teamID_BOS', u'teamID_BRO', u'teamID_BSN', u'teamID_CAL', u'teamID_CHA', u'teamID_CHN', u'teamID_CIN', u'teamID_CLE', u'teamID_DET', u'teamID_HOU', u'teamID_KCA', u'teamID_LAN', u'teamID_MIN', u'teamID_ML4', u'teamID_MON', u'teamID_NY1', u'teamID_NYA', u'teamID_NYN', 'teamID_Other', u'teamID_PHA', u'teamID_PHI', u'teamID_PIT', u'teamID_SFN', u'teamID_SLA', u'teamID_SLN', u'teamID_WS1', u'lgID_AL', u'lgID_NL', 'lgID_Other'], 'toDelete': []}\n"
       ]
      }
     ],
     "prompt_number": 6
    },
    {
     "cell_type": "code",
     "collapsed": false,
     "input": [
      "# deleting perfect correlation\n",
      "no_correlation = find_perfect_corr(explanatory_df)\n",
      "print no_correlation\n",
      "explanatory_df.drop(no_correlation['toRemove'], 1, inplace = True)\n",
      "#Nothing to Remove"
     ],
     "language": "python",
     "metadata": {},
     "outputs": [
      {
       "output_type": "stream",
       "stream": "stdout",
       "text": [
        "{'corrGroupings': [['total_pitcher_strikeouts', 'total_shutouts']], 'toRemove': ['total_shutouts']}\n"
       ]
      }
     ],
     "prompt_number": 7
    },
    {
     "cell_type": "code",
     "collapsed": false,
     "input": [
      "# scaling data\n",
      "scaler = preprocessing.StandardScaler()\n",
      "scaler.fit(explanatory_df)\n",
      "explanatory_df = pandas.DataFrame(scaler.transform(explanatory_df), columns = explanatory_df.columns)"
     ],
     "language": "python",
     "metadata": {},
     "outputs": [
      {
       "ename": "ValueError",
       "evalue": "Input contains NaN, infinity or a value too large for dtype('float64').",
       "output_type": "pyerr",
       "traceback": [
        "\u001b[1;31m---------------------------------------------------------------------------\u001b[0m\n\u001b[1;31mValueError\u001b[0m                                Traceback (most recent call last)",
        "\u001b[1;32m<ipython-input-8-308c78760149>\u001b[0m in \u001b[0;36m<module>\u001b[1;34m()\u001b[0m\n\u001b[0;32m      1\u001b[0m \u001b[1;31m# scaling data\u001b[0m\u001b[1;33m\u001b[0m\u001b[1;33m\u001b[0m\u001b[0m\n\u001b[0;32m      2\u001b[0m \u001b[0mscaler\u001b[0m \u001b[1;33m=\u001b[0m \u001b[0mpreprocessing\u001b[0m\u001b[1;33m.\u001b[0m\u001b[0mStandardScaler\u001b[0m\u001b[1;33m(\u001b[0m\u001b[1;33m)\u001b[0m\u001b[1;33m\u001b[0m\u001b[0m\n\u001b[1;32m----> 3\u001b[1;33m \u001b[0mscaler\u001b[0m\u001b[1;33m.\u001b[0m\u001b[0mfit\u001b[0m\u001b[1;33m(\u001b[0m\u001b[0mexplanatory_df\u001b[0m\u001b[1;33m)\u001b[0m\u001b[1;33m\u001b[0m\u001b[0m\n\u001b[0m\u001b[0;32m      4\u001b[0m \u001b[0mexplanatory_df\u001b[0m \u001b[1;33m=\u001b[0m \u001b[0mpandas\u001b[0m\u001b[1;33m.\u001b[0m\u001b[0mDataFrame\u001b[0m\u001b[1;33m(\u001b[0m\u001b[0mscaler\u001b[0m\u001b[1;33m.\u001b[0m\u001b[0mtransform\u001b[0m\u001b[1;33m(\u001b[0m\u001b[0mexplanatory_df\u001b[0m\u001b[1;33m)\u001b[0m\u001b[1;33m,\u001b[0m \u001b[0mcolumns\u001b[0m \u001b[1;33m=\u001b[0m \u001b[0mexplanatory_df\u001b[0m\u001b[1;33m.\u001b[0m\u001b[0mcolumns\u001b[0m\u001b[1;33m)\u001b[0m\u001b[1;33m\u001b[0m\u001b[0m\n",
        "\u001b[1;32mC:\\Users\\Teresa\\Anaconda\\lib\\site-packages\\sklearn\\preprocessing\\data.pyc\u001b[0m in \u001b[0;36mfit\u001b[1;34m(self, X, y)\u001b[0m\n\u001b[0;32m    313\u001b[0m             \u001b[0mused\u001b[0m \u001b[1;32mfor\u001b[0m \u001b[0mlater\u001b[0m \u001b[0mscaling\u001b[0m \u001b[0malong\u001b[0m \u001b[0mthe\u001b[0m \u001b[0mfeatures\u001b[0m \u001b[0maxis\u001b[0m\u001b[1;33m.\u001b[0m\u001b[1;33m\u001b[0m\u001b[0m\n\u001b[0;32m    314\u001b[0m         \"\"\"\n\u001b[1;32m--> 315\u001b[1;33m         \u001b[0mX\u001b[0m \u001b[1;33m=\u001b[0m \u001b[0mcheck_arrays\u001b[0m\u001b[1;33m(\u001b[0m\u001b[0mX\u001b[0m\u001b[1;33m,\u001b[0m \u001b[0mcopy\u001b[0m\u001b[1;33m=\u001b[0m\u001b[0mself\u001b[0m\u001b[1;33m.\u001b[0m\u001b[0mcopy\u001b[0m\u001b[1;33m,\u001b[0m \u001b[0msparse_format\u001b[0m\u001b[1;33m=\u001b[0m\u001b[1;34m\"csr\"\u001b[0m\u001b[1;33m)\u001b[0m\u001b[1;33m[\u001b[0m\u001b[1;36m0\u001b[0m\u001b[1;33m]\u001b[0m\u001b[1;33m\u001b[0m\u001b[0m\n\u001b[0m\u001b[0;32m    316\u001b[0m         \u001b[1;32mif\u001b[0m \u001b[0mwarn_if_not_float\u001b[0m\u001b[1;33m(\u001b[0m\u001b[0mX\u001b[0m\u001b[1;33m,\u001b[0m \u001b[0mestimator\u001b[0m\u001b[1;33m=\u001b[0m\u001b[0mself\u001b[0m\u001b[1;33m)\u001b[0m\u001b[1;33m:\u001b[0m\u001b[1;33m\u001b[0m\u001b[0m\n\u001b[0;32m    317\u001b[0m             \u001b[0mX\u001b[0m \u001b[1;33m=\u001b[0m \u001b[0mX\u001b[0m\u001b[1;33m.\u001b[0m\u001b[0mastype\u001b[0m\u001b[1;33m(\u001b[0m\u001b[0mnp\u001b[0m\u001b[1;33m.\u001b[0m\u001b[0mfloat\u001b[0m\u001b[1;33m)\u001b[0m\u001b[1;33m\u001b[0m\u001b[0m\n",
        "\u001b[1;32mC:\\Users\\Teresa\\Anaconda\\lib\\site-packages\\sklearn\\utils\\validation.pyc\u001b[0m in \u001b[0;36mcheck_arrays\u001b[1;34m(*arrays, **options)\u001b[0m\n\u001b[0;32m    281\u001b[0m                     \u001b[0marray\u001b[0m \u001b[1;33m=\u001b[0m \u001b[0mnp\u001b[0m\u001b[1;33m.\u001b[0m\u001b[0masarray\u001b[0m\u001b[1;33m(\u001b[0m\u001b[0marray\u001b[0m\u001b[1;33m,\u001b[0m \u001b[0mdtype\u001b[0m\u001b[1;33m=\u001b[0m\u001b[0mdtype\u001b[0m\u001b[1;33m)\u001b[0m\u001b[1;33m\u001b[0m\u001b[0m\n\u001b[0;32m    282\u001b[0m                 \u001b[1;32mif\u001b[0m \u001b[1;32mnot\u001b[0m \u001b[0mallow_nans\u001b[0m\u001b[1;33m:\u001b[0m\u001b[1;33m\u001b[0m\u001b[0m\n\u001b[1;32m--> 283\u001b[1;33m                     \u001b[0m_assert_all_finite\u001b[0m\u001b[1;33m(\u001b[0m\u001b[0marray\u001b[0m\u001b[1;33m)\u001b[0m\u001b[1;33m\u001b[0m\u001b[0m\n\u001b[0m\u001b[0;32m    284\u001b[0m \u001b[1;33m\u001b[0m\u001b[0m\n\u001b[0;32m    285\u001b[0m             \u001b[1;32mif\u001b[0m \u001b[1;32mnot\u001b[0m \u001b[0mallow_nd\u001b[0m \u001b[1;32mand\u001b[0m \u001b[0marray\u001b[0m\u001b[1;33m.\u001b[0m\u001b[0mndim\u001b[0m \u001b[1;33m>=\u001b[0m \u001b[1;36m3\u001b[0m\u001b[1;33m:\u001b[0m\u001b[1;33m\u001b[0m\u001b[0m\n",
        "\u001b[1;32mC:\\Users\\Teresa\\Anaconda\\lib\\site-packages\\sklearn\\utils\\validation.pyc\u001b[0m in \u001b[0;36m_assert_all_finite\u001b[1;34m(X)\u001b[0m\n\u001b[0;32m     41\u001b[0m             and not np.isfinite(X).all()):\n\u001b[0;32m     42\u001b[0m         raise ValueError(\"Input contains NaN, infinity\"\n\u001b[1;32m---> 43\u001b[1;33m                          \" or a value too large for %r.\" % X.dtype)\n\u001b[0m\u001b[0;32m     44\u001b[0m \u001b[1;33m\u001b[0m\u001b[0m\n\u001b[0;32m     45\u001b[0m \u001b[1;33m\u001b[0m\u001b[0m\n",
        "\u001b[1;31mValueError\u001b[0m: Input contains NaN, infinity or a value too large for dtype('float64')."
       ]
      }
     ],
     "prompt_number": 8
    },
    {
     "cell_type": "code",
     "collapsed": false,
     "input": [
      "explanatory_df.isnull().sum()"
     ],
     "language": "python",
     "metadata": {},
     "outputs": [
      {
       "metadata": {},
       "output_type": "pyout",
       "prompt_number": 9,
       "text": [
        "total_at_bats                    38\n",
        "total_hits                       38\n",
        "total_runs                       38\n",
        "total_home_runs                  38\n",
        "total_stolen_bases               38\n",
        "total_RBI                        38\n",
        "total_caught_stealing            38\n",
        "total_hitter_strikeouts          38\n",
        "total_intentional_walks          38\n",
        "total_games_pitched              38\n",
        "total_saves                      38\n",
        "total_outs_pitched               38\n",
        "total_pitching_hits              38\n",
        "total_pitching_earned_runs       38\n",
        "total_pitcher_strikeouts         38\n",
        "average_ERA                      38\n",
        "total_wild_pitches               38\n",
        "total_hit_by_pitch               38\n",
        "total_games_finished             38\n",
        "total_runs_allowed               38\n",
        "total_games_fielded              38\n",
        "total_time_in_field_with_outs    38\n",
        "total_putouts                    38\n",
        "total_errors                     38\n",
        "total_double_plays               38\n",
        "teamID_BAL                       38\n",
        "teamID_BOS                       38\n",
        "teamID_BRO                       38\n",
        "teamID_BSN                       38\n",
        "teamID_CAL                       38\n",
        "teamID_CHA                       38\n",
        "teamID_CHN                       38\n",
        "teamID_CIN                       38\n",
        "teamID_CLE                       38\n",
        "teamID_DET                       38\n",
        "teamID_HOU                       38\n",
        "teamID_KCA                       38\n",
        "teamID_LAN                       38\n",
        "teamID_MIN                       38\n",
        "teamID_ML4                       38\n",
        "teamID_MON                       38\n",
        "teamID_NY1                       38\n",
        "teamID_NYA                       38\n",
        "teamID_NYN                       38\n",
        "teamID_Other                     38\n",
        "teamID_PHA                       38\n",
        "teamID_PHI                       38\n",
        "teamID_PIT                       38\n",
        "teamID_SFN                       38\n",
        "teamID_SLA                       38\n",
        "teamID_SLN                       38\n",
        "teamID_WS1                       38\n",
        "lgID_AL                          38\n",
        "lgID_NL                          38\n",
        "lgID_Other                       38\n",
        "Length: 55, dtype: int64"
       ]
      }
     ],
     "prompt_number": 9
    },
    {
     "cell_type": "code",
     "collapsed": false,
     "input": [
      "explanatory_df[explanatory_df.total_at_bats.isnull()]\n",
      "#We see that the nulls come from the team_id and league_id variables....safely remove?"
     ],
     "language": "python",
     "metadata": {},
     "outputs": [
      {
       "html": [
        "<div style=\"max-height:1000px;max-width:1500px;overflow:auto;\">\n",
        "<table border=\"1\" class=\"dataframe\">\n",
        "  <thead>\n",
        "    <tr style=\"text-align: right;\">\n",
        "      <th></th>\n",
        "      <th>total_at_bats</th>\n",
        "      <th>total_hits</th>\n",
        "      <th>total_runs</th>\n",
        "      <th>total_home_runs</th>\n",
        "      <th>total_stolen_bases</th>\n",
        "      <th>total_RBI</th>\n",
        "      <th>total_caught_stealing</th>\n",
        "      <th>total_hitter_strikeouts</th>\n",
        "      <th>total_intentional_walks</th>\n",
        "      <th>total_games_pitched</th>\n",
        "      <th>total_saves</th>\n",
        "      <th>total_outs_pitched</th>\n",
        "      <th>total_pitching_hits</th>\n",
        "      <th>total_pitching_earned_runs</th>\n",
        "      <th>total_pitcher_strikeouts</th>\n",
        "      <th>average_ERA</th>\n",
        "      <th>total_wild_pitches</th>\n",
        "      <th>total_hit_by_pitch</th>\n",
        "      <th>total_games_finished</th>\n",
        "      <th>total_runs_allowed</th>\n",
        "      <th>total_games_fielded</th>\n",
        "      <th>total_time_in_field_with_outs</th>\n",
        "      <th>total_putouts</th>\n",
        "      <th>total_errors</th>\n",
        "      <th>total_double_plays</th>\n",
        "      <th>teamID_BAL</th>\n",
        "      <th>teamID_BOS</th>\n",
        "      <th>teamID_BRO</th>\n",
        "      <th>teamID_BSN</th>\n",
        "      <th>teamID_CAL</th>\n",
        "      <th>teamID_CHA</th>\n",
        "      <th>teamID_CHN</th>\n",
        "      <th>teamID_CIN</th>\n",
        "      <th>teamID_CLE</th>\n",
        "      <th>teamID_DET</th>\n",
        "      <th>teamID_HOU</th>\n",
        "      <th>teamID_KCA</th>\n",
        "      <th>teamID_LAN</th>\n",
        "      <th>teamID_MIN</th>\n",
        "      <th>teamID_ML4</th>\n",
        "      <th>teamID_MON</th>\n",
        "      <th>teamID_NY1</th>\n",
        "      <th>teamID_NYA</th>\n",
        "      <th>teamID_NYN</th>\n",
        "      <th>teamID_Other</th>\n",
        "      <th>teamID_PHA</th>\n",
        "      <th>teamID_PHI</th>\n",
        "      <th>teamID_PIT</th>\n",
        "      <th>teamID_SFN</th>\n",
        "      <th>teamID_SLA</th>\n",
        "      <th>teamID_SLN</th>\n",
        "      <th>teamID_WS1</th>\n",
        "      <th>lgID_AL</th>\n",
        "      <th>lgID_NL</th>\n",
        "      <th>lgID_Other</th>\n",
        "    </tr>\n",
        "  </thead>\n",
        "  <tbody>\n",
        "    <tr>\n",
        "      <th>908</th>\n",
        "      <td>NaN</td>\n",
        "      <td>NaN</td>\n",
        "      <td>NaN</td>\n",
        "      <td>NaN</td>\n",
        "      <td>NaN</td>\n",
        "      <td>NaN</td>\n",
        "      <td>NaN</td>\n",
        "      <td>NaN</td>\n",
        "      <td>NaN</td>\n",
        "      <td>NaN</td>\n",
        "      <td>NaN</td>\n",
        "      <td>NaN</td>\n",
        "      <td>NaN</td>\n",
        "      <td>NaN</td>\n",
        "      <td>NaN</td>\n",
        "      <td>NaN</td>\n",
        "      <td>NaN</td>\n",
        "      <td>NaN</td>\n",
        "      <td>NaN</td>\n",
        "      <td>NaN</td>\n",
        "      <td>NaN</td>\n",
        "      <td>NaN</td>\n",
        "      <td>NaN</td>\n",
        "      <td>NaN</td>\n",
        "      <td>NaN</td>\n",
        "      <td> 0</td>\n",
        "      <td> 0</td>\n",
        "      <td> 0</td>\n",
        "      <td> 0</td>\n",
        "      <td> 0</td>\n",
        "      <td> 0</td>\n",
        "      <td> 0</td>\n",
        "      <td> 0</td>\n",
        "      <td> 0</td>\n",
        "      <td> 0</td>\n",
        "      <td> 0</td>\n",
        "      <td> 1</td>\n",
        "      <td> 0</td>\n",
        "      <td> 0</td>\n",
        "      <td> 0</td>\n",
        "      <td> 0</td>\n",
        "      <td> 0</td>\n",
        "      <td> 0</td>\n",
        "      <td> 0</td>\n",
        "      <td> 0</td>\n",
        "      <td> 0</td>\n",
        "      <td> 0</td>\n",
        "      <td> 0</td>\n",
        "      <td> 0</td>\n",
        "      <td> 0</td>\n",
        "      <td> 0</td>\n",
        "      <td> 0</td>\n",
        "      <td> 1</td>\n",
        "      <td> 0</td>\n",
        "      <td> 0</td>\n",
        "    </tr>\n",
        "    <tr>\n",
        "      <th>909</th>\n",
        "      <td>NaN</td>\n",
        "      <td>NaN</td>\n",
        "      <td>NaN</td>\n",
        "      <td>NaN</td>\n",
        "      <td>NaN</td>\n",
        "      <td>NaN</td>\n",
        "      <td>NaN</td>\n",
        "      <td>NaN</td>\n",
        "      <td>NaN</td>\n",
        "      <td>NaN</td>\n",
        "      <td>NaN</td>\n",
        "      <td>NaN</td>\n",
        "      <td>NaN</td>\n",
        "      <td>NaN</td>\n",
        "      <td>NaN</td>\n",
        "      <td>NaN</td>\n",
        "      <td>NaN</td>\n",
        "      <td>NaN</td>\n",
        "      <td>NaN</td>\n",
        "      <td>NaN</td>\n",
        "      <td>NaN</td>\n",
        "      <td>NaN</td>\n",
        "      <td>NaN</td>\n",
        "      <td>NaN</td>\n",
        "      <td>NaN</td>\n",
        "      <td> 0</td>\n",
        "      <td> 0</td>\n",
        "      <td> 0</td>\n",
        "      <td> 0</td>\n",
        "      <td> 0</td>\n",
        "      <td> 0</td>\n",
        "      <td> 0</td>\n",
        "      <td> 0</td>\n",
        "      <td> 0</td>\n",
        "      <td> 1</td>\n",
        "      <td> 0</td>\n",
        "      <td> 0</td>\n",
        "      <td> 0</td>\n",
        "      <td> 0</td>\n",
        "      <td> 0</td>\n",
        "      <td> 0</td>\n",
        "      <td> 0</td>\n",
        "      <td> 0</td>\n",
        "      <td> 0</td>\n",
        "      <td> 0</td>\n",
        "      <td> 0</td>\n",
        "      <td> 0</td>\n",
        "      <td> 0</td>\n",
        "      <td> 0</td>\n",
        "      <td> 0</td>\n",
        "      <td> 0</td>\n",
        "      <td> 0</td>\n",
        "      <td> 1</td>\n",
        "      <td> 0</td>\n",
        "      <td> 0</td>\n",
        "    </tr>\n",
        "    <tr>\n",
        "      <th>910</th>\n",
        "      <td>NaN</td>\n",
        "      <td>NaN</td>\n",
        "      <td>NaN</td>\n",
        "      <td>NaN</td>\n",
        "      <td>NaN</td>\n",
        "      <td>NaN</td>\n",
        "      <td>NaN</td>\n",
        "      <td>NaN</td>\n",
        "      <td>NaN</td>\n",
        "      <td>NaN</td>\n",
        "      <td>NaN</td>\n",
        "      <td>NaN</td>\n",
        "      <td>NaN</td>\n",
        "      <td>NaN</td>\n",
        "      <td>NaN</td>\n",
        "      <td>NaN</td>\n",
        "      <td>NaN</td>\n",
        "      <td>NaN</td>\n",
        "      <td>NaN</td>\n",
        "      <td>NaN</td>\n",
        "      <td>NaN</td>\n",
        "      <td>NaN</td>\n",
        "      <td>NaN</td>\n",
        "      <td>NaN</td>\n",
        "      <td>NaN</td>\n",
        "      <td> 0</td>\n",
        "      <td> 0</td>\n",
        "      <td> 0</td>\n",
        "      <td> 0</td>\n",
        "      <td> 0</td>\n",
        "      <td> 0</td>\n",
        "      <td> 0</td>\n",
        "      <td> 0</td>\n",
        "      <td> 0</td>\n",
        "      <td> 0</td>\n",
        "      <td> 0</td>\n",
        "      <td> 0</td>\n",
        "      <td> 0</td>\n",
        "      <td> 0</td>\n",
        "      <td> 0</td>\n",
        "      <td> 0</td>\n",
        "      <td> 0</td>\n",
        "      <td> 1</td>\n",
        "      <td> 0</td>\n",
        "      <td> 0</td>\n",
        "      <td> 0</td>\n",
        "      <td> 0</td>\n",
        "      <td> 0</td>\n",
        "      <td> 0</td>\n",
        "      <td> 0</td>\n",
        "      <td> 0</td>\n",
        "      <td> 0</td>\n",
        "      <td> 1</td>\n",
        "      <td> 0</td>\n",
        "      <td> 0</td>\n",
        "    </tr>\n",
        "    <tr>\n",
        "      <th>911</th>\n",
        "      <td>NaN</td>\n",
        "      <td>NaN</td>\n",
        "      <td>NaN</td>\n",
        "      <td>NaN</td>\n",
        "      <td>NaN</td>\n",
        "      <td>NaN</td>\n",
        "      <td>NaN</td>\n",
        "      <td>NaN</td>\n",
        "      <td>NaN</td>\n",
        "      <td>NaN</td>\n",
        "      <td>NaN</td>\n",
        "      <td>NaN</td>\n",
        "      <td>NaN</td>\n",
        "      <td>NaN</td>\n",
        "      <td>NaN</td>\n",
        "      <td>NaN</td>\n",
        "      <td>NaN</td>\n",
        "      <td>NaN</td>\n",
        "      <td>NaN</td>\n",
        "      <td>NaN</td>\n",
        "      <td>NaN</td>\n",
        "      <td>NaN</td>\n",
        "      <td>NaN</td>\n",
        "      <td>NaN</td>\n",
        "      <td>NaN</td>\n",
        "      <td> 0</td>\n",
        "      <td> 0</td>\n",
        "      <td> 0</td>\n",
        "      <td> 0</td>\n",
        "      <td> 0</td>\n",
        "      <td> 0</td>\n",
        "      <td> 0</td>\n",
        "      <td> 0</td>\n",
        "      <td> 0</td>\n",
        "      <td> 0</td>\n",
        "      <td> 0</td>\n",
        "      <td> 0</td>\n",
        "      <td> 0</td>\n",
        "      <td> 0</td>\n",
        "      <td> 0</td>\n",
        "      <td> 0</td>\n",
        "      <td> 0</td>\n",
        "      <td> 0</td>\n",
        "      <td> 0</td>\n",
        "      <td> 1</td>\n",
        "      <td> 0</td>\n",
        "      <td> 0</td>\n",
        "      <td> 0</td>\n",
        "      <td> 0</td>\n",
        "      <td> 0</td>\n",
        "      <td> 0</td>\n",
        "      <td> 0</td>\n",
        "      <td> 0</td>\n",
        "      <td> 0</td>\n",
        "      <td> 1</td>\n",
        "    </tr>\n",
        "    <tr>\n",
        "      <th>912</th>\n",
        "      <td>NaN</td>\n",
        "      <td>NaN</td>\n",
        "      <td>NaN</td>\n",
        "      <td>NaN</td>\n",
        "      <td>NaN</td>\n",
        "      <td>NaN</td>\n",
        "      <td>NaN</td>\n",
        "      <td>NaN</td>\n",
        "      <td>NaN</td>\n",
        "      <td>NaN</td>\n",
        "      <td>NaN</td>\n",
        "      <td>NaN</td>\n",
        "      <td>NaN</td>\n",
        "      <td>NaN</td>\n",
        "      <td>NaN</td>\n",
        "      <td>NaN</td>\n",
        "      <td>NaN</td>\n",
        "      <td>NaN</td>\n",
        "      <td>NaN</td>\n",
        "      <td>NaN</td>\n",
        "      <td>NaN</td>\n",
        "      <td>NaN</td>\n",
        "      <td>NaN</td>\n",
        "      <td>NaN</td>\n",
        "      <td>NaN</td>\n",
        "      <td> 0</td>\n",
        "      <td> 0</td>\n",
        "      <td> 0</td>\n",
        "      <td> 0</td>\n",
        "      <td> 0</td>\n",
        "      <td> 1</td>\n",
        "      <td> 0</td>\n",
        "      <td> 0</td>\n",
        "      <td> 0</td>\n",
        "      <td> 0</td>\n",
        "      <td> 0</td>\n",
        "      <td> 0</td>\n",
        "      <td> 0</td>\n",
        "      <td> 0</td>\n",
        "      <td> 0</td>\n",
        "      <td> 0</td>\n",
        "      <td> 0</td>\n",
        "      <td> 0</td>\n",
        "      <td> 0</td>\n",
        "      <td> 0</td>\n",
        "      <td> 0</td>\n",
        "      <td> 0</td>\n",
        "      <td> 0</td>\n",
        "      <td> 0</td>\n",
        "      <td> 0</td>\n",
        "      <td> 0</td>\n",
        "      <td> 0</td>\n",
        "      <td> 1</td>\n",
        "      <td> 0</td>\n",
        "      <td> 0</td>\n",
        "    </tr>\n",
        "    <tr>\n",
        "      <th>913</th>\n",
        "      <td>NaN</td>\n",
        "      <td>NaN</td>\n",
        "      <td>NaN</td>\n",
        "      <td>NaN</td>\n",
        "      <td>NaN</td>\n",
        "      <td>NaN</td>\n",
        "      <td>NaN</td>\n",
        "      <td>NaN</td>\n",
        "      <td>NaN</td>\n",
        "      <td>NaN</td>\n",
        "      <td>NaN</td>\n",
        "      <td>NaN</td>\n",
        "      <td>NaN</td>\n",
        "      <td>NaN</td>\n",
        "      <td>NaN</td>\n",
        "      <td>NaN</td>\n",
        "      <td>NaN</td>\n",
        "      <td>NaN</td>\n",
        "      <td>NaN</td>\n",
        "      <td>NaN</td>\n",
        "      <td>NaN</td>\n",
        "      <td>NaN</td>\n",
        "      <td>NaN</td>\n",
        "      <td>NaN</td>\n",
        "      <td>NaN</td>\n",
        "      <td> 0</td>\n",
        "      <td> 0</td>\n",
        "      <td> 0</td>\n",
        "      <td> 0</td>\n",
        "      <td> 0</td>\n",
        "      <td> 0</td>\n",
        "      <td> 1</td>\n",
        "      <td> 0</td>\n",
        "      <td> 0</td>\n",
        "      <td> 0</td>\n",
        "      <td> 0</td>\n",
        "      <td> 0</td>\n",
        "      <td> 0</td>\n",
        "      <td> 0</td>\n",
        "      <td> 0</td>\n",
        "      <td> 0</td>\n",
        "      <td> 0</td>\n",
        "      <td> 0</td>\n",
        "      <td> 0</td>\n",
        "      <td> 0</td>\n",
        "      <td> 0</td>\n",
        "      <td> 0</td>\n",
        "      <td> 0</td>\n",
        "      <td> 0</td>\n",
        "      <td> 0</td>\n",
        "      <td> 0</td>\n",
        "      <td> 0</td>\n",
        "      <td> 0</td>\n",
        "      <td> 1</td>\n",
        "      <td> 0</td>\n",
        "    </tr>\n",
        "    <tr>\n",
        "      <th>914</th>\n",
        "      <td>NaN</td>\n",
        "      <td>NaN</td>\n",
        "      <td>NaN</td>\n",
        "      <td>NaN</td>\n",
        "      <td>NaN</td>\n",
        "      <td>NaN</td>\n",
        "      <td>NaN</td>\n",
        "      <td>NaN</td>\n",
        "      <td>NaN</td>\n",
        "      <td>NaN</td>\n",
        "      <td>NaN</td>\n",
        "      <td>NaN</td>\n",
        "      <td>NaN</td>\n",
        "      <td>NaN</td>\n",
        "      <td>NaN</td>\n",
        "      <td>NaN</td>\n",
        "      <td>NaN</td>\n",
        "      <td>NaN</td>\n",
        "      <td>NaN</td>\n",
        "      <td>NaN</td>\n",
        "      <td>NaN</td>\n",
        "      <td>NaN</td>\n",
        "      <td>NaN</td>\n",
        "      <td>NaN</td>\n",
        "      <td>NaN</td>\n",
        "      <td> 0</td>\n",
        "      <td> 0</td>\n",
        "      <td> 0</td>\n",
        "      <td> 0</td>\n",
        "      <td> 0</td>\n",
        "      <td> 0</td>\n",
        "      <td> 0</td>\n",
        "      <td> 0</td>\n",
        "      <td> 0</td>\n",
        "      <td> 0</td>\n",
        "      <td> 0</td>\n",
        "      <td> 0</td>\n",
        "      <td> 0</td>\n",
        "      <td> 0</td>\n",
        "      <td> 0</td>\n",
        "      <td> 0</td>\n",
        "      <td> 0</td>\n",
        "      <td> 0</td>\n",
        "      <td> 0</td>\n",
        "      <td> 0</td>\n",
        "      <td> 0</td>\n",
        "      <td> 1</td>\n",
        "      <td> 0</td>\n",
        "      <td> 0</td>\n",
        "      <td> 0</td>\n",
        "      <td> 0</td>\n",
        "      <td> 0</td>\n",
        "      <td> 0</td>\n",
        "      <td> 1</td>\n",
        "      <td> 0</td>\n",
        "    </tr>\n",
        "    <tr>\n",
        "      <th>916</th>\n",
        "      <td>NaN</td>\n",
        "      <td>NaN</td>\n",
        "      <td>NaN</td>\n",
        "      <td>NaN</td>\n",
        "      <td>NaN</td>\n",
        "      <td>NaN</td>\n",
        "      <td>NaN</td>\n",
        "      <td>NaN</td>\n",
        "      <td>NaN</td>\n",
        "      <td>NaN</td>\n",
        "      <td>NaN</td>\n",
        "      <td>NaN</td>\n",
        "      <td>NaN</td>\n",
        "      <td>NaN</td>\n",
        "      <td>NaN</td>\n",
        "      <td>NaN</td>\n",
        "      <td>NaN</td>\n",
        "      <td>NaN</td>\n",
        "      <td>NaN</td>\n",
        "      <td>NaN</td>\n",
        "      <td>NaN</td>\n",
        "      <td>NaN</td>\n",
        "      <td>NaN</td>\n",
        "      <td>NaN</td>\n",
        "      <td>NaN</td>\n",
        "      <td> 0</td>\n",
        "      <td> 0</td>\n",
        "      <td> 0</td>\n",
        "      <td> 0</td>\n",
        "      <td> 0</td>\n",
        "      <td> 0</td>\n",
        "      <td> 0</td>\n",
        "      <td> 0</td>\n",
        "      <td> 0</td>\n",
        "      <td> 0</td>\n",
        "      <td> 0</td>\n",
        "      <td> 0</td>\n",
        "      <td> 0</td>\n",
        "      <td> 0</td>\n",
        "      <td> 0</td>\n",
        "      <td> 0</td>\n",
        "      <td> 0</td>\n",
        "      <td> 0</td>\n",
        "      <td> 0</td>\n",
        "      <td> 0</td>\n",
        "      <td> 0</td>\n",
        "      <td> 0</td>\n",
        "      <td> 0</td>\n",
        "      <td> 0</td>\n",
        "      <td> 1</td>\n",
        "      <td> 0</td>\n",
        "      <td> 0</td>\n",
        "      <td> 1</td>\n",
        "      <td> 0</td>\n",
        "      <td> 0</td>\n",
        "    </tr>\n",
        "    <tr>\n",
        "      <th>917</th>\n",
        "      <td>NaN</td>\n",
        "      <td>NaN</td>\n",
        "      <td>NaN</td>\n",
        "      <td>NaN</td>\n",
        "      <td>NaN</td>\n",
        "      <td>NaN</td>\n",
        "      <td>NaN</td>\n",
        "      <td>NaN</td>\n",
        "      <td>NaN</td>\n",
        "      <td>NaN</td>\n",
        "      <td>NaN</td>\n",
        "      <td>NaN</td>\n",
        "      <td>NaN</td>\n",
        "      <td>NaN</td>\n",
        "      <td>NaN</td>\n",
        "      <td>NaN</td>\n",
        "      <td>NaN</td>\n",
        "      <td>NaN</td>\n",
        "      <td>NaN</td>\n",
        "      <td>NaN</td>\n",
        "      <td>NaN</td>\n",
        "      <td>NaN</td>\n",
        "      <td>NaN</td>\n",
        "      <td>NaN</td>\n",
        "      <td>NaN</td>\n",
        "      <td> 0</td>\n",
        "      <td> 0</td>\n",
        "      <td> 0</td>\n",
        "      <td> 0</td>\n",
        "      <td> 0</td>\n",
        "      <td> 0</td>\n",
        "      <td> 1</td>\n",
        "      <td> 0</td>\n",
        "      <td> 0</td>\n",
        "      <td> 0</td>\n",
        "      <td> 0</td>\n",
        "      <td> 0</td>\n",
        "      <td> 0</td>\n",
        "      <td> 0</td>\n",
        "      <td> 0</td>\n",
        "      <td> 0</td>\n",
        "      <td> 0</td>\n",
        "      <td> 0</td>\n",
        "      <td> 0</td>\n",
        "      <td> 0</td>\n",
        "      <td> 0</td>\n",
        "      <td> 0</td>\n",
        "      <td> 0</td>\n",
        "      <td> 0</td>\n",
        "      <td> 0</td>\n",
        "      <td> 0</td>\n",
        "      <td> 0</td>\n",
        "      <td> 0</td>\n",
        "      <td> 1</td>\n",
        "      <td> 0</td>\n",
        "    </tr>\n",
        "    <tr>\n",
        "      <th>918</th>\n",
        "      <td>NaN</td>\n",
        "      <td>NaN</td>\n",
        "      <td>NaN</td>\n",
        "      <td>NaN</td>\n",
        "      <td>NaN</td>\n",
        "      <td>NaN</td>\n",
        "      <td>NaN</td>\n",
        "      <td>NaN</td>\n",
        "      <td>NaN</td>\n",
        "      <td>NaN</td>\n",
        "      <td>NaN</td>\n",
        "      <td>NaN</td>\n",
        "      <td>NaN</td>\n",
        "      <td>NaN</td>\n",
        "      <td>NaN</td>\n",
        "      <td>NaN</td>\n",
        "      <td>NaN</td>\n",
        "      <td>NaN</td>\n",
        "      <td>NaN</td>\n",
        "      <td>NaN</td>\n",
        "      <td>NaN</td>\n",
        "      <td>NaN</td>\n",
        "      <td>NaN</td>\n",
        "      <td>NaN</td>\n",
        "      <td>NaN</td>\n",
        "      <td> 0</td>\n",
        "      <td> 1</td>\n",
        "      <td> 0</td>\n",
        "      <td> 0</td>\n",
        "      <td> 0</td>\n",
        "      <td> 0</td>\n",
        "      <td> 0</td>\n",
        "      <td> 0</td>\n",
        "      <td> 0</td>\n",
        "      <td> 0</td>\n",
        "      <td> 0</td>\n",
        "      <td> 0</td>\n",
        "      <td> 0</td>\n",
        "      <td> 0</td>\n",
        "      <td> 0</td>\n",
        "      <td> 0</td>\n",
        "      <td> 0</td>\n",
        "      <td> 0</td>\n",
        "      <td> 0</td>\n",
        "      <td> 0</td>\n",
        "      <td> 0</td>\n",
        "      <td> 0</td>\n",
        "      <td> 0</td>\n",
        "      <td> 0</td>\n",
        "      <td> 0</td>\n",
        "      <td> 0</td>\n",
        "      <td> 0</td>\n",
        "      <td> 1</td>\n",
        "      <td> 0</td>\n",
        "      <td> 0</td>\n",
        "    </tr>\n",
        "    <tr>\n",
        "      <th>919</th>\n",
        "      <td>NaN</td>\n",
        "      <td>NaN</td>\n",
        "      <td>NaN</td>\n",
        "      <td>NaN</td>\n",
        "      <td>NaN</td>\n",
        "      <td>NaN</td>\n",
        "      <td>NaN</td>\n",
        "      <td>NaN</td>\n",
        "      <td>NaN</td>\n",
        "      <td>NaN</td>\n",
        "      <td>NaN</td>\n",
        "      <td>NaN</td>\n",
        "      <td>NaN</td>\n",
        "      <td>NaN</td>\n",
        "      <td>NaN</td>\n",
        "      <td>NaN</td>\n",
        "      <td>NaN</td>\n",
        "      <td>NaN</td>\n",
        "      <td>NaN</td>\n",
        "      <td>NaN</td>\n",
        "      <td>NaN</td>\n",
        "      <td>NaN</td>\n",
        "      <td>NaN</td>\n",
        "      <td>NaN</td>\n",
        "      <td>NaN</td>\n",
        "      <td> 0</td>\n",
        "      <td> 0</td>\n",
        "      <td> 0</td>\n",
        "      <td> 1</td>\n",
        "      <td> 0</td>\n",
        "      <td> 0</td>\n",
        "      <td> 0</td>\n",
        "      <td> 0</td>\n",
        "      <td> 0</td>\n",
        "      <td> 0</td>\n",
        "      <td> 0</td>\n",
        "      <td> 0</td>\n",
        "      <td> 0</td>\n",
        "      <td> 0</td>\n",
        "      <td> 0</td>\n",
        "      <td> 0</td>\n",
        "      <td> 0</td>\n",
        "      <td> 0</td>\n",
        "      <td> 0</td>\n",
        "      <td> 0</td>\n",
        "      <td> 0</td>\n",
        "      <td> 0</td>\n",
        "      <td> 0</td>\n",
        "      <td> 0</td>\n",
        "      <td> 0</td>\n",
        "      <td> 0</td>\n",
        "      <td> 0</td>\n",
        "      <td> 0</td>\n",
        "      <td> 1</td>\n",
        "      <td> 0</td>\n",
        "    </tr>\n",
        "    <tr>\n",
        "      <th>920</th>\n",
        "      <td>NaN</td>\n",
        "      <td>NaN</td>\n",
        "      <td>NaN</td>\n",
        "      <td>NaN</td>\n",
        "      <td>NaN</td>\n",
        "      <td>NaN</td>\n",
        "      <td>NaN</td>\n",
        "      <td>NaN</td>\n",
        "      <td>NaN</td>\n",
        "      <td>NaN</td>\n",
        "      <td>NaN</td>\n",
        "      <td>NaN</td>\n",
        "      <td>NaN</td>\n",
        "      <td>NaN</td>\n",
        "      <td>NaN</td>\n",
        "      <td>NaN</td>\n",
        "      <td>NaN</td>\n",
        "      <td>NaN</td>\n",
        "      <td>NaN</td>\n",
        "      <td>NaN</td>\n",
        "      <td>NaN</td>\n",
        "      <td>NaN</td>\n",
        "      <td>NaN</td>\n",
        "      <td>NaN</td>\n",
        "      <td>NaN</td>\n",
        "      <td> 0</td>\n",
        "      <td> 0</td>\n",
        "      <td> 0</td>\n",
        "      <td> 0</td>\n",
        "      <td> 0</td>\n",
        "      <td> 0</td>\n",
        "      <td> 0</td>\n",
        "      <td> 0</td>\n",
        "      <td> 0</td>\n",
        "      <td> 0</td>\n",
        "      <td> 0</td>\n",
        "      <td> 0</td>\n",
        "      <td> 1</td>\n",
        "      <td> 0</td>\n",
        "      <td> 0</td>\n",
        "      <td> 0</td>\n",
        "      <td> 0</td>\n",
        "      <td> 0</td>\n",
        "      <td> 0</td>\n",
        "      <td> 0</td>\n",
        "      <td> 0</td>\n",
        "      <td> 0</td>\n",
        "      <td> 0</td>\n",
        "      <td> 0</td>\n",
        "      <td> 0</td>\n",
        "      <td> 0</td>\n",
        "      <td> 0</td>\n",
        "      <td> 0</td>\n",
        "      <td> 1</td>\n",
        "      <td> 0</td>\n",
        "    </tr>\n",
        "    <tr>\n",
        "      <th>921</th>\n",
        "      <td>NaN</td>\n",
        "      <td>NaN</td>\n",
        "      <td>NaN</td>\n",
        "      <td>NaN</td>\n",
        "      <td>NaN</td>\n",
        "      <td>NaN</td>\n",
        "      <td>NaN</td>\n",
        "      <td>NaN</td>\n",
        "      <td>NaN</td>\n",
        "      <td>NaN</td>\n",
        "      <td>NaN</td>\n",
        "      <td>NaN</td>\n",
        "      <td>NaN</td>\n",
        "      <td>NaN</td>\n",
        "      <td>NaN</td>\n",
        "      <td>NaN</td>\n",
        "      <td>NaN</td>\n",
        "      <td>NaN</td>\n",
        "      <td>NaN</td>\n",
        "      <td>NaN</td>\n",
        "      <td>NaN</td>\n",
        "      <td>NaN</td>\n",
        "      <td>NaN</td>\n",
        "      <td>NaN</td>\n",
        "      <td>NaN</td>\n",
        "      <td> 0</td>\n",
        "      <td> 0</td>\n",
        "      <td> 0</td>\n",
        "      <td> 0</td>\n",
        "      <td> 0</td>\n",
        "      <td> 0</td>\n",
        "      <td> 1</td>\n",
        "      <td> 0</td>\n",
        "      <td> 0</td>\n",
        "      <td> 0</td>\n",
        "      <td> 0</td>\n",
        "      <td> 0</td>\n",
        "      <td> 0</td>\n",
        "      <td> 0</td>\n",
        "      <td> 0</td>\n",
        "      <td> 0</td>\n",
        "      <td> 0</td>\n",
        "      <td> 0</td>\n",
        "      <td> 0</td>\n",
        "      <td> 0</td>\n",
        "      <td> 0</td>\n",
        "      <td> 0</td>\n",
        "      <td> 0</td>\n",
        "      <td> 0</td>\n",
        "      <td> 0</td>\n",
        "      <td> 0</td>\n",
        "      <td> 0</td>\n",
        "      <td> 0</td>\n",
        "      <td> 1</td>\n",
        "      <td> 0</td>\n",
        "    </tr>\n",
        "    <tr>\n",
        "      <th>922</th>\n",
        "      <td>NaN</td>\n",
        "      <td>NaN</td>\n",
        "      <td>NaN</td>\n",
        "      <td>NaN</td>\n",
        "      <td>NaN</td>\n",
        "      <td>NaN</td>\n",
        "      <td>NaN</td>\n",
        "      <td>NaN</td>\n",
        "      <td>NaN</td>\n",
        "      <td>NaN</td>\n",
        "      <td>NaN</td>\n",
        "      <td>NaN</td>\n",
        "      <td>NaN</td>\n",
        "      <td>NaN</td>\n",
        "      <td>NaN</td>\n",
        "      <td>NaN</td>\n",
        "      <td>NaN</td>\n",
        "      <td>NaN</td>\n",
        "      <td>NaN</td>\n",
        "      <td>NaN</td>\n",
        "      <td>NaN</td>\n",
        "      <td>NaN</td>\n",
        "      <td>NaN</td>\n",
        "      <td>NaN</td>\n",
        "      <td>NaN</td>\n",
        "      <td> 0</td>\n",
        "      <td> 0</td>\n",
        "      <td> 0</td>\n",
        "      <td> 0</td>\n",
        "      <td> 0</td>\n",
        "      <td> 0</td>\n",
        "      <td> 0</td>\n",
        "      <td> 0</td>\n",
        "      <td> 0</td>\n",
        "      <td> 0</td>\n",
        "      <td> 0</td>\n",
        "      <td> 0</td>\n",
        "      <td> 0</td>\n",
        "      <td> 0</td>\n",
        "      <td> 0</td>\n",
        "      <td> 0</td>\n",
        "      <td> 0</td>\n",
        "      <td> 0</td>\n",
        "      <td> 0</td>\n",
        "      <td> 0</td>\n",
        "      <td> 0</td>\n",
        "      <td> 1</td>\n",
        "      <td> 0</td>\n",
        "      <td> 0</td>\n",
        "      <td> 0</td>\n",
        "      <td> 0</td>\n",
        "      <td> 0</td>\n",
        "      <td> 0</td>\n",
        "      <td> 1</td>\n",
        "      <td> 0</td>\n",
        "    </tr>\n",
        "    <tr>\n",
        "      <th>923</th>\n",
        "      <td>NaN</td>\n",
        "      <td>NaN</td>\n",
        "      <td>NaN</td>\n",
        "      <td>NaN</td>\n",
        "      <td>NaN</td>\n",
        "      <td>NaN</td>\n",
        "      <td>NaN</td>\n",
        "      <td>NaN</td>\n",
        "      <td>NaN</td>\n",
        "      <td>NaN</td>\n",
        "      <td>NaN</td>\n",
        "      <td>NaN</td>\n",
        "      <td>NaN</td>\n",
        "      <td>NaN</td>\n",
        "      <td>NaN</td>\n",
        "      <td>NaN</td>\n",
        "      <td>NaN</td>\n",
        "      <td>NaN</td>\n",
        "      <td>NaN</td>\n",
        "      <td>NaN</td>\n",
        "      <td>NaN</td>\n",
        "      <td>NaN</td>\n",
        "      <td>NaN</td>\n",
        "      <td>NaN</td>\n",
        "      <td>NaN</td>\n",
        "      <td> 0</td>\n",
        "      <td> 0</td>\n",
        "      <td> 0</td>\n",
        "      <td> 0</td>\n",
        "      <td> 0</td>\n",
        "      <td> 0</td>\n",
        "      <td> 0</td>\n",
        "      <td> 0</td>\n",
        "      <td> 0</td>\n",
        "      <td> 0</td>\n",
        "      <td> 0</td>\n",
        "      <td> 0</td>\n",
        "      <td> 0</td>\n",
        "      <td> 0</td>\n",
        "      <td> 0</td>\n",
        "      <td> 0</td>\n",
        "      <td> 0</td>\n",
        "      <td> 0</td>\n",
        "      <td> 0</td>\n",
        "      <td> 0</td>\n",
        "      <td> 0</td>\n",
        "      <td> 1</td>\n",
        "      <td> 0</td>\n",
        "      <td> 0</td>\n",
        "      <td> 0</td>\n",
        "      <td> 0</td>\n",
        "      <td> 0</td>\n",
        "      <td> 0</td>\n",
        "      <td> 1</td>\n",
        "      <td> 0</td>\n",
        "    </tr>\n",
        "    <tr>\n",
        "      <th>924</th>\n",
        "      <td>NaN</td>\n",
        "      <td>NaN</td>\n",
        "      <td>NaN</td>\n",
        "      <td>NaN</td>\n",
        "      <td>NaN</td>\n",
        "      <td>NaN</td>\n",
        "      <td>NaN</td>\n",
        "      <td>NaN</td>\n",
        "      <td>NaN</td>\n",
        "      <td>NaN</td>\n",
        "      <td>NaN</td>\n",
        "      <td>NaN</td>\n",
        "      <td>NaN</td>\n",
        "      <td>NaN</td>\n",
        "      <td>NaN</td>\n",
        "      <td>NaN</td>\n",
        "      <td>NaN</td>\n",
        "      <td>NaN</td>\n",
        "      <td>NaN</td>\n",
        "      <td>NaN</td>\n",
        "      <td>NaN</td>\n",
        "      <td>NaN</td>\n",
        "      <td>NaN</td>\n",
        "      <td>NaN</td>\n",
        "      <td>NaN</td>\n",
        "      <td> 0</td>\n",
        "      <td> 0</td>\n",
        "      <td> 0</td>\n",
        "      <td> 0</td>\n",
        "      <td> 1</td>\n",
        "      <td> 0</td>\n",
        "      <td> 0</td>\n",
        "      <td> 0</td>\n",
        "      <td> 0</td>\n",
        "      <td> 0</td>\n",
        "      <td> 0</td>\n",
        "      <td> 0</td>\n",
        "      <td> 0</td>\n",
        "      <td> 0</td>\n",
        "      <td> 0</td>\n",
        "      <td> 0</td>\n",
        "      <td> 0</td>\n",
        "      <td> 0</td>\n",
        "      <td> 0</td>\n",
        "      <td> 0</td>\n",
        "      <td> 0</td>\n",
        "      <td> 0</td>\n",
        "      <td> 0</td>\n",
        "      <td> 0</td>\n",
        "      <td> 0</td>\n",
        "      <td> 0</td>\n",
        "      <td> 0</td>\n",
        "      <td> 1</td>\n",
        "      <td> 0</td>\n",
        "      <td> 0</td>\n",
        "    </tr>\n",
        "    <tr>\n",
        "      <th>925</th>\n",
        "      <td>NaN</td>\n",
        "      <td>NaN</td>\n",
        "      <td>NaN</td>\n",
        "      <td>NaN</td>\n",
        "      <td>NaN</td>\n",
        "      <td>NaN</td>\n",
        "      <td>NaN</td>\n",
        "      <td>NaN</td>\n",
        "      <td>NaN</td>\n",
        "      <td>NaN</td>\n",
        "      <td>NaN</td>\n",
        "      <td>NaN</td>\n",
        "      <td>NaN</td>\n",
        "      <td>NaN</td>\n",
        "      <td>NaN</td>\n",
        "      <td>NaN</td>\n",
        "      <td>NaN</td>\n",
        "      <td>NaN</td>\n",
        "      <td>NaN</td>\n",
        "      <td>NaN</td>\n",
        "      <td>NaN</td>\n",
        "      <td>NaN</td>\n",
        "      <td>NaN</td>\n",
        "      <td>NaN</td>\n",
        "      <td>NaN</td>\n",
        "      <td> 0</td>\n",
        "      <td> 0</td>\n",
        "      <td> 0</td>\n",
        "      <td> 0</td>\n",
        "      <td> 0</td>\n",
        "      <td> 0</td>\n",
        "      <td> 0</td>\n",
        "      <td> 0</td>\n",
        "      <td> 0</td>\n",
        "      <td> 0</td>\n",
        "      <td> 0</td>\n",
        "      <td> 0</td>\n",
        "      <td> 0</td>\n",
        "      <td> 0</td>\n",
        "      <td> 0</td>\n",
        "      <td> 0</td>\n",
        "      <td> 0</td>\n",
        "      <td> 0</td>\n",
        "      <td> 0</td>\n",
        "      <td> 0</td>\n",
        "      <td> 1</td>\n",
        "      <td> 0</td>\n",
        "      <td> 0</td>\n",
        "      <td> 0</td>\n",
        "      <td> 0</td>\n",
        "      <td> 0</td>\n",
        "      <td> 0</td>\n",
        "      <td> 1</td>\n",
        "      <td> 0</td>\n",
        "      <td> 0</td>\n",
        "    </tr>\n",
        "    <tr>\n",
        "      <th>926</th>\n",
        "      <td>NaN</td>\n",
        "      <td>NaN</td>\n",
        "      <td>NaN</td>\n",
        "      <td>NaN</td>\n",
        "      <td>NaN</td>\n",
        "      <td>NaN</td>\n",
        "      <td>NaN</td>\n",
        "      <td>NaN</td>\n",
        "      <td>NaN</td>\n",
        "      <td>NaN</td>\n",
        "      <td>NaN</td>\n",
        "      <td>NaN</td>\n",
        "      <td>NaN</td>\n",
        "      <td>NaN</td>\n",
        "      <td>NaN</td>\n",
        "      <td>NaN</td>\n",
        "      <td>NaN</td>\n",
        "      <td>NaN</td>\n",
        "      <td>NaN</td>\n",
        "      <td>NaN</td>\n",
        "      <td>NaN</td>\n",
        "      <td>NaN</td>\n",
        "      <td>NaN</td>\n",
        "      <td>NaN</td>\n",
        "      <td>NaN</td>\n",
        "      <td> 0</td>\n",
        "      <td> 1</td>\n",
        "      <td> 0</td>\n",
        "      <td> 0</td>\n",
        "      <td> 0</td>\n",
        "      <td> 0</td>\n",
        "      <td> 0</td>\n",
        "      <td> 0</td>\n",
        "      <td> 0</td>\n",
        "      <td> 0</td>\n",
        "      <td> 0</td>\n",
        "      <td> 0</td>\n",
        "      <td> 0</td>\n",
        "      <td> 0</td>\n",
        "      <td> 0</td>\n",
        "      <td> 0</td>\n",
        "      <td> 0</td>\n",
        "      <td> 0</td>\n",
        "      <td> 0</td>\n",
        "      <td> 0</td>\n",
        "      <td> 0</td>\n",
        "      <td> 0</td>\n",
        "      <td> 0</td>\n",
        "      <td> 0</td>\n",
        "      <td> 0</td>\n",
        "      <td> 0</td>\n",
        "      <td> 0</td>\n",
        "      <td> 1</td>\n",
        "      <td> 0</td>\n",
        "      <td> 0</td>\n",
        "    </tr>\n",
        "    <tr>\n",
        "      <th>927</th>\n",
        "      <td>NaN</td>\n",
        "      <td>NaN</td>\n",
        "      <td>NaN</td>\n",
        "      <td>NaN</td>\n",
        "      <td>NaN</td>\n",
        "      <td>NaN</td>\n",
        "      <td>NaN</td>\n",
        "      <td>NaN</td>\n",
        "      <td>NaN</td>\n",
        "      <td>NaN</td>\n",
        "      <td>NaN</td>\n",
        "      <td>NaN</td>\n",
        "      <td>NaN</td>\n",
        "      <td>NaN</td>\n",
        "      <td>NaN</td>\n",
        "      <td>NaN</td>\n",
        "      <td>NaN</td>\n",
        "      <td>NaN</td>\n",
        "      <td>NaN</td>\n",
        "      <td>NaN</td>\n",
        "      <td>NaN</td>\n",
        "      <td>NaN</td>\n",
        "      <td>NaN</td>\n",
        "      <td>NaN</td>\n",
        "      <td>NaN</td>\n",
        "      <td> 0</td>\n",
        "      <td> 0</td>\n",
        "      <td> 0</td>\n",
        "      <td> 0</td>\n",
        "      <td> 0</td>\n",
        "      <td> 1</td>\n",
        "      <td> 0</td>\n",
        "      <td> 0</td>\n",
        "      <td> 0</td>\n",
        "      <td> 0</td>\n",
        "      <td> 0</td>\n",
        "      <td> 0</td>\n",
        "      <td> 0</td>\n",
        "      <td> 0</td>\n",
        "      <td> 0</td>\n",
        "      <td> 0</td>\n",
        "      <td> 0</td>\n",
        "      <td> 0</td>\n",
        "      <td> 0</td>\n",
        "      <td> 0</td>\n",
        "      <td> 0</td>\n",
        "      <td> 0</td>\n",
        "      <td> 0</td>\n",
        "      <td> 0</td>\n",
        "      <td> 0</td>\n",
        "      <td> 0</td>\n",
        "      <td> 0</td>\n",
        "      <td> 1</td>\n",
        "      <td> 0</td>\n",
        "      <td> 0</td>\n",
        "    </tr>\n",
        "    <tr>\n",
        "      <th>928</th>\n",
        "      <td>NaN</td>\n",
        "      <td>NaN</td>\n",
        "      <td>NaN</td>\n",
        "      <td>NaN</td>\n",
        "      <td>NaN</td>\n",
        "      <td>NaN</td>\n",
        "      <td>NaN</td>\n",
        "      <td>NaN</td>\n",
        "      <td>NaN</td>\n",
        "      <td>NaN</td>\n",
        "      <td>NaN</td>\n",
        "      <td>NaN</td>\n",
        "      <td>NaN</td>\n",
        "      <td>NaN</td>\n",
        "      <td>NaN</td>\n",
        "      <td>NaN</td>\n",
        "      <td>NaN</td>\n",
        "      <td>NaN</td>\n",
        "      <td>NaN</td>\n",
        "      <td>NaN</td>\n",
        "      <td>NaN</td>\n",
        "      <td>NaN</td>\n",
        "      <td>NaN</td>\n",
        "      <td>NaN</td>\n",
        "      <td>NaN</td>\n",
        "      <td> 0</td>\n",
        "      <td> 0</td>\n",
        "      <td> 0</td>\n",
        "      <td> 1</td>\n",
        "      <td> 0</td>\n",
        "      <td> 0</td>\n",
        "      <td> 0</td>\n",
        "      <td> 0</td>\n",
        "      <td> 0</td>\n",
        "      <td> 0</td>\n",
        "      <td> 0</td>\n",
        "      <td> 0</td>\n",
        "      <td> 0</td>\n",
        "      <td> 0</td>\n",
        "      <td> 0</td>\n",
        "      <td> 0</td>\n",
        "      <td> 0</td>\n",
        "      <td> 0</td>\n",
        "      <td> 0</td>\n",
        "      <td> 0</td>\n",
        "      <td> 0</td>\n",
        "      <td> 0</td>\n",
        "      <td> 0</td>\n",
        "      <td> 0</td>\n",
        "      <td> 0</td>\n",
        "      <td> 0</td>\n",
        "      <td> 0</td>\n",
        "      <td> 0</td>\n",
        "      <td> 1</td>\n",
        "      <td> 0</td>\n",
        "    </tr>\n",
        "    <tr>\n",
        "      <th>929</th>\n",
        "      <td>NaN</td>\n",
        "      <td>NaN</td>\n",
        "      <td>NaN</td>\n",
        "      <td>NaN</td>\n",
        "      <td>NaN</td>\n",
        "      <td>NaN</td>\n",
        "      <td>NaN</td>\n",
        "      <td>NaN</td>\n",
        "      <td>NaN</td>\n",
        "      <td>NaN</td>\n",
        "      <td>NaN</td>\n",
        "      <td>NaN</td>\n",
        "      <td>NaN</td>\n",
        "      <td>NaN</td>\n",
        "      <td>NaN</td>\n",
        "      <td>NaN</td>\n",
        "      <td>NaN</td>\n",
        "      <td>NaN</td>\n",
        "      <td>NaN</td>\n",
        "      <td>NaN</td>\n",
        "      <td>NaN</td>\n",
        "      <td>NaN</td>\n",
        "      <td>NaN</td>\n",
        "      <td>NaN</td>\n",
        "      <td>NaN</td>\n",
        "      <td> 0</td>\n",
        "      <td> 0</td>\n",
        "      <td> 1</td>\n",
        "      <td> 0</td>\n",
        "      <td> 0</td>\n",
        "      <td> 0</td>\n",
        "      <td> 0</td>\n",
        "      <td> 0</td>\n",
        "      <td> 0</td>\n",
        "      <td> 0</td>\n",
        "      <td> 0</td>\n",
        "      <td> 0</td>\n",
        "      <td> 0</td>\n",
        "      <td> 0</td>\n",
        "      <td> 0</td>\n",
        "      <td> 0</td>\n",
        "      <td> 0</td>\n",
        "      <td> 0</td>\n",
        "      <td> 0</td>\n",
        "      <td> 0</td>\n",
        "      <td> 0</td>\n",
        "      <td> 0</td>\n",
        "      <td> 0</td>\n",
        "      <td> 0</td>\n",
        "      <td> 0</td>\n",
        "      <td> 0</td>\n",
        "      <td> 0</td>\n",
        "      <td> 0</td>\n",
        "      <td> 1</td>\n",
        "      <td> 0</td>\n",
        "    </tr>\n",
        "    <tr>\n",
        "      <th>930</th>\n",
        "      <td>NaN</td>\n",
        "      <td>NaN</td>\n",
        "      <td>NaN</td>\n",
        "      <td>NaN</td>\n",
        "      <td>NaN</td>\n",
        "      <td>NaN</td>\n",
        "      <td>NaN</td>\n",
        "      <td>NaN</td>\n",
        "      <td>NaN</td>\n",
        "      <td>NaN</td>\n",
        "      <td>NaN</td>\n",
        "      <td>NaN</td>\n",
        "      <td>NaN</td>\n",
        "      <td>NaN</td>\n",
        "      <td>NaN</td>\n",
        "      <td>NaN</td>\n",
        "      <td>NaN</td>\n",
        "      <td>NaN</td>\n",
        "      <td>NaN</td>\n",
        "      <td>NaN</td>\n",
        "      <td>NaN</td>\n",
        "      <td>NaN</td>\n",
        "      <td>NaN</td>\n",
        "      <td>NaN</td>\n",
        "      <td>NaN</td>\n",
        "      <td> 0</td>\n",
        "      <td> 0</td>\n",
        "      <td> 0</td>\n",
        "      <td> 0</td>\n",
        "      <td> 0</td>\n",
        "      <td> 0</td>\n",
        "      <td> 0</td>\n",
        "      <td> 0</td>\n",
        "      <td> 0</td>\n",
        "      <td> 0</td>\n",
        "      <td> 0</td>\n",
        "      <td> 0</td>\n",
        "      <td> 0</td>\n",
        "      <td> 0</td>\n",
        "      <td> 0</td>\n",
        "      <td> 0</td>\n",
        "      <td> 0</td>\n",
        "      <td> 0</td>\n",
        "      <td> 0</td>\n",
        "      <td> 1</td>\n",
        "      <td> 0</td>\n",
        "      <td> 0</td>\n",
        "      <td> 0</td>\n",
        "      <td> 0</td>\n",
        "      <td> 0</td>\n",
        "      <td> 0</td>\n",
        "      <td> 0</td>\n",
        "      <td> 0</td>\n",
        "      <td> 0</td>\n",
        "      <td> 1</td>\n",
        "    </tr>\n",
        "    <tr>\n",
        "      <th>931</th>\n",
        "      <td>NaN</td>\n",
        "      <td>NaN</td>\n",
        "      <td>NaN</td>\n",
        "      <td>NaN</td>\n",
        "      <td>NaN</td>\n",
        "      <td>NaN</td>\n",
        "      <td>NaN</td>\n",
        "      <td>NaN</td>\n",
        "      <td>NaN</td>\n",
        "      <td>NaN</td>\n",
        "      <td>NaN</td>\n",
        "      <td>NaN</td>\n",
        "      <td>NaN</td>\n",
        "      <td>NaN</td>\n",
        "      <td>NaN</td>\n",
        "      <td>NaN</td>\n",
        "      <td>NaN</td>\n",
        "      <td>NaN</td>\n",
        "      <td>NaN</td>\n",
        "      <td>NaN</td>\n",
        "      <td>NaN</td>\n",
        "      <td>NaN</td>\n",
        "      <td>NaN</td>\n",
        "      <td>NaN</td>\n",
        "      <td>NaN</td>\n",
        "      <td> 0</td>\n",
        "      <td> 0</td>\n",
        "      <td> 1</td>\n",
        "      <td> 0</td>\n",
        "      <td> 0</td>\n",
        "      <td> 0</td>\n",
        "      <td> 0</td>\n",
        "      <td> 0</td>\n",
        "      <td> 0</td>\n",
        "      <td> 0</td>\n",
        "      <td> 0</td>\n",
        "      <td> 0</td>\n",
        "      <td> 0</td>\n",
        "      <td> 0</td>\n",
        "      <td> 0</td>\n",
        "      <td> 0</td>\n",
        "      <td> 0</td>\n",
        "      <td> 0</td>\n",
        "      <td> 0</td>\n",
        "      <td> 0</td>\n",
        "      <td> 0</td>\n",
        "      <td> 0</td>\n",
        "      <td> 0</td>\n",
        "      <td> 0</td>\n",
        "      <td> 0</td>\n",
        "      <td> 0</td>\n",
        "      <td> 0</td>\n",
        "      <td> 1</td>\n",
        "      <td> 0</td>\n",
        "      <td> 0</td>\n",
        "    </tr>\n",
        "    <tr>\n",
        "      <th>932</th>\n",
        "      <td>NaN</td>\n",
        "      <td>NaN</td>\n",
        "      <td>NaN</td>\n",
        "      <td>NaN</td>\n",
        "      <td>NaN</td>\n",
        "      <td>NaN</td>\n",
        "      <td>NaN</td>\n",
        "      <td>NaN</td>\n",
        "      <td>NaN</td>\n",
        "      <td>NaN</td>\n",
        "      <td>NaN</td>\n",
        "      <td>NaN</td>\n",
        "      <td>NaN</td>\n",
        "      <td>NaN</td>\n",
        "      <td>NaN</td>\n",
        "      <td>NaN</td>\n",
        "      <td>NaN</td>\n",
        "      <td>NaN</td>\n",
        "      <td>NaN</td>\n",
        "      <td>NaN</td>\n",
        "      <td>NaN</td>\n",
        "      <td>NaN</td>\n",
        "      <td>NaN</td>\n",
        "      <td>NaN</td>\n",
        "      <td>NaN</td>\n",
        "      <td> 0</td>\n",
        "      <td> 0</td>\n",
        "      <td> 0</td>\n",
        "      <td> 0</td>\n",
        "      <td> 0</td>\n",
        "      <td> 0</td>\n",
        "      <td> 0</td>\n",
        "      <td> 0</td>\n",
        "      <td> 1</td>\n",
        "      <td> 0</td>\n",
        "      <td> 0</td>\n",
        "      <td> 0</td>\n",
        "      <td> 0</td>\n",
        "      <td> 0</td>\n",
        "      <td> 0</td>\n",
        "      <td> 0</td>\n",
        "      <td> 0</td>\n",
        "      <td> 0</td>\n",
        "      <td> 0</td>\n",
        "      <td> 0</td>\n",
        "      <td> 0</td>\n",
        "      <td> 0</td>\n",
        "      <td> 0</td>\n",
        "      <td> 0</td>\n",
        "      <td> 0</td>\n",
        "      <td> 0</td>\n",
        "      <td> 0</td>\n",
        "      <td> 1</td>\n",
        "      <td> 0</td>\n",
        "      <td> 0</td>\n",
        "    </tr>\n",
        "    <tr>\n",
        "      <th>933</th>\n",
        "      <td>NaN</td>\n",
        "      <td>NaN</td>\n",
        "      <td>NaN</td>\n",
        "      <td>NaN</td>\n",
        "      <td>NaN</td>\n",
        "      <td>NaN</td>\n",
        "      <td>NaN</td>\n",
        "      <td>NaN</td>\n",
        "      <td>NaN</td>\n",
        "      <td>NaN</td>\n",
        "      <td>NaN</td>\n",
        "      <td>NaN</td>\n",
        "      <td>NaN</td>\n",
        "      <td>NaN</td>\n",
        "      <td>NaN</td>\n",
        "      <td>NaN</td>\n",
        "      <td>NaN</td>\n",
        "      <td>NaN</td>\n",
        "      <td>NaN</td>\n",
        "      <td>NaN</td>\n",
        "      <td>NaN</td>\n",
        "      <td>NaN</td>\n",
        "      <td>NaN</td>\n",
        "      <td>NaN</td>\n",
        "      <td>NaN</td>\n",
        "      <td> 0</td>\n",
        "      <td> 0</td>\n",
        "      <td> 0</td>\n",
        "      <td> 0</td>\n",
        "      <td> 0</td>\n",
        "      <td> 0</td>\n",
        "      <td> 0</td>\n",
        "      <td> 0</td>\n",
        "      <td> 0</td>\n",
        "      <td> 0</td>\n",
        "      <td> 1</td>\n",
        "      <td> 0</td>\n",
        "      <td> 0</td>\n",
        "      <td> 0</td>\n",
        "      <td> 0</td>\n",
        "      <td> 0</td>\n",
        "      <td> 0</td>\n",
        "      <td> 0</td>\n",
        "      <td> 0</td>\n",
        "      <td> 0</td>\n",
        "      <td> 0</td>\n",
        "      <td> 0</td>\n",
        "      <td> 0</td>\n",
        "      <td> 0</td>\n",
        "      <td> 0</td>\n",
        "      <td> 0</td>\n",
        "      <td> 0</td>\n",
        "      <td> 0</td>\n",
        "      <td> 1</td>\n",
        "      <td> 0</td>\n",
        "    </tr>\n",
        "    <tr>\n",
        "      <th>934</th>\n",
        "      <td>NaN</td>\n",
        "      <td>NaN</td>\n",
        "      <td>NaN</td>\n",
        "      <td>NaN</td>\n",
        "      <td>NaN</td>\n",
        "      <td>NaN</td>\n",
        "      <td>NaN</td>\n",
        "      <td>NaN</td>\n",
        "      <td>NaN</td>\n",
        "      <td>NaN</td>\n",
        "      <td>NaN</td>\n",
        "      <td>NaN</td>\n",
        "      <td>NaN</td>\n",
        "      <td>NaN</td>\n",
        "      <td>NaN</td>\n",
        "      <td>NaN</td>\n",
        "      <td>NaN</td>\n",
        "      <td>NaN</td>\n",
        "      <td>NaN</td>\n",
        "      <td>NaN</td>\n",
        "      <td>NaN</td>\n",
        "      <td>NaN</td>\n",
        "      <td>NaN</td>\n",
        "      <td>NaN</td>\n",
        "      <td>NaN</td>\n",
        "      <td> 0</td>\n",
        "      <td> 1</td>\n",
        "      <td> 0</td>\n",
        "      <td> 0</td>\n",
        "      <td> 0</td>\n",
        "      <td> 0</td>\n",
        "      <td> 0</td>\n",
        "      <td> 0</td>\n",
        "      <td> 0</td>\n",
        "      <td> 0</td>\n",
        "      <td> 0</td>\n",
        "      <td> 0</td>\n",
        "      <td> 0</td>\n",
        "      <td> 0</td>\n",
        "      <td> 0</td>\n",
        "      <td> 0</td>\n",
        "      <td> 0</td>\n",
        "      <td> 0</td>\n",
        "      <td> 0</td>\n",
        "      <td> 0</td>\n",
        "      <td> 0</td>\n",
        "      <td> 0</td>\n",
        "      <td> 0</td>\n",
        "      <td> 0</td>\n",
        "      <td> 0</td>\n",
        "      <td> 0</td>\n",
        "      <td> 0</td>\n",
        "      <td> 1</td>\n",
        "      <td> 0</td>\n",
        "      <td> 0</td>\n",
        "    </tr>\n",
        "    <tr>\n",
        "      <th>936</th>\n",
        "      <td>NaN</td>\n",
        "      <td>NaN</td>\n",
        "      <td>NaN</td>\n",
        "      <td>NaN</td>\n",
        "      <td>NaN</td>\n",
        "      <td>NaN</td>\n",
        "      <td>NaN</td>\n",
        "      <td>NaN</td>\n",
        "      <td>NaN</td>\n",
        "      <td>NaN</td>\n",
        "      <td>NaN</td>\n",
        "      <td>NaN</td>\n",
        "      <td>NaN</td>\n",
        "      <td>NaN</td>\n",
        "      <td>NaN</td>\n",
        "      <td>NaN</td>\n",
        "      <td>NaN</td>\n",
        "      <td>NaN</td>\n",
        "      <td>NaN</td>\n",
        "      <td>NaN</td>\n",
        "      <td>NaN</td>\n",
        "      <td>NaN</td>\n",
        "      <td>NaN</td>\n",
        "      <td>NaN</td>\n",
        "      <td>NaN</td>\n",
        "      <td> 0</td>\n",
        "      <td> 0</td>\n",
        "      <td> 0</td>\n",
        "      <td> 0</td>\n",
        "      <td> 0</td>\n",
        "      <td> 0</td>\n",
        "      <td> 0</td>\n",
        "      <td> 0</td>\n",
        "      <td> 0</td>\n",
        "      <td> 0</td>\n",
        "      <td> 0</td>\n",
        "      <td> 0</td>\n",
        "      <td> 1</td>\n",
        "      <td> 0</td>\n",
        "      <td> 0</td>\n",
        "      <td> 0</td>\n",
        "      <td> 0</td>\n",
        "      <td> 0</td>\n",
        "      <td> 0</td>\n",
        "      <td> 0</td>\n",
        "      <td> 0</td>\n",
        "      <td> 0</td>\n",
        "      <td> 0</td>\n",
        "      <td> 0</td>\n",
        "      <td> 0</td>\n",
        "      <td> 0</td>\n",
        "      <td> 0</td>\n",
        "      <td> 0</td>\n",
        "      <td> 1</td>\n",
        "      <td> 0</td>\n",
        "    </tr>\n",
        "    <tr>\n",
        "      <th>937</th>\n",
        "      <td>NaN</td>\n",
        "      <td>NaN</td>\n",
        "      <td>NaN</td>\n",
        "      <td>NaN</td>\n",
        "      <td>NaN</td>\n",
        "      <td>NaN</td>\n",
        "      <td>NaN</td>\n",
        "      <td>NaN</td>\n",
        "      <td>NaN</td>\n",
        "      <td>NaN</td>\n",
        "      <td>NaN</td>\n",
        "      <td>NaN</td>\n",
        "      <td>NaN</td>\n",
        "      <td>NaN</td>\n",
        "      <td>NaN</td>\n",
        "      <td>NaN</td>\n",
        "      <td>NaN</td>\n",
        "      <td>NaN</td>\n",
        "      <td>NaN</td>\n",
        "      <td>NaN</td>\n",
        "      <td>NaN</td>\n",
        "      <td>NaN</td>\n",
        "      <td>NaN</td>\n",
        "      <td>NaN</td>\n",
        "      <td>NaN</td>\n",
        "      <td> 0</td>\n",
        "      <td> 1</td>\n",
        "      <td> 0</td>\n",
        "      <td> 0</td>\n",
        "      <td> 0</td>\n",
        "      <td> 0</td>\n",
        "      <td> 0</td>\n",
        "      <td> 0</td>\n",
        "      <td> 0</td>\n",
        "      <td> 0</td>\n",
        "      <td> 0</td>\n",
        "      <td> 0</td>\n",
        "      <td> 0</td>\n",
        "      <td> 0</td>\n",
        "      <td> 0</td>\n",
        "      <td> 0</td>\n",
        "      <td> 0</td>\n",
        "      <td> 0</td>\n",
        "      <td> 0</td>\n",
        "      <td> 0</td>\n",
        "      <td> 0</td>\n",
        "      <td> 0</td>\n",
        "      <td> 0</td>\n",
        "      <td> 0</td>\n",
        "      <td> 0</td>\n",
        "      <td> 0</td>\n",
        "      <td> 0</td>\n",
        "      <td> 1</td>\n",
        "      <td> 0</td>\n",
        "      <td> 0</td>\n",
        "    </tr>\n",
        "    <tr>\n",
        "      <th>938</th>\n",
        "      <td>NaN</td>\n",
        "      <td>NaN</td>\n",
        "      <td>NaN</td>\n",
        "      <td>NaN</td>\n",
        "      <td>NaN</td>\n",
        "      <td>NaN</td>\n",
        "      <td>NaN</td>\n",
        "      <td>NaN</td>\n",
        "      <td>NaN</td>\n",
        "      <td>NaN</td>\n",
        "      <td>NaN</td>\n",
        "      <td>NaN</td>\n",
        "      <td>NaN</td>\n",
        "      <td>NaN</td>\n",
        "      <td>NaN</td>\n",
        "      <td>NaN</td>\n",
        "      <td>NaN</td>\n",
        "      <td>NaN</td>\n",
        "      <td>NaN</td>\n",
        "      <td>NaN</td>\n",
        "      <td>NaN</td>\n",
        "      <td>NaN</td>\n",
        "      <td>NaN</td>\n",
        "      <td>NaN</td>\n",
        "      <td>NaN</td>\n",
        "      <td> 0</td>\n",
        "      <td> 0</td>\n",
        "      <td> 0</td>\n",
        "      <td> 0</td>\n",
        "      <td> 0</td>\n",
        "      <td> 0</td>\n",
        "      <td> 0</td>\n",
        "      <td> 0</td>\n",
        "      <td> 0</td>\n",
        "      <td> 1</td>\n",
        "      <td> 0</td>\n",
        "      <td> 0</td>\n",
        "      <td> 0</td>\n",
        "      <td> 0</td>\n",
        "      <td> 0</td>\n",
        "      <td> 0</td>\n",
        "      <td> 0</td>\n",
        "      <td> 0</td>\n",
        "      <td> 0</td>\n",
        "      <td> 0</td>\n",
        "      <td> 0</td>\n",
        "      <td> 0</td>\n",
        "      <td> 0</td>\n",
        "      <td> 0</td>\n",
        "      <td> 0</td>\n",
        "      <td> 0</td>\n",
        "      <td> 0</td>\n",
        "      <td> 1</td>\n",
        "      <td> 0</td>\n",
        "      <td> 0</td>\n",
        "    </tr>\n",
        "    <tr>\n",
        "      <th>939</th>\n",
        "      <td>NaN</td>\n",
        "      <td>NaN</td>\n",
        "      <td>NaN</td>\n",
        "      <td>NaN</td>\n",
        "      <td>NaN</td>\n",
        "      <td>NaN</td>\n",
        "      <td>NaN</td>\n",
        "      <td>NaN</td>\n",
        "      <td>NaN</td>\n",
        "      <td>NaN</td>\n",
        "      <td>NaN</td>\n",
        "      <td>NaN</td>\n",
        "      <td>NaN</td>\n",
        "      <td>NaN</td>\n",
        "      <td>NaN</td>\n",
        "      <td>NaN</td>\n",
        "      <td>NaN</td>\n",
        "      <td>NaN</td>\n",
        "      <td>NaN</td>\n",
        "      <td>NaN</td>\n",
        "      <td>NaN</td>\n",
        "      <td>NaN</td>\n",
        "      <td>NaN</td>\n",
        "      <td>NaN</td>\n",
        "      <td>NaN</td>\n",
        "      <td> 0</td>\n",
        "      <td> 0</td>\n",
        "      <td> 0</td>\n",
        "      <td> 0</td>\n",
        "      <td> 0</td>\n",
        "      <td> 0</td>\n",
        "      <td> 0</td>\n",
        "      <td> 0</td>\n",
        "      <td> 0</td>\n",
        "      <td> 0</td>\n",
        "      <td> 0</td>\n",
        "      <td> 0</td>\n",
        "      <td> 0</td>\n",
        "      <td> 0</td>\n",
        "      <td> 0</td>\n",
        "      <td> 0</td>\n",
        "      <td> 0</td>\n",
        "      <td> 0</td>\n",
        "      <td> 0</td>\n",
        "      <td> 1</td>\n",
        "      <td> 0</td>\n",
        "      <td> 0</td>\n",
        "      <td> 0</td>\n",
        "      <td> 0</td>\n",
        "      <td> 0</td>\n",
        "      <td> 0</td>\n",
        "      <td> 0</td>\n",
        "      <td> 0</td>\n",
        "      <td> 1</td>\n",
        "      <td> 0</td>\n",
        "    </tr>\n",
        "    <tr>\n",
        "      <th>940</th>\n",
        "      <td>NaN</td>\n",
        "      <td>NaN</td>\n",
        "      <td>NaN</td>\n",
        "      <td>NaN</td>\n",
        "      <td>NaN</td>\n",
        "      <td>NaN</td>\n",
        "      <td>NaN</td>\n",
        "      <td>NaN</td>\n",
        "      <td>NaN</td>\n",
        "      <td>NaN</td>\n",
        "      <td>NaN</td>\n",
        "      <td>NaN</td>\n",
        "      <td>NaN</td>\n",
        "      <td>NaN</td>\n",
        "      <td>NaN</td>\n",
        "      <td>NaN</td>\n",
        "      <td>NaN</td>\n",
        "      <td>NaN</td>\n",
        "      <td>NaN</td>\n",
        "      <td>NaN</td>\n",
        "      <td>NaN</td>\n",
        "      <td>NaN</td>\n",
        "      <td>NaN</td>\n",
        "      <td>NaN</td>\n",
        "      <td>NaN</td>\n",
        "      <td> 0</td>\n",
        "      <td> 0</td>\n",
        "      <td> 0</td>\n",
        "      <td> 0</td>\n",
        "      <td> 0</td>\n",
        "      <td> 0</td>\n",
        "      <td> 0</td>\n",
        "      <td> 0</td>\n",
        "      <td> 0</td>\n",
        "      <td> 0</td>\n",
        "      <td> 0</td>\n",
        "      <td> 0</td>\n",
        "      <td> 0</td>\n",
        "      <td> 0</td>\n",
        "      <td> 0</td>\n",
        "      <td> 0</td>\n",
        "      <td> 0</td>\n",
        "      <td> 0</td>\n",
        "      <td> 0</td>\n",
        "      <td> 0</td>\n",
        "      <td> 0</td>\n",
        "      <td> 0</td>\n",
        "      <td> 1</td>\n",
        "      <td> 0</td>\n",
        "      <td> 0</td>\n",
        "      <td> 0</td>\n",
        "      <td> 0</td>\n",
        "      <td> 0</td>\n",
        "      <td> 1</td>\n",
        "      <td> 0</td>\n",
        "    </tr>\n",
        "    <tr>\n",
        "      <th>941</th>\n",
        "      <td>NaN</td>\n",
        "      <td>NaN</td>\n",
        "      <td>NaN</td>\n",
        "      <td>NaN</td>\n",
        "      <td>NaN</td>\n",
        "      <td>NaN</td>\n",
        "      <td>NaN</td>\n",
        "      <td>NaN</td>\n",
        "      <td>NaN</td>\n",
        "      <td>NaN</td>\n",
        "      <td>NaN</td>\n",
        "      <td>NaN</td>\n",
        "      <td>NaN</td>\n",
        "      <td>NaN</td>\n",
        "      <td>NaN</td>\n",
        "      <td>NaN</td>\n",
        "      <td>NaN</td>\n",
        "      <td>NaN</td>\n",
        "      <td>NaN</td>\n",
        "      <td>NaN</td>\n",
        "      <td>NaN</td>\n",
        "      <td>NaN</td>\n",
        "      <td>NaN</td>\n",
        "      <td>NaN</td>\n",
        "      <td>NaN</td>\n",
        "      <td> 0</td>\n",
        "      <td> 0</td>\n",
        "      <td> 0</td>\n",
        "      <td> 0</td>\n",
        "      <td> 0</td>\n",
        "      <td> 0</td>\n",
        "      <td> 0</td>\n",
        "      <td> 0</td>\n",
        "      <td> 0</td>\n",
        "      <td> 0</td>\n",
        "      <td> 0</td>\n",
        "      <td> 0</td>\n",
        "      <td> 0</td>\n",
        "      <td> 0</td>\n",
        "      <td> 0</td>\n",
        "      <td> 0</td>\n",
        "      <td> 1</td>\n",
        "      <td> 0</td>\n",
        "      <td> 0</td>\n",
        "      <td> 0</td>\n",
        "      <td> 0</td>\n",
        "      <td> 0</td>\n",
        "      <td> 0</td>\n",
        "      <td> 0</td>\n",
        "      <td> 0</td>\n",
        "      <td> 0</td>\n",
        "      <td> 0</td>\n",
        "      <td> 0</td>\n",
        "      <td> 1</td>\n",
        "      <td> 0</td>\n",
        "    </tr>\n",
        "    <tr>\n",
        "      <th>942</th>\n",
        "      <td>NaN</td>\n",
        "      <td>NaN</td>\n",
        "      <td>NaN</td>\n",
        "      <td>NaN</td>\n",
        "      <td>NaN</td>\n",
        "      <td>NaN</td>\n",
        "      <td>NaN</td>\n",
        "      <td>NaN</td>\n",
        "      <td>NaN</td>\n",
        "      <td>NaN</td>\n",
        "      <td>NaN</td>\n",
        "      <td>NaN</td>\n",
        "      <td>NaN</td>\n",
        "      <td>NaN</td>\n",
        "      <td>NaN</td>\n",
        "      <td>NaN</td>\n",
        "      <td>NaN</td>\n",
        "      <td>NaN</td>\n",
        "      <td>NaN</td>\n",
        "      <td>NaN</td>\n",
        "      <td>NaN</td>\n",
        "      <td>NaN</td>\n",
        "      <td>NaN</td>\n",
        "      <td>NaN</td>\n",
        "      <td>NaN</td>\n",
        "      <td> 0</td>\n",
        "      <td> 0</td>\n",
        "      <td> 0</td>\n",
        "      <td> 0</td>\n",
        "      <td> 0</td>\n",
        "      <td> 0</td>\n",
        "      <td> 0</td>\n",
        "      <td> 0</td>\n",
        "      <td> 0</td>\n",
        "      <td> 0</td>\n",
        "      <td> 0</td>\n",
        "      <td> 0</td>\n",
        "      <td> 0</td>\n",
        "      <td> 0</td>\n",
        "      <td> 1</td>\n",
        "      <td> 0</td>\n",
        "      <td> 0</td>\n",
        "      <td> 0</td>\n",
        "      <td> 0</td>\n",
        "      <td> 0</td>\n",
        "      <td> 0</td>\n",
        "      <td> 0</td>\n",
        "      <td> 0</td>\n",
        "      <td> 0</td>\n",
        "      <td> 0</td>\n",
        "      <td> 0</td>\n",
        "      <td> 0</td>\n",
        "      <td> 1</td>\n",
        "      <td> 0</td>\n",
        "      <td> 0</td>\n",
        "    </tr>\n",
        "    <tr>\n",
        "      <th>943</th>\n",
        "      <td>NaN</td>\n",
        "      <td>NaN</td>\n",
        "      <td>NaN</td>\n",
        "      <td>NaN</td>\n",
        "      <td>NaN</td>\n",
        "      <td>NaN</td>\n",
        "      <td>NaN</td>\n",
        "      <td>NaN</td>\n",
        "      <td>NaN</td>\n",
        "      <td>NaN</td>\n",
        "      <td>NaN</td>\n",
        "      <td>NaN</td>\n",
        "      <td>NaN</td>\n",
        "      <td>NaN</td>\n",
        "      <td>NaN</td>\n",
        "      <td>NaN</td>\n",
        "      <td>NaN</td>\n",
        "      <td>NaN</td>\n",
        "      <td>NaN</td>\n",
        "      <td>NaN</td>\n",
        "      <td>NaN</td>\n",
        "      <td>NaN</td>\n",
        "      <td>NaN</td>\n",
        "      <td>NaN</td>\n",
        "      <td>NaN</td>\n",
        "      <td> 0</td>\n",
        "      <td> 0</td>\n",
        "      <td> 0</td>\n",
        "      <td> 0</td>\n",
        "      <td> 0</td>\n",
        "      <td> 0</td>\n",
        "      <td> 0</td>\n",
        "      <td> 0</td>\n",
        "      <td> 0</td>\n",
        "      <td> 0</td>\n",
        "      <td> 0</td>\n",
        "      <td> 0</td>\n",
        "      <td> 0</td>\n",
        "      <td> 0</td>\n",
        "      <td> 0</td>\n",
        "      <td> 0</td>\n",
        "      <td> 0</td>\n",
        "      <td> 0</td>\n",
        "      <td> 0</td>\n",
        "      <td> 0</td>\n",
        "      <td> 0</td>\n",
        "      <td> 0</td>\n",
        "      <td> 0</td>\n",
        "      <td> 0</td>\n",
        "      <td> 0</td>\n",
        "      <td> 0</td>\n",
        "      <td> 1</td>\n",
        "      <td> 1</td>\n",
        "      <td> 0</td>\n",
        "      <td> 0</td>\n",
        "    </tr>\n",
        "    <tr>\n",
        "      <th>944</th>\n",
        "      <td>NaN</td>\n",
        "      <td>NaN</td>\n",
        "      <td>NaN</td>\n",
        "      <td>NaN</td>\n",
        "      <td>NaN</td>\n",
        "      <td>NaN</td>\n",
        "      <td>NaN</td>\n",
        "      <td>NaN</td>\n",
        "      <td>NaN</td>\n",
        "      <td>NaN</td>\n",
        "      <td>NaN</td>\n",
        "      <td>NaN</td>\n",
        "      <td>NaN</td>\n",
        "      <td>NaN</td>\n",
        "      <td>NaN</td>\n",
        "      <td>NaN</td>\n",
        "      <td>NaN</td>\n",
        "      <td>NaN</td>\n",
        "      <td>NaN</td>\n",
        "      <td>NaN</td>\n",
        "      <td>NaN</td>\n",
        "      <td>NaN</td>\n",
        "      <td>NaN</td>\n",
        "      <td>NaN</td>\n",
        "      <td>NaN</td>\n",
        "      <td> 0</td>\n",
        "      <td> 0</td>\n",
        "      <td> 0</td>\n",
        "      <td> 0</td>\n",
        "      <td> 0</td>\n",
        "      <td> 0</td>\n",
        "      <td> 0</td>\n",
        "      <td> 0</td>\n",
        "      <td> 0</td>\n",
        "      <td> 0</td>\n",
        "      <td> 0</td>\n",
        "      <td> 0</td>\n",
        "      <td> 0</td>\n",
        "      <td> 0</td>\n",
        "      <td> 0</td>\n",
        "      <td> 0</td>\n",
        "      <td> 0</td>\n",
        "      <td> 0</td>\n",
        "      <td> 1</td>\n",
        "      <td> 0</td>\n",
        "      <td> 0</td>\n",
        "      <td> 0</td>\n",
        "      <td> 0</td>\n",
        "      <td> 0</td>\n",
        "      <td> 0</td>\n",
        "      <td> 0</td>\n",
        "      <td> 0</td>\n",
        "      <td> 0</td>\n",
        "      <td> 1</td>\n",
        "      <td> 0</td>\n",
        "    </tr>\n",
        "    <tr>\n",
        "      <th>945</th>\n",
        "      <td>NaN</td>\n",
        "      <td>NaN</td>\n",
        "      <td>NaN</td>\n",
        "      <td>NaN</td>\n",
        "      <td>NaN</td>\n",
        "      <td>NaN</td>\n",
        "      <td>NaN</td>\n",
        "      <td>NaN</td>\n",
        "      <td>NaN</td>\n",
        "      <td>NaN</td>\n",
        "      <td>NaN</td>\n",
        "      <td>NaN</td>\n",
        "      <td>NaN</td>\n",
        "      <td>NaN</td>\n",
        "      <td>NaN</td>\n",
        "      <td>NaN</td>\n",
        "      <td>NaN</td>\n",
        "      <td>NaN</td>\n",
        "      <td>NaN</td>\n",
        "      <td>NaN</td>\n",
        "      <td>NaN</td>\n",
        "      <td>NaN</td>\n",
        "      <td>NaN</td>\n",
        "      <td>NaN</td>\n",
        "      <td>NaN</td>\n",
        "      <td> 0</td>\n",
        "      <td> 0</td>\n",
        "      <td> 0</td>\n",
        "      <td> 0</td>\n",
        "      <td> 1</td>\n",
        "      <td> 0</td>\n",
        "      <td> 0</td>\n",
        "      <td> 0</td>\n",
        "      <td> 0</td>\n",
        "      <td> 0</td>\n",
        "      <td> 0</td>\n",
        "      <td> 0</td>\n",
        "      <td> 0</td>\n",
        "      <td> 0</td>\n",
        "      <td> 0</td>\n",
        "      <td> 0</td>\n",
        "      <td> 0</td>\n",
        "      <td> 0</td>\n",
        "      <td> 0</td>\n",
        "      <td> 0</td>\n",
        "      <td> 0</td>\n",
        "      <td> 0</td>\n",
        "      <td> 0</td>\n",
        "      <td> 0</td>\n",
        "      <td> 0</td>\n",
        "      <td> 0</td>\n",
        "      <td> 0</td>\n",
        "      <td> 1</td>\n",
        "      <td> 0</td>\n",
        "      <td> 0</td>\n",
        "    </tr>\n",
        "    <tr>\n",
        "      <th>946</th>\n",
        "      <td>NaN</td>\n",
        "      <td>NaN</td>\n",
        "      <td>NaN</td>\n",
        "      <td>NaN</td>\n",
        "      <td>NaN</td>\n",
        "      <td>NaN</td>\n",
        "      <td>NaN</td>\n",
        "      <td>NaN</td>\n",
        "      <td>NaN</td>\n",
        "      <td>NaN</td>\n",
        "      <td>NaN</td>\n",
        "      <td>NaN</td>\n",
        "      <td>NaN</td>\n",
        "      <td>NaN</td>\n",
        "      <td>NaN</td>\n",
        "      <td>NaN</td>\n",
        "      <td>NaN</td>\n",
        "      <td>NaN</td>\n",
        "      <td>NaN</td>\n",
        "      <td>NaN</td>\n",
        "      <td>NaN</td>\n",
        "      <td>NaN</td>\n",
        "      <td>NaN</td>\n",
        "      <td>NaN</td>\n",
        "      <td>NaN</td>\n",
        "      <td> 0</td>\n",
        "      <td> 0</td>\n",
        "      <td> 0</td>\n",
        "      <td> 0</td>\n",
        "      <td> 0</td>\n",
        "      <td> 0</td>\n",
        "      <td> 0</td>\n",
        "      <td> 0</td>\n",
        "      <td> 0</td>\n",
        "      <td> 0</td>\n",
        "      <td> 0</td>\n",
        "      <td> 0</td>\n",
        "      <td> 0</td>\n",
        "      <td> 0</td>\n",
        "      <td> 0</td>\n",
        "      <td> 0</td>\n",
        "      <td> 0</td>\n",
        "      <td> 0</td>\n",
        "      <td> 0</td>\n",
        "      <td> 1</td>\n",
        "      <td> 0</td>\n",
        "      <td> 0</td>\n",
        "      <td> 0</td>\n",
        "      <td> 0</td>\n",
        "      <td> 0</td>\n",
        "      <td> 0</td>\n",
        "      <td> 0</td>\n",
        "      <td> 0</td>\n",
        "      <td> 1</td>\n",
        "      <td> 0</td>\n",
        "    </tr>\n",
        "    <tr>\n",
        "      <th>947</th>\n",
        "      <td>NaN</td>\n",
        "      <td>NaN</td>\n",
        "      <td>NaN</td>\n",
        "      <td>NaN</td>\n",
        "      <td>NaN</td>\n",
        "      <td>NaN</td>\n",
        "      <td>NaN</td>\n",
        "      <td>NaN</td>\n",
        "      <td>NaN</td>\n",
        "      <td>NaN</td>\n",
        "      <td>NaN</td>\n",
        "      <td>NaN</td>\n",
        "      <td>NaN</td>\n",
        "      <td>NaN</td>\n",
        "      <td>NaN</td>\n",
        "      <td>NaN</td>\n",
        "      <td>NaN</td>\n",
        "      <td>NaN</td>\n",
        "      <td>NaN</td>\n",
        "      <td>NaN</td>\n",
        "      <td>NaN</td>\n",
        "      <td>NaN</td>\n",
        "      <td>NaN</td>\n",
        "      <td>NaN</td>\n",
        "      <td>NaN</td>\n",
        "      <td> 0</td>\n",
        "      <td> 0</td>\n",
        "      <td> 0</td>\n",
        "      <td> 0</td>\n",
        "      <td> 0</td>\n",
        "      <td> 0</td>\n",
        "      <td> 0</td>\n",
        "      <td> 0</td>\n",
        "      <td> 0</td>\n",
        "      <td> 0</td>\n",
        "      <td> 0</td>\n",
        "      <td> 0</td>\n",
        "      <td> 0</td>\n",
        "      <td> 0</td>\n",
        "      <td> 0</td>\n",
        "      <td> 0</td>\n",
        "      <td> 0</td>\n",
        "      <td> 0</td>\n",
        "      <td> 0</td>\n",
        "      <td> 0</td>\n",
        "      <td> 0</td>\n",
        "      <td> 0</td>\n",
        "      <td> 1</td>\n",
        "      <td> 0</td>\n",
        "      <td> 0</td>\n",
        "      <td> 0</td>\n",
        "      <td> 0</td>\n",
        "      <td> 1</td>\n",
        "      <td> 0</td>\n",
        "      <td> 0</td>\n",
        "    </tr>\n",
        "  </tbody>\n",
        "</table>\n",
        "</div>"
       ],
       "metadata": {},
       "output_type": "pyout",
       "prompt_number": 10,
       "text": [
        "     total_at_bats  total_hits  total_runs  total_home_runs  \\\n",
        "908            NaN         NaN         NaN              NaN   \n",
        "909            NaN         NaN         NaN              NaN   \n",
        "910            NaN         NaN         NaN              NaN   \n",
        "911            NaN         NaN         NaN              NaN   \n",
        "912            NaN         NaN         NaN              NaN   \n",
        "913            NaN         NaN         NaN              NaN   \n",
        "914            NaN         NaN         NaN              NaN   \n",
        "916            NaN         NaN         NaN              NaN   \n",
        "917            NaN         NaN         NaN              NaN   \n",
        "918            NaN         NaN         NaN              NaN   \n",
        "919            NaN         NaN         NaN              NaN   \n",
        "920            NaN         NaN         NaN              NaN   \n",
        "921            NaN         NaN         NaN              NaN   \n",
        "922            NaN         NaN         NaN              NaN   \n",
        "923            NaN         NaN         NaN              NaN   \n",
        "924            NaN         NaN         NaN              NaN   \n",
        "925            NaN         NaN         NaN              NaN   \n",
        "926            NaN         NaN         NaN              NaN   \n",
        "927            NaN         NaN         NaN              NaN   \n",
        "928            NaN         NaN         NaN              NaN   \n",
        "929            NaN         NaN         NaN              NaN   \n",
        "930            NaN         NaN         NaN              NaN   \n",
        "931            NaN         NaN         NaN              NaN   \n",
        "932            NaN         NaN         NaN              NaN   \n",
        "933            NaN         NaN         NaN              NaN   \n",
        "934            NaN         NaN         NaN              NaN   \n",
        "936            NaN         NaN         NaN              NaN   \n",
        "937            NaN         NaN         NaN              NaN   \n",
        "938            NaN         NaN         NaN              NaN   \n",
        "939            NaN         NaN         NaN              NaN   \n",
        "940            NaN         NaN         NaN              NaN   \n",
        "941            NaN         NaN         NaN              NaN   \n",
        "942            NaN         NaN         NaN              NaN   \n",
        "943            NaN         NaN         NaN              NaN   \n",
        "944            NaN         NaN         NaN              NaN   \n",
        "945            NaN         NaN         NaN              NaN   \n",
        "946            NaN         NaN         NaN              NaN   \n",
        "947            NaN         NaN         NaN              NaN   \n",
        "\n",
        "     total_stolen_bases  total_RBI  total_caught_stealing  \\\n",
        "908                 NaN        NaN                    NaN   \n",
        "909                 NaN        NaN                    NaN   \n",
        "910                 NaN        NaN                    NaN   \n",
        "911                 NaN        NaN                    NaN   \n",
        "912                 NaN        NaN                    NaN   \n",
        "913                 NaN        NaN                    NaN   \n",
        "914                 NaN        NaN                    NaN   \n",
        "916                 NaN        NaN                    NaN   \n",
        "917                 NaN        NaN                    NaN   \n",
        "918                 NaN        NaN                    NaN   \n",
        "919                 NaN        NaN                    NaN   \n",
        "920                 NaN        NaN                    NaN   \n",
        "921                 NaN        NaN                    NaN   \n",
        "922                 NaN        NaN                    NaN   \n",
        "923                 NaN        NaN                    NaN   \n",
        "924                 NaN        NaN                    NaN   \n",
        "925                 NaN        NaN                    NaN   \n",
        "926                 NaN        NaN                    NaN   \n",
        "927                 NaN        NaN                    NaN   \n",
        "928                 NaN        NaN                    NaN   \n",
        "929                 NaN        NaN                    NaN   \n",
        "930                 NaN        NaN                    NaN   \n",
        "931                 NaN        NaN                    NaN   \n",
        "932                 NaN        NaN                    NaN   \n",
        "933                 NaN        NaN                    NaN   \n",
        "934                 NaN        NaN                    NaN   \n",
        "936                 NaN        NaN                    NaN   \n",
        "937                 NaN        NaN                    NaN   \n",
        "938                 NaN        NaN                    NaN   \n",
        "939                 NaN        NaN                    NaN   \n",
        "940                 NaN        NaN                    NaN   \n",
        "941                 NaN        NaN                    NaN   \n",
        "942                 NaN        NaN                    NaN   \n",
        "943                 NaN        NaN                    NaN   \n",
        "944                 NaN        NaN                    NaN   \n",
        "945                 NaN        NaN                    NaN   \n",
        "946                 NaN        NaN                    NaN   \n",
        "947                 NaN        NaN                    NaN   \n",
        "\n",
        "     total_hitter_strikeouts  total_intentional_walks  total_games_pitched  \\\n",
        "908                      NaN                      NaN                  NaN   \n",
        "909                      NaN                      NaN                  NaN   \n",
        "910                      NaN                      NaN                  NaN   \n",
        "911                      NaN                      NaN                  NaN   \n",
        "912                      NaN                      NaN                  NaN   \n",
        "913                      NaN                      NaN                  NaN   \n",
        "914                      NaN                      NaN                  NaN   \n",
        "916                      NaN                      NaN                  NaN   \n",
        "917                      NaN                      NaN                  NaN   \n",
        "918                      NaN                      NaN                  NaN   \n",
        "919                      NaN                      NaN                  NaN   \n",
        "920                      NaN                      NaN                  NaN   \n",
        "921                      NaN                      NaN                  NaN   \n",
        "922                      NaN                      NaN                  NaN   \n",
        "923                      NaN                      NaN                  NaN   \n",
        "924                      NaN                      NaN                  NaN   \n",
        "925                      NaN                      NaN                  NaN   \n",
        "926                      NaN                      NaN                  NaN   \n",
        "927                      NaN                      NaN                  NaN   \n",
        "928                      NaN                      NaN                  NaN   \n",
        "929                      NaN                      NaN                  NaN   \n",
        "930                      NaN                      NaN                  NaN   \n",
        "931                      NaN                      NaN                  NaN   \n",
        "932                      NaN                      NaN                  NaN   \n",
        "933                      NaN                      NaN                  NaN   \n",
        "934                      NaN                      NaN                  NaN   \n",
        "936                      NaN                      NaN                  NaN   \n",
        "937                      NaN                      NaN                  NaN   \n",
        "938                      NaN                      NaN                  NaN   \n",
        "939                      NaN                      NaN                  NaN   \n",
        "940                      NaN                      NaN                  NaN   \n",
        "941                      NaN                      NaN                  NaN   \n",
        "942                      NaN                      NaN                  NaN   \n",
        "943                      NaN                      NaN                  NaN   \n",
        "944                      NaN                      NaN                  NaN   \n",
        "945                      NaN                      NaN                  NaN   \n",
        "946                      NaN                      NaN                  NaN   \n",
        "947                      NaN                      NaN                  NaN   \n",
        "\n",
        "     total_saves  total_outs_pitched  total_pitching_hits  \\\n",
        "908          NaN                 NaN                  NaN   \n",
        "909          NaN                 NaN                  NaN   \n",
        "910          NaN                 NaN                  NaN   \n",
        "911          NaN                 NaN                  NaN   \n",
        "912          NaN                 NaN                  NaN   \n",
        "913          NaN                 NaN                  NaN   \n",
        "914          NaN                 NaN                  NaN   \n",
        "916          NaN                 NaN                  NaN   \n",
        "917          NaN                 NaN                  NaN   \n",
        "918          NaN                 NaN                  NaN   \n",
        "919          NaN                 NaN                  NaN   \n",
        "920          NaN                 NaN                  NaN   \n",
        "921          NaN                 NaN                  NaN   \n",
        "922          NaN                 NaN                  NaN   \n",
        "923          NaN                 NaN                  NaN   \n",
        "924          NaN                 NaN                  NaN   \n",
        "925          NaN                 NaN                  NaN   \n",
        "926          NaN                 NaN                  NaN   \n",
        "927          NaN                 NaN                  NaN   \n",
        "928          NaN                 NaN                  NaN   \n",
        "929          NaN                 NaN                  NaN   \n",
        "930          NaN                 NaN                  NaN   \n",
        "931          NaN                 NaN                  NaN   \n",
        "932          NaN                 NaN                  NaN   \n",
        "933          NaN                 NaN                  NaN   \n",
        "934          NaN                 NaN                  NaN   \n",
        "936          NaN                 NaN                  NaN   \n",
        "937          NaN                 NaN                  NaN   \n",
        "938          NaN                 NaN                  NaN   \n",
        "939          NaN                 NaN                  NaN   \n",
        "940          NaN                 NaN                  NaN   \n",
        "941          NaN                 NaN                  NaN   \n",
        "942          NaN                 NaN                  NaN   \n",
        "943          NaN                 NaN                  NaN   \n",
        "944          NaN                 NaN                  NaN   \n",
        "945          NaN                 NaN                  NaN   \n",
        "946          NaN                 NaN                  NaN   \n",
        "947          NaN                 NaN                  NaN   \n",
        "\n",
        "     total_pitching_earned_runs  total_pitcher_strikeouts  average_ERA  \\\n",
        "908                         NaN                       NaN          NaN   \n",
        "909                         NaN                       NaN          NaN   \n",
        "910                         NaN                       NaN          NaN   \n",
        "911                         NaN                       NaN          NaN   \n",
        "912                         NaN                       NaN          NaN   \n",
        "913                         NaN                       NaN          NaN   \n",
        "914                         NaN                       NaN          NaN   \n",
        "916                         NaN                       NaN          NaN   \n",
        "917                         NaN                       NaN          NaN   \n",
        "918                         NaN                       NaN          NaN   \n",
        "919                         NaN                       NaN          NaN   \n",
        "920                         NaN                       NaN          NaN   \n",
        "921                         NaN                       NaN          NaN   \n",
        "922                         NaN                       NaN          NaN   \n",
        "923                         NaN                       NaN          NaN   \n",
        "924                         NaN                       NaN          NaN   \n",
        "925                         NaN                       NaN          NaN   \n",
        "926                         NaN                       NaN          NaN   \n",
        "927                         NaN                       NaN          NaN   \n",
        "928                         NaN                       NaN          NaN   \n",
        "929                         NaN                       NaN          NaN   \n",
        "930                         NaN                       NaN          NaN   \n",
        "931                         NaN                       NaN          NaN   \n",
        "932                         NaN                       NaN          NaN   \n",
        "933                         NaN                       NaN          NaN   \n",
        "934                         NaN                       NaN          NaN   \n",
        "936                         NaN                       NaN          NaN   \n",
        "937                         NaN                       NaN          NaN   \n",
        "938                         NaN                       NaN          NaN   \n",
        "939                         NaN                       NaN          NaN   \n",
        "940                         NaN                       NaN          NaN   \n",
        "941                         NaN                       NaN          NaN   \n",
        "942                         NaN                       NaN          NaN   \n",
        "943                         NaN                       NaN          NaN   \n",
        "944                         NaN                       NaN          NaN   \n",
        "945                         NaN                       NaN          NaN   \n",
        "946                         NaN                       NaN          NaN   \n",
        "947                         NaN                       NaN          NaN   \n",
        "\n",
        "     total_wild_pitches  total_hit_by_pitch  total_games_finished  \\\n",
        "908                 NaN                 NaN                   NaN   \n",
        "909                 NaN                 NaN                   NaN   \n",
        "910                 NaN                 NaN                   NaN   \n",
        "911                 NaN                 NaN                   NaN   \n",
        "912                 NaN                 NaN                   NaN   \n",
        "913                 NaN                 NaN                   NaN   \n",
        "914                 NaN                 NaN                   NaN   \n",
        "916                 NaN                 NaN                   NaN   \n",
        "917                 NaN                 NaN                   NaN   \n",
        "918                 NaN                 NaN                   NaN   \n",
        "919                 NaN                 NaN                   NaN   \n",
        "920                 NaN                 NaN                   NaN   \n",
        "921                 NaN                 NaN                   NaN   \n",
        "922                 NaN                 NaN                   NaN   \n",
        "923                 NaN                 NaN                   NaN   \n",
        "924                 NaN                 NaN                   NaN   \n",
        "925                 NaN                 NaN                   NaN   \n",
        "926                 NaN                 NaN                   NaN   \n",
        "927                 NaN                 NaN                   NaN   \n",
        "928                 NaN                 NaN                   NaN   \n",
        "929                 NaN                 NaN                   NaN   \n",
        "930                 NaN                 NaN                   NaN   \n",
        "931                 NaN                 NaN                   NaN   \n",
        "932                 NaN                 NaN                   NaN   \n",
        "933                 NaN                 NaN                   NaN   \n",
        "934                 NaN                 NaN                   NaN   \n",
        "936                 NaN                 NaN                   NaN   \n",
        "937                 NaN                 NaN                   NaN   \n",
        "938                 NaN                 NaN                   NaN   \n",
        "939                 NaN                 NaN                   NaN   \n",
        "940                 NaN                 NaN                   NaN   \n",
        "941                 NaN                 NaN                   NaN   \n",
        "942                 NaN                 NaN                   NaN   \n",
        "943                 NaN                 NaN                   NaN   \n",
        "944                 NaN                 NaN                   NaN   \n",
        "945                 NaN                 NaN                   NaN   \n",
        "946                 NaN                 NaN                   NaN   \n",
        "947                 NaN                 NaN                   NaN   \n",
        "\n",
        "     total_runs_allowed  total_games_fielded  total_time_in_field_with_outs  \\\n",
        "908                 NaN                  NaN                            NaN   \n",
        "909                 NaN                  NaN                            NaN   \n",
        "910                 NaN                  NaN                            NaN   \n",
        "911                 NaN                  NaN                            NaN   \n",
        "912                 NaN                  NaN                            NaN   \n",
        "913                 NaN                  NaN                            NaN   \n",
        "914                 NaN                  NaN                            NaN   \n",
        "916                 NaN                  NaN                            NaN   \n",
        "917                 NaN                  NaN                            NaN   \n",
        "918                 NaN                  NaN                            NaN   \n",
        "919                 NaN                  NaN                            NaN   \n",
        "920                 NaN                  NaN                            NaN   \n",
        "921                 NaN                  NaN                            NaN   \n",
        "922                 NaN                  NaN                            NaN   \n",
        "923                 NaN                  NaN                            NaN   \n",
        "924                 NaN                  NaN                            NaN   \n",
        "925                 NaN                  NaN                            NaN   \n",
        "926                 NaN                  NaN                            NaN   \n",
        "927                 NaN                  NaN                            NaN   \n",
        "928                 NaN                  NaN                            NaN   \n",
        "929                 NaN                  NaN                            NaN   \n",
        "930                 NaN                  NaN                            NaN   \n",
        "931                 NaN                  NaN                            NaN   \n",
        "932                 NaN                  NaN                            NaN   \n",
        "933                 NaN                  NaN                            NaN   \n",
        "934                 NaN                  NaN                            NaN   \n",
        "936                 NaN                  NaN                            NaN   \n",
        "937                 NaN                  NaN                            NaN   \n",
        "938                 NaN                  NaN                            NaN   \n",
        "939                 NaN                  NaN                            NaN   \n",
        "940                 NaN                  NaN                            NaN   \n",
        "941                 NaN                  NaN                            NaN   \n",
        "942                 NaN                  NaN                            NaN   \n",
        "943                 NaN                  NaN                            NaN   \n",
        "944                 NaN                  NaN                            NaN   \n",
        "945                 NaN                  NaN                            NaN   \n",
        "946                 NaN                  NaN                            NaN   \n",
        "947                 NaN                  NaN                            NaN   \n",
        "\n",
        "     total_putouts  total_errors  total_double_plays  teamID_BAL  teamID_BOS  \\\n",
        "908            NaN           NaN                 NaN           0           0   \n",
        "909            NaN           NaN                 NaN           0           0   \n",
        "910            NaN           NaN                 NaN           0           0   \n",
        "911            NaN           NaN                 NaN           0           0   \n",
        "912            NaN           NaN                 NaN           0           0   \n",
        "913            NaN           NaN                 NaN           0           0   \n",
        "914            NaN           NaN                 NaN           0           0   \n",
        "916            NaN           NaN                 NaN           0           0   \n",
        "917            NaN           NaN                 NaN           0           0   \n",
        "918            NaN           NaN                 NaN           0           1   \n",
        "919            NaN           NaN                 NaN           0           0   \n",
        "920            NaN           NaN                 NaN           0           0   \n",
        "921            NaN           NaN                 NaN           0           0   \n",
        "922            NaN           NaN                 NaN           0           0   \n",
        "923            NaN           NaN                 NaN           0           0   \n",
        "924            NaN           NaN                 NaN           0           0   \n",
        "925            NaN           NaN                 NaN           0           0   \n",
        "926            NaN           NaN                 NaN           0           1   \n",
        "927            NaN           NaN                 NaN           0           0   \n",
        "928            NaN           NaN                 NaN           0           0   \n",
        "929            NaN           NaN                 NaN           0           0   \n",
        "930            NaN           NaN                 NaN           0           0   \n",
        "931            NaN           NaN                 NaN           0           0   \n",
        "932            NaN           NaN                 NaN           0           0   \n",
        "933            NaN           NaN                 NaN           0           0   \n",
        "934            NaN           NaN                 NaN           0           1   \n",
        "936            NaN           NaN                 NaN           0           0   \n",
        "937            NaN           NaN                 NaN           0           1   \n",
        "938            NaN           NaN                 NaN           0           0   \n",
        "939            NaN           NaN                 NaN           0           0   \n",
        "940            NaN           NaN                 NaN           0           0   \n",
        "941            NaN           NaN                 NaN           0           0   \n",
        "942            NaN           NaN                 NaN           0           0   \n",
        "943            NaN           NaN                 NaN           0           0   \n",
        "944            NaN           NaN                 NaN           0           0   \n",
        "945            NaN           NaN                 NaN           0           0   \n",
        "946            NaN           NaN                 NaN           0           0   \n",
        "947            NaN           NaN                 NaN           0           0   \n",
        "\n",
        "     teamID_BRO  teamID_BSN  teamID_CAL  teamID_CHA  teamID_CHN  teamID_CIN  \\\n",
        "908           0           0           0           0           0           0   \n",
        "909           0           0           0           0           0           0   \n",
        "910           0           0           0           0           0           0   \n",
        "911           0           0           0           0           0           0   \n",
        "912           0           0           0           1           0           0   \n",
        "913           0           0           0           0           1           0   \n",
        "914           0           0           0           0           0           0   \n",
        "916           0           0           0           0           0           0   \n",
        "917           0           0           0           0           1           0   \n",
        "918           0           0           0           0           0           0   \n",
        "919           0           1           0           0           0           0   \n",
        "920           0           0           0           0           0           0   \n",
        "921           0           0           0           0           1           0   \n",
        "922           0           0           0           0           0           0   \n",
        "923           0           0           0           0           0           0   \n",
        "924           0           0           1           0           0           0   \n",
        "925           0           0           0           0           0           0   \n",
        "926           0           0           0           0           0           0   \n",
        "927           0           0           0           1           0           0   \n",
        "928           0           1           0           0           0           0   \n",
        "929           1           0           0           0           0           0   \n",
        "930           0           0           0           0           0           0   \n",
        "931           1           0           0           0           0           0   \n",
        "932           0           0           0           0           0           0   \n",
        "933           0           0           0           0           0           0   \n",
        "934           0           0           0           0           0           0   \n",
        "936           0           0           0           0           0           0   \n",
        "937           0           0           0           0           0           0   \n",
        "938           0           0           0           0           0           0   \n",
        "939           0           0           0           0           0           0   \n",
        "940           0           0           0           0           0           0   \n",
        "941           0           0           0           0           0           0   \n",
        "942           0           0           0           0           0           0   \n",
        "943           0           0           0           0           0           0   \n",
        "944           0           0           0           0           0           0   \n",
        "945           0           0           1           0           0           0   \n",
        "946           0           0           0           0           0           0   \n",
        "947           0           0           0           0           0           0   \n",
        "\n",
        "     teamID_CLE  teamID_DET  teamID_HOU  teamID_KCA  teamID_LAN  teamID_MIN  \\\n",
        "908           0           0           0           1           0           0   \n",
        "909           0           1           0           0           0           0   \n",
        "910           0           0           0           0           0           0   \n",
        "911           0           0           0           0           0           0   \n",
        "912           0           0           0           0           0           0   \n",
        "913           0           0           0           0           0           0   \n",
        "914           0           0           0           0           0           0   \n",
        "916           0           0           0           0           0           0   \n",
        "917           0           0           0           0           0           0   \n",
        "918           0           0           0           0           0           0   \n",
        "919           0           0           0           0           0           0   \n",
        "920           0           0           0           0           1           0   \n",
        "921           0           0           0           0           0           0   \n",
        "922           0           0           0           0           0           0   \n",
        "923           0           0           0           0           0           0   \n",
        "924           0           0           0           0           0           0   \n",
        "925           0           0           0           0           0           0   \n",
        "926           0           0           0           0           0           0   \n",
        "927           0           0           0           0           0           0   \n",
        "928           0           0           0           0           0           0   \n",
        "929           0           0           0           0           0           0   \n",
        "930           0           0           0           0           0           0   \n",
        "931           0           0           0           0           0           0   \n",
        "932           1           0           0           0           0           0   \n",
        "933           0           0           1           0           0           0   \n",
        "934           0           0           0           0           0           0   \n",
        "936           0           0           0           0           1           0   \n",
        "937           0           0           0           0           0           0   \n",
        "938           0           1           0           0           0           0   \n",
        "939           0           0           0           0           0           0   \n",
        "940           0           0           0           0           0           0   \n",
        "941           0           0           0           0           0           0   \n",
        "942           0           0           0           0           0           0   \n",
        "943           0           0           0           0           0           0   \n",
        "944           0           0           0           0           0           0   \n",
        "945           0           0           0           0           0           0   \n",
        "946           0           0           0           0           0           0   \n",
        "947           0           0           0           0           0           0   \n",
        "\n",
        "     teamID_ML4  teamID_MON  teamID_NY1  teamID_NYA  teamID_NYN  teamID_Other  \\\n",
        "908           0           0           0           0           0             0   \n",
        "909           0           0           0           0           0             0   \n",
        "910           0           0           0           1           0             0   \n",
        "911           0           0           0           0           0             1   \n",
        "912           0           0           0           0           0             0   \n",
        "913           0           0           0           0           0             0   \n",
        "914           0           0           0           0           0             0   \n",
        "916           0           0           0           0           0             0   \n",
        "917           0           0           0           0           0             0   \n",
        "918           0           0           0           0           0             0   \n",
        "919           0           0           0           0           0             0   \n",
        "920           0           0           0           0           0             0   \n",
        "921           0           0           0           0           0             0   \n",
        "922           0           0           0           0           0             0   \n",
        "923           0           0           0           0           0             0   \n",
        "924           0           0           0           0           0             0   \n",
        "925           0           0           0           0           0             0   \n",
        "926           0           0           0           0           0             0   \n",
        "927           0           0           0           0           0             0   \n",
        "928           0           0           0           0           0             0   \n",
        "929           0           0           0           0           0             0   \n",
        "930           0           0           0           0           0             1   \n",
        "931           0           0           0           0           0             0   \n",
        "932           0           0           0           0           0             0   \n",
        "933           0           0           0           0           0             0   \n",
        "934           0           0           0           0           0             0   \n",
        "936           0           0           0           0           0             0   \n",
        "937           0           0           0           0           0             0   \n",
        "938           0           0           0           0           0             0   \n",
        "939           0           0           0           0           0             1   \n",
        "940           0           0           0           0           0             0   \n",
        "941           0           0           1           0           0             0   \n",
        "942           1           0           0           0           0             0   \n",
        "943           0           0           0           0           0             0   \n",
        "944           0           0           0           0           1             0   \n",
        "945           0           0           0           0           0             0   \n",
        "946           0           0           0           0           0             1   \n",
        "947           0           0           0           0           0             0   \n",
        "\n",
        "     teamID_PHA  teamID_PHI  teamID_PIT  teamID_SFN  teamID_SLA  teamID_SLN  \\\n",
        "908           0           0           0           0           0           0   \n",
        "909           0           0           0           0           0           0   \n",
        "910           0           0           0           0           0           0   \n",
        "911           0           0           0           0           0           0   \n",
        "912           0           0           0           0           0           0   \n",
        "913           0           0           0           0           0           0   \n",
        "914           0           1           0           0           0           0   \n",
        "916           0           0           0           0           1           0   \n",
        "917           0           0           0           0           0           0   \n",
        "918           0           0           0           0           0           0   \n",
        "919           0           0           0           0           0           0   \n",
        "920           0           0           0           0           0           0   \n",
        "921           0           0           0           0           0           0   \n",
        "922           0           1           0           0           0           0   \n",
        "923           0           1           0           0           0           0   \n",
        "924           0           0           0           0           0           0   \n",
        "925           1           0           0           0           0           0   \n",
        "926           0           0           0           0           0           0   \n",
        "927           0           0           0           0           0           0   \n",
        "928           0           0           0           0           0           0   \n",
        "929           0           0           0           0           0           0   \n",
        "930           0           0           0           0           0           0   \n",
        "931           0           0           0           0           0           0   \n",
        "932           0           0           0           0           0           0   \n",
        "933           0           0           0           0           0           0   \n",
        "934           0           0           0           0           0           0   \n",
        "936           0           0           0           0           0           0   \n",
        "937           0           0           0           0           0           0   \n",
        "938           0           0           0           0           0           0   \n",
        "939           0           0           0           0           0           0   \n",
        "940           0           0           1           0           0           0   \n",
        "941           0           0           0           0           0           0   \n",
        "942           0           0           0           0           0           0   \n",
        "943           0           0           0           0           0           0   \n",
        "944           0           0           0           0           0           0   \n",
        "945           0           0           0           0           0           0   \n",
        "946           0           0           0           0           0           0   \n",
        "947           0           0           1           0           0           0   \n",
        "\n",
        "     teamID_WS1  lgID_AL  lgID_NL  lgID_Other  \n",
        "908           0        1        0           0  \n",
        "909           0        1        0           0  \n",
        "910           0        1        0           0  \n",
        "911           0        0        0           1  \n",
        "912           0        1        0           0  \n",
        "913           0        0        1           0  \n",
        "914           0        0        1           0  \n",
        "916           0        1        0           0  \n",
        "917           0        0        1           0  \n",
        "918           0        1        0           0  \n",
        "919           0        0        1           0  \n",
        "920           0        0        1           0  \n",
        "921           0        0        1           0  \n",
        "922           0        0        1           0  \n",
        "923           0        0        1           0  \n",
        "924           0        1        0           0  \n",
        "925           0        1        0           0  \n",
        "926           0        1        0           0  \n",
        "927           0        1        0           0  \n",
        "928           0        0        1           0  \n",
        "929           0        0        1           0  \n",
        "930           0        0        0           1  \n",
        "931           0        1        0           0  \n",
        "932           0        1        0           0  \n",
        "933           0        0        1           0  \n",
        "934           0        1        0           0  \n",
        "936           0        0        1           0  \n",
        "937           0        1        0           0  \n",
        "938           0        1        0           0  \n",
        "939           0        0        1           0  \n",
        "940           0        0        1           0  \n",
        "941           0        0        1           0  \n",
        "942           0        1        0           0  \n",
        "943           1        1        0           0  \n",
        "944           0        0        1           0  \n",
        "945           0        1        0           0  \n",
        "946           0        0        1           0  \n",
        "947           0        1        0           0  "
       ]
      }
     ],
     "prompt_number": 10
    },
    {
     "cell_type": "code",
     "collapsed": false,
     "input": [
      "# dropping rows with no data in any of the columns.\n",
      "explanatory_df.dropna(how='any', inplace = True)\n",
      "explanatory_df.isnull().sum()"
     ],
     "language": "python",
     "metadata": {},
     "outputs": [
      {
       "metadata": {},
       "output_type": "pyout",
       "prompt_number": 11,
       "text": [
        "total_at_bats                    0\n",
        "total_hits                       0\n",
        "total_runs                       0\n",
        "total_home_runs                  0\n",
        "total_stolen_bases               0\n",
        "total_RBI                        0\n",
        "total_caught_stealing            0\n",
        "total_hitter_strikeouts          0\n",
        "total_intentional_walks          0\n",
        "total_games_pitched              0\n",
        "total_saves                      0\n",
        "total_outs_pitched               0\n",
        "total_pitching_hits              0\n",
        "total_pitching_earned_runs       0\n",
        "total_pitcher_strikeouts         0\n",
        "average_ERA                      0\n",
        "total_wild_pitches               0\n",
        "total_hit_by_pitch               0\n",
        "total_games_finished             0\n",
        "total_runs_allowed               0\n",
        "total_games_fielded              0\n",
        "total_time_in_field_with_outs    0\n",
        "total_putouts                    0\n",
        "total_errors                     0\n",
        "total_double_plays               0\n",
        "teamID_BAL                       0\n",
        "teamID_BOS                       0\n",
        "teamID_BRO                       0\n",
        "teamID_BSN                       0\n",
        "teamID_CAL                       0\n",
        "teamID_CHA                       0\n",
        "teamID_CHN                       0\n",
        "teamID_CIN                       0\n",
        "teamID_CLE                       0\n",
        "teamID_DET                       0\n",
        "teamID_HOU                       0\n",
        "teamID_KCA                       0\n",
        "teamID_LAN                       0\n",
        "teamID_MIN                       0\n",
        "teamID_ML4                       0\n",
        "teamID_MON                       0\n",
        "teamID_NY1                       0\n",
        "teamID_NYA                       0\n",
        "teamID_NYN                       0\n",
        "teamID_Other                     0\n",
        "teamID_PHA                       0\n",
        "teamID_PHI                       0\n",
        "teamID_PIT                       0\n",
        "teamID_SFN                       0\n",
        "teamID_SLA                       0\n",
        "teamID_SLN                       0\n",
        "teamID_WS1                       0\n",
        "lgID_AL                          0\n",
        "lgID_NL                          0\n",
        "lgID_Other                       0\n",
        "Length: 55, dtype: int64"
       ]
      }
     ],
     "prompt_number": 11
    },
    {
     "cell_type": "code",
     "collapsed": false,
     "input": [
      "response_series.head()\n",
      "response_series.value_counts()"
     ],
     "language": "python",
     "metadata": {},
     "outputs": [
      {
       "metadata": {},
       "output_type": "pyout",
       "prompt_number": 12,
       "text": [
        "0    704\n",
        "1    244\n",
        "dtype: int64"
       ]
      }
     ],
     "prompt_number": 12
    },
    {
     "cell_type": "code",
     "collapsed": false,
     "input": [
      "print 'Explanatory DF'\n",
      "print explanatory_df.index\n",
      "print 'Response Series'\n",
      "print response_series.index"
     ],
     "language": "python",
     "metadata": {},
     "outputs": [
      {
       "output_type": "stream",
       "stream": "stdout",
       "text": [
        "Explanatory DF\n",
        "Int64Index([0, 1, 2, 3, 4, 5, 6, 7, 8, 9, 10, 11, 12, 13, 14, 15, 16, 17, 18, 19, 20, 21, 22, 23, 24, 25, 26, 27, 28, 29, 30, 31, 32, 33, 35, 36, 38, 39, 40, 41, 42, 43, 44, 45, 46, 47, 48, 49, 51, 52, 53, 54, 55, 56, 57, 58, 59, 60, 61, 62, 63, 64, 65, 66, 67, 68, 69, 70, 71, 72, 73, 74, 75, 76, 77, 78, 79, 80, 81, 82, 83, 84, 85, 86, 87, 88, 89, 90, 91, 92, 93, 94, 95, 96, 97, 98, 99, 100, 101, 102, ...], dtype='int64')\n",
        "Response Series\n",
        "Int64Index([0, 1, 2, 3, 4, 5, 6, 7, 8, 9, 10, 11, 12, 13, 14, 15, 16, 17, 18, 19, 20, 21, 22, 23, 24, 25, 26, 27, 28, 29, 30, 31, 32, 33, 34, 35, 36, 37, 38, 39, 40, 41, 42, 43, 44, 45, 46, 47, 48, 49, 50, 51, 52, 53, 54, 55, 56, 57, 58, 59, 60, 61, 62, 63, 64, 65, 66, 67, 68, 69, 70, 71, 72, 73, 74, 75, 76, 77, 78, 79, 80, 81, 82, 83, 84, 85, 86, 87, 88, 89, 90, 91, 92, 93, 94, 95, 96, 97, 98, 99, ...], dtype='int64')\n"
       ]
      }
     ],
     "prompt_number": 13
    },
    {
     "cell_type": "code",
     "collapsed": false,
     "input": [
      "missing_rows = response_series.index[~response_series.index.isin(explanatory_df.index)]\n",
      "print missing_rows\n",
      "\n"
     ],
     "language": "python",
     "metadata": {},
     "outputs": [
      {
       "output_type": "stream",
       "stream": "stdout",
       "text": [
        "Int64Index([34, 37, 50, 104, 135, 145, 148, 153, 156, 176, 206, 217, 228, 263, 289, 292, 298, 314, 315, 366, 403, 406, 422, 426, 461, 480, 497, 504, 524, 525, 560, 570, 729, 770, 876, 896, 897, 899, 908, 909, 910, 911, 912, 913, 914, 915, 916, 917, 918, 919, 920, 921, 922, 923, 924, 925, 926, 927, 928, 929, 930, 931, 932, 933, 934, 935, 936, 937, 938, 939, 940, 941, 942, 943, 944, 945, 946, 947], dtype='int64')\n"
       ]
      }
     ],
     "prompt_number": 14
    },
    {
     "cell_type": "code",
     "collapsed": false,
     "input": [
      "response_series2 = response_series.drop(missing_rows,axis=0)\n",
      "missing_rows = response_series2.index[~response_series2.index.isin(explanatory_df.index)]\n",
      "print missing_rows"
     ],
     "language": "python",
     "metadata": {},
     "outputs": [
      {
       "output_type": "stream",
       "stream": "stdout",
       "text": [
        "Int64Index([], dtype='int64')\n"
       ]
      }
     ],
     "prompt_number": 15
    },
    {
     "cell_type": "code",
     "collapsed": false,
     "input": [
      "resp_missing = explanatory_df.index[~explanatory_df.index.isin(explanatory_df.index)]\n",
      "print resp_missing"
     ],
     "language": "python",
     "metadata": {},
     "outputs": [
      {
       "output_type": "stream",
       "stream": "stdout",
       "text": [
        "Int64Index([], dtype='int64')\n"
       ]
      }
     ],
     "prompt_number": 16
    },
    {
     "cell_type": "code",
     "collapsed": false,
     "input": [
      "# scaling data\n",
      "scaler = preprocessing.StandardScaler()\n",
      "scaler.fit(explanatory_df)\n",
      "explanatory_df = pandas.DataFrame(scaler.transform(explanatory_df), columns = explanatory_df.columns)"
     ],
     "language": "python",
     "metadata": {},
     "outputs": [],
     "prompt_number": 17
    },
    {
     "cell_type": "code",
     "collapsed": false,
     "input": [
      "explanatory_df.describe()"
     ],
     "language": "python",
     "metadata": {},
     "outputs": [
      {
       "html": [
        "<div style=\"max-height:1000px;max-width:1500px;overflow:auto;\">\n",
        "<table border=\"1\" class=\"dataframe\">\n",
        "  <thead>\n",
        "    <tr style=\"text-align: right;\">\n",
        "      <th></th>\n",
        "      <th>total_at_bats</th>\n",
        "      <th>total_hits</th>\n",
        "      <th>total_runs</th>\n",
        "      <th>total_home_runs</th>\n",
        "      <th>total_stolen_bases</th>\n",
        "      <th>total_RBI</th>\n",
        "      <th>total_caught_stealing</th>\n",
        "      <th>total_hitter_strikeouts</th>\n",
        "      <th>total_intentional_walks</th>\n",
        "      <th>total_games_pitched</th>\n",
        "      <th>total_saves</th>\n",
        "      <th>total_outs_pitched</th>\n",
        "      <th>total_pitching_hits</th>\n",
        "      <th>total_pitching_earned_runs</th>\n",
        "      <th>total_pitcher_strikeouts</th>\n",
        "      <th>average_ERA</th>\n",
        "      <th>total_wild_pitches</th>\n",
        "      <th>total_hit_by_pitch</th>\n",
        "      <th>total_games_finished</th>\n",
        "      <th>total_runs_allowed</th>\n",
        "      <th>total_games_fielded</th>\n",
        "      <th>total_time_in_field_with_outs</th>\n",
        "      <th>total_putouts</th>\n",
        "      <th>total_errors</th>\n",
        "      <th>total_double_plays</th>\n",
        "      <th>teamID_BAL</th>\n",
        "      <th>teamID_BOS</th>\n",
        "      <th>teamID_BRO</th>\n",
        "      <th>teamID_BSN</th>\n",
        "      <th>teamID_CAL</th>\n",
        "      <th>teamID_CHA</th>\n",
        "      <th>teamID_CHN</th>\n",
        "      <th>teamID_CIN</th>\n",
        "      <th>teamID_CLE</th>\n",
        "      <th>teamID_DET</th>\n",
        "      <th>teamID_HOU</th>\n",
        "      <th>teamID_KCA</th>\n",
        "      <th>teamID_LAN</th>\n",
        "      <th>teamID_MIN</th>\n",
        "      <th>teamID_ML4</th>\n",
        "      <th>teamID_MON</th>\n",
        "      <th>teamID_NY1</th>\n",
        "      <th>teamID_NYA</th>\n",
        "      <th>teamID_NYN</th>\n",
        "      <th>teamID_Other</th>\n",
        "      <th>teamID_PHA</th>\n",
        "      <th>teamID_PHI</th>\n",
        "      <th>teamID_PIT</th>\n",
        "      <th>teamID_SFN</th>\n",
        "      <th>teamID_SLA</th>\n",
        "      <th>teamID_SLN</th>\n",
        "      <th>teamID_WS1</th>\n",
        "      <th>lgID_AL</th>\n",
        "      <th>lgID_NL</th>\n",
        "      <th>lgID_Other</th>\n",
        "    </tr>\n",
        "  </thead>\n",
        "  <tbody>\n",
        "    <tr>\n",
        "      <th>count</th>\n",
        "      <td> 8.700000e+02</td>\n",
        "      <td> 8.700000e+02</td>\n",
        "      <td> 8.700000e+02</td>\n",
        "      <td> 8.700000e+02</td>\n",
        "      <td> 8.700000e+02</td>\n",
        "      <td> 8.700000e+02</td>\n",
        "      <td> 8.700000e+02</td>\n",
        "      <td> 8.700000e+02</td>\n",
        "      <td> 8.700000e+02</td>\n",
        "      <td> 8.700000e+02</td>\n",
        "      <td> 8.700000e+02</td>\n",
        "      <td> 8.700000e+02</td>\n",
        "      <td> 8.700000e+02</td>\n",
        "      <td> 8.700000e+02</td>\n",
        "      <td> 8.700000e+02</td>\n",
        "      <td> 8.700000e+02</td>\n",
        "      <td> 8.700000e+02</td>\n",
        "      <td> 8.700000e+02</td>\n",
        "      <td> 8.700000e+02</td>\n",
        "      <td> 8.700000e+02</td>\n",
        "      <td> 8.700000e+02</td>\n",
        "      <td> 8.700000e+02</td>\n",
        "      <td> 8.700000e+02</td>\n",
        "      <td> 8.700000e+02</td>\n",
        "      <td> 8.700000e+02</td>\n",
        "      <td> 8.700000e+02</td>\n",
        "      <td> 8.700000e+02</td>\n",
        "      <td> 8.700000e+02</td>\n",
        "      <td> 8.700000e+02</td>\n",
        "      <td> 8.700000e+02</td>\n",
        "      <td> 8.700000e+02</td>\n",
        "      <td> 8.700000e+02</td>\n",
        "      <td> 8.700000e+02</td>\n",
        "      <td> 8.700000e+02</td>\n",
        "      <td> 8.700000e+02</td>\n",
        "      <td> 8.700000e+02</td>\n",
        "      <td> 8.700000e+02</td>\n",
        "      <td> 8.700000e+02</td>\n",
        "      <td> 8.700000e+02</td>\n",
        "      <td> 8.700000e+02</td>\n",
        "      <td> 8.700000e+02</td>\n",
        "      <td> 8.700000e+02</td>\n",
        "      <td> 8.700000e+02</td>\n",
        "      <td> 8.700000e+02</td>\n",
        "      <td> 8.700000e+02</td>\n",
        "      <td> 8.700000e+02</td>\n",
        "      <td> 8.700000e+02</td>\n",
        "      <td> 8.700000e+02</td>\n",
        "      <td> 8.700000e+02</td>\n",
        "      <td> 8.700000e+02</td>\n",
        "      <td> 8.700000e+02</td>\n",
        "      <td> 8.700000e+02</td>\n",
        "      <td> 8.700000e+02</td>\n",
        "      <td> 8.700000e+02</td>\n",
        "      <td> 8.700000e+02</td>\n",
        "    </tr>\n",
        "    <tr>\n",
        "      <th>mean</th>\n",
        "      <td> 3.266863e-17</td>\n",
        "      <td>-4.900295e-17</td>\n",
        "      <td>-4.083579e-17</td>\n",
        "      <td>-7.146263e-18</td>\n",
        "      <td>-4.900295e-17</td>\n",
        "      <td> 6.942084e-17</td>\n",
        "      <td>-3.675221e-17</td>\n",
        "      <td>-4.900295e-17</td>\n",
        "      <td>-3.266863e-17</td>\n",
        "      <td> 1.470088e-16</td>\n",
        "      <td>-6.125368e-18</td>\n",
        "      <td> 1.429253e-16</td>\n",
        "      <td>-8.167158e-18</td>\n",
        "      <td> 6.125368e-17</td>\n",
        "      <td> 5.717011e-17</td>\n",
        "      <td> 2.654326e-16</td>\n",
        "      <td> 8.167158e-18</td>\n",
        "      <td> 5.308653e-17</td>\n",
        "      <td>-1.633432e-17</td>\n",
        "      <td>-9.596411e-17</td>\n",
        "      <td> 7.962979e-17</td>\n",
        "      <td> 6.431637e-17</td>\n",
        "      <td>-6.942084e-17</td>\n",
        "      <td>-2.450147e-17</td>\n",
        "      <td>-3.266863e-17</td>\n",
        "      <td> 5.308653e-17</td>\n",
        "      <td> 4.440892e-17</td>\n",
        "      <td> 7.146263e-17</td>\n",
        "      <td> 2.041789e-17</td>\n",
        "      <td>-3.675221e-17</td>\n",
        "      <td> 1.633432e-17</td>\n",
        "      <td>-5.308653e-17</td>\n",
        "      <td>-6.125368e-17</td>\n",
        "      <td> 2.858505e-17</td>\n",
        "      <td>-8.167158e-18</td>\n",
        "      <td>-5.512832e-17</td>\n",
        "      <td>-5.717011e-17</td>\n",
        "      <td>-4.900295e-17</td>\n",
        "      <td>-3.675221e-17</td>\n",
        "      <td>-1.531342e-17</td>\n",
        "      <td>-2.041789e-17</td>\n",
        "      <td>-5.512832e-17</td>\n",
        "      <td>-8.575516e-17</td>\n",
        "      <td> 5.104474e-18</td>\n",
        "      <td> 3.879400e-17</td>\n",
        "      <td> 5.614921e-17</td>\n",
        "      <td>-8.167158e-17</td>\n",
        "      <td>-4.083579e-17</td>\n",
        "      <td>-2.041789e-17</td>\n",
        "      <td>-4.083579e-17</td>\n",
        "      <td>-1.633432e-17</td>\n",
        "      <td> 3.675221e-17</td>\n",
        "      <td> 1.674267e-16</td>\n",
        "      <td>-8.167158e-18</td>\n",
        "      <td>-2.552237e-17</td>\n",
        "    </tr>\n",
        "    <tr>\n",
        "      <th>std</th>\n",
        "      <td> 1.000575e+00</td>\n",
        "      <td> 1.000575e+00</td>\n",
        "      <td> 1.000575e+00</td>\n",
        "      <td> 1.000575e+00</td>\n",
        "      <td> 1.000575e+00</td>\n",
        "      <td> 1.000575e+00</td>\n",
        "      <td> 1.000575e+00</td>\n",
        "      <td> 1.000575e+00</td>\n",
        "      <td> 1.000575e+00</td>\n",
        "      <td> 1.000575e+00</td>\n",
        "      <td> 1.000575e+00</td>\n",
        "      <td> 1.000575e+00</td>\n",
        "      <td> 1.000575e+00</td>\n",
        "      <td> 1.000575e+00</td>\n",
        "      <td> 1.000575e+00</td>\n",
        "      <td> 1.000575e+00</td>\n",
        "      <td> 1.000575e+00</td>\n",
        "      <td> 1.000575e+00</td>\n",
        "      <td> 1.000575e+00</td>\n",
        "      <td> 1.000575e+00</td>\n",
        "      <td> 1.000575e+00</td>\n",
        "      <td> 1.000575e+00</td>\n",
        "      <td> 1.000575e+00</td>\n",
        "      <td> 1.000575e+00</td>\n",
        "      <td> 1.000575e+00</td>\n",
        "      <td> 1.000575e+00</td>\n",
        "      <td> 1.000575e+00</td>\n",
        "      <td> 1.000575e+00</td>\n",
        "      <td> 1.000575e+00</td>\n",
        "      <td> 1.000575e+00</td>\n",
        "      <td> 1.000575e+00</td>\n",
        "      <td> 1.000575e+00</td>\n",
        "      <td> 1.000575e+00</td>\n",
        "      <td> 1.000575e+00</td>\n",
        "      <td> 1.000575e+00</td>\n",
        "      <td> 1.000575e+00</td>\n",
        "      <td> 1.000575e+00</td>\n",
        "      <td> 1.000575e+00</td>\n",
        "      <td> 1.000575e+00</td>\n",
        "      <td> 1.000575e+00</td>\n",
        "      <td> 1.000575e+00</td>\n",
        "      <td> 1.000575e+00</td>\n",
        "      <td> 1.000575e+00</td>\n",
        "      <td> 1.000575e+00</td>\n",
        "      <td> 1.000575e+00</td>\n",
        "      <td> 1.000575e+00</td>\n",
        "      <td> 1.000575e+00</td>\n",
        "      <td> 1.000575e+00</td>\n",
        "      <td> 1.000575e+00</td>\n",
        "      <td> 1.000575e+00</td>\n",
        "      <td> 1.000575e+00</td>\n",
        "      <td> 1.000575e+00</td>\n",
        "      <td> 1.000575e+00</td>\n",
        "      <td> 1.000575e+00</td>\n",
        "      <td> 1.000575e+00</td>\n",
        "    </tr>\n",
        "    <tr>\n",
        "      <th>min</th>\n",
        "      <td>-1.355298e+00</td>\n",
        "      <td>-1.235885e+00</td>\n",
        "      <td>-1.155209e+00</td>\n",
        "      <td>-7.178742e-01</td>\n",
        "      <td>-6.541615e-01</td>\n",
        "      <td>-1.118199e+00</td>\n",
        "      <td>-7.783895e-01</td>\n",
        "      <td>-1.114227e+00</td>\n",
        "      <td>-7.469327e-01</td>\n",
        "      <td>-2.509127e+00</td>\n",
        "      <td>-4.723633e-01</td>\n",
        "      <td>-2.303251e+00</td>\n",
        "      <td>-2.278392e+00</td>\n",
        "      <td>-2.342676e+00</td>\n",
        "      <td>-1.852721e+00</td>\n",
        "      <td>-2.399762e+00</td>\n",
        "      <td>-1.458936e+00</td>\n",
        "      <td>-1.612159e+00</td>\n",
        "      <td>-7.324148e-01</td>\n",
        "      <td>-2.269465e+00</td>\n",
        "      <td>-1.383621e+00</td>\n",
        "      <td>-1.253570e+00</td>\n",
        "      <td>-8.489236e-01</td>\n",
        "      <td>-9.255223e-01</td>\n",
        "      <td>-6.838766e-01</td>\n",
        "      <td>-1.610695e-01</td>\n",
        "      <td>-2.047344e-01</td>\n",
        "      <td>-2.016677e-01</td>\n",
        "      <td>-1.684304e-01</td>\n",
        "      <td>-1.078328e-01</td>\n",
        "      <td>-1.755155e-01</td>\n",
        "      <td>-2.546988e-01</td>\n",
        "      <td>-2.362737e-01</td>\n",
        "      <td>-2.137126e-01</td>\n",
        "      <td>-2.195285e-01</td>\n",
        "      <td>-1.533930e-01</td>\n",
        "      <td>-1.182625e-01</td>\n",
        "      <td>-1.720052e-01</td>\n",
        "      <td>-1.182625e-01</td>\n",
        "      <td>-1.022397e-01</td>\n",
        "      <td>-1.078328e-01</td>\n",
        "      <td>-2.416488e-01</td>\n",
        "      <td>-2.865127e-01</td>\n",
        "      <td>-1.324532e-01</td>\n",
        "      <td>-3.003757e-01</td>\n",
        "      <td>-2.016677e-01</td>\n",
        "      <td>-2.389731e-01</td>\n",
        "      <td>-2.770066e-01</td>\n",
        "      <td>-1.453505e-01</td>\n",
        "      <td>-1.182625e-01</td>\n",
        "      <td>-2.521303e-01</td>\n",
        "      <td>-1.823572e-01</td>\n",
        "      <td>-8.663158e-01</td>\n",
        "      <td>-1.125000e+00</td>\n",
        "      <td>-1.131618e-01</td>\n",
        "    </tr>\n",
        "    <tr>\n",
        "      <th>25%</th>\n",
        "      <td>-1.012331e+00</td>\n",
        "      <td>-1.018892e+00</td>\n",
        "      <td>-9.885563e-01</td>\n",
        "      <td>-6.747291e-01</td>\n",
        "      <td>-6.393859e-01</td>\n",
        "      <td>-9.482329e-01</td>\n",
        "      <td>-7.507937e-01</td>\n",
        "      <td>-6.923366e-01</td>\n",
        "      <td>-5.650818e-01</td>\n",
        "      <td> 4.913163e-02</td>\n",
        "      <td>-2.041809e-01</td>\n",
        "      <td> 2.902230e-02</td>\n",
        "      <td> 1.296365e-02</td>\n",
        "      <td> 3.074503e-02</td>\n",
        "      <td>-6.084413e-02</td>\n",
        "      <td>-1.039266e-01</td>\n",
        "      <td>-1.286028e-01</td>\n",
        "      <td>-1.062962e-01</td>\n",
        "      <td>-1.895360e-01</td>\n",
        "      <td> 2.150528e-02</td>\n",
        "      <td>-8.513116e-01</td>\n",
        "      <td>-4.709819e-01</td>\n",
        "      <td>-8.079772e-01</td>\n",
        "      <td>-7.273866e-01</td>\n",
        "      <td>-6.159881e-01</td>\n",
        "      <td>-1.610695e-01</td>\n",
        "      <td>-2.047344e-01</td>\n",
        "      <td>-2.016677e-01</td>\n",
        "      <td>-1.684304e-01</td>\n",
        "      <td>-1.078328e-01</td>\n",
        "      <td>-1.755155e-01</td>\n",
        "      <td>-2.546988e-01</td>\n",
        "      <td>-2.362737e-01</td>\n",
        "      <td>-2.137126e-01</td>\n",
        "      <td>-2.195285e-01</td>\n",
        "      <td>-1.533930e-01</td>\n",
        "      <td>-1.182625e-01</td>\n",
        "      <td>-1.720052e-01</td>\n",
        "      <td>-1.182625e-01</td>\n",
        "      <td>-1.022397e-01</td>\n",
        "      <td>-1.078328e-01</td>\n",
        "      <td>-2.416488e-01</td>\n",
        "      <td>-2.865127e-01</td>\n",
        "      <td>-1.324532e-01</td>\n",
        "      <td>-3.003757e-01</td>\n",
        "      <td>-2.016677e-01</td>\n",
        "      <td>-2.389731e-01</td>\n",
        "      <td>-2.770066e-01</td>\n",
        "      <td>-1.453505e-01</td>\n",
        "      <td>-1.182625e-01</td>\n",
        "      <td>-2.521303e-01</td>\n",
        "      <td>-1.823572e-01</td>\n",
        "      <td>-8.663158e-01</td>\n",
        "      <td>-1.125000e+00</td>\n",
        "      <td>-1.131618e-01</td>\n",
        "    </tr>\n",
        "    <tr>\n",
        "      <th>50%</th>\n",
        "      <td> 4.332538e-02</td>\n",
        "      <td> 1.357191e-02</td>\n",
        "      <td>-4.453173e-02</td>\n",
        "      <td>-4.374313e-01</td>\n",
        "      <td>-3.955879e-01</td>\n",
        "      <td>-1.668158e-01</td>\n",
        "      <td>-3.644537e-01</td>\n",
        "      <td>-3.126353e-01</td>\n",
        "      <td>-2.793159e-01</td>\n",
        "      <td> 4.913163e-02</td>\n",
        "      <td>-2.041809e-01</td>\n",
        "      <td> 2.902230e-02</td>\n",
        "      <td> 1.296365e-02</td>\n",
        "      <td> 3.074503e-02</td>\n",
        "      <td>-6.084413e-02</td>\n",
        "      <td>-1.039266e-01</td>\n",
        "      <td>-1.286028e-01</td>\n",
        "      <td>-1.062962e-01</td>\n",
        "      <td>-1.895360e-01</td>\n",
        "      <td> 2.150528e-02</td>\n",
        "      <td>-1.564228e-01</td>\n",
        "      <td>-2.111329e-01</td>\n",
        "      <td>-2.553197e-01</td>\n",
        "      <td>-2.471057e-01</td>\n",
        "      <td>-5.384012e-01</td>\n",
        "      <td>-1.610695e-01</td>\n",
        "      <td>-2.047344e-01</td>\n",
        "      <td>-2.016677e-01</td>\n",
        "      <td>-1.684304e-01</td>\n",
        "      <td>-1.078328e-01</td>\n",
        "      <td>-1.755155e-01</td>\n",
        "      <td>-2.546988e-01</td>\n",
        "      <td>-2.362737e-01</td>\n",
        "      <td>-2.137126e-01</td>\n",
        "      <td>-2.195285e-01</td>\n",
        "      <td>-1.533930e-01</td>\n",
        "      <td>-1.182625e-01</td>\n",
        "      <td>-1.720052e-01</td>\n",
        "      <td>-1.182625e-01</td>\n",
        "      <td>-1.022397e-01</td>\n",
        "      <td>-1.078328e-01</td>\n",
        "      <td>-2.416488e-01</td>\n",
        "      <td>-2.865127e-01</td>\n",
        "      <td>-1.324532e-01</td>\n",
        "      <td>-3.003757e-01</td>\n",
        "      <td>-2.016677e-01</td>\n",
        "      <td>-2.389731e-01</td>\n",
        "      <td>-2.770066e-01</td>\n",
        "      <td>-1.453505e-01</td>\n",
        "      <td>-1.182625e-01</td>\n",
        "      <td>-2.521303e-01</td>\n",
        "      <td>-1.823572e-01</td>\n",
        "      <td>-8.663158e-01</td>\n",
        "      <td> 8.888889e-01</td>\n",
        "      <td>-1.131618e-01</td>\n",
        "    </tr>\n",
        "    <tr>\n",
        "      <th>75%</th>\n",
        "      <td> 7.868310e-01</td>\n",
        "      <td> 7.488914e-01</td>\n",
        "      <td> 7.348728e-01</td>\n",
        "      <td> 2.636758e-01</td>\n",
        "      <td> 2.508461e-01</td>\n",
        "      <td> 6.707221e-01</td>\n",
        "      <td> 4.289230e-01</td>\n",
        "      <td> 4.197400e-01</td>\n",
        "      <td>-1.039596e-01</td>\n",
        "      <td> 4.913163e-02</td>\n",
        "      <td>-2.041809e-01</td>\n",
        "      <td> 2.902230e-02</td>\n",
        "      <td> 1.296365e-02</td>\n",
        "      <td> 3.074503e-02</td>\n",
        "      <td>-6.084413e-02</td>\n",
        "      <td>-1.039266e-01</td>\n",
        "      <td>-1.286028e-01</td>\n",
        "      <td>-1.062962e-01</td>\n",
        "      <td>-1.895360e-01</td>\n",
        "      <td> 2.150528e-02</td>\n",
        "      <td> 5.589785e-01</td>\n",
        "      <td> 1.086388e-03</td>\n",
        "      <td> 3.164422e-01</td>\n",
        "      <td> 2.712172e-01</td>\n",
        "      <td> 1.847329e-01</td>\n",
        "      <td>-1.610695e-01</td>\n",
        "      <td>-2.047344e-01</td>\n",
        "      <td>-2.016677e-01</td>\n",
        "      <td>-1.684304e-01</td>\n",
        "      <td>-1.078328e-01</td>\n",
        "      <td>-1.755155e-01</td>\n",
        "      <td>-2.546988e-01</td>\n",
        "      <td>-2.362737e-01</td>\n",
        "      <td>-2.137126e-01</td>\n",
        "      <td>-2.195285e-01</td>\n",
        "      <td>-1.533930e-01</td>\n",
        "      <td>-1.182625e-01</td>\n",
        "      <td>-1.720052e-01</td>\n",
        "      <td>-1.182625e-01</td>\n",
        "      <td>-1.022397e-01</td>\n",
        "      <td>-1.078328e-01</td>\n",
        "      <td>-2.416488e-01</td>\n",
        "      <td>-2.865127e-01</td>\n",
        "      <td>-1.324532e-01</td>\n",
        "      <td>-3.003757e-01</td>\n",
        "      <td>-2.016677e-01</td>\n",
        "      <td>-2.389731e-01</td>\n",
        "      <td>-2.770066e-01</td>\n",
        "      <td>-1.453505e-01</td>\n",
        "      <td>-1.182625e-01</td>\n",
        "      <td>-2.521303e-01</td>\n",
        "      <td>-1.823572e-01</td>\n",
        "      <td> 1.154314e+00</td>\n",
        "      <td> 8.888889e-01</td>\n",
        "      <td>-1.131618e-01</td>\n",
        "    </tr>\n",
        "    <tr>\n",
        "      <th>max</th>\n",
        "      <td> 3.403747e+00</td>\n",
        "      <td> 3.518418e+00</td>\n",
        "      <td> 3.409440e+00</td>\n",
        "      <td> 5.797029e+00</td>\n",
        "      <td> 6.275611e+00</td>\n",
        "      <td> 3.792649e+00</td>\n",
        "      <td> 7.693495e+00</td>\n",
        "      <td> 5.733581e+00</td>\n",
        "      <td> 6.864830e+00</td>\n",
        "      <td> 4.485192e+00</td>\n",
        "      <td> 1.095891e+01</td>\n",
        "      <td> 4.410983e+00</td>\n",
        "      <td> 5.141290e+00</td>\n",
        "      <td> 3.883300e+00</td>\n",
        "      <td> 8.993449e+00</td>\n",
        "      <td> 1.406294e+01</td>\n",
        "      <td> 7.989843e+00</td>\n",
        "      <td> 7.068698e+00</td>\n",
        "      <td> 8.218774e+00</td>\n",
        "      <td> 6.048940e+00</td>\n",
        "      <td> 4.712357e+00</td>\n",
        "      <td> 5.428002e+00</td>\n",
        "      <td> 4.797872e+00</td>\n",
        "      <td> 6.023493e+00</td>\n",
        "      <td> 4.271986e+00</td>\n",
        "      <td> 6.208499e+00</td>\n",
        "      <td> 4.884377e+00</td>\n",
        "      <td> 4.958653e+00</td>\n",
        "      <td> 5.937171e+00</td>\n",
        "      <td> 9.273618e+00</td>\n",
        "      <td> 5.697503e+00</td>\n",
        "      <td> 3.926206e+00</td>\n",
        "      <td> 4.232380e+00</td>\n",
        "      <td> 4.679181e+00</td>\n",
        "      <td> 4.555217e+00</td>\n",
        "      <td> 6.519202e+00</td>\n",
        "      <td> 8.455767e+00</td>\n",
        "      <td> 5.813777e+00</td>\n",
        "      <td> 8.455767e+00</td>\n",
        "      <td> 9.780934e+00</td>\n",
        "      <td> 9.273618e+00</td>\n",
        "      <td> 4.138236e+00</td>\n",
        "      <td> 3.490246e+00</td>\n",
        "      <td> 7.549834e+00</td>\n",
        "      <td> 3.329164e+00</td>\n",
        "      <td> 4.958653e+00</td>\n",
        "      <td> 4.184571e+00</td>\n",
        "      <td> 3.610022e+00</td>\n",
        "      <td> 6.879922e+00</td>\n",
        "      <td> 8.455767e+00</td>\n",
        "      <td> 3.966203e+00</td>\n",
        "      <td> 5.483742e+00</td>\n",
        "      <td> 1.154314e+00</td>\n",
        "      <td> 8.888889e-01</td>\n",
        "      <td> 8.836906e+00</td>\n",
        "    </tr>\n",
        "  </tbody>\n",
        "</table>\n",
        "</div>"
       ],
       "metadata": {},
       "output_type": "pyout",
       "prompt_number": 18,
       "text": [
        "       total_at_bats    total_hits    total_runs  total_home_runs  \\\n",
        "count   8.700000e+02  8.700000e+02  8.700000e+02     8.700000e+02   \n",
        "mean    3.266863e-17 -4.900295e-17 -4.083579e-17    -7.146263e-18   \n",
        "std     1.000575e+00  1.000575e+00  1.000575e+00     1.000575e+00   \n",
        "min    -1.355298e+00 -1.235885e+00 -1.155209e+00    -7.178742e-01   \n",
        "25%    -1.012331e+00 -1.018892e+00 -9.885563e-01    -6.747291e-01   \n",
        "50%     4.332538e-02  1.357191e-02 -4.453173e-02    -4.374313e-01   \n",
        "75%     7.868310e-01  7.488914e-01  7.348728e-01     2.636758e-01   \n",
        "max     3.403747e+00  3.518418e+00  3.409440e+00     5.797029e+00   \n",
        "\n",
        "       total_stolen_bases     total_RBI  total_caught_stealing  \\\n",
        "count        8.700000e+02  8.700000e+02           8.700000e+02   \n",
        "mean        -4.900295e-17  6.942084e-17          -3.675221e-17   \n",
        "std          1.000575e+00  1.000575e+00           1.000575e+00   \n",
        "min         -6.541615e-01 -1.118199e+00          -7.783895e-01   \n",
        "25%         -6.393859e-01 -9.482329e-01          -7.507937e-01   \n",
        "50%         -3.955879e-01 -1.668158e-01          -3.644537e-01   \n",
        "75%          2.508461e-01  6.707221e-01           4.289230e-01   \n",
        "max          6.275611e+00  3.792649e+00           7.693495e+00   \n",
        "\n",
        "       total_hitter_strikeouts  total_intentional_walks  total_games_pitched  \\\n",
        "count             8.700000e+02             8.700000e+02         8.700000e+02   \n",
        "mean             -4.900295e-17            -3.266863e-17         1.470088e-16   \n",
        "std               1.000575e+00             1.000575e+00         1.000575e+00   \n",
        "min              -1.114227e+00            -7.469327e-01        -2.509127e+00   \n",
        "25%              -6.923366e-01            -5.650818e-01         4.913163e-02   \n",
        "50%              -3.126353e-01            -2.793159e-01         4.913163e-02   \n",
        "75%               4.197400e-01            -1.039596e-01         4.913163e-02   \n",
        "max               5.733581e+00             6.864830e+00         4.485192e+00   \n",
        "\n",
        "        total_saves  total_outs_pitched  total_pitching_hits  \\\n",
        "count  8.700000e+02        8.700000e+02         8.700000e+02   \n",
        "mean  -6.125368e-18        1.429253e-16        -8.167158e-18   \n",
        "std    1.000575e+00        1.000575e+00         1.000575e+00   \n",
        "min   -4.723633e-01       -2.303251e+00        -2.278392e+00   \n",
        "25%   -2.041809e-01        2.902230e-02         1.296365e-02   \n",
        "50%   -2.041809e-01        2.902230e-02         1.296365e-02   \n",
        "75%   -2.041809e-01        2.902230e-02         1.296365e-02   \n",
        "max    1.095891e+01        4.410983e+00         5.141290e+00   \n",
        "\n",
        "       total_pitching_earned_runs  total_pitcher_strikeouts   average_ERA  \\\n",
        "count                8.700000e+02              8.700000e+02  8.700000e+02   \n",
        "mean                 6.125368e-17              5.717011e-17  2.654326e-16   \n",
        "std                  1.000575e+00              1.000575e+00  1.000575e+00   \n",
        "min                 -2.342676e+00             -1.852721e+00 -2.399762e+00   \n",
        "25%                  3.074503e-02             -6.084413e-02 -1.039266e-01   \n",
        "50%                  3.074503e-02             -6.084413e-02 -1.039266e-01   \n",
        "75%                  3.074503e-02             -6.084413e-02 -1.039266e-01   \n",
        "max                  3.883300e+00              8.993449e+00  1.406294e+01   \n",
        "\n",
        "       total_wild_pitches  total_hit_by_pitch  total_games_finished  \\\n",
        "count        8.700000e+02        8.700000e+02          8.700000e+02   \n",
        "mean         8.167158e-18        5.308653e-17         -1.633432e-17   \n",
        "std          1.000575e+00        1.000575e+00          1.000575e+00   \n",
        "min         -1.458936e+00       -1.612159e+00         -7.324148e-01   \n",
        "25%         -1.286028e-01       -1.062962e-01         -1.895360e-01   \n",
        "50%         -1.286028e-01       -1.062962e-01         -1.895360e-01   \n",
        "75%         -1.286028e-01       -1.062962e-01         -1.895360e-01   \n",
        "max          7.989843e+00        7.068698e+00          8.218774e+00   \n",
        "\n",
        "       total_runs_allowed  total_games_fielded  total_time_in_field_with_outs  \\\n",
        "count        8.700000e+02         8.700000e+02                   8.700000e+02   \n",
        "mean        -9.596411e-17         7.962979e-17                   6.431637e-17   \n",
        "std          1.000575e+00         1.000575e+00                   1.000575e+00   \n",
        "min         -2.269465e+00        -1.383621e+00                  -1.253570e+00   \n",
        "25%          2.150528e-02        -8.513116e-01                  -4.709819e-01   \n",
        "50%          2.150528e-02        -1.564228e-01                  -2.111329e-01   \n",
        "75%          2.150528e-02         5.589785e-01                   1.086388e-03   \n",
        "max          6.048940e+00         4.712357e+00                   5.428002e+00   \n",
        "\n",
        "       total_putouts  total_errors  total_double_plays    teamID_BAL  \\\n",
        "count   8.700000e+02  8.700000e+02        8.700000e+02  8.700000e+02   \n",
        "mean   -6.942084e-17 -2.450147e-17       -3.266863e-17  5.308653e-17   \n",
        "std     1.000575e+00  1.000575e+00        1.000575e+00  1.000575e+00   \n",
        "min    -8.489236e-01 -9.255223e-01       -6.838766e-01 -1.610695e-01   \n",
        "25%    -8.079772e-01 -7.273866e-01       -6.159881e-01 -1.610695e-01   \n",
        "50%    -2.553197e-01 -2.471057e-01       -5.384012e-01 -1.610695e-01   \n",
        "75%     3.164422e-01  2.712172e-01        1.847329e-01 -1.610695e-01   \n",
        "max     4.797872e+00  6.023493e+00        4.271986e+00  6.208499e+00   \n",
        "\n",
        "         teamID_BOS    teamID_BRO    teamID_BSN    teamID_CAL    teamID_CHA  \\\n",
        "count  8.700000e+02  8.700000e+02  8.700000e+02  8.700000e+02  8.700000e+02   \n",
        "mean   4.440892e-17  7.146263e-17  2.041789e-17 -3.675221e-17  1.633432e-17   \n",
        "std    1.000575e+00  1.000575e+00  1.000575e+00  1.000575e+00  1.000575e+00   \n",
        "min   -2.047344e-01 -2.016677e-01 -1.684304e-01 -1.078328e-01 -1.755155e-01   \n",
        "25%   -2.047344e-01 -2.016677e-01 -1.684304e-01 -1.078328e-01 -1.755155e-01   \n",
        "50%   -2.047344e-01 -2.016677e-01 -1.684304e-01 -1.078328e-01 -1.755155e-01   \n",
        "75%   -2.047344e-01 -2.016677e-01 -1.684304e-01 -1.078328e-01 -1.755155e-01   \n",
        "max    4.884377e+00  4.958653e+00  5.937171e+00  9.273618e+00  5.697503e+00   \n",
        "\n",
        "         teamID_CHN    teamID_CIN    teamID_CLE    teamID_DET    teamID_HOU  \\\n",
        "count  8.700000e+02  8.700000e+02  8.700000e+02  8.700000e+02  8.700000e+02   \n",
        "mean  -5.308653e-17 -6.125368e-17  2.858505e-17 -8.167158e-18 -5.512832e-17   \n",
        "std    1.000575e+00  1.000575e+00  1.000575e+00  1.000575e+00  1.000575e+00   \n",
        "min   -2.546988e-01 -2.362737e-01 -2.137126e-01 -2.195285e-01 -1.533930e-01   \n",
        "25%   -2.546988e-01 -2.362737e-01 -2.137126e-01 -2.195285e-01 -1.533930e-01   \n",
        "50%   -2.546988e-01 -2.362737e-01 -2.137126e-01 -2.195285e-01 -1.533930e-01   \n",
        "75%   -2.546988e-01 -2.362737e-01 -2.137126e-01 -2.195285e-01 -1.533930e-01   \n",
        "max    3.926206e+00  4.232380e+00  4.679181e+00  4.555217e+00  6.519202e+00   \n",
        "\n",
        "         teamID_KCA    teamID_LAN    teamID_MIN    teamID_ML4    teamID_MON  \\\n",
        "count  8.700000e+02  8.700000e+02  8.700000e+02  8.700000e+02  8.700000e+02   \n",
        "mean  -5.717011e-17 -4.900295e-17 -3.675221e-17 -1.531342e-17 -2.041789e-17   \n",
        "std    1.000575e+00  1.000575e+00  1.000575e+00  1.000575e+00  1.000575e+00   \n",
        "min   -1.182625e-01 -1.720052e-01 -1.182625e-01 -1.022397e-01 -1.078328e-01   \n",
        "25%   -1.182625e-01 -1.720052e-01 -1.182625e-01 -1.022397e-01 -1.078328e-01   \n",
        "50%   -1.182625e-01 -1.720052e-01 -1.182625e-01 -1.022397e-01 -1.078328e-01   \n",
        "75%   -1.182625e-01 -1.720052e-01 -1.182625e-01 -1.022397e-01 -1.078328e-01   \n",
        "max    8.455767e+00  5.813777e+00  8.455767e+00  9.780934e+00  9.273618e+00   \n",
        "\n",
        "         teamID_NY1    teamID_NYA    teamID_NYN  teamID_Other    teamID_PHA  \\\n",
        "count  8.700000e+02  8.700000e+02  8.700000e+02  8.700000e+02  8.700000e+02   \n",
        "mean  -5.512832e-17 -8.575516e-17  5.104474e-18  3.879400e-17  5.614921e-17   \n",
        "std    1.000575e+00  1.000575e+00  1.000575e+00  1.000575e+00  1.000575e+00   \n",
        "min   -2.416488e-01 -2.865127e-01 -1.324532e-01 -3.003757e-01 -2.016677e-01   \n",
        "25%   -2.416488e-01 -2.865127e-01 -1.324532e-01 -3.003757e-01 -2.016677e-01   \n",
        "50%   -2.416488e-01 -2.865127e-01 -1.324532e-01 -3.003757e-01 -2.016677e-01   \n",
        "75%   -2.416488e-01 -2.865127e-01 -1.324532e-01 -3.003757e-01 -2.016677e-01   \n",
        "max    4.138236e+00  3.490246e+00  7.549834e+00  3.329164e+00  4.958653e+00   \n",
        "\n",
        "         teamID_PHI    teamID_PIT    teamID_SFN    teamID_SLA    teamID_SLN  \\\n",
        "count  8.700000e+02  8.700000e+02  8.700000e+02  8.700000e+02  8.700000e+02   \n",
        "mean  -8.167158e-17 -4.083579e-17 -2.041789e-17 -4.083579e-17 -1.633432e-17   \n",
        "std    1.000575e+00  1.000575e+00  1.000575e+00  1.000575e+00  1.000575e+00   \n",
        "min   -2.389731e-01 -2.770066e-01 -1.453505e-01 -1.182625e-01 -2.521303e-01   \n",
        "25%   -2.389731e-01 -2.770066e-01 -1.453505e-01 -1.182625e-01 -2.521303e-01   \n",
        "50%   -2.389731e-01 -2.770066e-01 -1.453505e-01 -1.182625e-01 -2.521303e-01   \n",
        "75%   -2.389731e-01 -2.770066e-01 -1.453505e-01 -1.182625e-01 -2.521303e-01   \n",
        "max    4.184571e+00  3.610022e+00  6.879922e+00  8.455767e+00  3.966203e+00   \n",
        "\n",
        "         teamID_WS1       lgID_AL       lgID_NL    lgID_Other  \n",
        "count  8.700000e+02  8.700000e+02  8.700000e+02  8.700000e+02  \n",
        "mean   3.675221e-17  1.674267e-16 -8.167158e-18 -2.552237e-17  \n",
        "std    1.000575e+00  1.000575e+00  1.000575e+00  1.000575e+00  \n",
        "min   -1.823572e-01 -8.663158e-01 -1.125000e+00 -1.131618e-01  \n",
        "25%   -1.823572e-01 -8.663158e-01 -1.125000e+00 -1.131618e-01  \n",
        "50%   -1.823572e-01 -8.663158e-01  8.888889e-01 -1.131618e-01  \n",
        "75%   -1.823572e-01  1.154314e+00  8.888889e-01 -1.131618e-01  \n",
        "max    5.483742e+00  1.154314e+00  8.888889e-01  8.836906e+00  "
       ]
      }
     ],
     "prompt_number": 18
    },
    {
     "cell_type": "code",
     "collapsed": false,
     "input": [
      "response_series = None\n",
      "response_series = response_series2\n",
      "print response_series.describe()\n",
      "print response_series.value_counts()"
     ],
     "language": "python",
     "metadata": {},
     "outputs": [
      {
       "output_type": "stream",
       "stream": "stdout",
       "text": [
        "count    870.00000\n",
        "mean       0.22069\n",
        "std        0.41495\n",
        "min        0.00000\n",
        "25%        0.00000\n",
        "50%        0.00000\n",
        "75%        0.00000\n",
        "max        1.00000\n",
        "Name: inducted, dtype: float64\n",
        "0    678\n",
        "1    192\n",
        "dtype: int64\n"
       ]
      }
     ],
     "prompt_number": 19
    },
    {
     "cell_type": "code",
     "collapsed": false,
     "input": [
      "#################\n",
      "## RANDOM FORESTS\n",
      "#################\n",
      "\n",
      "# creating a random forest object.\n",
      "## these are the default values of the classifier\n",
      "rf = ensemble.RandomForestClassifier(n_estimators=10, criterion='gini', max_depth=None, min_samples_split=2, min_samples_leaf=1, max_features='auto', max_leaf_nodes=None, bootstrap=True, oob_score=False, n_jobs=1, random_state=None, verbose=0, min_density=None, compute_importances=None)\n",
      "\n",
      "# I'm going to change this a bit.\n",
      "rf = ensemble.RandomForestClassifier(n_estimators= 500)\n",
      "\n",
      "# let's compute ROC AUC of the random forest. \n",
      "roc_scores_rf = cross_val_score(rf, explanatory_df, response_series, cv=10, scoring='roc_auc', n_jobs = -1)\n",
      "\n",
      "# let's do the same for the decision tree\n",
      "roc_score_tree = cross_val_score(tree.DecisionTreeClassifier(), explanatory_df, response_series, cv=10, scoring='roc_auc', n_jobs = -1)\n",
      "\n",
      "## let's compare the mean ROC AUC\n",
      "print 'Random Forest: ' +str(roc_scores_rf.mean())\n",
      "#\n",
      "print 'Decision Trees: '+str(roc_score_tree.mean())\n",
      "#\n",
      "## Strangely decision trees did better than random forest by 0.03"
     ],
     "language": "python",
     "metadata": {},
     "outputs": [
      {
       "output_type": "stream",
       "stream": "stdout",
       "text": [
        "Random Forest: 0.495349105864\n",
        "Decision Trees: 0.482419712583\n"
       ]
      }
     ],
     "prompt_number": 20
    },
    {
     "cell_type": "code",
     "collapsed": false,
     "input": [
      "## perform grid search to find the optimal number of trees\n",
      "\n",
      "trees_range = range(10, 550, 10)\n",
      "param_grid = dict(n_estimators = trees_range)\n",
      "\n",
      "grid = GridSearchCV(rf, param_grid, cv=10, scoring='roc_auc', n_jobs = -1)\n",
      "grid.fit(explanatory_df, response_series)\n",
      "\n",
      "# Check out the scores of the grid search\n",
      "grid_mean_scores = [result[1] for result in grid.grid_scores_]\n",
      "print 'Grid Mean Scores are:'\n",
      "print grid_mean_scores\n",
      "\n",
      "# Plot the results of the grid search\n",
      "plt.figure()\n",
      "plt.plot(trees_range, grid_mean_scores)\n",
      "# where do you think we should put the tree cut-off at?"
     ],
     "language": "python",
     "metadata": {},
     "outputs": [
      {
       "output_type": "stream",
       "stream": "stdout",
       "text": [
        "Grid Mean Scores are:\n",
        "[0.46768646757671029, 0.5142547458076332, 0.51065259402783236, 0.50013496757697584, 0.48072834955148469, 0.49244176257603828, 0.50685561861876705, 0.49700177584374483, 0.49321961373871542, 0.50874769952946908, 0.48962484869343897, 0.49065517666285841, 0.49207515321864037, 0.49138351957517851, 0.50646851548810867, 0.50057642156464399, 0.50140675532341505, 0.49486131449085302, 0.48397228520576369, 0.5000208735334748, 0.50049106580899283, 0.50490497363720521, 0.50258208663100634, 0.51221556889407971, 0.49193149763088045, 0.50180024931390876, 0.49736848478861162, 0.50040279280442024, 0.4948763163471635, 0.50992972311496843, 0.49649717543381633, 0.50199557088051794, 0.50823732304634606, 0.50154339065853604, 0.5012984678932656, 0.50254856150548632, 0.50854146981543658, 0.49617357192897477, 0.50612115041319505, 0.49793570978246376, 0.50024989815521514, 0.50006923719185636, 0.49664051366950879, 0.49699306658763404, 0.49730596775915448, 0.50132111408368629, 0.50301612865532475, 0.4983615564220108, 0.50294337934539957, 0.50615118333814002, 0.51129296535365232, 0.50592400705982199, 0.50698492829967801, 0.50160374464816948, 0.50165153733839607]\n"
       ]
      },
      {
       "metadata": {},
       "output_type": "pyout",
       "prompt_number": 21,
       "text": [
        "[<matplotlib.lines.Line2D at 0x18da1c88>]"
       ]
      },
      {
       "metadata": {},
       "output_type": "display_data",
       "png": "[encoded data removed]",
       "text": [
        "<matplotlib.figure.Figure at 0x180bd278>"
       ]
      }
     ],
     "prompt_number": 21
    },
    {
     "cell_type": "code",
     "collapsed": false,
     "input": [
      "# let's pull out the best estimator and print its ROC AUC\n",
      "best_rf_est = grid.best_estimator_\n",
      "# how many trees did the best estiator have? \n",
      "print 'Number of Trees'\n",
      "print best_rf_est.n_estimators\n",
      "# how accurate was the best estimator?\n",
      "print 'Random Forest'\n",
      "print grid.best_score_\n",
      "## did accura++cy improve? \n",
      "#Best estimator forest has a slightly better score than a single decision tree at 4 trees"
     ],
     "language": "python",
     "metadata": {},
     "outputs": [
      {
       "output_type": "stream",
       "stream": "stdout",
       "text": [
        "Number of Trees\n",
        "11\n",
        "Random Forest\n",
        "0.514254745808\n"
       ]
      }
     ],
     "prompt_number": 22
    },
    {
     "cell_type": "code",
     "collapsed": false,
     "input": [
      "##Redo with narrower range in the 20s\n",
      "\n",
      "trees_range = range(1, 50, 1)\n",
      "param_grid = dict(n_estimators = trees_range)\n",
      "\n",
      "grid = GridSearchCV(rf, param_grid, cv=10, scoring='roc_auc', n_jobs = -1)\n",
      "grid.fit(explanatory_df, response_series)\n",
      "\n",
      "# Check out the scores of the grid search\n",
      "grid_mean_scores = [result[1] for result in grid.grid_scores_]\n",
      "print 'Grid Mean Scores are:'\n",
      "print grid_mean_scores\n",
      "\n",
      "# Plot the results of the grid search\n",
      "plt.figure()\n",
      "plt.plot(trees_range, grid_mean_scores)\n",
      "# where do you think we should put the tree cut-off at?"
     ],
     "language": "python",
     "metadata": {},
     "outputs": [
      {
       "output_type": "stream",
       "stream": "stdout",
       "text": [
        "Grid Mean Scores are:\n",
        "[0.50204092301384073, 0.49791049290751316, 0.51343096092081486, 0.51225838088303, 0.50838905185824901, 0.51971707598444206, 0.50282976730524798, 0.51338905053041606, 0.47992673947440123, 0.47048843271631596, 0.49980250609873661, 0.50088356259696498, 0.51660101993502117, 0.51449929279618767, 0.52091311086289482, 0.48242444763478426, 0.47330657617219757, 0.4980382237950845, 0.51984592092383186, 0.45750527680801711, 0.50949475293544022, 0.47642885311884048, 0.49860302549386087, 0.50361500653028224, 0.48562722577992923, 0.48712029688219521, 0.50621524198161538, 0.52601173034156634, 0.49950409556785308, 0.50035297915249211, 0.52031742111477408, 0.49448390586833108, 0.49121548497503936, 0.47732839087364498, 0.50329559632179666, 0.48336419349818655, 0.48278723150554481, 0.48881094022786675, 0.52047514774796877, 0.50573818215424415, 0.48385988547706643, 0.49872340151489797, 0.50560132108752709, 0.51576696957191193, 0.49643188456139287, 0.49563327405887186, 0.51395888206028684, 0.48818023021436002, 0.49761706175007309]\n"
       ]
      },
      {
       "metadata": {},
       "output_type": "pyout",
       "prompt_number": 23,
       "text": [
        "[<matplotlib.lines.Line2D at 0x1aa02390>]"
       ]
      },
      {
       "metadata": {},
       "output_type": "display_data",
       "png": "[encoded data removed]",
       "text": [
        "<matplotlib.figure.Figure at 0x1911aa20>"
       ]
      }
     ],
     "prompt_number": 23
    },
    {
     "cell_type": "code",
     "collapsed": false,
     "input": [
      "# let's pull out the best estimator and print its ROC AUC\n",
      "best_rf_est = grid.best_estimator_\n",
      "# how many trees did the best estiator have? \n",
      "print 'Number of Trees'\n",
      "print best_rf_est.n_estimators\n",
      "# how accurate was the best estimator?\n",
      "print 'Random Forest'\n",
      "print grid.best_score_\n",
      "## did accuracy improve? \n",
      "#Best estimator forest has a slightly better score than a single decision tree at 4 trees"
     ],
     "language": "python",
     "metadata": {},
     "outputs": [
      {
       "output_type": "stream",
       "stream": "stdout",
       "text": [
        "Number of Trees\n",
        "28\n",
        "Random Forest\n",
        "0.526011730342\n"
       ]
      }
     ],
     "prompt_number": 24
    },
    {
     "cell_type": "code",
     "collapsed": false,
     "input": [
      "#################\n",
      "## BOOSTING TREES\n",
      "#################\n",
      "boosting_tree = ensemble.GradientBoostingClassifier()\n",
      "\n",
      "roc_scores_gbm = cross_val_score(boosting_tree, explanatory_df, response_series, cv=10, scoring='roc_auc', n_jobs = -1)\n",
      "\n",
      "#let's compare our accuracies\n",
      "print 'Boosting Trees: '+str(roc_scores_gbm.mean())\n",
      "print 'Random Forests: '+str(roc_scores_rf.mean())\n",
      "print 'Decision Tree: '+str(roc_score_tree.mean())\n",
      "\n",
      "# let's tune for num_trees, learning rate, and subsampling percent.\n",
      "# need to import arange to create ranges for floats\n",
      "from numpy import arange\n",
      "\n",
      "learning_rate_range = arange(0.01, 0.4, 0.02)\n",
      "subsampling_range = arange(0.25, 1, 0.25)\n",
      "n_estimators_range = range(25, 100, 25)\n",
      "\n",
      "param_grid = dict(learning_rate = learning_rate_range, n_estimators = n_estimators_range, subsample = subsampling_range)\n",
      "\n",
      "gbm_grid = GridSearchCV(boosting_tree, param_grid, cv=10, scoring='roc_auc', n_jobs = -1)\n",
      "gbm_grid.fit(explanatory_df, response_series)\n",
      "\n",
      "# find the winning parameters\n",
      "print 'Boosting Tree Best Parameters'\n",
      "print gbm_grid.best_params_\n",
      "# how does this compare to the default settings\n",
      "# estimators = 100, subsample = 1.0, learning_rate = 0.1\n",
      "\n",
      "# pull out the best score\n",
      "print 'Boosting Tree Best Score'\n",
      "print gbm_grid.best_score_\n",
      "print 'Random Forest Best Score'\n",
      "print grid.best_score_\n",
      "## so, GBMs get close to RFs, but underpreform here.\n",
      "\n",
      "## ROC curve accuracy of the GBM vs RF vs Tree Method\n",
      "from sklearn.cross_validation import train_test_split\n",
      "from sklearn import metrics\n",
      "\n",
      "xTrain, xTest, yTrain, yTest = train_test_split(\n",
      "                    explanatory_df, response_series, test_size =  0.3)\n",
      "\n",
      "tree_probabilities = pandas.DataFrame(tree.DecisionTreeClassifier().fit(xTrain, yTrain).predict_proba(xTest))\n",
      "rf_probabilities = pandas.DataFrame(best_rf_est.fit(xTrain, yTrain).predict_proba(xTest))\n",
      "gbm_probabilities = pandas.DataFrame(gbm_grid.best_estimator_.fit(xTrain, yTrain).predict_proba(xTest))\n",
      "\n",
      "\n",
      "tree_fpr, tree_tpr, thresholds = metrics.roc_curve(yTest, tree_probabilities[1])\n",
      "rf_fpr, rf_tpr, thresholds = metrics.roc_curve(yTest, rf_probabilities[1])\n",
      "gbm_fpr, gbm_tpr, thresholds = metrics.roc_curve(yTest, gbm_probabilities[1])\n",
      "\n",
      "\n",
      "plt.figure()\n",
      "plt.plot(tree_fpr, tree_tpr, color = 'g')\n",
      "plt.plot(rf_fpr, rf_tpr, color = 'b')\n",
      "plt.plot(gbm_fpr, gbm_tpr, color = 'r')\n",
      "plt.xlabel('False Positive Rate (1 - Specificity)')\n",
      "plt.ylabel('True Positive Rate (Sensitivity)')\n",
      "## what does this tell us for this sample?\n",
      "#The chart tells us that boosting trees is the best model\n",
      "\n",
      "## create partial dependence plot on most important features for gbm.\n",
      "\n",
      "importances = pandas.DataFrame(gbm_grid.best_estimator_.feature_importances_, index = explanatory_df.columns, columns =['importance'])\n",
      "\n",
      "importances.sort(columns = ['importance'], ascending = False, inplace = True)\n",
      "print 'Boosting Tree importances'\n",
      "print importances\n",
      "\n",
      "from sklearn.ensemble.partial_dependence import plot_partial_dependence\n",
      "\n",
      "features = [i for i, j in enumerate(explanatory_df.columns.tolist()) if j in importances.importance[0:3].index.tolist()]\n",
      "\n",
      "fig, axs = plot_partial_dependence(gbm_grid.best_estimator_, explanatory_df, features, feature_names = explanatory_df.columns)\n"
     ],
     "language": "python",
     "metadata": {},
     "outputs": [
      {
       "output_type": "stream",
       "stream": "stdout",
       "text": [
        "Boosting Trees: 0.536314663139\n",
        "Random Forests: 0.495349105864\n",
        "Decision Tree: 0.482419712583\n",
        "Boosting Tree Best Parameters"
       ]
      },
      {
       "output_type": "stream",
       "stream": "stdout",
       "text": [
        "\n",
        "{'n_estimators': 50, 'subsample': 0.5, 'learning_rate': 0.38999999999999996}\n",
        "Boosting Tree Best Score\n",
        "0.546288316611\n",
        "Random Forest Best Score\n",
        "0.526011730342\n",
        "Boosting Tree importances"
       ]
      },
      {
       "output_type": "stream",
       "stream": "stdout",
       "text": [
        "\n",
        "                               importance\n",
        "total_putouts                    0.094923\n",
        "total_games_fielded              0.089436\n",
        "total_double_plays               0.077875\n",
        "total_errors                     0.072681\n",
        "total_runs                       0.051706\n",
        "total_hitter_strikeouts          0.048172\n",
        "average_ERA                      0.046002\n",
        "total_stolen_bases               0.044836\n",
        "total_at_bats                    0.042882\n",
        "total_caught_stealing            0.035421\n",
        "total_home_runs                  0.033013\n",
        "total_time_in_field_with_outs    0.025826\n",
        "total_runs_allowed               0.024733\n",
        "total_wild_pitches               0.024169\n",
        "total_games_finished             0.023735\n",
        "total_intentional_walks          0.022607\n",
        "total_pitching_earned_runs       0.021038\n",
        "total_hits                       0.018155\n",
        "lgID_Other                       0.016254\n",
        "total_hit_by_pitch               0.015866\n",
        "total_RBI                        0.013191\n",
        "total_outs_pitched               0.012937\n",
        "total_pitching_hits              0.012006\n",
        "total_saves                      0.011981\n",
        "teamID_SLA                       0.010981\n",
        "total_games_pitched              0.010874\n",
        "teamID_BRO                       0.010179\n",
        "teamID_SFN                       0.009438\n",
        "teamID_BAL                       0.008679\n",
        "teamID_SLN                       0.008343\n",
        "teamID_NY1                       0.007810\n",
        "teamID_CLE                       0.007352\n",
        "teamID_KCA                       0.006846\n",
        "teamID_CHA                       0.006703\n",
        "teamID_LAN                       0.006000\n",
        "teamID_NYA                       0.005550\n",
        "teamID_Other                     0.004085\n",
        "teamID_DET                       0.004054\n",
        "teamID_MIN                       0.003767\n",
        "teamID_PHA                       0.003596\n",
        "teamID_BOS                       0.002408\n",
        "teamID_PIT                       0.002405\n",
        "lgID_AL                          0.001486\n",
        "teamID_BSN                       0.000000\n",
        "teamID_MON                       0.000000\n",
        "teamID_NYN                       0.000000\n",
        "teamID_ML4                       0.000000\n",
        "total_pitcher_strikeouts         0.000000\n",
        "teamID_PHI                       0.000000\n",
        "teamID_CIN                       0.000000\n",
        "teamID_CHN                       0.000000\n",
        "teamID_CAL                       0.000000\n",
        "teamID_WS1                       0.000000\n",
        "lgID_NL                          0.000000\n",
        "teamID_HOU                       0.000000\n"
       ]
      },
      {
       "metadata": {},
       "output_type": "display_data",
       "png": "[encoded data removed]",
       "text": [
        "<matplotlib.figure.Figure at 0x18861b38>"
       ]
      },
      {
       "metadata": {},
       "output_type": "display_data",
       "png": "[encoded data removed]",
       "text": [
        "<matplotlib.figure.Figure at 0xca31b38>"
       ]
      }
     ],
     "prompt_number": 25
    },
    {
     "cell_type": "code",
     "collapsed": false,
     "input": [
      "\n",
      "#################\n",
      "# NEURAL NETWORKS\n",
      "################\n",
      "\n",
      "from sklearn.neural_network import BernoulliRBM\n",
      "from sklearn.pipeline import Pipeline\n",
      "from sklearn import linear_model\n",
      "\n",
      "logistic_classifier = linear_model.LogisticRegression()\n",
      "neural_net = BernoulliRBM(random_state=0, verbose=True) \n",
      "\n",
      "# create the pipeline of a neural net connected to a logistic regression.\n",
      "neural_classifier = Pipeline(steps=[('neural_net', neural_net), ('logistic_classifier', logistic_classifier)])\n",
      "\n",
      "\n",
      "## you can cross-validate the entire pipeline like any old classifier.\n",
      "roc_scores_nn = cross_val_score(neural_classifier, explanatory_df, response_series, cv=10, scoring='roc_auc')\n",
      "\n",
      "\n",
      "#let's compare our accuracies\n",
      "print 'Neural Networks Accuracy'\n",
      "print roc_scores_nn.mean()\n",
      "\n",
      "print 'Boosting Trees Accuracy'\n",
      "print roc_scores_gbm.mean()\n",
      "\n",
      "print 'Random Forests Accuracy'\n",
      "print roc_scores_rf.mean()\n",
      "\n",
      "print 'Decision Tree Accuracy'\n",
      "print roc_score_tree.mean()\n",
      "# not so great, eh?\n",
      "\n",
      "# let's do some grid search.\n",
      "# i constrained this more than I should for the sake of time.\n",
      "# i also commented out iteraton to speed things up -- \n",
      "# feel free to uncomment in your spare time.\n",
      "learning_rate_range = arange(0.01, 0.2, 0.05)\n",
      "#iteration_range = range(30, 50, 5)\n",
      "components_range = range(250, 500, 50)\n",
      "\n",
      "# notice that I have the name of the item in the pipeline \n",
      "# followed by two underscores when I build the pipeline.\n",
      "param_grid = dict(neural_net__n_components = components_range, neural_net__learning_rate = learning_rate_range, \n",
      "                  #neural_net__n_iter = iteration_range\n",
      "                  )\n",
      "\n",
      "# doing 5-fold CV here for reasons of time; feel free to do 10-fold \n",
      "# in your own leisure.\n",
      "nn_grid = GridSearchCV(neural_classifier, param_grid, cv=10, scoring='roc_auc')\n",
      "nn_grid.fit(explanatory_df, response_series)\n",
      "\n",
      "## pull out best score\n",
      "print nn_grid.best_score_\n",
      "## compare to other grid best scores\n",
      "print gbm_grid.best_score_\n",
      "print grid.best_score_\n",
      "\n",
      "print nn_grid.best_params_\n",
      "\n",
      "\n",
      "# so the grid seacrch best score is tons better than the \n",
      "# original, but lags rf and gbm.  You can probably meet or surpass\n",
      "# rf or GBM with a full grid search, but this will take a lot of time."
     ],
     "language": "python",
     "metadata": {},
     "outputs": [
      {
       "output_type": "stream",
       "stream": "stdout",
       "text": [
        "[BernoulliRBM] Iteration 1, pseudo-likelihood = -684.69, time = 0.04s\n",
        "[BernoulliRBM] Iteration 2, pseudo-likelihood = -1265.93, time = 0.06s"
       ]
      },
      {
       "output_type": "stream",
       "stream": "stdout",
       "text": [
        "\n",
        "[BernoulliRBM] Iteration 3, pseudo-likelihood = -1638.23, time = 0.06s"
       ]
      },
      {
       "output_type": "stream",
       "stream": "stdout",
       "text": [
        "\n",
        "[BernoulliRBM] Iteration 4, pseudo-likelihood = -2242.98, time = 0.06s"
       ]
      },
      {
       "output_type": "stream",
       "stream": "stdout",
       "text": [
        "\n",
        "[BernoulliRBM] Iteration 5, pseudo-likelihood = -2718.70, time = 0.06s"
       ]
      },
      {
       "output_type": "stream",
       "stream": "stdout",
       "text": [
        "\n",
        "[BernoulliRBM] Iteration 6, pseudo-likelihood = -3245.60, time = 0.06s"
       ]
      },
      {
       "output_type": "stream",
       "stream": "stdout",
       "text": [
        "\n",
        "[BernoulliRBM] Iteration 7, pseudo-likelihood = -3765.16, time = 0.06s"
       ]
      },
      {
       "output_type": "stream",
       "stream": "stdout",
       "text": [
        "\n",
        "[BernoulliRBM] Iteration 8, pseudo-likelihood = -4077.61, time = 0.06s"
       ]
      },
      {
       "output_type": "stream",
       "stream": "stdout",
       "text": [
        "\n",
        "[BernoulliRBM] Iteration 9, pseudo-likelihood = -4474.72, time = 0.06s"
       ]
      },
      {
       "output_type": "stream",
       "stream": "stdout",
       "text": [
        "\n",
        "[BernoulliRBM] Iteration 10, pseudo-likelihood = -4733.73, time = 0.06s"
       ]
      },
      {
       "output_type": "stream",
       "stream": "stdout",
       "text": [
        "\n",
        "[BernoulliRBM] Iteration 1, pseudo-likelihood = -658.82, time = 0.04s"
       ]
      },
      {
       "output_type": "stream",
       "stream": "stdout",
       "text": [
        "\n",
        "[BernoulliRBM] Iteration 2, pseudo-likelihood = -827.28, time = 0.07s"
       ]
      },
      {
       "output_type": "stream",
       "stream": "stdout",
       "text": [
        "\n",
        "[BernoulliRBM] Iteration 3, pseudo-likelihood = -1060.18, time = 0.06s"
       ]
      },
      {
       "output_type": "stream",
       "stream": "stdout",
       "text": [
        "\n",
        "[BernoulliRBM] Iteration 4, pseudo-likelihood = -1322.93, time = 0.07s"
       ]
      },
      {
       "output_type": "stream",
       "stream": "stdout",
       "text": [
        "\n",
        "[BernoulliRBM] Iteration 5, pseudo-likelihood = -1603.32, time = 0.06s"
       ]
      },
      {
       "output_type": "stream",
       "stream": "stdout",
       "text": [
        "\n",
        "[BernoulliRBM] Iteration 6, pseudo-likelihood = -1900.44, time = 0.05s"
       ]
      },
      {
       "output_type": "stream",
       "stream": "stdout",
       "text": [
        "\n",
        "[BernoulliRBM] Iteration 7, pseudo-likelihood = -2139.63, time = 0.06s"
       ]
      },
      {
       "output_type": "stream",
       "stream": "stdout",
       "text": [
        "\n",
        "[BernoulliRBM] Iteration 8, pseudo-likelihood = -2450.70, time = 0.06s"
       ]
      },
      {
       "output_type": "stream",
       "stream": "stdout",
       "text": [
        "\n",
        "[BernoulliRBM] Iteration 9, pseudo-likelihood = -2676.81, time = 0.05s"
       ]
      },
      {
       "output_type": "stream",
       "stream": "stdout",
       "text": [
        "\n",
        "[BernoulliRBM] Iteration 10, pseudo-likelihood = -3069.14, time = 0.06s"
       ]
      },
      {
       "output_type": "stream",
       "stream": "stdout",
       "text": [
        "\n",
        "[BernoulliRBM] Iteration 1, pseudo-likelihood = -614.73, time = 0.04s"
       ]
      },
      {
       "output_type": "stream",
       "stream": "stdout",
       "text": [
        "\n",
        "[BernoulliRBM] Iteration 2, pseudo-likelihood = -1436.17, time = 0.07s"
       ]
      },
      {
       "output_type": "stream",
       "stream": "stdout",
       "text": [
        "\n",
        "[BernoulliRBM] Iteration 3, pseudo-likelihood = -2234.36, time = 0.07s"
       ]
      },
      {
       "output_type": "stream",
       "stream": "stdout",
       "text": [
        "\n",
        "[BernoulliRBM] Iteration 4, pseudo-likelihood = -2523.82, time = 0.06s"
       ]
      },
      {
       "output_type": "stream",
       "stream": "stdout",
       "text": [
        "\n",
        "[BernoulliRBM] Iteration 5, pseudo-likelihood = -2572.19, time = 0.06s"
       ]
      },
      {
       "output_type": "stream",
       "stream": "stdout",
       "text": [
        "\n",
        "[BernoulliRBM] Iteration 6, pseudo-likelihood = -2763.76, time = 0.06s"
       ]
      },
      {
       "output_type": "stream",
       "stream": "stdout",
       "text": [
        "\n",
        "[BernoulliRBM] Iteration 7, pseudo-likelihood = -2862.20, time = 0.06s"
       ]
      },
      {
       "output_type": "stream",
       "stream": "stdout",
       "text": [
        "\n",
        "[BernoulliRBM] Iteration 8, pseudo-likelihood = -2857.42, time = 0.06s"
       ]
      },
      {
       "output_type": "stream",
       "stream": "stdout",
       "text": [
        "\n",
        "[BernoulliRBM] Iteration 9, pseudo-likelihood = -2937.23, time = 0.06s"
       ]
      },
      {
       "output_type": "stream",
       "stream": "stdout",
       "text": [
        "\n",
        "[BernoulliRBM] Iteration 10, pseudo-likelihood = -2996.71, time = 0.06s"
       ]
      },
      {
       "output_type": "stream",
       "stream": "stdout",
       "text": [
        "\n",
        "[BernoulliRBM] Iteration 1, pseudo-likelihood = -508.83, time = 0.05s"
       ]
      },
      {
       "output_type": "stream",
       "stream": "stdout",
       "text": [
        "\n",
        "[BernoulliRBM] Iteration 2, pseudo-likelihood = -882.93, time = 0.07s"
       ]
      },
      {
       "output_type": "stream",
       "stream": "stdout",
       "text": [
        "\n",
        "[BernoulliRBM] Iteration 3, pseudo-likelihood = -992.00, time = 0.07s"
       ]
      },
      {
       "output_type": "stream",
       "stream": "stdout",
       "text": [
        "\n",
        "[BernoulliRBM] Iteration 4, pseudo-likelihood = -1112.83, time = 0.07s"
       ]
      },
      {
       "output_type": "stream",
       "stream": "stdout",
       "text": [
        "\n",
        "[BernoulliRBM] Iteration 5, pseudo-likelihood = -1340.78, time = 0.06s"
       ]
      },
      {
       "output_type": "stream",
       "stream": "stdout",
       "text": [
        "\n",
        "[BernoulliRBM] Iteration 6, pseudo-likelihood = -1671.21, time = 0.06s"
       ]
      },
      {
       "output_type": "stream",
       "stream": "stdout",
       "text": [
        "\n",
        "[BernoulliRBM] Iteration 7, pseudo-likelihood = -1862.42, time = 0.06s"
       ]
      },
      {
       "output_type": "stream",
       "stream": "stdout",
       "text": [
        "\n",
        "[BernoulliRBM] Iteration 8, pseudo-likelihood = -2077.05, time = 0.06s"
       ]
      },
      {
       "output_type": "stream",
       "stream": "stdout",
       "text": [
        "\n",
        "[BernoulliRBM] Iteration 9, pseudo-likelihood = -2190.70, time = 0.06s"
       ]
      },
      {
       "output_type": "stream",
       "stream": "stdout",
       "text": [
        "\n",
        "[BernoulliRBM] Iteration 10, pseudo-likelihood = -2253.05, time = 0.06s"
       ]
      },
      {
       "output_type": "stream",
       "stream": "stdout",
       "text": [
        "\n",
        "[BernoulliRBM] Iteration 1, pseudo-likelihood = -542.32, time = 0.04s"
       ]
      },
      {
       "output_type": "stream",
       "stream": "stdout",
       "text": [
        "\n",
        "[BernoulliRBM] Iteration 2, pseudo-likelihood = -1143.94, time = 0.07s"
       ]
      },
      {
       "output_type": "stream",
       "stream": "stdout",
       "text": [
        "\n",
        "[BernoulliRBM] Iteration 3, pseudo-likelihood = -1559.88, time = 0.06s"
       ]
      },
      {
       "output_type": "stream",
       "stream": "stdout",
       "text": [
        "\n",
        "[BernoulliRBM] Iteration 4, pseudo-likelihood = -2007.33, time = 0.07s"
       ]
      },
      {
       "output_type": "stream",
       "stream": "stdout",
       "text": [
        "\n",
        "[BernoulliRBM] Iteration 5, pseudo-likelihood = -2449.52, time = 0.06s"
       ]
      },
      {
       "output_type": "stream",
       "stream": "stdout",
       "text": [
        "\n",
        "[BernoulliRBM] Iteration 6, pseudo-likelihood = -2847.86, time = 0.06s"
       ]
      },
      {
       "output_type": "stream",
       "stream": "stdout",
       "text": [
        "\n",
        "[BernoulliRBM] Iteration 7, pseudo-likelihood = -3416.40, time = 0.06s"
       ]
      },
      {
       "output_type": "stream",
       "stream": "stdout",
       "text": [
        "\n",
        "[BernoulliRBM] Iteration 8, pseudo-likelihood = -3962.06, time = 0.06s"
       ]
      },
      {
       "output_type": "stream",
       "stream": "stdout",
       "text": [
        "\n",
        "[BernoulliRBM] Iteration 9, pseudo-likelihood = -4293.93, time = 0.07s"
       ]
      },
      {
       "output_type": "stream",
       "stream": "stdout",
       "text": [
        "\n",
        "[BernoulliRBM] Iteration 10, pseudo-likelihood = -4807.91, time = 0.07s"
       ]
      },
      {
       "output_type": "stream",
       "stream": "stdout",
       "text": [
        "\n",
        "[BernoulliRBM] Iteration 1, pseudo-likelihood = -458.17, time = 0.04s"
       ]
      },
      {
       "output_type": "stream",
       "stream": "stdout",
       "text": [
        "\n",
        "[BernoulliRBM] Iteration 2, pseudo-likelihood = -925.22, time = 0.07s"
       ]
      },
      {
       "output_type": "stream",
       "stream": "stdout",
       "text": [
        "\n",
        "[BernoulliRBM] Iteration 3, pseudo-likelihood = -1304.49, time = 0.07s"
       ]
      },
      {
       "output_type": "stream",
       "stream": "stdout",
       "text": [
        "\n",
        "[BernoulliRBM] Iteration 4, pseudo-likelihood = -1733.48, time = 0.06s"
       ]
      },
      {
       "output_type": "stream",
       "stream": "stdout",
       "text": [
        "\n",
        "[BernoulliRBM] Iteration 5, pseudo-likelihood = -2174.98, time = 0.06s"
       ]
      },
      {
       "output_type": "stream",
       "stream": "stdout",
       "text": [
        "\n",
        "[BernoulliRBM] Iteration 6, pseudo-likelihood = -2554.12, time = 0.06s"
       ]
      },
      {
       "output_type": "stream",
       "stream": "stdout",
       "text": [
        "\n",
        "[BernoulliRBM] Iteration 7, pseudo-likelihood = -3096.73, time = 0.06s"
       ]
      },
      {
       "output_type": "stream",
       "stream": "stdout",
       "text": [
        "\n",
        "[BernoulliRBM] Iteration 8, pseudo-likelihood = -3638.13, time = 0.06s"
       ]
      },
      {
       "output_type": "stream",
       "stream": "stdout",
       "text": [
        "\n",
        "[BernoulliRBM] Iteration 9, pseudo-likelihood = -4048.57, time = 0.05s"
       ]
      },
      {
       "output_type": "stream",
       "stream": "stdout",
       "text": [
        "\n",
        "[BernoulliRBM] Iteration 10, pseudo-likelihood = -4495.68, time = 0.06s"
       ]
      },
      {
       "output_type": "stream",
       "stream": "stdout",
       "text": [
        "\n",
        "[BernoulliRBM] Iteration 1, pseudo-likelihood = -592.26, time = 0.04s"
       ]
      },
      {
       "output_type": "stream",
       "stream": "stdout",
       "text": [
        "\n",
        "[BernoulliRBM] Iteration 2, pseudo-likelihood = -1123.77, time = 0.07s"
       ]
      },
      {
       "output_type": "stream",
       "stream": "stdout",
       "text": [
        "\n",
        "[BernoulliRBM] Iteration 3, pseudo-likelihood = -1512.52, time = 0.07s"
       ]
      },
      {
       "output_type": "stream",
       "stream": "stdout",
       "text": [
        "\n",
        "[BernoulliRBM] Iteration 4, pseudo-likelihood = -1921.93, time = 0.06s"
       ]
      },
      {
       "output_type": "stream",
       "stream": "stdout",
       "text": [
        "\n",
        "[BernoulliRBM] Iteration 5, pseudo-likelihood = -2250.68, time = 0.05s"
       ]
      },
      {
       "output_type": "stream",
       "stream": "stdout",
       "text": [
        "\n",
        "[BernoulliRBM] Iteration 6, pseudo-likelihood = -2791.61, time = 0.06s"
       ]
      },
      {
       "output_type": "stream",
       "stream": "stdout",
       "text": [
        "\n",
        "[BernoulliRBM] Iteration 7, pseudo-likelihood = -3274.34, time = 0.06s"
       ]
      },
      {
       "output_type": "stream",
       "stream": "stdout",
       "text": [
        "\n",
        "[BernoulliRBM] Iteration 8, pseudo-likelihood = -3720.61, time = 0.05s"
       ]
      },
      {
       "output_type": "stream",
       "stream": "stdout",
       "text": [
        "\n",
        "[BernoulliRBM] Iteration 9, pseudo-likelihood = -4175.10, time = 0.06s"
       ]
      },
      {
       "output_type": "stream",
       "stream": "stdout",
       "text": [
        "\n",
        "[BernoulliRBM] Iteration 10, pseudo-likelihood = -4611.23, time = 0.06s"
       ]
      },
      {
       "output_type": "stream",
       "stream": "stdout",
       "text": [
        "\n",
        "[BernoulliRBM] Iteration 1, pseudo-likelihood = -577.21, time = 0.04s"
       ]
      },
      {
       "output_type": "stream",
       "stream": "stdout",
       "text": [
        "\n",
        "[BernoulliRBM] Iteration 2, pseudo-likelihood = -1048.04, time = 0.06s"
       ]
      },
      {
       "output_type": "stream",
       "stream": "stdout",
       "text": [
        "\n",
        "[BernoulliRBM] Iteration 3, pseudo-likelihood = -1377.14, time = 0.06s"
       ]
      },
      {
       "output_type": "stream",
       "stream": "stdout",
       "text": [
        "\n",
        "[BernoulliRBM] Iteration 4, pseudo-likelihood = -1906.06, time = 0.06s"
       ]
      },
      {
       "output_type": "stream",
       "stream": "stdout",
       "text": [
        "\n",
        "[BernoulliRBM] Iteration 5, pseudo-likelihood = -2270.72, time = 0.06s"
       ]
      },
      {
       "output_type": "stream",
       "stream": "stdout",
       "text": [
        "\n",
        "[BernoulliRBM] Iteration 6, pseudo-likelihood = -2559.56, time = 0.06s"
       ]
      },
      {
       "output_type": "stream",
       "stream": "stdout",
       "text": [
        "\n",
        "[BernoulliRBM] Iteration 7, pseudo-likelihood = -3223.70, time = 0.06s"
       ]
      },
      {
       "output_type": "stream",
       "stream": "stdout",
       "text": [
        "\n",
        "[BernoulliRBM] Iteration 8, pseudo-likelihood = -3643.57, time = 0.06s"
       ]
      },
      {
       "output_type": "stream",
       "stream": "stdout",
       "text": [
        "\n",
        "[BernoulliRBM] Iteration 9, pseudo-likelihood = -4051.80, time = 0.06s"
       ]
      },
      {
       "output_type": "stream",
       "stream": "stdout",
       "text": [
        "\n",
        "[BernoulliRBM] Iteration 10, pseudo-likelihood = -4502.68, time = 0.06s"
       ]
      },
      {
       "output_type": "stream",
       "stream": "stdout",
       "text": [
        "\n",
        "[BernoulliRBM] Iteration 1, pseudo-likelihood = -636.55, time = 0.04s"
       ]
      },
      {
       "output_type": "stream",
       "stream": "stdout",
       "text": [
        "\n",
        "[BernoulliRBM] Iteration 2, pseudo-likelihood = -1225.82, time = 0.07s"
       ]
      },
      {
       "output_type": "stream",
       "stream": "stdout",
       "text": [
        "\n",
        "[BernoulliRBM] Iteration 3, pseudo-likelihood = -1743.02, time = 0.07s"
       ]
      },
      {
       "output_type": "stream",
       "stream": "stdout",
       "text": [
        "\n",
        "[BernoulliRBM] Iteration 4, pseudo-likelihood = -2140.28, time = 0.06s"
       ]
      },
      {
       "output_type": "stream",
       "stream": "stdout",
       "text": [
        "\n",
        "[BernoulliRBM] Iteration 5, pseudo-likelihood = -2659.31, time = 0.07s"
       ]
      },
      {
       "output_type": "stream",
       "stream": "stdout",
       "text": [
        "\n",
        "[BernoulliRBM] Iteration 6, pseudo-likelihood = -2963.32, time = 0.06s"
       ]
      },
      {
       "output_type": "stream",
       "stream": "stdout",
       "text": [
        "\n",
        "[BernoulliRBM] Iteration 7, pseudo-likelihood = -3506.91, time = 0.06s"
       ]
      },
      {
       "output_type": "stream",
       "stream": "stdout",
       "text": [
        "\n",
        "[BernoulliRBM] Iteration 8, pseudo-likelihood = -4069.01, time = 0.06s"
       ]
      },
      {
       "output_type": "stream",
       "stream": "stdout",
       "text": [
        "\n",
        "[BernoulliRBM] Iteration 9, pseudo-likelihood = -4585.15, time = 0.06s"
       ]
      },
      {
       "output_type": "stream",
       "stream": "stdout",
       "text": [
        "\n",
        "[BernoulliRBM] Iteration 10, pseudo-likelihood = -5061.85, time = 0.06s"
       ]
      },
      {
       "output_type": "stream",
       "stream": "stdout",
       "text": [
        "\n",
        "[BernoulliRBM] Iteration 1, pseudo-likelihood = -740.95, time = 0.04s"
       ]
      },
      {
       "output_type": "stream",
       "stream": "stdout",
       "text": [
        "\n",
        "[BernoulliRBM] Iteration 2, pseudo-likelihood = -1369.03, time = 0.07s"
       ]
      },
      {
       "output_type": "stream",
       "stream": "stdout",
       "text": [
        "\n",
        "[BernoulliRBM] Iteration 3, pseudo-likelihood = -1840.77, time = 0.06s"
       ]
      },
      {
       "output_type": "stream",
       "stream": "stdout",
       "text": [
        "\n",
        "[BernoulliRBM] Iteration 4, pseudo-likelihood = -2243.96, time = 0.07s"
       ]
      },
      {
       "output_type": "stream",
       "stream": "stdout",
       "text": [
        "\n",
        "[BernoulliRBM] Iteration 5, pseudo-likelihood = -2784.99, time = 0.07s"
       ]
      },
      {
       "output_type": "stream",
       "stream": "stdout",
       "text": [
        "\n",
        "[BernoulliRBM] Iteration 6, pseudo-likelihood = -3185.26, time = 0.06s"
       ]
      },
      {
       "output_type": "stream",
       "stream": "stdout",
       "text": [
        "\n",
        "[BernoulliRBM] Iteration 7, pseudo-likelihood = -3651.12, time = 0.06s"
       ]
      },
      {
       "output_type": "stream",
       "stream": "stdout",
       "text": [
        "\n",
        "[BernoulliRBM] Iteration 8, pseudo-likelihood = -4176.86, time = 0.06s"
       ]
      },
      {
       "output_type": "stream",
       "stream": "stdout",
       "text": [
        "\n",
        "[BernoulliRBM] Iteration 9, pseudo-likelihood = -4718.64, time = 0.06s"
       ]
      },
      {
       "output_type": "stream",
       "stream": "stdout",
       "text": [
        "\n",
        "[BernoulliRBM] Iteration 10, pseudo-likelihood = -5251.03, time = 0.06s"
       ]
      },
      {
       "output_type": "stream",
       "stream": "stdout",
       "text": [
        "\n",
        "Neural Networks Accuracy"
       ]
      },
      {
       "output_type": "stream",
       "stream": "stdout",
       "text": [
        "\n",
        "0.481884126196\n",
        "Boosting Trees Accuracy\n",
        "0.536314663139\n",
        "Random Forests Accuracy\n",
        "0.495349105864\n",
        "Decision Tree Accuracy\n",
        "0.482419712583\n",
        "[BernoulliRBM] Iteration 1, pseudo-likelihood = -124.60, time = 0.04s"
       ]
      },
      {
       "output_type": "stream",
       "stream": "stdout",
       "text": [
        "\n",
        "[BernoulliRBM] Iteration 2, pseudo-likelihood = -130.05, time = 0.05s"
       ]
      },
      {
       "output_type": "stream",
       "stream": "stdout",
       "text": [
        "\n",
        "[BernoulliRBM] Iteration 3, pseudo-likelihood = -136.10, time = 0.06s"
       ]
      },
      {
       "output_type": "stream",
       "stream": "stdout",
       "text": [
        "\n",
        "[BernoulliRBM] Iteration 4, pseudo-likelihood = -153.30, time = 0.06s"
       ]
      },
      {
       "output_type": "stream",
       "stream": "stdout",
       "text": [
        "\n",
        "[BernoulliRBM] Iteration 5, pseudo-likelihood = -163.24, time = 0.05s"
       ]
      },
      {
       "output_type": "stream",
       "stream": "stdout",
       "text": [
        "\n",
        "[BernoulliRBM] Iteration 6, pseudo-likelihood = -182.65, time = 0.06s"
       ]
      },
      {
       "output_type": "stream",
       "stream": "stdout",
       "text": [
        "\n",
        "[BernoulliRBM] Iteration 7, pseudo-likelihood = -193.75, time = 0.06s"
       ]
      },
      {
       "output_type": "stream",
       "stream": "stdout",
       "text": [
        "\n",
        "[BernoulliRBM] Iteration 8, pseudo-likelihood = -210.54, time = 0.07s"
       ]
      },
      {
       "output_type": "stream",
       "stream": "stdout",
       "text": [
        "\n",
        "[BernoulliRBM] Iteration 9, pseudo-likelihood = -222.66, time = 0.06s"
       ]
      },
      {
       "output_type": "stream",
       "stream": "stdout",
       "text": [
        "\n",
        "[BernoulliRBM] Iteration 10, pseudo-likelihood = -233.86, time = 0.06s"
       ]
      },
      {
       "output_type": "stream",
       "stream": "stdout",
       "text": [
        "\n",
        "[BernoulliRBM] Iteration 1, pseudo-likelihood = -125.36, time = 0.04s"
       ]
      },
      {
       "output_type": "stream",
       "stream": "stdout",
       "text": [
        "\n",
        "[BernoulliRBM] Iteration 2, pseudo-likelihood = -131.14, time = 0.06s"
       ]
      },
      {
       "output_type": "stream",
       "stream": "stdout",
       "text": [
        "\n",
        "[BernoulliRBM] Iteration 3, pseudo-likelihood = -140.11, time = 0.07s"
       ]
      },
      {
       "output_type": "stream",
       "stream": "stdout",
       "text": [
        "\n",
        "[BernoulliRBM] Iteration 4, pseudo-likelihood = -156.81, time = 0.06s"
       ]
      },
      {
       "output_type": "stream",
       "stream": "stdout",
       "text": [
        "\n",
        "[BernoulliRBM] Iteration 5, pseudo-likelihood = -171.73, time = 0.07s"
       ]
      },
      {
       "output_type": "stream",
       "stream": "stdout",
       "text": [
        "\n",
        "[BernoulliRBM] Iteration 6, pseudo-likelihood = -191.60, time = 0.07s"
       ]
      },
      {
       "output_type": "stream",
       "stream": "stdout",
       "text": [
        "\n",
        "[BernoulliRBM] Iteration 7, pseudo-likelihood = -208.19, time = 0.07s"
       ]
      },
      {
       "output_type": "stream",
       "stream": "stdout",
       "text": [
        "\n",
        "[BernoulliRBM] Iteration 8, pseudo-likelihood = -223.98, time = 0.07s"
       ]
      },
      {
       "output_type": "stream",
       "stream": "stdout",
       "text": [
        "\n",
        "[BernoulliRBM] Iteration 9, pseudo-likelihood = -242.32, time = 0.07s"
       ]
      },
      {
       "output_type": "stream",
       "stream": "stdout",
       "text": [
        "\n",
        "[BernoulliRBM] Iteration 10, pseudo-likelihood = -260.01, time = 0.07s"
       ]
      },
      {
       "output_type": "stream",
       "stream": "stdout",
       "text": [
        "\n",
        "[BernoulliRBM] Iteration 1, pseudo-likelihood = -86.44, time = 0.04s"
       ]
      },
      {
       "output_type": "stream",
       "stream": "stdout",
       "text": [
        "\n",
        "[BernoulliRBM] Iteration 2, pseudo-likelihood = -89.97, time = 0.06s"
       ]
      },
      {
       "output_type": "stream",
       "stream": "stdout",
       "text": [
        "\n",
        "[BernoulliRBM] Iteration 3, pseudo-likelihood = -97.00, time = 0.07s"
       ]
      },
      {
       "output_type": "stream",
       "stream": "stdout",
       "text": [
        "\n",
        "[BernoulliRBM] Iteration 4, pseudo-likelihood = -108.50, time = 0.06s"
       ]
      },
      {
       "output_type": "stream",
       "stream": "stdout",
       "text": [
        "\n",
        "[BernoulliRBM] Iteration 5, pseudo-likelihood = -118.54, time = 0.06s"
       ]
      },
      {
       "output_type": "stream",
       "stream": "stdout",
       "text": [
        "\n",
        "[BernoulliRBM] Iteration 6, pseudo-likelihood = -135.35, time = 0.07s"
       ]
      },
      {
       "output_type": "stream",
       "stream": "stdout",
       "text": [
        "\n",
        "[BernoulliRBM] Iteration 7, pseudo-likelihood = -151.45, time = 0.06s"
       ]
      },
      {
       "output_type": "stream",
       "stream": "stdout",
       "text": [
        "\n",
        "[BernoulliRBM] Iteration 8, pseudo-likelihood = -169.27, time = 0.06s"
       ]
      },
      {
       "output_type": "stream",
       "stream": "stdout",
       "text": [
        "\n",
        "[BernoulliRBM] Iteration 9, pseudo-likelihood = -182.92, time = 0.06s"
       ]
      },
      {
       "output_type": "stream",
       "stream": "stdout",
       "text": [
        "\n",
        "[BernoulliRBM] Iteration 10, pseudo-likelihood = -194.98, time = 0.06s"
       ]
      },
      {
       "output_type": "stream",
       "stream": "stdout",
       "text": [
        "\n",
        "[BernoulliRBM] Iteration 1, pseudo-likelihood = -86.06, time = 0.04s"
       ]
      },
      {
       "output_type": "stream",
       "stream": "stdout",
       "text": [
        "\n",
        "[BernoulliRBM] Iteration 2, pseudo-likelihood = -99.86, time = 0.06s"
       ]
      },
      {
       "output_type": "stream",
       "stream": "stdout",
       "text": [
        "\n",
        "[BernoulliRBM] Iteration 3, pseudo-likelihood = -93.59, time = 0.07s"
       ]
      },
      {
       "output_type": "stream",
       "stream": "stdout",
       "text": [
        "\n",
        "[BernoulliRBM] Iteration 4, pseudo-likelihood = -103.69, time = 0.07s"
       ]
      },
      {
       "output_type": "stream",
       "stream": "stdout",
       "text": [
        "\n",
        "[BernoulliRBM] Iteration 5, pseudo-likelihood = -117.13, time = 0.06s"
       ]
      },
      {
       "output_type": "stream",
       "stream": "stdout",
       "text": [
        "\n",
        "[BernoulliRBM] Iteration 6, pseudo-likelihood = -125.31, time = 0.06s"
       ]
      },
      {
       "output_type": "stream",
       "stream": "stdout",
       "text": [
        "\n",
        "[BernoulliRBM] Iteration 7, pseudo-likelihood = -144.71, time = 0.06s"
       ]
      },
      {
       "output_type": "stream",
       "stream": "stdout",
       "text": [
        "\n",
        "[BernoulliRBM] Iteration 8, pseudo-likelihood = -159.12, time = 0.06s"
       ]
      },
      {
       "output_type": "stream",
       "stream": "stdout",
       "text": [
        "\n",
        "[BernoulliRBM] Iteration 9, pseudo-likelihood = -174.70, time = 0.07s"
       ]
      },
      {
       "output_type": "stream",
       "stream": "stdout",
       "text": [
        "\n",
        "[BernoulliRBM] Iteration 10, pseudo-likelihood = -191.26, time = 0.07s"
       ]
      },
      {
       "output_type": "stream",
       "stream": "stdout",
       "text": [
        "\n",
        "[BernoulliRBM] Iteration 1, pseudo-likelihood = -85.46, time = 0.04s"
       ]
      },
      {
       "output_type": "stream",
       "stream": "stdout",
       "text": [
        "\n",
        "[BernoulliRBM] Iteration 2, pseudo-likelihood = -111.79, time = 0.06s"
       ]
      },
      {
       "output_type": "stream",
       "stream": "stdout",
       "text": [
        "\n",
        "[BernoulliRBM] Iteration 3, pseudo-likelihood = -105.75, time = 0.07s"
       ]
      },
      {
       "output_type": "stream",
       "stream": "stdout",
       "text": [
        "\n",
        "[BernoulliRBM] Iteration 4, pseudo-likelihood = -109.75, time = 0.06s"
       ]
      },
      {
       "output_type": "stream",
       "stream": "stdout",
       "text": [
        "\n",
        "[BernoulliRBM] Iteration 5, pseudo-likelihood = -119.94, time = 0.06s"
       ]
      },
      {
       "output_type": "stream",
       "stream": "stdout",
       "text": [
        "\n",
        "[BernoulliRBM] Iteration 6, pseudo-likelihood = -135.88, time = 0.06s"
       ]
      },
      {
       "output_type": "stream",
       "stream": "stdout",
       "text": [
        "\n",
        "[BernoulliRBM] Iteration 7, pseudo-likelihood = -145.75, time = 0.06s"
       ]
      },
      {
       "output_type": "stream",
       "stream": "stdout",
       "text": [
        "\n",
        "[BernoulliRBM] Iteration 8, pseudo-likelihood = -161.09, time = 0.06s"
       ]
      },
      {
       "output_type": "stream",
       "stream": "stdout",
       "text": [
        "\n",
        "[BernoulliRBM] Iteration 9, pseudo-likelihood = -174.38, time = 0.07s"
       ]
      },
      {
       "output_type": "stream",
       "stream": "stdout",
       "text": [
        "\n",
        "[BernoulliRBM] Iteration 10, pseudo-likelihood = -184.77, time = 0.06s"
       ]
      },
      {
       "output_type": "stream",
       "stream": "stdout",
       "text": [
        "\n",
        "[BernoulliRBM] Iteration 1, pseudo-likelihood = -77.20, time = 0.04s"
       ]
      },
      {
       "output_type": "stream",
       "stream": "stdout",
       "text": [
        "\n",
        "[BernoulliRBM] Iteration 2, pseudo-likelihood = -88.30, time = 0.07s"
       ]
      },
      {
       "output_type": "stream",
       "stream": "stdout",
       "text": [
        "\n",
        "[BernoulliRBM] Iteration 3, pseudo-likelihood = -89.17, time = 0.06s"
       ]
      },
      {
       "output_type": "stream",
       "stream": "stdout",
       "text": [
        "\n",
        "[BernoulliRBM] Iteration 4, pseudo-likelihood = -98.86, time = 0.07s"
       ]
      },
      {
       "output_type": "stream",
       "stream": "stdout",
       "text": [
        "\n",
        "[BernoulliRBM] Iteration 5, pseudo-likelihood = -109.60, time = 0.07s"
       ]
      },
      {
       "output_type": "stream",
       "stream": "stdout",
       "text": [
        "\n",
        "[BernoulliRBM] Iteration 6, pseudo-likelihood = -119.41, time = 0.07s"
       ]
      },
      {
       "output_type": "stream",
       "stream": "stdout",
       "text": [
        "\n",
        "[BernoulliRBM] Iteration 7, pseudo-likelihood = -133.69, time = 0.06s"
       ]
      },
      {
       "output_type": "stream",
       "stream": "stdout",
       "text": [
        "\n",
        "[BernoulliRBM] Iteration 8, pseudo-likelihood = -143.19, time = 0.06s"
       ]
      },
      {
       "output_type": "stream",
       "stream": "stdout",
       "text": [
        "\n",
        "[BernoulliRBM] Iteration 9, pseudo-likelihood = -157.99, time = 0.07s"
       ]
      },
      {
       "output_type": "stream",
       "stream": "stdout",
       "text": [
        "\n",
        "[BernoulliRBM] Iteration 10, pseudo-likelihood = -170.09, time = 0.07s"
       ]
      },
      {
       "output_type": "stream",
       "stream": "stdout",
       "text": [
        "\n",
        "[BernoulliRBM] Iteration 1, pseudo-likelihood = -82.11, time = 0.04s"
       ]
      },
      {
       "output_type": "stream",
       "stream": "stdout",
       "text": [
        "\n",
        "[BernoulliRBM] Iteration 2, pseudo-likelihood = -110.45, time = 0.05s"
       ]
      },
      {
       "output_type": "stream",
       "stream": "stdout",
       "text": [
        "\n",
        "[BernoulliRBM] Iteration 3, pseudo-likelihood = -106.14, time = 0.06s"
       ]
      },
      {
       "output_type": "stream",
       "stream": "stdout",
       "text": [
        "\n",
        "[BernoulliRBM] Iteration 4, pseudo-likelihood = -105.84, time = 0.07s"
       ]
      },
      {
       "output_type": "stream",
       "stream": "stdout",
       "text": [
        "\n",
        "[BernoulliRBM] Iteration 5, pseudo-likelihood = -113.91, time = 0.06s"
       ]
      },
      {
       "output_type": "stream",
       "stream": "stdout",
       "text": [
        "\n",
        "[BernoulliRBM] Iteration 6, pseudo-likelihood = -121.16, time = 0.07s"
       ]
      },
      {
       "output_type": "stream",
       "stream": "stdout",
       "text": [
        "\n",
        "[BernoulliRBM] Iteration 7, pseudo-likelihood = -135.56, time = 0.06s"
       ]
      },
      {
       "output_type": "stream",
       "stream": "stdout",
       "text": [
        "\n",
        "[BernoulliRBM] Iteration 8, pseudo-likelihood = -147.95, time = 0.05s"
       ]
      },
      {
       "output_type": "stream",
       "stream": "stdout",
       "text": [
        "\n",
        "[BernoulliRBM] Iteration 9, pseudo-likelihood = -161.23, time = 0.06s"
       ]
      },
      {
       "output_type": "stream",
       "stream": "stdout",
       "text": [
        "\n",
        "[BernoulliRBM] Iteration 10, pseudo-likelihood = -169.81, time = 0.06s"
       ]
      },
      {
       "output_type": "stream",
       "stream": "stdout",
       "text": [
        "\n",
        "[BernoulliRBM] Iteration 1, pseudo-likelihood = -90.92, time = 0.04s"
       ]
      },
      {
       "output_type": "stream",
       "stream": "stdout",
       "text": [
        "\n",
        "[BernoulliRBM] Iteration 2, pseudo-likelihood = -115.46, time = 0.06s"
       ]
      },
      {
       "output_type": "stream",
       "stream": "stdout",
       "text": [
        "\n",
        "[BernoulliRBM] Iteration 3, pseudo-likelihood = -104.24, time = 0.06s"
       ]
      },
      {
       "output_type": "stream",
       "stream": "stdout",
       "text": [
        "\n",
        "[BernoulliRBM] Iteration 4, pseudo-likelihood = -109.92, time = 0.06s"
       ]
      },
      {
       "output_type": "stream",
       "stream": "stdout",
       "text": [
        "\n",
        "[BernoulliRBM] Iteration 5, pseudo-likelihood = -123.92, time = 0.07s"
       ]
      },
      {
       "output_type": "stream",
       "stream": "stdout",
       "text": [
        "\n",
        "[BernoulliRBM] Iteration 6, pseudo-likelihood = -134.92, time = 0.07s"
       ]
      },
      {
       "output_type": "stream",
       "stream": "stdout",
       "text": [
        "\n",
        "[BernoulliRBM] Iteration 7, pseudo-likelihood = -156.91, time = 0.06s"
       ]
      },
      {
       "output_type": "stream",
       "stream": "stdout",
       "text": [
        "\n",
        "[BernoulliRBM] Iteration 8, pseudo-likelihood = -168.38, time = 0.07s"
       ]
      },
      {
       "output_type": "stream",
       "stream": "stdout",
       "text": [
        "\n",
        "[BernoulliRBM] Iteration 9, pseudo-likelihood = -189.50, time = 0.06s"
       ]
      },
      {
       "output_type": "stream",
       "stream": "stdout",
       "text": [
        "\n",
        "[BernoulliRBM] Iteration 10, pseudo-likelihood = -206.28, time = 0.07s"
       ]
      },
      {
       "output_type": "stream",
       "stream": "stdout",
       "text": [
        "\n",
        "[BernoulliRBM] Iteration 1, pseudo-likelihood = -92.07, time = 0.04s"
       ]
      },
      {
       "output_type": "stream",
       "stream": "stdout",
       "text": [
        "\n",
        "[BernoulliRBM] Iteration 2, pseudo-likelihood = -117.50, time = 0.06s"
       ]
      },
      {
       "output_type": "stream",
       "stream": "stdout",
       "text": [
        "\n",
        "[BernoulliRBM] Iteration 3, pseudo-likelihood = -114.37, time = 0.06s"
       ]
      },
      {
       "output_type": "stream",
       "stream": "stdout",
       "text": [
        "\n",
        "[BernoulliRBM] Iteration 4, pseudo-likelihood = -118.32, time = 0.06s"
       ]
      },
      {
       "output_type": "stream",
       "stream": "stdout",
       "text": [
        "\n",
        "[BernoulliRBM] Iteration 5, pseudo-likelihood = -136.40, time = 0.07s"
       ]
      },
      {
       "output_type": "stream",
       "stream": "stdout",
       "text": [
        "\n",
        "[BernoulliRBM] Iteration 6, pseudo-likelihood = -160.66, time = 0.07s"
       ]
      },
      {
       "output_type": "stream",
       "stream": "stdout",
       "text": [
        "\n",
        "[BernoulliRBM] Iteration 7, pseudo-likelihood = -173.23, time = 0.06s"
       ]
      },
      {
       "output_type": "stream",
       "stream": "stdout",
       "text": [
        "\n",
        "[BernoulliRBM] Iteration 8, pseudo-likelihood = -187.19, time = 0.06s"
       ]
      },
      {
       "output_type": "stream",
       "stream": "stdout",
       "text": [
        "\n",
        "[BernoulliRBM] Iteration 9, pseudo-likelihood = -210.83, time = 0.06s"
       ]
      },
      {
       "output_type": "stream",
       "stream": "stdout",
       "text": [
        "\n",
        "[BernoulliRBM] Iteration 10, pseudo-likelihood = -223.39, time = 0.06s"
       ]
      },
      {
       "output_type": "stream",
       "stream": "stdout",
       "text": [
        "\n",
        "[BernoulliRBM] Iteration 1, pseudo-likelihood = -101.71, time = 0.03s"
       ]
      },
      {
       "output_type": "stream",
       "stream": "stdout",
       "text": [
        "\n",
        "[BernoulliRBM] Iteration 2, pseudo-likelihood = -127.06, time = 0.06s"
       ]
      },
      {
       "output_type": "stream",
       "stream": "stdout",
       "text": [
        "\n",
        "[BernoulliRBM] Iteration 3, pseudo-likelihood = -124.06, time = 0.07s"
       ]
      },
      {
       "output_type": "stream",
       "stream": "stdout",
       "text": [
        "\n",
        "[BernoulliRBM] Iteration 4, pseudo-likelihood = -136.38, time = 0.07s"
       ]
      },
      {
       "output_type": "stream",
       "stream": "stdout",
       "text": [
        "\n",
        "[BernoulliRBM] Iteration 5, pseudo-likelihood = -151.27, time = 0.06s"
       ]
      },
      {
       "output_type": "stream",
       "stream": "stdout",
       "text": [
        "\n",
        "[BernoulliRBM] Iteration 6, pseudo-likelihood = -168.31, time = 0.06s"
       ]
      },
      {
       "output_type": "stream",
       "stream": "stdout",
       "text": [
        "\n",
        "[BernoulliRBM] Iteration 7, pseudo-likelihood = -185.20, time = 0.06s"
       ]
      },
      {
       "output_type": "stream",
       "stream": "stdout",
       "text": [
        "\n",
        "[BernoulliRBM] Iteration 8, pseudo-likelihood = -199.20, time = 0.07s"
       ]
      },
      {
       "output_type": "stream",
       "stream": "stdout",
       "text": [
        "\n",
        "[BernoulliRBM] Iteration 9, pseudo-likelihood = -218.03, time = 0.07s"
       ]
      },
      {
       "output_type": "stream",
       "stream": "stdout",
       "text": [
        "\n",
        "[BernoulliRBM] Iteration 10, pseudo-likelihood = -235.63, time = 0.06s"
       ]
      },
      {
       "output_type": "stream",
       "stream": "stdout",
       "text": [
        "\n",
        "[BernoulliRBM] Iteration 1, pseudo-likelihood = -137.04, time = 0.04s"
       ]
      },
      {
       "output_type": "stream",
       "stream": "stdout",
       "text": [
        "\n",
        "[BernoulliRBM] Iteration 2, pseudo-likelihood = -142.53, time = 0.07s"
       ]
      },
      {
       "output_type": "stream",
       "stream": "stdout",
       "text": [
        "\n",
        "[BernoulliRBM] Iteration 3, pseudo-likelihood = -156.50, time = 0.08s"
       ]
      },
      {
       "output_type": "stream",
       "stream": "stdout",
       "text": [
        "\n",
        "[BernoulliRBM] Iteration 4, pseudo-likelihood = -175.40, time = 0.07s"
       ]
      },
      {
       "output_type": "stream",
       "stream": "stdout",
       "text": [
        "\n",
        "[BernoulliRBM] Iteration 5, pseudo-likelihood = -182.94, time = 0.07s"
       ]
      },
      {
       "output_type": "stream",
       "stream": "stdout",
       "text": [
        "\n",
        "[BernoulliRBM] Iteration 6, pseudo-likelihood = -202.74, time = 0.07s"
       ]
      },
      {
       "output_type": "stream",
       "stream": "stdout",
       "text": [
        "\n",
        "[BernoulliRBM] Iteration 7, pseudo-likelihood = -215.09, time = 0.07s"
       ]
      },
      {
       "output_type": "stream",
       "stream": "stdout",
       "text": [
        "\n",
        "[BernoulliRBM] Iteration 8, pseudo-likelihood = -232.51, time = 0.08s"
       ]
      },
      {
       "output_type": "stream",
       "stream": "stdout",
       "text": [
        "\n",
        "[BernoulliRBM] Iteration 9, pseudo-likelihood = -249.22, time = 0.07s"
       ]
      },
      {
       "output_type": "stream",
       "stream": "stdout",
       "text": [
        "\n",
        "[BernoulliRBM] Iteration 10, pseudo-likelihood = -270.72, time = 0.07s"
       ]
      },
      {
       "output_type": "stream",
       "stream": "stdout",
       "text": [
        "\n",
        "[BernoulliRBM] Iteration 1, pseudo-likelihood = -136.27, time = 0.05s"
       ]
      },
      {
       "output_type": "stream",
       "stream": "stdout",
       "text": [
        "\n",
        "[BernoulliRBM] Iteration 2, pseudo-likelihood = -144.34, time = 0.07s"
       ]
      },
      {
       "output_type": "stream",
       "stream": "stdout",
       "text": [
        "\n",
        "[BernoulliRBM] Iteration 3, pseudo-likelihood = -155.97, time = 0.06s"
       ]
      },
      {
       "output_type": "stream",
       "stream": "stdout",
       "text": [
        "\n",
        "[BernoulliRBM] Iteration 4, pseudo-likelihood = -181.84, time = 0.07s"
       ]
      },
      {
       "output_type": "stream",
       "stream": "stdout",
       "text": [
        "\n",
        "[BernoulliRBM] Iteration 5, pseudo-likelihood = -197.20, time = 0.07s"
       ]
      },
      {
       "output_type": "stream",
       "stream": "stdout",
       "text": [
        "\n",
        "[BernoulliRBM] Iteration 6, pseudo-likelihood = -210.87, time = 0.08s"
       ]
      },
      {
       "output_type": "stream",
       "stream": "stdout",
       "text": [
        "\n",
        "[BernoulliRBM] Iteration 7, pseudo-likelihood = -242.31, time = 0.07s"
       ]
      },
      {
       "output_type": "stream",
       "stream": "stdout",
       "text": [
        "\n",
        "[BernoulliRBM] Iteration 8, pseudo-likelihood = -258.34, time = 0.07s"
       ]
      },
      {
       "output_type": "stream",
       "stream": "stdout",
       "text": [
        "\n",
        "[BernoulliRBM] Iteration 9, pseudo-likelihood = -277.47, time = 0.07s"
       ]
      },
      {
       "output_type": "stream",
       "stream": "stdout",
       "text": [
        "\n",
        "[BernoulliRBM] Iteration 10, pseudo-likelihood = -298.61, time = 0.07s"
       ]
      },
      {
       "output_type": "stream",
       "stream": "stdout",
       "text": [
        "\n",
        "[BernoulliRBM] Iteration 1, pseudo-likelihood = -94.61, time = 0.04s"
       ]
      },
      {
       "output_type": "stream",
       "stream": "stdout",
       "text": [
        "\n",
        "[BernoulliRBM] Iteration 2, pseudo-likelihood = -98.44, time = 0.07s"
       ]
      },
      {
       "output_type": "stream",
       "stream": "stdout",
       "text": [
        "\n",
        "[BernoulliRBM] Iteration 3, pseudo-likelihood = -109.69, time = 0.07s"
       ]
      },
      {
       "output_type": "stream",
       "stream": "stdout",
       "text": [
        "\n",
        "[BernoulliRBM] Iteration 4, pseudo-likelihood = -123.57, time = 0.08s"
       ]
      },
      {
       "output_type": "stream",
       "stream": "stdout",
       "text": [
        "\n",
        "[BernoulliRBM] Iteration 5, pseudo-likelihood = -134.03, time = 0.07s"
       ]
      },
      {
       "output_type": "stream",
       "stream": "stdout",
       "text": [
        "\n",
        "[BernoulliRBM] Iteration 6, pseudo-likelihood = -150.16, time = 0.08s"
       ]
      },
      {
       "output_type": "stream",
       "stream": "stdout",
       "text": [
        "\n",
        "[BernoulliRBM] Iteration 7, pseudo-likelihood = -166.87, time = 0.08s"
       ]
      },
      {
       "output_type": "stream",
       "stream": "stdout",
       "text": [
        "\n",
        "[BernoulliRBM] Iteration 8, pseudo-likelihood = -185.22, time = 0.08s"
       ]
      },
      {
       "output_type": "stream",
       "stream": "stdout",
       "text": [
        "\n",
        "[BernoulliRBM] Iteration 9, pseudo-likelihood = -201.31, time = 0.07s"
       ]
      },
      {
       "output_type": "stream",
       "stream": "stdout",
       "text": [
        "\n",
        "[BernoulliRBM] Iteration 10, pseudo-likelihood = -221.12, time = 0.08s"
       ]
      },
      {
       "output_type": "stream",
       "stream": "stdout",
       "text": [
        "\n",
        "[BernoulliRBM] Iteration 1, pseudo-likelihood = -94.91, time = 0.04s"
       ]
      },
      {
       "output_type": "stream",
       "stream": "stdout",
       "text": [
        "\n",
        "[BernoulliRBM] Iteration 2, pseudo-likelihood = -104.01, time = 0.07s"
       ]
      },
      {
       "output_type": "stream",
       "stream": "stdout",
       "text": [
        "\n",
        "[BernoulliRBM] Iteration 3, pseudo-likelihood = -104.72, time = 0.07s"
       ]
      },
      {
       "output_type": "stream",
       "stream": "stdout",
       "text": [
        "\n",
        "[BernoulliRBM] Iteration 4, pseudo-likelihood = -114.54, time = 0.08s"
       ]
      },
      {
       "output_type": "stream",
       "stream": "stdout",
       "text": [
        "\n",
        "[BernoulliRBM] Iteration 5, pseudo-likelihood = -127.58, time = 0.07s"
       ]
      },
      {
       "output_type": "stream",
       "stream": "stdout",
       "text": [
        "\n",
        "[BernoulliRBM] Iteration 6, pseudo-likelihood = -146.92, time = 0.07s"
       ]
      },
      {
       "output_type": "stream",
       "stream": "stdout",
       "text": [
        "\n",
        "[BernoulliRBM] Iteration 7, pseudo-likelihood = -165.42, time = 0.08s"
       ]
      },
      {
       "output_type": "stream",
       "stream": "stdout",
       "text": [
        "\n",
        "[BernoulliRBM] Iteration 8, pseudo-likelihood = -180.10, time = 0.07s"
       ]
      },
      {
       "output_type": "stream",
       "stream": "stdout",
       "text": [
        "\n",
        "[BernoulliRBM] Iteration 9, pseudo-likelihood = -202.94, time = 0.07s"
       ]
      },
      {
       "output_type": "stream",
       "stream": "stdout",
       "text": [
        "\n",
        "[BernoulliRBM] Iteration 10, pseudo-likelihood = -217.16, time = 0.07s"
       ]
      },
      {
       "output_type": "stream",
       "stream": "stdout",
       "text": [
        "\n",
        "[BernoulliRBM] Iteration 1, pseudo-likelihood = -94.40, time = 0.04s"
       ]
      },
      {
       "output_type": "stream",
       "stream": "stdout",
       "text": [
        "\n",
        "[BernoulliRBM] Iteration 2, pseudo-likelihood = -119.68, time = 0.07s"
       ]
      },
      {
       "output_type": "stream",
       "stream": "stdout",
       "text": [
        "\n",
        "[BernoulliRBM] Iteration 3, pseudo-likelihood = -114.59, time = 0.07s"
       ]
      },
      {
       "output_type": "stream",
       "stream": "stdout",
       "text": [
        "\n",
        "[BernoulliRBM] Iteration 4, pseudo-likelihood = -125.25, time = 0.07s"
       ]
      },
      {
       "output_type": "stream",
       "stream": "stdout",
       "text": [
        "\n",
        "[BernoulliRBM] Iteration 5, pseudo-likelihood = -134.03, time = 0.08s"
       ]
      },
      {
       "output_type": "stream",
       "stream": "stdout",
       "text": [
        "\n",
        "[BernoulliRBM] Iteration 6, pseudo-likelihood = -154.15, time = 0.07s"
       ]
      },
      {
       "output_type": "stream",
       "stream": "stdout",
       "text": [
        "\n",
        "[BernoulliRBM] Iteration 7, pseudo-likelihood = -171.50, time = 0.07s"
       ]
      },
      {
       "output_type": "stream",
       "stream": "stdout",
       "text": [
        "\n",
        "[BernoulliRBM] Iteration 8, pseudo-likelihood = -180.28, time = 0.07s"
       ]
      },
      {
       "output_type": "stream",
       "stream": "stdout",
       "text": [
        "\n",
        "[BernoulliRBM] Iteration 9, pseudo-likelihood = -194.53, time = 0.07s"
       ]
      },
      {
       "output_type": "stream",
       "stream": "stdout",
       "text": [
        "\n",
        "[BernoulliRBM] Iteration 10, pseudo-likelihood = -218.42, time = 0.07s"
       ]
      },
      {
       "output_type": "stream",
       "stream": "stdout",
       "text": [
        "\n",
        "[BernoulliRBM] Iteration 1, pseudo-likelihood = -85.40, time = 0.04s"
       ]
      },
      {
       "output_type": "stream",
       "stream": "stdout",
       "text": [
        "\n",
        "[BernoulliRBM] Iteration 2, pseudo-likelihood = -94.91, time = 0.07s"
       ]
      },
      {
       "output_type": "stream",
       "stream": "stdout",
       "text": [
        "\n",
        "[BernoulliRBM] Iteration 3, pseudo-likelihood = -99.03, time = 0.08s"
       ]
      },
      {
       "output_type": "stream",
       "stream": "stdout",
       "text": [
        "\n",
        "[BernoulliRBM] Iteration 4, pseudo-likelihood = -108.72, time = 0.07s"
       ]
      },
      {
       "output_type": "stream",
       "stream": "stdout",
       "text": [
        "\n",
        "[BernoulliRBM] Iteration 5, pseudo-likelihood = -117.45, time = 0.07s"
       ]
      },
      {
       "output_type": "stream",
       "stream": "stdout",
       "text": [
        "\n",
        "[BernoulliRBM] Iteration 6, pseudo-likelihood = -134.47, time = 0.07s"
       ]
      },
      {
       "output_type": "stream",
       "stream": "stdout",
       "text": [
        "\n",
        "[BernoulliRBM] Iteration 7, pseudo-likelihood = -147.63, time = 0.07s"
       ]
      },
      {
       "output_type": "stream",
       "stream": "stdout",
       "text": [
        "\n",
        "[BernoulliRBM] Iteration 8, pseudo-likelihood = -165.54, time = 0.07s"
       ]
      },
      {
       "output_type": "stream",
       "stream": "stdout",
       "text": [
        "\n",
        "[BernoulliRBM] Iteration 9, pseudo-likelihood = -183.11, time = 0.07s"
       ]
      },
      {
       "output_type": "stream",
       "stream": "stdout",
       "text": [
        "\n",
        "[BernoulliRBM] Iteration 10, pseudo-likelihood = -196.36, time = 0.08s"
       ]
      },
      {
       "output_type": "stream",
       "stream": "stdout",
       "text": [
        "\n",
        "[BernoulliRBM] Iteration 1, pseudo-likelihood = -90.53, time = 0.04s"
       ]
      },
      {
       "output_type": "stream",
       "stream": "stdout",
       "text": [
        "\n",
        "[BernoulliRBM] Iteration 2, pseudo-likelihood = -119.98, time = 0.07s"
       ]
      },
      {
       "output_type": "stream",
       "stream": "stdout",
       "text": [
        "\n",
        "[BernoulliRBM] Iteration 3, pseudo-likelihood = -112.02, time = 0.08s"
       ]
      },
      {
       "output_type": "stream",
       "stream": "stdout",
       "text": [
        "\n",
        "[BernoulliRBM] Iteration 4, pseudo-likelihood = -113.08, time = 0.08s"
       ]
      },
      {
       "output_type": "stream",
       "stream": "stdout",
       "text": [
        "\n",
        "[BernoulliRBM] Iteration 5, pseudo-likelihood = -122.96, time = 0.08s"
       ]
      },
      {
       "output_type": "stream",
       "stream": "stdout",
       "text": [
        "\n",
        "[BernoulliRBM] Iteration 6, pseudo-likelihood = -137.86, time = 0.08s"
       ]
      },
      {
       "output_type": "stream",
       "stream": "stdout",
       "text": [
        "\n",
        "[BernoulliRBM] Iteration 7, pseudo-likelihood = -153.64, time = 0.07s"
       ]
      },
      {
       "output_type": "stream",
       "stream": "stdout",
       "text": [
        "\n",
        "[BernoulliRBM] Iteration 8, pseudo-likelihood = -172.45, time = 0.07s"
       ]
      },
      {
       "output_type": "stream",
       "stream": "stdout",
       "text": [
        "\n",
        "[BernoulliRBM] Iteration 9, pseudo-likelihood = -181.56, time = 0.07s"
       ]
      },
      {
       "output_type": "stream",
       "stream": "stdout",
       "text": [
        "\n",
        "[BernoulliRBM] Iteration 10, pseudo-likelihood = -197.52, time = 0.08s"
       ]
      },
      {
       "output_type": "stream",
       "stream": "stdout",
       "text": [
        "\n",
        "[BernoulliRBM] Iteration 1, pseudo-likelihood = -99.49, time = 0.04s"
       ]
      },
      {
       "output_type": "stream",
       "stream": "stdout",
       "text": [
        "\n",
        "[BernoulliRBM] Iteration 2, pseudo-likelihood = -124.75, time = 0.07s"
       ]
      },
      {
       "output_type": "stream",
       "stream": "stdout",
       "text": [
        "\n",
        "[BernoulliRBM] Iteration 3, pseudo-likelihood = -113.16, time = 0.07s"
       ]
      },
      {
       "output_type": "stream",
       "stream": "stdout",
       "text": [
        "\n",
        "[BernoulliRBM] Iteration 4, pseudo-likelihood = -122.79, time = 0.08s"
       ]
      },
      {
       "output_type": "stream",
       "stream": "stdout",
       "text": [
        "\n",
        "[BernoulliRBM] Iteration 5, pseudo-likelihood = -138.22, time = 0.07s"
       ]
      },
      {
       "output_type": "stream",
       "stream": "stdout",
       "text": [
        "\n",
        "[BernoulliRBM] Iteration 6, pseudo-likelihood = -152.39, time = 0.08s"
       ]
      },
      {
       "output_type": "stream",
       "stream": "stdout",
       "text": [
        "\n",
        "[BernoulliRBM] Iteration 7, pseudo-likelihood = -180.96, time = 0.07s"
       ]
      },
      {
       "output_type": "stream",
       "stream": "stdout",
       "text": [
        "\n",
        "[BernoulliRBM] Iteration 8, pseudo-likelihood = -195.22, time = 0.07s"
       ]
      },
      {
       "output_type": "stream",
       "stream": "stdout",
       "text": [
        "\n",
        "[BernoulliRBM] Iteration 9, pseudo-likelihood = -210.24, time = 0.07s"
       ]
      },
      {
       "output_type": "stream",
       "stream": "stdout",
       "text": [
        "\n",
        "[BernoulliRBM] Iteration 10, pseudo-likelihood = -234.81, time = 0.07s"
       ]
      },
      {
       "output_type": "stream",
       "stream": "stdout",
       "text": [
        "\n",
        "[BernoulliRBM] Iteration 1, pseudo-likelihood = -99.48, time = 0.05s"
       ]
      },
      {
       "output_type": "stream",
       "stream": "stdout",
       "text": [
        "\n",
        "[BernoulliRBM] Iteration 2, pseudo-likelihood = -127.13, time = 0.08s"
       ]
      },
      {
       "output_type": "stream",
       "stream": "stdout",
       "text": [
        "\n",
        "[BernoulliRBM] Iteration 3, pseudo-likelihood = -122.07, time = 0.07s"
       ]
      },
      {
       "output_type": "stream",
       "stream": "stdout",
       "text": [
        "\n",
        "[BernoulliRBM] Iteration 4, pseudo-likelihood = -132.62, time = 0.08s"
       ]
      },
      {
       "output_type": "stream",
       "stream": "stdout",
       "text": [
        "\n",
        "[BernoulliRBM] Iteration 5, pseudo-likelihood = -149.81, time = 0.07s"
       ]
      },
      {
       "output_type": "stream",
       "stream": "stdout",
       "text": [
        "\n",
        "[BernoulliRBM] Iteration 6, pseudo-likelihood = -176.18, time = 0.08s"
       ]
      },
      {
       "output_type": "stream",
       "stream": "stdout",
       "text": [
        "\n",
        "[BernoulliRBM] Iteration 7, pseudo-likelihood = -200.19, time = 0.07s"
       ]
      },
      {
       "output_type": "stream",
       "stream": "stdout",
       "text": [
        "\n",
        "[BernoulliRBM] Iteration 8, pseudo-likelihood = -222.82, time = 0.06s"
       ]
      },
      {
       "output_type": "stream",
       "stream": "stdout",
       "text": [
        "\n",
        "[BernoulliRBM] Iteration 9, pseudo-likelihood = -245.74, time = 0.07s"
       ]
      },
      {
       "output_type": "stream",
       "stream": "stdout",
       "text": [
        "\n",
        "[BernoulliRBM] Iteration 10, pseudo-likelihood = -264.44, time = 0.07s"
       ]
      },
      {
       "output_type": "stream",
       "stream": "stdout",
       "text": [
        "\n",
        "[BernoulliRBM] Iteration 1, pseudo-likelihood = -109.88, time = 0.05s"
       ]
      },
      {
       "output_type": "stream",
       "stream": "stdout",
       "text": [
        "\n",
        "[BernoulliRBM] Iteration 2, pseudo-likelihood = -137.56, time = 0.07s"
       ]
      },
      {
       "output_type": "stream",
       "stream": "stdout",
       "text": [
        "\n",
        "[BernoulliRBM] Iteration 3, pseudo-likelihood = -136.33, time = 0.07s"
       ]
      },
      {
       "output_type": "stream",
       "stream": "stdout",
       "text": [
        "\n",
        "[BernoulliRBM] Iteration 4, pseudo-likelihood = -152.10, time = 0.07s"
       ]
      },
      {
       "output_type": "stream",
       "stream": "stdout",
       "text": [
        "\n",
        "[BernoulliRBM] Iteration 5, pseudo-likelihood = -167.85, time = 0.08s"
       ]
      },
      {
       "output_type": "stream",
       "stream": "stdout",
       "text": [
        "\n",
        "[BernoulliRBM] Iteration 6, pseudo-likelihood = -185.35, time = 0.07s"
       ]
      },
      {
       "output_type": "stream",
       "stream": "stdout",
       "text": [
        "\n",
        "[BernoulliRBM] Iteration 7, pseudo-likelihood = -203.14, time = 0.07s"
       ]
      },
      {
       "output_type": "stream",
       "stream": "stdout",
       "text": [
        "\n",
        "[BernoulliRBM] Iteration 8, pseudo-likelihood = -227.65, time = 0.07s"
       ]
      },
      {
       "output_type": "stream",
       "stream": "stdout",
       "text": [
        "\n",
        "[BernoulliRBM] Iteration 9, pseudo-likelihood = -246.53, time = 0.08s"
       ]
      },
      {
       "output_type": "stream",
       "stream": "stdout",
       "text": [
        "\n",
        "[BernoulliRBM] Iteration 10, pseudo-likelihood = -268.01, time = 0.07s"
       ]
      },
      {
       "output_type": "stream",
       "stream": "stdout",
       "text": [
        "\n",
        "[BernoulliRBM] Iteration 1, pseudo-likelihood = -143.95, time = 0.05s"
       ]
      },
      {
       "output_type": "stream",
       "stream": "stdout",
       "text": [
        "\n",
        "[BernoulliRBM] Iteration 2, pseudo-likelihood = -151.52, time = 0.08s"
       ]
      },
      {
       "output_type": "stream",
       "stream": "stdout",
       "text": [
        "\n",
        "[BernoulliRBM] Iteration 3, pseudo-likelihood = -170.43, time = 0.08s"
       ]
      },
      {
       "output_type": "stream",
       "stream": "stdout",
       "text": [
        "\n",
        "[BernoulliRBM] Iteration 4, pseudo-likelihood = -193.83, time = 0.08s"
       ]
      },
      {
       "output_type": "stream",
       "stream": "stdout",
       "text": [
        "\n",
        "[BernoulliRBM] Iteration 5, pseudo-likelihood = -200.82, time = 0.08s"
       ]
      },
      {
       "output_type": "stream",
       "stream": "stdout",
       "text": [
        "\n",
        "[BernoulliRBM] Iteration 6, pseudo-likelihood = -215.96, time = 0.09s"
       ]
      },
      {
       "output_type": "stream",
       "stream": "stdout",
       "text": [
        "\n",
        "[BernoulliRBM] Iteration 7, pseudo-likelihood = -239.34, time = 0.08s"
       ]
      },
      {
       "output_type": "stream",
       "stream": "stdout",
       "text": [
        "\n",
        "[BernoulliRBM] Iteration 8, pseudo-likelihood = -258.77, time = 0.08s"
       ]
      },
      {
       "output_type": "stream",
       "stream": "stdout",
       "text": [
        "\n",
        "[BernoulliRBM] Iteration 9, pseudo-likelihood = -281.35, time = 0.09s"
       ]
      },
      {
       "output_type": "stream",
       "stream": "stdout",
       "text": [
        "\n",
        "[BernoulliRBM] Iteration 10, pseudo-likelihood = -298.33, time = 0.08s"
       ]
      },
      {
       "output_type": "stream",
       "stream": "stdout",
       "text": [
        "\n",
        "[BernoulliRBM] Iteration 1, pseudo-likelihood = -145.23, time = 0.05s"
       ]
      },
      {
       "output_type": "stream",
       "stream": "stdout",
       "text": [
        "\n",
        "[BernoulliRBM] Iteration 2, pseudo-likelihood = -154.82, time = 0.08s"
       ]
      },
      {
       "output_type": "stream",
       "stream": "stdout",
       "text": [
        "\n",
        "[BernoulliRBM] Iteration 3, pseudo-likelihood = -169.76, time = 0.09s"
       ]
      },
      {
       "output_type": "stream",
       "stream": "stdout",
       "text": [
        "\n",
        "[BernoulliRBM] Iteration 4, pseudo-likelihood = -194.91, time = 0.08s"
       ]
      },
      {
       "output_type": "stream",
       "stream": "stdout",
       "text": [
        "\n",
        "[BernoulliRBM] Iteration 5, pseudo-likelihood = -213.04, time = 0.08s"
       ]
      },
      {
       "output_type": "stream",
       "stream": "stdout",
       "text": [
        "\n",
        "[BernoulliRBM] Iteration 6, pseudo-likelihood = -236.88, time = 0.09s"
       ]
      },
      {
       "output_type": "stream",
       "stream": "stdout",
       "text": [
        "\n",
        "[BernoulliRBM] Iteration 7, pseudo-likelihood = -265.69, time = 0.08s"
       ]
      },
      {
       "output_type": "stream",
       "stream": "stdout",
       "text": [
        "\n",
        "[BernoulliRBM] Iteration 8, pseudo-likelihood = -290.92, time = 0.08s"
       ]
      },
      {
       "output_type": "stream",
       "stream": "stdout",
       "text": [
        "\n",
        "[BernoulliRBM] Iteration 9, pseudo-likelihood = -311.11, time = 0.09s"
       ]
      },
      {
       "output_type": "stream",
       "stream": "stdout",
       "text": [
        "\n",
        "[BernoulliRBM] Iteration 10, pseudo-likelihood = -341.60, time = 0.09s"
       ]
      },
      {
       "output_type": "stream",
       "stream": "stdout",
       "text": [
        "\n",
        "[BernoulliRBM] Iteration 1, pseudo-likelihood = -99.92, time = 0.05s"
       ]
      },
      {
       "output_type": "stream",
       "stream": "stdout",
       "text": [
        "\n",
        "[BernoulliRBM] Iteration 2, pseudo-likelihood = -107.57, time = 0.09s"
       ]
      },
      {
       "output_type": "stream",
       "stream": "stdout",
       "text": [
        "\n",
        "[BernoulliRBM] Iteration 3, pseudo-likelihood = -116.77, time = 0.08s"
       ]
      },
      {
       "output_type": "stream",
       "stream": "stdout",
       "text": [
        "\n",
        "[BernoulliRBM] Iteration 4, pseudo-likelihood = -136.60, time = 0.08s"
       ]
      },
      {
       "output_type": "stream",
       "stream": "stdout",
       "text": [
        "\n",
        "[BernoulliRBM] Iteration 5, pseudo-likelihood = -142.04, time = 0.09s"
       ]
      },
      {
       "output_type": "stream",
       "stream": "stdout",
       "text": [
        "\n",
        "[BernoulliRBM] Iteration 6, pseudo-likelihood = -163.22, time = 0.09s"
       ]
      },
      {
       "output_type": "stream",
       "stream": "stdout",
       "text": [
        "\n",
        "[BernoulliRBM] Iteration 7, pseudo-likelihood = -183.27, time = 0.09s"
       ]
      },
      {
       "output_type": "stream",
       "stream": "stdout",
       "text": [
        "\n",
        "[BernoulliRBM] Iteration 8, pseudo-likelihood = -203.55, time = 0.09s"
       ]
      },
      {
       "output_type": "stream",
       "stream": "stdout",
       "text": [
        "\n",
        "[BernoulliRBM] Iteration 9, pseudo-likelihood = -223.66, time = 0.08s"
       ]
      },
      {
       "output_type": "stream",
       "stream": "stdout",
       "text": [
        "\n",
        "[BernoulliRBM] Iteration 10, pseudo-likelihood = -243.30, time = 0.08s"
       ]
      },
      {
       "output_type": "stream",
       "stream": "stdout",
       "text": [
        "\n",
        "[BernoulliRBM] Iteration 1, pseudo-likelihood = -101.13, time = 0.05s"
       ]
      },
      {
       "output_type": "stream",
       "stream": "stdout",
       "text": [
        "\n",
        "[BernoulliRBM] Iteration 2, pseudo-likelihood = -113.29, time = 0.08s"
       ]
      },
      {
       "output_type": "stream",
       "stream": "stdout",
       "text": [
        "\n",
        "[BernoulliRBM] Iteration 3, pseudo-likelihood = -112.71, time = 0.09s"
       ]
      },
      {
       "output_type": "stream",
       "stream": "stdout",
       "text": [
        "\n",
        "[BernoulliRBM] Iteration 4, pseudo-likelihood = -132.42, time = 0.08s"
       ]
      },
      {
       "output_type": "stream",
       "stream": "stdout",
       "text": [
        "\n",
        "[BernoulliRBM] Iteration 5, pseudo-likelihood = -139.84, time = 0.08s"
       ]
      },
      {
       "output_type": "stream",
       "stream": "stdout",
       "text": [
        "\n",
        "[BernoulliRBM] Iteration 6, pseudo-likelihood = -158.64, time = 0.08s"
       ]
      },
      {
       "output_type": "stream",
       "stream": "stdout",
       "text": [
        "\n",
        "[BernoulliRBM] Iteration 7, pseudo-likelihood = -176.70, time = 0.09s"
       ]
      },
      {
       "output_type": "stream",
       "stream": "stdout",
       "text": [
        "\n",
        "[BernoulliRBM] Iteration 8, pseudo-likelihood = -197.62, time = 0.08s"
       ]
      },
      {
       "output_type": "stream",
       "stream": "stdout",
       "text": [
        "\n",
        "[BernoulliRBM] Iteration 9, pseudo-likelihood = -224.53, time = 0.09s"
       ]
      },
      {
       "output_type": "stream",
       "stream": "stdout",
       "text": [
        "\n",
        "[BernoulliRBM] Iteration 10, pseudo-likelihood = -248.40, time = 0.09s"
       ]
      },
      {
       "output_type": "stream",
       "stream": "stdout",
       "text": [
        "\n",
        "[BernoulliRBM] Iteration 1, pseudo-likelihood = -100.42, time = 0.05s"
       ]
      },
      {
       "output_type": "stream",
       "stream": "stdout",
       "text": [
        "\n",
        "[BernoulliRBM] Iteration 2, pseudo-likelihood = -133.51, time = 0.08s"
       ]
      },
      {
       "output_type": "stream",
       "stream": "stdout",
       "text": [
        "\n",
        "[BernoulliRBM] Iteration 3, pseudo-likelihood = -126.65, time = 0.09s"
       ]
      },
      {
       "output_type": "stream",
       "stream": "stdout",
       "text": [
        "\n",
        "[BernoulliRBM] Iteration 4, pseudo-likelihood = -141.44, time = 0.09s"
       ]
      },
      {
       "output_type": "stream",
       "stream": "stdout",
       "text": [
        "\n",
        "[BernoulliRBM] Iteration 5, pseudo-likelihood = -149.75, time = 0.08s"
       ]
      },
      {
       "output_type": "stream",
       "stream": "stdout",
       "text": [
        "\n",
        "[BernoulliRBM] Iteration 6, pseudo-likelihood = -163.66, time = 0.08s"
       ]
      },
      {
       "output_type": "stream",
       "stream": "stdout",
       "text": [
        "\n",
        "[BernoulliRBM] Iteration 7, pseudo-likelihood = -184.78, time = 0.07s"
       ]
      },
      {
       "output_type": "stream",
       "stream": "stdout",
       "text": [
        "\n",
        "[BernoulliRBM] Iteration 8, pseudo-likelihood = -203.78, time = 0.08s"
       ]
      },
      {
       "output_type": "stream",
       "stream": "stdout",
       "text": [
        "\n",
        "[BernoulliRBM] Iteration 9, pseudo-likelihood = -221.75, time = 0.08s"
       ]
      },
      {
       "output_type": "stream",
       "stream": "stdout",
       "text": [
        "\n",
        "[BernoulliRBM] Iteration 10, pseudo-likelihood = -243.37, time = 0.08s"
       ]
      },
      {
       "output_type": "stream",
       "stream": "stdout",
       "text": [
        "\n",
        "[BernoulliRBM] Iteration 1, pseudo-likelihood = -89.83, time = 0.04s"
       ]
      },
      {
       "output_type": "stream",
       "stream": "stdout",
       "text": [
        "\n",
        "[BernoulliRBM] Iteration 2, pseudo-likelihood = -100.54, time = 0.08s"
       ]
      },
      {
       "output_type": "stream",
       "stream": "stdout",
       "text": [
        "\n",
        "[BernoulliRBM] Iteration 3, pseudo-likelihood = -103.52, time = 0.08s"
       ]
      },
      {
       "output_type": "stream",
       "stream": "stdout",
       "text": [
        "\n",
        "[BernoulliRBM] Iteration 4, pseudo-likelihood = -111.74, time = 0.08s"
       ]
      },
      {
       "output_type": "stream",
       "stream": "stdout",
       "text": [
        "\n",
        "[BernoulliRBM] Iteration 5, pseudo-likelihood = -125.60, time = 0.09s"
       ]
      },
      {
       "output_type": "stream",
       "stream": "stdout",
       "text": [
        "\n",
        "[BernoulliRBM] Iteration 6, pseudo-likelihood = -143.82, time = 0.09s"
       ]
      },
      {
       "output_type": "stream",
       "stream": "stdout",
       "text": [
        "\n",
        "[BernoulliRBM] Iteration 7, pseudo-likelihood = -166.21, time = 0.08s"
       ]
      },
      {
       "output_type": "stream",
       "stream": "stdout",
       "text": [
        "\n",
        "[BernoulliRBM] Iteration 8, pseudo-likelihood = -187.90, time = 0.08s"
       ]
      },
      {
       "output_type": "stream",
       "stream": "stdout",
       "text": [
        "\n",
        "[BernoulliRBM] Iteration 9, pseudo-likelihood = -209.93, time = 0.09s"
       ]
      },
      {
       "output_type": "stream",
       "stream": "stdout",
       "text": [
        "\n",
        "[BernoulliRBM] Iteration 10, pseudo-likelihood = -236.19, time = 0.07s"
       ]
      },
      {
       "output_type": "stream",
       "stream": "stdout",
       "text": [
        "\n",
        "[BernoulliRBM] Iteration 1, pseudo-likelihood = -97.22, time = 0.05s"
       ]
      },
      {
       "output_type": "stream",
       "stream": "stdout",
       "text": [
        "\n",
        "[BernoulliRBM] Iteration 2, pseudo-likelihood = -134.74, time = 0.08s"
       ]
      },
      {
       "output_type": "stream",
       "stream": "stdout",
       "text": [
        "\n",
        "[BernoulliRBM] Iteration 3, pseudo-likelihood = -128.58, time = 0.07s"
       ]
      },
      {
       "output_type": "stream",
       "stream": "stdout",
       "text": [
        "\n",
        "[BernoulliRBM] Iteration 4, pseudo-likelihood = -132.90, time = 0.09s"
       ]
      },
      {
       "output_type": "stream",
       "stream": "stdout",
       "text": [
        "\n",
        "[BernoulliRBM] Iteration 5, pseudo-likelihood = -144.89, time = 0.08s"
       ]
      },
      {
       "output_type": "stream",
       "stream": "stdout",
       "text": [
        "\n",
        "[BernoulliRBM] Iteration 6, pseudo-likelihood = -157.67, time = 0.08s"
       ]
      },
      {
       "output_type": "stream",
       "stream": "stdout",
       "text": [
        "\n",
        "[BernoulliRBM] Iteration 7, pseudo-likelihood = -172.95, time = 0.08s"
       ]
      },
      {
       "output_type": "stream",
       "stream": "stdout",
       "text": [
        "\n",
        "[BernoulliRBM] Iteration 8, pseudo-likelihood = -188.93, time = 0.08s"
       ]
      },
      {
       "output_type": "stream",
       "stream": "stdout",
       "text": [
        "\n",
        "[BernoulliRBM] Iteration 9, pseudo-likelihood = -220.78, time = 0.08s"
       ]
      },
      {
       "output_type": "stream",
       "stream": "stdout",
       "text": [
        "\n",
        "[BernoulliRBM] Iteration 10, pseudo-likelihood = -231.16, time = 0.08s"
       ]
      },
      {
       "output_type": "stream",
       "stream": "stdout",
       "text": [
        "\n",
        "[BernoulliRBM] Iteration 1, pseudo-likelihood = -107.04, time = 0.05s"
       ]
      },
      {
       "output_type": "stream",
       "stream": "stdout",
       "text": [
        "\n",
        "[BernoulliRBM] Iteration 2, pseudo-likelihood = -137.96, time = 0.08s"
       ]
      },
      {
       "output_type": "stream",
       "stream": "stdout",
       "text": [
        "\n",
        "[BernoulliRBM] Iteration 3, pseudo-likelihood = -123.57, time = 0.08s"
       ]
      },
      {
       "output_type": "stream",
       "stream": "stdout",
       "text": [
        "\n",
        "[BernoulliRBM] Iteration 4, pseudo-likelihood = -128.74, time = 0.08s"
       ]
      },
      {
       "output_type": "stream",
       "stream": "stdout",
       "text": [
        "\n",
        "[BernoulliRBM] Iteration 5, pseudo-likelihood = -160.69, time = 0.09s"
       ]
      },
      {
       "output_type": "stream",
       "stream": "stdout",
       "text": [
        "\n",
        "[BernoulliRBM] Iteration 6, pseudo-likelihood = -167.59, time = 0.09s"
       ]
      },
      {
       "output_type": "stream",
       "stream": "stdout",
       "text": [
        "\n",
        "[BernoulliRBM] Iteration 7, pseudo-likelihood = -194.55, time = 0.08s"
       ]
      },
      {
       "output_type": "stream",
       "stream": "stdout",
       "text": [
        "\n",
        "[BernoulliRBM] Iteration 8, pseudo-likelihood = -223.48, time = 0.08s"
       ]
      },
      {
       "output_type": "stream",
       "stream": "stdout",
       "text": [
        "\n",
        "[BernoulliRBM] Iteration 9, pseudo-likelihood = -242.66, time = 0.08s"
       ]
      },
      {
       "output_type": "stream",
       "stream": "stdout",
       "text": [
        "\n",
        "[BernoulliRBM] Iteration 10, pseudo-likelihood = -268.08, time = 0.08s"
       ]
      },
      {
       "output_type": "stream",
       "stream": "stdout",
       "text": [
        "\n",
        "[BernoulliRBM] Iteration 1, pseudo-likelihood = -107.59, time = 0.05s"
       ]
      },
      {
       "output_type": "stream",
       "stream": "stdout",
       "text": [
        "\n",
        "[BernoulliRBM] Iteration 2, pseudo-likelihood = -138.50, time = 0.09s"
       ]
      },
      {
       "output_type": "stream",
       "stream": "stdout",
       "text": [
        "\n",
        "[BernoulliRBM] Iteration 3, pseudo-likelihood = -128.38, time = 0.08s"
       ]
      },
      {
       "output_type": "stream",
       "stream": "stdout",
       "text": [
        "\n",
        "[BernoulliRBM] Iteration 4, pseudo-likelihood = -137.81, time = 0.09s"
       ]
      },
      {
       "output_type": "stream",
       "stream": "stdout",
       "text": [
        "\n",
        "[BernoulliRBM] Iteration 5, pseudo-likelihood = -161.97, time = 0.08s"
       ]
      },
      {
       "output_type": "stream",
       "stream": "stdout",
       "text": [
        "\n",
        "[BernoulliRBM] Iteration 6, pseudo-likelihood = -177.80, time = 0.08s"
       ]
      },
      {
       "output_type": "stream",
       "stream": "stdout",
       "text": [
        "\n",
        "[BernoulliRBM] Iteration 7, pseudo-likelihood = -211.32, time = 0.09s"
       ]
      },
      {
       "output_type": "stream",
       "stream": "stdout",
       "text": [
        "\n",
        "[BernoulliRBM] Iteration 8, pseudo-likelihood = -250.70, time = 0.08s"
       ]
      },
      {
       "output_type": "stream",
       "stream": "stdout",
       "text": [
        "\n",
        "[BernoulliRBM] Iteration 9, pseudo-likelihood = -281.59, time = 0.08s"
       ]
      },
      {
       "output_type": "stream",
       "stream": "stdout",
       "text": [
        "\n",
        "[BernoulliRBM] Iteration 10, pseudo-likelihood = -317.49, time = 0.09s"
       ]
      },
      {
       "output_type": "stream",
       "stream": "stdout",
       "text": [
        "\n",
        "[BernoulliRBM] Iteration 1, pseudo-likelihood = -120.39, time = 0.05s"
       ]
      },
      {
       "output_type": "stream",
       "stream": "stdout",
       "text": [
        "\n",
        "[BernoulliRBM] Iteration 2, pseudo-likelihood = -152.79, time = 0.08s"
       ]
      },
      {
       "output_type": "stream",
       "stream": "stdout",
       "text": [
        "\n",
        "[BernoulliRBM] Iteration 3, pseudo-likelihood = -150.24, time = 0.08s"
       ]
      },
      {
       "output_type": "stream",
       "stream": "stdout",
       "text": [
        "\n",
        "[BernoulliRBM] Iteration 4, pseudo-likelihood = -166.48, time = 0.09s"
       ]
      },
      {
       "output_type": "stream",
       "stream": "stdout",
       "text": [
        "\n",
        "[BernoulliRBM] Iteration 5, pseudo-likelihood = -190.73, time = 0.09s"
       ]
      },
      {
       "output_type": "stream",
       "stream": "stdout",
       "text": [
        "\n",
        "[BernoulliRBM] Iteration 6, pseudo-likelihood = -207.55, time = 0.09s"
       ]
      },
      {
       "output_type": "stream",
       "stream": "stdout",
       "text": [
        "\n",
        "[BernoulliRBM] Iteration 7, pseudo-likelihood = -233.55, time = 0.08s"
       ]
      },
      {
       "output_type": "stream",
       "stream": "stdout",
       "text": [
        "\n",
        "[BernoulliRBM] Iteration 8, pseudo-likelihood = -259.13, time = 0.08s"
       ]
      },
      {
       "output_type": "stream",
       "stream": "stdout",
       "text": [
        "\n",
        "[BernoulliRBM] Iteration 9, pseudo-likelihood = -285.89, time = 0.09s"
       ]
      },
      {
       "output_type": "stream",
       "stream": "stdout",
       "text": [
        "\n",
        "[BernoulliRBM] Iteration 10, pseudo-likelihood = -310.57, time = 0.09s"
       ]
      },
      {
       "output_type": "stream",
       "stream": "stdout",
       "text": [
        "\n",
        "[BernoulliRBM] Iteration 1, pseudo-likelihood = -153.72, time = 0.05s"
       ]
      },
      {
       "output_type": "stream",
       "stream": "stdout",
       "text": [
        "\n",
        "[BernoulliRBM] Iteration 2, pseudo-likelihood = -166.18, time = 0.09s"
       ]
      },
      {
       "output_type": "stream",
       "stream": "stdout",
       "text": [
        "\n",
        "[BernoulliRBM] Iteration 3, pseudo-likelihood = -182.11, time = 0.09s"
       ]
      },
      {
       "output_type": "stream",
       "stream": "stdout",
       "text": [
        "\n",
        "[BernoulliRBM] Iteration 4, pseudo-likelihood = -208.75, time = 0.09s"
       ]
      },
      {
       "output_type": "stream",
       "stream": "stdout",
       "text": [
        "\n",
        "[BernoulliRBM] Iteration 5, pseudo-likelihood = -217.59, time = 0.09s"
       ]
      },
      {
       "output_type": "stream",
       "stream": "stdout",
       "text": [
        "\n",
        "[BernoulliRBM] Iteration 6, pseudo-likelihood = -241.31, time = 0.08s"
       ]
      },
      {
       "output_type": "stream",
       "stream": "stdout",
       "text": [
        "\n",
        "[BernoulliRBM] Iteration 7, pseudo-likelihood = -260.28, time = 0.08s"
       ]
      },
      {
       "output_type": "stream",
       "stream": "stdout",
       "text": [
        "\n",
        "[BernoulliRBM] Iteration 8, pseudo-likelihood = -283.24, time = 0.08s"
       ]
      },
      {
       "output_type": "stream",
       "stream": "stdout",
       "text": [
        "\n",
        "[BernoulliRBM] Iteration 9, pseudo-likelihood = -309.38, time = 0.09s"
       ]
      },
      {
       "output_type": "stream",
       "stream": "stdout",
       "text": [
        "\n",
        "[BernoulliRBM] Iteration 10, pseudo-likelihood = -334.69, time = 0.09s"
       ]
      },
      {
       "output_type": "stream",
       "stream": "stdout",
       "text": [
        "\n",
        "[BernoulliRBM] Iteration 1, pseudo-likelihood = -152.98, time = 0.05s"
       ]
      },
      {
       "output_type": "stream",
       "stream": "stdout",
       "text": [
        "\n",
        "[BernoulliRBM] Iteration 2, pseudo-likelihood = -167.97, time = 0.09s"
       ]
      },
      {
       "output_type": "stream",
       "stream": "stdout",
       "text": [
        "\n",
        "[BernoulliRBM] Iteration 3, pseudo-likelihood = -188.51, time = 0.08s"
       ]
      },
      {
       "output_type": "stream",
       "stream": "stdout",
       "text": [
        "\n",
        "[BernoulliRBM] Iteration 4, pseudo-likelihood = -209.44, time = 0.08s"
       ]
      },
      {
       "output_type": "stream",
       "stream": "stdout",
       "text": [
        "\n",
        "[BernoulliRBM] Iteration 5, pseudo-likelihood = -238.14, time = 0.10s"
       ]
      },
      {
       "output_type": "stream",
       "stream": "stdout",
       "text": [
        "\n",
        "[BernoulliRBM] Iteration 6, pseudo-likelihood = -271.55, time = 0.10s"
       ]
      },
      {
       "output_type": "stream",
       "stream": "stdout",
       "text": [
        "\n",
        "[BernoulliRBM] Iteration 7, pseudo-likelihood = -289.41, time = 0.09s"
       ]
      },
      {
       "output_type": "stream",
       "stream": "stdout",
       "text": [
        "\n",
        "[BernoulliRBM] Iteration 8, pseudo-likelihood = -329.43, time = 0.09s"
       ]
      },
      {
       "output_type": "stream",
       "stream": "stdout",
       "text": [
        "\n",
        "[BernoulliRBM] Iteration 9, pseudo-likelihood = -349.34, time = 0.09s"
       ]
      },
      {
       "output_type": "stream",
       "stream": "stdout",
       "text": [
        "\n",
        "[BernoulliRBM] Iteration 10, pseudo-likelihood = -379.68, time = 0.08s"
       ]
      },
      {
       "output_type": "stream",
       "stream": "stdout",
       "text": [
        "\n",
        "[BernoulliRBM] Iteration 1, pseudo-likelihood = -107.95, time = 0.05s"
       ]
      },
      {
       "output_type": "stream",
       "stream": "stdout",
       "text": [
        "\n",
        "[BernoulliRBM] Iteration 2, pseudo-likelihood = -118.85, time = 0.09s"
       ]
      },
      {
       "output_type": "stream",
       "stream": "stdout",
       "text": [
        "\n",
        "[BernoulliRBM] Iteration 3, pseudo-likelihood = -125.63, time = 0.09s"
       ]
      },
      {
       "output_type": "stream",
       "stream": "stdout",
       "text": [
        "\n",
        "[BernoulliRBM] Iteration 4, pseudo-likelihood = -148.56, time = 0.08s"
       ]
      },
      {
       "output_type": "stream",
       "stream": "stdout",
       "text": [
        "\n",
        "[BernoulliRBM] Iteration 5, pseudo-likelihood = -156.66, time = 0.10s"
       ]
      },
      {
       "output_type": "stream",
       "stream": "stdout",
       "text": [
        "\n",
        "[BernoulliRBM] Iteration 6, pseudo-likelihood = -177.80, time = 0.09s"
       ]
      },
      {
       "output_type": "stream",
       "stream": "stdout",
       "text": [
        "\n",
        "[BernoulliRBM] Iteration 7, pseudo-likelihood = -201.32, time = 0.10s"
       ]
      },
      {
       "output_type": "stream",
       "stream": "stdout",
       "text": [
        "\n",
        "[BernoulliRBM] Iteration 8, pseudo-likelihood = -222.50, time = 0.09s"
       ]
      },
      {
       "output_type": "stream",
       "stream": "stdout",
       "text": [
        "\n",
        "[BernoulliRBM] Iteration 9, pseudo-likelihood = -248.70, time = 0.09s"
       ]
      },
      {
       "output_type": "stream",
       "stream": "stdout",
       "text": [
        "\n",
        "[BernoulliRBM] Iteration 10, pseudo-likelihood = -276.17, time = 0.09s"
       ]
      },
      {
       "output_type": "stream",
       "stream": "stdout",
       "text": [
        "\n",
        "[BernoulliRBM] Iteration 1, pseudo-likelihood = -110.99, time = 0.06s"
       ]
      },
      {
       "output_type": "stream",
       "stream": "stdout",
       "text": [
        "\n",
        "[BernoulliRBM] Iteration 2, pseudo-likelihood = -123.46, time = 0.10s"
       ]
      },
      {
       "output_type": "stream",
       "stream": "stdout",
       "text": [
        "\n",
        "[BernoulliRBM] Iteration 3, pseudo-likelihood = -121.11, time = 0.09s"
       ]
      },
      {
       "output_type": "stream",
       "stream": "stdout",
       "text": [
        "\n",
        "[BernoulliRBM] Iteration 4, pseudo-likelihood = -145.84, time = 0.09s"
       ]
      },
      {
       "output_type": "stream",
       "stream": "stdout",
       "text": [
        "\n",
        "[BernoulliRBM] Iteration 5, pseudo-likelihood = -158.20, time = 0.09s"
       ]
      },
      {
       "output_type": "stream",
       "stream": "stdout",
       "text": [
        "\n",
        "[BernoulliRBM] Iteration 6, pseudo-likelihood = -172.24, time = 0.08s"
       ]
      },
      {
       "output_type": "stream",
       "stream": "stdout",
       "text": [
        "\n",
        "[BernoulliRBM] Iteration 7, pseudo-likelihood = -198.80, time = 0.10s"
       ]
      },
      {
       "output_type": "stream",
       "stream": "stdout",
       "text": [
        "\n",
        "[BernoulliRBM] Iteration 8, pseudo-likelihood = -226.17, time = 0.09s"
       ]
      },
      {
       "output_type": "stream",
       "stream": "stdout",
       "text": [
        "\n",
        "[BernoulliRBM] Iteration 9, pseudo-likelihood = -243.95, time = 0.08s"
       ]
      },
      {
       "output_type": "stream",
       "stream": "stdout",
       "text": [
        "\n",
        "[BernoulliRBM] Iteration 10, pseudo-likelihood = -284.53, time = 0.09s"
       ]
      },
      {
       "output_type": "stream",
       "stream": "stdout",
       "text": [
        "\n",
        "[BernoulliRBM] Iteration 1, pseudo-likelihood = -109.37, time = 0.05s"
       ]
      },
      {
       "output_type": "stream",
       "stream": "stdout",
       "text": [
        "\n",
        "[BernoulliRBM] Iteration 2, pseudo-likelihood = -145.08, time = 0.09s"
       ]
      },
      {
       "output_type": "stream",
       "stream": "stdout",
       "text": [
        "\n",
        "[BernoulliRBM] Iteration 3, pseudo-likelihood = -136.93, time = 0.09s"
       ]
      },
      {
       "output_type": "stream",
       "stream": "stdout",
       "text": [
        "\n",
        "[BernoulliRBM] Iteration 4, pseudo-likelihood = -145.04, time = 0.09s"
       ]
      },
      {
       "output_type": "stream",
       "stream": "stdout",
       "text": [
        "\n",
        "[BernoulliRBM] Iteration 5, pseudo-likelihood = -168.08, time = 0.09s"
       ]
      },
      {
       "output_type": "stream",
       "stream": "stdout",
       "text": [
        "\n",
        "[BernoulliRBM] Iteration 6, pseudo-likelihood = -190.95, time = 0.10s"
       ]
      },
      {
       "output_type": "stream",
       "stream": "stdout",
       "text": [
        "\n",
        "[BernoulliRBM] Iteration 7, pseudo-likelihood = -197.69, time = 0.09s"
       ]
      },
      {
       "output_type": "stream",
       "stream": "stdout",
       "text": [
        "\n",
        "[BernoulliRBM] Iteration 8, pseudo-likelihood = -224.05, time = 0.09s"
       ]
      },
      {
       "output_type": "stream",
       "stream": "stdout",
       "text": [
        "\n",
        "[BernoulliRBM] Iteration 9, pseudo-likelihood = -253.34, time = 0.09s"
       ]
      },
      {
       "output_type": "stream",
       "stream": "stdout",
       "text": [
        "\n",
        "[BernoulliRBM] Iteration 10, pseudo-likelihood = -285.38, time = 0.10s"
       ]
      },
      {
       "output_type": "stream",
       "stream": "stdout",
       "text": [
        "\n",
        "[BernoulliRBM] Iteration 1, pseudo-likelihood = -97.01, time = 0.05s"
       ]
      },
      {
       "output_type": "stream",
       "stream": "stdout",
       "text": [
        "\n",
        "[BernoulliRBM] Iteration 2, pseudo-likelihood = -107.32, time = 0.10s"
       ]
      },
      {
       "output_type": "stream",
       "stream": "stdout",
       "text": [
        "\n",
        "[BernoulliRBM] Iteration 3, pseudo-likelihood = -110.73, time = 0.09s"
       ]
      },
      {
       "output_type": "stream",
       "stream": "stdout",
       "text": [
        "\n",
        "[BernoulliRBM] Iteration 4, pseudo-likelihood = -121.98, time = 0.09s"
       ]
      },
      {
       "output_type": "stream",
       "stream": "stdout",
       "text": [
        "\n",
        "[BernoulliRBM] Iteration 5, pseudo-likelihood = -137.65, time = 0.09s"
       ]
      },
      {
       "output_type": "stream",
       "stream": "stdout",
       "text": [
        "\n",
        "[BernoulliRBM] Iteration 6, pseudo-likelihood = -160.85, time = 0.09s"
       ]
      },
      {
       "output_type": "stream",
       "stream": "stdout",
       "text": [
        "\n",
        "[BernoulliRBM] Iteration 7, pseudo-likelihood = -185.54, time = 0.09s"
       ]
      },
      {
       "output_type": "stream",
       "stream": "stdout",
       "text": [
        "\n",
        "[BernoulliRBM] Iteration 8, pseudo-likelihood = -208.21, time = 0.09s"
       ]
      },
      {
       "output_type": "stream",
       "stream": "stdout",
       "text": [
        "\n",
        "[BernoulliRBM] Iteration 9, pseudo-likelihood = -237.66, time = 0.09s"
       ]
      },
      {
       "output_type": "stream",
       "stream": "stdout",
       "text": [
        "\n",
        "[BernoulliRBM] Iteration 10, pseudo-likelihood = -276.64, time = 0.09s"
       ]
      },
      {
       "output_type": "stream",
       "stream": "stdout",
       "text": [
        "\n",
        "[BernoulliRBM] Iteration 1, pseudo-likelihood = -104.84, time = 0.05s"
       ]
      },
      {
       "output_type": "stream",
       "stream": "stdout",
       "text": [
        "\n",
        "[BernoulliRBM] Iteration 2, pseudo-likelihood = -145.84, time = 0.10s"
       ]
      },
      {
       "output_type": "stream",
       "stream": "stdout",
       "text": [
        "\n",
        "[BernoulliRBM] Iteration 3, pseudo-likelihood = -137.11, time = 0.08s"
       ]
      },
      {
       "output_type": "stream",
       "stream": "stdout",
       "text": [
        "\n",
        "[BernoulliRBM] Iteration 4, pseudo-likelihood = -137.71, time = 0.10s"
       ]
      },
      {
       "output_type": "stream",
       "stream": "stdout",
       "text": [
        "\n",
        "[BernoulliRBM] Iteration 5, pseudo-likelihood = -152.50, time = 0.09s"
       ]
      },
      {
       "output_type": "stream",
       "stream": "stdout",
       "text": [
        "\n",
        "[BernoulliRBM] Iteration 6, pseudo-likelihood = -180.04, time = 0.09s"
       ]
      },
      {
       "output_type": "stream",
       "stream": "stdout",
       "text": [
        "\n",
        "[BernoulliRBM] Iteration 7, pseudo-likelihood = -189.95, time = 0.09s"
       ]
      },
      {
       "output_type": "stream",
       "stream": "stdout",
       "text": [
        "\n",
        "[BernoulliRBM] Iteration 8, pseudo-likelihood = -216.83, time = 0.08s"
       ]
      },
      {
       "output_type": "stream",
       "stream": "stdout",
       "text": [
        "\n",
        "[BernoulliRBM] Iteration 9, pseudo-likelihood = -230.20, time = 0.08s"
       ]
      },
      {
       "output_type": "stream",
       "stream": "stdout",
       "text": [
        "\n",
        "[BernoulliRBM] Iteration 10, pseudo-likelihood = -257.66, time = 0.08s"
       ]
      },
      {
       "output_type": "stream",
       "stream": "stdout",
       "text": [
        "\n",
        "[BernoulliRBM] Iteration 1, pseudo-likelihood = -114.98, time = 0.05s"
       ]
      },
      {
       "output_type": "stream",
       "stream": "stdout",
       "text": [
        "\n",
        "[BernoulliRBM] Iteration 2, pseudo-likelihood = -148.68, time = 0.09s"
       ]
      },
      {
       "output_type": "stream",
       "stream": "stdout",
       "text": [
        "\n",
        "[BernoulliRBM] Iteration 3, pseudo-likelihood = -131.66, time = 0.08s"
       ]
      },
      {
       "output_type": "stream",
       "stream": "stdout",
       "text": [
        "\n",
        "[BernoulliRBM] Iteration 4, pseudo-likelihood = -142.44, time = 0.10s"
       ]
      },
      {
       "output_type": "stream",
       "stream": "stdout",
       "text": [
        "\n",
        "[BernoulliRBM] Iteration 5, pseudo-likelihood = -166.23, time = 0.09s"
       ]
      },
      {
       "output_type": "stream",
       "stream": "stdout",
       "text": [
        "\n",
        "[BernoulliRBM] Iteration 6, pseudo-likelihood = -190.21, time = 0.09s"
       ]
      },
      {
       "output_type": "stream",
       "stream": "stdout",
       "text": [
        "\n",
        "[BernoulliRBM] Iteration 7, pseudo-likelihood = -218.06, time = 0.09s"
       ]
      },
      {
       "output_type": "stream",
       "stream": "stdout",
       "text": [
        "\n",
        "[BernoulliRBM] Iteration 8, pseudo-likelihood = -235.19, time = 0.09s"
       ]
      },
      {
       "output_type": "stream",
       "stream": "stdout",
       "text": [
        "\n",
        "[BernoulliRBM] Iteration 9, pseudo-likelihood = -263.95, time = 0.09s"
       ]
      },
      {
       "output_type": "stream",
       "stream": "stdout",
       "text": [
        "\n",
        "[BernoulliRBM] Iteration 10, pseudo-likelihood = -304.56, time = 0.09s"
       ]
      },
      {
       "output_type": "stream",
       "stream": "stdout",
       "text": [
        "\n",
        "[BernoulliRBM] Iteration 1, pseudo-likelihood = -112.39, time = 0.06s"
       ]
      },
      {
       "output_type": "stream",
       "stream": "stdout",
       "text": [
        "\n",
        "[BernoulliRBM] Iteration 2, pseudo-likelihood = -146.61, time = 0.09s"
       ]
      },
      {
       "output_type": "stream",
       "stream": "stdout",
       "text": [
        "\n",
        "[BernoulliRBM] Iteration 3, pseudo-likelihood = -135.08, time = 0.08s"
       ]
      },
      {
       "output_type": "stream",
       "stream": "stdout",
       "text": [
        "\n",
        "[BernoulliRBM] Iteration 4, pseudo-likelihood = -146.47, time = 0.09s"
       ]
      },
      {
       "output_type": "stream",
       "stream": "stdout",
       "text": [
        "\n",
        "[BernoulliRBM] Iteration 5, pseudo-likelihood = -173.39, time = 0.09s"
       ]
      },
      {
       "output_type": "stream",
       "stream": "stdout",
       "text": [
        "\n",
        "[BernoulliRBM] Iteration 6, pseudo-likelihood = -207.71, time = 0.09s"
       ]
      },
      {
       "output_type": "stream",
       "stream": "stdout",
       "text": [
        "\n",
        "[BernoulliRBM] Iteration 7, pseudo-likelihood = -242.67, time = 0.09s"
       ]
      },
      {
       "output_type": "stream",
       "stream": "stdout",
       "text": [
        "\n",
        "[BernoulliRBM] Iteration 8, pseudo-likelihood = -280.69, time = 0.10s"
       ]
      },
      {
       "output_type": "stream",
       "stream": "stdout",
       "text": [
        "\n",
        "[BernoulliRBM] Iteration 9, pseudo-likelihood = -321.85, time = 0.08s"
       ]
      },
      {
       "output_type": "stream",
       "stream": "stdout",
       "text": [
        "\n",
        "[BernoulliRBM] Iteration 10, pseudo-likelihood = -367.72, time = 0.09s"
       ]
      },
      {
       "output_type": "stream",
       "stream": "stdout",
       "text": [
        "\n",
        "[BernoulliRBM] Iteration 1, pseudo-likelihood = -125.51, time = 0.05s"
       ]
      },
      {
       "output_type": "stream",
       "stream": "stdout",
       "text": [
        "\n",
        "[BernoulliRBM] Iteration 2, pseudo-likelihood = -158.74, time = 0.09s"
       ]
      },
      {
       "output_type": "stream",
       "stream": "stdout",
       "text": [
        "\n",
        "[BernoulliRBM] Iteration 3, pseudo-likelihood = -157.47, time = 0.09s"
       ]
      },
      {
       "output_type": "stream",
       "stream": "stdout",
       "text": [
        "\n",
        "[BernoulliRBM] Iteration 4, pseudo-likelihood = -182.53, time = 0.08s"
       ]
      },
      {
       "output_type": "stream",
       "stream": "stdout",
       "text": [
        "\n",
        "[BernoulliRBM] Iteration 5, pseudo-likelihood = -202.22, time = 0.09s"
       ]
      },
      {
       "output_type": "stream",
       "stream": "stdout",
       "text": [
        "\n",
        "[BernoulliRBM] Iteration 6, pseudo-likelihood = -232.64, time = 0.09s"
       ]
      },
      {
       "output_type": "stream",
       "stream": "stdout",
       "text": [
        "\n",
        "[BernoulliRBM] Iteration 7, pseudo-likelihood = -258.88, time = 0.08s"
       ]
      },
      {
       "output_type": "stream",
       "stream": "stdout",
       "text": [
        "\n",
        "[BernoulliRBM] Iteration 8, pseudo-likelihood = -288.84, time = 0.09s"
       ]
      },
      {
       "output_type": "stream",
       "stream": "stdout",
       "text": [
        "\n",
        "[BernoulliRBM] Iteration 9, pseudo-likelihood = -308.16, time = 0.10s"
       ]
      },
      {
       "output_type": "stream",
       "stream": "stdout",
       "text": [
        "\n",
        "[BernoulliRBM] Iteration 10, pseudo-likelihood = -344.16, time = 0.10s"
       ]
      },
      {
       "output_type": "stream",
       "stream": "stdout",
       "text": [
        "\n",
        "[BernoulliRBM] Iteration 1, pseudo-likelihood = -160.63, time = 0.06s"
       ]
      },
      {
       "output_type": "stream",
       "stream": "stdout",
       "text": [
        "\n",
        "[BernoulliRBM] Iteration 2, pseudo-likelihood = -176.60, time = 0.10s"
       ]
      },
      {
       "output_type": "stream",
       "stream": "stdout",
       "text": [
        "\n",
        "[BernoulliRBM] Iteration 3, pseudo-likelihood = -193.24, time = 0.11s"
       ]
      },
      {
       "output_type": "stream",
       "stream": "stdout",
       "text": [
        "\n",
        "[BernoulliRBM] Iteration 4, pseudo-likelihood = -207.21, time = 0.10s"
       ]
      },
      {
       "output_type": "stream",
       "stream": "stdout",
       "text": [
        "\n",
        "[BernoulliRBM] Iteration 5, pseudo-likelihood = -241.22, time = 0.10s"
       ]
      },
      {
       "output_type": "stream",
       "stream": "stdout",
       "text": [
        "\n",
        "[BernoulliRBM] Iteration 6, pseudo-likelihood = -262.89, time = 0.10s"
       ]
      },
      {
       "output_type": "stream",
       "stream": "stdout",
       "text": [
        "\n",
        "[BernoulliRBM] Iteration 7, pseudo-likelihood = -282.34, time = 0.10s"
       ]
      },
      {
       "output_type": "stream",
       "stream": "stdout",
       "text": [
        "\n",
        "[BernoulliRBM] Iteration 8, pseudo-likelihood = -305.20, time = 0.10s"
       ]
      },
      {
       "output_type": "stream",
       "stream": "stdout",
       "text": [
        "\n",
        "[BernoulliRBM] Iteration 9, pseudo-likelihood = -336.46, time = 0.10s"
       ]
      },
      {
       "output_type": "stream",
       "stream": "stdout",
       "text": [
        "\n",
        "[BernoulliRBM] Iteration 10, pseudo-likelihood = -369.07, time = 0.10s"
       ]
      },
      {
       "output_type": "stream",
       "stream": "stdout",
       "text": [
        "\n",
        "[BernoulliRBM] Iteration 1, pseudo-likelihood = -161.53, time = 0.06s"
       ]
      },
      {
       "output_type": "stream",
       "stream": "stdout",
       "text": [
        "\n",
        "[BernoulliRBM] Iteration 2, pseudo-likelihood = -178.97, time = 0.10s"
       ]
      },
      {
       "output_type": "stream",
       "stream": "stdout",
       "text": [
        "\n",
        "[BernoulliRBM] Iteration 3, pseudo-likelihood = -191.85, time = 0.09s"
       ]
      },
      {
       "output_type": "stream",
       "stream": "stdout",
       "text": [
        "\n",
        "[BernoulliRBM] Iteration 4, pseudo-likelihood = -222.27, time = 0.10s"
       ]
      },
      {
       "output_type": "stream",
       "stream": "stdout",
       "text": [
        "\n",
        "[BernoulliRBM] Iteration 5, pseudo-likelihood = -260.84, time = 0.11s"
       ]
      },
      {
       "output_type": "stream",
       "stream": "stdout",
       "text": [
        "\n",
        "[BernoulliRBM] Iteration 6, pseudo-likelihood = -285.38, time = 0.11s"
       ]
      },
      {
       "output_type": "stream",
       "stream": "stdout",
       "text": [
        "\n",
        "[BernoulliRBM] Iteration 7, pseudo-likelihood = -319.01, time = 0.11s"
       ]
      },
      {
       "output_type": "stream",
       "stream": "stdout",
       "text": [
        "\n",
        "[BernoulliRBM] Iteration 8, pseudo-likelihood = -346.28, time = 0.10s"
       ]
      },
      {
       "output_type": "stream",
       "stream": "stdout",
       "text": [
        "\n",
        "[BernoulliRBM] Iteration 9, pseudo-likelihood = -381.13, time = 0.11s"
       ]
      },
      {
       "output_type": "stream",
       "stream": "stdout",
       "text": [
        "\n",
        "[BernoulliRBM] Iteration 10, pseudo-likelihood = -415.01, time = 0.11s"
       ]
      },
      {
       "output_type": "stream",
       "stream": "stdout",
       "text": [
        "\n",
        "[BernoulliRBM] Iteration 1, pseudo-likelihood = -114.82, time = 0.06s"
       ]
      },
      {
       "output_type": "stream",
       "stream": "stdout",
       "text": [
        "\n",
        "[BernoulliRBM] Iteration 2, pseudo-likelihood = -127.54, time = 0.10s"
       ]
      },
      {
       "output_type": "stream",
       "stream": "stdout",
       "text": [
        "\n",
        "[BernoulliRBM] Iteration 3, pseudo-likelihood = -136.50, time = 0.11s"
       ]
      },
      {
       "output_type": "stream",
       "stream": "stdout",
       "text": [
        "\n",
        "[BernoulliRBM] Iteration 4, pseudo-likelihood = -146.85, time = 0.11s"
       ]
      },
      {
       "output_type": "stream",
       "stream": "stdout",
       "text": [
        "\n",
        "[BernoulliRBM] Iteration 5, pseudo-likelihood = -170.61, time = 0.10s"
       ]
      },
      {
       "output_type": "stream",
       "stream": "stdout",
       "text": [
        "\n",
        "[BernoulliRBM] Iteration 6, pseudo-likelihood = -190.27, time = 0.10s"
       ]
      },
      {
       "output_type": "stream",
       "stream": "stdout",
       "text": [
        "\n",
        "[BernoulliRBM] Iteration 7, pseudo-likelihood = -218.11, time = 0.10s"
       ]
      },
      {
       "output_type": "stream",
       "stream": "stdout",
       "text": [
        "\n",
        "[BernoulliRBM] Iteration 8, pseudo-likelihood = -243.01, time = 0.10s"
       ]
      },
      {
       "output_type": "stream",
       "stream": "stdout",
       "text": [
        "\n",
        "[BernoulliRBM] Iteration 9, pseudo-likelihood = -275.32, time = 0.11s"
       ]
      },
      {
       "output_type": "stream",
       "stream": "stdout",
       "text": [
        "\n",
        "[BernoulliRBM] Iteration 10, pseudo-likelihood = -305.01, time = 0.10s"
       ]
      },
      {
       "output_type": "stream",
       "stream": "stdout",
       "text": [
        "\n",
        "[BernoulliRBM] Iteration 1, pseudo-likelihood = -117.02, time = 0.06s"
       ]
      },
      {
       "output_type": "stream",
       "stream": "stdout",
       "text": [
        "\n",
        "[BernoulliRBM] Iteration 2, pseudo-likelihood = -128.74, time = 0.10s"
       ]
      },
      {
       "output_type": "stream",
       "stream": "stdout",
       "text": [
        "\n",
        "[BernoulliRBM] Iteration 3, pseudo-likelihood = -134.96, time = 0.10s"
       ]
      },
      {
       "output_type": "stream",
       "stream": "stdout",
       "text": [
        "\n",
        "[BernoulliRBM] Iteration 4, pseudo-likelihood = -147.85, time = 0.10s"
       ]
      },
      {
       "output_type": "stream",
       "stream": "stdout",
       "text": [
        "\n",
        "[BernoulliRBM] Iteration 5, pseudo-likelihood = -169.99, time = 0.10s"
       ]
      },
      {
       "output_type": "stream",
       "stream": "stdout",
       "text": [
        "\n",
        "[BernoulliRBM] Iteration 6, pseudo-likelihood = -191.41, time = 0.10s"
       ]
      },
      {
       "output_type": "stream",
       "stream": "stdout",
       "text": [
        "\n",
        "[BernoulliRBM] Iteration 7, pseudo-likelihood = -217.36, time = 0.11s"
       ]
      },
      {
       "output_type": "stream",
       "stream": "stdout",
       "text": [
        "\n",
        "[BernoulliRBM] Iteration 8, pseudo-likelihood = -250.41, time = 0.11s"
       ]
      },
      {
       "output_type": "stream",
       "stream": "stdout",
       "text": [
        "\n",
        "[BernoulliRBM] Iteration 9, pseudo-likelihood = -279.64, time = 0.10s"
       ]
      },
      {
       "output_type": "stream",
       "stream": "stdout",
       "text": [
        "\n",
        "[BernoulliRBM] Iteration 10, pseudo-likelihood = -315.83, time = 0.11s"
       ]
      },
      {
       "output_type": "stream",
       "stream": "stdout",
       "text": [
        "\n",
        "[BernoulliRBM] Iteration 1, pseudo-likelihood = -116.05, time = 0.06s"
       ]
      },
      {
       "output_type": "stream",
       "stream": "stdout",
       "text": [
        "\n",
        "[BernoulliRBM] Iteration 2, pseudo-likelihood = -150.31, time = 0.10s"
       ]
      },
      {
       "output_type": "stream",
       "stream": "stdout",
       "text": [
        "\n",
        "[BernoulliRBM] Iteration 3, pseudo-likelihood = -140.15, time = 0.11s"
       ]
      },
      {
       "output_type": "stream",
       "stream": "stdout",
       "text": [
        "\n",
        "[BernoulliRBM] Iteration 4, pseudo-likelihood = -158.33, time = 0.11s"
       ]
      },
      {
       "output_type": "stream",
       "stream": "stdout",
       "text": [
        "\n",
        "[BernoulliRBM] Iteration 5, pseudo-likelihood = -173.30, time = 0.10s"
       ]
      },
      {
       "output_type": "stream",
       "stream": "stdout",
       "text": [
        "\n",
        "[BernoulliRBM] Iteration 6, pseudo-likelihood = -192.39, time = 0.09s"
       ]
      },
      {
       "output_type": "stream",
       "stream": "stdout",
       "text": [
        "\n",
        "[BernoulliRBM] Iteration 7, pseudo-likelihood = -223.88, time = 0.11s"
       ]
      },
      {
       "output_type": "stream",
       "stream": "stdout",
       "text": [
        "\n",
        "[BernoulliRBM] Iteration 8, pseudo-likelihood = -254.03, time = 0.10s"
       ]
      },
      {
       "output_type": "stream",
       "stream": "stdout",
       "text": [
        "\n",
        "[BernoulliRBM] Iteration 9, pseudo-likelihood = -291.80, time = 0.09s"
       ]
      },
      {
       "output_type": "stream",
       "stream": "stdout",
       "text": [
        "\n",
        "[BernoulliRBM] Iteration 10, pseudo-likelihood = -329.42, time = 0.09s"
       ]
      },
      {
       "output_type": "stream",
       "stream": "stdout",
       "text": [
        "\n",
        "[BernoulliRBM] Iteration 1, pseudo-likelihood = -103.45, time = 0.06s"
       ]
      },
      {
       "output_type": "stream",
       "stream": "stdout",
       "text": [
        "\n",
        "[BernoulliRBM] Iteration 2, pseudo-likelihood = -113.89, time = 0.11s"
       ]
      },
      {
       "output_type": "stream",
       "stream": "stdout",
       "text": [
        "\n",
        "[BernoulliRBM] Iteration 3, pseudo-likelihood = -120.14, time = 0.10s"
       ]
      },
      {
       "output_type": "stream",
       "stream": "stdout",
       "text": [
        "\n",
        "[BernoulliRBM] Iteration 4, pseudo-likelihood = -133.27, time = 0.11s"
       ]
      },
      {
       "output_type": "stream",
       "stream": "stdout",
       "text": [
        "\n",
        "[BernoulliRBM] Iteration 5, pseudo-likelihood = -152.09, time = 0.10s"
       ]
      },
      {
       "output_type": "stream",
       "stream": "stdout",
       "text": [
        "\n",
        "[BernoulliRBM] Iteration 6, pseudo-likelihood = -180.52, time = 0.11s"
       ]
      },
      {
       "output_type": "stream",
       "stream": "stdout",
       "text": [
        "\n",
        "[BernoulliRBM] Iteration 7, pseudo-likelihood = -208.03, time = 0.11s"
       ]
      },
      {
       "output_type": "stream",
       "stream": "stdout",
       "text": [
        "\n",
        "[BernoulliRBM] Iteration 8, pseudo-likelihood = -247.76, time = 0.10s"
       ]
      },
      {
       "output_type": "stream",
       "stream": "stdout",
       "text": [
        "\n",
        "[BernoulliRBM] Iteration 9, pseudo-likelihood = -282.88, time = 0.11s"
       ]
      },
      {
       "output_type": "stream",
       "stream": "stdout",
       "text": [
        "\n",
        "[BernoulliRBM] Iteration 10, pseudo-likelihood = -323.86, time = 0.11s"
       ]
      },
      {
       "output_type": "stream",
       "stream": "stdout",
       "text": [
        "\n",
        "[BernoulliRBM] Iteration 1, pseudo-likelihood = -111.47, time = 0.06s"
       ]
      },
      {
       "output_type": "stream",
       "stream": "stdout",
       "text": [
        "\n",
        "[BernoulliRBM] Iteration 2, pseudo-likelihood = -151.64, time = 0.10s"
       ]
      },
      {
       "output_type": "stream",
       "stream": "stdout",
       "text": [
        "\n",
        "[BernoulliRBM] Iteration 3, pseudo-likelihood = -138.52, time = 0.10s"
       ]
      },
      {
       "output_type": "stream",
       "stream": "stdout",
       "text": [
        "\n",
        "[BernoulliRBM] Iteration 4, pseudo-likelihood = -148.69, time = 0.10s"
       ]
      },
      {
       "output_type": "stream",
       "stream": "stdout",
       "text": [
        "\n",
        "[BernoulliRBM] Iteration 5, pseudo-likelihood = -162.27, time = 0.10s"
       ]
      },
      {
       "output_type": "stream",
       "stream": "stdout",
       "text": [
        "\n",
        "[BernoulliRBM] Iteration 6, pseudo-likelihood = -186.27, time = 0.10s"
       ]
      },
      {
       "output_type": "stream",
       "stream": "stdout",
       "text": [
        "\n",
        "[BernoulliRBM] Iteration 7, pseudo-likelihood = -198.22, time = 0.11s"
       ]
      },
      {
       "output_type": "stream",
       "stream": "stdout",
       "text": [
        "\n",
        "[BernoulliRBM] Iteration 8, pseudo-likelihood = -234.16, time = 0.11s"
       ]
      },
      {
       "output_type": "stream",
       "stream": "stdout",
       "text": [
        "\n",
        "[BernoulliRBM] Iteration 9, pseudo-likelihood = -274.99, time = 0.11s"
       ]
      },
      {
       "output_type": "stream",
       "stream": "stdout",
       "text": [
        "\n",
        "[BernoulliRBM] Iteration 10, pseudo-likelihood = -286.04, time = 0.09s"
       ]
      },
      {
       "output_type": "stream",
       "stream": "stdout",
       "text": [
        "\n",
        "[BernoulliRBM] Iteration 1, pseudo-likelihood = -122.24, time = 0.06s"
       ]
      },
      {
       "output_type": "stream",
       "stream": "stdout",
       "text": [
        "\n",
        "[BernoulliRBM] Iteration 2, pseudo-likelihood = -153.59, time = 0.10s"
       ]
      },
      {
       "output_type": "stream",
       "stream": "stdout",
       "text": [
        "\n",
        "[BernoulliRBM] Iteration 3, pseudo-likelihood = -137.78, time = 0.10s"
       ]
      },
      {
       "output_type": "stream",
       "stream": "stdout",
       "text": [
        "\n",
        "[BernoulliRBM] Iteration 4, pseudo-likelihood = -156.07, time = 0.10s"
       ]
      },
      {
       "output_type": "stream",
       "stream": "stdout",
       "text": [
        "\n",
        "[BernoulliRBM] Iteration 5, pseudo-likelihood = -177.71, time = 0.10s"
       ]
      },
      {
       "output_type": "stream",
       "stream": "stdout",
       "text": [
        "\n",
        "[BernoulliRBM] Iteration 6, pseudo-likelihood = -204.54, time = 0.10s"
       ]
      },
      {
       "output_type": "stream",
       "stream": "stdout",
       "text": [
        "\n",
        "[BernoulliRBM] Iteration 7, pseudo-likelihood = -243.23, time = 0.11s"
       ]
      },
      {
       "output_type": "stream",
       "stream": "stdout",
       "text": [
        "\n",
        "[BernoulliRBM] Iteration 8, pseudo-likelihood = -276.11, time = 0.11s"
       ]
      },
      {
       "output_type": "stream",
       "stream": "stdout",
       "text": [
        "\n",
        "[BernoulliRBM] Iteration 9, pseudo-likelihood = -298.36, time = 0.11s"
       ]
      },
      {
       "output_type": "stream",
       "stream": "stdout",
       "text": [
        "\n",
        "[BernoulliRBM] Iteration 10, pseudo-likelihood = -348.91, time = 0.09s"
       ]
      },
      {
       "output_type": "stream",
       "stream": "stdout",
       "text": [
        "\n",
        "[BernoulliRBM] Iteration 1, pseudo-likelihood = -118.89, time = 0.06s"
       ]
      },
      {
       "output_type": "stream",
       "stream": "stdout",
       "text": [
        "\n",
        "[BernoulliRBM] Iteration 2, pseudo-likelihood = -151.03, time = 0.10s"
       ]
      },
      {
       "output_type": "stream",
       "stream": "stdout",
       "text": [
        "\n",
        "[BernoulliRBM] Iteration 3, pseudo-likelihood = -138.71, time = 0.10s"
       ]
      },
      {
       "output_type": "stream",
       "stream": "stdout",
       "text": [
        "\n",
        "[BernoulliRBM] Iteration 4, pseudo-likelihood = -154.12, time = 0.11s"
       ]
      },
      {
       "output_type": "stream",
       "stream": "stdout",
       "text": [
        "\n",
        "[BernoulliRBM] Iteration 5, pseudo-likelihood = -192.62, time = 0.09s"
       ]
      },
      {
       "output_type": "stream",
       "stream": "stdout",
       "text": [
        "\n",
        "[BernoulliRBM] Iteration 6, pseudo-likelihood = -220.81, time = 0.11s"
       ]
      },
      {
       "output_type": "stream",
       "stream": "stdout",
       "text": [
        "\n",
        "[BernoulliRBM] Iteration 7, pseudo-likelihood = -261.03, time = 0.11s"
       ]
      },
      {
       "output_type": "stream",
       "stream": "stdout",
       "text": [
        "\n",
        "[BernoulliRBM] Iteration 8, pseudo-likelihood = -314.14, time = 0.11s"
       ]
      },
      {
       "output_type": "stream",
       "stream": "stdout",
       "text": [
        "\n",
        "[BernoulliRBM] Iteration 9, pseudo-likelihood = -369.05, time = 0.11s"
       ]
      },
      {
       "output_type": "stream",
       "stream": "stdout",
       "text": [
        "\n",
        "[BernoulliRBM] Iteration 10, pseudo-likelihood = -420.43, time = 0.10s"
       ]
      },
      {
       "output_type": "stream",
       "stream": "stdout",
       "text": [
        "\n",
        "[BernoulliRBM] Iteration 1, pseudo-likelihood = -133.68, time = 0.06s"
       ]
      },
      {
       "output_type": "stream",
       "stream": "stdout",
       "text": [
        "\n",
        "[BernoulliRBM] Iteration 2, pseudo-likelihood = -164.54, time = 0.11s"
       ]
      },
      {
       "output_type": "stream",
       "stream": "stdout",
       "text": [
        "\n",
        "[BernoulliRBM] Iteration 3, pseudo-likelihood = -168.57, time = 0.10s"
       ]
      },
      {
       "output_type": "stream",
       "stream": "stdout",
       "text": [
        "\n",
        "[BernoulliRBM] Iteration 4, pseudo-likelihood = -194.93, time = 0.09s"
       ]
      },
      {
       "output_type": "stream",
       "stream": "stdout",
       "text": [
        "\n",
        "[BernoulliRBM] Iteration 5, pseudo-likelihood = -216.98, time = 0.10s"
       ]
      },
      {
       "output_type": "stream",
       "stream": "stdout",
       "text": [
        "\n",
        "[BernoulliRBM] Iteration 6, pseudo-likelihood = -242.89, time = 0.11s"
       ]
      },
      {
       "output_type": "stream",
       "stream": "stdout",
       "text": [
        "\n",
        "[BernoulliRBM] Iteration 7, pseudo-likelihood = -277.38, time = 0.10s"
       ]
      },
      {
       "output_type": "stream",
       "stream": "stdout",
       "text": [
        "\n",
        "[BernoulliRBM] Iteration 8, pseudo-likelihood = -312.93, time = 0.10s"
       ]
      },
      {
       "output_type": "stream",
       "stream": "stdout",
       "text": [
        "\n",
        "[BernoulliRBM] Iteration 9, pseudo-likelihood = -335.84, time = 0.11s"
       ]
      },
      {
       "output_type": "stream",
       "stream": "stdout",
       "text": [
        "\n",
        "[BernoulliRBM] Iteration 10, pseudo-likelihood = -378.09, time = 0.10s"
       ]
      },
      {
       "output_type": "stream",
       "stream": "stdout",
       "text": [
        "\n",
        "[BernoulliRBM] Iteration 1, pseudo-likelihood = -382.70, time = 0.04s"
       ]
      },
      {
       "output_type": "stream",
       "stream": "stdout",
       "text": [
        "\n",
        "[BernoulliRBM] Iteration 2, pseudo-likelihood = -582.14, time = 0.06s"
       ]
      },
      {
       "output_type": "stream",
       "stream": "stdout",
       "text": [
        "\n",
        "[BernoulliRBM] Iteration 3, pseudo-likelihood = -708.36, time = 0.07s"
       ]
      },
      {
       "output_type": "stream",
       "stream": "stdout",
       "text": [
        "\n",
        "[BernoulliRBM] Iteration 4, pseudo-likelihood = -952.52, time = 0.06s"
       ]
      },
      {
       "output_type": "stream",
       "stream": "stdout",
       "text": [
        "\n",
        "[BernoulliRBM] Iteration 5, pseudo-likelihood = -1140.30, time = 0.05s"
       ]
      },
      {
       "output_type": "stream",
       "stream": "stdout",
       "text": [
        "\n",
        "[BernoulliRBM] Iteration 6, pseudo-likelihood = -1319.81, time = 0.06s"
       ]
      },
      {
       "output_type": "stream",
       "stream": "stdout",
       "text": [
        "\n",
        "[BernoulliRBM] Iteration 7, pseudo-likelihood = -1463.81, time = 0.05s"
       ]
      },
      {
       "output_type": "stream",
       "stream": "stdout",
       "text": [
        "\n",
        "[BernoulliRBM] Iteration 8, pseudo-likelihood = -1650.76, time = 0.06s"
       ]
      },
      {
       "output_type": "stream",
       "stream": "stdout",
       "text": [
        "\n",
        "[BernoulliRBM] Iteration 9, pseudo-likelihood = -1759.61, time = 0.06s"
       ]
      },
      {
       "output_type": "stream",
       "stream": "stdout",
       "text": [
        "\n",
        "[BernoulliRBM] Iteration 10, pseudo-likelihood = -2000.34, time = 0.06s"
       ]
      },
      {
       "output_type": "stream",
       "stream": "stdout",
       "text": [
        "\n",
        "[BernoulliRBM] Iteration 1, pseudo-likelihood = -381.48, time = 0.04s"
       ]
      },
      {
       "output_type": "stream",
       "stream": "stdout",
       "text": [
        "\n",
        "[BernoulliRBM] Iteration 2, pseudo-likelihood = -442.40, time = 0.05s"
       ]
      },
      {
       "output_type": "stream",
       "stream": "stdout",
       "text": [
        "\n",
        "[BernoulliRBM] Iteration 3, pseudo-likelihood = -489.97, time = 0.06s"
       ]
      },
      {
       "output_type": "stream",
       "stream": "stdout",
       "text": [
        "\n",
        "[BernoulliRBM] Iteration 4, pseudo-likelihood = -652.17, time = 0.06s"
       ]
      },
      {
       "output_type": "stream",
       "stream": "stdout",
       "text": [
        "\n",
        "[BernoulliRBM] Iteration 5, pseudo-likelihood = -727.56, time = 0.06s"
       ]
      },
      {
       "output_type": "stream",
       "stream": "stdout",
       "text": [
        "\n",
        "[BernoulliRBM] Iteration 6, pseudo-likelihood = -891.56, time = 0.05s"
       ]
      },
      {
       "output_type": "stream",
       "stream": "stdout",
       "text": [
        "\n",
        "[BernoulliRBM] Iteration 7, pseudo-likelihood = -994.63, time = 0.05s"
       ]
      },
      {
       "output_type": "stream",
       "stream": "stdout",
       "text": [
        "\n",
        "[BernoulliRBM] Iteration 8, pseudo-likelihood = -1094.70, time = 0.06s"
       ]
      },
      {
       "output_type": "stream",
       "stream": "stdout",
       "text": [
        "\n",
        "[BernoulliRBM] Iteration 9, pseudo-likelihood = -1175.11, time = 0.06s"
       ]
      },
      {
       "output_type": "stream",
       "stream": "stdout",
       "text": [
        "\n",
        "[BernoulliRBM] Iteration 10, pseudo-likelihood = -1286.26, time = 0.06s"
       ]
      },
      {
       "output_type": "stream",
       "stream": "stdout",
       "text": [
        "\n",
        "[BernoulliRBM] Iteration 1, pseudo-likelihood = -245.29, time = 0.04s"
       ]
      },
      {
       "output_type": "stream",
       "stream": "stdout",
       "text": [
        "\n",
        "[BernoulliRBM] Iteration 2, pseudo-likelihood = -626.11, time = 0.06s"
       ]
      },
      {
       "output_type": "stream",
       "stream": "stdout",
       "text": [
        "\n",
        "[BernoulliRBM] Iteration 3, pseudo-likelihood = -1051.64, time = 0.06s"
       ]
      },
      {
       "output_type": "stream",
       "stream": "stdout",
       "text": [
        "\n",
        "[BernoulliRBM] Iteration 4, pseudo-likelihood = -1494.15, time = 0.07s"
       ]
      },
      {
       "output_type": "stream",
       "stream": "stdout",
       "text": [
        "\n",
        "[BernoulliRBM] Iteration 5, pseudo-likelihood = -2004.90, time = 0.06s"
       ]
      },
      {
       "output_type": "stream",
       "stream": "stdout",
       "text": [
        "\n",
        "[BernoulliRBM] Iteration 6, pseudo-likelihood = -2413.19, time = 0.06s"
       ]
      },
      {
       "output_type": "stream",
       "stream": "stdout",
       "text": [
        "\n",
        "[BernoulliRBM] Iteration 7, pseudo-likelihood = -2750.16, time = 0.05s"
       ]
      },
      {
       "output_type": "stream",
       "stream": "stdout",
       "text": [
        "\n",
        "[BernoulliRBM] Iteration 8, pseudo-likelihood = -2936.94, time = 0.06s"
       ]
      },
      {
       "output_type": "stream",
       "stream": "stdout",
       "text": [
        "\n",
        "[BernoulliRBM] Iteration 9, pseudo-likelihood = -3155.41, time = 0.06s"
       ]
      },
      {
       "output_type": "stream",
       "stream": "stdout",
       "text": [
        "\n",
        "[BernoulliRBM] Iteration 10, pseudo-likelihood = -3439.45, time = 0.05s"
       ]
      },
      {
       "output_type": "stream",
       "stream": "stdout",
       "text": [
        "\n",
        "[BernoulliRBM] Iteration 1, pseudo-likelihood = -260.60, time = 0.04s"
       ]
      },
      {
       "output_type": "stream",
       "stream": "stdout",
       "text": [
        "\n",
        "[BernoulliRBM] Iteration 2, pseudo-likelihood = -578.65, time = 0.07s"
       ]
      },
      {
       "output_type": "stream",
       "stream": "stdout",
       "text": [
        "\n",
        "[BernoulliRBM] Iteration 3, pseudo-likelihood = -714.35, time = 0.06s"
       ]
      },
      {
       "output_type": "stream",
       "stream": "stdout",
       "text": [
        "\n",
        "[BernoulliRBM] Iteration 4, pseudo-likelihood = -806.68, time = 0.06s"
       ]
      },
      {
       "output_type": "stream",
       "stream": "stdout",
       "text": [
        "\n",
        "[BernoulliRBM] Iteration 5, pseudo-likelihood = -1028.48, time = 0.06s"
       ]
      },
      {
       "output_type": "stream",
       "stream": "stdout",
       "text": [
        "\n",
        "[BernoulliRBM] Iteration 6, pseudo-likelihood = -1184.27, time = 0.06s"
       ]
      },
      {
       "output_type": "stream",
       "stream": "stdout",
       "text": [
        "\n",
        "[BernoulliRBM] Iteration 7, pseudo-likelihood = -1350.71, time = 0.06s"
       ]
      },
      {
       "output_type": "stream",
       "stream": "stdout",
       "text": [
        "\n",
        "[BernoulliRBM] Iteration 8, pseudo-likelihood = -1490.51, time = 0.06s"
       ]
      },
      {
       "output_type": "stream",
       "stream": "stdout",
       "text": [
        "\n",
        "[BernoulliRBM] Iteration 9, pseudo-likelihood = -1622.15, time = 0.06s"
       ]
      },
      {
       "output_type": "stream",
       "stream": "stdout",
       "text": [
        "\n",
        "[BernoulliRBM] Iteration 10, pseudo-likelihood = -1729.41, time = 0.05s\n",
        "[BernoulliRBM] Iteration 1, pseudo-likelihood = -286.08, time = 0.03s"
       ]
      },
      {
       "output_type": "stream",
       "stream": "stdout",
       "text": [
        "\n",
        "[BernoulliRBM] Iteration 2, pseudo-likelihood = -733.38, time = 0.07s"
       ]
      },
      {
       "output_type": "stream",
       "stream": "stdout",
       "text": [
        "\n",
        "[BernoulliRBM] Iteration 3, pseudo-likelihood = -1040.72, time = 0.07s"
       ]
      },
      {
       "output_type": "stream",
       "stream": "stdout",
       "text": [
        "\n",
        "[BernoulliRBM] Iteration 4, pseudo-likelihood = -1469.25, time = 0.06s"
       ]
      },
      {
       "output_type": "stream",
       "stream": "stdout",
       "text": [
        "\n",
        "[BernoulliRBM] Iteration 5, pseudo-likelihood = -1703.00, time = 0.07s"
       ]
      },
      {
       "output_type": "stream",
       "stream": "stdout",
       "text": [
        "\n",
        "[BernoulliRBM] Iteration 6, pseudo-likelihood = -2014.79, time = 0.06s"
       ]
      },
      {
       "output_type": "stream",
       "stream": "stdout",
       "text": [
        "\n",
        "[BernoulliRBM] Iteration 7, pseudo-likelihood = -2438.60, time = 0.06s"
       ]
      },
      {
       "output_type": "stream",
       "stream": "stdout",
       "text": [
        "\n",
        "[BernoulliRBM] Iteration 8, pseudo-likelihood = -2739.26, time = 0.06s"
       ]
      },
      {
       "output_type": "stream",
       "stream": "stdout",
       "text": [
        "\n",
        "[BernoulliRBM] Iteration 9, pseudo-likelihood = -3065.59, time = 0.06s"
       ]
      },
      {
       "output_type": "stream",
       "stream": "stdout",
       "text": [
        "\n",
        "[BernoulliRBM] Iteration 10, pseudo-likelihood = -3425.43, time = 0.06s"
       ]
      },
      {
       "output_type": "stream",
       "stream": "stdout",
       "text": [
        "\n",
        "[BernoulliRBM] Iteration 1, pseudo-likelihood = -210.32, time = 0.03s"
       ]
      },
      {
       "output_type": "stream",
       "stream": "stdout",
       "text": [
        "\n",
        "[BernoulliRBM] Iteration 2, pseudo-likelihood = -547.16, time = 0.06s"
       ]
      },
      {
       "output_type": "stream",
       "stream": "stdout",
       "text": [
        "\n",
        "[BernoulliRBM] Iteration 3, pseudo-likelihood = -937.38, time = 0.06s"
       ]
      },
      {
       "output_type": "stream",
       "stream": "stdout",
       "text": [
        "\n",
        "[BernoulliRBM] Iteration 4, pseudo-likelihood = -1262.13, time = 0.07s"
       ]
      },
      {
       "output_type": "stream",
       "stream": "stdout",
       "text": [
        "\n",
        "[BernoulliRBM] Iteration 5, pseudo-likelihood = -1650.38, time = 0.06s"
       ]
      },
      {
       "output_type": "stream",
       "stream": "stdout",
       "text": [
        "\n",
        "[BernoulliRBM] Iteration 6, pseudo-likelihood = -2055.24, time = 0.06s"
       ]
      },
      {
       "output_type": "stream",
       "stream": "stdout",
       "text": [
        "\n",
        "[BernoulliRBM] Iteration 7, pseudo-likelihood = -2408.84, time = 0.05s"
       ]
      },
      {
       "output_type": "stream",
       "stream": "stdout",
       "text": [
        "\n",
        "[BernoulliRBM] Iteration 8, pseudo-likelihood = -2688.75, time = 0.06s"
       ]
      },
      {
       "output_type": "stream",
       "stream": "stdout",
       "text": [
        "\n",
        "[BernoulliRBM] Iteration 9, pseudo-likelihood = -3056.90, time = 0.06s"
       ]
      },
      {
       "output_type": "stream",
       "stream": "stdout",
       "text": [
        "\n",
        "[BernoulliRBM] Iteration 10, pseudo-likelihood = -3431.23, time = 0.06s"
       ]
      },
      {
       "output_type": "stream",
       "stream": "stdout",
       "text": [
        "\n",
        "[BernoulliRBM] Iteration 1, pseudo-likelihood = -306.30, time = 0.04s"
       ]
      },
      {
       "output_type": "stream",
       "stream": "stdout",
       "text": [
        "\n",
        "[BernoulliRBM] Iteration 2, pseudo-likelihood = -504.38, time = 0.06s"
       ]
      },
      {
       "output_type": "stream",
       "stream": "stdout",
       "text": [
        "\n",
        "[BernoulliRBM] Iteration 3, pseudo-likelihood = -630.46, time = 0.06s"
       ]
      },
      {
       "output_type": "stream",
       "stream": "stdout",
       "text": [
        "\n",
        "[BernoulliRBM] Iteration 4, pseudo-likelihood = -720.77, time = 0.07s"
       ]
      },
      {
       "output_type": "stream",
       "stream": "stdout",
       "text": [
        "\n",
        "[BernoulliRBM] Iteration 5, pseudo-likelihood = -826.34, time = 0.06s"
       ]
      },
      {
       "output_type": "stream",
       "stream": "stdout",
       "text": [
        "\n",
        "[BernoulliRBM] Iteration 6, pseudo-likelihood = -994.41, time = 0.06s"
       ]
      },
      {
       "output_type": "stream",
       "stream": "stdout",
       "text": [
        "\n",
        "[BernoulliRBM] Iteration 7, pseudo-likelihood = -1098.76, time = 0.06s"
       ]
      },
      {
       "output_type": "stream",
       "stream": "stdout",
       "text": [
        "\n",
        "[BernoulliRBM] Iteration 8, pseudo-likelihood = -1197.70, time = 0.07s"
       ]
      },
      {
       "output_type": "stream",
       "stream": "stdout",
       "text": [
        "\n",
        "[BernoulliRBM] Iteration 9, pseudo-likelihood = -1301.09, time = 0.06s"
       ]
      },
      {
       "output_type": "stream",
       "stream": "stdout",
       "text": [
        "\n",
        "[BernoulliRBM] Iteration 10, pseudo-likelihood = -1387.35, time = 0.06s"
       ]
      },
      {
       "output_type": "stream",
       "stream": "stdout",
       "text": [
        "\n",
        "[BernoulliRBM] Iteration 1, pseudo-likelihood = -298.02, time = 0.04s"
       ]
      },
      {
       "output_type": "stream",
       "stream": "stdout",
       "text": [
        "\n",
        "[BernoulliRBM] Iteration 2, pseudo-likelihood = -506.38, time = 0.06s"
       ]
      },
      {
       "output_type": "stream",
       "stream": "stdout",
       "text": [
        "\n",
        "[BernoulliRBM] Iteration 3, pseudo-likelihood = -639.72, time = 0.06s"
       ]
      },
      {
       "output_type": "stream",
       "stream": "stdout",
       "text": [
        "\n",
        "[BernoulliRBM] Iteration 4, pseudo-likelihood = -713.15, time = 0.07s"
       ]
      },
      {
       "output_type": "stream",
       "stream": "stdout",
       "text": [
        "\n",
        "[BernoulliRBM] Iteration 5, pseudo-likelihood = -840.17, time = 0.06s"
       ]
      },
      {
       "output_type": "stream",
       "stream": "stdout",
       "text": [
        "\n",
        "[BernoulliRBM] Iteration 6, pseudo-likelihood = -993.61, time = 0.06s"
       ]
      },
      {
       "output_type": "stream",
       "stream": "stdout",
       "text": [
        "\n",
        "[BernoulliRBM] Iteration 7, pseudo-likelihood = -1137.82, time = 0.06s"
       ]
      },
      {
       "output_type": "stream",
       "stream": "stdout",
       "text": [
        "\n",
        "[BernoulliRBM] Iteration 8, pseudo-likelihood = -1276.65, time = 0.06s"
       ]
      },
      {
       "output_type": "stream",
       "stream": "stdout",
       "text": [
        "\n",
        "[BernoulliRBM] Iteration 9, pseudo-likelihood = -1436.25, time = 0.07s"
       ]
      },
      {
       "output_type": "stream",
       "stream": "stdout",
       "text": [
        "\n",
        "[BernoulliRBM] Iteration 10, pseudo-likelihood = -1554.45, time = 0.06s"
       ]
      },
      {
       "output_type": "stream",
       "stream": "stdout",
       "text": [
        "\n",
        "[BernoulliRBM] Iteration 1, pseudo-likelihood = -321.84, time = 0.04s"
       ]
      },
      {
       "output_type": "stream",
       "stream": "stdout",
       "text": [
        "\n",
        "[BernoulliRBM] Iteration 2, pseudo-likelihood = -515.83, time = 0.06s"
       ]
      },
      {
       "output_type": "stream",
       "stream": "stdout",
       "text": [
        "\n",
        "[BernoulliRBM] Iteration 3, pseudo-likelihood = -684.73, time = 0.07s"
       ]
      },
      {
       "output_type": "stream",
       "stream": "stdout",
       "text": [
        "\n",
        "[BernoulliRBM] Iteration 4, pseudo-likelihood = -806.96, time = 0.07s"
       ]
      },
      {
       "output_type": "stream",
       "stream": "stdout",
       "text": [
        "\n",
        "[BernoulliRBM] Iteration 5, pseudo-likelihood = -909.44, time = 0.06s"
       ]
      },
      {
       "output_type": "stream",
       "stream": "stdout",
       "text": [
        "\n",
        "[BernoulliRBM] Iteration 6, pseudo-likelihood = -1030.09, time = 0.06s"
       ]
      },
      {
       "output_type": "stream",
       "stream": "stdout",
       "text": [
        "\n",
        "[BernoulliRBM] Iteration 7, pseudo-likelihood = -1170.81, time = 0.06s"
       ]
      },
      {
       "output_type": "stream",
       "stream": "stdout",
       "text": [
        "\n",
        "[BernoulliRBM] Iteration 8, pseudo-likelihood = -1337.10, time = 0.06s"
       ]
      },
      {
       "output_type": "stream",
       "stream": "stdout",
       "text": [
        "\n",
        "[BernoulliRBM] Iteration 9, pseudo-likelihood = -1524.35, time = 0.07s"
       ]
      },
      {
       "output_type": "stream",
       "stream": "stdout",
       "text": [
        "\n",
        "[BernoulliRBM] Iteration 10, pseudo-likelihood = -1703.81, time = 0.06s"
       ]
      },
      {
       "output_type": "stream",
       "stream": "stdout",
       "text": [
        "\n",
        "[BernoulliRBM] Iteration 1, pseudo-likelihood = -380.52, time = 0.03s"
       ]
      },
      {
       "output_type": "stream",
       "stream": "stdout",
       "text": [
        "\n",
        "[BernoulliRBM] Iteration 2, pseudo-likelihood = -944.73, time = 0.06s"
       ]
      },
      {
       "output_type": "stream",
       "stream": "stdout",
       "text": [
        "\n",
        "[BernoulliRBM] Iteration 3, pseudo-likelihood = -1490.37, time = 0.07s"
       ]
      },
      {
       "output_type": "stream",
       "stream": "stdout",
       "text": [
        "\n",
        "[BernoulliRBM] Iteration 4, pseudo-likelihood = -1927.00, time = 0.06s"
       ]
      },
      {
       "output_type": "stream",
       "stream": "stdout",
       "text": [
        "\n",
        "[BernoulliRBM] Iteration 5, pseudo-likelihood = -2304.11, time = 0.06s"
       ]
      },
      {
       "output_type": "stream",
       "stream": "stdout",
       "text": [
        "\n",
        "[BernoulliRBM] Iteration 6, pseudo-likelihood = -2656.90, time = 0.06s"
       ]
      },
      {
       "output_type": "stream",
       "stream": "stdout",
       "text": [
        "\n",
        "[BernoulliRBM] Iteration 7, pseudo-likelihood = -2944.96, time = 0.06s"
       ]
      },
      {
       "output_type": "stream",
       "stream": "stdout",
       "text": [
        "\n",
        "[BernoulliRBM] Iteration 8, pseudo-likelihood = -3376.55, time = 0.05s"
       ]
      },
      {
       "output_type": "stream",
       "stream": "stdout",
       "text": [
        "\n",
        "[BernoulliRBM] Iteration 9, pseudo-likelihood = -3821.51, time = 0.06s"
       ]
      },
      {
       "output_type": "stream",
       "stream": "stdout",
       "text": [
        "\n",
        "[BernoulliRBM] Iteration 10, pseudo-likelihood = -4286.92, time = 0.05s"
       ]
      },
      {
       "output_type": "stream",
       "stream": "stdout",
       "text": [
        "\n",
        "[BernoulliRBM] Iteration 1, pseudo-likelihood = -425.07, time = 0.04s"
       ]
      },
      {
       "output_type": "stream",
       "stream": "stdout",
       "text": [
        "\n",
        "[BernoulliRBM] Iteration 2, pseudo-likelihood = -636.29, time = 0.07s"
       ]
      },
      {
       "output_type": "stream",
       "stream": "stdout",
       "text": [
        "\n",
        "[BernoulliRBM] Iteration 3, pseudo-likelihood = -822.68, time = 0.08s"
       ]
      },
      {
       "output_type": "stream",
       "stream": "stdout",
       "text": [
        "\n",
        "[BernoulliRBM] Iteration 4, pseudo-likelihood = -1218.81, time = 0.08s"
       ]
      },
      {
       "output_type": "stream",
       "stream": "stdout",
       "text": [
        "\n",
        "[BernoulliRBM] Iteration 5, pseudo-likelihood = -1324.84, time = 0.07s"
       ]
      },
      {
       "output_type": "stream",
       "stream": "stdout",
       "text": [
        "\n",
        "[BernoulliRBM] Iteration 6, pseudo-likelihood = -1636.52, time = 0.07s"
       ]
      },
      {
       "output_type": "stream",
       "stream": "stdout",
       "text": [
        "\n",
        "[BernoulliRBM] Iteration 7, pseudo-likelihood = -1738.79, time = 0.06s"
       ]
      },
      {
       "output_type": "stream",
       "stream": "stdout",
       "text": [
        "\n",
        "[BernoulliRBM] Iteration 8, pseudo-likelihood = -2082.51, time = 0.07s"
       ]
      },
      {
       "output_type": "stream",
       "stream": "stdout",
       "text": [
        "\n",
        "[BernoulliRBM] Iteration 9, pseudo-likelihood = -2326.76, time = 0.07s"
       ]
      },
      {
       "output_type": "stream",
       "stream": "stdout",
       "text": [
        "\n",
        "[BernoulliRBM] Iteration 10, pseudo-likelihood = -2502.31, time = 0.07s"
       ]
      },
      {
       "output_type": "stream",
       "stream": "stdout",
       "text": [
        "\n",
        "[BernoulliRBM] Iteration 1, pseudo-likelihood = -436.51, time = 0.04s"
       ]
      },
      {
       "output_type": "stream",
       "stream": "stdout",
       "text": [
        "\n",
        "[BernoulliRBM] Iteration 2, pseudo-likelihood = -557.45, time = 0.07s"
       ]
      },
      {
       "output_type": "stream",
       "stream": "stdout",
       "text": [
        "\n",
        "[BernoulliRBM] Iteration 3, pseudo-likelihood = -591.83, time = 0.07s"
       ]
      },
      {
       "output_type": "stream",
       "stream": "stdout",
       "text": [
        "\n",
        "[BernoulliRBM] Iteration 4, pseudo-likelihood = -749.18, time = 0.07s"
       ]
      },
      {
       "output_type": "stream",
       "stream": "stdout",
       "text": [
        "\n",
        "[BernoulliRBM] Iteration 5, pseudo-likelihood = -850.24, time = 0.08s"
       ]
      },
      {
       "output_type": "stream",
       "stream": "stdout",
       "text": [
        "\n",
        "[BernoulliRBM] Iteration 6, pseudo-likelihood = -951.39, time = 0.07s"
       ]
      },
      {
       "output_type": "stream",
       "stream": "stdout",
       "text": [
        "\n",
        "[BernoulliRBM] Iteration 7, pseudo-likelihood = -1145.32, time = 0.07s"
       ]
      },
      {
       "output_type": "stream",
       "stream": "stdout",
       "text": [
        "\n",
        "[BernoulliRBM] Iteration 8, pseudo-likelihood = -1299.37, time = 0.07s"
       ]
      },
      {
       "output_type": "stream",
       "stream": "stdout",
       "text": [
        "\n",
        "[BernoulliRBM] Iteration 9, pseudo-likelihood = -1359.61, time = 0.07s"
       ]
      },
      {
       "output_type": "stream",
       "stream": "stdout",
       "text": [
        "\n",
        "[BernoulliRBM] Iteration 10, pseudo-likelihood = -1500.53, time = 0.07s"
       ]
      },
      {
       "output_type": "stream",
       "stream": "stdout",
       "text": [
        "\n",
        "[BernoulliRBM] Iteration 1, pseudo-likelihood = -297.32, time = 0.05s"
       ]
      },
      {
       "output_type": "stream",
       "stream": "stdout",
       "text": [
        "\n",
        "[BernoulliRBM] Iteration 2, pseudo-likelihood = -822.26, time = 0.07s"
       ]
      },
      {
       "output_type": "stream",
       "stream": "stdout",
       "text": [
        "\n",
        "[BernoulliRBM] Iteration 3, pseudo-likelihood = -1383.15, time = 0.08s"
       ]
      },
      {
       "output_type": "stream",
       "stream": "stdout",
       "text": [
        "\n",
        "[BernoulliRBM] Iteration 4, pseudo-likelihood = -1882.23, time = 0.08s"
       ]
      },
      {
       "output_type": "stream",
       "stream": "stdout",
       "text": [
        "\n",
        "[BernoulliRBM] Iteration 5, pseudo-likelihood = -2550.60, time = 0.07s"
       ]
      },
      {
       "output_type": "stream",
       "stream": "stdout",
       "text": [
        "\n",
        "[BernoulliRBM] Iteration 6, pseudo-likelihood = -3259.54, time = 0.06s"
       ]
      },
      {
       "output_type": "stream",
       "stream": "stdout",
       "text": [
        "\n",
        "[BernoulliRBM] Iteration 7, pseudo-likelihood = -3957.39, time = 0.06s"
       ]
      },
      {
       "output_type": "stream",
       "stream": "stdout",
       "text": [
        "\n",
        "[BernoulliRBM] Iteration 8, pseudo-likelihood = -4633.83, time = 0.07s"
       ]
      },
      {
       "output_type": "stream",
       "stream": "stdout",
       "text": [
        "\n",
        "[BernoulliRBM] Iteration 9, pseudo-likelihood = -5008.87, time = 0.06s"
       ]
      },
      {
       "output_type": "stream",
       "stream": "stdout",
       "text": [
        "\n",
        "[BernoulliRBM] Iteration 10, pseudo-likelihood = -4860.69, time = 0.07s"
       ]
      },
      {
       "output_type": "stream",
       "stream": "stdout",
       "text": [
        "\n",
        "[BernoulliRBM] Iteration 1, pseudo-likelihood = -315.11, time = 0.04s"
       ]
      },
      {
       "output_type": "stream",
       "stream": "stdout",
       "text": [
        "\n",
        "[BernoulliRBM] Iteration 2, pseudo-likelihood = -746.06, time = 0.07s"
       ]
      },
      {
       "output_type": "stream",
       "stream": "stdout",
       "text": [
        "\n",
        "[BernoulliRBM] Iteration 3, pseudo-likelihood = -885.60, time = 0.08s"
       ]
      },
      {
       "output_type": "stream",
       "stream": "stdout",
       "text": [
        "\n",
        "[BernoulliRBM] Iteration 4, pseudo-likelihood = -1059.39, time = 0.07s"
       ]
      },
      {
       "output_type": "stream",
       "stream": "stdout",
       "text": [
        "\n",
        "[BernoulliRBM] Iteration 5, pseudo-likelihood = -1322.80, time = 0.08s"
       ]
      },
      {
       "output_type": "stream",
       "stream": "stdout",
       "text": [
        "\n",
        "[BernoulliRBM] Iteration 6, pseudo-likelihood = -1528.85, time = 0.08s"
       ]
      },
      {
       "output_type": "stream",
       "stream": "stdout",
       "text": [
        "\n",
        "[BernoulliRBM] Iteration 7, pseudo-likelihood = -1664.78, time = 0.07s"
       ]
      },
      {
       "output_type": "stream",
       "stream": "stdout",
       "text": [
        "\n",
        "[BernoulliRBM] Iteration 8, pseudo-likelihood = -1866.57, time = 0.07s"
       ]
      },
      {
       "output_type": "stream",
       "stream": "stdout",
       "text": [
        "\n",
        "[BernoulliRBM] Iteration 9, pseudo-likelihood = -2050.19, time = 0.07s"
       ]
      },
      {
       "output_type": "stream",
       "stream": "stdout",
       "text": [
        "\n",
        "[BernoulliRBM] Iteration 10, pseudo-likelihood = -2133.77, time = 0.07s"
       ]
      },
      {
       "output_type": "stream",
       "stream": "stdout",
       "text": [
        "\n",
        "[BernoulliRBM] Iteration 1, pseudo-likelihood = -344.81, time = 0.04s"
       ]
      },
      {
       "output_type": "stream",
       "stream": "stdout",
       "text": [
        "\n",
        "[BernoulliRBM] Iteration 2, pseudo-likelihood = -930.92, time = 0.08s"
       ]
      },
      {
       "output_type": "stream",
       "stream": "stdout",
       "text": [
        "\n",
        "[BernoulliRBM] Iteration 3, pseudo-likelihood = -1314.92, time = 0.07s"
       ]
      },
      {
       "output_type": "stream",
       "stream": "stdout",
       "text": [
        "\n",
        "[BernoulliRBM] Iteration 4, pseudo-likelihood = -1745.90, time = 0.08s"
       ]
      },
      {
       "output_type": "stream",
       "stream": "stdout",
       "text": [
        "\n",
        "[BernoulliRBM] Iteration 5, pseudo-likelihood = -2210.07, time = 0.07s"
       ]
      },
      {
       "output_type": "stream",
       "stream": "stdout",
       "text": [
        "\n",
        "[BernoulliRBM] Iteration 6, pseudo-likelihood = -2562.25, time = 0.07s"
       ]
      },
      {
       "output_type": "stream",
       "stream": "stdout",
       "text": [
        "\n",
        "[BernoulliRBM] Iteration 7, pseudo-likelihood = -3073.76, time = 0.07s"
       ]
      },
      {
       "output_type": "stream",
       "stream": "stdout",
       "text": [
        "\n",
        "[BernoulliRBM] Iteration 8, pseudo-likelihood = -3561.38, time = 0.07s"
       ]
      },
      {
       "output_type": "stream",
       "stream": "stdout",
       "text": [
        "\n",
        "[BernoulliRBM] Iteration 9, pseudo-likelihood = -3904.36, time = 0.07s"
       ]
      },
      {
       "output_type": "stream",
       "stream": "stdout",
       "text": [
        "\n",
        "[BernoulliRBM] Iteration 10, pseudo-likelihood = -4261.43, time = 0.07s"
       ]
      },
      {
       "output_type": "stream",
       "stream": "stdout",
       "text": [
        "\n",
        "[BernoulliRBM] Iteration 1, pseudo-likelihood = -285.54, time = 0.05s"
       ]
      },
      {
       "output_type": "stream",
       "stream": "stdout",
       "text": [
        "\n",
        "[BernoulliRBM] Iteration 2, pseudo-likelihood = -461.91, time = 0.08s"
       ]
      },
      {
       "output_type": "stream",
       "stream": "stdout",
       "text": [
        "\n",
        "[BernoulliRBM] Iteration 3, pseudo-likelihood = -559.77, time = 0.07s"
       ]
      },
      {
       "output_type": "stream",
       "stream": "stdout",
       "text": [
        "\n",
        "[BernoulliRBM] Iteration 4, pseudo-likelihood = -684.01, time = 0.08s"
       ]
      },
      {
       "output_type": "stream",
       "stream": "stdout",
       "text": [
        "\n",
        "[BernoulliRBM] Iteration 5, pseudo-likelihood = -808.90, time = 0.07s"
       ]
      },
      {
       "output_type": "stream",
       "stream": "stdout",
       "text": [
        "\n",
        "[BernoulliRBM] Iteration 6, pseudo-likelihood = -972.06, time = 0.06s"
       ]
      },
      {
       "output_type": "stream",
       "stream": "stdout",
       "text": [
        "\n",
        "[BernoulliRBM] Iteration 7, pseudo-likelihood = -1128.24, time = 0.08s"
       ]
      },
      {
       "output_type": "stream",
       "stream": "stdout",
       "text": [
        "\n",
        "[BernoulliRBM] Iteration 8, pseudo-likelihood = -1267.13, time = 0.07s"
       ]
      },
      {
       "output_type": "stream",
       "stream": "stdout",
       "text": [
        "\n",
        "[BernoulliRBM] Iteration 9, pseudo-likelihood = -1404.30, time = 0.08s"
       ]
      },
      {
       "output_type": "stream",
       "stream": "stdout",
       "text": [
        "\n",
        "[BernoulliRBM] Iteration 10, pseudo-likelihood = -1562.84, time = 0.07s"
       ]
      },
      {
       "output_type": "stream",
       "stream": "stdout",
       "text": [
        "\n",
        "[BernoulliRBM] Iteration 1, pseudo-likelihood = -369.10, time = 0.04s"
       ]
      },
      {
       "output_type": "stream",
       "stream": "stdout",
       "text": [
        "\n",
        "[BernoulliRBM] Iteration 2, pseudo-likelihood = -588.49, time = 0.07s"
       ]
      },
      {
       "output_type": "stream",
       "stream": "stdout",
       "text": [
        "\n",
        "[BernoulliRBM] Iteration 3, pseudo-likelihood = -776.28, time = 0.07s"
       ]
      },
      {
       "output_type": "stream",
       "stream": "stdout",
       "text": [
        "\n",
        "[BernoulliRBM] Iteration 4, pseudo-likelihood = -854.24, time = 0.07s"
       ]
      },
      {
       "output_type": "stream",
       "stream": "stdout",
       "text": [
        "\n",
        "[BernoulliRBM] Iteration 5, pseudo-likelihood = -984.92, time = 0.07s"
       ]
      },
      {
       "output_type": "stream",
       "stream": "stdout",
       "text": [
        "\n",
        "[BernoulliRBM] Iteration 6, pseudo-likelihood = -1127.93, time = 0.06s"
       ]
      },
      {
       "output_type": "stream",
       "stream": "stdout",
       "text": [
        "\n",
        "[BernoulliRBM] Iteration 7, pseudo-likelihood = -1378.49, time = 0.07s"
       ]
      },
      {
       "output_type": "stream",
       "stream": "stdout",
       "text": [
        "\n",
        "[BernoulliRBM] Iteration 8, pseudo-likelihood = -1453.93, time = 0.08s"
       ]
      },
      {
       "output_type": "stream",
       "stream": "stdout",
       "text": [
        "\n",
        "[BernoulliRBM] Iteration 9, pseudo-likelihood = -1580.19, time = 0.06s"
       ]
      },
      {
       "output_type": "stream",
       "stream": "stdout",
       "text": [
        "\n",
        "[BernoulliRBM] Iteration 10, pseudo-likelihood = -1730.56, time = 0.07s"
       ]
      },
      {
       "output_type": "stream",
       "stream": "stdout",
       "text": [
        "\n",
        "[BernoulliRBM] Iteration 1, pseudo-likelihood = -358.37, time = 0.04s"
       ]
      },
      {
       "output_type": "stream",
       "stream": "stdout",
       "text": [
        "\n",
        "[BernoulliRBM] Iteration 2, pseudo-likelihood = -574.66, time = 0.08s"
       ]
      },
      {
       "output_type": "stream",
       "stream": "stdout",
       "text": [
        "\n",
        "[BernoulliRBM] Iteration 3, pseudo-likelihood = -734.25, time = 0.08s"
       ]
      },
      {
       "output_type": "stream",
       "stream": "stdout",
       "text": [
        "\n",
        "[BernoulliRBM] Iteration 4, pseudo-likelihood = -864.83, time = 0.07s"
       ]
      },
      {
       "output_type": "stream",
       "stream": "stdout",
       "text": [
        "\n",
        "[BernoulliRBM] Iteration 5, pseudo-likelihood = -1025.48, time = 0.07s"
       ]
      },
      {
       "output_type": "stream",
       "stream": "stdout",
       "text": [
        "\n",
        "[BernoulliRBM] Iteration 6, pseudo-likelihood = -1241.27, time = 0.07s"
       ]
      },
      {
       "output_type": "stream",
       "stream": "stdout",
       "text": [
        "\n",
        "[BernoulliRBM] Iteration 7, pseudo-likelihood = -1396.10, time = 0.07s"
       ]
      },
      {
       "output_type": "stream",
       "stream": "stdout",
       "text": [
        "\n",
        "[BernoulliRBM] Iteration 8, pseudo-likelihood = -1499.84, time = 0.08s"
       ]
      },
      {
       "output_type": "stream",
       "stream": "stdout",
       "text": [
        "\n",
        "[BernoulliRBM] Iteration 9, pseudo-likelihood = -1662.97, time = 0.07s"
       ]
      },
      {
       "output_type": "stream",
       "stream": "stdout",
       "text": [
        "\n",
        "[BernoulliRBM] Iteration 10, pseudo-likelihood = -1872.65, time = 0.07s"
       ]
      },
      {
       "output_type": "stream",
       "stream": "stdout",
       "text": [
        "\n",
        "[BernoulliRBM] Iteration 1, pseudo-likelihood = -387.09, time = 0.05s"
       ]
      },
      {
       "output_type": "stream",
       "stream": "stdout",
       "text": [
        "\n",
        "[BernoulliRBM] Iteration 2, pseudo-likelihood = -752.66, time = 0.08s"
       ]
      },
      {
       "output_type": "stream",
       "stream": "stdout",
       "text": [
        "\n",
        "[BernoulliRBM] Iteration 3, pseudo-likelihood = -1013.05, time = 0.07s"
       ]
      },
      {
       "output_type": "stream",
       "stream": "stdout",
       "text": [
        "\n",
        "[BernoulliRBM] Iteration 4, pseudo-likelihood = -1254.41, time = 0.08s"
       ]
      },
      {
       "output_type": "stream",
       "stream": "stdout",
       "text": [
        "\n",
        "[BernoulliRBM] Iteration 5, pseudo-likelihood = -1464.53, time = 0.08s"
       ]
      },
      {
       "output_type": "stream",
       "stream": "stdout",
       "text": [
        "\n",
        "[BernoulliRBM] Iteration 6, pseudo-likelihood = -1651.65, time = 0.08s"
       ]
      },
      {
       "output_type": "stream",
       "stream": "stdout",
       "text": [
        "\n",
        "[BernoulliRBM] Iteration 7, pseudo-likelihood = -1904.19, time = 0.08s"
       ]
      },
      {
       "output_type": "stream",
       "stream": "stdout",
       "text": [
        "\n",
        "[BernoulliRBM] Iteration 8, pseudo-likelihood = -2156.00, time = 0.08s"
       ]
      },
      {
       "output_type": "stream",
       "stream": "stdout",
       "text": [
        "\n",
        "[BernoulliRBM] Iteration 9, pseudo-likelihood = -2367.40, time = 0.08s"
       ]
      },
      {
       "output_type": "stream",
       "stream": "stdout",
       "text": [
        "\n",
        "[BernoulliRBM] Iteration 10, pseudo-likelihood = -2551.43, time = 0.07s"
       ]
      },
      {
       "output_type": "stream",
       "stream": "stdout",
       "text": [
        "\n",
        "[BernoulliRBM] Iteration 1, pseudo-likelihood = -458.58, time = 0.04s"
       ]
      },
      {
       "output_type": "stream",
       "stream": "stdout",
       "text": [
        "\n",
        "[BernoulliRBM] Iteration 2, pseudo-likelihood = -1154.14, time = 0.08s"
       ]
      },
      {
       "output_type": "stream",
       "stream": "stdout",
       "text": [
        "\n",
        "[BernoulliRBM] Iteration 3, pseudo-likelihood = -1939.04, time = 0.08s"
       ]
      },
      {
       "output_type": "stream",
       "stream": "stdout",
       "text": [
        "\n",
        "[BernoulliRBM] Iteration 4, pseudo-likelihood = -2284.71, time = 0.07s"
       ]
      },
      {
       "output_type": "stream",
       "stream": "stdout",
       "text": [
        "\n",
        "[BernoulliRBM] Iteration 5, pseudo-likelihood = -2803.15, time = 0.07s"
       ]
      },
      {
       "output_type": "stream",
       "stream": "stdout",
       "text": [
        "\n",
        "[BernoulliRBM] Iteration 6, pseudo-likelihood = -3245.61, time = 0.07s"
       ]
      },
      {
       "output_type": "stream",
       "stream": "stdout",
       "text": [
        "\n",
        "[BernoulliRBM] Iteration 7, pseudo-likelihood = -3665.68, time = 0.07s"
       ]
      },
      {
       "output_type": "stream",
       "stream": "stdout",
       "text": [
        "\n",
        "[BernoulliRBM] Iteration 8, pseudo-likelihood = -4095.56, time = 0.08s"
       ]
      },
      {
       "output_type": "stream",
       "stream": "stdout",
       "text": [
        "\n",
        "[BernoulliRBM] Iteration 9, pseudo-likelihood = -4566.06, time = 0.07s"
       ]
      },
      {
       "output_type": "stream",
       "stream": "stdout",
       "text": [
        "\n",
        "[BernoulliRBM] Iteration 10, pseudo-likelihood = -5046.19, time = 0.07s"
       ]
      },
      {
       "output_type": "stream",
       "stream": "stdout",
       "text": [
        "\n",
        "[BernoulliRBM] Iteration 1, pseudo-likelihood = -488.26, time = 0.05s"
       ]
      },
      {
       "output_type": "stream",
       "stream": "stdout",
       "text": [
        "\n",
        "[BernoulliRBM] Iteration 2, pseudo-likelihood = -842.73, time = 0.09s"
       ]
      },
      {
       "output_type": "stream",
       "stream": "stdout",
       "text": [
        "\n",
        "[BernoulliRBM] Iteration 3, pseudo-likelihood = -1120.95, time = 0.08s"
       ]
      },
      {
       "output_type": "stream",
       "stream": "stdout",
       "text": [
        "\n",
        "[BernoulliRBM] Iteration 4, pseudo-likelihood = -1492.72, time = 0.09s"
       ]
      },
      {
       "output_type": "stream",
       "stream": "stdout",
       "text": [
        "\n",
        "[BernoulliRBM] Iteration 5, pseudo-likelihood = -1875.06, time = 0.07s"
       ]
      },
      {
       "output_type": "stream",
       "stream": "stdout",
       "text": [
        "\n",
        "[BernoulliRBM] Iteration 6, pseudo-likelihood = -2137.51, time = 0.08s"
       ]
      },
      {
       "output_type": "stream",
       "stream": "stdout",
       "text": [
        "\n",
        "[BernoulliRBM] Iteration 7, pseudo-likelihood = -2502.69, time = 0.08s"
       ]
      },
      {
       "output_type": "stream",
       "stream": "stdout",
       "text": [
        "\n",
        "[BernoulliRBM] Iteration 8, pseudo-likelihood = -2813.63, time = 0.08s"
       ]
      },
      {
       "output_type": "stream",
       "stream": "stdout",
       "text": [
        "\n",
        "[BernoulliRBM] Iteration 9, pseudo-likelihood = -3216.96, time = 0.07s"
       ]
      },
      {
       "output_type": "stream",
       "stream": "stdout",
       "text": [
        "\n",
        "[BernoulliRBM] Iteration 10, pseudo-likelihood = -3524.10, time = 0.07s"
       ]
      },
      {
       "output_type": "stream",
       "stream": "stdout",
       "text": [
        "\n",
        "[BernoulliRBM] Iteration 1, pseudo-likelihood = -512.97, time = 0.05s"
       ]
      },
      {
       "output_type": "stream",
       "stream": "stdout",
       "text": [
        "\n",
        "[BernoulliRBM] Iteration 2, pseudo-likelihood = -632.25, time = 0.08s"
       ]
      },
      {
       "output_type": "stream",
       "stream": "stdout",
       "text": [
        "\n",
        "[BernoulliRBM] Iteration 3, pseudo-likelihood = -833.65, time = 0.09s"
       ]
      },
      {
       "output_type": "stream",
       "stream": "stdout",
       "text": [
        "\n",
        "[BernoulliRBM] Iteration 4, pseudo-likelihood = -902.97, time = 0.07s"
       ]
      },
      {
       "output_type": "stream",
       "stream": "stdout",
       "text": [
        "\n",
        "[BernoulliRBM] Iteration 5, pseudo-likelihood = -1118.19, time = 0.08s"
       ]
      },
      {
       "output_type": "stream",
       "stream": "stdout",
       "text": [
        "\n",
        "[BernoulliRBM] Iteration 6, pseudo-likelihood = -1285.28, time = 0.07s"
       ]
      },
      {
       "output_type": "stream",
       "stream": "stdout",
       "text": [
        "\n",
        "[BernoulliRBM] Iteration 7, pseudo-likelihood = -1485.61, time = 0.08s"
       ]
      },
      {
       "output_type": "stream",
       "stream": "stdout",
       "text": [
        "\n",
        "[BernoulliRBM] Iteration 8, pseudo-likelihood = -1696.92, time = 0.08s"
       ]
      },
      {
       "output_type": "stream",
       "stream": "stdout",
       "text": [
        "\n",
        "[BernoulliRBM] Iteration 9, pseudo-likelihood = -1890.60, time = 0.07s"
       ]
      },
      {
       "output_type": "stream",
       "stream": "stdout",
       "text": [
        "\n",
        "[BernoulliRBM] Iteration 10, pseudo-likelihood = -2113.12, time = 0.08s"
       ]
      },
      {
       "output_type": "stream",
       "stream": "stdout",
       "text": [
        "\n",
        "[BernoulliRBM] Iteration 1, pseudo-likelihood = -355.06, time = 0.06s"
       ]
      },
      {
       "output_type": "stream",
       "stream": "stdout",
       "text": [
        "\n",
        "[BernoulliRBM] Iteration 2, pseudo-likelihood = -991.66, time = 0.09s"
       ]
      },
      {
       "output_type": "stream",
       "stream": "stdout",
       "text": [
        "\n",
        "[BernoulliRBM] Iteration 3, pseudo-likelihood = -1702.21, time = 0.09s"
       ]
      },
      {
       "output_type": "stream",
       "stream": "stdout",
       "text": [
        "\n",
        "[BernoulliRBM] Iteration 4, pseudo-likelihood = -2322.15, time = 0.09s"
       ]
      },
      {
       "output_type": "stream",
       "stream": "stdout",
       "text": [
        "\n",
        "[BernoulliRBM] Iteration 5, pseudo-likelihood = -3413.61, time = 0.08s"
       ]
      },
      {
       "output_type": "stream",
       "stream": "stdout",
       "text": [
        "\n",
        "[BernoulliRBM] Iteration 6, pseudo-likelihood = -3720.38, time = 0.09s"
       ]
      },
      {
       "output_type": "stream",
       "stream": "stdout",
       "text": [
        "\n",
        "[BernoulliRBM] Iteration 7, pseudo-likelihood = -3961.48, time = 0.09s"
       ]
      },
      {
       "output_type": "stream",
       "stream": "stdout",
       "text": [
        "\n",
        "[BernoulliRBM] Iteration 8, pseudo-likelihood = -4342.42, time = 0.07s"
       ]
      },
      {
       "output_type": "stream",
       "stream": "stdout",
       "text": [
        "\n",
        "[BernoulliRBM] Iteration 9, pseudo-likelihood = -4737.89, time = 0.08s"
       ]
      },
      {
       "output_type": "stream",
       "stream": "stdout",
       "text": [
        "\n",
        "[BernoulliRBM] Iteration 10, pseudo-likelihood = -5191.63, time = 0.08s"
       ]
      },
      {
       "output_type": "stream",
       "stream": "stdout",
       "text": [
        "\n",
        "[BernoulliRBM] Iteration 1, pseudo-likelihood = -365.67, time = 0.06s"
       ]
      },
      {
       "output_type": "stream",
       "stream": "stdout",
       "text": [
        "\n",
        "[BernoulliRBM] Iteration 2, pseudo-likelihood = -733.69, time = 0.09s"
       ]
      },
      {
       "output_type": "stream",
       "stream": "stdout",
       "text": [
        "\n",
        "[BernoulliRBM] Iteration 3, pseudo-likelihood = -765.88, time = 0.08s"
       ]
      },
      {
       "output_type": "stream",
       "stream": "stdout",
       "text": [
        "\n",
        "[BernoulliRBM] Iteration 4, pseudo-likelihood = -815.04, time = 0.09s"
       ]
      },
      {
       "output_type": "stream",
       "stream": "stdout",
       "text": [
        "\n",
        "[BernoulliRBM] Iteration 5, pseudo-likelihood = -900.58, time = 0.09s"
       ]
      },
      {
       "output_type": "stream",
       "stream": "stdout",
       "text": [
        "\n",
        "[BernoulliRBM] Iteration 6, pseudo-likelihood = -1092.64, time = 0.07s"
       ]
      },
      {
       "output_type": "stream",
       "stream": "stdout",
       "text": [
        "\n",
        "[BernoulliRBM] Iteration 7, pseudo-likelihood = -1212.80, time = 0.08s"
       ]
      },
      {
       "output_type": "stream",
       "stream": "stdout",
       "text": [
        "\n",
        "[BernoulliRBM] Iteration 8, pseudo-likelihood = -1338.66, time = 0.08s"
       ]
      },
      {
       "output_type": "stream",
       "stream": "stdout",
       "text": [
        "\n",
        "[BernoulliRBM] Iteration 9, pseudo-likelihood = -1444.30, time = 0.08s"
       ]
      },
      {
       "output_type": "stream",
       "stream": "stdout",
       "text": [
        "\n",
        "[BernoulliRBM] Iteration 10, pseudo-likelihood = -1559.72, time = 0.08s"
       ]
      },
      {
       "output_type": "stream",
       "stream": "stdout",
       "text": [
        "\n",
        "[BernoulliRBM] Iteration 1, pseudo-likelihood = -401.96, time = 0.04s"
       ]
      },
      {
       "output_type": "stream",
       "stream": "stdout",
       "text": [
        "\n",
        "[BernoulliRBM] Iteration 2, pseudo-likelihood = -1077.08, time = 0.08s"
       ]
      },
      {
       "output_type": "stream",
       "stream": "stdout",
       "text": [
        "\n",
        "[BernoulliRBM] Iteration 3, pseudo-likelihood = -1521.88, time = 0.09s"
       ]
      },
      {
       "output_type": "stream",
       "stream": "stdout",
       "text": [
        "\n",
        "[BernoulliRBM] Iteration 4, pseudo-likelihood = -2053.35, time = 0.08s"
       ]
      },
      {
       "output_type": "stream",
       "stream": "stdout",
       "text": [
        "\n",
        "[BernoulliRBM] Iteration 5, pseudo-likelihood = -2586.19, time = 0.08s"
       ]
      },
      {
       "output_type": "stream",
       "stream": "stdout",
       "text": [
        "\n",
        "[BernoulliRBM] Iteration 6, pseudo-likelihood = -3040.84, time = 0.07s"
       ]
      },
      {
       "output_type": "stream",
       "stream": "stdout",
       "text": [
        "\n",
        "[BernoulliRBM] Iteration 7, pseudo-likelihood = -3532.45, time = 0.08s"
       ]
      },
      {
       "output_type": "stream",
       "stream": "stdout",
       "text": [
        "\n",
        "[BernoulliRBM] Iteration 8, pseudo-likelihood = -3987.86, time = 0.08s"
       ]
      },
      {
       "output_type": "stream",
       "stream": "stdout",
       "text": [
        "\n",
        "[BernoulliRBM] Iteration 9, pseudo-likelihood = -4557.76, time = 0.07s"
       ]
      },
      {
       "output_type": "stream",
       "stream": "stdout",
       "text": [
        "\n",
        "[BernoulliRBM] Iteration 10, pseudo-likelihood = -5047.05, time = 0.08s"
       ]
      },
      {
       "output_type": "stream",
       "stream": "stdout",
       "text": [
        "\n",
        "[BernoulliRBM] Iteration 1, pseudo-likelihood = -288.31, time = 0.05s"
       ]
      },
      {
       "output_type": "stream",
       "stream": "stdout",
       "text": [
        "\n",
        "[BernoulliRBM] Iteration 2, pseudo-likelihood = -811.95, time = 0.09s"
       ]
      },
      {
       "output_type": "stream",
       "stream": "stdout",
       "text": [
        "\n",
        "[BernoulliRBM] Iteration 3, pseudo-likelihood = -1289.09, time = 0.08s"
       ]
      },
      {
       "output_type": "stream",
       "stream": "stdout",
       "text": [
        "\n",
        "[BernoulliRBM] Iteration 4, pseudo-likelihood = -1734.33, time = 0.07s"
       ]
      },
      {
       "output_type": "stream",
       "stream": "stdout",
       "text": [
        "\n",
        "[BernoulliRBM] Iteration 5, pseudo-likelihood = -2276.39, time = 0.08s"
       ]
      },
      {
       "output_type": "stream",
       "stream": "stdout",
       "text": [
        "\n",
        "[BernoulliRBM] Iteration 6, pseudo-likelihood = -2859.91, time = 0.08s"
       ]
      },
      {
       "output_type": "stream",
       "stream": "stdout",
       "text": [
        "\n",
        "[BernoulliRBM] Iteration 7, pseudo-likelihood = -3450.58, time = 0.08s"
       ]
      },
      {
       "output_type": "stream",
       "stream": "stdout",
       "text": [
        "\n",
        "[BernoulliRBM] Iteration 8, pseudo-likelihood = -3897.06, time = 0.07s"
       ]
      },
      {
       "output_type": "stream",
       "stream": "stdout",
       "text": [
        "\n",
        "[BernoulliRBM] Iteration 9, pseudo-likelihood = -4370.23, time = 0.08s"
       ]
      },
      {
       "output_type": "stream",
       "stream": "stdout",
       "text": [
        "\n",
        "[BernoulliRBM] Iteration 10, pseudo-likelihood = -4989.12, time = 0.08s"
       ]
      },
      {
       "output_type": "stream",
       "stream": "stdout",
       "text": [
        "\n",
        "[BernoulliRBM] Iteration 1, pseudo-likelihood = -435.81, time = 0.05s"
       ]
      },
      {
       "output_type": "stream",
       "stream": "stdout",
       "text": [
        "\n",
        "[BernoulliRBM] Iteration 2, pseudo-likelihood = -680.42, time = 0.08s"
       ]
      },
      {
       "output_type": "stream",
       "stream": "stdout",
       "text": [
        "\n",
        "[BernoulliRBM] Iteration 3, pseudo-likelihood = -866.75, time = 0.09s"
       ]
      },
      {
       "output_type": "stream",
       "stream": "stdout",
       "text": [
        "\n",
        "[BernoulliRBM] Iteration 4, pseudo-likelihood = -1000.97, time = 0.08s"
       ]
      },
      {
       "output_type": "stream",
       "stream": "stdout",
       "text": [
        "\n",
        "[BernoulliRBM] Iteration 5, pseudo-likelihood = -1129.26, time = 0.09s"
       ]
      },
      {
       "output_type": "stream",
       "stream": "stdout",
       "text": [
        "\n",
        "[BernoulliRBM] Iteration 6, pseudo-likelihood = -1360.29, time = 0.08s"
       ]
      },
      {
       "output_type": "stream",
       "stream": "stdout",
       "text": [
        "\n",
        "[BernoulliRBM] Iteration 7, pseudo-likelihood = -1492.52, time = 0.08s"
       ]
      },
      {
       "output_type": "stream",
       "stream": "stdout",
       "text": [
        "\n",
        "[BernoulliRBM] Iteration 8, pseudo-likelihood = -1612.71, time = 0.08s"
       ]
      },
      {
       "output_type": "stream",
       "stream": "stdout",
       "text": [
        "\n",
        "[BernoulliRBM] Iteration 9, pseudo-likelihood = -1831.68, time = 0.07s"
       ]
      },
      {
       "output_type": "stream",
       "stream": "stdout",
       "text": [
        "\n",
        "[BernoulliRBM] Iteration 10, pseudo-likelihood = -2151.58, time = 0.09s"
       ]
      },
      {
       "output_type": "stream",
       "stream": "stdout",
       "text": [
        "\n",
        "[BernoulliRBM] Iteration 1, pseudo-likelihood = -417.23, time = 0.05s"
       ]
      },
      {
       "output_type": "stream",
       "stream": "stdout",
       "text": [
        "\n",
        "[BernoulliRBM] Iteration 2, pseudo-likelihood = -653.26, time = 0.08s"
       ]
      },
      {
       "output_type": "stream",
       "stream": "stdout",
       "text": [
        "\n",
        "[BernoulliRBM] Iteration 3, pseudo-likelihood = -848.60, time = 0.08s"
       ]
      },
      {
       "output_type": "stream",
       "stream": "stdout",
       "text": [
        "\n",
        "[BernoulliRBM] Iteration 4, pseudo-likelihood = -976.69, time = 0.08s"
       ]
      },
      {
       "output_type": "stream",
       "stream": "stdout",
       "text": [
        "\n",
        "[BernoulliRBM] Iteration 5, pseudo-likelihood = -1114.74, time = 0.08s"
       ]
      },
      {
       "output_type": "stream",
       "stream": "stdout",
       "text": [
        "\n",
        "[BernoulliRBM] Iteration 6, pseudo-likelihood = -1312.96, time = 0.08s"
       ]
      },
      {
       "output_type": "stream",
       "stream": "stdout",
       "text": [
        "\n",
        "[BernoulliRBM] Iteration 7, pseudo-likelihood = -1519.67, time = 0.08s"
       ]
      },
      {
       "output_type": "stream",
       "stream": "stdout",
       "text": [
        "\n",
        "[BernoulliRBM] Iteration 8, pseudo-likelihood = -1611.99, time = 0.08s"
       ]
      },
      {
       "output_type": "stream",
       "stream": "stdout",
       "text": [
        "\n",
        "[BernoulliRBM] Iteration 9, pseudo-likelihood = -1861.72, time = 0.08s"
       ]
      },
      {
       "output_type": "stream",
       "stream": "stdout",
       "text": [
        "\n",
        "[BernoulliRBM] Iteration 10, pseudo-likelihood = -2048.34, time = 0.09s"
       ]
      },
      {
       "output_type": "stream",
       "stream": "stdout",
       "text": [
        "\n",
        "[BernoulliRBM] Iteration 1, pseudo-likelihood = -449.68, time = 0.06s"
       ]
      },
      {
       "output_type": "stream",
       "stream": "stdout",
       "text": [
        "\n",
        "[BernoulliRBM] Iteration 2, pseudo-likelihood = -788.56, time = 0.09s"
       ]
      },
      {
       "output_type": "stream",
       "stream": "stdout",
       "text": [
        "\n",
        "[BernoulliRBM] Iteration 3, pseudo-likelihood = -945.88, time = 0.08s"
       ]
      },
      {
       "output_type": "stream",
       "stream": "stdout",
       "text": [
        "\n",
        "[BernoulliRBM] Iteration 4, pseudo-likelihood = -1095.94, time = 0.08s"
       ]
      },
      {
       "output_type": "stream",
       "stream": "stdout",
       "text": [
        "\n",
        "[BernoulliRBM] Iteration 5, pseudo-likelihood = -1214.18, time = 0.08s"
       ]
      },
      {
       "output_type": "stream",
       "stream": "stdout",
       "text": [
        "\n",
        "[BernoulliRBM] Iteration 6, pseudo-likelihood = -1417.96, time = 0.09s"
       ]
      },
      {
       "output_type": "stream",
       "stream": "stdout",
       "text": [
        "\n",
        "[BernoulliRBM] Iteration 7, pseudo-likelihood = -1635.81, time = 0.08s"
       ]
      },
      {
       "output_type": "stream",
       "stream": "stdout",
       "text": [
        "\n",
        "[BernoulliRBM] Iteration 8, pseudo-likelihood = -1817.18, time = 0.07s"
       ]
      },
      {
       "output_type": "stream",
       "stream": "stdout",
       "text": [
        "\n",
        "[BernoulliRBM] Iteration 9, pseudo-likelihood = -1880.22, time = 0.08s"
       ]
      },
      {
       "output_type": "stream",
       "stream": "stdout",
       "text": [
        "\n",
        "[BernoulliRBM] Iteration 10, pseudo-likelihood = -2037.25, time = 0.08s"
       ]
      },
      {
       "output_type": "stream",
       "stream": "stdout",
       "text": [
        "\n",
        "[BernoulliRBM] Iteration 1, pseudo-likelihood = -525.82, time = 0.05s"
       ]
      },
      {
       "output_type": "stream",
       "stream": "stdout",
       "text": [
        "\n",
        "[BernoulliRBM] Iteration 2, pseudo-likelihood = -1363.94, time = 0.08s"
       ]
      },
      {
       "output_type": "stream",
       "stream": "stdout",
       "text": [
        "\n",
        "[BernoulliRBM] Iteration 3, pseudo-likelihood = -2037.35, time = 0.09s"
       ]
      },
      {
       "output_type": "stream",
       "stream": "stdout",
       "text": [
        "\n",
        "[BernoulliRBM] Iteration 4, pseudo-likelihood = -2416.22, time = 0.08s"
       ]
      },
      {
       "output_type": "stream",
       "stream": "stdout",
       "text": [
        "\n",
        "[BernoulliRBM] Iteration 5, pseudo-likelihood = -3100.45, time = 0.08s"
       ]
      },
      {
       "output_type": "stream",
       "stream": "stdout",
       "text": [
        "\n",
        "[BernoulliRBM] Iteration 6, pseudo-likelihood = -3707.63, time = 0.08s"
       ]
      },
      {
       "output_type": "stream",
       "stream": "stdout",
       "text": [
        "\n",
        "[BernoulliRBM] Iteration 7, pseudo-likelihood = -4298.62, time = 0.08s"
       ]
      },
      {
       "output_type": "stream",
       "stream": "stdout",
       "text": [
        "\n",
        "[BernoulliRBM] Iteration 8, pseudo-likelihood = -4828.38, time = 0.08s"
       ]
      },
      {
       "output_type": "stream",
       "stream": "stdout",
       "text": [
        "\n",
        "[BernoulliRBM] Iteration 9, pseudo-likelihood = -5405.04, time = 0.08s"
       ]
      },
      {
       "output_type": "stream",
       "stream": "stdout",
       "text": [
        "\n",
        "[BernoulliRBM] Iteration 10, pseudo-likelihood = -5917.85, time = 0.08s"
       ]
      },
      {
       "output_type": "stream",
       "stream": "stdout",
       "text": [
        "\n",
        "[BernoulliRBM] Iteration 1, pseudo-likelihood = -546.50, time = 0.05s"
       ]
      },
      {
       "output_type": "stream",
       "stream": "stdout",
       "text": [
        "\n",
        "[BernoulliRBM] Iteration 2, pseudo-likelihood = -931.47, time = 0.09s"
       ]
      },
      {
       "output_type": "stream",
       "stream": "stdout",
       "text": [
        "\n",
        "[BernoulliRBM] Iteration 3, pseudo-likelihood = -1256.32, time = 0.09s"
       ]
      },
      {
       "output_type": "stream",
       "stream": "stdout",
       "text": [
        "\n",
        "[BernoulliRBM] Iteration 4, pseudo-likelihood = -1601.93, time = 0.08s"
       ]
      },
      {
       "output_type": "stream",
       "stream": "stdout",
       "text": [
        "\n",
        "[BernoulliRBM] Iteration 5, pseudo-likelihood = -2079.29, time = 0.10s"
       ]
      },
      {
       "output_type": "stream",
       "stream": "stdout",
       "text": [
        "\n",
        "[BernoulliRBM] Iteration 6, pseudo-likelihood = -2539.83, time = 0.08s"
       ]
      },
      {
       "output_type": "stream",
       "stream": "stdout",
       "text": [
        "\n",
        "[BernoulliRBM] Iteration 7, pseudo-likelihood = -2924.56, time = 0.09s"
       ]
      },
      {
       "output_type": "stream",
       "stream": "stdout",
       "text": [
        "\n",
        "[BernoulliRBM] Iteration 8, pseudo-likelihood = -3306.95, time = 0.08s"
       ]
      },
      {
       "output_type": "stream",
       "stream": "stdout",
       "text": [
        "\n",
        "[BernoulliRBM] Iteration 9, pseudo-likelihood = -3688.35, time = 0.08s"
       ]
      },
      {
       "output_type": "stream",
       "stream": "stdout",
       "text": [
        "\n",
        "[BernoulliRBM] Iteration 10, pseudo-likelihood = -4032.69, time = 0.08s"
       ]
      },
      {
       "output_type": "stream",
       "stream": "stdout",
       "text": [
        "\n",
        "[BernoulliRBM] Iteration 1, pseudo-likelihood = -587.45, time = 0.05s"
       ]
      },
      {
       "output_type": "stream",
       "stream": "stdout",
       "text": [
        "\n",
        "[BernoulliRBM] Iteration 2, pseudo-likelihood = -686.14, time = 0.09s"
       ]
      },
      {
       "output_type": "stream",
       "stream": "stdout",
       "text": [
        "\n",
        "[BernoulliRBM] Iteration 3, pseudo-likelihood = -967.63, time = 0.09s"
       ]
      },
      {
       "output_type": "stream",
       "stream": "stdout",
       "text": [
        "\n",
        "[BernoulliRBM] Iteration 4, pseudo-likelihood = -1130.75, time = 0.09s"
       ]
      },
      {
       "output_type": "stream",
       "stream": "stdout",
       "text": [
        "\n",
        "[BernoulliRBM] Iteration 5, pseudo-likelihood = -1440.28, time = 0.08s"
       ]
      },
      {
       "output_type": "stream",
       "stream": "stdout",
       "text": [
        "\n",
        "[BernoulliRBM] Iteration 6, pseudo-likelihood = -1537.38, time = 0.08s"
       ]
      },
      {
       "output_type": "stream",
       "stream": "stdout",
       "text": [
        "\n",
        "[BernoulliRBM] Iteration 7, pseudo-likelihood = -1882.23, time = 0.09s"
       ]
      },
      {
       "output_type": "stream",
       "stream": "stdout",
       "text": [
        "\n",
        "[BernoulliRBM] Iteration 8, pseudo-likelihood = -2049.83, time = 0.08s"
       ]
      },
      {
       "output_type": "stream",
       "stream": "stdout",
       "text": [
        "\n",
        "[BernoulliRBM] Iteration 9, pseudo-likelihood = -2401.61, time = 0.08s"
       ]
      },
      {
       "output_type": "stream",
       "stream": "stdout",
       "text": [
        "\n",
        "[BernoulliRBM] Iteration 10, pseudo-likelihood = -2571.93, time = 0.08s"
       ]
      },
      {
       "output_type": "stream",
       "stream": "stdout",
       "text": [
        "\n",
        "[BernoulliRBM] Iteration 1, pseudo-likelihood = -411.84, time = 0.06s"
       ]
      },
      {
       "output_type": "stream",
       "stream": "stdout",
       "text": [
        "\n",
        "[BernoulliRBM] Iteration 2, pseudo-likelihood = -1275.99, time = 0.09s"
       ]
      },
      {
       "output_type": "stream",
       "stream": "stdout",
       "text": [
        "\n",
        "[BernoulliRBM] Iteration 3, pseudo-likelihood = -2128.68, time = 0.08s"
       ]
      },
      {
       "output_type": "stream",
       "stream": "stdout",
       "text": [
        "\n",
        "[BernoulliRBM] Iteration 4, pseudo-likelihood = -2697.82, time = 0.09s"
       ]
      },
      {
       "output_type": "stream",
       "stream": "stdout",
       "text": [
        "\n",
        "[BernoulliRBM] Iteration 5, pseudo-likelihood = -3591.91, time = 0.08s"
       ]
      },
      {
       "output_type": "stream",
       "stream": "stdout",
       "text": [
        "\n",
        "[BernoulliRBM] Iteration 6, pseudo-likelihood = -4041.24, time = 0.09s"
       ]
      },
      {
       "output_type": "stream",
       "stream": "stdout",
       "text": [
        "\n",
        "[BernoulliRBM] Iteration 7, pseudo-likelihood = -4471.86, time = 0.09s"
       ]
      },
      {
       "output_type": "stream",
       "stream": "stdout",
       "text": [
        "\n",
        "[BernoulliRBM] Iteration 8, pseudo-likelihood = -4945.28, time = 0.08s"
       ]
      },
      {
       "output_type": "stream",
       "stream": "stdout",
       "text": [
        "\n",
        "[BernoulliRBM] Iteration 9, pseudo-likelihood = -5441.66, time = 0.08s"
       ]
      },
      {
       "output_type": "stream",
       "stream": "stdout",
       "text": [
        "\n",
        "[BernoulliRBM] Iteration 10, pseudo-likelihood = -6038.12, time = 0.08s"
       ]
      },
      {
       "output_type": "stream",
       "stream": "stdout",
       "text": [
        "\n",
        "[BernoulliRBM] Iteration 1, pseudo-likelihood = -424.46, time = 0.05s"
       ]
      },
      {
       "output_type": "stream",
       "stream": "stdout",
       "text": [
        "\n",
        "[BernoulliRBM] Iteration 2, pseudo-likelihood = -695.25, time = 0.10s"
       ]
      },
      {
       "output_type": "stream",
       "stream": "stdout",
       "text": [
        "\n",
        "[BernoulliRBM] Iteration 3, pseudo-likelihood = -833.65, time = 0.09s"
       ]
      },
      {
       "output_type": "stream",
       "stream": "stdout",
       "text": [
        "\n",
        "[BernoulliRBM] Iteration 4, pseudo-likelihood = -964.24, time = 0.09s"
       ]
      },
      {
       "output_type": "stream",
       "stream": "stdout",
       "text": [
        "\n",
        "[BernoulliRBM] Iteration 5, pseudo-likelihood = -1121.61, time = 0.08s"
       ]
      },
      {
       "output_type": "stream",
       "stream": "stdout",
       "text": [
        "\n",
        "[BernoulliRBM] Iteration 6, pseudo-likelihood = -1314.88, time = 0.08s"
       ]
      },
      {
       "output_type": "stream",
       "stream": "stdout",
       "text": [
        "\n",
        "[BernoulliRBM] Iteration 7, pseudo-likelihood = -1501.48, time = 0.09s"
       ]
      },
      {
       "output_type": "stream",
       "stream": "stdout",
       "text": [
        "\n",
        "[BernoulliRBM] Iteration 8, pseudo-likelihood = -1684.88, time = 0.09s"
       ]
      },
      {
       "output_type": "stream",
       "stream": "stdout",
       "text": [
        "\n",
        "[BernoulliRBM] Iteration 9, pseudo-likelihood = -1880.47, time = 0.09s"
       ]
      },
      {
       "output_type": "stream",
       "stream": "stdout",
       "text": [
        "\n",
        "[BernoulliRBM] Iteration 10, pseudo-likelihood = -2031.13, time = 0.08s"
       ]
      },
      {
       "output_type": "stream",
       "stream": "stdout",
       "text": [
        "\n",
        "[BernoulliRBM] Iteration 1, pseudo-likelihood = -469.15, time = 0.05s"
       ]
      },
      {
       "output_type": "stream",
       "stream": "stdout",
       "text": [
        "\n",
        "[BernoulliRBM] Iteration 2, pseudo-likelihood = -753.41, time = 0.09s"
       ]
      },
      {
       "output_type": "stream",
       "stream": "stdout",
       "text": [
        "\n",
        "[BernoulliRBM] Iteration 3, pseudo-likelihood = -989.45, time = 0.09s"
       ]
      },
      {
       "output_type": "stream",
       "stream": "stdout",
       "text": [
        "\n",
        "[BernoulliRBM] Iteration 4, pseudo-likelihood = -1127.39, time = 0.10s"
       ]
      },
      {
       "output_type": "stream",
       "stream": "stdout",
       "text": [
        "\n",
        "[BernoulliRBM] Iteration 5, pseudo-likelihood = -1273.26, time = 0.09s"
       ]
      },
      {
       "output_type": "stream",
       "stream": "stdout",
       "text": [
        "\n",
        "[BernoulliRBM] Iteration 6, pseudo-likelihood = -1505.81, time = 0.09s"
       ]
      },
      {
       "output_type": "stream",
       "stream": "stdout",
       "text": [
        "\n",
        "[BernoulliRBM] Iteration 7, pseudo-likelihood = -1733.43, time = 0.09s"
       ]
      },
      {
       "output_type": "stream",
       "stream": "stdout",
       "text": [
        "\n",
        "[BernoulliRBM] Iteration 8, pseudo-likelihood = -1852.65, time = 0.09s"
       ]
      },
      {
       "output_type": "stream",
       "stream": "stdout",
       "text": [
        "\n",
        "[BernoulliRBM] Iteration 9, pseudo-likelihood = -2046.15, time = 0.07s"
       ]
      },
      {
       "output_type": "stream",
       "stream": "stdout",
       "text": [
        "\n",
        "[BernoulliRBM] Iteration 10, pseudo-likelihood = -2253.57, time = 0.09s"
       ]
      },
      {
       "output_type": "stream",
       "stream": "stdout",
       "text": [
        "\n",
        "[BernoulliRBM] Iteration 1, pseudo-likelihood = -384.51, time = 0.05s"
       ]
      },
      {
       "output_type": "stream",
       "stream": "stdout",
       "text": [
        "\n",
        "[BernoulliRBM] Iteration 2, pseudo-likelihood = -625.52, time = 0.09s"
       ]
      },
      {
       "output_type": "stream",
       "stream": "stdout",
       "text": [
        "\n",
        "[BernoulliRBM] Iteration 3, pseudo-likelihood = -777.86, time = 0.09s"
       ]
      },
      {
       "output_type": "stream",
       "stream": "stdout",
       "text": [
        "\n",
        "[BernoulliRBM] Iteration 4, pseudo-likelihood = -937.75, time = 0.09s"
       ]
      },
      {
       "output_type": "stream",
       "stream": "stdout",
       "text": [
        "\n",
        "[BernoulliRBM] Iteration 5, pseudo-likelihood = -1127.72, time = 0.08s"
       ]
      },
      {
       "output_type": "stream",
       "stream": "stdout",
       "text": [
        "\n",
        "[BernoulliRBM] Iteration 6, pseudo-likelihood = -1281.21, time = 0.09s"
       ]
      },
      {
       "output_type": "stream",
       "stream": "stdout",
       "text": [
        "\n",
        "[BernoulliRBM] Iteration 7, pseudo-likelihood = -1462.40, time = 0.10s"
       ]
      },
      {
       "output_type": "stream",
       "stream": "stdout",
       "text": [
        "\n",
        "[BernoulliRBM] Iteration 8, pseudo-likelihood = -1700.69, time = 0.08s"
       ]
      },
      {
       "output_type": "stream",
       "stream": "stdout",
       "text": [
        "\n",
        "[BernoulliRBM] Iteration 9, pseudo-likelihood = -1941.15, time = 0.08s"
       ]
      },
      {
       "output_type": "stream",
       "stream": "stdout",
       "text": [
        "\n",
        "[BernoulliRBM] Iteration 10, pseudo-likelihood = -2183.61, time = 0.09s"
       ]
      },
      {
       "output_type": "stream",
       "stream": "stdout",
       "text": [
        "\n",
        "[BernoulliRBM] Iteration 1, pseudo-likelihood = -495.35, time = 0.05s"
       ]
      },
      {
       "output_type": "stream",
       "stream": "stdout",
       "text": [
        "\n",
        "[BernoulliRBM] Iteration 2, pseudo-likelihood = -811.75, time = 0.09s"
       ]
      },
      {
       "output_type": "stream",
       "stream": "stdout",
       "text": [
        "\n",
        "[BernoulliRBM] Iteration 3, pseudo-likelihood = -1054.56, time = 0.08s"
       ]
      },
      {
       "output_type": "stream",
       "stream": "stdout",
       "text": [
        "\n",
        "[BernoulliRBM] Iteration 4, pseudo-likelihood = -1193.65, time = 0.09s"
       ]
      },
      {
       "output_type": "stream",
       "stream": "stdout",
       "text": [
        "\n",
        "[BernoulliRBM] Iteration 5, pseudo-likelihood = -1380.17, time = 0.09s"
       ]
      },
      {
       "output_type": "stream",
       "stream": "stdout",
       "text": [
        "\n",
        "[BernoulliRBM] Iteration 6, pseudo-likelihood = -1676.95, time = 0.09s"
       ]
      },
      {
       "output_type": "stream",
       "stream": "stdout",
       "text": [
        "\n",
        "[BernoulliRBM] Iteration 7, pseudo-likelihood = -1863.89, time = 0.09s"
       ]
      },
      {
       "output_type": "stream",
       "stream": "stdout",
       "text": [
        "\n",
        "[BernoulliRBM] Iteration 8, pseudo-likelihood = -2108.46, time = 0.08s"
       ]
      },
      {
       "output_type": "stream",
       "stream": "stdout",
       "text": [
        "\n",
        "[BernoulliRBM] Iteration 9, pseudo-likelihood = -2319.70, time = 0.09s"
       ]
      },
      {
       "output_type": "stream",
       "stream": "stdout",
       "text": [
        "\n",
        "[BernoulliRBM] Iteration 10, pseudo-likelihood = -2475.96, time = 0.09s"
       ]
      },
      {
       "output_type": "stream",
       "stream": "stdout",
       "text": [
        "\n",
        "[BernoulliRBM] Iteration 1, pseudo-likelihood = -476.58, time = 0.05s"
       ]
      },
      {
       "output_type": "stream",
       "stream": "stdout",
       "text": [
        "\n",
        "[BernoulliRBM] Iteration 2, pseudo-likelihood = -813.96, time = 0.09s"
       ]
      },
      {
       "output_type": "stream",
       "stream": "stdout",
       "text": [
        "\n",
        "[BernoulliRBM] Iteration 3, pseudo-likelihood = -989.60, time = 0.10s"
       ]
      },
      {
       "output_type": "stream",
       "stream": "stdout",
       "text": [
        "\n",
        "[BernoulliRBM] Iteration 4, pseudo-likelihood = -1305.54, time = 0.08s"
       ]
      },
      {
       "output_type": "stream",
       "stream": "stdout",
       "text": [
        "\n",
        "[BernoulliRBM] Iteration 5, pseudo-likelihood = -1541.45, time = 0.09s"
       ]
      },
      {
       "output_type": "stream",
       "stream": "stdout",
       "text": [
        "\n",
        "[BernoulliRBM] Iteration 6, pseudo-likelihood = -1973.63, time = 0.10s"
       ]
      },
      {
       "output_type": "stream",
       "stream": "stdout",
       "text": [
        "\n",
        "[BernoulliRBM] Iteration 7, pseudo-likelihood = -2455.56, time = 0.09s"
       ]
      },
      {
       "output_type": "stream",
       "stream": "stdout",
       "text": [
        "\n",
        "[BernoulliRBM] Iteration 8, pseudo-likelihood = -2759.85, time = 0.08s"
       ]
      },
      {
       "output_type": "stream",
       "stream": "stdout",
       "text": [
        "\n",
        "[BernoulliRBM] Iteration 9, pseudo-likelihood = -3111.87, time = 0.09s"
       ]
      },
      {
       "output_type": "stream",
       "stream": "stdout",
       "text": [
        "\n",
        "[BernoulliRBM] Iteration 10, pseudo-likelihood = -3473.67, time = 0.07s"
       ]
      },
      {
       "output_type": "stream",
       "stream": "stdout",
       "text": [
        "\n",
        "[BernoulliRBM] Iteration 1, pseudo-likelihood = -519.32, time = 0.06s"
       ]
      },
      {
       "output_type": "stream",
       "stream": "stdout",
       "text": [
        "\n",
        "[BernoulliRBM] Iteration 2, pseudo-likelihood = -806.32, time = 0.10s"
       ]
      },
      {
       "output_type": "stream",
       "stream": "stdout",
       "text": [
        "\n",
        "[BernoulliRBM] Iteration 3, pseudo-likelihood = -1117.17, time = 0.09s"
       ]
      },
      {
       "output_type": "stream",
       "stream": "stdout",
       "text": [
        "\n",
        "[BernoulliRBM] Iteration 4, pseudo-likelihood = -1303.26, time = 0.09s"
       ]
      },
      {
       "output_type": "stream",
       "stream": "stdout",
       "text": [
        "\n",
        "[BernoulliRBM] Iteration 5, pseudo-likelihood = -1463.94, time = 0.09s"
       ]
      },
      {
       "output_type": "stream",
       "stream": "stdout",
       "text": [
        "\n",
        "[BernoulliRBM] Iteration 6, pseudo-likelihood = -1734.75, time = 0.09s"
       ]
      },
      {
       "output_type": "stream",
       "stream": "stdout",
       "text": [
        "\n",
        "[BernoulliRBM] Iteration 7, pseudo-likelihood = -1924.65, time = 0.09s"
       ]
      },
      {
       "output_type": "stream",
       "stream": "stdout",
       "text": [
        "\n",
        "[BernoulliRBM] Iteration 8, pseudo-likelihood = -2211.90, time = 0.08s"
       ]
      },
      {
       "output_type": "stream",
       "stream": "stdout",
       "text": [
        "\n",
        "[BernoulliRBM] Iteration 9, pseudo-likelihood = -2455.62, time = 0.09s"
       ]
      },
      {
       "output_type": "stream",
       "stream": "stdout",
       "text": [
        "\n",
        "[BernoulliRBM] Iteration 10, pseudo-likelihood = -2683.53, time = 0.08s"
       ]
      },
      {
       "output_type": "stream",
       "stream": "stdout",
       "text": [
        "\n",
        "[BernoulliRBM] Iteration 1, pseudo-likelihood = -608.47, time = 0.05s"
       ]
      },
      {
       "output_type": "stream",
       "stream": "stdout",
       "text": [
        "\n",
        "[BernoulliRBM] Iteration 2, pseudo-likelihood = -1406.75, time = 0.09s"
       ]
      },
      {
       "output_type": "stream",
       "stream": "stdout",
       "text": [
        "\n",
        "[BernoulliRBM] Iteration 3, pseudo-likelihood = -2191.16, time = 0.10s"
       ]
      },
      {
       "output_type": "stream",
       "stream": "stdout",
       "text": [
        "\n",
        "[BernoulliRBM] Iteration 4, pseudo-likelihood = -2709.07, time = 0.08s"
       ]
      },
      {
       "output_type": "stream",
       "stream": "stdout",
       "text": [
        "\n",
        "[BernoulliRBM] Iteration 5, pseudo-likelihood = -3375.52, time = 0.08s"
       ]
      },
      {
       "output_type": "stream",
       "stream": "stdout",
       "text": [
        "\n",
        "[BernoulliRBM] Iteration 6, pseudo-likelihood = -4083.27, time = 0.09s"
       ]
      },
      {
       "output_type": "stream",
       "stream": "stdout",
       "text": [
        "\n",
        "[BernoulliRBM] Iteration 7, pseudo-likelihood = -4725.04, time = 0.08s"
       ]
      },
      {
       "output_type": "stream",
       "stream": "stdout",
       "text": [
        "\n",
        "[BernoulliRBM] Iteration 8, pseudo-likelihood = -5361.02, time = 0.09s"
       ]
      },
      {
       "output_type": "stream",
       "stream": "stdout",
       "text": [
        "\n",
        "[BernoulliRBM] Iteration 9, pseudo-likelihood = -6038.13, time = 0.09s"
       ]
      },
      {
       "output_type": "stream",
       "stream": "stdout",
       "text": [
        "\n",
        "[BernoulliRBM] Iteration 10, pseudo-likelihood = -6731.49, time = 0.09s"
       ]
      },
      {
       "output_type": "stream",
       "stream": "stdout",
       "text": [
        "\n",
        "[BernoulliRBM] Iteration 1, pseudo-likelihood = -603.97, time = 0.06s"
       ]
      },
      {
       "output_type": "stream",
       "stream": "stdout",
       "text": [
        "\n",
        "[BernoulliRBM] Iteration 2, pseudo-likelihood = -1093.26, time = 0.11s"
       ]
      },
      {
       "output_type": "stream",
       "stream": "stdout",
       "text": [
        "\n",
        "[BernoulliRBM] Iteration 3, pseudo-likelihood = -1494.62, time = 0.10s"
       ]
      },
      {
       "output_type": "stream",
       "stream": "stdout",
       "text": [
        "\n",
        "[BernoulliRBM] Iteration 4, pseudo-likelihood = -2015.84, time = 0.11s"
       ]
      },
      {
       "output_type": "stream",
       "stream": "stdout",
       "text": [
        "\n",
        "[BernoulliRBM] Iteration 5, pseudo-likelihood = -2761.47, time = 0.10s"
       ]
      },
      {
       "output_type": "stream",
       "stream": "stdout",
       "text": [
        "\n",
        "[BernoulliRBM] Iteration 6, pseudo-likelihood = -2987.55, time = 0.10s"
       ]
      },
      {
       "output_type": "stream",
       "stream": "stdout",
       "text": [
        "\n",
        "[BernoulliRBM] Iteration 7, pseudo-likelihood = -3445.79, time = 0.10s"
       ]
      },
      {
       "output_type": "stream",
       "stream": "stdout",
       "text": [
        "\n",
        "[BernoulliRBM] Iteration 8, pseudo-likelihood = -3800.22, time = 0.09s"
       ]
      },
      {
       "output_type": "stream",
       "stream": "stdout",
       "text": [
        "\n",
        "[BernoulliRBM] Iteration 9, pseudo-likelihood = -4579.94, time = 0.10s"
       ]
      },
      {
       "output_type": "stream",
       "stream": "stdout",
       "text": [
        "\n",
        "[BernoulliRBM] Iteration 10, pseudo-likelihood = -4817.88, time = 0.10s"
       ]
      },
      {
       "output_type": "stream",
       "stream": "stdout",
       "text": [
        "\n",
        "[BernoulliRBM] Iteration 1, pseudo-likelihood = -650.69, time = 0.06s"
       ]
      },
      {
       "output_type": "stream",
       "stream": "stdout",
       "text": [
        "\n",
        "[BernoulliRBM] Iteration 2, pseudo-likelihood = -782.30, time = 0.09s"
       ]
      },
      {
       "output_type": "stream",
       "stream": "stdout",
       "text": [
        "\n",
        "[BernoulliRBM] Iteration 3, pseudo-likelihood = -1076.77, time = 0.11s"
       ]
      },
      {
       "output_type": "stream",
       "stream": "stdout",
       "text": [
        "\n",
        "[BernoulliRBM] Iteration 4, pseudo-likelihood = -1393.99, time = 0.10s"
       ]
      },
      {
       "output_type": "stream",
       "stream": "stdout",
       "text": [
        "\n",
        "[BernoulliRBM] Iteration 5, pseudo-likelihood = -1600.65, time = 0.08s"
       ]
      },
      {
       "output_type": "stream",
       "stream": "stdout",
       "text": [
        "\n",
        "[BernoulliRBM] Iteration 6, pseudo-likelihood = -1880.55, time = 0.10s"
       ]
      },
      {
       "output_type": "stream",
       "stream": "stdout",
       "text": [
        "\n",
        "[BernoulliRBM] Iteration 7, pseudo-likelihood = -2279.43, time = 0.10s"
       ]
      },
      {
       "output_type": "stream",
       "stream": "stdout",
       "text": [
        "\n",
        "[BernoulliRBM] Iteration 8, pseudo-likelihood = -2498.25, time = 0.10s"
       ]
      },
      {
       "output_type": "stream",
       "stream": "stdout",
       "text": [
        "\n",
        "[BernoulliRBM] Iteration 9, pseudo-likelihood = -2728.94, time = 0.09s"
       ]
      },
      {
       "output_type": "stream",
       "stream": "stdout",
       "text": [
        "\n",
        "[BernoulliRBM] Iteration 10, pseudo-likelihood = -3046.65, time = 0.10s"
       ]
      },
      {
       "output_type": "stream",
       "stream": "stdout",
       "text": [
        "\n",
        "[BernoulliRBM] Iteration 1, pseudo-likelihood = -464.24, time = 0.07s"
       ]
      },
      {
       "output_type": "stream",
       "stream": "stdout",
       "text": [
        "\n",
        "[BernoulliRBM] Iteration 2, pseudo-likelihood = -1360.59, time = 0.11s"
       ]
      },
      {
       "output_type": "stream",
       "stream": "stdout",
       "text": [
        "\n",
        "[BernoulliRBM] Iteration 3, pseudo-likelihood = -2375.08, time = 0.11s"
       ]
      },
      {
       "output_type": "stream",
       "stream": "stdout",
       "text": [
        "\n",
        "[BernoulliRBM] Iteration 4, pseudo-likelihood = -3403.54, time = 0.10s"
       ]
      },
      {
       "output_type": "stream",
       "stream": "stdout",
       "text": [
        "\n",
        "[BernoulliRBM] Iteration 5, pseudo-likelihood = -3940.32, time = 0.10s"
       ]
      },
      {
       "output_type": "stream",
       "stream": "stdout",
       "text": [
        "\n",
        "[BernoulliRBM] Iteration 6, pseudo-likelihood = -4165.87, time = 0.10s"
       ]
      },
      {
       "output_type": "stream",
       "stream": "stdout",
       "text": [
        "\n",
        "[BernoulliRBM] Iteration 7, pseudo-likelihood = -4526.29, time = 0.09s"
       ]
      },
      {
       "output_type": "stream",
       "stream": "stdout",
       "text": [
        "\n",
        "[BernoulliRBM] Iteration 8, pseudo-likelihood = -4834.73, time = 0.10s"
       ]
      },
      {
       "output_type": "stream",
       "stream": "stdout",
       "text": [
        "\n",
        "[BernoulliRBM] Iteration 9, pseudo-likelihood = -5210.09, time = 0.09s"
       ]
      },
      {
       "output_type": "stream",
       "stream": "stdout",
       "text": [
        "\n",
        "[BernoulliRBM] Iteration 10, pseudo-likelihood = -5548.47, time = 0.09s"
       ]
      },
      {
       "output_type": "stream",
       "stream": "stdout",
       "text": [
        "\n",
        "[BernoulliRBM] Iteration 1, pseudo-likelihood = -472.86, time = 0.06s"
       ]
      },
      {
       "output_type": "stream",
       "stream": "stdout",
       "text": [
        "\n",
        "[BernoulliRBM] Iteration 2, pseudo-likelihood = -764.39, time = 0.10s"
       ]
      },
      {
       "output_type": "stream",
       "stream": "stdout",
       "text": [
        "\n",
        "[BernoulliRBM] Iteration 3, pseudo-likelihood = -1033.31, time = 0.11s"
       ]
      },
      {
       "output_type": "stream",
       "stream": "stdout",
       "text": [
        "\n",
        "[BernoulliRBM] Iteration 4, pseudo-likelihood = -1128.77, time = 0.11s"
       ]
      },
      {
       "output_type": "stream",
       "stream": "stdout",
       "text": [
        "\n",
        "[BernoulliRBM] Iteration 5, pseudo-likelihood = -1395.12, time = 0.10s"
       ]
      },
      {
       "output_type": "stream",
       "stream": "stdout",
       "text": [
        "\n",
        "[BernoulliRBM] Iteration 6, pseudo-likelihood = -1748.58, time = 0.11s"
       ]
      },
      {
       "output_type": "stream",
       "stream": "stdout",
       "text": [
        "\n",
        "[BernoulliRBM] Iteration 7, pseudo-likelihood = -2133.27, time = 0.10s"
       ]
      },
      {
       "output_type": "stream",
       "stream": "stdout",
       "text": [
        "\n",
        "[BernoulliRBM] Iteration 8, pseudo-likelihood = -2529.32, time = 0.10s"
       ]
      },
      {
       "output_type": "stream",
       "stream": "stdout",
       "text": [
        "\n",
        "[BernoulliRBM] Iteration 9, pseudo-likelihood = -2953.37, time = 0.11s"
       ]
      },
      {
       "output_type": "stream",
       "stream": "stdout",
       "text": [
        "\n",
        "[BernoulliRBM] Iteration 10, pseudo-likelihood = -3381.79, time = 0.10s"
       ]
      },
      {
       "output_type": "stream",
       "stream": "stdout",
       "text": [
        "\n",
        "[BernoulliRBM] Iteration 1, pseudo-likelihood = -521.00, time = 0.06s"
       ]
      },
      {
       "output_type": "stream",
       "stream": "stdout",
       "text": [
        "\n",
        "[BernoulliRBM] Iteration 2, pseudo-likelihood = -1048.88, time = 0.10s"
       ]
      },
      {
       "output_type": "stream",
       "stream": "stdout",
       "text": [
        "\n",
        "[BernoulliRBM] Iteration 3, pseudo-likelihood = -1172.83, time = 0.10s"
       ]
      },
      {
       "output_type": "stream",
       "stream": "stdout",
       "text": [
        "\n",
        "[BernoulliRBM] Iteration 4, pseudo-likelihood = -1264.42, time = 0.11s"
       ]
      },
      {
       "output_type": "stream",
       "stream": "stdout",
       "text": [
        "\n",
        "[BernoulliRBM] Iteration 5, pseudo-likelihood = -1417.21, time = 0.09s"
       ]
      },
      {
       "output_type": "stream",
       "stream": "stdout",
       "text": [
        "\n",
        "[BernoulliRBM] Iteration 6, pseudo-likelihood = -1589.29, time = 0.10s"
       ]
      },
      {
       "output_type": "stream",
       "stream": "stdout",
       "text": [
        "\n",
        "[BernoulliRBM] Iteration 7, pseudo-likelihood = -1791.15, time = 0.11s"
       ]
      },
      {
       "output_type": "stream",
       "stream": "stdout",
       "text": [
        "\n",
        "[BernoulliRBM] Iteration 8, pseudo-likelihood = -1912.03, time = 0.11s"
       ]
      },
      {
       "output_type": "stream",
       "stream": "stdout",
       "text": [
        "\n",
        "[BernoulliRBM] Iteration 9, pseudo-likelihood = -2010.81, time = 0.10s"
       ]
      },
      {
       "output_type": "stream",
       "stream": "stdout",
       "text": [
        "\n",
        "[BernoulliRBM] Iteration 10, pseudo-likelihood = -2182.83, time = 0.10s"
       ]
      },
      {
       "output_type": "stream",
       "stream": "stdout",
       "text": [
        "\n",
        "[BernoulliRBM] Iteration 1, pseudo-likelihood = -366.25, time = 0.06s"
       ]
      },
      {
       "output_type": "stream",
       "stream": "stdout",
       "text": [
        "\n",
        "[BernoulliRBM] Iteration 2, pseudo-likelihood = -738.70, time = 0.11s"
       ]
      },
      {
       "output_type": "stream",
       "stream": "stdout",
       "text": [
        "\n",
        "[BernoulliRBM] Iteration 3, pseudo-likelihood = -1020.53, time = 0.10s"
       ]
      },
      {
       "output_type": "stream",
       "stream": "stdout",
       "text": [
        "\n",
        "[BernoulliRBM] Iteration 4, pseudo-likelihood = -1246.90, time = 0.10s"
       ]
      },
      {
       "output_type": "stream",
       "stream": "stdout",
       "text": [
        "\n",
        "[BernoulliRBM] Iteration 5, pseudo-likelihood = -1384.91, time = 0.12s"
       ]
      },
      {
       "output_type": "stream",
       "stream": "stdout",
       "text": [
        "\n",
        "[BernoulliRBM] Iteration 6, pseudo-likelihood = -1633.21, time = 0.10s"
       ]
      },
      {
       "output_type": "stream",
       "stream": "stdout",
       "text": [
        "\n",
        "[BernoulliRBM] Iteration 7, pseudo-likelihood = -1786.87, time = 0.09s"
       ]
      },
      {
       "output_type": "stream",
       "stream": "stdout",
       "text": [
        "\n",
        "[BernoulliRBM] Iteration 8, pseudo-likelihood = -1988.51, time = 0.09s"
       ]
      },
      {
       "output_type": "stream",
       "stream": "stdout",
       "text": [
        "\n",
        "[BernoulliRBM] Iteration 9, pseudo-likelihood = -2198.05, time = 0.09s"
       ]
      },
      {
       "output_type": "stream",
       "stream": "stdout",
       "text": [
        "\n",
        "[BernoulliRBM] Iteration 10, pseudo-likelihood = -2420.44, time = 0.10s"
       ]
      },
      {
       "output_type": "stream",
       "stream": "stdout",
       "text": [
        "\n",
        "[BernoulliRBM] Iteration 1, pseudo-likelihood = -562.49, time = 0.06s"
       ]
      },
      {
       "output_type": "stream",
       "stream": "stdout",
       "text": [
        "\n",
        "[BernoulliRBM] Iteration 2, pseudo-likelihood = -864.34, time = 0.10s"
       ]
      },
      {
       "output_type": "stream",
       "stream": "stdout",
       "text": [
        "\n",
        "[BernoulliRBM] Iteration 3, pseudo-likelihood = -1115.79, time = 0.11s"
       ]
      },
      {
       "output_type": "stream",
       "stream": "stdout",
       "text": [
        "\n",
        "[BernoulliRBM] Iteration 4, pseudo-likelihood = -1289.97, time = 0.10s"
       ]
      },
      {
       "output_type": "stream",
       "stream": "stdout",
       "text": [
        "\n",
        "[BernoulliRBM] Iteration 5, pseudo-likelihood = -1444.93, time = 0.10s"
       ]
      },
      {
       "output_type": "stream",
       "stream": "stdout",
       "text": [
        "\n",
        "[BernoulliRBM] Iteration 6, pseudo-likelihood = -1651.94, time = 0.10s"
       ]
      },
      {
       "output_type": "stream",
       "stream": "stdout",
       "text": [
        "\n",
        "[BernoulliRBM] Iteration 7, pseudo-likelihood = -1967.80, time = 0.10s"
       ]
      },
      {
       "output_type": "stream",
       "stream": "stdout",
       "text": [
        "\n",
        "[BernoulliRBM] Iteration 8, pseudo-likelihood = -2193.10, time = 0.10s"
       ]
      },
      {
       "output_type": "stream",
       "stream": "stdout",
       "text": [
        "\n",
        "[BernoulliRBM] Iteration 9, pseudo-likelihood = -2342.05, time = 0.09s"
       ]
      },
      {
       "output_type": "stream",
       "stream": "stdout",
       "text": [
        "\n",
        "[BernoulliRBM] Iteration 10, pseudo-likelihood = -2555.20, time = 0.09s"
       ]
      },
      {
       "output_type": "stream",
       "stream": "stdout",
       "text": [
        "\n",
        "[BernoulliRBM] Iteration 1, pseudo-likelihood = -538.09, time = 0.05s"
       ]
      },
      {
       "output_type": "stream",
       "stream": "stdout",
       "text": [
        "\n",
        "[BernoulliRBM] Iteration 2, pseudo-likelihood = -862.56, time = 0.11s"
       ]
      },
      {
       "output_type": "stream",
       "stream": "stdout",
       "text": [
        "\n",
        "[BernoulliRBM] Iteration 3, pseudo-likelihood = -959.51, time = 0.10s"
       ]
      },
      {
       "output_type": "stream",
       "stream": "stdout",
       "text": [
        "\n",
        "[BernoulliRBM] Iteration 4, pseudo-likelihood = -1148.97, time = 0.10s"
       ]
      },
      {
       "output_type": "stream",
       "stream": "stdout",
       "text": [
        "\n",
        "[BernoulliRBM] Iteration 5, pseudo-likelihood = -1356.39, time = 0.10s"
       ]
      },
      {
       "output_type": "stream",
       "stream": "stdout",
       "text": [
        "\n",
        "[BernoulliRBM] Iteration 6, pseudo-likelihood = -1607.61, time = 0.09s"
       ]
      },
      {
       "output_type": "stream",
       "stream": "stdout",
       "text": [
        "\n",
        "[BernoulliRBM] Iteration 7, pseudo-likelihood = -1776.04, time = 0.10s"
       ]
      },
      {
       "output_type": "stream",
       "stream": "stdout",
       "text": [
        "\n",
        "[BernoulliRBM] Iteration 8, pseudo-likelihood = -1952.29, time = 0.09s"
       ]
      },
      {
       "output_type": "stream",
       "stream": "stdout",
       "text": [
        "\n",
        "[BernoulliRBM] Iteration 9, pseudo-likelihood = -2016.15, time = 0.10s"
       ]
      },
      {
       "output_type": "stream",
       "stream": "stdout",
       "text": [
        "\n",
        "[BernoulliRBM] Iteration 10, pseudo-likelihood = -2158.22, time = 0.10s"
       ]
      },
      {
       "output_type": "stream",
       "stream": "stdout",
       "text": [
        "\n",
        "[BernoulliRBM] Iteration 1, pseudo-likelihood = -589.96, time = 0.06s"
       ]
      },
      {
       "output_type": "stream",
       "stream": "stdout",
       "text": [
        "\n",
        "[BernoulliRBM] Iteration 2, pseudo-likelihood = -957.45, time = 0.11s"
       ]
      },
      {
       "output_type": "stream",
       "stream": "stdout",
       "text": [
        "\n",
        "[BernoulliRBM] Iteration 3, pseudo-likelihood = -1198.24, time = 0.10s"
       ]
      },
      {
       "output_type": "stream",
       "stream": "stdout",
       "text": [
        "\n",
        "[BernoulliRBM] Iteration 4, pseudo-likelihood = -1430.53, time = 0.09s"
       ]
      },
      {
       "output_type": "stream",
       "stream": "stdout",
       "text": [
        "\n",
        "[BernoulliRBM] Iteration 5, pseudo-likelihood = -1599.42, time = 0.10s"
       ]
      },
      {
       "output_type": "stream",
       "stream": "stdout",
       "text": [
        "\n",
        "[BernoulliRBM] Iteration 6, pseudo-likelihood = -1894.61, time = 0.10s"
       ]
      },
      {
       "output_type": "stream",
       "stream": "stdout",
       "text": [
        "\n",
        "[BernoulliRBM] Iteration 7, pseudo-likelihood = -2087.54, time = 0.10s"
       ]
      },
      {
       "output_type": "stream",
       "stream": "stdout",
       "text": [
        "\n",
        "[BernoulliRBM] Iteration 8, pseudo-likelihood = -2339.35, time = 0.09s"
       ]
      },
      {
       "output_type": "stream",
       "stream": "stdout",
       "text": [
        "\n",
        "[BernoulliRBM] Iteration 9, pseudo-likelihood = -2583.62, time = 0.10s"
       ]
      },
      {
       "output_type": "stream",
       "stream": "stdout",
       "text": [
        "\n",
        "[BernoulliRBM] Iteration 10, pseudo-likelihood = -2671.84, time = 0.10s"
       ]
      },
      {
       "output_type": "stream",
       "stream": "stdout",
       "text": [
        "\n",
        "[BernoulliRBM] Iteration 1, pseudo-likelihood = -690.56, time = 0.05s"
       ]
      },
      {
       "output_type": "stream",
       "stream": "stdout",
       "text": [
        "\n",
        "[BernoulliRBM] Iteration 2, pseudo-likelihood = -1625.80, time = 0.10s"
       ]
      },
      {
       "output_type": "stream",
       "stream": "stdout",
       "text": [
        "\n",
        "[BernoulliRBM] Iteration 3, pseudo-likelihood = -2517.24, time = 0.11s"
       ]
      },
      {
       "output_type": "stream",
       "stream": "stdout",
       "text": [
        "\n",
        "[BernoulliRBM] Iteration 4, pseudo-likelihood = -3131.50, time = 0.11s"
       ]
      },
      {
       "output_type": "stream",
       "stream": "stdout",
       "text": [
        "\n",
        "[BernoulliRBM] Iteration 5, pseudo-likelihood = -3910.08, time = 0.11s"
       ]
      },
      {
       "output_type": "stream",
       "stream": "stdout",
       "text": [
        "\n",
        "[BernoulliRBM] Iteration 6, pseudo-likelihood = -4726.59, time = 0.10s"
       ]
      },
      {
       "output_type": "stream",
       "stream": "stdout",
       "text": [
        "\n",
        "[BernoulliRBM] Iteration 7, pseudo-likelihood = -5462.99, time = 0.10s"
       ]
      },
      {
       "output_type": "stream",
       "stream": "stdout",
       "text": [
        "\n",
        "[BernoulliRBM] Iteration 8, pseudo-likelihood = -6205.14, time = 0.09s"
       ]
      },
      {
       "output_type": "stream",
       "stream": "stdout",
       "text": [
        "\n",
        "[BernoulliRBM] Iteration 9, pseudo-likelihood = -6902.47, time = 0.09s"
       ]
      },
      {
       "output_type": "stream",
       "stream": "stdout",
       "text": [
        "\n",
        "[BernoulliRBM] Iteration 10, pseudo-likelihood = -7693.46, time = 0.10s"
       ]
      },
      {
       "output_type": "stream",
       "stream": "stdout",
       "text": [
        "\n",
        "[BernoulliRBM] Iteration 1, pseudo-likelihood = -776.32, time = 0.04s"
       ]
      },
      {
       "output_type": "stream",
       "stream": "stdout",
       "text": [
        "\n",
        "[BernoulliRBM] Iteration 2, pseudo-likelihood = -1434.93, time = 0.07s"
       ]
      },
      {
       "output_type": "stream",
       "stream": "stdout",
       "text": [
        "\n",
        "[BernoulliRBM] Iteration 3, pseudo-likelihood = -1846.45, time = 0.06s"
       ]
      },
      {
       "output_type": "stream",
       "stream": "stdout",
       "text": [
        "\n",
        "[BernoulliRBM] Iteration 4, pseudo-likelihood = -2498.09, time = 0.07s"
       ]
      },
      {
       "output_type": "stream",
       "stream": "stdout",
       "text": [
        "\n",
        "[BernoulliRBM] Iteration 5, pseudo-likelihood = -2874.08, time = 0.06s"
       ]
      },
      {
       "output_type": "stream",
       "stream": "stdout",
       "text": [
        "\n",
        "[BernoulliRBM] Iteration 6, pseudo-likelihood = -3221.02, time = 0.06s"
       ]
      },
      {
       "output_type": "stream",
       "stream": "stdout",
       "text": [
        "\n",
        "[BernoulliRBM] Iteration 7, pseudo-likelihood = -3884.65, time = 0.06s"
       ]
      },
      {
       "output_type": "stream",
       "stream": "stdout",
       "text": [
        "\n",
        "[BernoulliRBM] Iteration 8, pseudo-likelihood = -4253.80, time = 0.06s"
       ]
      },
      {
       "output_type": "stream",
       "stream": "stdout",
       "text": [
        "\n",
        "[BernoulliRBM] Iteration 9, pseudo-likelihood = -4705.03, time = 0.06s"
       ]
      },
      {
       "output_type": "stream",
       "stream": "stdout",
       "text": [
        "\n",
        "[BernoulliRBM] Iteration 10, pseudo-likelihood = -5065.33, time = 0.05s\n",
        "[BernoulliRBM] Iteration 1, pseudo-likelihood = -706.14, time = 0.04s"
       ]
      },
      {
       "output_type": "stream",
       "stream": "stdout",
       "text": [
        "\n",
        "[BernoulliRBM] Iteration 2, pseudo-likelihood = -761.39, time = 0.06s"
       ]
      },
      {
       "output_type": "stream",
       "stream": "stdout",
       "text": [
        "\n",
        "[BernoulliRBM] Iteration 3, pseudo-likelihood = -1002.54, time = 0.07s"
       ]
      },
      {
       "output_type": "stream",
       "stream": "stdout",
       "text": [
        "\n",
        "[BernoulliRBM] Iteration 4, pseudo-likelihood = -1175.18, time = 0.06s"
       ]
      },
      {
       "output_type": "stream",
       "stream": "stdout",
       "text": [
        "\n",
        "[BernoulliRBM] Iteration 5, pseudo-likelihood = -1409.09, time = 0.06s"
       ]
      },
      {
       "output_type": "stream",
       "stream": "stdout",
       "text": [
        "\n",
        "[BernoulliRBM] Iteration 6, pseudo-likelihood = -1625.85, time = 0.06s"
       ]
      },
      {
       "output_type": "stream",
       "stream": "stdout",
       "text": [
        "\n",
        "[BernoulliRBM] Iteration 7, pseudo-likelihood = -1826.87, time = 0.06s"
       ]
      },
      {
       "output_type": "stream",
       "stream": "stdout",
       "text": [
        "\n",
        "[BernoulliRBM] Iteration 8, pseudo-likelihood = -2030.47, time = 0.05s"
       ]
      },
      {
       "output_type": "stream",
       "stream": "stdout",
       "text": [
        "\n",
        "[BernoulliRBM] Iteration 9, pseudo-likelihood = -2245.94, time = 0.06s"
       ]
      },
      {
       "output_type": "stream",
       "stream": "stdout",
       "text": [
        "\n",
        "[BernoulliRBM] Iteration 10, pseudo-likelihood = -2424.57, time = 0.06s"
       ]
      },
      {
       "output_type": "stream",
       "stream": "stdout",
       "text": [
        "\n",
        "[BernoulliRBM] Iteration 1, pseudo-likelihood = -659.67, time = 0.04s"
       ]
      },
      {
       "output_type": "stream",
       "stream": "stdout",
       "text": [
        "\n",
        "[BernoulliRBM] Iteration 2, pseudo-likelihood = -1391.90, time = 0.06s"
       ]
      },
      {
       "output_type": "stream",
       "stream": "stdout",
       "text": [
        "\n",
        "[BernoulliRBM] Iteration 3, pseudo-likelihood = -2260.63, time = 0.06s"
       ]
      },
      {
       "output_type": "stream",
       "stream": "stdout",
       "text": [
        "\n",
        "[BernoulliRBM] Iteration 4, pseudo-likelihood = -2988.57, time = 0.06s"
       ]
      },
      {
       "output_type": "stream",
       "stream": "stdout",
       "text": [
        "\n",
        "[BernoulliRBM] Iteration 5, pseudo-likelihood = -3649.80, time = 0.06s"
       ]
      },
      {
       "output_type": "stream",
       "stream": "stdout",
       "text": [
        "\n",
        "[BernoulliRBM] Iteration 6, pseudo-likelihood = -4201.20, time = 0.06s"
       ]
      },
      {
       "output_type": "stream",
       "stream": "stdout",
       "text": [
        "\n",
        "[BernoulliRBM] Iteration 7, pseudo-likelihood = -4536.82, time = 0.06s"
       ]
      },
      {
       "output_type": "stream",
       "stream": "stdout",
       "text": [
        "\n",
        "[BernoulliRBM] Iteration 8, pseudo-likelihood = -5039.77, time = 0.06s"
       ]
      },
      {
       "output_type": "stream",
       "stream": "stdout",
       "text": [
        "\n",
        "[BernoulliRBM] Iteration 9, pseudo-likelihood = -5573.04, time = 0.06s"
       ]
      },
      {
       "output_type": "stream",
       "stream": "stdout",
       "text": [
        "\n",
        "[BernoulliRBM] Iteration 10, pseudo-likelihood = -6336.03, time = 0.06s"
       ]
      },
      {
       "output_type": "stream",
       "stream": "stdout",
       "text": [
        "\n",
        "[BernoulliRBM] Iteration 1, pseudo-likelihood = -551.26, time = 0.04s"
       ]
      },
      {
       "output_type": "stream",
       "stream": "stdout",
       "text": [
        "\n",
        "[BernoulliRBM] Iteration 2, pseudo-likelihood = -943.19, time = 0.06s"
       ]
      },
      {
       "output_type": "stream",
       "stream": "stdout",
       "text": [
        "\n",
        "[BernoulliRBM] Iteration 3, pseudo-likelihood = -1048.80, time = 0.06s"
       ]
      },
      {
       "output_type": "stream",
       "stream": "stdout",
       "text": [
        "\n",
        "[BernoulliRBM] Iteration 4, pseudo-likelihood = -1374.21, time = 0.06s"
       ]
      },
      {
       "output_type": "stream",
       "stream": "stdout",
       "text": [
        "\n",
        "[BernoulliRBM] Iteration 5, pseudo-likelihood = -1658.92, time = 0.06s"
       ]
      },
      {
       "output_type": "stream",
       "stream": "stdout",
       "text": [
        "\n",
        "[BernoulliRBM] Iteration 6, pseudo-likelihood = -1671.74, time = 0.06s"
       ]
      },
      {
       "output_type": "stream",
       "stream": "stdout",
       "text": [
        "\n",
        "[BernoulliRBM] Iteration 7, pseudo-likelihood = -1891.20, time = 0.06s"
       ]
      },
      {
       "output_type": "stream",
       "stream": "stdout",
       "text": [
        "\n",
        "[BernoulliRBM] Iteration 8, pseudo-likelihood = -1999.41, time = 0.06s"
       ]
      },
      {
       "output_type": "stream",
       "stream": "stdout",
       "text": [
        "\n",
        "[BernoulliRBM] Iteration 9, pseudo-likelihood = -1975.78, time = 0.05s"
       ]
      },
      {
       "output_type": "stream",
       "stream": "stdout",
       "text": [
        "\n",
        "[BernoulliRBM] Iteration 10, pseudo-likelihood = -2100.31, time = 0.05s"
       ]
      },
      {
       "output_type": "stream",
       "stream": "stdout",
       "text": [
        "\n",
        "[BernoulliRBM] Iteration 1, pseudo-likelihood = -618.05, time = 0.04s"
       ]
      },
      {
       "output_type": "stream",
       "stream": "stdout",
       "text": [
        "\n",
        "[BernoulliRBM] Iteration 2, pseudo-likelihood = -992.05, time = 0.07s"
       ]
      },
      {
       "output_type": "stream",
       "stream": "stdout",
       "text": [
        "\n",
        "[BernoulliRBM] Iteration 3, pseudo-likelihood = -1156.55, time = 0.06s"
       ]
      },
      {
       "output_type": "stream",
       "stream": "stdout",
       "text": [
        "\n",
        "[BernoulliRBM] Iteration 4, pseudo-likelihood = -1312.78, time = 0.06s"
       ]
      },
      {
       "output_type": "stream",
       "stream": "stdout",
       "text": [
        "\n",
        "[BernoulliRBM] Iteration 5, pseudo-likelihood = -1570.13, time = 0.06s"
       ]
      },
      {
       "output_type": "stream",
       "stream": "stdout",
       "text": [
        "\n",
        "[BernoulliRBM] Iteration 6, pseudo-likelihood = -1695.49, time = 0.06s"
       ]
      },
      {
       "output_type": "stream",
       "stream": "stdout",
       "text": [
        "\n",
        "[BernoulliRBM] Iteration 7, pseudo-likelihood = -1649.91, time = 0.06s"
       ]
      },
      {
       "output_type": "stream",
       "stream": "stdout",
       "text": [
        "\n",
        "[BernoulliRBM] Iteration 8, pseudo-likelihood = -1918.50, time = 0.06s"
       ]
      },
      {
       "output_type": "stream",
       "stream": "stdout",
       "text": [
        "\n",
        "[BernoulliRBM] Iteration 9, pseudo-likelihood = -2087.34, time = 0.05s"
       ]
      },
      {
       "output_type": "stream",
       "stream": "stdout",
       "text": [
        "\n",
        "[BernoulliRBM] Iteration 10, pseudo-likelihood = -2214.07, time = 0.06s"
       ]
      },
      {
       "output_type": "stream",
       "stream": "stdout",
       "text": [
        "\n",
        "[BernoulliRBM] Iteration 1, pseudo-likelihood = -526.59, time = 0.03s"
       ]
      },
      {
       "output_type": "stream",
       "stream": "stdout",
       "text": [
        "\n",
        "[BernoulliRBM] Iteration 2, pseudo-likelihood = -831.07, time = 0.06s"
       ]
      },
      {
       "output_type": "stream",
       "stream": "stdout",
       "text": [
        "\n",
        "[BernoulliRBM] Iteration 3, pseudo-likelihood = -947.68, time = 0.07s"
       ]
      },
      {
       "output_type": "stream",
       "stream": "stdout",
       "text": [
        "\n",
        "[BernoulliRBM] Iteration 4, pseudo-likelihood = -1109.14, time = 0.06s"
       ]
      },
      {
       "output_type": "stream",
       "stream": "stdout",
       "text": [
        "\n",
        "[BernoulliRBM] Iteration 5, pseudo-likelihood = -1350.46, time = 0.06s"
       ]
      },
      {
       "output_type": "stream",
       "stream": "stdout",
       "text": [
        "\n",
        "[BernoulliRBM] Iteration 6, pseudo-likelihood = -1244.88, time = 0.06s"
       ]
      },
      {
       "output_type": "stream",
       "stream": "stdout",
       "text": [
        "\n",
        "[BernoulliRBM] Iteration 7, pseudo-likelihood = -1442.61, time = 0.06s"
       ]
      },
      {
       "output_type": "stream",
       "stream": "stdout",
       "text": [
        "\n",
        "[BernoulliRBM] Iteration 8, pseudo-likelihood = -1654.24, time = 0.06s"
       ]
      },
      {
       "output_type": "stream",
       "stream": "stdout",
       "text": [
        "\n",
        "[BernoulliRBM] Iteration 9, pseudo-likelihood = -1683.26, time = 0.06s"
       ]
      },
      {
       "output_type": "stream",
       "stream": "stdout",
       "text": [
        "\n",
        "[BernoulliRBM] Iteration 10, pseudo-likelihood = -1871.57, time = 0.06s"
       ]
      },
      {
       "output_type": "stream",
       "stream": "stdout",
       "text": [
        "\n",
        "[BernoulliRBM] Iteration 1, pseudo-likelihood = -656.00, time = 0.04s"
       ]
      },
      {
       "output_type": "stream",
       "stream": "stdout",
       "text": [
        "\n",
        "[BernoulliRBM] Iteration 2, pseudo-likelihood = -1055.63, time = 0.05s"
       ]
      },
      {
       "output_type": "stream",
       "stream": "stdout",
       "text": [
        "\n",
        "[BernoulliRBM] Iteration 3, pseudo-likelihood = -1182.90, time = 0.06s"
       ]
      },
      {
       "output_type": "stream",
       "stream": "stdout",
       "text": [
        "\n",
        "[BernoulliRBM] Iteration 4, pseudo-likelihood = -1330.48, time = 0.06s"
       ]
      },
      {
       "output_type": "stream",
       "stream": "stdout",
       "text": [
        "\n",
        "[BernoulliRBM] Iteration 5, pseudo-likelihood = -1412.83, time = 0.06s"
       ]
      },
      {
       "output_type": "stream",
       "stream": "stdout",
       "text": [
        "\n",
        "[BernoulliRBM] Iteration 6, pseudo-likelihood = -1679.19, time = 0.06s"
       ]
      },
      {
       "output_type": "stream",
       "stream": "stdout",
       "text": [
        "\n",
        "[BernoulliRBM] Iteration 7, pseudo-likelihood = -1583.80, time = 0.06s"
       ]
      },
      {
       "output_type": "stream",
       "stream": "stdout",
       "text": [
        "\n",
        "[BernoulliRBM] Iteration 8, pseudo-likelihood = -1703.62, time = 0.05s"
       ]
      },
      {
       "output_type": "stream",
       "stream": "stdout",
       "text": [
        "\n",
        "[BernoulliRBM] Iteration 9, pseudo-likelihood = -2000.20, time = 0.05s"
       ]
      },
      {
       "output_type": "stream",
       "stream": "stdout",
       "text": [
        "\n",
        "[BernoulliRBM] Iteration 10, pseudo-likelihood = -2057.67, time = 0.06s"
       ]
      },
      {
       "output_type": "stream",
       "stream": "stdout",
       "text": [
        "\n",
        "[BernoulliRBM] Iteration 1, pseudo-likelihood = -666.89, time = 0.04s"
       ]
      },
      {
       "output_type": "stream",
       "stream": "stdout",
       "text": [
        "\n",
        "[BernoulliRBM] Iteration 2, pseudo-likelihood = -1052.95, time = 0.07s"
       ]
      },
      {
       "output_type": "stream",
       "stream": "stdout",
       "text": [
        "\n",
        "[BernoulliRBM] Iteration 3, pseudo-likelihood = -1144.39, time = 0.06s"
       ]
      },
      {
       "output_type": "stream",
       "stream": "stdout",
       "text": [
        "\n",
        "[BernoulliRBM] Iteration 4, pseudo-likelihood = -1399.71, time = 0.06s"
       ]
      },
      {
       "output_type": "stream",
       "stream": "stdout",
       "text": [
        "\n",
        "[BernoulliRBM] Iteration 5, pseudo-likelihood = -1560.71, time = 0.05s"
       ]
      },
      {
       "output_type": "stream",
       "stream": "stdout",
       "text": [
        "\n",
        "[BernoulliRBM] Iteration 6, pseudo-likelihood = -1688.36, time = 0.06s"
       ]
      },
      {
       "output_type": "stream",
       "stream": "stdout",
       "text": [
        "\n",
        "[BernoulliRBM] Iteration 7, pseudo-likelihood = -1867.43, time = 0.06s"
       ]
      },
      {
       "output_type": "stream",
       "stream": "stdout",
       "text": [
        "\n",
        "[BernoulliRBM] Iteration 8, pseudo-likelihood = -2059.41, time = 0.06s"
       ]
      },
      {
       "output_type": "stream",
       "stream": "stdout",
       "text": [
        "\n",
        "[BernoulliRBM] Iteration 9, pseudo-likelihood = -2108.03, time = 0.06s"
       ]
      },
      {
       "output_type": "stream",
       "stream": "stdout",
       "text": [
        "\n",
        "[BernoulliRBM] Iteration 10, pseudo-likelihood = -2282.63, time = 0.06s"
       ]
      },
      {
       "output_type": "stream",
       "stream": "stdout",
       "text": [
        "\n",
        "[BernoulliRBM] Iteration 1, pseudo-likelihood = -676.80, time = 0.04s"
       ]
      },
      {
       "output_type": "stream",
       "stream": "stdout",
       "text": [
        "\n",
        "[BernoulliRBM] Iteration 2, pseudo-likelihood = -1108.49, time = 0.06s"
       ]
      },
      {
       "output_type": "stream",
       "stream": "stdout",
       "text": [
        "\n",
        "[BernoulliRBM] Iteration 3, pseudo-likelihood = -1306.98, time = 0.06s"
       ]
      },
      {
       "output_type": "stream",
       "stream": "stdout",
       "text": [
        "\n",
        "[BernoulliRBM] Iteration 4, pseudo-likelihood = -1565.85, time = 0.06s"
       ]
      },
      {
       "output_type": "stream",
       "stream": "stdout",
       "text": [
        "\n",
        "[BernoulliRBM] Iteration 5, pseudo-likelihood = -1867.28, time = 0.06s"
       ]
      },
      {
       "output_type": "stream",
       "stream": "stdout",
       "text": [
        "\n",
        "[BernoulliRBM] Iteration 6, pseudo-likelihood = -1985.60, time = 0.06s"
       ]
      },
      {
       "output_type": "stream",
       "stream": "stdout",
       "text": [
        "\n",
        "[BernoulliRBM] Iteration 7, pseudo-likelihood = -2099.95, time = 0.06s"
       ]
      },
      {
       "output_type": "stream",
       "stream": "stdout",
       "text": [
        "\n",
        "[BernoulliRBM] Iteration 8, pseudo-likelihood = -2275.00, time = 0.05s"
       ]
      },
      {
       "output_type": "stream",
       "stream": "stdout",
       "text": [
        "\n",
        "[BernoulliRBM] Iteration 9, pseudo-likelihood = -2508.30, time = 0.06s"
       ]
      },
      {
       "output_type": "stream",
       "stream": "stdout",
       "text": [
        "\n",
        "[BernoulliRBM] Iteration 10, pseudo-likelihood = -2739.00, time = 0.06s"
       ]
      },
      {
       "output_type": "stream",
       "stream": "stdout",
       "text": [
        "\n",
        "[BernoulliRBM] Iteration 1, pseudo-likelihood = -787.75, time = 0.03s"
       ]
      },
      {
       "output_type": "stream",
       "stream": "stdout",
       "text": [
        "\n",
        "[BernoulliRBM] Iteration 2, pseudo-likelihood = -1244.50, time = 0.06s"
       ]
      },
      {
       "output_type": "stream",
       "stream": "stdout",
       "text": [
        "\n",
        "[BernoulliRBM] Iteration 3, pseudo-likelihood = -1418.67, time = 0.06s"
       ]
      },
      {
       "output_type": "stream",
       "stream": "stdout",
       "text": [
        "\n",
        "[BernoulliRBM] Iteration 4, pseudo-likelihood = -1522.73, time = 0.07s"
       ]
      },
      {
       "output_type": "stream",
       "stream": "stdout",
       "text": [
        "\n",
        "[BernoulliRBM] Iteration 5, pseudo-likelihood = -1698.22, time = 0.06s"
       ]
      },
      {
       "output_type": "stream",
       "stream": "stdout",
       "text": [
        "\n",
        "[BernoulliRBM] Iteration 6, pseudo-likelihood = -1921.35, time = 0.06s"
       ]
      },
      {
       "output_type": "stream",
       "stream": "stdout",
       "text": [
        "\n",
        "[BernoulliRBM] Iteration 7, pseudo-likelihood = -2148.79, time = 0.05s"
       ]
      },
      {
       "output_type": "stream",
       "stream": "stdout",
       "text": [
        "\n",
        "[BernoulliRBM] Iteration 8, pseudo-likelihood = -2337.03, time = 0.06s"
       ]
      },
      {
       "output_type": "stream",
       "stream": "stdout",
       "text": [
        "\n",
        "[BernoulliRBM] Iteration 9, pseudo-likelihood = -2365.81, time = 0.06s"
       ]
      },
      {
       "output_type": "stream",
       "stream": "stdout",
       "text": [
        "\n",
        "[BernoulliRBM] Iteration 10, pseudo-likelihood = -2683.15, time = 0.06s"
       ]
      },
      {
       "output_type": "stream",
       "stream": "stdout",
       "text": [
        "\n",
        "[BernoulliRBM] Iteration 1, pseudo-likelihood = -903.76, time = 0.05s"
       ]
      },
      {
       "output_type": "stream",
       "stream": "stdout",
       "text": [
        "\n",
        "[BernoulliRBM] Iteration 2, pseudo-likelihood = -1684.96, time = 0.08s"
       ]
      },
      {
       "output_type": "stream",
       "stream": "stdout",
       "text": [
        "\n",
        "[BernoulliRBM] Iteration 3, pseudo-likelihood = -2189.74, time = 0.08s"
       ]
      },
      {
       "output_type": "stream",
       "stream": "stdout",
       "text": [
        "\n",
        "[BernoulliRBM] Iteration 4, pseudo-likelihood = -2987.79, time = 0.07s"
       ]
      },
      {
       "output_type": "stream",
       "stream": "stdout",
       "text": [
        "\n",
        "[BernoulliRBM] Iteration 5, pseudo-likelihood = -3604.31, time = 0.06s"
       ]
      },
      {
       "output_type": "stream",
       "stream": "stdout",
       "text": [
        "\n",
        "[BernoulliRBM] Iteration 6, pseudo-likelihood = -4305.39, time = 0.06s"
       ]
      },
      {
       "output_type": "stream",
       "stream": "stdout",
       "text": [
        "\n",
        "[BernoulliRBM] Iteration 7, pseudo-likelihood = -5007.75, time = 0.07s"
       ]
      },
      {
       "output_type": "stream",
       "stream": "stdout",
       "text": [
        "\n",
        "[BernoulliRBM] Iteration 8, pseudo-likelihood = -5631.22, time = 0.07s"
       ]
      },
      {
       "output_type": "stream",
       "stream": "stdout",
       "text": [
        "\n",
        "[BernoulliRBM] Iteration 9, pseudo-likelihood = -5660.99, time = 0.07s"
       ]
      },
      {
       "output_type": "stream",
       "stream": "stdout",
       "text": [
        "\n",
        "[BernoulliRBM] Iteration 10, pseudo-likelihood = -5955.75, time = 0.07s"
       ]
      },
      {
       "output_type": "stream",
       "stream": "stdout",
       "text": [
        "\n",
        "[BernoulliRBM] Iteration 1, pseudo-likelihood = -854.64, time = 0.04s"
       ]
      },
      {
       "output_type": "stream",
       "stream": "stdout",
       "text": [
        "\n",
        "[BernoulliRBM] Iteration 2, pseudo-likelihood = -1040.65, time = 0.07s"
       ]
      },
      {
       "output_type": "stream",
       "stream": "stdout",
       "text": [
        "\n",
        "[BernoulliRBM] Iteration 3, pseudo-likelihood = -1276.58, time = 0.07s"
       ]
      },
      {
       "output_type": "stream",
       "stream": "stdout",
       "text": [
        "\n",
        "[BernoulliRBM] Iteration 4, pseudo-likelihood = -1507.91, time = 0.07s"
       ]
      },
      {
       "output_type": "stream",
       "stream": "stdout",
       "text": [
        "\n",
        "[BernoulliRBM] Iteration 5, pseudo-likelihood = -1945.95, time = 0.07s"
       ]
      },
      {
       "output_type": "stream",
       "stream": "stdout",
       "text": [
        "\n",
        "[BernoulliRBM] Iteration 6, pseudo-likelihood = -2279.36, time = 0.07s"
       ]
      },
      {
       "output_type": "stream",
       "stream": "stdout",
       "text": [
        "\n",
        "[BernoulliRBM] Iteration 7, pseudo-likelihood = -2630.99, time = 0.07s"
       ]
      },
      {
       "output_type": "stream",
       "stream": "stdout",
       "text": [
        "\n",
        "[BernoulliRBM] Iteration 8, pseudo-likelihood = -3001.01, time = 0.06s"
       ]
      },
      {
       "output_type": "stream",
       "stream": "stdout",
       "text": [
        "\n",
        "[BernoulliRBM] Iteration 9, pseudo-likelihood = -3349.28, time = 0.06s"
       ]
      },
      {
       "output_type": "stream",
       "stream": "stdout",
       "text": [
        "\n",
        "[BernoulliRBM] Iteration 10, pseudo-likelihood = -3620.93, time = 0.06s"
       ]
      },
      {
       "output_type": "stream",
       "stream": "stdout",
       "text": [
        "\n",
        "[BernoulliRBM] Iteration 1, pseudo-likelihood = -852.50, time = 0.04s"
       ]
      },
      {
       "output_type": "stream",
       "stream": "stdout",
       "text": [
        "\n",
        "[BernoulliRBM] Iteration 2, pseudo-likelihood = -1889.50, time = 0.07s"
       ]
      },
      {
       "output_type": "stream",
       "stream": "stdout",
       "text": [
        "\n",
        "[BernoulliRBM] Iteration 3, pseudo-likelihood = -3066.70, time = 0.07s"
       ]
      },
      {
       "output_type": "stream",
       "stream": "stdout",
       "text": [
        "\n",
        "[BernoulliRBM] Iteration 4, pseudo-likelihood = -3274.96, time = 0.07s"
       ]
      },
      {
       "output_type": "stream",
       "stream": "stdout",
       "text": [
        "\n",
        "[BernoulliRBM] Iteration 5, pseudo-likelihood = -3107.66, time = 0.08s"
       ]
      },
      {
       "output_type": "stream",
       "stream": "stdout",
       "text": [
        "\n",
        "[BernoulliRBM] Iteration 6, pseudo-likelihood = -3141.89, time = 0.07s"
       ]
      },
      {
       "output_type": "stream",
       "stream": "stdout",
       "text": [
        "\n",
        "[BernoulliRBM] Iteration 7, pseudo-likelihood = -2698.17, time = 0.07s"
       ]
      },
      {
       "output_type": "stream",
       "stream": "stdout",
       "text": [
        "\n",
        "[BernoulliRBM] Iteration 8, pseudo-likelihood = -2465.26, time = 0.07s"
       ]
      },
      {
       "output_type": "stream",
       "stream": "stdout",
       "text": [
        "\n",
        "[BernoulliRBM] Iteration 9, pseudo-likelihood = -2499.39, time = 0.07s"
       ]
      },
      {
       "output_type": "stream",
       "stream": "stdout",
       "text": [
        "\n",
        "[BernoulliRBM] Iteration 10, pseudo-likelihood = -2336.07, time = 0.07s"
       ]
      },
      {
       "output_type": "stream",
       "stream": "stdout",
       "text": [
        "\n",
        "[BernoulliRBM] Iteration 1, pseudo-likelihood = -700.10, time = 0.05s"
       ]
      },
      {
       "output_type": "stream",
       "stream": "stdout",
       "text": [
        "\n",
        "[BernoulliRBM] Iteration 2, pseudo-likelihood = -1425.43, time = 0.06s"
       ]
      },
      {
       "output_type": "stream",
       "stream": "stdout",
       "text": [
        "\n",
        "[BernoulliRBM] Iteration 3, pseudo-likelihood = -1896.11, time = 0.07s"
       ]
      },
      {
       "output_type": "stream",
       "stream": "stdout",
       "text": [
        "\n",
        "[BernoulliRBM] Iteration 4, pseudo-likelihood = -2569.25, time = 0.07s"
       ]
      },
      {
       "output_type": "stream",
       "stream": "stdout",
       "text": [
        "\n",
        "[BernoulliRBM] Iteration 5, pseudo-likelihood = -3179.94, time = 0.06s"
       ]
      },
      {
       "output_type": "stream",
       "stream": "stdout",
       "text": [
        "\n",
        "[BernoulliRBM] Iteration 6, pseudo-likelihood = -3913.52, time = 0.07s"
       ]
      },
      {
       "output_type": "stream",
       "stream": "stdout",
       "text": [
        "\n",
        "[BernoulliRBM] Iteration 7, pseudo-likelihood = -4469.02, time = 0.07s"
       ]
      },
      {
       "output_type": "stream",
       "stream": "stdout",
       "text": [
        "\n",
        "[BernoulliRBM] Iteration 8, pseudo-likelihood = -5278.43, time = 0.06s"
       ]
      },
      {
       "output_type": "stream",
       "stream": "stdout",
       "text": [
        "\n",
        "[BernoulliRBM] Iteration 9, pseudo-likelihood = -5888.24, time = 0.06s"
       ]
      },
      {
       "output_type": "stream",
       "stream": "stdout",
       "text": [
        "\n",
        "[BernoulliRBM] Iteration 10, pseudo-likelihood = -6603.68, time = 0.06s"
       ]
      },
      {
       "output_type": "stream",
       "stream": "stdout",
       "text": [
        "\n",
        "[BernoulliRBM] Iteration 1, pseudo-likelihood = -663.30, time = 0.05s"
       ]
      },
      {
       "output_type": "stream",
       "stream": "stdout",
       "text": [
        "\n",
        "[BernoulliRBM] Iteration 2, pseudo-likelihood = -1171.39, time = 0.07s"
       ]
      },
      {
       "output_type": "stream",
       "stream": "stdout",
       "text": [
        "\n",
        "[BernoulliRBM] Iteration 3, pseudo-likelihood = -1347.50, time = 0.07s"
       ]
      },
      {
       "output_type": "stream",
       "stream": "stdout",
       "text": [
        "\n",
        "[BernoulliRBM] Iteration 4, pseudo-likelihood = -1593.49, time = 0.07s"
       ]
      },
      {
       "output_type": "stream",
       "stream": "stdout",
       "text": [
        "\n",
        "[BernoulliRBM] Iteration 5, pseudo-likelihood = -1824.42, time = 0.07s"
       ]
      },
      {
       "output_type": "stream",
       "stream": "stdout",
       "text": [
        "\n",
        "[BernoulliRBM] Iteration 6, pseudo-likelihood = -2108.49, time = 0.07s"
       ]
      },
      {
       "output_type": "stream",
       "stream": "stdout",
       "text": [
        "\n",
        "[BernoulliRBM] Iteration 7, pseudo-likelihood = -2286.46, time = 0.07s"
       ]
      },
      {
       "output_type": "stream",
       "stream": "stdout",
       "text": [
        "\n",
        "[BernoulliRBM] Iteration 8, pseudo-likelihood = -2494.06, time = 0.06s"
       ]
      },
      {
       "output_type": "stream",
       "stream": "stdout",
       "text": [
        "\n",
        "[BernoulliRBM] Iteration 9, pseudo-likelihood = -2758.57, time = 0.07s"
       ]
      },
      {
       "output_type": "stream",
       "stream": "stdout",
       "text": [
        "\n",
        "[BernoulliRBM] Iteration 10, pseudo-likelihood = -2900.13, time = 0.07s"
       ]
      },
      {
       "output_type": "stream",
       "stream": "stdout",
       "text": [
        "\n",
        "[BernoulliRBM] Iteration 1, pseudo-likelihood = -555.68, time = 0.05s"
       ]
      },
      {
       "output_type": "stream",
       "stream": "stdout",
       "text": [
        "\n",
        "[BernoulliRBM] Iteration 2, pseudo-likelihood = -875.50, time = 0.07s"
       ]
      },
      {
       "output_type": "stream",
       "stream": "stdout",
       "text": [
        "\n",
        "[BernoulliRBM] Iteration 3, pseudo-likelihood = -1024.69, time = 0.07s"
       ]
      },
      {
       "output_type": "stream",
       "stream": "stdout",
       "text": [
        "\n",
        "[BernoulliRBM] Iteration 4, pseudo-likelihood = -1170.67, time = 0.08s"
       ]
      },
      {
       "output_type": "stream",
       "stream": "stdout",
       "text": [
        "\n",
        "[BernoulliRBM] Iteration 5, pseudo-likelihood = -1402.38, time = 0.08s"
       ]
      },
      {
       "output_type": "stream",
       "stream": "stdout",
       "text": [
        "\n",
        "[BernoulliRBM] Iteration 6, pseudo-likelihood = -1717.60, time = 0.08s"
       ]
      },
      {
       "output_type": "stream",
       "stream": "stdout",
       "text": [
        "\n",
        "[BernoulliRBM] Iteration 7, pseudo-likelihood = -2028.27, time = 0.08s"
       ]
      },
      {
       "output_type": "stream",
       "stream": "stdout",
       "text": [
        "\n",
        "[BernoulliRBM] Iteration 8, pseudo-likelihood = -2277.44, time = 0.08s"
       ]
      },
      {
       "output_type": "stream",
       "stream": "stdout",
       "text": [
        "\n",
        "[BernoulliRBM] Iteration 9, pseudo-likelihood = -2330.64, time = 0.07s"
       ]
      },
      {
       "output_type": "stream",
       "stream": "stdout",
       "text": [
        "\n",
        "[BernoulliRBM] Iteration 10, pseudo-likelihood = -2684.80, time = 0.07s"
       ]
      },
      {
       "output_type": "stream",
       "stream": "stdout",
       "text": [
        "\n",
        "[BernoulliRBM] Iteration 1, pseudo-likelihood = -713.38, time = 0.05s"
       ]
      },
      {
       "output_type": "stream",
       "stream": "stdout",
       "text": [
        "\n",
        "[BernoulliRBM] Iteration 2, pseudo-likelihood = -1199.02, time = 0.08s"
       ]
      },
      {
       "output_type": "stream",
       "stream": "stdout",
       "text": [
        "\n",
        "[BernoulliRBM] Iteration 3, pseudo-likelihood = -1345.34, time = 0.08s"
       ]
      },
      {
       "output_type": "stream",
       "stream": "stdout",
       "text": [
        "\n",
        "[BernoulliRBM] Iteration 4, pseudo-likelihood = -1490.89, time = 0.08s"
       ]
      },
      {
       "output_type": "stream",
       "stream": "stdout",
       "text": [
        "\n",
        "[BernoulliRBM] Iteration 5, pseudo-likelihood = -1650.65, time = 0.08s"
       ]
      },
      {
       "output_type": "stream",
       "stream": "stdout",
       "text": [
        "\n",
        "[BernoulliRBM] Iteration 6, pseudo-likelihood = -1781.54, time = 0.07s"
       ]
      },
      {
       "output_type": "stream",
       "stream": "stdout",
       "text": [
        "\n",
        "[BernoulliRBM] Iteration 7, pseudo-likelihood = -2092.93, time = 0.07s"
       ]
      },
      {
       "output_type": "stream",
       "stream": "stdout",
       "text": [
        "\n",
        "[BernoulliRBM] Iteration 8, pseudo-likelihood = -2221.71, time = 0.07s"
       ]
      },
      {
       "output_type": "stream",
       "stream": "stdout",
       "text": [
        "\n",
        "[BernoulliRBM] Iteration 9, pseudo-likelihood = -2437.96, time = 0.07s"
       ]
      },
      {
       "output_type": "stream",
       "stream": "stdout",
       "text": [
        "\n",
        "[BernoulliRBM] Iteration 10, pseudo-likelihood = -2629.69, time = 0.07s"
       ]
      },
      {
       "output_type": "stream",
       "stream": "stdout",
       "text": [
        "\n",
        "[BernoulliRBM] Iteration 1, pseudo-likelihood = -718.68, time = 0.04s"
       ]
      },
      {
       "output_type": "stream",
       "stream": "stdout",
       "text": [
        "\n",
        "[BernoulliRBM] Iteration 2, pseudo-likelihood = -1121.42, time = 0.08s"
       ]
      },
      {
       "output_type": "stream",
       "stream": "stdout",
       "text": [
        "\n",
        "[BernoulliRBM] Iteration 3, pseudo-likelihood = -1216.05, time = 0.08s"
       ]
      },
      {
       "output_type": "stream",
       "stream": "stdout",
       "text": [
        "\n",
        "[BernoulliRBM] Iteration 4, pseudo-likelihood = -1463.16, time = 0.08s"
       ]
      },
      {
       "output_type": "stream",
       "stream": "stdout",
       "text": [
        "\n",
        "[BernoulliRBM] Iteration 5, pseudo-likelihood = -1607.77, time = 0.07s"
       ]
      },
      {
       "output_type": "stream",
       "stream": "stdout",
       "text": [
        "\n",
        "[BernoulliRBM] Iteration 6, pseudo-likelihood = -1834.99, time = 0.06s"
       ]
      },
      {
       "output_type": "stream",
       "stream": "stdout",
       "text": [
        "\n",
        "[BernoulliRBM] Iteration 7, pseudo-likelihood = -2019.92, time = 0.06s"
       ]
      },
      {
       "output_type": "stream",
       "stream": "stdout",
       "text": [
        "\n",
        "[BernoulliRBM] Iteration 8, pseudo-likelihood = -2159.91, time = 0.06s"
       ]
      },
      {
       "output_type": "stream",
       "stream": "stdout",
       "text": [
        "\n",
        "[BernoulliRBM] Iteration 9, pseudo-likelihood = -2586.91, time = 0.06s"
       ]
      },
      {
       "output_type": "stream",
       "stream": "stdout",
       "text": [
        "\n",
        "[BernoulliRBM] Iteration 10, pseudo-likelihood = -2826.55, time = 0.07s"
       ]
      },
      {
       "output_type": "stream",
       "stream": "stdout",
       "text": [
        "\n",
        "[BernoulliRBM] Iteration 1, pseudo-likelihood = -760.05, time = 0.05s"
       ]
      },
      {
       "output_type": "stream",
       "stream": "stdout",
       "text": [
        "\n",
        "[BernoulliRBM] Iteration 2, pseudo-likelihood = -1264.85, time = 0.07s"
       ]
      },
      {
       "output_type": "stream",
       "stream": "stdout",
       "text": [
        "\n",
        "[BernoulliRBM] Iteration 3, pseudo-likelihood = -1525.23, time = 0.07s"
       ]
      },
      {
       "output_type": "stream",
       "stream": "stdout",
       "text": [
        "\n",
        "[BernoulliRBM] Iteration 4, pseudo-likelihood = -1762.42, time = 0.08s"
       ]
      },
      {
       "output_type": "stream",
       "stream": "stdout",
       "text": [
        "\n",
        "[BernoulliRBM] Iteration 5, pseudo-likelihood = -2173.69, time = 0.06s"
       ]
      },
      {
       "output_type": "stream",
       "stream": "stdout",
       "text": [
        "\n",
        "[BernoulliRBM] Iteration 6, pseudo-likelihood = -2345.64, time = 0.07s"
       ]
      },
      {
       "output_type": "stream",
       "stream": "stdout",
       "text": [
        "\n",
        "[BernoulliRBM] Iteration 7, pseudo-likelihood = -2582.10, time = 0.07s"
       ]
      },
      {
       "output_type": "stream",
       "stream": "stdout",
       "text": [
        "\n",
        "[BernoulliRBM] Iteration 8, pseudo-likelihood = -2792.79, time = 0.07s"
       ]
      },
      {
       "output_type": "stream",
       "stream": "stdout",
       "text": [
        "\n",
        "[BernoulliRBM] Iteration 9, pseudo-likelihood = -3104.86, time = 0.06s"
       ]
      },
      {
       "output_type": "stream",
       "stream": "stdout",
       "text": [
        "\n",
        "[BernoulliRBM] Iteration 10, pseudo-likelihood = -3465.99, time = 0.06s"
       ]
      },
      {
       "output_type": "stream",
       "stream": "stdout",
       "text": [
        "\n",
        "[BernoulliRBM] Iteration 1, pseudo-likelihood = -895.61, time = 0.04s"
       ]
      },
      {
       "output_type": "stream",
       "stream": "stdout",
       "text": [
        "\n",
        "[BernoulliRBM] Iteration 2, pseudo-likelihood = -1417.85, time = 0.07s"
       ]
      },
      {
       "output_type": "stream",
       "stream": "stdout",
       "text": [
        "\n",
        "[BernoulliRBM] Iteration 3, pseudo-likelihood = -1629.48, time = 0.07s"
       ]
      },
      {
       "output_type": "stream",
       "stream": "stdout",
       "text": [
        "\n",
        "[BernoulliRBM] Iteration 4, pseudo-likelihood = -1859.31, time = 0.07s"
       ]
      },
      {
       "output_type": "stream",
       "stream": "stdout",
       "text": [
        "\n",
        "[BernoulliRBM] Iteration 5, pseudo-likelihood = -2146.70, time = 0.06s"
       ]
      },
      {
       "output_type": "stream",
       "stream": "stdout",
       "text": [
        "\n",
        "[BernoulliRBM] Iteration 6, pseudo-likelihood = -2327.30, time = 0.06s"
       ]
      },
      {
       "output_type": "stream",
       "stream": "stdout",
       "text": [
        "\n",
        "[BernoulliRBM] Iteration 7, pseudo-likelihood = -2614.87, time = 0.06s"
       ]
      },
      {
       "output_type": "stream",
       "stream": "stdout",
       "text": [
        "\n",
        "[BernoulliRBM] Iteration 8, pseudo-likelihood = -2816.33, time = 0.07s"
       ]
      },
      {
       "output_type": "stream",
       "stream": "stdout",
       "text": [
        "\n",
        "[BernoulliRBM] Iteration 9, pseudo-likelihood = -3136.26, time = 0.06s"
       ]
      },
      {
       "output_type": "stream",
       "stream": "stdout",
       "text": [
        "\n",
        "[BernoulliRBM] Iteration 10, pseudo-likelihood = -3335.52, time = 0.06s"
       ]
      },
      {
       "output_type": "stream",
       "stream": "stdout",
       "text": [
        "\n",
        "[BernoulliRBM] Iteration 1, pseudo-likelihood = -1089.38, time = 0.05s"
       ]
      },
      {
       "output_type": "stream",
       "stream": "stdout",
       "text": [
        "\n",
        "[BernoulliRBM] Iteration 2, pseudo-likelihood = -2072.89, time = 0.08s"
       ]
      },
      {
       "output_type": "stream",
       "stream": "stdout",
       "text": [
        "\n",
        "[BernoulliRBM] Iteration 3, pseudo-likelihood = -2751.72, time = 0.08s"
       ]
      },
      {
       "output_type": "stream",
       "stream": "stdout",
       "text": [
        "\n",
        "[BernoulliRBM] Iteration 4, pseudo-likelihood = -3825.14, time = 0.08s"
       ]
      },
      {
       "output_type": "stream",
       "stream": "stdout",
       "text": [
        "\n",
        "[BernoulliRBM] Iteration 5, pseudo-likelihood = -4436.07, time = 0.08s"
       ]
      },
      {
       "output_type": "stream",
       "stream": "stdout",
       "text": [
        "\n",
        "[BernoulliRBM] Iteration 6, pseudo-likelihood = -5071.68, time = 0.07s"
       ]
      },
      {
       "output_type": "stream",
       "stream": "stdout",
       "text": [
        "\n",
        "[BernoulliRBM] Iteration 7, pseudo-likelihood = -6005.90, time = 0.08s"
       ]
      },
      {
       "output_type": "stream",
       "stream": "stdout",
       "text": [
        "\n",
        "[BernoulliRBM] Iteration 8, pseudo-likelihood = -7165.78, time = 0.08s"
       ]
      },
      {
       "output_type": "stream",
       "stream": "stdout",
       "text": [
        "\n",
        "[BernoulliRBM] Iteration 9, pseudo-likelihood = -7293.86, time = 0.08s"
       ]
      },
      {
       "output_type": "stream",
       "stream": "stdout",
       "text": [
        "\n",
        "[BernoulliRBM] Iteration 10, pseudo-likelihood = -7498.69, time = 0.08s"
       ]
      },
      {
       "output_type": "stream",
       "stream": "stdout",
       "text": [
        "\n",
        "[BernoulliRBM] Iteration 1, pseudo-likelihood = -983.30, time = 0.04s"
       ]
      },
      {
       "output_type": "stream",
       "stream": "stdout",
       "text": [
        "\n",
        "[BernoulliRBM] Iteration 2, pseudo-likelihood = -1112.80, time = 0.08s"
       ]
      },
      {
       "output_type": "stream",
       "stream": "stdout",
       "text": [
        "\n",
        "[BernoulliRBM] Iteration 3, pseudo-likelihood = -1355.58, time = 0.07s"
       ]
      },
      {
       "output_type": "stream",
       "stream": "stdout",
       "text": [
        "\n",
        "[BernoulliRBM] Iteration 4, pseudo-likelihood = -1665.21, time = 0.08s"
       ]
      },
      {
       "output_type": "stream",
       "stream": "stdout",
       "text": [
        "\n",
        "[BernoulliRBM] Iteration 5, pseudo-likelihood = -1865.27, time = 0.08s"
       ]
      },
      {
       "output_type": "stream",
       "stream": "stdout",
       "text": [
        "\n",
        "[BernoulliRBM] Iteration 6, pseudo-likelihood = -2250.19, time = 0.07s"
       ]
      },
      {
       "output_type": "stream",
       "stream": "stdout",
       "text": [
        "\n",
        "[BernoulliRBM] Iteration 7, pseudo-likelihood = -2566.34, time = 0.08s"
       ]
      },
      {
       "output_type": "stream",
       "stream": "stdout",
       "text": [
        "\n",
        "[BernoulliRBM] Iteration 8, pseudo-likelihood = -2847.73, time = 0.08s"
       ]
      },
      {
       "output_type": "stream",
       "stream": "stdout",
       "text": [
        "\n",
        "[BernoulliRBM] Iteration 9, pseudo-likelihood = -3139.40, time = 0.07s"
       ]
      },
      {
       "output_type": "stream",
       "stream": "stdout",
       "text": [
        "\n",
        "[BernoulliRBM] Iteration 10, pseudo-likelihood = -3453.98, time = 0.08s"
       ]
      },
      {
       "output_type": "stream",
       "stream": "stdout",
       "text": [
        "\n",
        "[BernoulliRBM] Iteration 1, pseudo-likelihood = -941.11, time = 0.05s"
       ]
      },
      {
       "output_type": "stream",
       "stream": "stdout",
       "text": [
        "\n",
        "[BernoulliRBM] Iteration 2, pseudo-likelihood = -1953.75, time = 0.08s"
       ]
      },
      {
       "output_type": "stream",
       "stream": "stdout",
       "text": [
        "\n",
        "[BernoulliRBM] Iteration 3, pseudo-likelihood = -3124.41, time = 0.09s"
       ]
      },
      {
       "output_type": "stream",
       "stream": "stdout",
       "text": [
        "\n",
        "[BernoulliRBM] Iteration 4, pseudo-likelihood = -3916.25, time = 0.09s"
       ]
      },
      {
       "output_type": "stream",
       "stream": "stdout",
       "text": [
        "\n",
        "[BernoulliRBM] Iteration 5, pseudo-likelihood = -4583.99, time = 0.08s"
       ]
      },
      {
       "output_type": "stream",
       "stream": "stdout",
       "text": [
        "\n",
        "[BernoulliRBM] Iteration 6, pseudo-likelihood = -5289.98, time = 0.08s"
       ]
      },
      {
       "output_type": "stream",
       "stream": "stdout",
       "text": [
        "\n",
        "[BernoulliRBM] Iteration 7, pseudo-likelihood = -6059.44, time = 0.07s"
       ]
      },
      {
       "output_type": "stream",
       "stream": "stdout",
       "text": [
        "\n",
        "[BernoulliRBM] Iteration 8, pseudo-likelihood = -7068.67, time = 0.07s"
       ]
      },
      {
       "output_type": "stream",
       "stream": "stdout",
       "text": [
        "\n",
        "[BernoulliRBM] Iteration 9, pseudo-likelihood = -8070.79, time = 0.07s"
       ]
      },
      {
       "output_type": "stream",
       "stream": "stdout",
       "text": [
        "\n",
        "[BernoulliRBM] Iteration 10, pseudo-likelihood = -9055.26, time = 0.08s"
       ]
      },
      {
       "output_type": "stream",
       "stream": "stdout",
       "text": [
        "\n",
        "[BernoulliRBM] Iteration 1, pseudo-likelihood = -799.40, time = 0.05s"
       ]
      },
      {
       "output_type": "stream",
       "stream": "stdout",
       "text": [
        "\n",
        "[BernoulliRBM] Iteration 2, pseudo-likelihood = -1605.81, time = 0.07s"
       ]
      },
      {
       "output_type": "stream",
       "stream": "stdout",
       "text": [
        "\n",
        "[BernoulliRBM] Iteration 3, pseudo-likelihood = -2169.63, time = 0.08s"
       ]
      },
      {
       "output_type": "stream",
       "stream": "stdout",
       "text": [
        "\n",
        "[BernoulliRBM] Iteration 4, pseudo-likelihood = -2891.86, time = 0.08s"
       ]
      },
      {
       "output_type": "stream",
       "stream": "stdout",
       "text": [
        "\n",
        "[BernoulliRBM] Iteration 5, pseudo-likelihood = -3420.11, time = 0.09s"
       ]
      },
      {
       "output_type": "stream",
       "stream": "stdout",
       "text": [
        "\n",
        "[BernoulliRBM] Iteration 6, pseudo-likelihood = -4273.29, time = 0.08s"
       ]
      },
      {
       "output_type": "stream",
       "stream": "stdout",
       "text": [
        "\n",
        "[BernoulliRBM] Iteration 7, pseudo-likelihood = -4848.68, time = 0.08s"
       ]
      },
      {
       "output_type": "stream",
       "stream": "stdout",
       "text": [
        "\n",
        "[BernoulliRBM] Iteration 8, pseudo-likelihood = -5411.52, time = 0.08s"
       ]
      },
      {
       "output_type": "stream",
       "stream": "stdout",
       "text": [
        "\n",
        "[BernoulliRBM] Iteration 9, pseudo-likelihood = -6224.80, time = 0.08s"
       ]
      },
      {
       "output_type": "stream",
       "stream": "stdout",
       "text": [
        "\n",
        "[BernoulliRBM] Iteration 10, pseudo-likelihood = -6870.44, time = 0.08s"
       ]
      },
      {
       "output_type": "stream",
       "stream": "stdout",
       "text": [
        "\n",
        "[BernoulliRBM] Iteration 1, pseudo-likelihood = -852.47, time = 0.05s"
       ]
      },
      {
       "output_type": "stream",
       "stream": "stdout",
       "text": [
        "\n",
        "[BernoulliRBM] Iteration 2, pseudo-likelihood = -1685.12, time = 0.08s"
       ]
      },
      {
       "output_type": "stream",
       "stream": "stdout",
       "text": [
        "\n",
        "[BernoulliRBM] Iteration 3, pseudo-likelihood = -2205.80, time = 0.08s"
       ]
      },
      {
       "output_type": "stream",
       "stream": "stdout",
       "text": [
        "\n",
        "[BernoulliRBM] Iteration 4, pseudo-likelihood = -2653.05, time = 0.08s"
       ]
      },
      {
       "output_type": "stream",
       "stream": "stdout",
       "text": [
        "\n",
        "[BernoulliRBM] Iteration 5, pseudo-likelihood = -3339.04, time = 0.08s"
       ]
      },
      {
       "output_type": "stream",
       "stream": "stdout",
       "text": [
        "\n",
        "[BernoulliRBM] Iteration 6, pseudo-likelihood = -3965.57, time = 0.08s"
       ]
      },
      {
       "output_type": "stream",
       "stream": "stdout",
       "text": [
        "\n",
        "[BernoulliRBM] Iteration 7, pseudo-likelihood = -4570.35, time = 0.07s"
       ]
      },
      {
       "output_type": "stream",
       "stream": "stdout",
       "text": [
        "\n",
        "[BernoulliRBM] Iteration 8, pseudo-likelihood = -5171.01, time = 0.07s"
       ]
      },
      {
       "output_type": "stream",
       "stream": "stdout",
       "text": [
        "\n",
        "[BernoulliRBM] Iteration 9, pseudo-likelihood = -5509.91, time = 0.08s"
       ]
      },
      {
       "output_type": "stream",
       "stream": "stdout",
       "text": [
        "\n",
        "[BernoulliRBM] Iteration 10, pseudo-likelihood = -5695.49, time = 0.08s"
       ]
      },
      {
       "output_type": "stream",
       "stream": "stdout",
       "text": [
        "\n",
        "[BernoulliRBM] Iteration 1, pseudo-likelihood = -724.23, time = 0.05s"
       ]
      },
      {
       "output_type": "stream",
       "stream": "stdout",
       "text": [
        "\n",
        "[BernoulliRBM] Iteration 2, pseudo-likelihood = -1105.09, time = 0.08s"
       ]
      },
      {
       "output_type": "stream",
       "stream": "stdout",
       "text": [
        "\n",
        "[BernoulliRBM] Iteration 3, pseudo-likelihood = -1220.90, time = 0.08s"
       ]
      },
      {
       "output_type": "stream",
       "stream": "stdout",
       "text": [
        "\n",
        "[BernoulliRBM] Iteration 4, pseudo-likelihood = -1318.01, time = 0.08s"
       ]
      },
      {
       "output_type": "stream",
       "stream": "stdout",
       "text": [
        "\n",
        "[BernoulliRBM] Iteration 5, pseudo-likelihood = -1559.95, time = 0.08s"
       ]
      },
      {
       "output_type": "stream",
       "stream": "stdout",
       "text": [
        "\n",
        "[BernoulliRBM] Iteration 6, pseudo-likelihood = -1833.07, time = 0.08s"
       ]
      },
      {
       "output_type": "stream",
       "stream": "stdout",
       "text": [
        "\n",
        "[BernoulliRBM] Iteration 7, pseudo-likelihood = -1981.68, time = 0.07s"
       ]
      },
      {
       "output_type": "stream",
       "stream": "stdout",
       "text": [
        "\n",
        "[BernoulliRBM] Iteration 8, pseudo-likelihood = -2236.93, time = 0.07s"
       ]
      },
      {
       "output_type": "stream",
       "stream": "stdout",
       "text": [
        "\n",
        "[BernoulliRBM] Iteration 9, pseudo-likelihood = -2377.44, time = 0.08s"
       ]
      },
      {
       "output_type": "stream",
       "stream": "stdout",
       "text": [
        "\n",
        "[BernoulliRBM] Iteration 10, pseudo-likelihood = -2553.55, time = 0.07s"
       ]
      },
      {
       "output_type": "stream",
       "stream": "stdout",
       "text": [
        "\n",
        "[BernoulliRBM] Iteration 1, pseudo-likelihood = -889.98, time = 0.05s"
       ]
      },
      {
       "output_type": "stream",
       "stream": "stdout",
       "text": [
        "\n",
        "[BernoulliRBM] Iteration 2, pseudo-likelihood = -1624.26, time = 0.07s"
       ]
      },
      {
       "output_type": "stream",
       "stream": "stdout",
       "text": [
        "\n",
        "[BernoulliRBM] Iteration 3, pseudo-likelihood = -1931.90, time = 0.08s"
       ]
      },
      {
       "output_type": "stream",
       "stream": "stdout",
       "text": [
        "\n",
        "[BernoulliRBM] Iteration 4, pseudo-likelihood = -2321.84, time = 0.08s"
       ]
      },
      {
       "output_type": "stream",
       "stream": "stdout",
       "text": [
        "\n",
        "[BernoulliRBM] Iteration 5, pseudo-likelihood = -2484.94, time = 0.08s"
       ]
      },
      {
       "output_type": "stream",
       "stream": "stdout",
       "text": [
        "\n",
        "[BernoulliRBM] Iteration 6, pseudo-likelihood = -3087.33, time = 0.08s"
       ]
      },
      {
       "output_type": "stream",
       "stream": "stdout",
       "text": [
        "\n",
        "[BernoulliRBM] Iteration 7, pseudo-likelihood = -3537.65, time = 0.08s"
       ]
      },
      {
       "output_type": "stream",
       "stream": "stdout",
       "text": [
        "\n",
        "[BernoulliRBM] Iteration 8, pseudo-likelihood = -3823.20, time = 0.08s"
       ]
      },
      {
       "output_type": "stream",
       "stream": "stdout",
       "text": [
        "\n",
        "[BernoulliRBM] Iteration 9, pseudo-likelihood = -4238.96, time = 0.08s"
       ]
      },
      {
       "output_type": "stream",
       "stream": "stdout",
       "text": [
        "\n",
        "[BernoulliRBM] Iteration 10, pseudo-likelihood = -4830.98, time = 0.07s"
       ]
      },
      {
       "output_type": "stream",
       "stream": "stdout",
       "text": [
        "\n",
        "[BernoulliRBM] Iteration 1, pseudo-likelihood = -900.19, time = 0.05s"
       ]
      },
      {
       "output_type": "stream",
       "stream": "stdout",
       "text": [
        "\n",
        "[BernoulliRBM] Iteration 2, pseudo-likelihood = -1555.79, time = 0.08s"
       ]
      },
      {
       "output_type": "stream",
       "stream": "stdout",
       "text": [
        "\n",
        "[BernoulliRBM] Iteration 3, pseudo-likelihood = -1787.20, time = 0.09s"
       ]
      },
      {
       "output_type": "stream",
       "stream": "stdout",
       "text": [
        "\n",
        "[BernoulliRBM] Iteration 4, pseudo-likelihood = -2133.28, time = 0.08s"
       ]
      },
      {
       "output_type": "stream",
       "stream": "stdout",
       "text": [
        "\n",
        "[BernoulliRBM] Iteration 5, pseudo-likelihood = -2619.92, time = 0.07s"
       ]
      },
      {
       "output_type": "stream",
       "stream": "stdout",
       "text": [
        "\n",
        "[BernoulliRBM] Iteration 6, pseudo-likelihood = -3080.29, time = 0.07s"
       ]
      },
      {
       "output_type": "stream",
       "stream": "stdout",
       "text": [
        "\n",
        "[BernoulliRBM] Iteration 7, pseudo-likelihood = -3431.80, time = 0.07s"
       ]
      },
      {
       "output_type": "stream",
       "stream": "stdout",
       "text": [
        "\n",
        "[BernoulliRBM] Iteration 8, pseudo-likelihood = -3972.08, time = 0.07s"
       ]
      },
      {
       "output_type": "stream",
       "stream": "stdout",
       "text": [
        "\n",
        "[BernoulliRBM] Iteration 9, pseudo-likelihood = -4372.36, time = 0.08s"
       ]
      },
      {
       "output_type": "stream",
       "stream": "stdout",
       "text": [
        "\n",
        "[BernoulliRBM] Iteration 10, pseudo-likelihood = -4850.53, time = 0.07s"
       ]
      },
      {
       "output_type": "stream",
       "stream": "stdout",
       "text": [
        "\n",
        "[BernoulliRBM] Iteration 1, pseudo-likelihood = -947.82, time = 0.05s"
       ]
      },
      {
       "output_type": "stream",
       "stream": "stdout",
       "text": [
        "\n",
        "[BernoulliRBM] Iteration 2, pseudo-likelihood = -1721.50, time = 0.08s"
       ]
      },
      {
       "output_type": "stream",
       "stream": "stdout",
       "text": [
        "\n",
        "[BernoulliRBM] Iteration 3, pseudo-likelihood = -2148.24, time = 0.08s"
       ]
      },
      {
       "output_type": "stream",
       "stream": "stdout",
       "text": [
        "\n",
        "[BernoulliRBM] Iteration 4, pseudo-likelihood = -2542.17, time = 0.07s"
       ]
      },
      {
       "output_type": "stream",
       "stream": "stdout",
       "text": [
        "\n",
        "[BernoulliRBM] Iteration 5, pseudo-likelihood = -3082.40, time = 0.07s"
       ]
      },
      {
       "output_type": "stream",
       "stream": "stdout",
       "text": [
        "\n",
        "[BernoulliRBM] Iteration 6, pseudo-likelihood = -3609.54, time = 0.08s"
       ]
      },
      {
       "output_type": "stream",
       "stream": "stdout",
       "text": [
        "\n",
        "[BernoulliRBM] Iteration 7, pseudo-likelihood = -4021.47, time = 0.08s"
       ]
      },
      {
       "output_type": "stream",
       "stream": "stdout",
       "text": [
        "\n",
        "[BernoulliRBM] Iteration 8, pseudo-likelihood = -4510.93, time = 0.08s"
       ]
      },
      {
       "output_type": "stream",
       "stream": "stdout",
       "text": [
        "\n",
        "[BernoulliRBM] Iteration 9, pseudo-likelihood = -5000.65, time = 0.08s"
       ]
      },
      {
       "output_type": "stream",
       "stream": "stdout",
       "text": [
        "\n",
        "[BernoulliRBM] Iteration 10, pseudo-likelihood = -5494.61, time = 0.08s"
       ]
      },
      {
       "output_type": "stream",
       "stream": "stdout",
       "text": [
        "\n",
        "[BernoulliRBM] Iteration 1, pseudo-likelihood = -1091.91, time = 0.05s"
       ]
      },
      {
       "output_type": "stream",
       "stream": "stdout",
       "text": [
        "\n",
        "[BernoulliRBM] Iteration 2, pseudo-likelihood = -1884.67, time = 0.08s"
       ]
      },
      {
       "output_type": "stream",
       "stream": "stdout",
       "text": [
        "\n",
        "[BernoulliRBM] Iteration 3, pseudo-likelihood = -2300.55, time = 0.08s"
       ]
      },
      {
       "output_type": "stream",
       "stream": "stdout",
       "text": [
        "\n",
        "[BernoulliRBM] Iteration 4, pseudo-likelihood = -2806.56, time = 0.08s"
       ]
      },
      {
       "output_type": "stream",
       "stream": "stdout",
       "text": [
        "\n",
        "[BernoulliRBM] Iteration 5, pseudo-likelihood = -3061.55, time = 0.08s"
       ]
      },
      {
       "output_type": "stream",
       "stream": "stdout",
       "text": [
        "\n",
        "[BernoulliRBM] Iteration 6, pseudo-likelihood = -3678.75, time = 0.07s"
       ]
      },
      {
       "output_type": "stream",
       "stream": "stdout",
       "text": [
        "\n",
        "[BernoulliRBM] Iteration 7, pseudo-likelihood = -4192.85, time = 0.07s"
       ]
      },
      {
       "output_type": "stream",
       "stream": "stdout",
       "text": [
        "\n",
        "[BernoulliRBM] Iteration 8, pseudo-likelihood = -4653.23, time = 0.08s"
       ]
      },
      {
       "output_type": "stream",
       "stream": "stdout",
       "text": [
        "\n",
        "[BernoulliRBM] Iteration 9, pseudo-likelihood = -5227.24, time = 0.08s"
       ]
      },
      {
       "output_type": "stream",
       "stream": "stdout",
       "text": [
        "\n",
        "[BernoulliRBM] Iteration 10, pseudo-likelihood = -5764.14, time = 0.08s"
       ]
      },
      {
       "output_type": "stream",
       "stream": "stdout",
       "text": [
        "\n",
        "[BernoulliRBM] Iteration 1, pseudo-likelihood = -1229.54, time = 0.05s"
       ]
      },
      {
       "output_type": "stream",
       "stream": "stdout",
       "text": [
        "\n",
        "[BernoulliRBM] Iteration 2, pseudo-likelihood = -2407.85, time = 0.09s"
       ]
      },
      {
       "output_type": "stream",
       "stream": "stdout",
       "text": [
        "\n",
        "[BernoulliRBM] Iteration 3, pseudo-likelihood = -3436.28, time = 0.09s"
       ]
      },
      {
       "output_type": "stream",
       "stream": "stdout",
       "text": [
        "\n",
        "[BernoulliRBM] Iteration 4, pseudo-likelihood = -4702.12, time = 0.09s"
       ]
      },
      {
       "output_type": "stream",
       "stream": "stdout",
       "text": [
        "\n",
        "[BernoulliRBM] Iteration 5, pseudo-likelihood = -5439.26, time = 0.09s"
       ]
      },
      {
       "output_type": "stream",
       "stream": "stdout",
       "text": [
        "\n",
        "[BernoulliRBM] Iteration 6, pseudo-likelihood = -6682.29, time = 0.08s"
       ]
      },
      {
       "output_type": "stream",
       "stream": "stdout",
       "text": [
        "\n",
        "[BernoulliRBM] Iteration 7, pseudo-likelihood = -7577.68, time = 0.08s"
       ]
      },
      {
       "output_type": "stream",
       "stream": "stdout",
       "text": [
        "\n",
        "[BernoulliRBM] Iteration 8, pseudo-likelihood = -8771.53, time = 0.08s"
       ]
      },
      {
       "output_type": "stream",
       "stream": "stdout",
       "text": [
        "\n",
        "[BernoulliRBM] Iteration 9, pseudo-likelihood = -9017.92, time = 0.08s"
       ]
      },
      {
       "output_type": "stream",
       "stream": "stdout",
       "text": [
        "\n",
        "[BernoulliRBM] Iteration 10, pseudo-likelihood = -9336.28, time = 0.08s"
       ]
      },
      {
       "output_type": "stream",
       "stream": "stdout",
       "text": [
        "\n",
        "[BernoulliRBM] Iteration 1, pseudo-likelihood = -1074.72, time = 0.05s"
       ]
      },
      {
       "output_type": "stream",
       "stream": "stdout",
       "text": [
        "\n",
        "[BernoulliRBM] Iteration 2, pseudo-likelihood = -1115.27, time = 0.08s"
       ]
      },
      {
       "output_type": "stream",
       "stream": "stdout",
       "text": [
        "\n",
        "[BernoulliRBM] Iteration 3, pseudo-likelihood = -1541.81, time = 0.09s"
       ]
      },
      {
       "output_type": "stream",
       "stream": "stdout",
       "text": [
        "\n",
        "[BernoulliRBM] Iteration 4, pseudo-likelihood = -1981.26, time = 0.08s"
       ]
      },
      {
       "output_type": "stream",
       "stream": "stdout",
       "text": [
        "\n",
        "[BernoulliRBM] Iteration 5, pseudo-likelihood = -1964.10, time = 0.08s"
       ]
      },
      {
       "output_type": "stream",
       "stream": "stdout",
       "text": [
        "\n",
        "[BernoulliRBM] Iteration 6, pseudo-likelihood = -2224.37, time = 0.09s"
       ]
      },
      {
       "output_type": "stream",
       "stream": "stdout",
       "text": [
        "\n",
        "[BernoulliRBM] Iteration 7, pseudo-likelihood = -2524.35, time = 0.08s"
       ]
      },
      {
       "output_type": "stream",
       "stream": "stdout",
       "text": [
        "\n",
        "[BernoulliRBM] Iteration 8, pseudo-likelihood = -2929.86, time = 0.08s"
       ]
      },
      {
       "output_type": "stream",
       "stream": "stdout",
       "text": [
        "\n",
        "[BernoulliRBM] Iteration 9, pseudo-likelihood = -3433.63, time = 0.07s"
       ]
      },
      {
       "output_type": "stream",
       "stream": "stdout",
       "text": [
        "\n",
        "[BernoulliRBM] Iteration 10, pseudo-likelihood = -3441.31, time = 0.08s"
       ]
      },
      {
       "output_type": "stream",
       "stream": "stdout",
       "text": [
        "\n",
        "[BernoulliRBM] Iteration 1, pseudo-likelihood = -975.29, time = 0.06s"
       ]
      },
      {
       "output_type": "stream",
       "stream": "stdout",
       "text": [
        "\n",
        "[BernoulliRBM] Iteration 2, pseudo-likelihood = -1840.22, time = 0.10s"
       ]
      },
      {
       "output_type": "stream",
       "stream": "stdout",
       "text": [
        "\n",
        "[BernoulliRBM] Iteration 3, pseudo-likelihood = -3023.94, time = 0.09s"
       ]
      },
      {
       "output_type": "stream",
       "stream": "stdout",
       "text": [
        "\n",
        "[BernoulliRBM] Iteration 4, pseudo-likelihood = -3997.81, time = 0.09s"
       ]
      },
      {
       "output_type": "stream",
       "stream": "stdout",
       "text": [
        "\n",
        "[BernoulliRBM] Iteration 5, pseudo-likelihood = -5169.32, time = 0.08s"
       ]
      },
      {
       "output_type": "stream",
       "stream": "stdout",
       "text": [
        "\n",
        "[BernoulliRBM] Iteration 6, pseudo-likelihood = -6212.21, time = 0.07s"
       ]
      },
      {
       "output_type": "stream",
       "stream": "stdout",
       "text": [
        "\n",
        "[BernoulliRBM] Iteration 7, pseudo-likelihood = -7371.05, time = 0.08s"
       ]
      },
      {
       "output_type": "stream",
       "stream": "stdout",
       "text": [
        "\n",
        "[BernoulliRBM] Iteration 8, pseudo-likelihood = -8425.61, time = 0.08s"
       ]
      },
      {
       "output_type": "stream",
       "stream": "stdout",
       "text": [
        "\n",
        "[BernoulliRBM] Iteration 9, pseudo-likelihood = -9529.22, time = 0.08s"
       ]
      },
      {
       "output_type": "stream",
       "stream": "stdout",
       "text": [
        "\n",
        "[BernoulliRBM] Iteration 10, pseudo-likelihood = -10630.85, time = 0.08s"
       ]
      },
      {
       "output_type": "stream",
       "stream": "stdout",
       "text": [
        "\n",
        "[BernoulliRBM] Iteration 1, pseudo-likelihood = -1081.03, time = 0.05s"
       ]
      },
      {
       "output_type": "stream",
       "stream": "stdout",
       "text": [
        "\n",
        "[BernoulliRBM] Iteration 2, pseudo-likelihood = -2408.63, time = 0.09s"
       ]
      },
      {
       "output_type": "stream",
       "stream": "stdout",
       "text": [
        "\n",
        "[BernoulliRBM] Iteration 3, pseudo-likelihood = -3632.43, time = 0.08s"
       ]
      },
      {
       "output_type": "stream",
       "stream": "stdout",
       "text": [
        "\n",
        "[BernoulliRBM] Iteration 4, pseudo-likelihood = -4929.33, time = 0.08s"
       ]
      },
      {
       "output_type": "stream",
       "stream": "stdout",
       "text": [
        "\n",
        "[BernoulliRBM] Iteration 5, pseudo-likelihood = -5403.83, time = 0.09s"
       ]
      },
      {
       "output_type": "stream",
       "stream": "stdout",
       "text": [
        "\n",
        "[BernoulliRBM] Iteration 6, pseudo-likelihood = -6430.14, time = 0.09s"
       ]
      },
      {
       "output_type": "stream",
       "stream": "stdout",
       "text": [
        "\n",
        "[BernoulliRBM] Iteration 7, pseudo-likelihood = -7133.30, time = 0.09s"
       ]
      },
      {
       "output_type": "stream",
       "stream": "stdout",
       "text": [
        "\n",
        "[BernoulliRBM] Iteration 8, pseudo-likelihood = -8136.07, time = 0.08s"
       ]
      },
      {
       "output_type": "stream",
       "stream": "stdout",
       "text": [
        "\n",
        "[BernoulliRBM] Iteration 9, pseudo-likelihood = -9004.85, time = 0.08s"
       ]
      },
      {
       "output_type": "stream",
       "stream": "stdout",
       "text": [
        "\n",
        "[BernoulliRBM] Iteration 10, pseudo-likelihood = -9879.66, time = 0.09s"
       ]
      },
      {
       "output_type": "stream",
       "stream": "stdout",
       "text": [
        "\n",
        "[BernoulliRBM] Iteration 1, pseudo-likelihood = -991.58, time = 0.05s"
       ]
      },
      {
       "output_type": "stream",
       "stream": "stdout",
       "text": [
        "\n",
        "[BernoulliRBM] Iteration 2, pseudo-likelihood = -1619.70, time = 0.09s"
       ]
      },
      {
       "output_type": "stream",
       "stream": "stdout",
       "text": [
        "\n",
        "[BernoulliRBM] Iteration 3, pseudo-likelihood = -1778.30, time = 0.09s"
       ]
      },
      {
       "output_type": "stream",
       "stream": "stdout",
       "text": [
        "\n",
        "[BernoulliRBM] Iteration 4, pseudo-likelihood = -1891.75, time = 0.09s"
       ]
      },
      {
       "output_type": "stream",
       "stream": "stdout",
       "text": [
        "\n",
        "[BernoulliRBM] Iteration 5, pseudo-likelihood = -2261.23, time = 0.08s"
       ]
      },
      {
       "output_type": "stream",
       "stream": "stdout",
       "text": [
        "\n",
        "[BernoulliRBM] Iteration 6, pseudo-likelihood = -2435.09, time = 0.08s"
       ]
      },
      {
       "output_type": "stream",
       "stream": "stdout",
       "text": [
        "\n",
        "[BernoulliRBM] Iteration 7, pseudo-likelihood = -2494.38, time = 0.08s"
       ]
      },
      {
       "output_type": "stream",
       "stream": "stdout",
       "text": [
        "\n",
        "[BernoulliRBM] Iteration 8, pseudo-likelihood = -2991.23, time = 0.08s"
       ]
      },
      {
       "output_type": "stream",
       "stream": "stdout",
       "text": [
        "\n",
        "[BernoulliRBM] Iteration 9, pseudo-likelihood = -3197.00, time = 0.08s"
       ]
      },
      {
       "output_type": "stream",
       "stream": "stdout",
       "text": [
        "\n",
        "[BernoulliRBM] Iteration 10, pseudo-likelihood = -3258.13, time = 0.09s"
       ]
      },
      {
       "output_type": "stream",
       "stream": "stdout",
       "text": [
        "\n",
        "[BernoulliRBM] Iteration 1, pseudo-likelihood = -801.96, time = 0.05s"
       ]
      },
      {
       "output_type": "stream",
       "stream": "stdout",
       "text": [
        "\n",
        "[BernoulliRBM] Iteration 2, pseudo-likelihood = -1417.58, time = 0.09s"
       ]
      },
      {
       "output_type": "stream",
       "stream": "stdout",
       "text": [
        "\n",
        "[BernoulliRBM] Iteration 3, pseudo-likelihood = -1697.19, time = 0.09s"
       ]
      },
      {
       "output_type": "stream",
       "stream": "stdout",
       "text": [
        "\n",
        "[BernoulliRBM] Iteration 4, pseudo-likelihood = -1981.47, time = 0.08s"
       ]
      },
      {
       "output_type": "stream",
       "stream": "stdout",
       "text": [
        "\n",
        "[BernoulliRBM] Iteration 5, pseudo-likelihood = -2411.93, time = 0.08s"
       ]
      },
      {
       "output_type": "stream",
       "stream": "stdout",
       "text": [
        "\n",
        "[BernoulliRBM] Iteration 6, pseudo-likelihood = -2994.99, time = 0.08s"
       ]
      },
      {
       "output_type": "stream",
       "stream": "stdout",
       "text": [
        "\n",
        "[BernoulliRBM] Iteration 7, pseudo-likelihood = -3550.26, time = 0.08s"
       ]
      },
      {
       "output_type": "stream",
       "stream": "stdout",
       "text": [
        "\n",
        "[BernoulliRBM] Iteration 8, pseudo-likelihood = -4129.63, time = 0.09s"
       ]
      },
      {
       "output_type": "stream",
       "stream": "stdout",
       "text": [
        "\n",
        "[BernoulliRBM] Iteration 9, pseudo-likelihood = -4523.76, time = 0.09s"
       ]
      },
      {
       "output_type": "stream",
       "stream": "stdout",
       "text": [
        "\n",
        "[BernoulliRBM] Iteration 10, pseudo-likelihood = -5035.09, time = 0.09s"
       ]
      },
      {
       "output_type": "stream",
       "stream": "stdout",
       "text": [
        "\n",
        "[BernoulliRBM] Iteration 1, pseudo-likelihood = -1051.45, time = 0.06s"
       ]
      },
      {
       "output_type": "stream",
       "stream": "stdout",
       "text": [
        "\n",
        "[BernoulliRBM] Iteration 2, pseudo-likelihood = -2020.17, time = 0.08s"
       ]
      },
      {
       "output_type": "stream",
       "stream": "stdout",
       "text": [
        "\n",
        "[BernoulliRBM] Iteration 3, pseudo-likelihood = -2568.45, time = 0.09s"
       ]
      },
      {
       "output_type": "stream",
       "stream": "stdout",
       "text": [
        "\n",
        "[BernoulliRBM] Iteration 4, pseudo-likelihood = -3230.18, time = 0.09s"
       ]
      },
      {
       "output_type": "stream",
       "stream": "stdout",
       "text": [
        "\n",
        "[BernoulliRBM] Iteration 5, pseudo-likelihood = -3812.06, time = 0.09s"
       ]
      },
      {
       "output_type": "stream",
       "stream": "stdout",
       "text": [
        "\n",
        "[BernoulliRBM] Iteration 6, pseudo-likelihood = -4669.56, time = 0.08s"
       ]
      },
      {
       "output_type": "stream",
       "stream": "stdout",
       "text": [
        "\n",
        "[BernoulliRBM] Iteration 7, pseudo-likelihood = -5388.05, time = 0.08s"
       ]
      },
      {
       "output_type": "stream",
       "stream": "stdout",
       "text": [
        "\n",
        "[BernoulliRBM] Iteration 8, pseudo-likelihood = -6061.05, time = 0.08s"
       ]
      },
      {
       "output_type": "stream",
       "stream": "stdout",
       "text": [
        "\n",
        "[BernoulliRBM] Iteration 9, pseudo-likelihood = -6847.61, time = 0.08s"
       ]
      },
      {
       "output_type": "stream",
       "stream": "stdout",
       "text": [
        "\n",
        "[BernoulliRBM] Iteration 10, pseudo-likelihood = -7572.95, time = 0.08s"
       ]
      },
      {
       "output_type": "stream",
       "stream": "stdout",
       "text": [
        "\n",
        "[BernoulliRBM] Iteration 1, pseudo-likelihood = -1056.10, time = 0.05s"
       ]
      },
      {
       "output_type": "stream",
       "stream": "stdout",
       "text": [
        "\n",
        "[BernoulliRBM] Iteration 2, pseudo-likelihood = -1945.03, time = 0.09s"
       ]
      },
      {
       "output_type": "stream",
       "stream": "stdout",
       "text": [
        "\n",
        "[BernoulliRBM] Iteration 3, pseudo-likelihood = -2449.20, time = 0.10s"
       ]
      },
      {
       "output_type": "stream",
       "stream": "stdout",
       "text": [
        "\n",
        "[BernoulliRBM] Iteration 4, pseudo-likelihood = -3309.28, time = 0.08s"
       ]
      },
      {
       "output_type": "stream",
       "stream": "stdout",
       "text": [
        "\n",
        "[BernoulliRBM] Iteration 5, pseudo-likelihood = -3835.64, time = 0.08s"
       ]
      },
      {
       "output_type": "stream",
       "stream": "stdout",
       "text": [
        "\n",
        "[BernoulliRBM] Iteration 6, pseudo-likelihood = -4835.02, time = 0.08s"
       ]
      },
      {
       "output_type": "stream",
       "stream": "stdout",
       "text": [
        "\n",
        "[BernoulliRBM] Iteration 7, pseudo-likelihood = -5576.15, time = 0.08s"
       ]
      },
      {
       "output_type": "stream",
       "stream": "stdout",
       "text": [
        "\n",
        "[BernoulliRBM] Iteration 8, pseudo-likelihood = -6250.02, time = 0.08s"
       ]
      },
      {
       "output_type": "stream",
       "stream": "stdout",
       "text": [
        "\n",
        "[BernoulliRBM] Iteration 9, pseudo-likelihood = -6914.82, time = 0.08s"
       ]
      },
      {
       "output_type": "stream",
       "stream": "stdout",
       "text": [
        "\n",
        "[BernoulliRBM] Iteration 10, pseudo-likelihood = -7198.03, time = 0.08s"
       ]
      },
      {
       "output_type": "stream",
       "stream": "stdout",
       "text": [
        "\n",
        "[BernoulliRBM] Iteration 1, pseudo-likelihood = -1136.43, time = 0.06s"
       ]
      },
      {
       "output_type": "stream",
       "stream": "stdout",
       "text": [
        "\n",
        "[BernoulliRBM] Iteration 2, pseudo-likelihood = -2186.69, time = 0.08s"
       ]
      },
      {
       "output_type": "stream",
       "stream": "stdout",
       "text": [
        "\n",
        "[BernoulliRBM] Iteration 3, pseudo-likelihood = -2764.36, time = 0.09s"
       ]
      },
      {
       "output_type": "stream",
       "stream": "stdout",
       "text": [
        "\n",
        "[BernoulliRBM] Iteration 4, pseudo-likelihood = -3624.18, time = 0.09s"
       ]
      },
      {
       "output_type": "stream",
       "stream": "stdout",
       "text": [
        "\n",
        "[BernoulliRBM] Iteration 5, pseudo-likelihood = -4340.52, time = 0.08s"
       ]
      },
      {
       "output_type": "stream",
       "stream": "stdout",
       "text": [
        "\n",
        "[BernoulliRBM] Iteration 6, pseudo-likelihood = -5081.56, time = 0.09s"
       ]
      },
      {
       "output_type": "stream",
       "stream": "stdout",
       "text": [
        "\n",
        "[BernoulliRBM] Iteration 7, pseudo-likelihood = -6087.47, time = 0.09s"
       ]
      },
      {
       "output_type": "stream",
       "stream": "stdout",
       "text": [
        "\n",
        "[BernoulliRBM] Iteration 8, pseudo-likelihood = -6832.91, time = 0.08s"
       ]
      },
      {
       "output_type": "stream",
       "stream": "stdout",
       "text": [
        "\n",
        "[BernoulliRBM] Iteration 9, pseudo-likelihood = -7594.54, time = 0.09s"
       ]
      },
      {
       "output_type": "stream",
       "stream": "stdout",
       "text": [
        "\n",
        "[BernoulliRBM] Iteration 10, pseudo-likelihood = -8144.25, time = 0.08s"
       ]
      },
      {
       "output_type": "stream",
       "stream": "stdout",
       "text": [
        "\n",
        "[BernoulliRBM] Iteration 1, pseudo-likelihood = -1291.15, time = 0.06s"
       ]
      },
      {
       "output_type": "stream",
       "stream": "stdout",
       "text": [
        "\n",
        "[BernoulliRBM] Iteration 2, pseudo-likelihood = -2376.99, time = 0.09s"
       ]
      },
      {
       "output_type": "stream",
       "stream": "stdout",
       "text": [
        "\n",
        "[BernoulliRBM] Iteration 3, pseudo-likelihood = -2982.89, time = 0.09s"
       ]
      },
      {
       "output_type": "stream",
       "stream": "stdout",
       "text": [
        "\n",
        "[BernoulliRBM] Iteration 4, pseudo-likelihood = -3722.59, time = 0.09s"
       ]
      },
      {
       "output_type": "stream",
       "stream": "stdout",
       "text": [
        "\n",
        "[BernoulliRBM] Iteration 5, pseudo-likelihood = -4633.15, time = 0.08s"
       ]
      },
      {
       "output_type": "stream",
       "stream": "stdout",
       "text": [
        "\n",
        "[BernoulliRBM] Iteration 6, pseudo-likelihood = -5443.25, time = 0.09s"
       ]
      },
      {
       "output_type": "stream",
       "stream": "stdout",
       "text": [
        "\n",
        "[BernoulliRBM] Iteration 7, pseudo-likelihood = -6206.07, time = 0.09s"
       ]
      },
      {
       "output_type": "stream",
       "stream": "stdout",
       "text": [
        "\n",
        "[BernoulliRBM] Iteration 8, pseudo-likelihood = -6944.63, time = 0.08s"
       ]
      },
      {
       "output_type": "stream",
       "stream": "stdout",
       "text": [
        "\n",
        "[BernoulliRBM] Iteration 9, pseudo-likelihood = -7881.78, time = 0.08s"
       ]
      },
      {
       "output_type": "stream",
       "stream": "stdout",
       "text": [
        "\n",
        "[BernoulliRBM] Iteration 10, pseudo-likelihood = -8820.27, time = 0.08s"
       ]
      },
      {
       "output_type": "stream",
       "stream": "stdout",
       "text": [
        "\n",
        "[BernoulliRBM] Iteration 1, pseudo-likelihood = -1350.41, time = 0.06s"
       ]
      },
      {
       "output_type": "stream",
       "stream": "stdout",
       "text": [
        "\n",
        "[BernoulliRBM] Iteration 2, pseudo-likelihood = -2641.39, time = 0.09s"
       ]
      },
      {
       "output_type": "stream",
       "stream": "stdout",
       "text": [
        "\n",
        "[BernoulliRBM] Iteration 3, pseudo-likelihood = -3479.89, time = 0.10s"
       ]
      },
      {
       "output_type": "stream",
       "stream": "stdout",
       "text": [
        "\n",
        "[BernoulliRBM] Iteration 4, pseudo-likelihood = -4706.06, time = 0.09s"
       ]
      },
      {
       "output_type": "stream",
       "stream": "stdout",
       "text": [
        "\n",
        "[BernoulliRBM] Iteration 5, pseudo-likelihood = -5346.99, time = 0.10s"
       ]
      },
      {
       "output_type": "stream",
       "stream": "stdout",
       "text": [
        "\n",
        "[BernoulliRBM] Iteration 6, pseudo-likelihood = -6493.54, time = 0.10s"
       ]
      },
      {
       "output_type": "stream",
       "stream": "stdout",
       "text": [
        "\n",
        "[BernoulliRBM] Iteration 7, pseudo-likelihood = -6977.08, time = 0.10s"
       ]
      },
      {
       "output_type": "stream",
       "stream": "stdout",
       "text": [
        "\n",
        "[BernoulliRBM] Iteration 8, pseudo-likelihood = -8100.34, time = 0.09s"
       ]
      },
      {
       "output_type": "stream",
       "stream": "stdout",
       "text": [
        "\n",
        "[BernoulliRBM] Iteration 9, pseudo-likelihood = -8529.82, time = 0.08s"
       ]
      },
      {
       "output_type": "stream",
       "stream": "stdout",
       "text": [
        "\n",
        "[BernoulliRBM] Iteration 10, pseudo-likelihood = -9090.98, time = 0.09s"
       ]
      },
      {
       "output_type": "stream",
       "stream": "stdout",
       "text": [
        "\n",
        "[BernoulliRBM] Iteration 1, pseudo-likelihood = -1278.84, time = 0.06s"
       ]
      },
      {
       "output_type": "stream",
       "stream": "stdout",
       "text": [
        "\n",
        "[BernoulliRBM] Iteration 2, pseudo-likelihood = -1531.20, time = 0.09s"
       ]
      },
      {
       "output_type": "stream",
       "stream": "stdout",
       "text": [
        "\n",
        "[BernoulliRBM] Iteration 3, pseudo-likelihood = -1696.56, time = 0.09s"
       ]
      },
      {
       "output_type": "stream",
       "stream": "stdout",
       "text": [
        "\n",
        "[BernoulliRBM] Iteration 4, pseudo-likelihood = -2458.52, time = 0.10s"
       ]
      },
      {
       "output_type": "stream",
       "stream": "stdout",
       "text": [
        "\n",
        "[BernoulliRBM] Iteration 5, pseudo-likelihood = -2595.10, time = 0.10s"
       ]
      },
      {
       "output_type": "stream",
       "stream": "stdout",
       "text": [
        "\n",
        "[BernoulliRBM] Iteration 6, pseudo-likelihood = -3003.70, time = 0.10s"
       ]
      },
      {
       "output_type": "stream",
       "stream": "stdout",
       "text": [
        "\n",
        "[BernoulliRBM] Iteration 7, pseudo-likelihood = -3436.41, time = 0.09s"
       ]
      },
      {
       "output_type": "stream",
       "stream": "stdout",
       "text": [
        "\n",
        "[BernoulliRBM] Iteration 8, pseudo-likelihood = -3774.94, time = 0.10s"
       ]
      },
      {
       "output_type": "stream",
       "stream": "stdout",
       "text": [
        "\n",
        "[BernoulliRBM] Iteration 9, pseudo-likelihood = -4152.59, time = 0.09s"
       ]
      },
      {
       "output_type": "stream",
       "stream": "stdout",
       "text": [
        "\n",
        "[BernoulliRBM] Iteration 10, pseudo-likelihood = -4667.59, time = 0.09s"
       ]
      },
      {
       "output_type": "stream",
       "stream": "stdout",
       "text": [
        "\n",
        "[BernoulliRBM] Iteration 1, pseudo-likelihood = -1267.07, time = 0.06s"
       ]
      },
      {
       "output_type": "stream",
       "stream": "stdout",
       "text": [
        "\n",
        "[BernoulliRBM] Iteration 2, pseudo-likelihood = -2658.03, time = 0.10s"
       ]
      },
      {
       "output_type": "stream",
       "stream": "stdout",
       "text": [
        "\n",
        "[BernoulliRBM] Iteration 3, pseudo-likelihood = -4671.08, time = 0.09s"
       ]
      },
      {
       "output_type": "stream",
       "stream": "stdout",
       "text": [
        "\n",
        "[BernoulliRBM] Iteration 4, pseudo-likelihood = -5250.64, time = 0.10s"
       ]
      },
      {
       "output_type": "stream",
       "stream": "stdout",
       "text": [
        "\n",
        "[BernoulliRBM] Iteration 5, pseudo-likelihood = -5312.09, time = 0.10s"
       ]
      },
      {
       "output_type": "stream",
       "stream": "stdout",
       "text": [
        "\n",
        "[BernoulliRBM] Iteration 6, pseudo-likelihood = -5494.97, time = 0.09s"
       ]
      },
      {
       "output_type": "stream",
       "stream": "stdout",
       "text": [
        "\n",
        "[BernoulliRBM] Iteration 7, pseudo-likelihood = -5623.23, time = 0.10s"
       ]
      },
      {
       "output_type": "stream",
       "stream": "stdout",
       "text": [
        "\n",
        "[BernoulliRBM] Iteration 8, pseudo-likelihood = -5736.70, time = 0.10s"
       ]
      },
      {
       "output_type": "stream",
       "stream": "stdout",
       "text": [
        "\n",
        "[BernoulliRBM] Iteration 9, pseudo-likelihood = -5833.23, time = 0.09s"
       ]
      },
      {
       "output_type": "stream",
       "stream": "stdout",
       "text": [
        "\n",
        "[BernoulliRBM] Iteration 10, pseudo-likelihood = -5972.36, time = 0.09s"
       ]
      },
      {
       "output_type": "stream",
       "stream": "stdout",
       "text": [
        "\n",
        "[BernoulliRBM] Iteration 1, pseudo-likelihood = -942.86, time = 0.06s"
       ]
      },
      {
       "output_type": "stream",
       "stream": "stdout",
       "text": [
        "\n",
        "[BernoulliRBM] Iteration 2, pseudo-likelihood = -1695.13, time = 0.11s"
       ]
      },
      {
       "output_type": "stream",
       "stream": "stdout",
       "text": [
        "\n",
        "[BernoulliRBM] Iteration 3, pseudo-likelihood = -1949.64, time = 0.10s"
       ]
      },
      {
       "output_type": "stream",
       "stream": "stdout",
       "text": [
        "\n",
        "[BernoulliRBM] Iteration 4, pseudo-likelihood = -2457.77, time = 0.09s"
       ]
      },
      {
       "output_type": "stream",
       "stream": "stdout",
       "text": [
        "\n",
        "[BernoulliRBM] Iteration 5, pseudo-likelihood = -2372.31, time = 0.09s"
       ]
      },
      {
       "output_type": "stream",
       "stream": "stdout",
       "text": [
        "\n",
        "[BernoulliRBM] Iteration 6, pseudo-likelihood = -2854.94, time = 0.09s"
       ]
      },
      {
       "output_type": "stream",
       "stream": "stdout",
       "text": [
        "\n",
        "[BernoulliRBM] Iteration 7, pseudo-likelihood = -3300.68, time = 0.09s"
       ]
      },
      {
       "output_type": "stream",
       "stream": "stdout",
       "text": [
        "\n",
        "[BernoulliRBM] Iteration 8, pseudo-likelihood = -3526.68, time = 0.10s"
       ]
      },
      {
       "output_type": "stream",
       "stream": "stdout",
       "text": [
        "\n",
        "[BernoulliRBM] Iteration 9, pseudo-likelihood = -3884.40, time = 0.10s"
       ]
      },
      {
       "output_type": "stream",
       "stream": "stdout",
       "text": [
        "\n",
        "[BernoulliRBM] Iteration 10, pseudo-likelihood = -4102.91, time = 0.09s"
       ]
      },
      {
       "output_type": "stream",
       "stream": "stdout",
       "text": [
        "\n",
        "[BernoulliRBM] Iteration 1, pseudo-likelihood = -1052.74, time = 0.06s"
       ]
      },
      {
       "output_type": "stream",
       "stream": "stdout",
       "text": [
        "\n",
        "[BernoulliRBM] Iteration 2, pseudo-likelihood = -2050.53, time = 0.11s"
       ]
      },
      {
       "output_type": "stream",
       "stream": "stdout",
       "text": [
        "\n",
        "[BernoulliRBM] Iteration 3, pseudo-likelihood = -2655.05, time = 0.11s"
       ]
      },
      {
       "output_type": "stream",
       "stream": "stdout",
       "text": [
        "\n",
        "[BernoulliRBM] Iteration 4, pseudo-likelihood = -3191.73, time = 0.10s"
       ]
      },
      {
       "output_type": "stream",
       "stream": "stdout",
       "text": [
        "\n",
        "[BernoulliRBM] Iteration 5, pseudo-likelihood = -3847.84, time = 0.10s"
       ]
      },
      {
       "output_type": "stream",
       "stream": "stdout",
       "text": [
        "\n",
        "[BernoulliRBM] Iteration 6, pseudo-likelihood = -4501.48, time = 0.09s"
       ]
      },
      {
       "output_type": "stream",
       "stream": "stdout",
       "text": [
        "\n",
        "[BernoulliRBM] Iteration 7, pseudo-likelihood = -5128.45, time = 0.09s"
       ]
      },
      {
       "output_type": "stream",
       "stream": "stdout",
       "text": [
        "\n",
        "[BernoulliRBM] Iteration 8, pseudo-likelihood = -6049.27, time = 0.09s"
       ]
      },
      {
       "output_type": "stream",
       "stream": "stdout",
       "text": [
        "\n",
        "[BernoulliRBM] Iteration 9, pseudo-likelihood = -6572.34, time = 0.09s"
       ]
      },
      {
       "output_type": "stream",
       "stream": "stdout",
       "text": [
        "\n",
        "[BernoulliRBM] Iteration 10, pseudo-likelihood = -7341.39, time = 0.09s"
       ]
      },
      {
       "output_type": "stream",
       "stream": "stdout",
       "text": [
        "\n",
        "[BernoulliRBM] Iteration 1, pseudo-likelihood = -926.03, time = 0.06s"
       ]
      },
      {
       "output_type": "stream",
       "stream": "stdout",
       "text": [
        "\n",
        "[BernoulliRBM] Iteration 2, pseudo-likelihood = -1433.35, time = 0.10s"
       ]
      },
      {
       "output_type": "stream",
       "stream": "stdout",
       "text": [
        "\n",
        "[BernoulliRBM] Iteration 3, pseudo-likelihood = -1599.01, time = 0.11s"
       ]
      },
      {
       "output_type": "stream",
       "stream": "stdout",
       "text": [
        "\n",
        "[BernoulliRBM] Iteration 4, pseudo-likelihood = -1837.63, time = 0.09s"
       ]
      },
      {
       "output_type": "stream",
       "stream": "stdout",
       "text": [
        "\n",
        "[BernoulliRBM] Iteration 5, pseudo-likelihood = -2228.95, time = 0.09s"
       ]
      },
      {
       "output_type": "stream",
       "stream": "stdout",
       "text": [
        "\n",
        "[BernoulliRBM] Iteration 6, pseudo-likelihood = -2235.85, time = 0.09s"
       ]
      },
      {
       "output_type": "stream",
       "stream": "stdout",
       "text": [
        "\n",
        "[BernoulliRBM] Iteration 7, pseudo-likelihood = -2368.33, time = 0.10s"
       ]
      },
      {
       "output_type": "stream",
       "stream": "stdout",
       "text": [
        "\n",
        "[BernoulliRBM] Iteration 8, pseudo-likelihood = -2604.86, time = 0.08s"
       ]
      },
      {
       "output_type": "stream",
       "stream": "stdout",
       "text": [
        "\n",
        "[BernoulliRBM] Iteration 9, pseudo-likelihood = -2944.62, time = 0.10s"
       ]
      },
      {
       "output_type": "stream",
       "stream": "stdout",
       "text": [
        "\n",
        "[BernoulliRBM] Iteration 10, pseudo-likelihood = -3356.77, time = 0.09s"
       ]
      },
      {
       "output_type": "stream",
       "stream": "stdout",
       "text": [
        "\n",
        "[BernoulliRBM] Iteration 1, pseudo-likelihood = -1162.38, time = 0.05s"
       ]
      },
      {
       "output_type": "stream",
       "stream": "stdout",
       "text": [
        "\n",
        "[BernoulliRBM] Iteration 2, pseudo-likelihood = -2095.18, time = 0.09s"
       ]
      },
      {
       "output_type": "stream",
       "stream": "stdout",
       "text": [
        "\n",
        "[BernoulliRBM] Iteration 3, pseudo-likelihood = -2504.87, time = 0.10s"
       ]
      },
      {
       "output_type": "stream",
       "stream": "stdout",
       "text": [
        "\n",
        "[BernoulliRBM] Iteration 4, pseudo-likelihood = -2804.27, time = 0.10s"
       ]
      },
      {
       "output_type": "stream",
       "stream": "stdout",
       "text": [
        "\n",
        "[BernoulliRBM] Iteration 5, pseudo-likelihood = -3465.72, time = 0.09s"
       ]
      },
      {
       "output_type": "stream",
       "stream": "stdout",
       "text": [
        "\n",
        "[BernoulliRBM] Iteration 6, pseudo-likelihood = -3921.74, time = 0.09s"
       ]
      },
      {
       "output_type": "stream",
       "stream": "stdout",
       "text": [
        "\n",
        "[BernoulliRBM] Iteration 7, pseudo-likelihood = -4521.60, time = 0.09s"
       ]
      },
      {
       "output_type": "stream",
       "stream": "stdout",
       "text": [
        "\n",
        "[BernoulliRBM] Iteration 8, pseudo-likelihood = -4726.26, time = 0.09s"
       ]
      },
      {
       "output_type": "stream",
       "stream": "stdout",
       "text": [
        "\n",
        "[BernoulliRBM] Iteration 9, pseudo-likelihood = -5481.94, time = 0.10s"
       ]
      },
      {
       "output_type": "stream",
       "stream": "stdout",
       "text": [
        "\n",
        "[BernoulliRBM] Iteration 10, pseudo-likelihood = -5944.81, time = 0.10s"
       ]
      },
      {
       "output_type": "stream",
       "stream": "stdout",
       "text": [
        "\n",
        "[BernoulliRBM] Iteration 1, pseudo-likelihood = -1163.49, time = 0.05s"
       ]
      },
      {
       "output_type": "stream",
       "stream": "stdout",
       "text": [
        "\n",
        "[BernoulliRBM] Iteration 2, pseudo-likelihood = -2032.92, time = 0.09s"
       ]
      },
      {
       "output_type": "stream",
       "stream": "stdout",
       "text": [
        "\n",
        "[BernoulliRBM] Iteration 3, pseudo-likelihood = -2295.78, time = 0.10s"
       ]
      },
      {
       "output_type": "stream",
       "stream": "stdout",
       "text": [
        "\n",
        "[BernoulliRBM] Iteration 4, pseudo-likelihood = -2923.80, time = 0.09s"
       ]
      },
      {
       "output_type": "stream",
       "stream": "stdout",
       "text": [
        "\n",
        "[BernoulliRBM] Iteration 5, pseudo-likelihood = -3430.94, time = 0.09s"
       ]
      },
      {
       "output_type": "stream",
       "stream": "stdout",
       "text": [
        "\n",
        "[BernoulliRBM] Iteration 6, pseudo-likelihood = -4053.91, time = 0.10s"
       ]
      },
      {
       "output_type": "stream",
       "stream": "stdout",
       "text": [
        "\n",
        "[BernoulliRBM] Iteration 7, pseudo-likelihood = -4476.03, time = 0.09s"
       ]
      },
      {
       "output_type": "stream",
       "stream": "stdout",
       "text": [
        "\n",
        "[BernoulliRBM] Iteration 8, pseudo-likelihood = -5065.36, time = 0.09s"
       ]
      },
      {
       "output_type": "stream",
       "stream": "stdout",
       "text": [
        "\n",
        "[BernoulliRBM] Iteration 9, pseudo-likelihood = -5769.15, time = 0.10s"
       ]
      },
      {
       "output_type": "stream",
       "stream": "stdout",
       "text": [
        "\n",
        "[BernoulliRBM] Iteration 10, pseudo-likelihood = -6342.48, time = 0.10s"
       ]
      },
      {
       "output_type": "stream",
       "stream": "stdout",
       "text": [
        "\n",
        "[BernoulliRBM] Iteration 1, pseudo-likelihood = -1230.18, time = 0.06s"
       ]
      },
      {
       "output_type": "stream",
       "stream": "stdout",
       "text": [
        "\n",
        "[BernoulliRBM] Iteration 2, pseudo-likelihood = -2271.54, time = 0.10s"
       ]
      },
      {
       "output_type": "stream",
       "stream": "stdout",
       "text": [
        "\n",
        "[BernoulliRBM] Iteration 3, pseudo-likelihood = -2813.97, time = 0.09s"
       ]
      },
      {
       "output_type": "stream",
       "stream": "stdout",
       "text": [
        "\n",
        "[BernoulliRBM] Iteration 4, pseudo-likelihood = -3323.14, time = 0.09s"
       ]
      },
      {
       "output_type": "stream",
       "stream": "stdout",
       "text": [
        "\n",
        "[BernoulliRBM] Iteration 5, pseudo-likelihood = -4161.62, time = 0.09s"
       ]
      },
      {
       "output_type": "stream",
       "stream": "stdout",
       "text": [
        "\n",
        "[BernoulliRBM] Iteration 6, pseudo-likelihood = -4720.74, time = 0.09s"
       ]
      },
      {
       "output_type": "stream",
       "stream": "stdout",
       "text": [
        "\n",
        "[BernoulliRBM] Iteration 7, pseudo-likelihood = -5179.10, time = 0.09s"
       ]
      },
      {
       "output_type": "stream",
       "stream": "stdout",
       "text": [
        "\n",
        "[BernoulliRBM] Iteration 8, pseudo-likelihood = -5871.88, time = 0.09s"
       ]
      },
      {
       "output_type": "stream",
       "stream": "stdout",
       "text": [
        "\n",
        "[BernoulliRBM] Iteration 9, pseudo-likelihood = -6609.86, time = 0.10s"
       ]
      },
      {
       "output_type": "stream",
       "stream": "stdout",
       "text": [
        "\n",
        "[BernoulliRBM] Iteration 10, pseudo-likelihood = -7234.92, time = 0.10s"
       ]
      },
      {
       "output_type": "stream",
       "stream": "stdout",
       "text": [
        "\n",
        "[BernoulliRBM] Iteration 1, pseudo-likelihood = -1416.04, time = 0.06s"
       ]
      },
      {
       "output_type": "stream",
       "stream": "stdout",
       "text": [
        "\n",
        "[BernoulliRBM] Iteration 2, pseudo-likelihood = -2450.30, time = 0.10s"
       ]
      },
      {
       "output_type": "stream",
       "stream": "stdout",
       "text": [
        "\n",
        "[BernoulliRBM] Iteration 3, pseudo-likelihood = -2962.35, time = 0.10s"
       ]
      },
      {
       "output_type": "stream",
       "stream": "stdout",
       "text": [
        "\n",
        "[BernoulliRBM] Iteration 4, pseudo-likelihood = -3405.85, time = 0.09s"
       ]
      },
      {
       "output_type": "stream",
       "stream": "stdout",
       "text": [
        "\n",
        "[BernoulliRBM] Iteration 5, pseudo-likelihood = -4201.84, time = 0.10s"
       ]
      },
      {
       "output_type": "stream",
       "stream": "stdout",
       "text": [
        "\n",
        "[BernoulliRBM] Iteration 6, pseudo-likelihood = -4841.15, time = 0.08s"
       ]
      },
      {
       "output_type": "stream",
       "stream": "stdout",
       "text": [
        "\n",
        "[BernoulliRBM] Iteration 7, pseudo-likelihood = -5397.96, time = 0.10s"
       ]
      },
      {
       "output_type": "stream",
       "stream": "stdout",
       "text": [
        "\n",
        "[BernoulliRBM] Iteration 8, pseudo-likelihood = -6178.80, time = 0.08s"
       ]
      },
      {
       "output_type": "stream",
       "stream": "stdout",
       "text": [
        "\n",
        "[BernoulliRBM] Iteration 9, pseudo-likelihood = -6808.43, time = 0.09s"
       ]
      },
      {
       "output_type": "stream",
       "stream": "stdout",
       "text": [
        "\n",
        "[BernoulliRBM] Iteration 10, pseudo-likelihood = -7512.37, time = 0.09s"
       ]
      },
      {
       "output_type": "stream",
       "stream": "stdout",
       "text": [
        "\n",
        "[BernoulliRBM] Iteration 1, pseudo-likelihood = -1206.03, time = 0.04s"
       ]
      },
      {
       "output_type": "stream",
       "stream": "stdout",
       "text": [
        "\n",
        "[BernoulliRBM] Iteration 2, pseudo-likelihood = -2192.53, time = 0.07s"
       ]
      },
      {
       "output_type": "stream",
       "stream": "stdout",
       "text": [
        "\n",
        "[BernoulliRBM] Iteration 3, pseudo-likelihood = -2742.93, time = 0.06s"
       ]
      },
      {
       "output_type": "stream",
       "stream": "stdout",
       "text": [
        "\n",
        "[BernoulliRBM] Iteration 4, pseudo-likelihood = -3493.44, time = 0.06s"
       ]
      },
      {
       "output_type": "stream",
       "stream": "stdout",
       "text": [
        "\n",
        "[BernoulliRBM] Iteration 5, pseudo-likelihood = -4081.65, time = 0.06s"
       ]
      },
      {
       "output_type": "stream",
       "stream": "stdout",
       "text": [
        "\n",
        "[BernoulliRBM] Iteration 6, pseudo-likelihood = -4872.49, time = 0.06s"
       ]
      },
      {
       "output_type": "stream",
       "stream": "stdout",
       "text": [
        "\n",
        "[BernoulliRBM] Iteration 7, pseudo-likelihood = -5538.18, time = 0.05s"
       ]
      },
      {
       "output_type": "stream",
       "stream": "stdout",
       "text": [
        "\n",
        "[BernoulliRBM] Iteration 8, pseudo-likelihood = -5865.07, time = 0.06s"
       ]
      },
      {
       "output_type": "stream",
       "stream": "stdout",
       "text": [
        "\n",
        "[BernoulliRBM] Iteration 9, pseudo-likelihood = -6140.62, time = 0.06s"
       ]
      },
      {
       "output_type": "stream",
       "stream": "stdout",
       "text": [
        "\n",
        "[BernoulliRBM] Iteration 10, pseudo-likelihood = -6457.39, time = 0.05s"
       ]
      },
      {
       "output_type": "stream",
       "stream": "stdout",
       "text": [
        "\n",
        "[BernoulliRBM] Iteration 1, pseudo-likelihood = -935.63, time = 0.04s"
       ]
      },
      {
       "output_type": "stream",
       "stream": "stdout",
       "text": [
        "\n",
        "[BernoulliRBM] Iteration 2, pseudo-likelihood = -1138.48, time = 0.06s"
       ]
      },
      {
       "output_type": "stream",
       "stream": "stdout",
       "text": [
        "\n",
        "[BernoulliRBM] Iteration 3, pseudo-likelihood = -1371.64, time = 0.06s"
       ]
      },
      {
       "output_type": "stream",
       "stream": "stdout",
       "text": [
        "\n",
        "[BernoulliRBM] Iteration 4, pseudo-likelihood = -1726.89, time = 0.06s"
       ]
      },
      {
       "output_type": "stream",
       "stream": "stdout",
       "text": [
        "\n",
        "[BernoulliRBM] Iteration 5, pseudo-likelihood = -2032.04, time = 0.06s"
       ]
      },
      {
       "output_type": "stream",
       "stream": "stdout",
       "text": [
        "\n",
        "[BernoulliRBM] Iteration 6, pseudo-likelihood = -2367.45, time = 0.05s"
       ]
      },
      {
       "output_type": "stream",
       "stream": "stdout",
       "text": [
        "\n",
        "[BernoulliRBM] Iteration 7, pseudo-likelihood = -2611.58, time = 0.06s"
       ]
      },
      {
       "output_type": "stream",
       "stream": "stdout",
       "text": [
        "\n",
        "[BernoulliRBM] Iteration 8, pseudo-likelihood = -2911.33, time = 0.06s"
       ]
      },
      {
       "output_type": "stream",
       "stream": "stdout",
       "text": [
        "\n",
        "[BernoulliRBM] Iteration 9, pseudo-likelihood = -3307.12, time = 0.06s"
       ]
      },
      {
       "output_type": "stream",
       "stream": "stdout",
       "text": [
        "\n",
        "[BernoulliRBM] Iteration 10, pseudo-likelihood = -3590.66, time = 0.06s"
       ]
      },
      {
       "output_type": "stream",
       "stream": "stdout",
       "text": [
        "\n",
        "[BernoulliRBM] Iteration 1, pseudo-likelihood = -909.18, time = 0.04s"
       ]
      },
      {
       "output_type": "stream",
       "stream": "stdout",
       "text": [
        "\n",
        "[BernoulliRBM] Iteration 2, pseudo-likelihood = -1567.74, time = 0.07s"
       ]
      },
      {
       "output_type": "stream",
       "stream": "stdout",
       "text": [
        "\n",
        "[BernoulliRBM] Iteration 3, pseudo-likelihood = -2494.02, time = 0.06s"
       ]
      },
      {
       "output_type": "stream",
       "stream": "stdout",
       "text": [
        "\n",
        "[BernoulliRBM] Iteration 4, pseudo-likelihood = -3382.22, time = 0.06s"
       ]
      },
      {
       "output_type": "stream",
       "stream": "stdout",
       "text": [
        "\n",
        "[BernoulliRBM] Iteration 5, pseudo-likelihood = -4283.64, time = 0.05s\n",
        "[BernoulliRBM] Iteration 6, pseudo-likelihood = -5433.00, time = 0.05s"
       ]
      },
      {
       "output_type": "stream",
       "stream": "stdout",
       "text": [
        "\n",
        "[BernoulliRBM] Iteration 7, pseudo-likelihood = -6034.66, time = 0.06s"
       ]
      },
      {
       "output_type": "stream",
       "stream": "stdout",
       "text": [
        "\n",
        "[BernoulliRBM] Iteration 8, pseudo-likelihood = -6919.79, time = 0.06s"
       ]
      },
      {
       "output_type": "stream",
       "stream": "stdout",
       "text": [
        "\n",
        "[BernoulliRBM] Iteration 9, pseudo-likelihood = -7816.14, time = 0.06s"
       ]
      },
      {
       "output_type": "stream",
       "stream": "stdout",
       "text": [
        "\n",
        "[BernoulliRBM] Iteration 10, pseudo-likelihood = -8699.39, time = 0.06s"
       ]
      },
      {
       "output_type": "stream",
       "stream": "stdout",
       "text": [
        "\n",
        "[BernoulliRBM] Iteration 1, pseudo-likelihood = -850.63, time = 0.04s"
       ]
      },
      {
       "output_type": "stream",
       "stream": "stdout",
       "text": [
        "\n",
        "[BernoulliRBM] Iteration 2, pseudo-likelihood = -1529.92, time = 0.06s\n",
        "[BernoulliRBM] Iteration 3, pseudo-likelihood = -1861.74, time = 0.05s"
       ]
      },
      {
       "output_type": "stream",
       "stream": "stdout",
       "text": [
        "\n",
        "[BernoulliRBM] Iteration 4, pseudo-likelihood = -2651.67, time = 0.06s"
       ]
      },
      {
       "output_type": "stream",
       "stream": "stdout",
       "text": [
        "\n",
        "[BernoulliRBM] Iteration 5, pseudo-likelihood = -3061.49, time = 0.06s"
       ]
      },
      {
       "output_type": "stream",
       "stream": "stdout",
       "text": [
        "\n",
        "[BernoulliRBM] Iteration 6, pseudo-likelihood = -3480.25, time = 0.06s"
       ]
      },
      {
       "output_type": "stream",
       "stream": "stdout",
       "text": [
        "\n",
        "[BernoulliRBM] Iteration 7, pseudo-likelihood = -4157.34, time = 0.06s"
       ]
      },
      {
       "output_type": "stream",
       "stream": "stdout",
       "text": [
        "\n",
        "[BernoulliRBM] Iteration 8, pseudo-likelihood = -4664.84, time = 0.05s"
       ]
      },
      {
       "output_type": "stream",
       "stream": "stdout",
       "text": [
        "\n",
        "[BernoulliRBM] Iteration 9, pseudo-likelihood = -5488.84, time = 0.05s"
       ]
      },
      {
       "output_type": "stream",
       "stream": "stdout",
       "text": [
        "\n",
        "[BernoulliRBM] Iteration 10, pseudo-likelihood = -5913.46, time = 0.06s"
       ]
      },
      {
       "output_type": "stream",
       "stream": "stdout",
       "text": [
        "\n",
        "[BernoulliRBM] Iteration 1, pseudo-likelihood = -857.26, time = 0.03s"
       ]
      },
      {
       "output_type": "stream",
       "stream": "stdout",
       "text": [
        "\n",
        "[BernoulliRBM] Iteration 2, pseudo-likelihood = -1314.89, time = 0.06s"
       ]
      },
      {
       "output_type": "stream",
       "stream": "stdout",
       "text": [
        "\n",
        "[BernoulliRBM] Iteration 3, pseudo-likelihood = -1454.35, time = 0.06s"
       ]
      },
      {
       "output_type": "stream",
       "stream": "stdout",
       "text": [
        "\n",
        "[BernoulliRBM] Iteration 4, pseudo-likelihood = -1787.31, time = 0.06s"
       ]
      },
      {
       "output_type": "stream",
       "stream": "stdout",
       "text": [
        "\n",
        "[BernoulliRBM] Iteration 5, pseudo-likelihood = -2022.53, time = 0.05s"
       ]
      },
      {
       "output_type": "stream",
       "stream": "stdout",
       "text": [
        "\n",
        "[BernoulliRBM] Iteration 6, pseudo-likelihood = -2302.88, time = 0.05s"
       ]
      },
      {
       "output_type": "stream",
       "stream": "stdout",
       "text": [
        "\n",
        "[BernoulliRBM] Iteration 7, pseudo-likelihood = -2543.00, time = 0.06s\n",
        "[BernoulliRBM] Iteration 8, pseudo-likelihood = -2853.95, time = 0.05s"
       ]
      },
      {
       "output_type": "stream",
       "stream": "stdout",
       "text": [
        "\n",
        "[BernoulliRBM] Iteration 9, pseudo-likelihood = -3299.94, time = 0.06s"
       ]
      },
      {
       "output_type": "stream",
       "stream": "stdout",
       "text": [
        "\n",
        "[BernoulliRBM] Iteration 10, pseudo-likelihood = -3408.29, time = 0.06s"
       ]
      },
      {
       "output_type": "stream",
       "stream": "stdout",
       "text": [
        "\n",
        "[BernoulliRBM] Iteration 1, pseudo-likelihood = -703.89, time = 0.04s"
       ]
      },
      {
       "output_type": "stream",
       "stream": "stdout",
       "text": [
        "\n",
        "[BernoulliRBM] Iteration 2, pseudo-likelihood = -1013.09, time = 0.06s"
       ]
      },
      {
       "output_type": "stream",
       "stream": "stdout",
       "text": [
        "\n",
        "[BernoulliRBM] Iteration 3, pseudo-likelihood = -1096.55, time = 0.06s"
       ]
      },
      {
       "output_type": "stream",
       "stream": "stdout",
       "text": [
        "\n",
        "[BernoulliRBM] Iteration 4, pseudo-likelihood = -1394.20, time = 0.05s"
       ]
      },
      {
       "output_type": "stream",
       "stream": "stdout",
       "text": [
        "\n",
        "[BernoulliRBM] Iteration 5, pseudo-likelihood = -1784.69, time = 0.05s"
       ]
      },
      {
       "output_type": "stream",
       "stream": "stdout",
       "text": [
        "\n",
        "[BernoulliRBM] Iteration 6, pseudo-likelihood = -1934.68, time = 0.05s\n",
        "[BernoulliRBM] Iteration 7, pseudo-likelihood = -2191.93, time = 0.06s"
       ]
      },
      {
       "output_type": "stream",
       "stream": "stdout",
       "text": [
        "\n",
        "[BernoulliRBM] Iteration 8, pseudo-likelihood = -2525.73, time = 0.05s"
       ]
      },
      {
       "output_type": "stream",
       "stream": "stdout",
       "text": [
        "\n",
        "[BernoulliRBM] Iteration 9, pseudo-likelihood = -2842.33, time = 0.06s"
       ]
      },
      {
       "output_type": "stream",
       "stream": "stdout",
       "text": [
        "\n",
        "[BernoulliRBM] Iteration 10, pseudo-likelihood = -3094.70, time = 0.07s"
       ]
      },
      {
       "output_type": "stream",
       "stream": "stdout",
       "text": [
        "\n",
        "[BernoulliRBM] Iteration 1, pseudo-likelihood = -901.26, time = 0.04s"
       ]
      },
      {
       "output_type": "stream",
       "stream": "stdout",
       "text": [
        "\n",
        "[BernoulliRBM] Iteration 2, pseudo-likelihood = -1342.41, time = 0.06s"
       ]
      },
      {
       "output_type": "stream",
       "stream": "stdout",
       "text": [
        "\n",
        "[BernoulliRBM] Iteration 3, pseudo-likelihood = -1451.76, time = 0.06s"
       ]
      },
      {
       "output_type": "stream",
       "stream": "stdout",
       "text": [
        "\n",
        "[BernoulliRBM] Iteration 4, pseudo-likelihood = -1656.94, time = 0.06s"
       ]
      },
      {
       "output_type": "stream",
       "stream": "stdout",
       "text": [
        "\n",
        "[BernoulliRBM] Iteration 5, pseudo-likelihood = -1855.17, time = 0.06s"
       ]
      },
      {
       "output_type": "stream",
       "stream": "stdout",
       "text": [
        "\n",
        "[BernoulliRBM] Iteration 6, pseudo-likelihood = -2131.31, time = 0.06s"
       ]
      },
      {
       "output_type": "stream",
       "stream": "stdout",
       "text": [
        "\n",
        "[BernoulliRBM] Iteration 7, pseudo-likelihood = -2272.42, time = 0.06s"
       ]
      },
      {
       "output_type": "stream",
       "stream": "stdout",
       "text": [
        "\n",
        "[BernoulliRBM] Iteration 8, pseudo-likelihood = -2534.60, time = 0.05s"
       ]
      },
      {
       "output_type": "stream",
       "stream": "stdout",
       "text": [
        "\n",
        "[BernoulliRBM] Iteration 9, pseudo-likelihood = -2853.59, time = 0.06s"
       ]
      },
      {
       "output_type": "stream",
       "stream": "stdout",
       "text": [
        "\n",
        "[BernoulliRBM] Iteration 10, pseudo-likelihood = -3125.90, time = 0.06s"
       ]
      },
      {
       "output_type": "stream",
       "stream": "stdout",
       "text": [
        "\n",
        "[BernoulliRBM] Iteration 1, pseudo-likelihood = -878.39, time = 0.04s"
       ]
      },
      {
       "output_type": "stream",
       "stream": "stdout",
       "text": [
        "\n",
        "[BernoulliRBM] Iteration 2, pseudo-likelihood = -1222.86, time = 0.07s"
       ]
      },
      {
       "output_type": "stream",
       "stream": "stdout",
       "text": [
        "\n",
        "[BernoulliRBM] Iteration 3, pseudo-likelihood = -1375.46, time = 0.06s"
       ]
      },
      {
       "output_type": "stream",
       "stream": "stdout",
       "text": [
        "\n",
        "[BernoulliRBM] Iteration 4, pseudo-likelihood = -1609.64, time = 0.05s"
       ]
      },
      {
       "output_type": "stream",
       "stream": "stdout",
       "text": [
        "\n",
        "[BernoulliRBM] Iteration 5, pseudo-likelihood = -1957.94, time = 0.06s"
       ]
      },
      {
       "output_type": "stream",
       "stream": "stdout",
       "text": [
        "\n",
        "[BernoulliRBM] Iteration 6, pseudo-likelihood = -2055.02, time = 0.05s"
       ]
      },
      {
       "output_type": "stream",
       "stream": "stdout",
       "text": [
        "\n",
        "[BernoulliRBM] Iteration 7, pseudo-likelihood = -2480.75, time = 0.05s"
       ]
      },
      {
       "output_type": "stream",
       "stream": "stdout",
       "text": [
        "\n",
        "[BernoulliRBM] Iteration 8, pseudo-likelihood = -2795.15, time = 0.06s"
       ]
      },
      {
       "output_type": "stream",
       "stream": "stdout",
       "text": [
        "\n",
        "[BernoulliRBM] Iteration 9, pseudo-likelihood = -3098.54, time = 0.06s"
       ]
      },
      {
       "output_type": "stream",
       "stream": "stdout",
       "text": [
        "\n",
        "[BernoulliRBM] Iteration 10, pseudo-likelihood = -3249.84, time = 0.06s"
       ]
      },
      {
       "output_type": "stream",
       "stream": "stdout",
       "text": [
        "\n",
        "[BernoulliRBM] Iteration 1, pseudo-likelihood = -988.39, time = 0.04s"
       ]
      },
      {
       "output_type": "stream",
       "stream": "stdout",
       "text": [
        "\n",
        "[BernoulliRBM] Iteration 2, pseudo-likelihood = -1468.27, time = 0.06s"
       ]
      },
      {
       "output_type": "stream",
       "stream": "stdout",
       "text": [
        "\n",
        "[BernoulliRBM] Iteration 3, pseudo-likelihood = -1627.38, time = 0.06s"
       ]
      },
      {
       "output_type": "stream",
       "stream": "stdout",
       "text": [
        "\n",
        "[BernoulliRBM] Iteration 4, pseudo-likelihood = -1997.05, time = 0.06s"
       ]
      },
      {
       "output_type": "stream",
       "stream": "stdout",
       "text": [
        "\n",
        "[BernoulliRBM] Iteration 5, pseudo-likelihood = -2250.71, time = 0.05s"
       ]
      },
      {
       "output_type": "stream",
       "stream": "stdout",
       "text": [
        "\n",
        "[BernoulliRBM] Iteration 6, pseudo-likelihood = -2647.50, time = 0.06s"
       ]
      },
      {
       "output_type": "stream",
       "stream": "stdout",
       "text": [
        "\n",
        "[BernoulliRBM] Iteration 7, pseudo-likelihood = -2909.42, time = 0.06s"
       ]
      },
      {
       "output_type": "stream",
       "stream": "stdout",
       "text": [
        "\n",
        "[BernoulliRBM] Iteration 8, pseudo-likelihood = -3275.18, time = 0.06s"
       ]
      },
      {
       "output_type": "stream",
       "stream": "stdout",
       "text": [
        "\n",
        "[BernoulliRBM] Iteration 9, pseudo-likelihood = -3575.19, time = 0.06s"
       ]
      },
      {
       "output_type": "stream",
       "stream": "stdout",
       "text": [
        "\n",
        "[BernoulliRBM] Iteration 10, pseudo-likelihood = -3889.76, time = 0.06s"
       ]
      },
      {
       "output_type": "stream",
       "stream": "stdout",
       "text": [
        "\n",
        "[BernoulliRBM] Iteration 1, pseudo-likelihood = -1132.59, time = 0.04s"
       ]
      },
      {
       "output_type": "stream",
       "stream": "stdout",
       "text": [
        "\n",
        "[BernoulliRBM] Iteration 2, pseudo-likelihood = -1623.97, time = 0.06s"
       ]
      },
      {
       "output_type": "stream",
       "stream": "stdout",
       "text": [
        "\n",
        "[BernoulliRBM] Iteration 3, pseudo-likelihood = -1766.80, time = 0.06s"
       ]
      },
      {
       "output_type": "stream",
       "stream": "stdout",
       "text": [
        "\n",
        "[BernoulliRBM] Iteration 4, pseudo-likelihood = -2218.36, time = 0.06s"
       ]
      },
      {
       "output_type": "stream",
       "stream": "stdout",
       "text": [
        "\n",
        "[BernoulliRBM] Iteration 5, pseudo-likelihood = -2338.38, time = 0.06s"
       ]
      },
      {
       "output_type": "stream",
       "stream": "stdout",
       "text": [
        "\n",
        "[BernoulliRBM] Iteration 6, pseudo-likelihood = -2805.89, time = 0.06s"
       ]
      },
      {
       "output_type": "stream",
       "stream": "stdout",
       "text": [
        "\n",
        "[BernoulliRBM] Iteration 7, pseudo-likelihood = -3026.69, time = 0.06s"
       ]
      },
      {
       "output_type": "stream",
       "stream": "stdout",
       "text": [
        "\n",
        "[BernoulliRBM] Iteration 8, pseudo-likelihood = -3412.07, time = 0.06s"
       ]
      },
      {
       "output_type": "stream",
       "stream": "stdout",
       "text": [
        "\n",
        "[BernoulliRBM] Iteration 9, pseudo-likelihood = -3840.87, time = 0.05s"
       ]
      },
      {
       "output_type": "stream",
       "stream": "stdout",
       "text": [
        "\n",
        "[BernoulliRBM] Iteration 10, pseudo-likelihood = -4118.88, time = 0.06s"
       ]
      },
      {
       "output_type": "stream",
       "stream": "stdout",
       "text": [
        "\n",
        "[BernoulliRBM] Iteration 1, pseudo-likelihood = -1401.77, time = 0.05s"
       ]
      },
      {
       "output_type": "stream",
       "stream": "stdout",
       "text": [
        "\n",
        "[BernoulliRBM] Iteration 2, pseudo-likelihood = -2620.10, time = 0.08s"
       ]
      },
      {
       "output_type": "stream",
       "stream": "stdout",
       "text": [
        "\n",
        "[BernoulliRBM] Iteration 3, pseudo-likelihood = -3356.39, time = 0.07s"
       ]
      },
      {
       "output_type": "stream",
       "stream": "stdout",
       "text": [
        "\n",
        "[BernoulliRBM] Iteration 4, pseudo-likelihood = -4571.54, time = 0.07s"
       ]
      },
      {
       "output_type": "stream",
       "stream": "stdout",
       "text": [
        "\n",
        "[BernoulliRBM] Iteration 5, pseudo-likelihood = -5288.77, time = 0.07s"
       ]
      },
      {
       "output_type": "stream",
       "stream": "stdout",
       "text": [
        "\n",
        "[BernoulliRBM] Iteration 6, pseudo-likelihood = -6410.11, time = 0.07s"
       ]
      },
      {
       "output_type": "stream",
       "stream": "stdout",
       "text": [
        "\n",
        "[BernoulliRBM] Iteration 7, pseudo-likelihood = -6634.18, time = 0.06s"
       ]
      },
      {
       "output_type": "stream",
       "stream": "stdout",
       "text": [
        "\n",
        "[BernoulliRBM] Iteration 8, pseudo-likelihood = -7409.89, time = 0.07s"
       ]
      },
      {
       "output_type": "stream",
       "stream": "stdout",
       "text": [
        "\n",
        "[BernoulliRBM] Iteration 9, pseudo-likelihood = -7890.13, time = 0.06s"
       ]
      },
      {
       "output_type": "stream",
       "stream": "stdout",
       "text": [
        "\n",
        "[BernoulliRBM] Iteration 10, pseudo-likelihood = -8181.17, time = 0.07s"
       ]
      },
      {
       "output_type": "stream",
       "stream": "stdout",
       "text": [
        "\n",
        "[BernoulliRBM] Iteration 1, pseudo-likelihood = -975.11, time = 0.04s"
       ]
      },
      {
       "output_type": "stream",
       "stream": "stdout",
       "text": [
        "\n",
        "[BernoulliRBM] Iteration 2, pseudo-likelihood = -1309.83, time = 0.06s"
       ]
      },
      {
       "output_type": "stream",
       "stream": "stdout",
       "text": [
        "\n",
        "[BernoulliRBM] Iteration 3, pseudo-likelihood = -1441.17, time = 0.07s"
       ]
      },
      {
       "output_type": "stream",
       "stream": "stdout",
       "text": [
        "\n",
        "[BernoulliRBM] Iteration 4, pseudo-likelihood = -1785.62, time = 0.07s"
       ]
      },
      {
       "output_type": "stream",
       "stream": "stdout",
       "text": [
        "\n",
        "[BernoulliRBM] Iteration 5, pseudo-likelihood = -2082.34, time = 0.07s"
       ]
      },
      {
       "output_type": "stream",
       "stream": "stdout",
       "text": [
        "\n",
        "[BernoulliRBM] Iteration 6, pseudo-likelihood = -2434.97, time = 0.08s"
       ]
      },
      {
       "output_type": "stream",
       "stream": "stdout",
       "text": [
        "\n",
        "[BernoulliRBM] Iteration 7, pseudo-likelihood = -2809.09, time = 0.07s"
       ]
      },
      {
       "output_type": "stream",
       "stream": "stdout",
       "text": [
        "\n",
        "[BernoulliRBM] Iteration 8, pseudo-likelihood = -3097.98, time = 0.07s"
       ]
      },
      {
       "output_type": "stream",
       "stream": "stdout",
       "text": [
        "\n",
        "[BernoulliRBM] Iteration 9, pseudo-likelihood = -3455.61, time = 0.07s"
       ]
      },
      {
       "output_type": "stream",
       "stream": "stdout",
       "text": [
        "\n",
        "[BernoulliRBM] Iteration 10, pseudo-likelihood = -3790.57, time = 0.07s"
       ]
      },
      {
       "output_type": "stream",
       "stream": "stdout",
       "text": [
        "\n",
        "[BernoulliRBM] Iteration 1, pseudo-likelihood = -856.07, time = 0.05s"
       ]
      },
      {
       "output_type": "stream",
       "stream": "stdout",
       "text": [
        "\n",
        "[BernoulliRBM] Iteration 2, pseudo-likelihood = -1244.08, time = 0.07s"
       ]
      },
      {
       "output_type": "stream",
       "stream": "stdout",
       "text": [
        "\n",
        "[BernoulliRBM] Iteration 3, pseudo-likelihood = -1792.47, time = 0.07s"
       ]
      },
      {
       "output_type": "stream",
       "stream": "stdout",
       "text": [
        "\n",
        "[BernoulliRBM] Iteration 4, pseudo-likelihood = -2449.55, time = 0.07s"
       ]
      },
      {
       "output_type": "stream",
       "stream": "stdout",
       "text": [
        "\n",
        "[BernoulliRBM] Iteration 5, pseudo-likelihood = -3093.11, time = 0.06s"
       ]
      },
      {
       "output_type": "stream",
       "stream": "stdout",
       "text": [
        "\n",
        "[BernoulliRBM] Iteration 6, pseudo-likelihood = -3645.99, time = 0.08s"
       ]
      },
      {
       "output_type": "stream",
       "stream": "stdout",
       "text": [
        "\n",
        "[BernoulliRBM] Iteration 7, pseudo-likelihood = -4339.45, time = 0.07s"
       ]
      },
      {
       "output_type": "stream",
       "stream": "stdout",
       "text": [
        "\n",
        "[BernoulliRBM] Iteration 8, pseudo-likelihood = -4938.35, time = 0.07s"
       ]
      },
      {
       "output_type": "stream",
       "stream": "stdout",
       "text": [
        "\n",
        "[BernoulliRBM] Iteration 9, pseudo-likelihood = -5544.10, time = 0.08s"
       ]
      },
      {
       "output_type": "stream",
       "stream": "stdout",
       "text": [
        "\n",
        "[BernoulliRBM] Iteration 10, pseudo-likelihood = -6128.17, time = 0.08s"
       ]
      },
      {
       "output_type": "stream",
       "stream": "stdout",
       "text": [
        "\n",
        "[BernoulliRBM] Iteration 1, pseudo-likelihood = -1029.11, time = 0.05s"
       ]
      },
      {
       "output_type": "stream",
       "stream": "stdout",
       "text": [
        "\n",
        "[BernoulliRBM] Iteration 2, pseudo-likelihood = -1683.27, time = 0.07s"
       ]
      },
      {
       "output_type": "stream",
       "stream": "stdout",
       "text": [
        "\n",
        "[BernoulliRBM] Iteration 3, pseudo-likelihood = -2231.40, time = 0.08s"
       ]
      },
      {
       "output_type": "stream",
       "stream": "stdout",
       "text": [
        "\n",
        "[BernoulliRBM] Iteration 4, pseudo-likelihood = -2707.75, time = 0.06s"
       ]
      },
      {
       "output_type": "stream",
       "stream": "stdout",
       "text": [
        "\n",
        "[BernoulliRBM] Iteration 5, pseudo-likelihood = -3351.66, time = 0.06s"
       ]
      },
      {
       "output_type": "stream",
       "stream": "stdout",
       "text": [
        "\n",
        "[BernoulliRBM] Iteration 6, pseudo-likelihood = -4001.35, time = 0.07s"
       ]
      },
      {
       "output_type": "stream",
       "stream": "stdout",
       "text": [
        "\n",
        "[BernoulliRBM] Iteration 7, pseudo-likelihood = -4671.36, time = 0.07s"
       ]
      },
      {
       "output_type": "stream",
       "stream": "stdout",
       "text": [
        "\n",
        "[BernoulliRBM] Iteration 8, pseudo-likelihood = -5352.43, time = 0.07s"
       ]
      },
      {
       "output_type": "stream",
       "stream": "stdout",
       "text": [
        "\n",
        "[BernoulliRBM] Iteration 9, pseudo-likelihood = -6222.68, time = 0.08s"
       ]
      },
      {
       "output_type": "stream",
       "stream": "stdout",
       "text": [
        "\n",
        "[BernoulliRBM] Iteration 10, pseudo-likelihood = -6816.57, time = 0.07s"
       ]
      },
      {
       "output_type": "stream",
       "stream": "stdout",
       "text": [
        "\n",
        "[BernoulliRBM] Iteration 1, pseudo-likelihood = -1125.30, time = 0.05s"
       ]
      },
      {
       "output_type": "stream",
       "stream": "stdout",
       "text": [
        "\n",
        "[BernoulliRBM] Iteration 2, pseudo-likelihood = -1816.45, time = 0.07s"
       ]
      },
      {
       "output_type": "stream",
       "stream": "stdout",
       "text": [
        "\n",
        "[BernoulliRBM] Iteration 3, pseudo-likelihood = -2371.46, time = 0.07s"
       ]
      },
      {
       "output_type": "stream",
       "stream": "stdout",
       "text": [
        "\n",
        "[BernoulliRBM] Iteration 4, pseudo-likelihood = -2913.31, time = 0.07s"
       ]
      },
      {
       "output_type": "stream",
       "stream": "stdout",
       "text": [
        "\n",
        "[BernoulliRBM] Iteration 5, pseudo-likelihood = -3610.37, time = 0.06s"
       ]
      },
      {
       "output_type": "stream",
       "stream": "stdout",
       "text": [
        "\n",
        "[BernoulliRBM] Iteration 6, pseudo-likelihood = -4395.69, time = 0.07s"
       ]
      },
      {
       "output_type": "stream",
       "stream": "stdout",
       "text": [
        "\n",
        "[BernoulliRBM] Iteration 7, pseudo-likelihood = -5021.99, time = 0.07s"
       ]
      },
      {
       "output_type": "stream",
       "stream": "stdout",
       "text": [
        "\n",
        "[BernoulliRBM] Iteration 8, pseudo-likelihood = -5737.05, time = 0.07s"
       ]
      },
      {
       "output_type": "stream",
       "stream": "stdout",
       "text": [
        "\n",
        "[BernoulliRBM] Iteration 9, pseudo-likelihood = -6438.84, time = 0.06s"
       ]
      },
      {
       "output_type": "stream",
       "stream": "stdout",
       "text": [
        "\n",
        "[BernoulliRBM] Iteration 10, pseudo-likelihood = -7172.07, time = 0.08s"
       ]
      },
      {
       "output_type": "stream",
       "stream": "stdout",
       "text": [
        "\n",
        "[BernoulliRBM] Iteration 1, pseudo-likelihood = -952.23, time = 0.05s"
       ]
      },
      {
       "output_type": "stream",
       "stream": "stdout",
       "text": [
        "\n",
        "[BernoulliRBM] Iteration 2, pseudo-likelihood = -1467.25, time = 0.07s"
       ]
      },
      {
       "output_type": "stream",
       "stream": "stdout",
       "text": [
        "\n",
        "[BernoulliRBM] Iteration 3, pseudo-likelihood = -2029.87, time = 0.07s"
       ]
      },
      {
       "output_type": "stream",
       "stream": "stdout",
       "text": [
        "\n",
        "[BernoulliRBM] Iteration 4, pseudo-likelihood = -2627.23, time = 0.07s"
       ]
      },
      {
       "output_type": "stream",
       "stream": "stdout",
       "text": [
        "\n",
        "[BernoulliRBM] Iteration 5, pseudo-likelihood = -3390.97, time = 0.07s"
       ]
      },
      {
       "output_type": "stream",
       "stream": "stdout",
       "text": [
        "\n",
        "[BernoulliRBM] Iteration 6, pseudo-likelihood = -4182.87, time = 0.07s"
       ]
      },
      {
       "output_type": "stream",
       "stream": "stdout",
       "text": [
        "\n",
        "[BernoulliRBM] Iteration 7, pseudo-likelihood = -4418.21, time = 0.07s"
       ]
      },
      {
       "output_type": "stream",
       "stream": "stdout",
       "text": [
        "\n",
        "[BernoulliRBM] Iteration 8, pseudo-likelihood = -4657.01, time = 0.07s"
       ]
      },
      {
       "output_type": "stream",
       "stream": "stdout",
       "text": [
        "\n",
        "[BernoulliRBM] Iteration 9, pseudo-likelihood = -5048.76, time = 0.07s"
       ]
      },
      {
       "output_type": "stream",
       "stream": "stdout",
       "text": [
        "\n",
        "[BernoulliRBM] Iteration 10, pseudo-likelihood = -5441.77, time = 0.07s"
       ]
      },
      {
       "output_type": "stream",
       "stream": "stdout",
       "text": [
        "\n",
        "[BernoulliRBM] Iteration 1, pseudo-likelihood = -1176.63, time = 0.04s"
       ]
      },
      {
       "output_type": "stream",
       "stream": "stdout",
       "text": [
        "\n",
        "[BernoulliRBM] Iteration 2, pseudo-likelihood = -1911.80, time = 0.07s"
       ]
      },
      {
       "output_type": "stream",
       "stream": "stdout",
       "text": [
        "\n",
        "[BernoulliRBM] Iteration 3, pseudo-likelihood = -2296.85, time = 0.06s"
       ]
      },
      {
       "output_type": "stream",
       "stream": "stdout",
       "text": [
        "\n",
        "[BernoulliRBM] Iteration 4, pseudo-likelihood = -2789.42, time = 0.06s"
       ]
      },
      {
       "output_type": "stream",
       "stream": "stdout",
       "text": [
        "\n",
        "[BernoulliRBM] Iteration 5, pseudo-likelihood = -3415.22, time = 0.06s"
       ]
      },
      {
       "output_type": "stream",
       "stream": "stdout",
       "text": [
        "\n",
        "[BernoulliRBM] Iteration 6, pseudo-likelihood = -4175.99, time = 0.07s"
       ]
      },
      {
       "output_type": "stream",
       "stream": "stdout",
       "text": [
        "\n",
        "[BernoulliRBM] Iteration 7, pseudo-likelihood = -4901.67, time = 0.06s"
       ]
      },
      {
       "output_type": "stream",
       "stream": "stdout",
       "text": [
        "\n",
        "[BernoulliRBM] Iteration 8, pseudo-likelihood = -5618.19, time = 0.07s"
       ]
      },
      {
       "output_type": "stream",
       "stream": "stdout",
       "text": [
        "\n",
        "[BernoulliRBM] Iteration 9, pseudo-likelihood = -6438.11, time = 0.07s"
       ]
      },
      {
       "output_type": "stream",
       "stream": "stdout",
       "text": [
        "\n",
        "[BernoulliRBM] Iteration 10, pseudo-likelihood = -7248.81, time = 0.07s"
       ]
      },
      {
       "output_type": "stream",
       "stream": "stdout",
       "text": [
        "\n",
        "[BernoulliRBM] Iteration 1, pseudo-likelihood = -1143.99, time = 0.05s"
       ]
      },
      {
       "output_type": "stream",
       "stream": "stdout",
       "text": [
        "\n",
        "[BernoulliRBM] Iteration 2, pseudo-likelihood = -1726.43, time = 0.08s"
       ]
      },
      {
       "output_type": "stream",
       "stream": "stdout",
       "text": [
        "\n",
        "[BernoulliRBM] Iteration 3, pseudo-likelihood = -2222.82, time = 0.07s"
       ]
      },
      {
       "output_type": "stream",
       "stream": "stdout",
       "text": [
        "\n",
        "[BernoulliRBM] Iteration 4, pseudo-likelihood = -2820.01, time = 0.07s"
       ]
      },
      {
       "output_type": "stream",
       "stream": "stdout",
       "text": [
        "\n",
        "[BernoulliRBM] Iteration 5, pseudo-likelihood = -3605.63, time = 0.07s"
       ]
      },
      {
       "output_type": "stream",
       "stream": "stdout",
       "text": [
        "\n",
        "[BernoulliRBM] Iteration 6, pseudo-likelihood = -4337.21, time = 0.06s"
       ]
      },
      {
       "output_type": "stream",
       "stream": "stdout",
       "text": [
        "\n",
        "[BernoulliRBM] Iteration 7, pseudo-likelihood = -5073.35, time = 0.07s"
       ]
      },
      {
       "output_type": "stream",
       "stream": "stdout",
       "text": [
        "\n",
        "[BernoulliRBM] Iteration 8, pseudo-likelihood = -5946.08, time = 0.07s"
       ]
      },
      {
       "output_type": "stream",
       "stream": "stdout",
       "text": [
        "\n",
        "[BernoulliRBM] Iteration 9, pseudo-likelihood = -6265.66, time = 0.07s"
       ]
      },
      {
       "output_type": "stream",
       "stream": "stdout",
       "text": [
        "\n",
        "[BernoulliRBM] Iteration 10, pseudo-likelihood = -6754.25, time = 0.07s"
       ]
      },
      {
       "output_type": "stream",
       "stream": "stdout",
       "text": [
        "\n",
        "[BernoulliRBM] Iteration 1, pseudo-likelihood = -1311.94, time = 0.05s"
       ]
      },
      {
       "output_type": "stream",
       "stream": "stdout",
       "text": [
        "\n",
        "[BernoulliRBM] Iteration 2, pseudo-likelihood = -2003.83, time = 0.06s"
       ]
      },
      {
       "output_type": "stream",
       "stream": "stdout",
       "text": [
        "\n",
        "[BernoulliRBM] Iteration 3, pseudo-likelihood = -2481.86, time = 0.07s"
       ]
      },
      {
       "output_type": "stream",
       "stream": "stdout",
       "text": [
        "\n",
        "[BernoulliRBM] Iteration 4, pseudo-likelihood = -3158.19, time = 0.07s"
       ]
      },
      {
       "output_type": "stream",
       "stream": "stdout",
       "text": [
        "\n",
        "[BernoulliRBM] Iteration 5, pseudo-likelihood = -3906.49, time = 0.07s"
       ]
      },
      {
       "output_type": "stream",
       "stream": "stdout",
       "text": [
        "\n",
        "[BernoulliRBM] Iteration 6, pseudo-likelihood = -4732.55, time = 0.06s"
       ]
      },
      {
       "output_type": "stream",
       "stream": "stdout",
       "text": [
        "\n",
        "[BernoulliRBM] Iteration 7, pseudo-likelihood = -5530.92, time = 0.06s"
       ]
      },
      {
       "output_type": "stream",
       "stream": "stdout",
       "text": [
        "\n",
        "[BernoulliRBM] Iteration 8, pseudo-likelihood = -6350.85, time = 0.06s"
       ]
      },
      {
       "output_type": "stream",
       "stream": "stdout",
       "text": [
        "\n",
        "[BernoulliRBM] Iteration 9, pseudo-likelihood = -7218.89, time = 0.07s"
       ]
      },
      {
       "output_type": "stream",
       "stream": "stdout",
       "text": [
        "\n",
        "[BernoulliRBM] Iteration 10, pseudo-likelihood = -8046.28, time = 0.06s"
       ]
      },
      {
       "output_type": "stream",
       "stream": "stdout",
       "text": [
        "\n",
        "[BernoulliRBM] Iteration 1, pseudo-likelihood = -1479.28, time = 0.04s"
       ]
      },
      {
       "output_type": "stream",
       "stream": "stdout",
       "text": [
        "\n",
        "[BernoulliRBM] Iteration 2, pseudo-likelihood = -2198.25, time = 0.07s"
       ]
      },
      {
       "output_type": "stream",
       "stream": "stdout",
       "text": [
        "\n",
        "[BernoulliRBM] Iteration 3, pseudo-likelihood = -2795.16, time = 0.07s"
       ]
      },
      {
       "output_type": "stream",
       "stream": "stdout",
       "text": [
        "\n",
        "[BernoulliRBM] Iteration 4, pseudo-likelihood = -3389.30, time = 0.07s"
       ]
      },
      {
       "output_type": "stream",
       "stream": "stdout",
       "text": [
        "\n",
        "[BernoulliRBM] Iteration 5, pseudo-likelihood = -4148.71, time = 0.07s"
       ]
      },
      {
       "output_type": "stream",
       "stream": "stdout",
       "text": [
        "\n",
        "[BernoulliRBM] Iteration 6, pseudo-likelihood = -4813.60, time = 0.06s"
       ]
      },
      {
       "output_type": "stream",
       "stream": "stdout",
       "text": [
        "\n",
        "[BernoulliRBM] Iteration 7, pseudo-likelihood = -5317.61, time = 0.07s"
       ]
      },
      {
       "output_type": "stream",
       "stream": "stdout",
       "text": [
        "\n",
        "[BernoulliRBM] Iteration 8, pseudo-likelihood = -5831.34, time = 0.06s"
       ]
      },
      {
       "output_type": "stream",
       "stream": "stdout",
       "text": [
        "\n",
        "[BernoulliRBM] Iteration 9, pseudo-likelihood = -6441.69, time = 0.06s"
       ]
      },
      {
       "output_type": "stream",
       "stream": "stdout",
       "text": [
        "\n",
        "[BernoulliRBM] Iteration 10, pseudo-likelihood = -7063.46, time = 0.07s"
       ]
      },
      {
       "output_type": "stream",
       "stream": "stdout",
       "text": [
        "\n",
        "[BernoulliRBM] Iteration 1, pseudo-likelihood = -1643.90, time = 0.05s"
       ]
      },
      {
       "output_type": "stream",
       "stream": "stdout",
       "text": [
        "\n",
        "[BernoulliRBM] Iteration 2, pseudo-likelihood = -2856.34, time = 0.08s"
       ]
      },
      {
       "output_type": "stream",
       "stream": "stdout",
       "text": [
        "\n",
        "[BernoulliRBM] Iteration 3, pseudo-likelihood = -3605.60, time = 0.08s"
       ]
      },
      {
       "output_type": "stream",
       "stream": "stdout",
       "text": [
        "\n",
        "[BernoulliRBM] Iteration 4, pseudo-likelihood = -4848.54, time = 0.09s"
       ]
      },
      {
       "output_type": "stream",
       "stream": "stdout",
       "text": [
        "\n",
        "[BernoulliRBM] Iteration 5, pseudo-likelihood = -5506.67, time = 0.08s"
       ]
      },
      {
       "output_type": "stream",
       "stream": "stdout",
       "text": [
        "\n",
        "[BernoulliRBM] Iteration 6, pseudo-likelihood = -6710.02, time = 0.08s"
       ]
      },
      {
       "output_type": "stream",
       "stream": "stdout",
       "text": [
        "\n",
        "[BernoulliRBM] Iteration 7, pseudo-likelihood = -7063.63, time = 0.08s"
       ]
      },
      {
       "output_type": "stream",
       "stream": "stdout",
       "text": [
        "\n",
        "[BernoulliRBM] Iteration 8, pseudo-likelihood = -7602.02, time = 0.08s"
       ]
      },
      {
       "output_type": "stream",
       "stream": "stdout",
       "text": [
        "\n",
        "[BernoulliRBM] Iteration 9, pseudo-likelihood = -8006.43, time = 0.07s"
       ]
      },
      {
       "output_type": "stream",
       "stream": "stdout",
       "text": [
        "\n",
        "[BernoulliRBM] Iteration 10, pseudo-likelihood = -8523.99, time = 0.07s"
       ]
      },
      {
       "output_type": "stream",
       "stream": "stdout",
       "text": [
        "\n",
        "[BernoulliRBM] Iteration 1, pseudo-likelihood = -1287.05, time = 0.05s"
       ]
      },
      {
       "output_type": "stream",
       "stream": "stdout",
       "text": [
        "\n",
        "[BernoulliRBM] Iteration 2, pseudo-likelihood = -1532.91, time = 0.07s"
       ]
      },
      {
       "output_type": "stream",
       "stream": "stdout",
       "text": [
        "\n",
        "[BernoulliRBM] Iteration 3, pseudo-likelihood = -1722.18, time = 0.07s"
       ]
      },
      {
       "output_type": "stream",
       "stream": "stdout",
       "text": [
        "\n",
        "[BernoulliRBM] Iteration 4, pseudo-likelihood = -2072.73, time = 0.08s"
       ]
      },
      {
       "output_type": "stream",
       "stream": "stdout",
       "text": [
        "\n",
        "[BernoulliRBM] Iteration 5, pseudo-likelihood = -2478.17, time = 0.07s"
       ]
      },
      {
       "output_type": "stream",
       "stream": "stdout",
       "text": [
        "\n",
        "[BernoulliRBM] Iteration 6, pseudo-likelihood = -2845.78, time = 0.07s"
       ]
      },
      {
       "output_type": "stream",
       "stream": "stdout",
       "text": [
        "\n",
        "[BernoulliRBM] Iteration 7, pseudo-likelihood = -3260.85, time = 0.07s"
       ]
      },
      {
       "output_type": "stream",
       "stream": "stdout",
       "text": [
        "\n",
        "[BernoulliRBM] Iteration 8, pseudo-likelihood = -3628.48, time = 0.07s"
       ]
      },
      {
       "output_type": "stream",
       "stream": "stdout",
       "text": [
        "\n",
        "[BernoulliRBM] Iteration 9, pseudo-likelihood = -4005.58, time = 0.08s"
       ]
      },
      {
       "output_type": "stream",
       "stream": "stdout",
       "text": [
        "\n",
        "[BernoulliRBM] Iteration 10, pseudo-likelihood = -4396.88, time = 0.07s"
       ]
      },
      {
       "output_type": "stream",
       "stream": "stdout",
       "text": [
        "\n",
        "[BernoulliRBM] Iteration 1, pseudo-likelihood = -1131.13, time = 0.05s"
       ]
      },
      {
       "output_type": "stream",
       "stream": "stdout",
       "text": [
        "\n",
        "[BernoulliRBM] Iteration 2, pseudo-likelihood = -1679.89, time = 0.08s"
       ]
      },
      {
       "output_type": "stream",
       "stream": "stdout",
       "text": [
        "\n",
        "[BernoulliRBM] Iteration 3, pseudo-likelihood = -2383.78, time = 0.07s"
       ]
      },
      {
       "output_type": "stream",
       "stream": "stdout",
       "text": [
        "\n",
        "[BernoulliRBM] Iteration 4, pseudo-likelihood = -3304.66, time = 0.07s"
       ]
      },
      {
       "output_type": "stream",
       "stream": "stdout",
       "text": [
        "\n",
        "[BernoulliRBM] Iteration 5, pseudo-likelihood = -4067.61, time = 0.08s"
       ]
      },
      {
       "output_type": "stream",
       "stream": "stdout",
       "text": [
        "\n",
        "[BernoulliRBM] Iteration 6, pseudo-likelihood = -5261.25, time = 0.08s"
       ]
      },
      {
       "output_type": "stream",
       "stream": "stdout",
       "text": [
        "\n",
        "[BernoulliRBM] Iteration 7, pseudo-likelihood = -5822.08, time = 0.07s"
       ]
      },
      {
       "output_type": "stream",
       "stream": "stdout",
       "text": [
        "\n",
        "[BernoulliRBM] Iteration 8, pseudo-likelihood = -7226.22, time = 0.08s"
       ]
      },
      {
       "output_type": "stream",
       "stream": "stdout",
       "text": [
        "\n",
        "[BernoulliRBM] Iteration 9, pseudo-likelihood = -7508.60, time = 0.08s"
       ]
      },
      {
       "output_type": "stream",
       "stream": "stdout",
       "text": [
        "\n",
        "[BernoulliRBM] Iteration 10, pseudo-likelihood = -8337.19, time = 0.07s"
       ]
      },
      {
       "output_type": "stream",
       "stream": "stdout",
       "text": [
        "\n",
        "[BernoulliRBM] Iteration 1, pseudo-likelihood = -1268.36, time = 0.05s"
       ]
      },
      {
       "output_type": "stream",
       "stream": "stdout",
       "text": [
        "\n",
        "[BernoulliRBM] Iteration 2, pseudo-likelihood = -2285.45, time = 0.08s"
       ]
      },
      {
       "output_type": "stream",
       "stream": "stdout",
       "text": [
        "\n",
        "[BernoulliRBM] Iteration 3, pseudo-likelihood = -2900.05, time = 0.08s"
       ]
      },
      {
       "output_type": "stream",
       "stream": "stdout",
       "text": [
        "\n",
        "[BernoulliRBM] Iteration 4, pseudo-likelihood = -3656.62, time = 0.08s"
       ]
      },
      {
       "output_type": "stream",
       "stream": "stdout",
       "text": [
        "\n",
        "[BernoulliRBM] Iteration 5, pseudo-likelihood = -4417.04, time = 0.07s"
       ]
      },
      {
       "output_type": "stream",
       "stream": "stdout",
       "text": [
        "\n",
        "[BernoulliRBM] Iteration 6, pseudo-likelihood = -5387.27, time = 0.08s"
       ]
      },
      {
       "output_type": "stream",
       "stream": "stdout",
       "text": [
        "\n",
        "[BernoulliRBM] Iteration 7, pseudo-likelihood = -6446.97, time = 0.08s"
       ]
      },
      {
       "output_type": "stream",
       "stream": "stdout",
       "text": [
        "\n",
        "[BernoulliRBM] Iteration 8, pseudo-likelihood = -7352.56, time = 0.07s"
       ]
      },
      {
       "output_type": "stream",
       "stream": "stdout",
       "text": [
        "\n",
        "[BernoulliRBM] Iteration 9, pseudo-likelihood = -8283.67, time = 0.08s"
       ]
      },
      {
       "output_type": "stream",
       "stream": "stdout",
       "text": [
        "\n",
        "[BernoulliRBM] Iteration 10, pseudo-likelihood = -9275.76, time = 0.08s"
       ]
      },
      {
       "output_type": "stream",
       "stream": "stdout",
       "text": [
        "\n",
        "[BernoulliRBM] Iteration 1, pseudo-likelihood = -1412.42, time = 0.05s"
       ]
      },
      {
       "output_type": "stream",
       "stream": "stdout",
       "text": [
        "\n",
        "[BernoulliRBM] Iteration 2, pseudo-likelihood = -2531.31, time = 0.08s"
       ]
      },
      {
       "output_type": "stream",
       "stream": "stdout",
       "text": [
        "\n",
        "[BernoulliRBM] Iteration 3, pseudo-likelihood = -3434.74, time = 0.07s"
       ]
      },
      {
       "output_type": "stream",
       "stream": "stdout",
       "text": [
        "\n",
        "[BernoulliRBM] Iteration 4, pseudo-likelihood = -4300.62, time = 0.08s"
       ]
      },
      {
       "output_type": "stream",
       "stream": "stdout",
       "text": [
        "\n",
        "[BernoulliRBM] Iteration 5, pseudo-likelihood = -5070.78, time = 0.08s"
       ]
      },
      {
       "output_type": "stream",
       "stream": "stdout",
       "text": [
        "\n",
        "[BernoulliRBM] Iteration 6, pseudo-likelihood = -6137.84, time = 0.07s"
       ]
      },
      {
       "output_type": "stream",
       "stream": "stdout",
       "text": [
        "\n",
        "[BernoulliRBM] Iteration 7, pseudo-likelihood = -7223.46, time = 0.08s"
       ]
      },
      {
       "output_type": "stream",
       "stream": "stdout",
       "text": [
        "\n",
        "[BernoulliRBM] Iteration 8, pseudo-likelihood = -8279.13, time = 0.07s"
       ]
      },
      {
       "output_type": "stream",
       "stream": "stdout",
       "text": [
        "\n",
        "[BernoulliRBM] Iteration 9, pseudo-likelihood = -9320.78, time = 0.07s"
       ]
      },
      {
       "output_type": "stream",
       "stream": "stdout",
       "text": [
        "\n",
        "[BernoulliRBM] Iteration 10, pseudo-likelihood = -9593.76, time = 0.07s"
       ]
      },
      {
       "output_type": "stream",
       "stream": "stdout",
       "text": [
        "\n",
        "[BernoulliRBM] Iteration 1, pseudo-likelihood = -1175.14, time = 0.05s"
       ]
      },
      {
       "output_type": "stream",
       "stream": "stdout",
       "text": [
        "\n",
        "[BernoulliRBM] Iteration 2, pseudo-likelihood = -2016.29, time = 0.08s"
       ]
      },
      {
       "output_type": "stream",
       "stream": "stdout",
       "text": [
        "\n",
        "[BernoulliRBM] Iteration 3, pseudo-likelihood = -2617.34, time = 0.08s"
       ]
      },
      {
       "output_type": "stream",
       "stream": "stdout",
       "text": [
        "\n",
        "[BernoulliRBM] Iteration 4, pseudo-likelihood = -3535.45, time = 0.08s"
       ]
      },
      {
       "output_type": "stream",
       "stream": "stdout",
       "text": [
        "\n",
        "[BernoulliRBM] Iteration 5, pseudo-likelihood = -4419.86, time = 0.08s"
       ]
      },
      {
       "output_type": "stream",
       "stream": "stdout",
       "text": [
        "\n",
        "[BernoulliRBM] Iteration 6, pseudo-likelihood = -4960.89, time = 0.08s"
       ]
      },
      {
       "output_type": "stream",
       "stream": "stdout",
       "text": [
        "\n",
        "[BernoulliRBM] Iteration 7, pseudo-likelihood = -5590.97, time = 0.08s"
       ]
      },
      {
       "output_type": "stream",
       "stream": "stdout",
       "text": [
        "\n",
        "[BernoulliRBM] Iteration 8, pseudo-likelihood = -6265.25, time = 0.08s"
       ]
      },
      {
       "output_type": "stream",
       "stream": "stdout",
       "text": [
        "\n",
        "[BernoulliRBM] Iteration 9, pseudo-likelihood = -7339.85, time = 0.08s"
       ]
      },
      {
       "output_type": "stream",
       "stream": "stdout",
       "text": [
        "\n",
        "[BernoulliRBM] Iteration 10, pseudo-likelihood = -7514.53, time = 0.07s"
       ]
      },
      {
       "output_type": "stream",
       "stream": "stdout",
       "text": [
        "\n",
        "[BernoulliRBM] Iteration 1, pseudo-likelihood = -1464.70, time = 0.05s"
       ]
      },
      {
       "output_type": "stream",
       "stream": "stdout",
       "text": [
        "\n",
        "[BernoulliRBM] Iteration 2, pseudo-likelihood = -2595.90, time = 0.09s"
       ]
      },
      {
       "output_type": "stream",
       "stream": "stdout",
       "text": [
        "\n",
        "[BernoulliRBM] Iteration 3, pseudo-likelihood = -3070.00, time = 0.08s"
       ]
      },
      {
       "output_type": "stream",
       "stream": "stdout",
       "text": [
        "\n",
        "[BernoulliRBM] Iteration 4, pseudo-likelihood = -3866.21, time = 0.08s"
       ]
      },
      {
       "output_type": "stream",
       "stream": "stdout",
       "text": [
        "\n",
        "[BernoulliRBM] Iteration 5, pseudo-likelihood = -4815.45, time = 0.08s"
       ]
      },
      {
       "output_type": "stream",
       "stream": "stdout",
       "text": [
        "\n",
        "[BernoulliRBM] Iteration 6, pseudo-likelihood = -5791.32, time = 0.08s"
       ]
      },
      {
       "output_type": "stream",
       "stream": "stdout",
       "text": [
        "\n",
        "[BernoulliRBM] Iteration 7, pseudo-likelihood = -6783.29, time = 0.07s"
       ]
      },
      {
       "output_type": "stream",
       "stream": "stdout",
       "text": [
        "\n",
        "[BernoulliRBM] Iteration 8, pseudo-likelihood = -7793.97, time = 0.07s"
       ]
      },
      {
       "output_type": "stream",
       "stream": "stdout",
       "text": [
        "\n",
        "[BernoulliRBM] Iteration 9, pseudo-likelihood = -8801.19, time = 0.07s"
       ]
      },
      {
       "output_type": "stream",
       "stream": "stdout",
       "text": [
        "\n",
        "[BernoulliRBM] Iteration 10, pseudo-likelihood = -9840.59, time = 0.08s"
       ]
      },
      {
       "output_type": "stream",
       "stream": "stdout",
       "text": [
        "\n",
        "[BernoulliRBM] Iteration 1, pseudo-likelihood = -1425.88, time = 0.05s"
       ]
      },
      {
       "output_type": "stream",
       "stream": "stdout",
       "text": [
        "\n",
        "[BernoulliRBM] Iteration 2, pseudo-likelihood = -2401.38, time = 0.08s"
       ]
      },
      {
       "output_type": "stream",
       "stream": "stdout",
       "text": [
        "\n",
        "[BernoulliRBM] Iteration 3, pseudo-likelihood = -3028.63, time = 0.08s"
       ]
      },
      {
       "output_type": "stream",
       "stream": "stdout",
       "text": [
        "\n",
        "[BernoulliRBM] Iteration 4, pseudo-likelihood = -3864.73, time = 0.07s"
       ]
      },
      {
       "output_type": "stream",
       "stream": "stdout",
       "text": [
        "\n",
        "[BernoulliRBM] Iteration 5, pseudo-likelihood = -4908.21, time = 0.08s"
       ]
      },
      {
       "output_type": "stream",
       "stream": "stdout",
       "text": [
        "\n",
        "[BernoulliRBM] Iteration 6, pseudo-likelihood = -5861.16, time = 0.08s"
       ]
      },
      {
       "output_type": "stream",
       "stream": "stdout",
       "text": [
        "\n",
        "[BernoulliRBM] Iteration 7, pseudo-likelihood = -6808.54, time = 0.08s"
       ]
      },
      {
       "output_type": "stream",
       "stream": "stdout",
       "text": [
        "\n",
        "[BernoulliRBM] Iteration 8, pseudo-likelihood = -7864.36, time = 0.07s"
       ]
      },
      {
       "output_type": "stream",
       "stream": "stdout",
       "text": [
        "\n",
        "[BernoulliRBM] Iteration 9, pseudo-likelihood = -8874.00, time = 0.08s"
       ]
      },
      {
       "output_type": "stream",
       "stream": "stdout",
       "text": [
        "\n",
        "[BernoulliRBM] Iteration 10, pseudo-likelihood = -9447.60, time = 0.08s"
       ]
      },
      {
       "output_type": "stream",
       "stream": "stdout",
       "text": [
        "\n",
        "[BernoulliRBM] Iteration 1, pseudo-likelihood = -1645.55, time = 0.05s"
       ]
      },
      {
       "output_type": "stream",
       "stream": "stdout",
       "text": [
        "\n",
        "[BernoulliRBM] Iteration 2, pseudo-likelihood = -2637.05, time = 0.07s"
       ]
      },
      {
       "output_type": "stream",
       "stream": "stdout",
       "text": [
        "\n",
        "[BernoulliRBM] Iteration 3, pseudo-likelihood = -3297.53, time = 0.08s"
       ]
      },
      {
       "output_type": "stream",
       "stream": "stdout",
       "text": [
        "\n",
        "[BernoulliRBM] Iteration 4, pseudo-likelihood = -4246.98, time = 0.08s"
       ]
      },
      {
       "output_type": "stream",
       "stream": "stdout",
       "text": [
        "\n",
        "[BernoulliRBM] Iteration 5, pseudo-likelihood = -5270.97, time = 0.07s"
       ]
      },
      {
       "output_type": "stream",
       "stream": "stdout",
       "text": [
        "\n",
        "[BernoulliRBM] Iteration 6, pseudo-likelihood = -6258.10, time = 0.08s"
       ]
      },
      {
       "output_type": "stream",
       "stream": "stdout",
       "text": [
        "\n",
        "[BernoulliRBM] Iteration 7, pseudo-likelihood = -7011.46, time = 0.07s"
       ]
      },
      {
       "output_type": "stream",
       "stream": "stdout",
       "text": [
        "\n",
        "[BernoulliRBM] Iteration 8, pseudo-likelihood = -7696.10, time = 0.08s"
       ]
      },
      {
       "output_type": "stream",
       "stream": "stdout",
       "text": [
        "\n",
        "[BernoulliRBM] Iteration 9, pseudo-likelihood = -8484.97, time = 0.07s"
       ]
      },
      {
       "output_type": "stream",
       "stream": "stdout",
       "text": [
        "\n",
        "[BernoulliRBM] Iteration 10, pseudo-likelihood = -9252.80, time = 0.08s"
       ]
      },
      {
       "output_type": "stream",
       "stream": "stdout",
       "text": [
        "\n",
        "[BernoulliRBM] Iteration 1, pseudo-likelihood = -1831.59, time = 0.05s"
       ]
      },
      {
       "output_type": "stream",
       "stream": "stdout",
       "text": [
        "\n",
        "[BernoulliRBM] Iteration 2, pseudo-likelihood = -2955.44, time = 0.08s"
       ]
      },
      {
       "output_type": "stream",
       "stream": "stdout",
       "text": [
        "\n",
        "[BernoulliRBM] Iteration 3, pseudo-likelihood = -3636.67, time = 0.09s"
       ]
      },
      {
       "output_type": "stream",
       "stream": "stdout",
       "text": [
        "\n",
        "[BernoulliRBM] Iteration 4, pseudo-likelihood = -4747.61, time = 0.08s"
       ]
      },
      {
       "output_type": "stream",
       "stream": "stdout",
       "text": [
        "\n",
        "[BernoulliRBM] Iteration 5, pseudo-likelihood = -5694.06, time = 0.09s"
       ]
      },
      {
       "output_type": "stream",
       "stream": "stdout",
       "text": [
        "\n",
        "[BernoulliRBM] Iteration 6, pseudo-likelihood = -6721.40, time = 0.09s"
       ]
      },
      {
       "output_type": "stream",
       "stream": "stdout",
       "text": [
        "\n",
        "[BernoulliRBM] Iteration 7, pseudo-likelihood = -7854.51, time = 0.08s"
       ]
      },
      {
       "output_type": "stream",
       "stream": "stdout",
       "text": [
        "\n",
        "[BernoulliRBM] Iteration 8, pseudo-likelihood = -9394.23, time = 0.09s"
       ]
      },
      {
       "output_type": "stream",
       "stream": "stdout",
       "text": [
        "\n",
        "[BernoulliRBM] Iteration 9, pseudo-likelihood = -10251.94, time = 0.08s"
       ]
      },
      {
       "output_type": "stream",
       "stream": "stdout",
       "text": [
        "\n",
        "[BernoulliRBM] Iteration 10, pseudo-likelihood = -11189.95, time = 0.08s"
       ]
      },
      {
       "output_type": "stream",
       "stream": "stdout",
       "text": [
        "\n",
        "[BernoulliRBM] Iteration 1, pseudo-likelihood = -1849.83, time = 0.06s"
       ]
      },
      {
       "output_type": "stream",
       "stream": "stdout",
       "text": [
        "\n",
        "[BernoulliRBM] Iteration 2, pseudo-likelihood = -3485.64, time = 0.09s"
       ]
      },
      {
       "output_type": "stream",
       "stream": "stdout",
       "text": [
        "\n",
        "[BernoulliRBM] Iteration 3, pseudo-likelihood = -4585.80, time = 0.09s"
       ]
      },
      {
       "output_type": "stream",
       "stream": "stdout",
       "text": [
        "\n",
        "[BernoulliRBM] Iteration 4, pseudo-likelihood = -6130.24, time = 0.10s"
       ]
      },
      {
       "output_type": "stream",
       "stream": "stdout",
       "text": [
        "\n",
        "[BernoulliRBM] Iteration 5, pseudo-likelihood = -7389.91, time = 0.09s"
       ]
      },
      {
       "output_type": "stream",
       "stream": "stdout",
       "text": [
        "\n",
        "[BernoulliRBM] Iteration 6, pseudo-likelihood = -8938.23, time = 0.09s"
       ]
      },
      {
       "output_type": "stream",
       "stream": "stdout",
       "text": [
        "\n",
        "[BernoulliRBM] Iteration 7, pseudo-likelihood = -9121.65, time = 0.08s"
       ]
      },
      {
       "output_type": "stream",
       "stream": "stdout",
       "text": [
        "\n",
        "[BernoulliRBM] Iteration 8, pseudo-likelihood = -9709.38, time = 0.08s"
       ]
      },
      {
       "output_type": "stream",
       "stream": "stdout",
       "text": [
        "\n",
        "[BernoulliRBM] Iteration 9, pseudo-likelihood = -10294.66, time = 0.07s"
       ]
      },
      {
       "output_type": "stream",
       "stream": "stdout",
       "text": [
        "\n",
        "[BernoulliRBM] Iteration 10, pseudo-likelihood = -10925.90, time = 0.09s"
       ]
      },
      {
       "output_type": "stream",
       "stream": "stdout",
       "text": [
        "\n",
        "[BernoulliRBM] Iteration 1, pseudo-likelihood = -1335.88, time = 0.05s"
       ]
      },
      {
       "output_type": "stream",
       "stream": "stdout",
       "text": [
        "\n",
        "[BernoulliRBM] Iteration 2, pseudo-likelihood = -1587.88, time = 0.08s"
       ]
      },
      {
       "output_type": "stream",
       "stream": "stdout",
       "text": [
        "\n",
        "[BernoulliRBM] Iteration 3, pseudo-likelihood = -2058.60, time = 0.08s"
       ]
      },
      {
       "output_type": "stream",
       "stream": "stdout",
       "text": [
        "\n",
        "[BernoulliRBM] Iteration 4, pseudo-likelihood = -2318.28, time = 0.08s"
       ]
      },
      {
       "output_type": "stream",
       "stream": "stdout",
       "text": [
        "\n",
        "[BernoulliRBM] Iteration 5, pseudo-likelihood = -2744.70, time = 0.09s"
       ]
      },
      {
       "output_type": "stream",
       "stream": "stdout",
       "text": [
        "\n",
        "[BernoulliRBM] Iteration 6, pseudo-likelihood = -3201.58, time = 0.07s"
       ]
      },
      {
       "output_type": "stream",
       "stream": "stdout",
       "text": [
        "\n",
        "[BernoulliRBM] Iteration 7, pseudo-likelihood = -3645.43, time = 0.08s"
       ]
      },
      {
       "output_type": "stream",
       "stream": "stdout",
       "text": [
        "\n",
        "[BernoulliRBM] Iteration 8, pseudo-likelihood = -4086.38, time = 0.07s"
       ]
      },
      {
       "output_type": "stream",
       "stream": "stdout",
       "text": [
        "\n",
        "[BernoulliRBM] Iteration 9, pseudo-likelihood = -4536.54, time = 0.08s"
       ]
      },
      {
       "output_type": "stream",
       "stream": "stdout",
       "text": [
        "\n",
        "[BernoulliRBM] Iteration 10, pseudo-likelihood = -4986.57, time = 0.07s"
       ]
      },
      {
       "output_type": "stream",
       "stream": "stdout",
       "text": [
        "\n",
        "[BernoulliRBM] Iteration 1, pseudo-likelihood = -1199.68, time = 0.06s"
       ]
      },
      {
       "output_type": "stream",
       "stream": "stdout",
       "text": [
        "\n",
        "[BernoulliRBM] Iteration 2, pseudo-likelihood = -1997.79, time = 0.09s"
       ]
      },
      {
       "output_type": "stream",
       "stream": "stdout",
       "text": [
        "\n",
        "[BernoulliRBM] Iteration 3, pseudo-likelihood = -2764.37, time = 0.08s"
       ]
      },
      {
       "output_type": "stream",
       "stream": "stdout",
       "text": [
        "\n",
        "[BernoulliRBM] Iteration 4, pseudo-likelihood = -3824.90, time = 0.08s"
       ]
      },
      {
       "output_type": "stream",
       "stream": "stdout",
       "text": [
        "\n",
        "[BernoulliRBM] Iteration 5, pseudo-likelihood = -4752.00, time = 0.08s"
       ]
      },
      {
       "output_type": "stream",
       "stream": "stdout",
       "text": [
        "\n",
        "[BernoulliRBM] Iteration 6, pseudo-likelihood = -5756.53, time = 0.08s"
       ]
      },
      {
       "output_type": "stream",
       "stream": "stdout",
       "text": [
        "\n",
        "[BernoulliRBM] Iteration 7, pseudo-likelihood = -6784.21, time = 0.08s"
       ]
      },
      {
       "output_type": "stream",
       "stream": "stdout",
       "text": [
        "\n",
        "[BernoulliRBM] Iteration 8, pseudo-likelihood = -7725.49, time = 0.08s"
       ]
      },
      {
       "output_type": "stream",
       "stream": "stdout",
       "text": [
        "\n",
        "[BernoulliRBM] Iteration 9, pseudo-likelihood = -9458.28, time = 0.09s"
       ]
      },
      {
       "output_type": "stream",
       "stream": "stdout",
       "text": [
        "\n",
        "[BernoulliRBM] Iteration 10, pseudo-likelihood = -9710.98, time = 0.09s"
       ]
      },
      {
       "output_type": "stream",
       "stream": "stdout",
       "text": [
        "\n",
        "[BernoulliRBM] Iteration 1, pseudo-likelihood = -1399.87, time = 0.06s"
       ]
      },
      {
       "output_type": "stream",
       "stream": "stdout",
       "text": [
        "\n",
        "[BernoulliRBM] Iteration 2, pseudo-likelihood = -2320.78, time = 0.09s"
       ]
      },
      {
       "output_type": "stream",
       "stream": "stdout",
       "text": [
        "\n",
        "[BernoulliRBM] Iteration 3, pseudo-likelihood = -3315.66, time = 0.09s"
       ]
      },
      {
       "output_type": "stream",
       "stream": "stdout",
       "text": [
        "\n",
        "[BernoulliRBM] Iteration 4, pseudo-likelihood = -4029.35, time = 0.09s"
       ]
      },
      {
       "output_type": "stream",
       "stream": "stdout",
       "text": [
        "\n",
        "[BernoulliRBM] Iteration 5, pseudo-likelihood = -5101.01, time = 0.08s"
       ]
      },
      {
       "output_type": "stream",
       "stream": "stdout",
       "text": [
        "\n",
        "[BernoulliRBM] Iteration 6, pseudo-likelihood = -6059.57, time = 0.08s"
       ]
      },
      {
       "output_type": "stream",
       "stream": "stdout",
       "text": [
        "\n",
        "[BernoulliRBM] Iteration 7, pseudo-likelihood = -7112.85, time = 0.08s"
       ]
      },
      {
       "output_type": "stream",
       "stream": "stdout",
       "text": [
        "\n",
        "[BernoulliRBM] Iteration 8, pseudo-likelihood = -8116.73, time = 0.08s"
       ]
      },
      {
       "output_type": "stream",
       "stream": "stdout",
       "text": [
        "\n",
        "[BernoulliRBM] Iteration 9, pseudo-likelihood = -9186.08, time = 0.09s"
       ]
      },
      {
       "output_type": "stream",
       "stream": "stdout",
       "text": [
        "\n",
        "[BernoulliRBM] Iteration 10, pseudo-likelihood = -10273.54, time = 0.09s"
       ]
      },
      {
       "output_type": "stream",
       "stream": "stdout",
       "text": [
        "\n",
        "[BernoulliRBM] Iteration 1, pseudo-likelihood = -1566.82, time = 0.05s"
       ]
      },
      {
       "output_type": "stream",
       "stream": "stdout",
       "text": [
        "\n",
        "[BernoulliRBM] Iteration 2, pseudo-likelihood = -2743.70, time = 0.09s"
       ]
      },
      {
       "output_type": "stream",
       "stream": "stdout",
       "text": [
        "\n",
        "[BernoulliRBM] Iteration 3, pseudo-likelihood = -3622.24, time = 0.08s"
       ]
      },
      {
       "output_type": "stream",
       "stream": "stdout",
       "text": [
        "\n",
        "[BernoulliRBM] Iteration 4, pseudo-likelihood = -4581.88, time = 0.09s"
       ]
      },
      {
       "output_type": "stream",
       "stream": "stdout",
       "text": [
        "\n",
        "[BernoulliRBM] Iteration 5, pseudo-likelihood = -5708.34, time = 0.09s"
       ]
      },
      {
       "output_type": "stream",
       "stream": "stdout",
       "text": [
        "\n",
        "[BernoulliRBM] Iteration 6, pseudo-likelihood = -6927.75, time = 0.07s"
       ]
      },
      {
       "output_type": "stream",
       "stream": "stdout",
       "text": [
        "\n",
        "[BernoulliRBM] Iteration 7, pseudo-likelihood = -8039.94, time = 0.08s"
       ]
      },
      {
       "output_type": "stream",
       "stream": "stdout",
       "text": [
        "\n",
        "[BernoulliRBM] Iteration 8, pseudo-likelihood = -8917.29, time = 0.08s"
       ]
      },
      {
       "output_type": "stream",
       "stream": "stdout",
       "text": [
        "\n",
        "[BernoulliRBM] Iteration 9, pseudo-likelihood = -9527.66, time = 0.09s"
       ]
      },
      {
       "output_type": "stream",
       "stream": "stdout",
       "text": [
        "\n",
        "[BernoulliRBM] Iteration 10, pseudo-likelihood = -10188.44, time = 0.09s"
       ]
      },
      {
       "output_type": "stream",
       "stream": "stdout",
       "text": [
        "\n",
        "[BernoulliRBM] Iteration 1, pseudo-likelihood = -1286.41, time = 0.05s"
       ]
      },
      {
       "output_type": "stream",
       "stream": "stdout",
       "text": [
        "\n",
        "[BernoulliRBM] Iteration 2, pseudo-likelihood = -2113.20, time = 0.09s"
       ]
      },
      {
       "output_type": "stream",
       "stream": "stdout",
       "text": [
        "\n",
        "[BernoulliRBM] Iteration 3, pseudo-likelihood = -3079.17, time = 0.09s"
       ]
      },
      {
       "output_type": "stream",
       "stream": "stdout",
       "text": [
        "\n",
        "[BernoulliRBM] Iteration 4, pseudo-likelihood = -4029.09, time = 0.09s"
       ]
      },
      {
       "output_type": "stream",
       "stream": "stdout",
       "text": [
        "\n",
        "[BernoulliRBM] Iteration 5, pseudo-likelihood = -5086.25, time = 0.08s"
       ]
      },
      {
       "output_type": "stream",
       "stream": "stdout",
       "text": [
        "\n",
        "[BernoulliRBM] Iteration 6, pseudo-likelihood = -6110.03, time = 0.08s"
       ]
      },
      {
       "output_type": "stream",
       "stream": "stdout",
       "text": [
        "\n",
        "[BernoulliRBM] Iteration 7, pseudo-likelihood = -7175.57, time = 0.08s"
       ]
      },
      {
       "output_type": "stream",
       "stream": "stdout",
       "text": [
        "\n",
        "[BernoulliRBM] Iteration 8, pseudo-likelihood = -8719.92, time = 0.09s"
       ]
      },
      {
       "output_type": "stream",
       "stream": "stdout",
       "text": [
        "\n",
        "[BernoulliRBM] Iteration 9, pseudo-likelihood = -8966.56, time = 0.08s"
       ]
      },
      {
       "output_type": "stream",
       "stream": "stdout",
       "text": [
        "\n",
        "[BernoulliRBM] Iteration 10, pseudo-likelihood = -8877.96, time = 0.09s"
       ]
      },
      {
       "output_type": "stream",
       "stream": "stdout",
       "text": [
        "\n",
        "[BernoulliRBM] Iteration 1, pseudo-likelihood = -1622.89, time = 0.05s"
       ]
      },
      {
       "output_type": "stream",
       "stream": "stdout",
       "text": [
        "\n",
        "[BernoulliRBM] Iteration 2, pseudo-likelihood = -2780.25, time = 0.08s"
       ]
      },
      {
       "output_type": "stream",
       "stream": "stdout",
       "text": [
        "\n",
        "[BernoulliRBM] Iteration 3, pseudo-likelihood = -3530.54, time = 0.08s"
       ]
      },
      {
       "output_type": "stream",
       "stream": "stdout",
       "text": [
        "\n",
        "[BernoulliRBM] Iteration 4, pseudo-likelihood = -4422.21, time = 0.08s"
       ]
      },
      {
       "output_type": "stream",
       "stream": "stdout",
       "text": [
        "\n",
        "[BernoulliRBM] Iteration 5, pseudo-likelihood = -5395.23, time = 0.09s"
       ]
      },
      {
       "output_type": "stream",
       "stream": "stdout",
       "text": [
        "\n",
        "[BernoulliRBM] Iteration 6, pseudo-likelihood = -6537.82, time = 0.09s"
       ]
      },
      {
       "output_type": "stream",
       "stream": "stdout",
       "text": [
        "\n",
        "[BernoulliRBM] Iteration 7, pseudo-likelihood = -7524.08, time = 0.09s"
       ]
      },
      {
       "output_type": "stream",
       "stream": "stdout",
       "text": [
        "\n",
        "[BernoulliRBM] Iteration 8, pseudo-likelihood = -8720.95, time = 0.07s"
       ]
      },
      {
       "output_type": "stream",
       "stream": "stdout",
       "text": [
        "\n",
        "[BernoulliRBM] Iteration 9, pseudo-likelihood = -9812.08, time = 0.08s"
       ]
      },
      {
       "output_type": "stream",
       "stream": "stdout",
       "text": [
        "\n",
        "[BernoulliRBM] Iteration 10, pseudo-likelihood = -10931.75, time = 0.08s"
       ]
      },
      {
       "output_type": "stream",
       "stream": "stdout",
       "text": [
        "\n",
        "[BernoulliRBM] Iteration 1, pseudo-likelihood = -1582.24, time = 0.05s"
       ]
      },
      {
       "output_type": "stream",
       "stream": "stdout",
       "text": [
        "\n",
        "[BernoulliRBM] Iteration 2, pseudo-likelihood = -2557.40, time = 0.10s"
       ]
      },
      {
       "output_type": "stream",
       "stream": "stdout",
       "text": [
        "\n",
        "[BernoulliRBM] Iteration 3, pseudo-likelihood = -3431.16, time = 0.09s"
       ]
      },
      {
       "output_type": "stream",
       "stream": "stdout",
       "text": [
        "\n",
        "[BernoulliRBM] Iteration 4, pseudo-likelihood = -4211.29, time = 0.09s"
       ]
      },
      {
       "output_type": "stream",
       "stream": "stdout",
       "text": [
        "\n",
        "[BernoulliRBM] Iteration 5, pseudo-likelihood = -5291.73, time = 0.09s"
       ]
      },
      {
       "output_type": "stream",
       "stream": "stdout",
       "text": [
        "\n",
        "[BernoulliRBM] Iteration 6, pseudo-likelihood = -6447.65, time = 0.08s"
       ]
      },
      {
       "output_type": "stream",
       "stream": "stdout",
       "text": [
        "\n",
        "[BernoulliRBM] Iteration 7, pseudo-likelihood = -7497.55, time = 0.08s"
       ]
      },
      {
       "output_type": "stream",
       "stream": "stdout",
       "text": [
        "\n",
        "[BernoulliRBM] Iteration 8, pseudo-likelihood = -8660.03, time = 0.08s"
       ]
      },
      {
       "output_type": "stream",
       "stream": "stdout",
       "text": [
        "\n",
        "[BernoulliRBM] Iteration 9, pseudo-likelihood = -9599.02, time = 0.08s"
       ]
      },
      {
       "output_type": "stream",
       "stream": "stdout",
       "text": [
        "\n",
        "[BernoulliRBM] Iteration 10, pseudo-likelihood = -10589.77, time = 0.08s"
       ]
      },
      {
       "output_type": "stream",
       "stream": "stdout",
       "text": [
        "\n",
        "[BernoulliRBM] Iteration 1, pseudo-likelihood = -1820.67, time = 0.05s"
       ]
      },
      {
       "output_type": "stream",
       "stream": "stdout",
       "text": [
        "\n",
        "[BernoulliRBM] Iteration 2, pseudo-likelihood = -2812.83, time = 0.10s"
       ]
      },
      {
       "output_type": "stream",
       "stream": "stdout",
       "text": [
        "\n",
        "[BernoulliRBM] Iteration 3, pseudo-likelihood = -3647.39, time = 0.08s"
       ]
      },
      {
       "output_type": "stream",
       "stream": "stdout",
       "text": [
        "\n",
        "[BernoulliRBM] Iteration 4, pseudo-likelihood = -4805.02, time = 0.08s"
       ]
      },
      {
       "output_type": "stream",
       "stream": "stdout",
       "text": [
        "\n",
        "[BernoulliRBM] Iteration 5, pseudo-likelihood = -5840.34, time = 0.08s"
       ]
      },
      {
       "output_type": "stream",
       "stream": "stdout",
       "text": [
        "\n",
        "[BernoulliRBM] Iteration 6, pseudo-likelihood = -7066.97, time = 0.08s"
       ]
      },
      {
       "output_type": "stream",
       "stream": "stdout",
       "text": [
        "\n",
        "[BernoulliRBM] Iteration 7, pseudo-likelihood = -8236.94, time = 0.08s"
       ]
      },
      {
       "output_type": "stream",
       "stream": "stdout",
       "text": [
        "\n",
        "[BernoulliRBM] Iteration 8, pseudo-likelihood = -9427.31, time = 0.08s"
       ]
      },
      {
       "output_type": "stream",
       "stream": "stdout",
       "text": [
        "\n",
        "[BernoulliRBM] Iteration 9, pseudo-likelihood = -10193.73, time = 0.09s"
       ]
      },
      {
       "output_type": "stream",
       "stream": "stdout",
       "text": [
        "\n",
        "[BernoulliRBM] Iteration 10, pseudo-likelihood = -10928.46, time = 0.09s"
       ]
      },
      {
       "output_type": "stream",
       "stream": "stdout",
       "text": [
        "\n",
        "[BernoulliRBM] Iteration 1, pseudo-likelihood = -2045.43, time = 0.05s"
       ]
      },
      {
       "output_type": "stream",
       "stream": "stdout",
       "text": [
        "\n",
        "[BernoulliRBM] Iteration 2, pseudo-likelihood = -3245.74, time = 0.09s"
       ]
      },
      {
       "output_type": "stream",
       "stream": "stdout",
       "text": [
        "\n",
        "[BernoulliRBM] Iteration 3, pseudo-likelihood = -4179.68, time = 0.09s"
       ]
      },
      {
       "output_type": "stream",
       "stream": "stdout",
       "text": [
        "\n",
        "[BernoulliRBM] Iteration 4, pseudo-likelihood = -5044.59, time = 0.08s"
       ]
      },
      {
       "output_type": "stream",
       "stream": "stdout",
       "text": [
        "\n",
        "[BernoulliRBM] Iteration 5, pseudo-likelihood = -6319.66, time = 0.08s"
       ]
      },
      {
       "output_type": "stream",
       "stream": "stdout",
       "text": [
        "\n",
        "[BernoulliRBM] Iteration 6, pseudo-likelihood = -7481.80, time = 0.08s"
       ]
      },
      {
       "output_type": "stream",
       "stream": "stdout",
       "text": [
        "\n",
        "[BernoulliRBM] Iteration 7, pseudo-likelihood = -8696.65, time = 0.08s"
       ]
      },
      {
       "output_type": "stream",
       "stream": "stdout",
       "text": [
        "\n",
        "[BernoulliRBM] Iteration 8, pseudo-likelihood = -9981.01, time = 0.09s"
       ]
      },
      {
       "output_type": "stream",
       "stream": "stdout",
       "text": [
        "\n",
        "[BernoulliRBM] Iteration 9, pseudo-likelihood = -11236.51, time = 0.09s"
       ]
      },
      {
       "output_type": "stream",
       "stream": "stdout",
       "text": [
        "\n",
        "[BernoulliRBM] Iteration 10, pseudo-likelihood = -12461.23, time = 0.08s"
       ]
      },
      {
       "output_type": "stream",
       "stream": "stdout",
       "text": [
        "\n",
        "[BernoulliRBM] Iteration 1, pseudo-likelihood = -2238.69, time = 0.06s"
       ]
      },
      {
       "output_type": "stream",
       "stream": "stdout",
       "text": [
        "\n",
        "[BernoulliRBM] Iteration 2, pseudo-likelihood = -4287.35, time = 0.10s"
       ]
      },
      {
       "output_type": "stream",
       "stream": "stdout",
       "text": [
        "\n",
        "[BernoulliRBM] Iteration 3, pseudo-likelihood = -5500.53, time = 0.09s"
       ]
      },
      {
       "output_type": "stream",
       "stream": "stdout",
       "text": [
        "\n",
        "[BernoulliRBM] Iteration 4, pseudo-likelihood = -7166.78, time = 0.10s"
       ]
      },
      {
       "output_type": "stream",
       "stream": "stdout",
       "text": [
        "\n",
        "[BernoulliRBM] Iteration 5, pseudo-likelihood = -8768.95, time = 0.10s"
       ]
      },
      {
       "output_type": "stream",
       "stream": "stdout",
       "text": [
        "\n",
        "[BernoulliRBM] Iteration 6, pseudo-likelihood = -10376.31, time = 0.09s"
       ]
      },
      {
       "output_type": "stream",
       "stream": "stdout",
       "text": [
        "\n",
        "[BernoulliRBM] Iteration 7, pseudo-likelihood = -10708.46, time = 0.10s"
       ]
      },
      {
       "output_type": "stream",
       "stream": "stdout",
       "text": [
        "\n",
        "[BernoulliRBM] Iteration 8, pseudo-likelihood = -10649.51, time = 0.10s"
       ]
      },
      {
       "output_type": "stream",
       "stream": "stdout",
       "text": [
        "\n",
        "[BernoulliRBM] Iteration 9, pseudo-likelihood = -11237.87, time = 0.10s"
       ]
      },
      {
       "output_type": "stream",
       "stream": "stdout",
       "text": [
        "\n",
        "[BernoulliRBM] Iteration 10, pseudo-likelihood = -11479.15, time = 0.10s"
       ]
      },
      {
       "output_type": "stream",
       "stream": "stdout",
       "text": [
        "\n",
        "[BernoulliRBM] Iteration 1, pseudo-likelihood = -1574.77, time = 0.06s"
       ]
      },
      {
       "output_type": "stream",
       "stream": "stdout",
       "text": [
        "\n",
        "[BernoulliRBM] Iteration 2, pseudo-likelihood = -1915.47, time = 0.10s"
       ]
      },
      {
       "output_type": "stream",
       "stream": "stdout",
       "text": [
        "\n",
        "[BernoulliRBM] Iteration 3, pseudo-likelihood = -2161.65, time = 0.09s"
       ]
      },
      {
       "output_type": "stream",
       "stream": "stdout",
       "text": [
        "\n",
        "[BernoulliRBM] Iteration 4, pseudo-likelihood = -2669.97, time = 0.10s"
       ]
      },
      {
       "output_type": "stream",
       "stream": "stdout",
       "text": [
        "\n",
        "[BernoulliRBM] Iteration 5, pseudo-likelihood = -3176.98, time = 0.09s"
       ]
      },
      {
       "output_type": "stream",
       "stream": "stdout",
       "text": [
        "\n",
        "[BernoulliRBM] Iteration 6, pseudo-likelihood = -3662.93, time = 0.09s"
       ]
      },
      {
       "output_type": "stream",
       "stream": "stdout",
       "text": [
        "\n",
        "[BernoulliRBM] Iteration 7, pseudo-likelihood = -4208.26, time = 0.09s"
       ]
      },
      {
       "output_type": "stream",
       "stream": "stdout",
       "text": [
        "\n",
        "[BernoulliRBM] Iteration 8, pseudo-likelihood = -4736.21, time = 0.09s"
       ]
      },
      {
       "output_type": "stream",
       "stream": "stdout",
       "text": [
        "\n",
        "[BernoulliRBM] Iteration 9, pseudo-likelihood = -5207.40, time = 0.09s"
       ]
      },
      {
       "output_type": "stream",
       "stream": "stdout",
       "text": [
        "\n",
        "[BernoulliRBM] Iteration 10, pseudo-likelihood = -5665.39, time = 0.09s"
       ]
      },
      {
       "output_type": "stream",
       "stream": "stdout",
       "text": [
        "\n",
        "[BernoulliRBM] Iteration 1, pseudo-likelihood = -1399.41, time = 0.06s"
       ]
      },
      {
       "output_type": "stream",
       "stream": "stdout",
       "text": [
        "\n",
        "[BernoulliRBM] Iteration 2, pseudo-likelihood = -2032.23, time = 0.10s"
       ]
      },
      {
       "output_type": "stream",
       "stream": "stdout",
       "text": [
        "\n",
        "[BernoulliRBM] Iteration 3, pseudo-likelihood = -3206.37, time = 0.10s"
       ]
      },
      {
       "output_type": "stream",
       "stream": "stdout",
       "text": [
        "\n",
        "[BernoulliRBM] Iteration 4, pseudo-likelihood = -4433.96, time = 0.09s"
       ]
      },
      {
       "output_type": "stream",
       "stream": "stdout",
       "text": [
        "\n",
        "[BernoulliRBM] Iteration 5, pseudo-likelihood = -5330.29, time = 0.09s"
       ]
      },
      {
       "output_type": "stream",
       "stream": "stdout",
       "text": [
        "\n",
        "[BernoulliRBM] Iteration 6, pseudo-likelihood = -6568.51, time = 0.10s"
       ]
      },
      {
       "output_type": "stream",
       "stream": "stdout",
       "text": [
        "\n",
        "[BernoulliRBM] Iteration 7, pseudo-likelihood = -7636.89, time = 0.09s"
       ]
      },
      {
       "output_type": "stream",
       "stream": "stdout",
       "text": [
        "\n",
        "[BernoulliRBM] Iteration 8, pseudo-likelihood = -8672.52, time = 0.10s"
       ]
      },
      {
       "output_type": "stream",
       "stream": "stdout",
       "text": [
        "\n",
        "[BernoulliRBM] Iteration 9, pseudo-likelihood = -9783.90, time = 0.09s"
       ]
      },
      {
       "output_type": "stream",
       "stream": "stdout",
       "text": [
        "\n",
        "[BernoulliRBM] Iteration 10, pseudo-likelihood = -10894.56, time = 0.10s"
       ]
      },
      {
       "output_type": "stream",
       "stream": "stdout",
       "text": [
        "\n",
        "[BernoulliRBM] Iteration 1, pseudo-likelihood = -1604.94, time = 0.06s"
       ]
      },
      {
       "output_type": "stream",
       "stream": "stdout",
       "text": [
        "\n",
        "[BernoulliRBM] Iteration 2, pseudo-likelihood = -2801.80, time = 0.09s"
       ]
      },
      {
       "output_type": "stream",
       "stream": "stdout",
       "text": [
        "\n",
        "[BernoulliRBM] Iteration 3, pseudo-likelihood = -3674.00, time = 0.09s"
       ]
      },
      {
       "output_type": "stream",
       "stream": "stdout",
       "text": [
        "\n",
        "[BernoulliRBM] Iteration 4, pseudo-likelihood = -5032.47, time = 0.08s"
       ]
      },
      {
       "output_type": "stream",
       "stream": "stdout",
       "text": [
        "\n",
        "[BernoulliRBM] Iteration 5, pseudo-likelihood = -6023.55, time = 0.10s"
       ]
      },
      {
       "output_type": "stream",
       "stream": "stdout",
       "text": [
        "\n",
        "[BernoulliRBM] Iteration 6, pseudo-likelihood = -7307.58, time = 0.10s"
       ]
      },
      {
       "output_type": "stream",
       "stream": "stdout",
       "text": [
        "\n",
        "[BernoulliRBM] Iteration 7, pseudo-likelihood = -7696.28, time = 0.09s"
       ]
      },
      {
       "output_type": "stream",
       "stream": "stdout",
       "text": [
        "\n",
        "[BernoulliRBM] Iteration 8, pseudo-likelihood = -8676.39, time = 0.10s"
       ]
      },
      {
       "output_type": "stream",
       "stream": "stdout",
       "text": [
        "\n",
        "[BernoulliRBM] Iteration 9, pseudo-likelihood = -9598.52, time = 0.10s"
       ]
      },
      {
       "output_type": "stream",
       "stream": "stdout",
       "text": [
        "\n",
        "[BernoulliRBM] Iteration 10, pseudo-likelihood = -10689.00, time = 0.09s"
       ]
      },
      {
       "output_type": "stream",
       "stream": "stdout",
       "text": [
        "\n",
        "[BernoulliRBM] Iteration 1, pseudo-likelihood = -1788.57, time = 0.06s"
       ]
      },
      {
       "output_type": "stream",
       "stream": "stdout",
       "text": [
        "\n",
        "[BernoulliRBM] Iteration 2, pseudo-likelihood = -3150.48, time = 0.11s"
       ]
      },
      {
       "output_type": "stream",
       "stream": "stdout",
       "text": [
        "\n",
        "[BernoulliRBM] Iteration 3, pseudo-likelihood = -4381.91, time = 0.09s"
       ]
      },
      {
       "output_type": "stream",
       "stream": "stdout",
       "text": [
        "\n",
        "[BernoulliRBM] Iteration 4, pseudo-likelihood = -5488.66, time = 0.09s"
       ]
      },
      {
       "output_type": "stream",
       "stream": "stdout",
       "text": [
        "\n",
        "[BernoulliRBM] Iteration 5, pseudo-likelihood = -6700.74, time = 0.09s"
       ]
      },
      {
       "output_type": "stream",
       "stream": "stdout",
       "text": [
        "\n",
        "[BernoulliRBM] Iteration 6, pseudo-likelihood = -8023.92, time = 0.09s"
       ]
      },
      {
       "output_type": "stream",
       "stream": "stdout",
       "text": [
        "\n",
        "[BernoulliRBM] Iteration 7, pseudo-likelihood = -9512.89, time = 0.09s"
       ]
      },
      {
       "output_type": "stream",
       "stream": "stdout",
       "text": [
        "\n",
        "[BernoulliRBM] Iteration 8, pseudo-likelihood = -11120.11, time = 0.10s"
       ]
      },
      {
       "output_type": "stream",
       "stream": "stdout",
       "text": [
        "\n",
        "[BernoulliRBM] Iteration 9, pseudo-likelihood = -11992.38, time = 0.10s"
       ]
      },
      {
       "output_type": "stream",
       "stream": "stdout",
       "text": [
        "\n",
        "[BernoulliRBM] Iteration 10, pseudo-likelihood = -12623.30, time = 0.09s"
       ]
      },
      {
       "output_type": "stream",
       "stream": "stdout",
       "text": [
        "\n",
        "[BernoulliRBM] Iteration 1, pseudo-likelihood = -1496.20, time = 0.06s"
       ]
      },
      {
       "output_type": "stream",
       "stream": "stdout",
       "text": [
        "\n",
        "[BernoulliRBM] Iteration 2, pseudo-likelihood = -2544.11, time = 0.09s"
       ]
      },
      {
       "output_type": "stream",
       "stream": "stdout",
       "text": [
        "\n",
        "[BernoulliRBM] Iteration 3, pseudo-likelihood = -3536.18, time = 0.09s"
       ]
      },
      {
       "output_type": "stream",
       "stream": "stdout",
       "text": [
        "\n",
        "[BernoulliRBM] Iteration 4, pseudo-likelihood = -4600.58, time = 0.09s"
       ]
      },
      {
       "output_type": "stream",
       "stream": "stdout",
       "text": [
        "\n",
        "[BernoulliRBM] Iteration 5, pseudo-likelihood = -5383.43, time = 0.10s"
       ]
      },
      {
       "output_type": "stream",
       "stream": "stdout",
       "text": [
        "\n",
        "[BernoulliRBM] Iteration 6, pseudo-likelihood = -6193.61, time = 0.10s"
       ]
      },
      {
       "output_type": "stream",
       "stream": "stdout",
       "text": [
        "\n",
        "[BernoulliRBM] Iteration 7, pseudo-likelihood = -7059.45, time = 0.10s"
       ]
      },
      {
       "output_type": "stream",
       "stream": "stdout",
       "text": [
        "\n",
        "[BernoulliRBM] Iteration 8, pseudo-likelihood = -7925.69, time = 0.09s"
       ]
      },
      {
       "output_type": "stream",
       "stream": "stdout",
       "text": [
        "\n",
        "[BernoulliRBM] Iteration 9, pseudo-likelihood = -9069.49, time = 0.10s"
       ]
      },
      {
       "output_type": "stream",
       "stream": "stdout",
       "text": [
        "\n",
        "[BernoulliRBM] Iteration 10, pseudo-likelihood = -9655.06, time = 0.10s"
       ]
      },
      {
       "output_type": "stream",
       "stream": "stdout",
       "text": [
        "\n",
        "[BernoulliRBM] Iteration 1, pseudo-likelihood = -1870.06, time = 0.06s"
       ]
      },
      {
       "output_type": "stream",
       "stream": "stdout",
       "text": [
        "\n",
        "[BernoulliRBM] Iteration 2, pseudo-likelihood = -3292.30, time = 0.10s"
       ]
      },
      {
       "output_type": "stream",
       "stream": "stdout",
       "text": [
        "\n",
        "[BernoulliRBM] Iteration 3, pseudo-likelihood = -4150.03, time = 0.09s"
       ]
      },
      {
       "output_type": "stream",
       "stream": "stdout",
       "text": [
        "\n",
        "[BernoulliRBM] Iteration 4, pseudo-likelihood = -5283.67, time = 0.09s"
       ]
      },
      {
       "output_type": "stream",
       "stream": "stdout",
       "text": [
        "\n",
        "[BernoulliRBM] Iteration 5, pseudo-likelihood = -6546.91, time = 0.09s"
       ]
      },
      {
       "output_type": "stream",
       "stream": "stdout",
       "text": [
        "\n",
        "[BernoulliRBM] Iteration 6, pseudo-likelihood = -7714.67, time = 0.10s"
       ]
      },
      {
       "output_type": "stream",
       "stream": "stdout",
       "text": [
        "\n",
        "[BernoulliRBM] Iteration 7, pseudo-likelihood = -9078.06, time = 0.09s"
       ]
      },
      {
       "output_type": "stream",
       "stream": "stdout",
       "text": [
        "\n",
        "[BernoulliRBM] Iteration 8, pseudo-likelihood = -10438.48, time = 0.08s"
       ]
      },
      {
       "output_type": "stream",
       "stream": "stdout",
       "text": [
        "\n",
        "[BernoulliRBM] Iteration 9, pseudo-likelihood = -11771.55, time = 0.09s"
       ]
      },
      {
       "output_type": "stream",
       "stream": "stdout",
       "text": [
        "\n",
        "[BernoulliRBM] Iteration 10, pseudo-likelihood = -13105.39, time = 0.10s"
       ]
      },
      {
       "output_type": "stream",
       "stream": "stdout",
       "text": [
        "\n",
        "[BernoulliRBM] Iteration 1, pseudo-likelihood = -1793.72, time = 0.06s"
       ]
      },
      {
       "output_type": "stream",
       "stream": "stdout",
       "text": [
        "\n",
        "[BernoulliRBM] Iteration 2, pseudo-likelihood = -3030.08, time = 0.11s"
       ]
      },
      {
       "output_type": "stream",
       "stream": "stdout",
       "text": [
        "\n",
        "[BernoulliRBM] Iteration 3, pseudo-likelihood = -3846.10, time = 0.09s"
       ]
      },
      {
       "output_type": "stream",
       "stream": "stdout",
       "text": [
        "\n",
        "[BernoulliRBM] Iteration 4, pseudo-likelihood = -5155.59, time = 0.09s"
       ]
      },
      {
       "output_type": "stream",
       "stream": "stdout",
       "text": [
        "\n",
        "[BernoulliRBM] Iteration 5, pseudo-likelihood = -6505.59, time = 0.09s"
       ]
      },
      {
       "output_type": "stream",
       "stream": "stdout",
       "text": [
        "\n",
        "[BernoulliRBM] Iteration 6, pseudo-likelihood = -7687.36, time = 0.08s"
       ]
      },
      {
       "output_type": "stream",
       "stream": "stdout",
       "text": [
        "\n",
        "[BernoulliRBM] Iteration 7, pseudo-likelihood = -9057.75, time = 0.09s"
       ]
      },
      {
       "output_type": "stream",
       "stream": "stdout",
       "text": [
        "\n",
        "[BernoulliRBM] Iteration 8, pseudo-likelihood = -10435.05, time = 0.09s"
       ]
      },
      {
       "output_type": "stream",
       "stream": "stdout",
       "text": [
        "\n",
        "[BernoulliRBM] Iteration 9, pseudo-likelihood = -11807.67, time = 0.08s"
       ]
      },
      {
       "output_type": "stream",
       "stream": "stdout",
       "text": [
        "\n",
        "[BernoulliRBM] Iteration 10, pseudo-likelihood = -13205.08, time = 0.10s"
       ]
      },
      {
       "output_type": "stream",
       "stream": "stdout",
       "text": [
        "\n",
        "[BernoulliRBM] Iteration 1, pseudo-likelihood = -2076.34, time = 0.06s"
       ]
      },
      {
       "output_type": "stream",
       "stream": "stdout",
       "text": [
        "\n",
        "[BernoulliRBM] Iteration 2, pseudo-likelihood = -3326.61, time = 0.09s"
       ]
      },
      {
       "output_type": "stream",
       "stream": "stdout",
       "text": [
        "\n",
        "[BernoulliRBM] Iteration 3, pseudo-likelihood = -4295.08, time = 0.09s"
       ]
      },
      {
       "output_type": "stream",
       "stream": "stdout",
       "text": [
        "\n",
        "[BernoulliRBM] Iteration 4, pseudo-likelihood = -5625.14, time = 0.10s"
       ]
      },
      {
       "output_type": "stream",
       "stream": "stdout",
       "text": [
        "\n",
        "[BernoulliRBM] Iteration 5, pseudo-likelihood = -6957.49, time = 0.10s"
       ]
      },
      {
       "output_type": "stream",
       "stream": "stdout",
       "text": [
        "\n",
        "[BernoulliRBM] Iteration 6, pseudo-likelihood = -8375.80, time = 0.09s"
       ]
      },
      {
       "output_type": "stream",
       "stream": "stdout",
       "text": [
        "\n",
        "[BernoulliRBM] Iteration 7, pseudo-likelihood = -9738.85, time = 0.09s"
       ]
      },
      {
       "output_type": "stream",
       "stream": "stdout",
       "text": [
        "\n",
        "[BernoulliRBM] Iteration 8, pseudo-likelihood = -11206.83, time = 0.11s"
       ]
      },
      {
       "output_type": "stream",
       "stream": "stdout",
       "text": [
        "\n",
        "[BernoulliRBM] Iteration 9, pseudo-likelihood = -11197.32, time = 0.09s"
       ]
      },
      {
       "output_type": "stream",
       "stream": "stdout",
       "text": [
        "\n",
        "[BernoulliRBM] Iteration 10, pseudo-likelihood = -11756.65, time = 0.10s"
       ]
      },
      {
       "output_type": "stream",
       "stream": "stdout",
       "text": [
        "\n",
        "[BernoulliRBM] Iteration 1, pseudo-likelihood = -2363.28, time = 0.06s"
       ]
      },
      {
       "output_type": "stream",
       "stream": "stdout",
       "text": [
        "\n",
        "[BernoulliRBM] Iteration 2, pseudo-likelihood = -3692.85, time = 0.09s"
       ]
      },
      {
       "output_type": "stream",
       "stream": "stdout",
       "text": [
        "\n",
        "[BernoulliRBM] Iteration 3, pseudo-likelihood = -4727.98, time = 0.09s"
       ]
      },
      {
       "output_type": "stream",
       "stream": "stdout",
       "text": [
        "\n",
        "[BernoulliRBM] Iteration 4, pseudo-likelihood = -6222.12, time = 0.09s"
       ]
      },
      {
       "output_type": "stream",
       "stream": "stdout",
       "text": [
        "\n",
        "[BernoulliRBM] Iteration 5, pseudo-likelihood = -7508.96, time = 0.09s"
       ]
      },
      {
       "output_type": "stream",
       "stream": "stdout",
       "text": [
        "\n",
        "[BernoulliRBM] Iteration 6, pseudo-likelihood = -8854.83, time = 0.10s"
       ]
      },
      {
       "output_type": "stream",
       "stream": "stdout",
       "text": [
        "\n",
        "[BernoulliRBM] Iteration 7, pseudo-likelihood = -10384.29, time = 0.09s"
       ]
      },
      {
       "output_type": "stream",
       "stream": "stdout",
       "text": [
        "\n",
        "[BernoulliRBM] Iteration 8, pseudo-likelihood = -11865.79, time = 0.09s"
       ]
      },
      {
       "output_type": "stream",
       "stream": "stdout",
       "text": [
        "\n",
        "[BernoulliRBM] Iteration 9, pseudo-likelihood = -13316.87, time = 0.08s"
       ]
      },
      {
       "output_type": "stream",
       "stream": "stdout",
       "text": [
        "\n",
        "[BernoulliRBM] Iteration 10, pseudo-likelihood = -14822.52, time = 0.09s"
       ]
      },
      {
       "output_type": "stream",
       "stream": "stdout",
       "text": [
        "\n",
        "[BernoulliRBM] Iteration 1, pseudo-likelihood = -1372.10, time = 0.06s"
       ]
      },
      {
       "output_type": "stream",
       "stream": "stdout",
       "text": [
        "\n",
        "[BernoulliRBM] Iteration 2, pseudo-likelihood = -2360.00, time = 0.10s"
       ]
      },
      {
       "output_type": "stream",
       "stream": "stdout",
       "text": [
        "\n",
        "[BernoulliRBM] Iteration 3, pseudo-likelihood = -2808.49, time = 0.09s"
       ]
      },
      {
       "output_type": "stream",
       "stream": "stdout",
       "text": [
        "\n",
        "[BernoulliRBM] Iteration 4, pseudo-likelihood = -3691.79, time = 0.09s"
       ]
      },
      {
       "output_type": "stream",
       "stream": "stdout",
       "text": [
        "\n",
        "[BernoulliRBM] Iteration 5, pseudo-likelihood = -4695.92, time = 0.10s"
       ]
      },
      {
       "output_type": "stream",
       "stream": "stdout",
       "text": [
        "\n",
        "[BernoulliRBM] Iteration 6, pseudo-likelihood = -5416.05, time = 0.10s"
       ]
      },
      {
       "output_type": "stream",
       "stream": "stdout",
       "text": [
        "\n",
        "[BernoulliRBM] Iteration 7, pseudo-likelihood = -6236.32, time = 0.09s"
       ]
      },
      {
       "output_type": "stream",
       "stream": "stdout",
       "text": [
        "\n",
        "[BernoulliRBM] Iteration 8, pseudo-likelihood = -7046.37, time = 0.09s"
       ]
      },
      {
       "output_type": "stream",
       "stream": "stdout",
       "text": [
        "\n",
        "[BernoulliRBM] Iteration 9, pseudo-likelihood = -7904.19, time = 0.09s"
       ]
      },
      {
       "output_type": "stream",
       "stream": "stdout",
       "text": [
        "\n",
        "[BernoulliRBM] Iteration 10, pseudo-likelihood = -8800.28, time = 0.09s"
       ]
      },
      {
       "output_type": "stream",
       "stream": "stdout",
       "text": [
        "\n",
        "0.511930929318"
       ]
      },
      {
       "output_type": "stream",
       "stream": "stdout",
       "text": [
        "\n",
        "0.546288316611\n",
        "0.526011730342\n",
        "{'neural_net__n_components': 400, 'neural_net__learning_rate': 0.11}\n"
       ]
      }
     ],
     "prompt_number": 27
    },
    {
     "cell_type": "code",
     "collapsed": false,
     "input": [
      "import numpy as np\n",
      "from sklearn.linear_model import LogisticRegression\n",
      "from sklearn.cross_validation import train_test_split\n",
      "from sklearn import metrics\n",
      "from sklearn.cross_validation import cross_val_score\n",
      "\n",
      "#Add in scores for logistic regression and naive bayes\n",
      "#Logistic Regression\n",
      "# create dataframes with an intercept column and dummy variables for\n",
      "# occupation and occupation_husb\n",
      "print 'Logistic Regression with same set of explanatory variables'\n",
      "#y, X = dmatrices('inducted ~ outs_pitched',df, return_type=\"dataframe\")\n",
      "#print X.columns\n",
      "\n",
      "# flatten y into a 1-D array\n",
      "y = np.ravel(response_series)\n",
      "X=explanatory_df\n",
      "# instantiate a logistic regression model, and fit with X and y\n",
      "model = LogisticRegression()\n",
      "model = model.fit(X, y)\n",
      "\n",
      "# check the accuracy on the training set\n",
      "print model.score(X, y)\n",
      "#Accuracy is 78%\n",
      "\n",
      "# what percentage were inducted\n",
      "print y.mean()\n",
      "#It appears that 22% of players were inducted\n",
      "\n",
      "# evaluate the model using 10-fold cross-validation\n",
      "acc_scores_log = cross_val_score(LogisticRegression(), X, y, scoring='accuracy', cv=10)\n",
      "print acc_scores_log\n",
      "\n",
      "roc_scores_log = cross_val_score(LogisticRegression(), X, y, scoring='roc_auc', cv=10)\n",
      "print roc_scores_log\n",
      "\n",
      "#[ 0.75        0.75        0.7816092   0.75862069  0.79310345  0.7816092\n",
      "#  0.77011494  0.7816092   0.80232558  0.76744186]\n",
      "\n",
      "print roc_scores_log.mean()\n",
      "\n",
      "#With cross validation we see that the model is performing at 77% accuracy"
     ],
     "language": "python",
     "metadata": {},
     "outputs": [
      {
       "output_type": "stream",
       "stream": "stdout",
       "text": [
        "Logistic Regression with same set of explanatory variables\n",
        "0.783908045977\n",
        "0.220689655172\n",
        "[ 0.75        0.75        0.7816092   0.75862069  0.79310345  0.7816092\n",
        "  0.77011494  0.7816092   0.80232558  0.76744186]"
       ]
      },
      {
       "output_type": "stream",
       "stream": "stdout",
       "text": [
        "\n",
        "[ 0.55661765  0.44558824  0.53947368  0.60913313  0.61377709  0.61609907\n",
        "  0.57275542  0.5998452   0.52160251  0.55223881]"
       ]
      },
      {
       "output_type": "stream",
       "stream": "stdout",
       "text": [
        "\n",
        "0.56271307934\n"
       ]
      }
     ],
     "prompt_number": 46
    },
    {
     "cell_type": "code",
     "collapsed": false,
     "input": [
      "#Also do Naive Bayes Classifier\n",
      "# create a naive Bayes classifier and get it cross-validated accuracy score. \n",
      "from sklearn.naive_bayes import MultinomialNB\n",
      "from sklearn.cross_validation import cross_val_score\n",
      "\n",
      "# creating the naive bayes classifier object \n",
      "naive_bayes_classifier = MultinomialNB()"
     ],
     "language": "python",
     "metadata": {},
     "outputs": [],
     "prompt_number": 35
    },
    {
     "cell_type": "code",
     "collapsed": false,
     "input": [
      "#Also do Naive Bayes Classifier\n",
      "#Note that MultinomialNB had a scores must be non-negative error\n",
      "from sklearn.naive_bayes import MultinomialNB,GaussianNB\n",
      "from sklearn.cross_validation import cross_val_score\n",
      "\n",
      "# creating the naive bayes classifier object \n",
      "naive_bayes_classifier = GaussianNB()\n",
      "\n"
     ],
     "language": "python",
     "metadata": {},
     "outputs": [],
     "prompt_number": 37
    },
    {
     "cell_type": "code",
     "collapsed": false,
     "input": [
      "# running a cross-validates score on accuracy.  Notice I set \n",
      "# n_jobs to -1, which means I'm going to use all my computer's \n",
      "# cores to find the result.\n",
      "acc_scores_naive = cross_val_score(naive_bayes_classifier, explanatory_df, response_series, cv=10, scoring='accuracy')\n",
      "\n",
      "# let's see how accurate the model is, on average.\n",
      "print acc_scores_naive.mean()\n",
      "\n",
      "## calculating the ROC area under the curve score. \n",
      "roc_scores_naive = cross_val_score(naive_bayes_classifier, explanatory_df, response_series, cv=10, scoring='roc_auc')\n",
      "print roc_scores_naive.mean()"
     ],
     "language": "python",
     "metadata": {},
     "outputs": [
      {
       "output_type": "stream",
       "stream": "stdout",
       "text": [
        "0.281636837501\n",
        "0.519150368513\n"
       ]
      }
     ],
     "prompt_number": 44
    },
    {
     "cell_type": "code",
     "collapsed": false,
     "input": [
      "#Compare Scores using ROC_AUC\n",
      "#RF\n",
      "print 'Random Forest'\n",
      "print roc_scores_rf.mean()\n",
      "\n",
      "#GBM\n",
      "print 'Boosting Model'\n",
      "print roc_scores_gbm.mean()\n",
      "\n",
      "#NN\n",
      "print 'Nearest Neighbors'\n",
      "print roc_scores_nn.mean()\n",
      "\n",
      "#Decision Tree\n",
      "print 'Decision Tree'\n",
      "print roc_score_tree.mean()\n",
      "\n",
      "#Logistic Regression\n",
      "print 'Logistic Regression'\n",
      "print roc_scores_log.mean()\n",
      "\n",
      "#Naive Bayes\n",
      "print 'Naive Bayes'\n",
      "roc_scores_naive.mean()\n",
      "\n",
      "#Comparing the models, it looks like logistic regression had the best roc auc"
     ],
     "language": "python",
     "metadata": {},
     "outputs": [
      {
       "output_type": "stream",
       "stream": "stdout",
       "text": [
        "Random Forest\n",
        "0.495349105864\n",
        "Boosting Model\n",
        "0.536314663139\n",
        "Nearest Neighbors\n",
        "0.481884126196\n",
        "Decision Tree\n",
        "0.482419712583\n",
        "Logistic Regression\n",
        "0.56271307934\n",
        "Naive Bayes\n"
       ]
      },
      {
       "metadata": {},
       "output_type": "pyout",
       "prompt_number": 49,
       "text": [
        "0.51915036851346985"
       ]
      }
     ],
     "prompt_number": 49
    },
    {
     "cell_type": "code",
     "collapsed": false,
     "input": [
      "# let's do some grid search.\n",
      "# i constrained this more than I should for the sake of time.\n",
      "# i also commented out iteraton to speed things up -- \n",
      "# feel free to uncomment in your spare time.\n",
      "learning_rate_range = arange(0.01, 0.2, 0.05)\n",
      "iteration_range = range(30, 50, 5)\n",
      "components_range = range(250, 500, 50)\n",
      "\n",
      "# notice that I have the name of the item in the pipeline \n",
      "# followed by two underscores when I build the pipeline.\n",
      "param_grid = dict(neural_net__n_components = components_range, neural_net__learning_rate = learning_rate_range, neural_net__n_iter = iteration_range)\n",
      "\n",
      "# doing 5-fold CV here for reasons of time; feel free to do 10-fold \n",
      "# in your own leisure.\n",
      "nn_grid = GridSearchCV(neural_classifier, param_grid, cv=10, scoring='roc_auc')\n",
      "nn_grid.fit(explanatory_df, response_series)\n",
      "\n",
      "## pull out best score\n",
      "print nn_grid.best_score_\n",
      "## compare to other grid best scores\n",
      "print gbm_grid.best_score_\n",
      "print grid.best_score_\n",
      "\n",
      "print nn_grid.best_params_\n"
     ],
     "language": "python",
     "metadata": {},
     "outputs": [
      {
       "output_type": "stream",
       "stream": "stdout",
       "text": [
        "[BernoulliRBM] Iteration 1, pseudo-likelihood = -124.60, time = 0.04s\n",
        "[BernoulliRBM] Iteration 2, pseudo-likelihood = -130.05, time = 0.05s"
       ]
      },
      {
       "output_type": "stream",
       "stream": "stdout",
       "text": [
        "\n",
        "[BernoulliRBM] Iteration 3, pseudo-likelihood = -136.10, time = 0.07s"
       ]
      },
      {
       "output_type": "stream",
       "stream": "stdout",
       "text": [
        "\n",
        "[BernoulliRBM] Iteration 4, pseudo-likelihood = -153.30, time = 0.07s"
       ]
      },
      {
       "output_type": "stream",
       "stream": "stdout",
       "text": [
        "\n",
        "[BernoulliRBM] Iteration 5, pseudo-likelihood = -163.24, time = 0.07s"
       ]
      },
      {
       "output_type": "stream",
       "stream": "stdout",
       "text": [
        "\n",
        "[BernoulliRBM] Iteration 6, pseudo-likelihood = -182.65, time = 0.07s"
       ]
      },
      {
       "output_type": "stream",
       "stream": "stdout",
       "text": [
        "\n",
        "[BernoulliRBM] Iteration 7, pseudo-likelihood = -193.75, time = 0.06s"
       ]
      },
      {
       "output_type": "stream",
       "stream": "stdout",
       "text": [
        "\n",
        "[BernoulliRBM] Iteration 8, pseudo-likelihood = -210.54, time = 0.07s"
       ]
      },
      {
       "output_type": "stream",
       "stream": "stdout",
       "text": [
        "\n",
        "[BernoulliRBM] Iteration 9, pseudo-likelihood = -222.66, time = 0.06s"
       ]
      },
      {
       "output_type": "stream",
       "stream": "stdout",
       "text": [
        "\n",
        "[BernoulliRBM] Iteration 10, pseudo-likelihood = -233.86, time = 0.06s"
       ]
      },
      {
       "output_type": "stream",
       "stream": "stdout",
       "text": [
        "\n",
        "[BernoulliRBM] Iteration 11, pseudo-likelihood = -246.82, time = 0.07s"
       ]
      },
      {
       "output_type": "stream",
       "stream": "stdout",
       "text": [
        "\n",
        "[BernoulliRBM] Iteration 12, pseudo-likelihood = -265.64, time = 0.06s"
       ]
      },
      {
       "output_type": "stream",
       "stream": "stdout",
       "text": [
        "\n",
        "[BernoulliRBM] Iteration 13, pseudo-likelihood = -274.78, time = 0.06s"
       ]
      },
      {
       "output_type": "stream",
       "stream": "stdout",
       "text": [
        "\n",
        "[BernoulliRBM] Iteration 14, pseudo-likelihood = -293.94, time = 0.07s"
       ]
      },
      {
       "output_type": "stream",
       "stream": "stdout",
       "text": [
        "\n",
        "[BernoulliRBM] Iteration 15, pseudo-likelihood = -309.11, time = 0.06s"
       ]
      },
      {
       "output_type": "stream",
       "stream": "stdout",
       "text": [
        "\n",
        "[BernoulliRBM] Iteration 16, pseudo-likelihood = -323.82, time = 0.06s"
       ]
      },
      {
       "output_type": "stream",
       "stream": "stdout",
       "text": [
        "\n",
        "[BernoulliRBM] Iteration 17, pseudo-likelihood = -341.32, time = 0.06s"
       ]
      },
      {
       "output_type": "stream",
       "stream": "stdout",
       "text": [
        "\n",
        "[BernoulliRBM] Iteration 18, pseudo-likelihood = -349.35, time = 0.06s"
       ]
      },
      {
       "output_type": "stream",
       "stream": "stdout",
       "text": [
        "\n",
        "[BernoulliRBM] Iteration 19, pseudo-likelihood = -369.93, time = 0.06s"
       ]
      },
      {
       "output_type": "stream",
       "stream": "stdout",
       "text": [
        "\n",
        "[BernoulliRBM] Iteration 20, pseudo-likelihood = -389.84, time = 0.06s"
       ]
      },
      {
       "output_type": "stream",
       "stream": "stdout",
       "text": [
        "\n",
        "[BernoulliRBM] Iteration 21, pseudo-likelihood = -397.44, time = 0.05s"
       ]
      },
      {
       "output_type": "stream",
       "stream": "stdout",
       "text": [
        "\n",
        "[BernoulliRBM] Iteration 22, pseudo-likelihood = -411.23, time = 0.06s"
       ]
      },
      {
       "output_type": "stream",
       "stream": "stdout",
       "text": [
        "\n",
        "[BernoulliRBM] Iteration 23, pseudo-likelihood = -426.41, time = 0.06s"
       ]
      },
      {
       "output_type": "stream",
       "stream": "stdout",
       "text": [
        "\n",
        "[BernoulliRBM] Iteration 24, pseudo-likelihood = -443.40, time = 0.06s"
       ]
      },
      {
       "output_type": "stream",
       "stream": "stdout",
       "text": [
        "\n",
        "[BernoulliRBM] Iteration 25, pseudo-likelihood = -457.32, time = 0.06s"
       ]
      },
      {
       "output_type": "stream",
       "stream": "stdout",
       "text": [
        "\n",
        "[BernoulliRBM] Iteration 26, pseudo-likelihood = -471.49, time = 0.06s"
       ]
      },
      {
       "output_type": "stream",
       "stream": "stdout",
       "text": [
        "\n",
        "[BernoulliRBM] Iteration 27, pseudo-likelihood = -488.11, time = 0.06s"
       ]
      },
      {
       "output_type": "stream",
       "stream": "stdout",
       "text": [
        "\n",
        "[BernoulliRBM] Iteration 28, pseudo-likelihood = -505.72, time = 0.06s"
       ]
      },
      {
       "output_type": "stream",
       "stream": "stdout",
       "text": [
        "\n",
        "[BernoulliRBM] Iteration 29, pseudo-likelihood = -520.24, time = 0.06s"
       ]
      },
      {
       "output_type": "stream",
       "stream": "stdout",
       "text": [
        "\n",
        "[BernoulliRBM] Iteration 30, pseudo-likelihood = -537.65, time = 0.06s"
       ]
      },
      {
       "output_type": "stream",
       "stream": "stdout",
       "text": [
        "\n",
        "[BernoulliRBM] Iteration 1, pseudo-likelihood = -125.36, time = 0.04s"
       ]
      },
      {
       "output_type": "stream",
       "stream": "stdout",
       "text": [
        "\n",
        "[BernoulliRBM] Iteration 2, pseudo-likelihood = -131.14, time = 0.06s"
       ]
      },
      {
       "output_type": "stream",
       "stream": "stdout",
       "text": [
        "\n",
        "[BernoulliRBM] Iteration 3, pseudo-likelihood = -140.11, time = 0.07s"
       ]
      },
      {
       "output_type": "stream",
       "stream": "stdout",
       "text": [
        "\n",
        "[BernoulliRBM] Iteration 4, pseudo-likelihood = -156.81, time = 0.06s"
       ]
      },
      {
       "output_type": "stream",
       "stream": "stdout",
       "text": [
        "\n",
        "[BernoulliRBM] Iteration 5, pseudo-likelihood = -171.73, time = 0.07s"
       ]
      },
      {
       "output_type": "stream",
       "stream": "stdout",
       "text": [
        "\n",
        "[BernoulliRBM] Iteration 6, pseudo-likelihood = -191.60, time = 0.06s"
       ]
      },
      {
       "output_type": "stream",
       "stream": "stdout",
       "text": [
        "\n",
        "[BernoulliRBM] Iteration 7, pseudo-likelihood = -208.19, time = 0.06s"
       ]
      },
      {
       "output_type": "stream",
       "stream": "stdout",
       "text": [
        "\n",
        "[BernoulliRBM] Iteration 8, pseudo-likelihood = -223.98, time = 0.07s"
       ]
      },
      {
       "output_type": "stream",
       "stream": "stdout",
       "text": [
        "\n",
        "[BernoulliRBM] Iteration 9, pseudo-likelihood = -242.32, time = 0.05s"
       ]
      },
      {
       "output_type": "stream",
       "stream": "stdout",
       "text": [
        "\n",
        "[BernoulliRBM] Iteration 10, pseudo-likelihood = -260.01, time = 0.06s"
       ]
      },
      {
       "output_type": "stream",
       "stream": "stdout",
       "text": [
        "\n",
        "[BernoulliRBM] Iteration 11, pseudo-likelihood = -273.55, time = 0.06s"
       ]
      },
      {
       "output_type": "stream",
       "stream": "stdout",
       "text": [
        "\n",
        "[BernoulliRBM] Iteration 12, pseudo-likelihood = -288.00, time = 0.06s"
       ]
      },
      {
       "output_type": "stream",
       "stream": "stdout",
       "text": [
        "\n",
        "[BernoulliRBM] Iteration 13, pseudo-likelihood = -310.41, time = 0.06s"
       ]
      },
      {
       "output_type": "stream",
       "stream": "stdout",
       "text": [
        "\n",
        "[BernoulliRBM] Iteration 14, pseudo-likelihood = -330.78, time = 0.06s"
       ]
      },
      {
       "output_type": "stream",
       "stream": "stdout",
       "text": [
        "\n",
        "[BernoulliRBM] Iteration 15, pseudo-likelihood = -341.43, time = 0.06s"
       ]
      },
      {
       "output_type": "stream",
       "stream": "stdout",
       "text": [
        "\n",
        "[BernoulliRBM] Iteration 16, pseudo-likelihood = -362.47, time = 0.05s"
       ]
      },
      {
       "output_type": "stream",
       "stream": "stdout",
       "text": [
        "\n",
        "[BernoulliRBM] Iteration 17, pseudo-likelihood = -378.76, time = 0.05s"
       ]
      },
      {
       "output_type": "stream",
       "stream": "stdout",
       "text": [
        "\n",
        "[BernoulliRBM] Iteration 18, pseudo-likelihood = -396.41, time = 0.06s"
       ]
      },
      {
       "output_type": "stream",
       "stream": "stdout",
       "text": [
        "\n",
        "[BernoulliRBM] Iteration 19, pseudo-likelihood = -412.40, time = 0.06s"
       ]
      },
      {
       "output_type": "stream",
       "stream": "stdout",
       "text": [
        "\n",
        "[BernoulliRBM] Iteration 20, pseudo-likelihood = -433.81, time = 0.06s"
       ]
      },
      {
       "output_type": "stream",
       "stream": "stdout",
       "text": [
        "\n",
        "[BernoulliRBM] Iteration 21, pseudo-likelihood = -448.00, time = 0.05s\n",
        "[BernoulliRBM] Iteration 22, pseudo-likelihood = -463.65, time = 0.05s"
       ]
      },
      {
       "output_type": "stream",
       "stream": "stdout",
       "text": [
        "\n",
        "[BernoulliRBM] Iteration 23, pseudo-likelihood = -482.50, time = 0.06s"
       ]
      },
      {
       "output_type": "stream",
       "stream": "stdout",
       "text": [
        "\n",
        "[BernoulliRBM] Iteration 24, pseudo-likelihood = -500.86, time = 0.06s"
       ]
      },
      {
       "output_type": "stream",
       "stream": "stdout",
       "text": [
        "\n",
        "[BernoulliRBM] Iteration 25, pseudo-likelihood = -520.05, time = 0.06s"
       ]
      },
      {
       "output_type": "stream",
       "stream": "stdout",
       "text": [
        "\n",
        "[BernoulliRBM] Iteration 26, pseudo-likelihood = -534.96, time = 0.06s"
       ]
      },
      {
       "output_type": "stream",
       "stream": "stdout",
       "text": [
        "\n",
        "[BernoulliRBM] Iteration 27, pseudo-likelihood = -553.82, time = 0.06s"
       ]
      },
      {
       "output_type": "stream",
       "stream": "stdout",
       "text": [
        "\n",
        "[BernoulliRBM] Iteration 28, pseudo-likelihood = -571.47, time = 0.05s\n",
        "[BernoulliRBM] Iteration 29, pseudo-likelihood = -590.48, time = 0.05s"
       ]
      },
      {
       "output_type": "stream",
       "stream": "stdout",
       "text": [
        "\n",
        "[BernoulliRBM] Iteration 30, pseudo-likelihood = -608.60, time = 0.05s"
       ]
      },
      {
       "output_type": "stream",
       "stream": "stdout",
       "text": [
        "\n",
        "[BernoulliRBM] Iteration 1, pseudo-likelihood = -86.44, time = 0.04s"
       ]
      },
      {
       "output_type": "stream",
       "stream": "stdout",
       "text": [
        "\n",
        "[BernoulliRBM] Iteration 2, pseudo-likelihood = -89.97, time = 0.06s"
       ]
      },
      {
       "output_type": "stream",
       "stream": "stdout",
       "text": [
        "\n",
        "[BernoulliRBM] Iteration 3, pseudo-likelihood = -97.00, time = 0.07s"
       ]
      },
      {
       "output_type": "stream",
       "stream": "stdout",
       "text": [
        "\n",
        "[BernoulliRBM] Iteration 4, pseudo-likelihood = -108.50, time = 0.06s"
       ]
      },
      {
       "output_type": "stream",
       "stream": "stdout",
       "text": [
        "\n",
        "[BernoulliRBM] Iteration 5, pseudo-likelihood = -118.54, time = 0.06s"
       ]
      },
      {
       "output_type": "stream",
       "stream": "stdout",
       "text": [
        "\n",
        "[BernoulliRBM] Iteration 6, pseudo-likelihood = -135.35, time = 0.06s"
       ]
      },
      {
       "output_type": "stream",
       "stream": "stdout",
       "text": [
        "\n",
        "[BernoulliRBM] Iteration 7, pseudo-likelihood = -151.45, time = 0.06s"
       ]
      },
      {
       "output_type": "stream",
       "stream": "stdout",
       "text": [
        "\n",
        "[BernoulliRBM] Iteration 8, pseudo-likelihood = -169.27, time = 0.06s"
       ]
      },
      {
       "output_type": "stream",
       "stream": "stdout",
       "text": [
        "\n",
        "[BernoulliRBM] Iteration 9, pseudo-likelihood = -182.92, time = 0.07s"
       ]
      },
      {
       "output_type": "stream",
       "stream": "stdout",
       "text": [
        "\n",
        "[BernoulliRBM] Iteration 10, pseudo-likelihood = -194.98, time = 0.06s"
       ]
      },
      {
       "output_type": "stream",
       "stream": "stdout",
       "text": [
        "\n",
        "[BernoulliRBM] Iteration 11, pseudo-likelihood = -208.98, time = 0.05s"
       ]
      },
      {
       "output_type": "stream",
       "stream": "stdout",
       "text": [
        "\n",
        "[BernoulliRBM] Iteration 12, pseudo-likelihood = -223.99, time = 0.06s"
       ]
      },
      {
       "output_type": "stream",
       "stream": "stdout",
       "text": [
        "\n",
        "[BernoulliRBM] Iteration 13, pseudo-likelihood = -240.88, time = 0.06s"
       ]
      },
      {
       "output_type": "stream",
       "stream": "stdout",
       "text": [
        "\n",
        "[BernoulliRBM] Iteration 14, pseudo-likelihood = -260.76, time = 0.06s"
       ]
      },
      {
       "output_type": "stream",
       "stream": "stdout",
       "text": [
        "\n",
        "[BernoulliRBM] Iteration 15, pseudo-likelihood = -269.76, time = 0.06s"
       ]
      },
      {
       "output_type": "stream",
       "stream": "stdout",
       "text": [
        "\n",
        "[BernoulliRBM] Iteration 16, pseudo-likelihood = -291.43, time = 0.06s"
       ]
      },
      {
       "output_type": "stream",
       "stream": "stdout",
       "text": [
        "\n",
        "[BernoulliRBM] Iteration 17, pseudo-likelihood = -302.32, time = 0.06s"
       ]
      },
      {
       "output_type": "stream",
       "stream": "stdout",
       "text": [
        "\n",
        "[BernoulliRBM] Iteration 18, pseudo-likelihood = -316.47, time = 0.06s"
       ]
      },
      {
       "output_type": "stream",
       "stream": "stdout",
       "text": [
        "\n",
        "[BernoulliRBM] Iteration 19, pseudo-likelihood = -333.82, time = 0.05s"
       ]
      },
      {
       "output_type": "stream",
       "stream": "stdout",
       "text": [
        "\n",
        "[BernoulliRBM] Iteration 20, pseudo-likelihood = -350.98, time = 0.06s"
       ]
      },
      {
       "output_type": "stream",
       "stream": "stdout",
       "text": [
        "\n",
        "[BernoulliRBM] Iteration 21, pseudo-likelihood = -365.97, time = 0.06s"
       ]
      },
      {
       "output_type": "stream",
       "stream": "stdout",
       "text": [
        "\n",
        "[BernoulliRBM] Iteration 22, pseudo-likelihood = -380.17, time = 0.06s"
       ]
      },
      {
       "output_type": "stream",
       "stream": "stdout",
       "text": [
        "\n",
        "[BernoulliRBM] Iteration 23, pseudo-likelihood = -393.83, time = 0.06s"
       ]
      },
      {
       "output_type": "stream",
       "stream": "stdout",
       "text": [
        "\n",
        "[BernoulliRBM] Iteration 24, pseudo-likelihood = -409.64, time = 0.06s"
       ]
      },
      {
       "output_type": "stream",
       "stream": "stdout",
       "text": [
        "\n",
        "[BernoulliRBM] Iteration 25, pseudo-likelihood = -427.07, time = 0.06s"
       ]
      },
      {
       "output_type": "stream",
       "stream": "stdout",
       "text": [
        "\n",
        "[BernoulliRBM] Iteration 26, pseudo-likelihood = -443.17, time = 0.06s"
       ]
      },
      {
       "output_type": "stream",
       "stream": "stdout",
       "text": [
        "\n",
        "[BernoulliRBM] Iteration 27, pseudo-likelihood = -458.11, time = 0.06s"
       ]
      },
      {
       "output_type": "stream",
       "stream": "stdout",
       "text": [
        "\n",
        "[BernoulliRBM] Iteration 28, pseudo-likelihood = -473.97, time = 0.06s"
       ]
      },
      {
       "output_type": "stream",
       "stream": "stdout",
       "text": [
        "\n",
        "[BernoulliRBM] Iteration 29, pseudo-likelihood = -489.69, time = 0.06s"
       ]
      },
      {
       "output_type": "stream",
       "stream": "stdout",
       "text": [
        "\n",
        "[BernoulliRBM] Iteration 30, pseudo-likelihood = -506.40, time = 0.06s"
       ]
      },
      {
       "output_type": "stream",
       "stream": "stdout",
       "text": [
        "\n",
        "[BernoulliRBM] Iteration 1, pseudo-likelihood = -86.06, time = 0.04s"
       ]
      },
      {
       "output_type": "stream",
       "stream": "stdout",
       "text": [
        "\n",
        "[BernoulliRBM] Iteration 2, pseudo-likelihood = -99.86, time = 0.06s"
       ]
      },
      {
       "output_type": "stream",
       "stream": "stdout",
       "text": [
        "\n",
        "[BernoulliRBM] Iteration 3, pseudo-likelihood = -93.59, time = 0.06s"
       ]
      },
      {
       "output_type": "stream",
       "stream": "stdout",
       "text": [
        "\n",
        "[BernoulliRBM] Iteration 4, pseudo-likelihood = -103.69, time = 0.06s"
       ]
      },
      {
       "output_type": "stream",
       "stream": "stdout",
       "text": [
        "\n",
        "[BernoulliRBM] Iteration 5, pseudo-likelihood = -117.13, time = 0.06s"
       ]
      },
      {
       "output_type": "stream",
       "stream": "stdout",
       "text": [
        "\n",
        "[BernoulliRBM] Iteration 6, pseudo-likelihood = -125.31, time = 0.06s"
       ]
      },
      {
       "output_type": "stream",
       "stream": "stdout",
       "text": [
        "\n",
        "[BernoulliRBM] Iteration 7, pseudo-likelihood = -144.71, time = 0.06s"
       ]
      },
      {
       "output_type": "stream",
       "stream": "stdout",
       "text": [
        "\n",
        "[BernoulliRBM] Iteration 8, pseudo-likelihood = -159.12, time = 0.07s"
       ]
      },
      {
       "output_type": "stream",
       "stream": "stdout",
       "text": [
        "\n",
        "[BernoulliRBM] Iteration 9, pseudo-likelihood = -174.70, time = 0.06s"
       ]
      },
      {
       "output_type": "stream",
       "stream": "stdout",
       "text": [
        "\n",
        "[BernoulliRBM] Iteration 10, pseudo-likelihood = -191.26, time = 0.06s"
       ]
      },
      {
       "output_type": "stream",
       "stream": "stdout",
       "text": [
        "\n",
        "[BernoulliRBM] Iteration 11, pseudo-likelihood = -201.65, time = 0.07s"
       ]
      },
      {
       "output_type": "stream",
       "stream": "stdout",
       "text": [
        "\n",
        "[BernoulliRBM] Iteration 12, pseudo-likelihood = -217.65, time = 0.07s"
       ]
      },
      {
       "output_type": "stream",
       "stream": "stdout",
       "text": [
        "\n",
        "[BernoulliRBM] Iteration 13, pseudo-likelihood = -236.65, time = 0.07s"
       ]
      },
      {
       "output_type": "stream",
       "stream": "stdout",
       "text": [
        "\n",
        "[BernoulliRBM] Iteration 14, pseudo-likelihood = -250.64, time = 0.06s"
       ]
      },
      {
       "output_type": "stream",
       "stream": "stdout",
       "text": [
        "\n",
        "[BernoulliRBM] Iteration 15, pseudo-likelihood = -268.29, time = 0.06s"
       ]
      },
      {
       "output_type": "stream",
       "stream": "stdout",
       "text": [
        "\n",
        "[BernoulliRBM] Iteration 16, pseudo-likelihood = -284.82, time = 0.06s"
       ]
      },
      {
       "output_type": "stream",
       "stream": "stdout",
       "text": [
        "\n",
        "[BernoulliRBM] Iteration 17, pseudo-likelihood = -302.88, time = 0.06s"
       ]
      },
      {
       "output_type": "stream",
       "stream": "stdout",
       "text": [
        "\n",
        "[BernoulliRBM] Iteration 18, pseudo-likelihood = -315.70, time = 0.06s"
       ]
      },
      {
       "output_type": "stream",
       "stream": "stdout",
       "text": [
        "\n",
        "[BernoulliRBM] Iteration 19, pseudo-likelihood = -337.38, time = 0.06s"
       ]
      },
      {
       "output_type": "stream",
       "stream": "stdout",
       "text": [
        "\n",
        "[BernoulliRBM] Iteration 20, pseudo-likelihood = -352.68, time = 0.06s"
       ]
      },
      {
       "output_type": "stream",
       "stream": "stdout",
       "text": [
        "\n",
        "[BernoulliRBM] Iteration 21, pseudo-likelihood = -369.99, time = 0.05s"
       ]
      },
      {
       "output_type": "stream",
       "stream": "stdout",
       "text": [
        "\n",
        "[BernoulliRBM] Iteration 22, pseudo-likelihood = -386.22, time = 0.06s"
       ]
      },
      {
       "output_type": "stream",
       "stream": "stdout",
       "text": [
        "\n",
        "[BernoulliRBM] Iteration 23, pseudo-likelihood = -397.80, time = 0.05s"
       ]
      },
      {
       "output_type": "stream",
       "stream": "stdout",
       "text": [
        "\n",
        "[BernoulliRBM] Iteration 24, pseudo-likelihood = -414.88, time = 0.06s"
       ]
      },
      {
       "output_type": "stream",
       "stream": "stdout",
       "text": [
        "\n",
        "[BernoulliRBM] Iteration 25, pseudo-likelihood = -431.15, time = 0.06s"
       ]
      },
      {
       "output_type": "stream",
       "stream": "stdout",
       "text": [
        "\n",
        "[BernoulliRBM] Iteration 26, pseudo-likelihood = -449.09, time = 0.06s"
       ]
      },
      {
       "output_type": "stream",
       "stream": "stdout",
       "text": [
        "\n",
        "[BernoulliRBM] Iteration 27, pseudo-likelihood = -466.17, time = 0.06s"
       ]
      },
      {
       "output_type": "stream",
       "stream": "stdout",
       "text": [
        "\n",
        "[BernoulliRBM] Iteration 28, pseudo-likelihood = -482.21, time = 0.06s"
       ]
      },
      {
       "output_type": "stream",
       "stream": "stdout",
       "text": [
        "\n",
        "[BernoulliRBM] Iteration 29, pseudo-likelihood = -499.52, time = 0.06s"
       ]
      },
      {
       "output_type": "stream",
       "stream": "stdout",
       "text": [
        "\n",
        "[BernoulliRBM] Iteration 30, pseudo-likelihood = -515.59, time = 0.06s"
       ]
      },
      {
       "output_type": "stream",
       "stream": "stdout",
       "text": [
        "\n",
        "[BernoulliRBM] Iteration 1, pseudo-likelihood = -85.46, time = 0.04s"
       ]
      },
      {
       "output_type": "stream",
       "stream": "stdout",
       "text": [
        "\n",
        "[BernoulliRBM] Iteration 2, pseudo-likelihood = -111.79, time = 0.06s"
       ]
      },
      {
       "output_type": "stream",
       "stream": "stdout",
       "text": [
        "\n",
        "[BernoulliRBM] Iteration 3, pseudo-likelihood = -105.75, time = 0.06s"
       ]
      },
      {
       "output_type": "stream",
       "stream": "stdout",
       "text": [
        "\n",
        "[BernoulliRBM] Iteration 4, pseudo-likelihood = -109.75, time = 0.06s"
       ]
      },
      {
       "output_type": "stream",
       "stream": "stdout",
       "text": [
        "\n",
        "[BernoulliRBM] Iteration 5, pseudo-likelihood = -119.94, time = 0.07s"
       ]
      },
      {
       "output_type": "stream",
       "stream": "stdout",
       "text": [
        "\n",
        "[BernoulliRBM] Iteration 6, pseudo-likelihood = -135.88, time = 0.07s"
       ]
      },
      {
       "output_type": "stream",
       "stream": "stdout",
       "text": [
        "\n",
        "[BernoulliRBM] Iteration 7, pseudo-likelihood = -145.75, time = 0.06s"
       ]
      },
      {
       "output_type": "stream",
       "stream": "stdout",
       "text": [
        "\n",
        "[BernoulliRBM] Iteration 8, pseudo-likelihood = -161.09, time = 0.07s"
       ]
      },
      {
       "output_type": "stream",
       "stream": "stdout",
       "text": [
        "\n",
        "[BernoulliRBM] Iteration 9, pseudo-likelihood = -174.38, time = 0.07s"
       ]
      },
      {
       "output_type": "stream",
       "stream": "stdout",
       "text": [
        "\n",
        "[BernoulliRBM] Iteration 10, pseudo-likelihood = -184.77, time = 0.07s"
       ]
      },
      {
       "output_type": "stream",
       "stream": "stdout",
       "text": [
        "\n",
        "[BernoulliRBM] Iteration 11, pseudo-likelihood = -198.68, time = 0.06s"
       ]
      },
      {
       "output_type": "stream",
       "stream": "stdout",
       "text": [
        "\n",
        "[BernoulliRBM] Iteration 12, pseudo-likelihood = -212.70, time = 0.06s"
       ]
      },
      {
       "output_type": "stream",
       "stream": "stdout",
       "text": [
        "\n",
        "[BernoulliRBM] Iteration 13, pseudo-likelihood = -231.55, time = 0.06s"
       ]
      },
      {
       "output_type": "stream",
       "stream": "stdout",
       "text": [
        "\n",
        "[BernoulliRBM] Iteration 14, pseudo-likelihood = -245.72, time = 0.06s"
       ]
      },
      {
       "output_type": "stream",
       "stream": "stdout",
       "text": [
        "\n",
        "[BernoulliRBM] Iteration 15, pseudo-likelihood = -256.16, time = 0.06s"
       ]
      },
      {
       "output_type": "stream",
       "stream": "stdout",
       "text": [
        "\n",
        "[BernoulliRBM] Iteration 16, pseudo-likelihood = -268.86, time = 0.06s"
       ]
      },
      {
       "output_type": "stream",
       "stream": "stdout",
       "text": [
        "\n",
        "[BernoulliRBM] Iteration 17, pseudo-likelihood = -285.95, time = 0.06s"
       ]
      },
      {
       "output_type": "stream",
       "stream": "stdout",
       "text": [
        "\n",
        "[BernoulliRBM] Iteration 18, pseudo-likelihood = -298.15, time = 0.06s"
       ]
      },
      {
       "output_type": "stream",
       "stream": "stdout",
       "text": [
        "\n",
        "[BernoulliRBM] Iteration 19, pseudo-likelihood = -314.98, time = 0.06s"
       ]
      },
      {
       "output_type": "stream",
       "stream": "stdout",
       "text": [
        "\n",
        "[BernoulliRBM] Iteration 20, pseudo-likelihood = -329.01, time = 0.06s"
       ]
      },
      {
       "output_type": "stream",
       "stream": "stdout",
       "text": [
        "\n",
        "[BernoulliRBM] Iteration 21, pseudo-likelihood = -348.70, time = 0.05s"
       ]
      },
      {
       "output_type": "stream",
       "stream": "stdout",
       "text": [
        "\n",
        "[BernoulliRBM] Iteration 22, pseudo-likelihood = -362.24, time = 0.06s"
       ]
      },
      {
       "output_type": "stream",
       "stream": "stdout",
       "text": [
        "\n",
        "[BernoulliRBM] Iteration 23, pseudo-likelihood = -373.04, time = 0.06s"
       ]
      },
      {
       "output_type": "stream",
       "stream": "stdout",
       "text": [
        "\n",
        "[BernoulliRBM] Iteration 24, pseudo-likelihood = -384.69, time = 0.06s"
       ]
      },
      {
       "output_type": "stream",
       "stream": "stdout",
       "text": [
        "\n",
        "[BernoulliRBM] Iteration 25, pseudo-likelihood = -401.00, time = 0.06s"
       ]
      },
      {
       "output_type": "stream",
       "stream": "stdout",
       "text": [
        "\n",
        "[BernoulliRBM] Iteration 26, pseudo-likelihood = -417.63, time = 0.05s"
       ]
      },
      {
       "output_type": "stream",
       "stream": "stdout",
       "text": [
        "\n",
        "[BernoulliRBM] Iteration 27, pseudo-likelihood = -430.80, time = 0.05s"
       ]
      },
      {
       "output_type": "stream",
       "stream": "stdout",
       "text": [
        "\n",
        "[BernoulliRBM] Iteration 28, pseudo-likelihood = -444.49, time = 0.05s"
       ]
      },
      {
       "output_type": "stream",
       "stream": "stdout",
       "text": [
        "\n",
        "[BernoulliRBM] Iteration 29, pseudo-likelihood = -461.36, time = 0.05s\n",
        "[BernoulliRBM] Iteration 30, pseudo-likelihood = -475.58, time = 0.06s"
       ]
      },
      {
       "output_type": "stream",
       "stream": "stdout",
       "text": [
        "\n",
        "[BernoulliRBM] Iteration 1, pseudo-likelihood = -77.20, time = 0.04s"
       ]
      },
      {
       "output_type": "stream",
       "stream": "stdout",
       "text": [
        "\n",
        "[BernoulliRBM] Iteration 2, pseudo-likelihood = -88.30, time = 0.07s"
       ]
      },
      {
       "output_type": "stream",
       "stream": "stdout",
       "text": [
        "\n",
        "[BernoulliRBM] Iteration 3, pseudo-likelihood = -89.17, time = 0.06s"
       ]
      },
      {
       "output_type": "stream",
       "stream": "stdout",
       "text": [
        "\n",
        "[BernoulliRBM] Iteration 4, pseudo-likelihood = -98.86, time = 0.06s"
       ]
      },
      {
       "output_type": "stream",
       "stream": "stdout",
       "text": [
        "\n",
        "[BernoulliRBM] Iteration 5, pseudo-likelihood = -109.60, time = 0.06s"
       ]
      },
      {
       "output_type": "stream",
       "stream": "stdout",
       "text": [
        "\n",
        "[BernoulliRBM] Iteration 6, pseudo-likelihood = -119.41, time = 0.05s"
       ]
      },
      {
       "output_type": "stream",
       "stream": "stdout",
       "text": [
        "\n",
        "[BernoulliRBM] Iteration 7, pseudo-likelihood = -133.69, time = 0.06s"
       ]
      },
      {
       "output_type": "stream",
       "stream": "stdout",
       "text": [
        "\n",
        "[BernoulliRBM] Iteration 8, pseudo-likelihood = -143.19, time = 0.07s"
       ]
      },
      {
       "output_type": "stream",
       "stream": "stdout",
       "text": [
        "\n",
        "[BernoulliRBM] Iteration 9, pseudo-likelihood = -157.99, time = 0.06s"
       ]
      },
      {
       "output_type": "stream",
       "stream": "stdout",
       "text": [
        "\n",
        "[BernoulliRBM] Iteration 10, pseudo-likelihood = -170.09, time = 0.06s"
       ]
      },
      {
       "output_type": "stream",
       "stream": "stdout",
       "text": [
        "\n",
        "[BernoulliRBM] Iteration 11, pseudo-likelihood = -184.47, time = 0.06s"
       ]
      },
      {
       "output_type": "stream",
       "stream": "stdout",
       "text": [
        "\n",
        "[BernoulliRBM] Iteration 12, pseudo-likelihood = -197.60, time = 0.06s"
       ]
      },
      {
       "output_type": "stream",
       "stream": "stdout",
       "text": [
        "\n",
        "[BernoulliRBM] Iteration 13, pseudo-likelihood = -213.97, time = 0.06s"
       ]
      },
      {
       "output_type": "stream",
       "stream": "stdout",
       "text": [
        "\n",
        "[BernoulliRBM] Iteration 14, pseudo-likelihood = -225.11, time = 0.06s"
       ]
      },
      {
       "output_type": "stream",
       "stream": "stdout",
       "text": [
        "\n",
        "[BernoulliRBM] Iteration 15, pseudo-likelihood = -241.79, time = 0.06s"
       ]
      },
      {
       "output_type": "stream",
       "stream": "stdout",
       "text": [
        "\n",
        "[BernoulliRBM] Iteration 16, pseudo-likelihood = -255.31, time = 0.06s"
       ]
      },
      {
       "output_type": "stream",
       "stream": "stdout",
       "text": [
        "\n",
        "[BernoulliRBM] Iteration 17, pseudo-likelihood = -269.64, time = 0.06s"
       ]
      },
      {
       "output_type": "stream",
       "stream": "stdout",
       "text": [
        "\n",
        "[BernoulliRBM] Iteration 18, pseudo-likelihood = -282.81, time = 0.06s"
       ]
      },
      {
       "output_type": "stream",
       "stream": "stdout",
       "text": [
        "\n",
        "[BernoulliRBM] Iteration 19, pseudo-likelihood = -297.45, time = 0.06s"
       ]
      },
      {
       "output_type": "stream",
       "stream": "stdout",
       "text": [
        "\n",
        "[BernoulliRBM] Iteration 20, pseudo-likelihood = -310.88, time = 0.05s"
       ]
      },
      {
       "output_type": "stream",
       "stream": "stdout",
       "text": [
        "\n",
        "[BernoulliRBM] Iteration 21, pseudo-likelihood = -325.76, time = 0.06s"
       ]
      },
      {
       "output_type": "stream",
       "stream": "stdout",
       "text": [
        "\n",
        "[BernoulliRBM] Iteration 22, pseudo-likelihood = -337.58, time = 0.06s"
       ]
      },
      {
       "output_type": "stream",
       "stream": "stdout",
       "text": [
        "\n",
        "[BernoulliRBM] Iteration 23, pseudo-likelihood = -352.80, time = 0.05s\n",
        "[BernoulliRBM] Iteration 24, pseudo-likelihood = -366.64, time = 0.05s"
       ]
      },
      {
       "output_type": "stream",
       "stream": "stdout",
       "text": [
        "\n",
        "[BernoulliRBM] Iteration 25, pseudo-likelihood = -380.19, time = 0.06s"
       ]
      },
      {
       "output_type": "stream",
       "stream": "stdout",
       "text": [
        "\n",
        "[BernoulliRBM] Iteration 26, pseudo-likelihood = -394.62, time = 0.06s"
       ]
      },
      {
       "output_type": "stream",
       "stream": "stdout",
       "text": [
        "\n",
        "[BernoulliRBM] Iteration 27, pseudo-likelihood = -409.12, time = 0.05s"
       ]
      },
      {
       "output_type": "stream",
       "stream": "stdout",
       "text": [
        "\n",
        "[BernoulliRBM] Iteration 28, pseudo-likelihood = -422.27, time = 0.05s"
       ]
      },
      {
       "output_type": "stream",
       "stream": "stdout",
       "text": [
        "\n",
        "[BernoulliRBM] Iteration 29, pseudo-likelihood = -439.30, time = 0.05s"
       ]
      },
      {
       "output_type": "stream",
       "stream": "stdout",
       "text": [
        "\n",
        "[BernoulliRBM] Iteration 30, pseudo-likelihood = -453.46, time = 0.06s"
       ]
      },
      {
       "output_type": "stream",
       "stream": "stdout",
       "text": [
        "\n",
        "[BernoulliRBM] Iteration 1, pseudo-likelihood = -82.11, time = 0.04s"
       ]
      },
      {
       "output_type": "stream",
       "stream": "stdout",
       "text": [
        "\n",
        "[BernoulliRBM] Iteration 2, pseudo-likelihood = -110.45, time = 0.06s"
       ]
      },
      {
       "output_type": "stream",
       "stream": "stdout",
       "text": [
        "\n",
        "[BernoulliRBM] Iteration 3, pseudo-likelihood = -106.14, time = 0.06s"
       ]
      },
      {
       "output_type": "stream",
       "stream": "stdout",
       "text": [
        "\n",
        "[BernoulliRBM] Iteration 4, pseudo-likelihood = -105.84, time = 0.06s"
       ]
      },
      {
       "output_type": "stream",
       "stream": "stdout",
       "text": [
        "\n",
        "[BernoulliRBM] Iteration 5, pseudo-likelihood = -113.91, time = 0.07s"
       ]
      },
      {
       "output_type": "stream",
       "stream": "stdout",
       "text": [
        "\n",
        "[BernoulliRBM] Iteration 6, pseudo-likelihood = -121.16, time = 0.07s"
       ]
      },
      {
       "output_type": "stream",
       "stream": "stdout",
       "text": [
        "\n",
        "[BernoulliRBM] Iteration 7, pseudo-likelihood = -135.56, time = 0.06s"
       ]
      },
      {
       "output_type": "stream",
       "stream": "stdout",
       "text": [
        "\n",
        "[BernoulliRBM] Iteration 8, pseudo-likelihood = -147.95, time = 0.07s"
       ]
      },
      {
       "output_type": "stream",
       "stream": "stdout",
       "text": [
        "\n",
        "[BernoulliRBM] Iteration 9, pseudo-likelihood = -161.23, time = 0.07s"
       ]
      },
      {
       "output_type": "stream",
       "stream": "stdout",
       "text": [
        "\n",
        "[BernoulliRBM] Iteration 10, pseudo-likelihood = -169.81, time = 0.07s"
       ]
      },
      {
       "output_type": "stream",
       "stream": "stdout",
       "text": [
        "\n",
        "[BernoulliRBM] Iteration 11, pseudo-likelihood = -183.19, time = 0.06s"
       ]
      },
      {
       "output_type": "stream",
       "stream": "stdout",
       "text": [
        "\n",
        "[BernoulliRBM] Iteration 12, pseudo-likelihood = -194.31, time = 0.05s"
       ]
      },
      {
       "output_type": "stream",
       "stream": "stdout",
       "text": [
        "\n",
        "[BernoulliRBM] Iteration 13, pseudo-likelihood = -210.27, time = 0.06s"
       ]
      },
      {
       "output_type": "stream",
       "stream": "stdout",
       "text": [
        "\n",
        "[BernoulliRBM] Iteration 14, pseudo-likelihood = -222.87, time = 0.06s"
       ]
      },
      {
       "output_type": "stream",
       "stream": "stdout",
       "text": [
        "\n",
        "[BernoulliRBM] Iteration 15, pseudo-likelihood = -230.02, time = 0.06s"
       ]
      },
      {
       "output_type": "stream",
       "stream": "stdout",
       "text": [
        "\n",
        "[BernoulliRBM] Iteration 16, pseudo-likelihood = -247.63, time = 0.06s"
       ]
      },
      {
       "output_type": "stream",
       "stream": "stdout",
       "text": [
        "\n",
        "[BernoulliRBM] Iteration 17, pseudo-likelihood = -259.28, time = 0.06s"
       ]
      },
      {
       "output_type": "stream",
       "stream": "stdout",
       "text": [
        "\n",
        "[BernoulliRBM] Iteration 18, pseudo-likelihood = -273.64, time = 0.06s"
       ]
      },
      {
       "output_type": "stream",
       "stream": "stdout",
       "text": [
        "\n",
        "[BernoulliRBM] Iteration 19, pseudo-likelihood = -285.89, time = 0.06s"
       ]
      },
      {
       "output_type": "stream",
       "stream": "stdout",
       "text": [
        "\n",
        "[BernoulliRBM] Iteration 20, pseudo-likelihood = -296.64, time = 0.07s"
       ]
      },
      {
       "output_type": "stream",
       "stream": "stdout",
       "text": [
        "\n",
        "[BernoulliRBM] Iteration 21, pseudo-likelihood = -314.47, time = 0.06s"
       ]
      },
      {
       "output_type": "stream",
       "stream": "stdout",
       "text": [
        "\n",
        "[BernoulliRBM] Iteration 22, pseudo-likelihood = -323.18, time = 0.06s"
       ]
      },
      {
       "output_type": "stream",
       "stream": "stdout",
       "text": [
        "\n",
        "[BernoulliRBM] Iteration 23, pseudo-likelihood = -334.37, time = 0.06s"
       ]
      },
      {
       "output_type": "stream",
       "stream": "stdout",
       "text": [
        "\n",
        "[BernoulliRBM] Iteration 24, pseudo-likelihood = -348.67, time = 0.06s"
       ]
      },
      {
       "output_type": "stream",
       "stream": "stdout",
       "text": [
        "\n",
        "[BernoulliRBM] Iteration 25, pseudo-likelihood = -361.92, time = 0.06s"
       ]
      },
      {
       "output_type": "stream",
       "stream": "stdout",
       "text": [
        "\n",
        "[BernoulliRBM] Iteration 26, pseudo-likelihood = -377.25, time = 0.06s"
       ]
      },
      {
       "output_type": "stream",
       "stream": "stdout",
       "text": [
        "\n",
        "[BernoulliRBM] Iteration 27, pseudo-likelihood = -389.45, time = 0.06s"
       ]
      },
      {
       "output_type": "stream",
       "stream": "stdout",
       "text": [
        "\n",
        "[BernoulliRBM] Iteration 28, pseudo-likelihood = -402.64, time = 0.05s"
       ]
      },
      {
       "output_type": "stream",
       "stream": "stdout",
       "text": [
        "\n",
        "[BernoulliRBM] Iteration 29, pseudo-likelihood = -415.37, time = 0.06s"
       ]
      },
      {
       "output_type": "stream",
       "stream": "stdout",
       "text": [
        "\n",
        "[BernoulliRBM] Iteration 30, pseudo-likelihood = -429.66, time = 0.06s"
       ]
      },
      {
       "output_type": "stream",
       "stream": "stdout",
       "text": [
        "\n",
        "[BernoulliRBM] Iteration 1, pseudo-likelihood = -90.92, time = 0.03s"
       ]
      },
      {
       "output_type": "stream",
       "stream": "stdout",
       "text": [
        "\n",
        "[BernoulliRBM] Iteration 2, pseudo-likelihood = -115.46, time = 0.06s"
       ]
      },
      {
       "output_type": "stream",
       "stream": "stdout",
       "text": [
        "\n",
        "[BernoulliRBM] Iteration 3, pseudo-likelihood = -104.24, time = 0.06s"
       ]
      },
      {
       "output_type": "stream",
       "stream": "stdout",
       "text": [
        "\n",
        "[BernoulliRBM] Iteration 4, pseudo-likelihood = -109.92, time = 0.06s"
       ]
      },
      {
       "output_type": "stream",
       "stream": "stdout",
       "text": [
        "\n",
        "[BernoulliRBM] Iteration 5, pseudo-likelihood = -123.92, time = 0.06s"
       ]
      },
      {
       "output_type": "stream",
       "stream": "stdout",
       "text": [
        "\n",
        "[BernoulliRBM] Iteration 6, pseudo-likelihood = -134.92, time = 0.06s"
       ]
      },
      {
       "output_type": "stream",
       "stream": "stdout",
       "text": [
        "\n",
        "[BernoulliRBM] Iteration 7, pseudo-likelihood = -156.91, time = 0.07s"
       ]
      },
      {
       "output_type": "stream",
       "stream": "stdout",
       "text": [
        "\n",
        "[BernoulliRBM] Iteration 8, pseudo-likelihood = -168.38, time = 0.05s"
       ]
      },
      {
       "output_type": "stream",
       "stream": "stdout",
       "text": [
        "\n",
        "[BernoulliRBM] Iteration 9, pseudo-likelihood = -189.50, time = 0.06s"
       ]
      },
      {
       "output_type": "stream",
       "stream": "stdout",
       "text": [
        "\n",
        "[BernoulliRBM] Iteration 10, pseudo-likelihood = -206.28, time = 0.07s"
       ]
      },
      {
       "output_type": "stream",
       "stream": "stdout",
       "text": [
        "\n",
        "[BernoulliRBM] Iteration 11, pseudo-likelihood = -221.82, time = 0.06s"
       ]
      },
      {
       "output_type": "stream",
       "stream": "stdout",
       "text": [
        "\n",
        "[BernoulliRBM] Iteration 12, pseudo-likelihood = -237.84, time = 0.06s"
       ]
      },
      {
       "output_type": "stream",
       "stream": "stdout",
       "text": [
        "\n",
        "[BernoulliRBM] Iteration 13, pseudo-likelihood = -253.12, time = 0.06s"
       ]
      },
      {
       "output_type": "stream",
       "stream": "stdout",
       "text": [
        "\n",
        "[BernoulliRBM] Iteration 14, pseudo-likelihood = -271.73, time = 0.07s"
       ]
      },
      {
       "output_type": "stream",
       "stream": "stdout",
       "text": [
        "\n",
        "[BernoulliRBM] Iteration 15, pseudo-likelihood = -288.48, time = 0.06s"
       ]
      },
      {
       "output_type": "stream",
       "stream": "stdout",
       "text": [
        "\n",
        "[BernoulliRBM] Iteration 16, pseudo-likelihood = -310.65, time = 0.06s"
       ]
      },
      {
       "output_type": "stream",
       "stream": "stdout",
       "text": [
        "\n",
        "[BernoulliRBM] Iteration 17, pseudo-likelihood = -327.23, time = 0.06s"
       ]
      },
      {
       "output_type": "stream",
       "stream": "stdout",
       "text": [
        "\n",
        "[BernoulliRBM] Iteration 18, pseudo-likelihood = -344.46, time = 0.05s"
       ]
      },
      {
       "output_type": "stream",
       "stream": "stdout",
       "text": [
        "\n",
        "[BernoulliRBM] Iteration 19, pseudo-likelihood = -363.34, time = 0.06s"
       ]
      },
      {
       "output_type": "stream",
       "stream": "stdout",
       "text": [
        "\n",
        "[BernoulliRBM] Iteration 20, pseudo-likelihood = -381.52, time = 0.06s"
       ]
      },
      {
       "output_type": "stream",
       "stream": "stdout",
       "text": [
        "\n",
        "[BernoulliRBM] Iteration 21, pseudo-likelihood = -401.25, time = 0.06s"
       ]
      },
      {
       "output_type": "stream",
       "stream": "stdout",
       "text": [
        "\n",
        "[BernoulliRBM] Iteration 22, pseudo-likelihood = -419.70, time = 0.06s"
       ]
      },
      {
       "output_type": "stream",
       "stream": "stdout",
       "text": [
        "\n",
        "[BernoulliRBM] Iteration 23, pseudo-likelihood = -434.78, time = 0.05s"
       ]
      },
      {
       "output_type": "stream",
       "stream": "stdout",
       "text": [
        "\n",
        "[BernoulliRBM] Iteration 24, pseudo-likelihood = -452.90, time = 0.06s"
       ]
      },
      {
       "output_type": "stream",
       "stream": "stdout",
       "text": [
        "\n",
        "[BernoulliRBM] Iteration 25, pseudo-likelihood = -470.03, time = 0.05s"
       ]
      },
      {
       "output_type": "stream",
       "stream": "stdout",
       "text": [
        "\n",
        "[BernoulliRBM] Iteration 26, pseudo-likelihood = -488.94, time = 0.06s"
       ]
      },
      {
       "output_type": "stream",
       "stream": "stdout",
       "text": [
        "\n",
        "[BernoulliRBM] Iteration 27, pseudo-likelihood = -509.56, time = 0.06s"
       ]
      },
      {
       "output_type": "stream",
       "stream": "stdout",
       "text": [
        "\n",
        "[BernoulliRBM] Iteration 28, pseudo-likelihood = -526.07, time = 0.06s"
       ]
      },
      {
       "output_type": "stream",
       "stream": "stdout",
       "text": [
        "\n",
        "[BernoulliRBM] Iteration 29, pseudo-likelihood = -543.85, time = 0.06s"
       ]
      },
      {
       "output_type": "stream",
       "stream": "stdout",
       "text": [
        "\n",
        "[BernoulliRBM] Iteration 30, pseudo-likelihood = -562.23, time = 0.05s"
       ]
      },
      {
       "output_type": "stream",
       "stream": "stdout",
       "text": [
        "\n",
        "[BernoulliRBM] Iteration 1, pseudo-likelihood = -92.07, time = 0.04s"
       ]
      },
      {
       "output_type": "stream",
       "stream": "stdout",
       "text": [
        "\n",
        "[BernoulliRBM] Iteration 2, pseudo-likelihood = -117.50, time = 0.06s"
       ]
      },
      {
       "output_type": "stream",
       "stream": "stdout",
       "text": [
        "\n",
        "[BernoulliRBM] Iteration 3, pseudo-likelihood = -114.37, time = 0.06s"
       ]
      },
      {
       "output_type": "stream",
       "stream": "stdout",
       "text": [
        "\n",
        "[BernoulliRBM] Iteration 4, pseudo-likelihood = -118.32, time = 0.06s"
       ]
      },
      {
       "output_type": "stream",
       "stream": "stdout",
       "text": [
        "\n",
        "[BernoulliRBM] Iteration 5, pseudo-likelihood = -136.40, time = 0.06s"
       ]
      },
      {
       "output_type": "stream",
       "stream": "stdout",
       "text": [
        "\n",
        "[BernoulliRBM] Iteration 6, pseudo-likelihood = -160.66, time = 0.06s"
       ]
      },
      {
       "output_type": "stream",
       "stream": "stdout",
       "text": [
        "\n",
        "[BernoulliRBM] Iteration 7, pseudo-likelihood = -173.23, time = 0.06s"
       ]
      },
      {
       "output_type": "stream",
       "stream": "stdout",
       "text": [
        "\n",
        "[BernoulliRBM] Iteration 8, pseudo-likelihood = -187.19, time = 0.07s"
       ]
      },
      {
       "output_type": "stream",
       "stream": "stdout",
       "text": [
        "\n",
        "[BernoulliRBM] Iteration 9, pseudo-likelihood = -210.83, time = 0.05s"
       ]
      },
      {
       "output_type": "stream",
       "stream": "stdout",
       "text": [
        "\n",
        "[BernoulliRBM] Iteration 10, pseudo-likelihood = -223.39, time = 0.06s"
       ]
      },
      {
       "output_type": "stream",
       "stream": "stdout",
       "text": [
        "\n",
        "[BernoulliRBM] Iteration 11, pseudo-likelihood = -250.91, time = 0.06s"
       ]
      },
      {
       "output_type": "stream",
       "stream": "stdout",
       "text": [
        "\n",
        "[BernoulliRBM] Iteration 12, pseudo-likelihood = -270.95, time = 0.05s"
       ]
      },
      {
       "output_type": "stream",
       "stream": "stdout",
       "text": [
        "\n",
        "[BernoulliRBM] Iteration 13, pseudo-likelihood = -295.82, time = 0.06s"
       ]
      },
      {
       "output_type": "stream",
       "stream": "stdout",
       "text": [
        "\n",
        "[BernoulliRBM] Iteration 14, pseudo-likelihood = -313.41, time = 0.06s"
       ]
      },
      {
       "output_type": "stream",
       "stream": "stdout",
       "text": [
        "\n",
        "[BernoulliRBM] Iteration 15, pseudo-likelihood = -329.76, time = 0.06s"
       ]
      },
      {
       "output_type": "stream",
       "stream": "stdout",
       "text": [
        "\n",
        "[BernoulliRBM] Iteration 16, pseudo-likelihood = -353.55, time = 0.05s"
       ]
      },
      {
       "output_type": "stream",
       "stream": "stdout",
       "text": [
        "\n",
        "[BernoulliRBM] Iteration 17, pseudo-likelihood = -372.67, time = 0.05s"
       ]
      },
      {
       "output_type": "stream",
       "stream": "stdout",
       "text": [
        "\n",
        "[BernoulliRBM] Iteration 18, pseudo-likelihood = -397.89, time = 0.05s"
       ]
      },
      {
       "output_type": "stream",
       "stream": "stdout",
       "text": [
        "\n",
        "[BernoulliRBM] Iteration 19, pseudo-likelihood = -416.27, time = 0.06s"
       ]
      },
      {
       "output_type": "stream",
       "stream": "stdout",
       "text": [
        "\n",
        "[BernoulliRBM] Iteration 20, pseudo-likelihood = -438.26, time = 0.05s"
       ]
      },
      {
       "output_type": "stream",
       "stream": "stdout",
       "text": [
        "\n",
        "[BernoulliRBM] Iteration 21, pseudo-likelihood = -459.36, time = 0.05s"
       ]
      },
      {
       "output_type": "stream",
       "stream": "stdout",
       "text": [
        "\n",
        "[BernoulliRBM] Iteration 22, pseudo-likelihood = -486.41, time = 0.06s"
       ]
      },
      {
       "output_type": "stream",
       "stream": "stdout",
       "text": [
        "\n",
        "[BernoulliRBM] Iteration 23, pseudo-likelihood = -503.26, time = 0.06s"
       ]
      },
      {
       "output_type": "stream",
       "stream": "stdout",
       "text": [
        "\n",
        "[BernoulliRBM] Iteration 24, pseudo-likelihood = -526.82, time = 0.05s"
       ]
      },
      {
       "output_type": "stream",
       "stream": "stdout",
       "text": [
        "\n",
        "[BernoulliRBM] Iteration 25, pseudo-likelihood = -545.87, time = 0.06s"
       ]
      },
      {
       "output_type": "stream",
       "stream": "stdout",
       "text": [
        "\n",
        "[BernoulliRBM] Iteration 26, pseudo-likelihood = -566.75, time = 0.06s"
       ]
      },
      {
       "output_type": "stream",
       "stream": "stdout",
       "text": [
        "\n",
        "[BernoulliRBM] Iteration 27, pseudo-likelihood = -584.10, time = 0.05s"
       ]
      },
      {
       "output_type": "stream",
       "stream": "stdout",
       "text": [
        "\n",
        "[BernoulliRBM] Iteration 28, pseudo-likelihood = -607.02, time = 0.06s"
       ]
      },
      {
       "output_type": "stream",
       "stream": "stdout",
       "text": [
        "\n",
        "[BernoulliRBM] Iteration 29, pseudo-likelihood = -630.96, time = 0.06s"
       ]
      },
      {
       "output_type": "stream",
       "stream": "stdout",
       "text": [
        "\n",
        "[BernoulliRBM] Iteration 30, pseudo-likelihood = -648.72, time = 0.06s"
       ]
      },
      {
       "output_type": "stream",
       "stream": "stdout",
       "text": [
        "\n",
        "[BernoulliRBM] Iteration 1, pseudo-likelihood = -101.71, time = 0.04s"
       ]
      },
      {
       "output_type": "stream",
       "stream": "stdout",
       "text": [
        "\n",
        "[BernoulliRBM] Iteration 2, pseudo-likelihood = -127.06, time = 0.07s"
       ]
      },
      {
       "output_type": "stream",
       "stream": "stdout",
       "text": [
        "\n",
        "[BernoulliRBM] Iteration 3, pseudo-likelihood = -124.06, time = 0.07s"
       ]
      },
      {
       "output_type": "stream",
       "stream": "stdout",
       "text": [
        "\n",
        "[BernoulliRBM] Iteration 4, pseudo-likelihood = -136.38, time = 0.06s"
       ]
      },
      {
       "output_type": "stream",
       "stream": "stdout",
       "text": [
        "\n",
        "[BernoulliRBM] Iteration 5, pseudo-likelihood = -151.27, time = 0.06s"
       ]
      },
      {
       "output_type": "stream",
       "stream": "stdout",
       "text": [
        "\n",
        "[BernoulliRBM] Iteration 6, pseudo-likelihood = -168.31, time = 0.06s"
       ]
      },
      {
       "output_type": "stream",
       "stream": "stdout",
       "text": [
        "\n",
        "[BernoulliRBM] Iteration 7, pseudo-likelihood = -185.20, time = 0.06s"
       ]
      },
      {
       "output_type": "stream",
       "stream": "stdout",
       "text": [
        "\n",
        "[BernoulliRBM] Iteration 8, pseudo-likelihood = -199.20, time = 0.06s"
       ]
      },
      {
       "output_type": "stream",
       "stream": "stdout",
       "text": [
        "\n",
        "[BernoulliRBM] Iteration 9, pseudo-likelihood = -218.03, time = 0.07s"
       ]
      },
      {
       "output_type": "stream",
       "stream": "stdout",
       "text": [
        "\n",
        "[BernoulliRBM] Iteration 10, pseudo-likelihood = -235.63, time = 0.07s"
       ]
      },
      {
       "output_type": "stream",
       "stream": "stdout",
       "text": [
        "\n",
        "[BernoulliRBM] Iteration 11, pseudo-likelihood = -254.47, time = 0.06s"
       ]
      },
      {
       "output_type": "stream",
       "stream": "stdout",
       "text": [
        "\n",
        "[BernoulliRBM] Iteration 12, pseudo-likelihood = -270.17, time = 0.06s"
       ]
      },
      {
       "output_type": "stream",
       "stream": "stdout",
       "text": [
        "\n",
        "[BernoulliRBM] Iteration 13, pseudo-likelihood = -289.69, time = 0.06s"
       ]
      },
      {
       "output_type": "stream",
       "stream": "stdout",
       "text": [
        "\n",
        "[BernoulliRBM] Iteration 14, pseudo-likelihood = -309.52, time = 0.06s"
       ]
      },
      {
       "output_type": "stream",
       "stream": "stdout",
       "text": [
        "\n",
        "[BernoulliRBM] Iteration 15, pseudo-likelihood = -326.24, time = 0.06s"
       ]
      },
      {
       "output_type": "stream",
       "stream": "stdout",
       "text": [
        "\n",
        "[BernoulliRBM] Iteration 16, pseudo-likelihood = -343.92, time = 0.05s"
       ]
      },
      {
       "output_type": "stream",
       "stream": "stdout",
       "text": [
        "\n",
        "[BernoulliRBM] Iteration 17, pseudo-likelihood = -363.82, time = 0.06s"
       ]
      },
      {
       "output_type": "stream",
       "stream": "stdout",
       "text": [
        "\n",
        "[BernoulliRBM] Iteration 18, pseudo-likelihood = -381.17, time = 0.06s"
       ]
      },
      {
       "output_type": "stream",
       "stream": "stdout",
       "text": [
        "\n",
        "[BernoulliRBM] Iteration 19, pseudo-likelihood = -400.88, time = 0.05s"
       ]
      },
      {
       "output_type": "stream",
       "stream": "stdout",
       "text": [
        "\n",
        "[BernoulliRBM] Iteration 20, pseudo-likelihood = -419.84, time = 0.06s\n",
        "[BernoulliRBM] Iteration 21, pseudo-likelihood = -438.49, time = 0.05s"
       ]
      },
      {
       "output_type": "stream",
       "stream": "stdout",
       "text": [
        "\n",
        "[BernoulliRBM] Iteration 22, pseudo-likelihood = -456.38, time = 0.06s"
       ]
      },
      {
       "output_type": "stream",
       "stream": "stdout",
       "text": [
        "\n",
        "[BernoulliRBM] Iteration 23, pseudo-likelihood = -474.22, time = 0.05s"
       ]
      },
      {
       "output_type": "stream",
       "stream": "stdout",
       "text": [
        "\n",
        "[BernoulliRBM] Iteration 24, pseudo-likelihood = -493.97, time = 0.06s"
       ]
      },
      {
       "output_type": "stream",
       "stream": "stdout",
       "text": [
        "\n",
        "[BernoulliRBM] Iteration 25, pseudo-likelihood = -512.40, time = 0.06s"
       ]
      },
      {
       "output_type": "stream",
       "stream": "stdout",
       "text": [
        "\n",
        "[BernoulliRBM] Iteration 26, pseudo-likelihood = -528.95, time = 0.06s"
       ]
      },
      {
       "output_type": "stream",
       "stream": "stdout",
       "text": [
        "\n",
        "[BernoulliRBM] Iteration 27, pseudo-likelihood = -548.95, time = 0.05s"
       ]
      },
      {
       "output_type": "stream",
       "stream": "stdout",
       "text": [
        "\n",
        "[BernoulliRBM] Iteration 28, pseudo-likelihood = -565.79, time = 0.06s"
       ]
      },
      {
       "output_type": "stream",
       "stream": "stdout",
       "text": [
        "\n",
        "[BernoulliRBM] Iteration 29, pseudo-likelihood = -586.81, time = 0.06s"
       ]
      },
      {
       "output_type": "stream",
       "stream": "stdout",
       "text": [
        "\n",
        "[BernoulliRBM] Iteration 30, pseudo-likelihood = -604.48, time = 0.06s"
       ]
      },
      {
       "output_type": "stream",
       "stream": "stdout",
       "text": [
        "\n",
        "[BernoulliRBM] Iteration 1, pseudo-likelihood = -124.60, time = 0.04s"
       ]
      },
      {
       "output_type": "stream",
       "stream": "stdout",
       "text": [
        "\n",
        "[BernoulliRBM] Iteration 2, pseudo-likelihood = -130.05, time = 0.06s"
       ]
      },
      {
       "output_type": "stream",
       "stream": "stdout",
       "text": [
        "\n",
        "[BernoulliRBM] Iteration 3, pseudo-likelihood = -136.10, time = 0.06s"
       ]
      },
      {
       "output_type": "stream",
       "stream": "stdout",
       "text": [
        "\n",
        "[BernoulliRBM] Iteration 4, pseudo-likelihood = -153.30, time = 0.07s"
       ]
      },
      {
       "output_type": "stream",
       "stream": "stdout",
       "text": [
        "\n",
        "[BernoulliRBM] Iteration 5, pseudo-likelihood = -163.24, time = 0.06s"
       ]
      },
      {
       "output_type": "stream",
       "stream": "stdout",
       "text": [
        "\n",
        "[BernoulliRBM] Iteration 6, pseudo-likelihood = -182.65, time = 0.06s"
       ]
      },
      {
       "output_type": "stream",
       "stream": "stdout",
       "text": [
        "\n",
        "[BernoulliRBM] Iteration 7, pseudo-likelihood = -193.75, time = 0.07s"
       ]
      },
      {
       "output_type": "stream",
       "stream": "stdout",
       "text": [
        "\n",
        "[BernoulliRBM] Iteration 8, pseudo-likelihood = -210.54, time = 0.06s"
       ]
      },
      {
       "output_type": "stream",
       "stream": "stdout",
       "text": [
        "\n",
        "[BernoulliRBM] Iteration 9, pseudo-likelihood = -222.66, time = 0.06s"
       ]
      },
      {
       "output_type": "stream",
       "stream": "stdout",
       "text": [
        "\n",
        "[BernoulliRBM] Iteration 10, pseudo-likelihood = -233.86, time = 0.07s"
       ]
      },
      {
       "output_type": "stream",
       "stream": "stdout",
       "text": [
        "\n",
        "[BernoulliRBM] Iteration 11, pseudo-likelihood = -246.82, time = 0.07s"
       ]
      },
      {
       "output_type": "stream",
       "stream": "stdout",
       "text": [
        "\n",
        "[BernoulliRBM] Iteration 12, pseudo-likelihood = -265.64, time = 0.06s"
       ]
      },
      {
       "output_type": "stream",
       "stream": "stdout",
       "text": [
        "\n",
        "[BernoulliRBM] Iteration 13, pseudo-likelihood = -274.78, time = 0.05s"
       ]
      },
      {
       "output_type": "stream",
       "stream": "stdout",
       "text": [
        "\n",
        "[BernoulliRBM] Iteration 14, pseudo-likelihood = -293.94, time = 0.06s"
       ]
      },
      {
       "output_type": "stream",
       "stream": "stdout",
       "text": [
        "\n",
        "[BernoulliRBM] Iteration 15, pseudo-likelihood = -309.11, time = 0.05s"
       ]
      },
      {
       "output_type": "stream",
       "stream": "stdout",
       "text": [
        "\n",
        "[BernoulliRBM] Iteration 16, pseudo-likelihood = -323.82, time = 0.05s"
       ]
      },
      {
       "output_type": "stream",
       "stream": "stdout",
       "text": [
        "\n",
        "[BernoulliRBM] Iteration 17, pseudo-likelihood = -341.32, time = 0.06s"
       ]
      },
      {
       "output_type": "stream",
       "stream": "stdout",
       "text": [
        "\n",
        "[BernoulliRBM] Iteration 18, pseudo-likelihood = -349.35, time = 0.05s"
       ]
      },
      {
       "output_type": "stream",
       "stream": "stdout",
       "text": [
        "\n",
        "[BernoulliRBM] Iteration 19, pseudo-likelihood = -369.93, time = 0.06s"
       ]
      },
      {
       "output_type": "stream",
       "stream": "stdout",
       "text": [
        "\n",
        "[BernoulliRBM] Iteration 20, pseudo-likelihood = -389.84, time = 0.06s"
       ]
      },
      {
       "output_type": "stream",
       "stream": "stdout",
       "text": [
        "\n",
        "[BernoulliRBM] Iteration 21, pseudo-likelihood = -397.44, time = 0.05s"
       ]
      },
      {
       "output_type": "stream",
       "stream": "stdout",
       "text": [
        "\n",
        "[BernoulliRBM] Iteration 22, pseudo-likelihood = -411.23, time = 0.06s"
       ]
      },
      {
       "output_type": "stream",
       "stream": "stdout",
       "text": [
        "\n",
        "[BernoulliRBM] Iteration 23, pseudo-likelihood = -426.41, time = 0.06s"
       ]
      },
      {
       "output_type": "stream",
       "stream": "stdout",
       "text": [
        "\n",
        "[BernoulliRBM] Iteration 24, pseudo-likelihood = -443.40, time = 0.05s"
       ]
      },
      {
       "output_type": "stream",
       "stream": "stdout",
       "text": [
        "\n",
        "[BernoulliRBM] Iteration 25, pseudo-likelihood = -457.32, time = 0.06s"
       ]
      },
      {
       "output_type": "stream",
       "stream": "stdout",
       "text": [
        "\n",
        "[BernoulliRBM] Iteration 26, pseudo-likelihood = -471.49, time = 0.05s"
       ]
      },
      {
       "output_type": "stream",
       "stream": "stdout",
       "text": [
        "\n",
        "[BernoulliRBM] Iteration 27, pseudo-likelihood = -488.11, time = 0.05s"
       ]
      },
      {
       "output_type": "stream",
       "stream": "stdout",
       "text": [
        "\n",
        "[BernoulliRBM] Iteration 28, pseudo-likelihood = -505.72, time = 0.05s"
       ]
      },
      {
       "output_type": "stream",
       "stream": "stdout",
       "text": [
        "\n",
        "[BernoulliRBM] Iteration 29, pseudo-likelihood = -520.24, time = 0.06s"
       ]
      },
      {
       "output_type": "stream",
       "stream": "stdout",
       "text": [
        "\n",
        "[BernoulliRBM] Iteration 30, pseudo-likelihood = -537.65, time = 0.06s"
       ]
      },
      {
       "output_type": "stream",
       "stream": "stdout",
       "text": [
        "\n",
        "[BernoulliRBM] Iteration 31, pseudo-likelihood = -551.10, time = 0.06s"
       ]
      },
      {
       "output_type": "stream",
       "stream": "stdout",
       "text": [
        "\n",
        "[BernoulliRBM] Iteration 32, pseudo-likelihood = -567.13, time = 0.06s"
       ]
      },
      {
       "output_type": "stream",
       "stream": "stdout",
       "text": [
        "\n",
        "[BernoulliRBM] Iteration 33, pseudo-likelihood = -583.81, time = 0.05s"
       ]
      },
      {
       "output_type": "stream",
       "stream": "stdout",
       "text": [
        "\n",
        "[BernoulliRBM] Iteration 34, pseudo-likelihood = -600.73, time = 0.06s"
       ]
      },
      {
       "output_type": "stream",
       "stream": "stdout",
       "text": [
        "\n",
        "[BernoulliRBM] Iteration 35, pseudo-likelihood = -616.01, time = 0.06s"
       ]
      },
      {
       "output_type": "stream",
       "stream": "stdout",
       "text": [
        "\n",
        "[BernoulliRBM] Iteration 1, pseudo-likelihood = -125.36, time = 0.04s"
       ]
      },
      {
       "output_type": "stream",
       "stream": "stdout",
       "text": [
        "\n",
        "[BernoulliRBM] Iteration 2, pseudo-likelihood = -131.14, time = 0.06s"
       ]
      },
      {
       "output_type": "stream",
       "stream": "stdout",
       "text": [
        "\n",
        "[BernoulliRBM] Iteration 3, pseudo-likelihood = -140.11, time = 0.05s"
       ]
      },
      {
       "output_type": "stream",
       "stream": "stdout",
       "text": [
        "\n",
        "[BernoulliRBM] Iteration 4, pseudo-likelihood = -156.81, time = 0.06s"
       ]
      },
      {
       "output_type": "stream",
       "stream": "stdout",
       "text": [
        "\n",
        "[BernoulliRBM] Iteration 5, pseudo-likelihood = -171.73, time = 0.06s"
       ]
      },
      {
       "output_type": "stream",
       "stream": "stdout",
       "text": [
        "\n",
        "[BernoulliRBM] Iteration 6, pseudo-likelihood = -191.60, time = 0.06s"
       ]
      },
      {
       "output_type": "stream",
       "stream": "stdout",
       "text": [
        "\n",
        "[BernoulliRBM] Iteration 7, pseudo-likelihood = -208.19, time = 0.06s"
       ]
      },
      {
       "output_type": "stream",
       "stream": "stdout",
       "text": [
        "\n",
        "[BernoulliRBM] Iteration 8, pseudo-likelihood = -223.98, time = 0.06s"
       ]
      },
      {
       "output_type": "stream",
       "stream": "stdout",
       "text": [
        "\n",
        "[BernoulliRBM] Iteration 9, pseudo-likelihood = -242.32, time = 0.05s"
       ]
      },
      {
       "output_type": "stream",
       "stream": "stdout",
       "text": [
        "\n",
        "[BernoulliRBM] Iteration 10, pseudo-likelihood = -260.01, time = 0.06s"
       ]
      },
      {
       "output_type": "stream",
       "stream": "stdout",
       "text": [
        "\n",
        "[BernoulliRBM] Iteration 11, pseudo-likelihood = -273.55, time = 0.07s"
       ]
      },
      {
       "output_type": "stream",
       "stream": "stdout",
       "text": [
        "\n",
        "[BernoulliRBM] Iteration 12, pseudo-likelihood = -288.00, time = 0.06s"
       ]
      },
      {
       "output_type": "stream",
       "stream": "stdout",
       "text": [
        "\n",
        "[BernoulliRBM] Iteration 13, pseudo-likelihood = -310.41, time = 0.07s"
       ]
      },
      {
       "output_type": "stream",
       "stream": "stdout",
       "text": [
        "\n",
        "[BernoulliRBM] Iteration 14, pseudo-likelihood = -330.78, time = 0.06s"
       ]
      },
      {
       "output_type": "stream",
       "stream": "stdout",
       "text": [
        "\n",
        "[BernoulliRBM] Iteration 15, pseudo-likelihood = -341.43, time = 0.06s"
       ]
      },
      {
       "output_type": "stream",
       "stream": "stdout",
       "text": [
        "\n",
        "[BernoulliRBM] Iteration 16, pseudo-likelihood = -362.47, time = 0.06s"
       ]
      },
      {
       "output_type": "stream",
       "stream": "stdout",
       "text": [
        "\n",
        "[BernoulliRBM] Iteration 17, pseudo-likelihood = -378.76, time = 0.06s"
       ]
      },
      {
       "output_type": "stream",
       "stream": "stdout",
       "text": [
        "\n",
        "[BernoulliRBM] Iteration 18, pseudo-likelihood = -396.41, time = 0.06s"
       ]
      },
      {
       "output_type": "stream",
       "stream": "stdout",
       "text": [
        "\n",
        "[BernoulliRBM] Iteration 19, pseudo-likelihood = -412.40, time = 0.06s"
       ]
      },
      {
       "output_type": "stream",
       "stream": "stdout",
       "text": [
        "\n",
        "[BernoulliRBM] Iteration 20, pseudo-likelihood = -433.81, time = 0.06s"
       ]
      },
      {
       "output_type": "stream",
       "stream": "stdout",
       "text": [
        "\n",
        "[BernoulliRBM] Iteration 21, pseudo-likelihood = -448.00, time = 0.06s"
       ]
      },
      {
       "output_type": "stream",
       "stream": "stdout",
       "text": [
        "\n",
        "[BernoulliRBM] Iteration 22, pseudo-likelihood = -463.65, time = 0.06s"
       ]
      },
      {
       "output_type": "stream",
       "stream": "stdout",
       "text": [
        "\n",
        "[BernoulliRBM] Iteration 23, pseudo-likelihood = -482.50, time = 0.06s"
       ]
      },
      {
       "output_type": "stream",
       "stream": "stdout",
       "text": [
        "\n",
        "[BernoulliRBM] Iteration 24, pseudo-likelihood = -500.86, time = 0.06s"
       ]
      },
      {
       "output_type": "stream",
       "stream": "stdout",
       "text": [
        "\n",
        "[BernoulliRBM] Iteration 25, pseudo-likelihood = -520.05, time = 0.06s"
       ]
      },
      {
       "output_type": "stream",
       "stream": "stdout",
       "text": [
        "\n",
        "[BernoulliRBM] Iteration 26, pseudo-likelihood = -534.96, time = 0.06s"
       ]
      },
      {
       "output_type": "stream",
       "stream": "stdout",
       "text": [
        "\n",
        "[BernoulliRBM] Iteration 27, pseudo-likelihood = -553.82, time = 0.06s"
       ]
      },
      {
       "output_type": "stream",
       "stream": "stdout",
       "text": [
        "\n",
        "[BernoulliRBM] Iteration 28, pseudo-likelihood = -571.47, time = 0.05s"
       ]
      },
      {
       "output_type": "stream",
       "stream": "stdout",
       "text": [
        "\n",
        "[BernoulliRBM] Iteration 29, pseudo-likelihood = -590.48, time = 0.06s"
       ]
      },
      {
       "output_type": "stream",
       "stream": "stdout",
       "text": [
        "\n",
        "[BernoulliRBM] Iteration 30, pseudo-likelihood = -608.60, time = 0.05s"
       ]
      },
      {
       "output_type": "stream",
       "stream": "stdout",
       "text": [
        "\n",
        "[BernoulliRBM] Iteration 31, pseudo-likelihood = -625.58, time = 0.06s"
       ]
      },
      {
       "output_type": "stream",
       "stream": "stdout",
       "text": [
        "\n",
        "[BernoulliRBM] Iteration 32, pseudo-likelihood = -645.42, time = 0.05s"
       ]
      },
      {
       "output_type": "stream",
       "stream": "stdout",
       "text": [
        "\n",
        "[BernoulliRBM] Iteration 33, pseudo-likelihood = -662.34, time = 0.06s"
       ]
      },
      {
       "output_type": "stream",
       "stream": "stdout",
       "text": [
        "\n",
        "[BernoulliRBM] Iteration 34, pseudo-likelihood = -680.99, time = 0.06s"
       ]
      },
      {
       "output_type": "stream",
       "stream": "stdout",
       "text": [
        "\n",
        "[BernoulliRBM] Iteration 35, pseudo-likelihood = -698.48, time = 0.06s"
       ]
      },
      {
       "output_type": "stream",
       "stream": "stdout",
       "text": [
        "\n",
        "[BernoulliRBM] Iteration 1, pseudo-likelihood = -86.44, time = 0.03s"
       ]
      },
      {
       "output_type": "stream",
       "stream": "stdout",
       "text": [
        "\n",
        "[BernoulliRBM] Iteration 2, pseudo-likelihood = -89.97, time = 0.06s"
       ]
      },
      {
       "output_type": "stream",
       "stream": "stdout",
       "text": [
        "\n",
        "[BernoulliRBM] Iteration 3, pseudo-likelihood = -97.00, time = 0.06s"
       ]
      },
      {
       "output_type": "stream",
       "stream": "stdout",
       "text": [
        "\n",
        "[BernoulliRBM] Iteration 4, pseudo-likelihood = -108.50, time = 0.07s"
       ]
      },
      {
       "output_type": "stream",
       "stream": "stdout",
       "text": [
        "\n",
        "[BernoulliRBM] Iteration 5, pseudo-likelihood = -118.54, time = 0.07s"
       ]
      },
      {
       "output_type": "stream",
       "stream": "stdout",
       "text": [
        "\n",
        "[BernoulliRBM] Iteration 6, pseudo-likelihood = -135.35, time = 0.07s"
       ]
      },
      {
       "output_type": "stream",
       "stream": "stdout",
       "text": [
        "\n",
        "[BernoulliRBM] Iteration 7, pseudo-likelihood = -151.45, time = 0.07s"
       ]
      },
      {
       "output_type": "stream",
       "stream": "stdout",
       "text": [
        "\n",
        "[BernoulliRBM] Iteration 8, pseudo-likelihood = -169.27, time = 0.06s"
       ]
      },
      {
       "output_type": "stream",
       "stream": "stdout",
       "text": [
        "\n",
        "[BernoulliRBM] Iteration 9, pseudo-likelihood = -182.92, time = 0.07s"
       ]
      },
      {
       "output_type": "stream",
       "stream": "stdout",
       "text": [
        "\n",
        "[BernoulliRBM] Iteration 10, pseudo-likelihood = -194.98, time = 0.06s"
       ]
      },
      {
       "output_type": "stream",
       "stream": "stdout",
       "text": [
        "\n",
        "[BernoulliRBM] Iteration 11, pseudo-likelihood = -208.98, time = 0.07s"
       ]
      },
      {
       "output_type": "stream",
       "stream": "stdout",
       "text": [
        "\n",
        "[BernoulliRBM] Iteration 12, pseudo-likelihood = -223.99, time = 0.06s"
       ]
      },
      {
       "output_type": "stream",
       "stream": "stdout",
       "text": [
        "\n",
        "[BernoulliRBM] Iteration 13, pseudo-likelihood = -240.88, time = 0.06s"
       ]
      },
      {
       "output_type": "stream",
       "stream": "stdout",
       "text": [
        "\n",
        "[BernoulliRBM] Iteration 14, pseudo-likelihood = -260.76, time = 0.06s"
       ]
      },
      {
       "output_type": "stream",
       "stream": "stdout",
       "text": [
        "\n",
        "[BernoulliRBM] Iteration 15, pseudo-likelihood = -269.76, time = 0.07s"
       ]
      },
      {
       "output_type": "stream",
       "stream": "stdout",
       "text": [
        "\n",
        "[BernoulliRBM] Iteration 16, pseudo-likelihood = -291.43, time = 0.06s"
       ]
      },
      {
       "output_type": "stream",
       "stream": "stdout",
       "text": [
        "\n",
        "[BernoulliRBM] Iteration 17, pseudo-likelihood = -302.32, time = 0.06s"
       ]
      },
      {
       "output_type": "stream",
       "stream": "stdout",
       "text": [
        "\n",
        "[BernoulliRBM] Iteration 18, pseudo-likelihood = -316.47, time = 0.06s"
       ]
      },
      {
       "output_type": "stream",
       "stream": "stdout",
       "text": [
        "\n",
        "[BernoulliRBM] Iteration 19, pseudo-likelihood = -333.82, time = 0.06s"
       ]
      },
      {
       "output_type": "stream",
       "stream": "stdout",
       "text": [
        "\n",
        "[BernoulliRBM] Iteration 20, pseudo-likelihood = -350.98, time = 0.06s"
       ]
      },
      {
       "output_type": "stream",
       "stream": "stdout",
       "text": [
        "\n",
        "[BernoulliRBM] Iteration 21, pseudo-likelihood = -365.97, time = 0.06s"
       ]
      },
      {
       "output_type": "stream",
       "stream": "stdout",
       "text": [
        "\n",
        "[BernoulliRBM] Iteration 22, pseudo-likelihood = -380.17, time = 0.05s"
       ]
      },
      {
       "output_type": "stream",
       "stream": "stdout",
       "text": [
        "\n",
        "[BernoulliRBM] Iteration 23, pseudo-likelihood = -393.83, time = 0.06s"
       ]
      },
      {
       "output_type": "stream",
       "stream": "stdout",
       "text": [
        "\n",
        "[BernoulliRBM] Iteration 24, pseudo-likelihood = -409.64, time = 0.06s"
       ]
      },
      {
       "output_type": "stream",
       "stream": "stdout",
       "text": [
        "\n",
        "[BernoulliRBM] Iteration 25, pseudo-likelihood = -427.07, time = 0.06s"
       ]
      },
      {
       "output_type": "stream",
       "stream": "stdout",
       "text": [
        "\n",
        "[BernoulliRBM] Iteration 26, pseudo-likelihood = -443.17, time = 0.06s"
       ]
      },
      {
       "output_type": "stream",
       "stream": "stdout",
       "text": [
        "\n",
        "[BernoulliRBM] Iteration 27, pseudo-likelihood = -458.11, time = 0.06s"
       ]
      },
      {
       "output_type": "stream",
       "stream": "stdout",
       "text": [
        "\n",
        "[BernoulliRBM] Iteration 28, pseudo-likelihood = -473.97, time = 0.06s"
       ]
      },
      {
       "output_type": "stream",
       "stream": "stdout",
       "text": [
        "\n",
        "[BernoulliRBM] Iteration 29, pseudo-likelihood = -489.69, time = 0.06s"
       ]
      },
      {
       "output_type": "stream",
       "stream": "stdout",
       "text": [
        "\n",
        "[BernoulliRBM] Iteration 30, pseudo-likelihood = -506.40, time = 0.06s"
       ]
      },
      {
       "output_type": "stream",
       "stream": "stdout",
       "text": [
        "\n",
        "[BernoulliRBM] Iteration 31, pseudo-likelihood = -521.98, time = 0.06s"
       ]
      },
      {
       "output_type": "stream",
       "stream": "stdout",
       "text": [
        "\n",
        "[BernoulliRBM] Iteration 32, pseudo-likelihood = -537.43, time = 0.06s"
       ]
      },
      {
       "output_type": "stream",
       "stream": "stdout",
       "text": [
        "\n",
        "[BernoulliRBM] Iteration 33, pseudo-likelihood = -552.99, time = 0.06s"
       ]
      },
      {
       "output_type": "stream",
       "stream": "stdout",
       "text": [
        "\n",
        "[BernoulliRBM] Iteration 34, pseudo-likelihood = -569.26, time = 0.06s"
       ]
      },
      {
       "output_type": "stream",
       "stream": "stdout",
       "text": [
        "\n",
        "[BernoulliRBM] Iteration 35, pseudo-likelihood = -584.05, time = 0.06s"
       ]
      },
      {
       "output_type": "stream",
       "stream": "stdout",
       "text": [
        "\n",
        "[BernoulliRBM] Iteration 1, pseudo-likelihood = -86.06, time = 0.04s"
       ]
      },
      {
       "output_type": "stream",
       "stream": "stdout",
       "text": [
        "\n",
        "[BernoulliRBM] Iteration 2, pseudo-likelihood = -99.86, time = 0.06s"
       ]
      },
      {
       "output_type": "stream",
       "stream": "stdout",
       "text": [
        "\n",
        "[BernoulliRBM] Iteration 3, pseudo-likelihood = -93.59, time = 0.06s"
       ]
      },
      {
       "output_type": "stream",
       "stream": "stdout",
       "text": [
        "\n",
        "[BernoulliRBM] Iteration 4, pseudo-likelihood = -103.69, time = 0.05s"
       ]
      },
      {
       "output_type": "stream",
       "stream": "stdout",
       "text": [
        "\n",
        "[BernoulliRBM] Iteration 5, pseudo-likelihood = -117.13, time = 0.07s"
       ]
      },
      {
       "output_type": "stream",
       "stream": "stdout",
       "text": [
        "\n",
        "[BernoulliRBM] Iteration 6, pseudo-likelihood = -125.31, time = 0.06s"
       ]
      },
      {
       "output_type": "stream",
       "stream": "stdout",
       "text": [
        "\n",
        "[BernoulliRBM] Iteration 7, pseudo-likelihood = -144.71, time = 0.07s"
       ]
      },
      {
       "output_type": "stream",
       "stream": "stdout",
       "text": [
        "\n",
        "[BernoulliRBM] Iteration 8, pseudo-likelihood = -159.12, time = 0.06s"
       ]
      },
      {
       "output_type": "stream",
       "stream": "stdout",
       "text": [
        "\n",
        "[BernoulliRBM] Iteration 9, pseudo-likelihood = -174.70, time = 0.07s"
       ]
      },
      {
       "output_type": "stream",
       "stream": "stdout",
       "text": [
        "\n",
        "[BernoulliRBM] Iteration 10, pseudo-likelihood = -191.26, time = 0.07s"
       ]
      },
      {
       "output_type": "stream",
       "stream": "stdout",
       "text": [
        "\n",
        "[BernoulliRBM] Iteration 11, pseudo-likelihood = -201.65, time = 0.06s"
       ]
      },
      {
       "output_type": "stream",
       "stream": "stdout",
       "text": [
        "\n",
        "[BernoulliRBM] Iteration 12, pseudo-likelihood = -217.65, time = 0.07s"
       ]
      },
      {
       "output_type": "stream",
       "stream": "stdout",
       "text": [
        "\n",
        "[BernoulliRBM] Iteration 13, pseudo-likelihood = -236.65, time = 0.06s"
       ]
      },
      {
       "output_type": "stream",
       "stream": "stdout",
       "text": [
        "\n",
        "[BernoulliRBM] Iteration 14, pseudo-likelihood = -250.64, time = 0.06s"
       ]
      },
      {
       "output_type": "stream",
       "stream": "stdout",
       "text": [
        "\n",
        "[BernoulliRBM] Iteration 15, pseudo-likelihood = -268.29, time = 0.06s"
       ]
      },
      {
       "output_type": "stream",
       "stream": "stdout",
       "text": [
        "\n",
        "[BernoulliRBM] Iteration 16, pseudo-likelihood = -284.82, time = 0.06s"
       ]
      },
      {
       "output_type": "stream",
       "stream": "stdout",
       "text": [
        "\n",
        "[BernoulliRBM] Iteration 17, pseudo-likelihood = -302.88, time = 0.06s"
       ]
      },
      {
       "output_type": "stream",
       "stream": "stdout",
       "text": [
        "\n",
        "[BernoulliRBM] Iteration 18, pseudo-likelihood = -315.70, time = 0.06s"
       ]
      },
      {
       "output_type": "stream",
       "stream": "stdout",
       "text": [
        "\n",
        "[BernoulliRBM] Iteration 19, pseudo-likelihood = -337.38, time = 0.05s"
       ]
      },
      {
       "output_type": "stream",
       "stream": "stdout",
       "text": [
        "\n",
        "[BernoulliRBM] Iteration 20, pseudo-likelihood = -352.68, time = 0.05s"
       ]
      },
      {
       "output_type": "stream",
       "stream": "stdout",
       "text": [
        "\n",
        "[BernoulliRBM] Iteration 21, pseudo-likelihood = -369.99, time = 0.05s"
       ]
      },
      {
       "output_type": "stream",
       "stream": "stdout",
       "text": [
        "\n",
        "[BernoulliRBM] Iteration 22, pseudo-likelihood = -386.22, time = 0.06s"
       ]
      },
      {
       "output_type": "stream",
       "stream": "stdout",
       "text": [
        "\n",
        "[BernoulliRBM] Iteration 23, pseudo-likelihood = -397.80, time = 0.06s"
       ]
      },
      {
       "output_type": "stream",
       "stream": "stdout",
       "text": [
        "\n",
        "[BernoulliRBM] Iteration 24, pseudo-likelihood = -414.88, time = 0.06s"
       ]
      },
      {
       "output_type": "stream",
       "stream": "stdout",
       "text": [
        "\n",
        "[BernoulliRBM] Iteration 25, pseudo-likelihood = -431.15, time = 0.06s"
       ]
      },
      {
       "output_type": "stream",
       "stream": "stdout",
       "text": [
        "\n",
        "[BernoulliRBM] Iteration 26, pseudo-likelihood = -449.09, time = 0.06s"
       ]
      },
      {
       "output_type": "stream",
       "stream": "stdout",
       "text": [
        "\n",
        "[BernoulliRBM] Iteration 27, pseudo-likelihood = -466.17, time = 0.06s"
       ]
      },
      {
       "output_type": "stream",
       "stream": "stdout",
       "text": [
        "\n",
        "[BernoulliRBM] Iteration 28, pseudo-likelihood = -482.21, time = 0.06s"
       ]
      },
      {
       "output_type": "stream",
       "stream": "stdout",
       "text": [
        "\n",
        "[BernoulliRBM] Iteration 29, pseudo-likelihood = -499.52, time = 0.05s"
       ]
      },
      {
       "output_type": "stream",
       "stream": "stdout",
       "text": [
        "\n",
        "[BernoulliRBM] Iteration 30, pseudo-likelihood = -515.59, time = 0.06s"
       ]
      },
      {
       "output_type": "stream",
       "stream": "stdout",
       "text": [
        "\n",
        "[BernoulliRBM] Iteration 31, pseudo-likelihood = -533.31, time = 0.05s"
       ]
      },
      {
       "output_type": "stream",
       "stream": "stdout",
       "text": [
        "\n",
        "[BernoulliRBM] Iteration 32, pseudo-likelihood = -552.00, time = 0.06s"
       ]
      },
      {
       "output_type": "stream",
       "stream": "stdout",
       "text": [
        "\n",
        "[BernoulliRBM] Iteration 33, pseudo-likelihood = -570.34, time = 0.05s"
       ]
      },
      {
       "output_type": "stream",
       "stream": "stdout",
       "text": [
        "\n",
        "[BernoulliRBM] Iteration 34, pseudo-likelihood = -587.90, time = 0.06s"
       ]
      },
      {
       "output_type": "stream",
       "stream": "stdout",
       "text": [
        "\n",
        "[BernoulliRBM] Iteration 35, pseudo-likelihood = -600.73, time = 0.06s"
       ]
      },
      {
       "output_type": "stream",
       "stream": "stdout",
       "text": [
        "\n",
        "[BernoulliRBM] Iteration 1, pseudo-likelihood = -85.46, time = 0.04s"
       ]
      },
      {
       "output_type": "stream",
       "stream": "stdout",
       "text": [
        "\n",
        "[BernoulliRBM] Iteration 2, pseudo-likelihood = -111.79, time = 0.06s"
       ]
      },
      {
       "output_type": "stream",
       "stream": "stdout",
       "text": [
        "\n",
        "[BernoulliRBM] Iteration 3, pseudo-likelihood = -105.75, time = 0.07s"
       ]
      },
      {
       "output_type": "stream",
       "stream": "stdout",
       "text": [
        "\n",
        "[BernoulliRBM] Iteration 4, pseudo-likelihood = -109.75, time = 0.06s"
       ]
      },
      {
       "output_type": "stream",
       "stream": "stdout",
       "text": [
        "\n",
        "[BernoulliRBM] Iteration 5, pseudo-likelihood = -119.94, time = 0.06s"
       ]
      },
      {
       "output_type": "stream",
       "stream": "stdout",
       "text": [
        "\n",
        "[BernoulliRBM] Iteration 6, pseudo-likelihood = -135.88, time = 0.06s"
       ]
      },
      {
       "output_type": "stream",
       "stream": "stdout",
       "text": [
        "\n",
        "[BernoulliRBM] Iteration 7, pseudo-likelihood = -145.75, time = 0.06s"
       ]
      },
      {
       "output_type": "stream",
       "stream": "stdout",
       "text": [
        "\n",
        "[BernoulliRBM] Iteration 8, pseudo-likelihood = -161.09, time = 0.07s"
       ]
      },
      {
       "output_type": "stream",
       "stream": "stdout",
       "text": [
        "\n",
        "[BernoulliRBM] Iteration 9, pseudo-likelihood = -174.38, time = 0.07s"
       ]
      },
      {
       "output_type": "stream",
       "stream": "stdout",
       "text": [
        "\n",
        "[BernoulliRBM] Iteration 10, pseudo-likelihood = -184.77, time = 0.07s"
       ]
      },
      {
       "output_type": "stream",
       "stream": "stdout",
       "text": [
        "\n",
        "[BernoulliRBM] Iteration 11, pseudo-likelihood = -198.68, time = 0.07s"
       ]
      },
      {
       "output_type": "stream",
       "stream": "stdout",
       "text": [
        "\n",
        "[BernoulliRBM] Iteration 12, pseudo-likelihood = -212.70, time = 0.07s"
       ]
      },
      {
       "output_type": "stream",
       "stream": "stdout",
       "text": [
        "\n",
        "[BernoulliRBM] Iteration 13, pseudo-likelihood = -231.55, time = 0.06s"
       ]
      },
      {
       "output_type": "stream",
       "stream": "stdout",
       "text": [
        "\n",
        "[BernoulliRBM] Iteration 14, pseudo-likelihood = -245.72, time = 0.06s"
       ]
      },
      {
       "output_type": "stream",
       "stream": "stdout",
       "text": [
        "\n",
        "[BernoulliRBM] Iteration 15, pseudo-likelihood = -256.16, time = 0.06s"
       ]
      },
      {
       "output_type": "stream",
       "stream": "stdout",
       "text": [
        "\n",
        "[BernoulliRBM] Iteration 16, pseudo-likelihood = -268.86, time = 0.05s"
       ]
      },
      {
       "output_type": "stream",
       "stream": "stdout",
       "text": [
        "\n",
        "[BernoulliRBM] Iteration 17, pseudo-likelihood = -285.95, time = 0.05s\n",
        "[BernoulliRBM] Iteration 18, pseudo-likelihood = -298.15, time = 0.05s"
       ]
      },
      {
       "output_type": "stream",
       "stream": "stdout",
       "text": [
        "\n",
        "[BernoulliRBM] Iteration 19, pseudo-likelihood = -314.98, time = 0.05s"
       ]
      },
      {
       "output_type": "stream",
       "stream": "stdout",
       "text": [
        "\n",
        "[BernoulliRBM] Iteration 20, pseudo-likelihood = -329.01, time = 0.05s"
       ]
      },
      {
       "output_type": "stream",
       "stream": "stdout",
       "text": [
        "\n",
        "[BernoulliRBM] Iteration 21, pseudo-likelihood = -348.70, time = 0.06s"
       ]
      },
      {
       "output_type": "stream",
       "stream": "stdout",
       "text": [
        "\n",
        "[BernoulliRBM] Iteration 22, pseudo-likelihood = -362.24, time = 0.06s"
       ]
      },
      {
       "output_type": "stream",
       "stream": "stdout",
       "text": [
        "\n",
        "[BernoulliRBM] Iteration 23, pseudo-likelihood = -373.04, time = 0.06s"
       ]
      },
      {
       "output_type": "stream",
       "stream": "stdout",
       "text": [
        "\n",
        "[BernoulliRBM] Iteration 24, pseudo-likelihood = -384.69, time = 0.06s"
       ]
      },
      {
       "output_type": "stream",
       "stream": "stdout",
       "text": [
        "\n",
        "[BernoulliRBM] Iteration 25, pseudo-likelihood = -401.00, time = 0.06s"
       ]
      },
      {
       "output_type": "stream",
       "stream": "stdout",
       "text": [
        "\n",
        "[BernoulliRBM] Iteration 26, pseudo-likelihood = -417.63, time = 0.06s"
       ]
      },
      {
       "output_type": "stream",
       "stream": "stdout",
       "text": [
        "\n",
        "[BernoulliRBM] Iteration 27, pseudo-likelihood = -430.80, time = 0.06s"
       ]
      },
      {
       "output_type": "stream",
       "stream": "stdout",
       "text": [
        "\n",
        "[BernoulliRBM] Iteration 28, pseudo-likelihood = -444.49, time = 0.06s"
       ]
      },
      {
       "output_type": "stream",
       "stream": "stdout",
       "text": [
        "\n",
        "[BernoulliRBM] Iteration 29, pseudo-likelihood = -461.36, time = 0.06s"
       ]
      },
      {
       "output_type": "stream",
       "stream": "stdout",
       "text": [
        "\n",
        "[BernoulliRBM] Iteration 30, pseudo-likelihood = -475.58, time = 0.05s"
       ]
      },
      {
       "output_type": "stream",
       "stream": "stdout",
       "text": [
        "\n",
        "[BernoulliRBM] Iteration 31, pseudo-likelihood = -490.43, time = 0.06s"
       ]
      },
      {
       "output_type": "stream",
       "stream": "stdout",
       "text": [
        "\n",
        "[BernoulliRBM] Iteration 32, pseudo-likelihood = -504.87, time = 0.06s"
       ]
      },
      {
       "output_type": "stream",
       "stream": "stdout",
       "text": [
        "\n",
        "[BernoulliRBM] Iteration 33, pseudo-likelihood = -520.96, time = 0.06s"
       ]
      },
      {
       "output_type": "stream",
       "stream": "stdout",
       "text": [
        "\n",
        "[BernoulliRBM] Iteration 34, pseudo-likelihood = -535.89, time = 0.05s"
       ]
      },
      {
       "output_type": "stream",
       "stream": "stdout",
       "text": [
        "\n",
        "[BernoulliRBM] Iteration 35, pseudo-likelihood = -550.17, time = 0.05s"
       ]
      },
      {
       "output_type": "stream",
       "stream": "stdout",
       "text": [
        "\n",
        "[BernoulliRBM] Iteration 1, pseudo-likelihood = -77.20, time = 0.04s"
       ]
      },
      {
       "output_type": "stream",
       "stream": "stdout",
       "text": [
        "\n",
        "[BernoulliRBM] Iteration 2, pseudo-likelihood = -88.30, time = 0.07s"
       ]
      },
      {
       "output_type": "stream",
       "stream": "stdout",
       "text": [
        "\n",
        "[BernoulliRBM] Iteration 3, pseudo-likelihood = -89.17, time = 0.06s"
       ]
      },
      {
       "output_type": "stream",
       "stream": "stdout",
       "text": [
        "\n",
        "[BernoulliRBM] Iteration 4, pseudo-likelihood = -98.86, time = 0.07s"
       ]
      },
      {
       "output_type": "stream",
       "stream": "stdout",
       "text": [
        "\n",
        "[BernoulliRBM] Iteration 5, pseudo-likelihood = -109.60, time = 0.07s"
       ]
      },
      {
       "output_type": "stream",
       "stream": "stdout",
       "text": [
        "\n",
        "[BernoulliRBM] Iteration 6, pseudo-likelihood = -119.41, time = 0.06s"
       ]
      },
      {
       "output_type": "stream",
       "stream": "stdout",
       "text": [
        "\n",
        "[BernoulliRBM] Iteration 7, pseudo-likelihood = -133.69, time = 0.06s"
       ]
      },
      {
       "output_type": "stream",
       "stream": "stdout",
       "text": [
        "\n",
        "[BernoulliRBM] Iteration 8, pseudo-likelihood = -143.19, time = 0.05s"
       ]
      },
      {
       "output_type": "stream",
       "stream": "stdout",
       "text": [
        "\n",
        "[BernoulliRBM] Iteration 9, pseudo-likelihood = -157.99, time = 0.06s"
       ]
      },
      {
       "output_type": "stream",
       "stream": "stdout",
       "text": [
        "\n",
        "[BernoulliRBM] Iteration 10, pseudo-likelihood = -170.09, time = 0.07s"
       ]
      },
      {
       "output_type": "stream",
       "stream": "stdout",
       "text": [
        "\n",
        "[BernoulliRBM] Iteration 11, pseudo-likelihood = -184.47, time = 0.06s"
       ]
      },
      {
       "output_type": "stream",
       "stream": "stdout",
       "text": [
        "\n",
        "[BernoulliRBM] Iteration 12, pseudo-likelihood = -197.60, time = 0.07s"
       ]
      },
      {
       "output_type": "stream",
       "stream": "stdout",
       "text": [
        "\n",
        "[BernoulliRBM] Iteration 13, pseudo-likelihood = -213.97, time = 0.06s"
       ]
      },
      {
       "output_type": "stream",
       "stream": "stdout",
       "text": [
        "\n",
        "[BernoulliRBM] Iteration 14, pseudo-likelihood = -225.11, time = 0.06s"
       ]
      },
      {
       "output_type": "stream",
       "stream": "stdout",
       "text": [
        "\n",
        "[BernoulliRBM] Iteration 15, pseudo-likelihood = -241.79, time = 0.06s"
       ]
      },
      {
       "output_type": "stream",
       "stream": "stdout",
       "text": [
        "\n",
        "[BernoulliRBM] Iteration 16, pseudo-likelihood = -255.31, time = 0.06s"
       ]
      },
      {
       "output_type": "stream",
       "stream": "stdout",
       "text": [
        "\n",
        "[BernoulliRBM] Iteration 17, pseudo-likelihood = -269.64, time = 0.06s"
       ]
      },
      {
       "output_type": "stream",
       "stream": "stdout",
       "text": [
        "\n",
        "[BernoulliRBM] Iteration 18, pseudo-likelihood = -282.81, time = 0.05s"
       ]
      },
      {
       "output_type": "stream",
       "stream": "stdout",
       "text": [
        "\n",
        "[BernoulliRBM] Iteration 19, pseudo-likelihood = -297.45, time = 0.06s"
       ]
      },
      {
       "output_type": "stream",
       "stream": "stdout",
       "text": [
        "\n",
        "[BernoulliRBM] Iteration 20, pseudo-likelihood = -310.88, time = 0.06s"
       ]
      },
      {
       "output_type": "stream",
       "stream": "stdout",
       "text": [
        "\n",
        "[BernoulliRBM] Iteration 21, pseudo-likelihood = -325.76, time = 0.06s"
       ]
      },
      {
       "output_type": "stream",
       "stream": "stdout",
       "text": [
        "\n",
        "[BernoulliRBM] Iteration 22, pseudo-likelihood = -337.58, time = 0.06s"
       ]
      },
      {
       "output_type": "stream",
       "stream": "stdout",
       "text": [
        "\n",
        "[BernoulliRBM] Iteration 23, pseudo-likelihood = -352.80, time = 0.06s"
       ]
      },
      {
       "output_type": "stream",
       "stream": "stdout",
       "text": [
        "\n",
        "[BernoulliRBM] Iteration 24, pseudo-likelihood = -366.64, time = 0.05s"
       ]
      },
      {
       "output_type": "stream",
       "stream": "stdout",
       "text": [
        "\n",
        "[BernoulliRBM] Iteration 25, pseudo-likelihood = -380.19, time = 0.06s"
       ]
      },
      {
       "output_type": "stream",
       "stream": "stdout",
       "text": [
        "\n",
        "[BernoulliRBM] Iteration 26, pseudo-likelihood = -394.62, time = 0.06s"
       ]
      },
      {
       "output_type": "stream",
       "stream": "stdout",
       "text": [
        "\n",
        "[BernoulliRBM] Iteration 27, pseudo-likelihood = -409.12, time = 0.05s"
       ]
      },
      {
       "output_type": "stream",
       "stream": "stdout",
       "text": [
        "\n",
        "[BernoulliRBM] Iteration 28, pseudo-likelihood = -422.27, time = 0.05s"
       ]
      },
      {
       "output_type": "stream",
       "stream": "stdout",
       "text": [
        "\n",
        "[BernoulliRBM] Iteration 29, pseudo-likelihood = -439.30, time = 0.06s"
       ]
      },
      {
       "output_type": "stream",
       "stream": "stdout",
       "text": [
        "\n",
        "[BernoulliRBM] Iteration 30, pseudo-likelihood = -453.46, time = 0.05s"
       ]
      },
      {
       "output_type": "stream",
       "stream": "stdout",
       "text": [
        "\n",
        "[BernoulliRBM] Iteration 31, pseudo-likelihood = -467.86, time = 0.06s"
       ]
      },
      {
       "output_type": "stream",
       "stream": "stdout",
       "text": [
        "\n",
        "[BernoulliRBM] Iteration 32, pseudo-likelihood = -483.29, time = 0.06s"
       ]
      },
      {
       "output_type": "stream",
       "stream": "stdout",
       "text": [
        "\n",
        "[BernoulliRBM] Iteration 33, pseudo-likelihood = -495.92, time = 0.06s"
       ]
      },
      {
       "output_type": "stream",
       "stream": "stdout",
       "text": [
        "\n",
        "[BernoulliRBM] Iteration 34, pseudo-likelihood = -509.50, time = 0.06s"
       ]
      },
      {
       "output_type": "stream",
       "stream": "stdout",
       "text": [
        "\n",
        "[BernoulliRBM] Iteration 35, pseudo-likelihood = -524.01, time = 0.06s"
       ]
      },
      {
       "output_type": "stream",
       "stream": "stdout",
       "text": [
        "\n",
        "[BernoulliRBM] Iteration 1, pseudo-likelihood = -82.11, time = 0.04s"
       ]
      },
      {
       "output_type": "stream",
       "stream": "stdout",
       "text": [
        "\n",
        "[BernoulliRBM] Iteration 2, pseudo-likelihood = -110.45, time = 0.06s"
       ]
      },
      {
       "output_type": "stream",
       "stream": "stdout",
       "text": [
        "\n",
        "[BernoulliRBM] Iteration 3, pseudo-likelihood = -106.14, time = 0.07s"
       ]
      },
      {
       "output_type": "stream",
       "stream": "stdout",
       "text": [
        "\n",
        "[BernoulliRBM] Iteration 4, pseudo-likelihood = -105.84, time = 0.07s"
       ]
      },
      {
       "output_type": "stream",
       "stream": "stdout",
       "text": [
        "\n",
        "[BernoulliRBM] Iteration 5, pseudo-likelihood = -113.91, time = 0.06s"
       ]
      },
      {
       "output_type": "stream",
       "stream": "stdout",
       "text": [
        "\n",
        "[BernoulliRBM] Iteration 6, pseudo-likelihood = -121.16, time = 0.05s"
       ]
      },
      {
       "output_type": "stream",
       "stream": "stdout",
       "text": [
        "\n",
        "[BernoulliRBM] Iteration 7, pseudo-likelihood = -135.56, time = 0.06s"
       ]
      },
      {
       "output_type": "stream",
       "stream": "stdout",
       "text": [
        "\n",
        "[BernoulliRBM] Iteration 8, pseudo-likelihood = -147.95, time = 0.06s"
       ]
      },
      {
       "output_type": "stream",
       "stream": "stdout",
       "text": [
        "\n",
        "[BernoulliRBM] Iteration 9, pseudo-likelihood = -161.23, time = 0.07s"
       ]
      },
      {
       "output_type": "stream",
       "stream": "stdout",
       "text": [
        "\n",
        "[BernoulliRBM] Iteration 10, pseudo-likelihood = -169.81, time = 0.06s"
       ]
      },
      {
       "output_type": "stream",
       "stream": "stdout",
       "text": [
        "\n",
        "[BernoulliRBM] Iteration 11, pseudo-likelihood = -183.19, time = 0.06s"
       ]
      },
      {
       "output_type": "stream",
       "stream": "stdout",
       "text": [
        "\n",
        "[BernoulliRBM] Iteration 12, pseudo-likelihood = -194.31, time = 0.06s"
       ]
      },
      {
       "output_type": "stream",
       "stream": "stdout",
       "text": [
        "\n",
        "[BernoulliRBM] Iteration 13, pseudo-likelihood = -210.27, time = 0.07s"
       ]
      },
      {
       "output_type": "stream",
       "stream": "stdout",
       "text": [
        "\n",
        "[BernoulliRBM] Iteration 14, pseudo-likelihood = -222.87, time = 0.07s"
       ]
      },
      {
       "output_type": "stream",
       "stream": "stdout",
       "text": [
        "\n",
        "[BernoulliRBM] Iteration 15, pseudo-likelihood = -230.02, time = 0.06s"
       ]
      },
      {
       "output_type": "stream",
       "stream": "stdout",
       "text": [
        "\n",
        "[BernoulliRBM] Iteration 16, pseudo-likelihood = -247.63, time = 0.06s"
       ]
      },
      {
       "output_type": "stream",
       "stream": "stdout",
       "text": [
        "\n",
        "[BernoulliRBM] Iteration 17, pseudo-likelihood = -259.28, time = 0.06s"
       ]
      },
      {
       "output_type": "stream",
       "stream": "stdout",
       "text": [
        "\n",
        "[BernoulliRBM] Iteration 18, pseudo-likelihood = -273.64, time = 0.06s"
       ]
      },
      {
       "output_type": "stream",
       "stream": "stdout",
       "text": [
        "\n",
        "[BernoulliRBM] Iteration 19, pseudo-likelihood = -285.89, time = 0.06s"
       ]
      },
      {
       "output_type": "stream",
       "stream": "stdout",
       "text": [
        "\n",
        "[BernoulliRBM] Iteration 20, pseudo-likelihood = -296.64, time = 0.06s"
       ]
      },
      {
       "output_type": "stream",
       "stream": "stdout",
       "text": [
        "\n",
        "[BernoulliRBM] Iteration 21, pseudo-likelihood = -314.47, time = 0.05s"
       ]
      },
      {
       "output_type": "stream",
       "stream": "stdout",
       "text": [
        "\n",
        "[BernoulliRBM] Iteration 22, pseudo-likelihood = -323.18, time = 0.06s"
       ]
      },
      {
       "output_type": "stream",
       "stream": "stdout",
       "text": [
        "\n",
        "[BernoulliRBM] Iteration 23, pseudo-likelihood = -334.37, time = 0.05s"
       ]
      },
      {
       "output_type": "stream",
       "stream": "stdout",
       "text": [
        "\n",
        "[BernoulliRBM] Iteration 24, pseudo-likelihood = -348.67, time = 0.05s"
       ]
      },
      {
       "output_type": "stream",
       "stream": "stdout",
       "text": [
        "\n",
        "[BernoulliRBM] Iteration 25, pseudo-likelihood = -361.92, time = 0.06s"
       ]
      },
      {
       "output_type": "stream",
       "stream": "stdout",
       "text": [
        "\n",
        "[BernoulliRBM] Iteration 26, pseudo-likelihood = -377.25, time = 0.05s"
       ]
      },
      {
       "output_type": "stream",
       "stream": "stdout",
       "text": [
        "\n",
        "[BernoulliRBM] Iteration 27, pseudo-likelihood = -389.45, time = 0.06s"
       ]
      },
      {
       "output_type": "stream",
       "stream": "stdout",
       "text": [
        "\n",
        "[BernoulliRBM] Iteration 28, pseudo-likelihood = -402.64, time = 0.06s"
       ]
      },
      {
       "output_type": "stream",
       "stream": "stdout",
       "text": [
        "\n",
        "[BernoulliRBM] Iteration 29, pseudo-likelihood = -415.37, time = 0.05s"
       ]
      },
      {
       "output_type": "stream",
       "stream": "stdout",
       "text": [
        "\n",
        "[BernoulliRBM] Iteration 30, pseudo-likelihood = -429.66, time = 0.06s"
       ]
      },
      {
       "output_type": "stream",
       "stream": "stdout",
       "text": [
        "\n",
        "[BernoulliRBM] Iteration 31, pseudo-likelihood = -443.64, time = 0.05s"
       ]
      },
      {
       "output_type": "stream",
       "stream": "stdout",
       "text": [
        "\n",
        "[BernoulliRBM] Iteration 32, pseudo-likelihood = -457.85, time = 0.06s"
       ]
      },
      {
       "output_type": "stream",
       "stream": "stdout",
       "text": [
        "\n",
        "[BernoulliRBM] Iteration 33, pseudo-likelihood = -470.31, time = 0.05s"
       ]
      },
      {
       "output_type": "stream",
       "stream": "stdout",
       "text": [
        "\n",
        "[BernoulliRBM] Iteration 34, pseudo-likelihood = -484.76, time = 0.06s"
       ]
      },
      {
       "output_type": "stream",
       "stream": "stdout",
       "text": [
        "\n",
        "[BernoulliRBM] Iteration 35, pseudo-likelihood = -497.44, time = 0.06s"
       ]
      },
      {
       "output_type": "stream",
       "stream": "stdout",
       "text": [
        "\n",
        "[BernoulliRBM] Iteration 1, pseudo-likelihood = -90.92, time = 0.04s"
       ]
      },
      {
       "output_type": "stream",
       "stream": "stdout",
       "text": [
        "\n",
        "[BernoulliRBM] Iteration 2, pseudo-likelihood = -115.46, time = 0.06s"
       ]
      },
      {
       "output_type": "stream",
       "stream": "stdout",
       "text": [
        "\n",
        "[BernoulliRBM] Iteration 3, pseudo-likelihood = -104.24, time = 0.06s"
       ]
      },
      {
       "output_type": "stream",
       "stream": "stdout",
       "text": [
        "\n",
        "[BernoulliRBM] Iteration 4, pseudo-likelihood = -109.92, time = 0.06s"
       ]
      },
      {
       "output_type": "stream",
       "stream": "stdout",
       "text": [
        "\n",
        "[BernoulliRBM] Iteration 5, pseudo-likelihood = -123.92, time = 0.06s"
       ]
      },
      {
       "output_type": "stream",
       "stream": "stdout",
       "text": [
        "\n",
        "[BernoulliRBM] Iteration 6, pseudo-likelihood = -134.92, time = 0.06s"
       ]
      },
      {
       "output_type": "stream",
       "stream": "stdout",
       "text": [
        "\n",
        "[BernoulliRBM] Iteration 7, pseudo-likelihood = -156.91, time = 0.06s"
       ]
      },
      {
       "output_type": "stream",
       "stream": "stdout",
       "text": [
        "\n",
        "[BernoulliRBM] Iteration 8, pseudo-likelihood = -168.38, time = 0.05s"
       ]
      },
      {
       "output_type": "stream",
       "stream": "stdout",
       "text": [
        "\n",
        "[BernoulliRBM] Iteration 9, pseudo-likelihood = -189.50, time = 0.06s"
       ]
      },
      {
       "output_type": "stream",
       "stream": "stdout",
       "text": [
        "\n",
        "[BernoulliRBM] Iteration 10, pseudo-likelihood = -206.28, time = 0.06s"
       ]
      },
      {
       "output_type": "stream",
       "stream": "stdout",
       "text": [
        "\n",
        "[BernoulliRBM] Iteration 11, pseudo-likelihood = -221.82, time = 0.06s"
       ]
      },
      {
       "output_type": "stream",
       "stream": "stdout",
       "text": [
        "\n",
        "[BernoulliRBM] Iteration 12, pseudo-likelihood = -237.84, time = 0.06s"
       ]
      },
      {
       "output_type": "stream",
       "stream": "stdout",
       "text": [
        "\n",
        "[BernoulliRBM] Iteration 13, pseudo-likelihood = -253.12, time = 0.06s"
       ]
      },
      {
       "output_type": "stream",
       "stream": "stdout",
       "text": [
        "\n",
        "[BernoulliRBM] Iteration 14, pseudo-likelihood = -271.73, time = 0.06s"
       ]
      },
      {
       "output_type": "stream",
       "stream": "stdout",
       "text": [
        "\n",
        "[BernoulliRBM] Iteration 15, pseudo-likelihood = -288.48, time = 0.07s"
       ]
      },
      {
       "output_type": "stream",
       "stream": "stdout",
       "text": [
        "\n",
        "[BernoulliRBM] Iteration 16, pseudo-likelihood = -310.65, time = 0.06s"
       ]
      },
      {
       "output_type": "stream",
       "stream": "stdout",
       "text": [
        "\n",
        "[BernoulliRBM] Iteration 17, pseudo-likelihood = -327.23, time = 0.06s"
       ]
      },
      {
       "output_type": "stream",
       "stream": "stdout",
       "text": [
        "\n",
        "[BernoulliRBM] Iteration 18, pseudo-likelihood = -344.46, time = 0.06s"
       ]
      },
      {
       "output_type": "stream",
       "stream": "stdout",
       "text": [
        "\n",
        "[BernoulliRBM] Iteration 19, pseudo-likelihood = -363.34, time = 0.06s"
       ]
      },
      {
       "output_type": "stream",
       "stream": "stdout",
       "text": [
        "\n",
        "[BernoulliRBM] Iteration 20, pseudo-likelihood = -381.52, time = 0.06s"
       ]
      },
      {
       "output_type": "stream",
       "stream": "stdout",
       "text": [
        "\n",
        "[BernoulliRBM] Iteration 21, pseudo-likelihood = -401.25, time = 0.06s"
       ]
      },
      {
       "output_type": "stream",
       "stream": "stdout",
       "text": [
        "\n",
        "[BernoulliRBM] Iteration 22, pseudo-likelihood = -419.70, time = 0.06s"
       ]
      },
      {
       "output_type": "stream",
       "stream": "stdout",
       "text": [
        "\n",
        "[BernoulliRBM] Iteration 23, pseudo-likelihood = -434.78, time = 0.06s"
       ]
      },
      {
       "output_type": "stream",
       "stream": "stdout",
       "text": [
        "\n",
        "[BernoulliRBM] Iteration 24, pseudo-likelihood = -452.90, time = 0.06s"
       ]
      },
      {
       "output_type": "stream",
       "stream": "stdout",
       "text": [
        "\n",
        "[BernoulliRBM] Iteration 25, pseudo-likelihood = -470.03, time = 0.06s"
       ]
      },
      {
       "output_type": "stream",
       "stream": "stdout",
       "text": [
        "\n",
        "[BernoulliRBM] Iteration 26, pseudo-likelihood = -488.94, time = 0.05s"
       ]
      },
      {
       "output_type": "stream",
       "stream": "stdout",
       "text": [
        "\n",
        "[BernoulliRBM] Iteration 27, pseudo-likelihood = -509.56, time = 0.06s"
       ]
      },
      {
       "output_type": "stream",
       "stream": "stdout",
       "text": [
        "\n",
        "[BernoulliRBM] Iteration 28, pseudo-likelihood = -526.07, time = 0.06s"
       ]
      },
      {
       "output_type": "stream",
       "stream": "stdout",
       "text": [
        "\n",
        "[BernoulliRBM] Iteration 29, pseudo-likelihood = -543.85, time = 0.06s"
       ]
      },
      {
       "output_type": "stream",
       "stream": "stdout",
       "text": [
        "\n",
        "[BernoulliRBM] Iteration 30, pseudo-likelihood = -562.23, time = 0.06s"
       ]
      },
      {
       "output_type": "stream",
       "stream": "stdout",
       "text": [
        "\n",
        "[BernoulliRBM] Iteration 31, pseudo-likelihood = -580.50, time = 0.06s"
       ]
      },
      {
       "output_type": "stream",
       "stream": "stdout",
       "text": [
        "\n",
        "[BernoulliRBM] Iteration 32, pseudo-likelihood = -599.05, time = 0.06s"
       ]
      },
      {
       "output_type": "stream",
       "stream": "stdout",
       "text": [
        "\n",
        "[BernoulliRBM] Iteration 33, pseudo-likelihood = -617.37, time = 0.05s\n",
        "[BernoulliRBM] Iteration 34, pseudo-likelihood = -636.14, time = 0.06s"
       ]
      },
      {
       "output_type": "stream",
       "stream": "stdout",
       "text": [
        "\n",
        "[BernoulliRBM] Iteration 35, pseudo-likelihood = -654.07, time = 0.06s"
       ]
      },
      {
       "output_type": "stream",
       "stream": "stdout",
       "text": [
        "\n",
        "[BernoulliRBM] Iteration 1, pseudo-likelihood = -92.07, time = 0.04s"
       ]
      },
      {
       "output_type": "stream",
       "stream": "stdout",
       "text": [
        "\n",
        "[BernoulliRBM] Iteration 2, pseudo-likelihood = -117.50, time = 0.06s"
       ]
      },
      {
       "output_type": "stream",
       "stream": "stdout",
       "text": [
        "\n",
        "[BernoulliRBM] Iteration 3, pseudo-likelihood = -114.37, time = 0.07s"
       ]
      },
      {
       "output_type": "stream",
       "stream": "stdout",
       "text": [
        "\n",
        "[BernoulliRBM] Iteration 4, pseudo-likelihood = -118.32, time = 0.07s"
       ]
      },
      {
       "output_type": "stream",
       "stream": "stdout",
       "text": [
        "\n",
        "[BernoulliRBM] Iteration 5, pseudo-likelihood = -136.40, time = 0.06s"
       ]
      },
      {
       "output_type": "stream",
       "stream": "stdout",
       "text": [
        "\n",
        "[BernoulliRBM] Iteration 6, pseudo-likelihood = -160.66, time = 0.07s"
       ]
      },
      {
       "output_type": "stream",
       "stream": "stdout",
       "text": [
        "\n",
        "[BernoulliRBM] Iteration 7, pseudo-likelihood = -173.23, time = 0.07s"
       ]
      },
      {
       "output_type": "stream",
       "stream": "stdout",
       "text": [
        "\n",
        "[BernoulliRBM] Iteration 8, pseudo-likelihood = -187.19, time = 0.07s"
       ]
      },
      {
       "output_type": "stream",
       "stream": "stdout",
       "text": [
        "\n",
        "[BernoulliRBM] Iteration 9, pseudo-likelihood = -210.83, time = 0.06s"
       ]
      },
      {
       "output_type": "stream",
       "stream": "stdout",
       "text": [
        "\n",
        "[BernoulliRBM] Iteration 10, pseudo-likelihood = -223.39, time = 0.06s"
       ]
      },
      {
       "output_type": "stream",
       "stream": "stdout",
       "text": [
        "\n",
        "[BernoulliRBM] Iteration 11, pseudo-likelihood = -250.91, time = 0.06s"
       ]
      },
      {
       "output_type": "stream",
       "stream": "stdout",
       "text": [
        "\n",
        "[BernoulliRBM] Iteration 12, pseudo-likelihood = -270.95, time = 0.06s"
       ]
      },
      {
       "output_type": "stream",
       "stream": "stdout",
       "text": [
        "\n",
        "[BernoulliRBM] Iteration 13, pseudo-likelihood = -295.82, time = 0.06s"
       ]
      },
      {
       "output_type": "stream",
       "stream": "stdout",
       "text": [
        "\n",
        "[BernoulliRBM] Iteration 14, pseudo-likelihood = -313.41, time = 0.06s"
       ]
      },
      {
       "output_type": "stream",
       "stream": "stdout",
       "text": [
        "\n",
        "[BernoulliRBM] Iteration 15, pseudo-likelihood = -329.76, time = 0.06s"
       ]
      },
      {
       "output_type": "stream",
       "stream": "stdout",
       "text": [
        "\n",
        "[BernoulliRBM] Iteration 16, pseudo-likelihood = -353.55, time = 0.06s"
       ]
      },
      {
       "output_type": "stream",
       "stream": "stdout",
       "text": [
        "\n",
        "[BernoulliRBM] Iteration 17, pseudo-likelihood = -372.67, time = 0.05s"
       ]
      },
      {
       "output_type": "stream",
       "stream": "stdout",
       "text": [
        "\n",
        "[BernoulliRBM] Iteration 18, pseudo-likelihood = -397.89, time = 0.06s"
       ]
      },
      {
       "output_type": "stream",
       "stream": "stdout",
       "text": [
        "\n",
        "[BernoulliRBM] Iteration 19, pseudo-likelihood = -416.27, time = 0.05s"
       ]
      },
      {
       "output_type": "stream",
       "stream": "stdout",
       "text": [
        "\n",
        "[BernoulliRBM] Iteration 20, pseudo-likelihood = -438.26, time = 0.06s"
       ]
      },
      {
       "output_type": "stream",
       "stream": "stdout",
       "text": [
        "\n",
        "[BernoulliRBM] Iteration 21, pseudo-likelihood = -459.36, time = 0.06s"
       ]
      },
      {
       "output_type": "stream",
       "stream": "stdout",
       "text": [
        "\n",
        "[BernoulliRBM] Iteration 22, pseudo-likelihood = -486.41, time = 0.06s"
       ]
      },
      {
       "output_type": "stream",
       "stream": "stdout",
       "text": [
        "\n",
        "[BernoulliRBM] Iteration 23, pseudo-likelihood = -503.26, time = 0.06s"
       ]
      },
      {
       "output_type": "stream",
       "stream": "stdout",
       "text": [
        "\n",
        "[BernoulliRBM] Iteration 24, pseudo-likelihood = -526.82, time = 0.06s"
       ]
      },
      {
       "output_type": "stream",
       "stream": "stdout",
       "text": [
        "\n",
        "[BernoulliRBM] Iteration 25, pseudo-likelihood = -545.87, time = 0.06s"
       ]
      },
      {
       "output_type": "stream",
       "stream": "stdout",
       "text": [
        "\n",
        "[BernoulliRBM] Iteration 26, pseudo-likelihood = -566.75, time = 0.06s"
       ]
      },
      {
       "output_type": "stream",
       "stream": "stdout",
       "text": [
        "\n",
        "[BernoulliRBM] Iteration 27, pseudo-likelihood = -584.10, time = 0.06s"
       ]
      },
      {
       "output_type": "stream",
       "stream": "stdout",
       "text": [
        "\n",
        "[BernoulliRBM] Iteration 28, pseudo-likelihood = -607.02, time = 0.06s"
       ]
      },
      {
       "output_type": "stream",
       "stream": "stdout",
       "text": [
        "\n",
        "[BernoulliRBM] Iteration 29, pseudo-likelihood = -630.96, time = 0.05s"
       ]
      },
      {
       "output_type": "stream",
       "stream": "stdout",
       "text": [
        "\n",
        "[BernoulliRBM] Iteration 30, pseudo-likelihood = -648.72, time = 0.06s"
       ]
      },
      {
       "output_type": "stream",
       "stream": "stdout",
       "text": [
        "\n",
        "[BernoulliRBM] Iteration 31, pseudo-likelihood = -672.34, time = 0.05s"
       ]
      },
      {
       "output_type": "stream",
       "stream": "stdout",
       "text": [
        "\n",
        "[BernoulliRBM] Iteration 32, pseudo-likelihood = -693.11, time = 0.05s"
       ]
      },
      {
       "output_type": "stream",
       "stream": "stdout",
       "text": [
        "\n",
        "[BernoulliRBM] Iteration 33, pseudo-likelihood = -713.67, time = 0.06s"
       ]
      },
      {
       "output_type": "stream",
       "stream": "stdout",
       "text": [
        "\n",
        "[BernoulliRBM] Iteration 34, pseudo-likelihood = -737.43, time = 0.05s\n",
        "[BernoulliRBM] Iteration 35, pseudo-likelihood = -757.64, time = 0.05s"
       ]
      },
      {
       "output_type": "stream",
       "stream": "stdout",
       "text": [
        "\n",
        "[BernoulliRBM] Iteration 1, pseudo-likelihood = -101.71, time = 0.04s"
       ]
      },
      {
       "output_type": "stream",
       "stream": "stdout",
       "text": [
        "\n",
        "[BernoulliRBM] Iteration 2, pseudo-likelihood = -127.06, time = 0.06s"
       ]
      },
      {
       "output_type": "stream",
       "stream": "stdout",
       "text": [
        "\n",
        "[BernoulliRBM] Iteration 3, pseudo-likelihood = -124.06, time = 0.07s"
       ]
      },
      {
       "output_type": "stream",
       "stream": "stdout",
       "text": [
        "\n",
        "[BernoulliRBM] Iteration 4, pseudo-likelihood = -136.38, time = 0.07s"
       ]
      },
      {
       "output_type": "stream",
       "stream": "stdout",
       "text": [
        "\n",
        "[BernoulliRBM] Iteration 5, pseudo-likelihood = -151.27, time = 0.07s"
       ]
      },
      {
       "output_type": "stream",
       "stream": "stdout",
       "text": [
        "\n",
        "[BernoulliRBM] Iteration 6, pseudo-likelihood = -168.31, time = 0.07s"
       ]
      },
      {
       "output_type": "stream",
       "stream": "stdout",
       "text": [
        "\n",
        "[BernoulliRBM] Iteration 7, pseudo-likelihood = -185.20, time = 0.07s"
       ]
      },
      {
       "output_type": "stream",
       "stream": "stdout",
       "text": [
        "\n",
        "[BernoulliRBM] Iteration 8, pseudo-likelihood = -199.20, time = 0.06s"
       ]
      },
      {
       "output_type": "stream",
       "stream": "stdout",
       "text": [
        "\n",
        "[BernoulliRBM] Iteration 9, pseudo-likelihood = -218.03, time = 0.06s"
       ]
      },
      {
       "output_type": "stream",
       "stream": "stdout",
       "text": [
        "\n",
        "[BernoulliRBM] Iteration 10, pseudo-likelihood = -235.63, time = 0.06s"
       ]
      },
      {
       "output_type": "stream",
       "stream": "stdout",
       "text": [
        "\n",
        "[BernoulliRBM] Iteration 11, pseudo-likelihood = -254.47, time = 0.06s"
       ]
      },
      {
       "output_type": "stream",
       "stream": "stdout",
       "text": [
        "\n",
        "[BernoulliRBM] Iteration 12, pseudo-likelihood = -270.17, time = 0.06s"
       ]
      },
      {
       "output_type": "stream",
       "stream": "stdout",
       "text": [
        "\n",
        "[BernoulliRBM] Iteration 13, pseudo-likelihood = -289.69, time = 0.06s"
       ]
      },
      {
       "output_type": "stream",
       "stream": "stdout",
       "text": [
        "\n",
        "[BernoulliRBM] Iteration 14, pseudo-likelihood = -309.52, time = 0.07s"
       ]
      },
      {
       "output_type": "stream",
       "stream": "stdout",
       "text": [
        "\n",
        "[BernoulliRBM] Iteration 15, pseudo-likelihood = -326.24, time = 0.06s"
       ]
      },
      {
       "output_type": "stream",
       "stream": "stdout",
       "text": [
        "\n",
        "[BernoulliRBM] Iteration 16, pseudo-likelihood = -343.92, time = 0.06s"
       ]
      },
      {
       "output_type": "stream",
       "stream": "stdout",
       "text": [
        "\n",
        "[BernoulliRBM] Iteration 17, pseudo-likelihood = -363.82, time = 0.06s"
       ]
      },
      {
       "output_type": "stream",
       "stream": "stdout",
       "text": [
        "\n",
        "[BernoulliRBM] Iteration 18, pseudo-likelihood = -381.17, time = 0.06s"
       ]
      },
      {
       "output_type": "stream",
       "stream": "stdout",
       "text": [
        "\n",
        "[BernoulliRBM] Iteration 19, pseudo-likelihood = -400.88, time = 0.06s"
       ]
      },
      {
       "output_type": "stream",
       "stream": "stdout",
       "text": [
        "\n",
        "[BernoulliRBM] Iteration 20, pseudo-likelihood = -419.84, time = 0.06s"
       ]
      },
      {
       "output_type": "stream",
       "stream": "stdout",
       "text": [
        "\n",
        "[BernoulliRBM] Iteration 21, pseudo-likelihood = -438.49, time = 0.05s"
       ]
      },
      {
       "output_type": "stream",
       "stream": "stdout",
       "text": [
        "\n",
        "[BernoulliRBM] Iteration 22, pseudo-likelihood = -456.38, time = 0.06s"
       ]
      },
      {
       "output_type": "stream",
       "stream": "stdout",
       "text": [
        "\n",
        "[BernoulliRBM] Iteration 23, pseudo-likelihood = -474.22, time = 0.06s"
       ]
      },
      {
       "output_type": "stream",
       "stream": "stdout",
       "text": [
        "\n",
        "[BernoulliRBM] Iteration 24, pseudo-likelihood = -493.97, time = 0.06s"
       ]
      },
      {
       "output_type": "stream",
       "stream": "stdout",
       "text": [
        "\n",
        "[BernoulliRBM] Iteration 25, pseudo-likelihood = -512.40, time = 0.06s"
       ]
      },
      {
       "output_type": "stream",
       "stream": "stdout",
       "text": [
        "\n",
        "[BernoulliRBM] Iteration 26, pseudo-likelihood = -528.95, time = 0.05s"
       ]
      },
      {
       "output_type": "stream",
       "stream": "stdout",
       "text": [
        "\n",
        "[BernoulliRBM] Iteration 27, pseudo-likelihood = -548.95, time = 0.06s"
       ]
      },
      {
       "output_type": "stream",
       "stream": "stdout",
       "text": [
        "\n",
        "[BernoulliRBM] Iteration 28, pseudo-likelihood = -565.79, time = 0.06s"
       ]
      },
      {
       "output_type": "stream",
       "stream": "stdout",
       "text": [
        "\n",
        "[BernoulliRBM] Iteration 29, pseudo-likelihood = -586.81, time = 0.06s"
       ]
      },
      {
       "output_type": "stream",
       "stream": "stdout",
       "text": [
        "\n",
        "[BernoulliRBM] Iteration 30, pseudo-likelihood = -604.48, time = 0.06s"
       ]
      },
      {
       "output_type": "stream",
       "stream": "stdout",
       "text": [
        "\n",
        "[BernoulliRBM] Iteration 31, pseudo-likelihood = -621.72, time = 0.06s"
       ]
      },
      {
       "output_type": "stream",
       "stream": "stdout",
       "text": [
        "\n",
        "[BernoulliRBM] Iteration 32, pseudo-likelihood = -641.63, time = 0.06s"
       ]
      },
      {
       "output_type": "stream",
       "stream": "stdout",
       "text": [
        "\n",
        "[BernoulliRBM] Iteration 33, pseudo-likelihood = -659.66, time = 0.06s"
       ]
      },
      {
       "output_type": "stream",
       "stream": "stdout",
       "text": [
        "\n",
        "[BernoulliRBM] Iteration 34, pseudo-likelihood = -679.34, time = 0.06s"
       ]
      },
      {
       "output_type": "stream",
       "stream": "stdout",
       "text": [
        "\n",
        "[BernoulliRBM] Iteration 35, pseudo-likelihood = -696.02, time = 0.06s"
       ]
      },
      {
       "output_type": "stream",
       "stream": "stdout",
       "text": [
        "\n",
        "[BernoulliRBM] Iteration 1, pseudo-likelihood = -124.60, time = 0.04s"
       ]
      },
      {
       "output_type": "stream",
       "stream": "stdout",
       "text": [
        "\n",
        "[BernoulliRBM] Iteration 2, pseudo-likelihood = -130.05, time = 0.06s"
       ]
      },
      {
       "output_type": "stream",
       "stream": "stdout",
       "text": [
        "\n",
        "[BernoulliRBM] Iteration 3, pseudo-likelihood = -136.10, time = 0.06s"
       ]
      },
      {
       "output_type": "stream",
       "stream": "stdout",
       "text": [
        "\n",
        "[BernoulliRBM] Iteration 4, pseudo-likelihood = -153.30, time = 0.06s"
       ]
      },
      {
       "output_type": "stream",
       "stream": "stdout",
       "text": [
        "\n",
        "[BernoulliRBM] Iteration 5, pseudo-likelihood = -163.24, time = 0.07s"
       ]
      },
      {
       "output_type": "stream",
       "stream": "stdout",
       "text": [
        "\n",
        "[BernoulliRBM] Iteration 6, pseudo-likelihood = -182.65, time = 0.06s"
       ]
      },
      {
       "output_type": "stream",
       "stream": "stdout",
       "text": [
        "\n",
        "[BernoulliRBM] Iteration 7, pseudo-likelihood = -193.75, time = 0.07s"
       ]
      },
      {
       "output_type": "stream",
       "stream": "stdout",
       "text": [
        "\n",
        "[BernoulliRBM] Iteration 8, pseudo-likelihood = -210.54, time = 0.06s"
       ]
      },
      {
       "output_type": "stream",
       "stream": "stdout",
       "text": [
        "\n",
        "[BernoulliRBM] Iteration 9, pseudo-likelihood = -222.66, time = 0.06s"
       ]
      },
      {
       "output_type": "stream",
       "stream": "stdout",
       "text": [
        "\n",
        "[BernoulliRBM] Iteration 10, pseudo-likelihood = -233.86, time = 0.06s"
       ]
      },
      {
       "output_type": "stream",
       "stream": "stdout",
       "text": [
        "\n",
        "[BernoulliRBM] Iteration 11, pseudo-likelihood = -246.82, time = 0.06s"
       ]
      },
      {
       "output_type": "stream",
       "stream": "stdout",
       "text": [
        "\n",
        "[BernoulliRBM] Iteration 12, pseudo-likelihood = -265.64, time = 0.07s"
       ]
      },
      {
       "output_type": "stream",
       "stream": "stdout",
       "text": [
        "\n",
        "[BernoulliRBM] Iteration 13, pseudo-likelihood = -274.78, time = 0.07s"
       ]
      },
      {
       "output_type": "stream",
       "stream": "stdout",
       "text": [
        "\n",
        "[BernoulliRBM] Iteration 14, pseudo-likelihood = -293.94, time = 0.06s"
       ]
      },
      {
       "output_type": "stream",
       "stream": "stdout",
       "text": [
        "\n",
        "[BernoulliRBM] Iteration 15, pseudo-likelihood = -309.11, time = 0.06s"
       ]
      },
      {
       "output_type": "stream",
       "stream": "stdout",
       "text": [
        "\n",
        "[BernoulliRBM] Iteration 16, pseudo-likelihood = -323.82, time = 0.06s"
       ]
      },
      {
       "output_type": "stream",
       "stream": "stdout",
       "text": [
        "\n",
        "[BernoulliRBM] Iteration 17, pseudo-likelihood = -341.32, time = 0.06s"
       ]
      },
      {
       "output_type": "stream",
       "stream": "stdout",
       "text": [
        "\n",
        "[BernoulliRBM] Iteration 18, pseudo-likelihood = -349.35, time = 0.06s"
       ]
      },
      {
       "output_type": "stream",
       "stream": "stdout",
       "text": [
        "\n",
        "[BernoulliRBM] Iteration 19, pseudo-likelihood = -369.93, time = 0.06s"
       ]
      },
      {
       "output_type": "stream",
       "stream": "stdout",
       "text": [
        "\n",
        "[BernoulliRBM] Iteration 20, pseudo-likelihood = -389.84, time = 0.07s"
       ]
      },
      {
       "output_type": "stream",
       "stream": "stdout",
       "text": [
        "\n",
        "[BernoulliRBM] Iteration 21, pseudo-likelihood = -397.44, time = 0.05s\n",
        "[BernoulliRBM] Iteration 22, pseudo-likelihood = -411.23, time = 0.06s"
       ]
      },
      {
       "output_type": "stream",
       "stream": "stdout",
       "text": [
        "\n",
        "[BernoulliRBM] Iteration 23, pseudo-likelihood = -426.41, time = 0.06s"
       ]
      },
      {
       "output_type": "stream",
       "stream": "stdout",
       "text": [
        "\n",
        "[BernoulliRBM] Iteration 24, pseudo-likelihood = -443.40, time = 0.06s"
       ]
      },
      {
       "output_type": "stream",
       "stream": "stdout",
       "text": [
        "\n",
        "[BernoulliRBM] Iteration 25, pseudo-likelihood = -457.32, time = 0.06s"
       ]
      },
      {
       "output_type": "stream",
       "stream": "stdout",
       "text": [
        "\n",
        "[BernoulliRBM] Iteration 26, pseudo-likelihood = -471.49, time = 0.05s"
       ]
      },
      {
       "output_type": "stream",
       "stream": "stdout",
       "text": [
        "\n",
        "[BernoulliRBM] Iteration 27, pseudo-likelihood = -488.11, time = 0.06s"
       ]
      },
      {
       "output_type": "stream",
       "stream": "stdout",
       "text": [
        "\n",
        "[BernoulliRBM] Iteration 28, pseudo-likelihood = -505.72, time = 0.06s"
       ]
      },
      {
       "output_type": "stream",
       "stream": "stdout",
       "text": [
        "\n",
        "[BernoulliRBM] Iteration 29, pseudo-likelihood = -520.24, time = 0.05s"
       ]
      },
      {
       "output_type": "stream",
       "stream": "stdout",
       "text": [
        "\n",
        "[BernoulliRBM] Iteration 30, pseudo-likelihood = -537.65, time = 0.05s"
       ]
      },
      {
       "output_type": "stream",
       "stream": "stdout",
       "text": [
        "\n",
        "[BernoulliRBM] Iteration 31, pseudo-likelihood = -551.10, time = 0.05s"
       ]
      },
      {
       "output_type": "stream",
       "stream": "stdout",
       "text": [
        "\n",
        "[BernoulliRBM] Iteration 32, pseudo-likelihood = -567.13, time = 0.06s"
       ]
      },
      {
       "output_type": "stream",
       "stream": "stdout",
       "text": [
        "\n",
        "[BernoulliRBM] Iteration 33, pseudo-likelihood = -583.81, time = 0.06s"
       ]
      },
      {
       "output_type": "stream",
       "stream": "stdout",
       "text": [
        "\n",
        "[BernoulliRBM] Iteration 34, pseudo-likelihood = -600.73, time = 0.05s"
       ]
      },
      {
       "output_type": "stream",
       "stream": "stdout",
       "text": [
        "\n",
        "[BernoulliRBM] Iteration 35, pseudo-likelihood = -616.01, time = 0.06s"
       ]
      },
      {
       "output_type": "stream",
       "stream": "stdout",
       "text": [
        "\n",
        "[BernoulliRBM] Iteration 36, pseudo-likelihood = -632.68, time = 0.05s"
       ]
      },
      {
       "output_type": "stream",
       "stream": "stdout",
       "text": [
        "\n",
        "[BernoulliRBM] Iteration 37, pseudo-likelihood = -650.30, time = 0.06s"
       ]
      },
      {
       "output_type": "stream",
       "stream": "stdout",
       "text": [
        "\n",
        "[BernoulliRBM] Iteration 38, pseudo-likelihood = -665.86, time = 0.06s"
       ]
      },
      {
       "output_type": "stream",
       "stream": "stdout",
       "text": [
        "\n",
        "[BernoulliRBM] Iteration 39, pseudo-likelihood = -683.01, time = 0.06s"
       ]
      },
      {
       "output_type": "stream",
       "stream": "stdout",
       "text": [
        "\n",
        "[BernoulliRBM] Iteration 40, pseudo-likelihood = -693.65, time = 0.06s"
       ]
      },
      {
       "output_type": "stream",
       "stream": "stdout",
       "text": [
        "\n",
        "[BernoulliRBM] Iteration 1, pseudo-likelihood = -125.36, time = 0.04s"
       ]
      },
      {
       "output_type": "stream",
       "stream": "stdout",
       "text": [
        "\n",
        "[BernoulliRBM] Iteration 2, pseudo-likelihood = -131.14, time = 0.05s"
       ]
      },
      {
       "output_type": "stream",
       "stream": "stdout",
       "text": [
        "\n",
        "[BernoulliRBM] Iteration 3, pseudo-likelihood = -140.11, time = 0.07s"
       ]
      },
      {
       "output_type": "stream",
       "stream": "stdout",
       "text": [
        "\n",
        "[BernoulliRBM] Iteration 4, pseudo-likelihood = -156.81, time = 0.07s"
       ]
      },
      {
       "output_type": "stream",
       "stream": "stdout",
       "text": [
        "\n",
        "[BernoulliRBM] Iteration 5, pseudo-likelihood = -171.73, time = 0.07s"
       ]
      },
      {
       "output_type": "stream",
       "stream": "stdout",
       "text": [
        "\n",
        "[BernoulliRBM] Iteration 6, pseudo-likelihood = -191.60, time = 0.06s"
       ]
      },
      {
       "output_type": "stream",
       "stream": "stdout",
       "text": [
        "\n",
        "[BernoulliRBM] Iteration 7, pseudo-likelihood = -208.19, time = 0.06s"
       ]
      },
      {
       "output_type": "stream",
       "stream": "stdout",
       "text": [
        "\n",
        "[BernoulliRBM] Iteration 8, pseudo-likelihood = -223.98, time = 0.07s"
       ]
      },
      {
       "output_type": "stream",
       "stream": "stdout",
       "text": [
        "\n",
        "[BernoulliRBM] Iteration 9, pseudo-likelihood = -242.32, time = 0.06s"
       ]
      },
      {
       "output_type": "stream",
       "stream": "stdout",
       "text": [
        "\n",
        "[BernoulliRBM] Iteration 10, pseudo-likelihood = -260.01, time = 0.06s"
       ]
      },
      {
       "output_type": "stream",
       "stream": "stdout",
       "text": [
        "\n",
        "[BernoulliRBM] Iteration 11, pseudo-likelihood = -273.55, time = 0.07s"
       ]
      },
      {
       "output_type": "stream",
       "stream": "stdout",
       "text": [
        "\n",
        "[BernoulliRBM] Iteration 12, pseudo-likelihood = -288.00, time = 0.06s"
       ]
      },
      {
       "output_type": "stream",
       "stream": "stdout",
       "text": [
        "\n",
        "[BernoulliRBM] Iteration 13, pseudo-likelihood = -310.41, time = 0.06s"
       ]
      },
      {
       "output_type": "stream",
       "stream": "stdout",
       "text": [
        "\n",
        "[BernoulliRBM] Iteration 14, pseudo-likelihood = -330.78, time = 0.06s"
       ]
      },
      {
       "output_type": "stream",
       "stream": "stdout",
       "text": [
        "\n",
        "[BernoulliRBM] Iteration 15, pseudo-likelihood = -341.43, time = 0.06s"
       ]
      },
      {
       "output_type": "stream",
       "stream": "stdout",
       "text": [
        "\n",
        "[BernoulliRBM] Iteration 16, pseudo-likelihood = -362.47, time = 0.06s"
       ]
      },
      {
       "output_type": "stream",
       "stream": "stdout",
       "text": [
        "\n",
        "[BernoulliRBM] Iteration 17, pseudo-likelihood = -378.76, time = 0.05s"
       ]
      },
      {
       "output_type": "stream",
       "stream": "stdout",
       "text": [
        "\n",
        "[BernoulliRBM] Iteration 18, pseudo-likelihood = -396.41, time = 0.05s"
       ]
      },
      {
       "output_type": "stream",
       "stream": "stdout",
       "text": [
        "\n",
        "[BernoulliRBM] Iteration 19, pseudo-likelihood = -412.40, time = 0.06s"
       ]
      },
      {
       "output_type": "stream",
       "stream": "stdout",
       "text": [
        "\n",
        "[BernoulliRBM] Iteration 20, pseudo-likelihood = -433.81, time = 0.06s"
       ]
      },
      {
       "output_type": "stream",
       "stream": "stdout",
       "text": [
        "\n",
        "[BernoulliRBM] Iteration 21, pseudo-likelihood = -448.00, time = 0.05s\n",
        "[BernoulliRBM] Iteration 22, pseudo-likelihood = -463.65, time = 0.06s"
       ]
      },
      {
       "output_type": "stream",
       "stream": "stdout",
       "text": [
        "\n",
        "[BernoulliRBM] Iteration 23, pseudo-likelihood = -482.50, time = 0.06s"
       ]
      },
      {
       "output_type": "stream",
       "stream": "stdout",
       "text": [
        "\n",
        "[BernoulliRBM] Iteration 24, pseudo-likelihood = -500.86, time = 0.06s"
       ]
      },
      {
       "output_type": "stream",
       "stream": "stdout",
       "text": [
        "\n",
        "[BernoulliRBM] Iteration 25, pseudo-likelihood = -520.05, time = 0.06s"
       ]
      },
      {
       "output_type": "stream",
       "stream": "stdout",
       "text": [
        "\n",
        "[BernoulliRBM] Iteration 26, pseudo-likelihood = -534.96, time = 0.06s"
       ]
      },
      {
       "output_type": "stream",
       "stream": "stdout",
       "text": [
        "\n",
        "[BernoulliRBM] Iteration 27, pseudo-likelihood = -553.82, time = 0.06s"
       ]
      },
      {
       "output_type": "stream",
       "stream": "stdout",
       "text": [
        "\n",
        "[BernoulliRBM] Iteration 28, pseudo-likelihood = -571.47, time = 0.06s"
       ]
      },
      {
       "output_type": "stream",
       "stream": "stdout",
       "text": [
        "\n",
        "[BernoulliRBM] Iteration 29, pseudo-likelihood = -590.48, time = 0.06s"
       ]
      },
      {
       "output_type": "stream",
       "stream": "stdout",
       "text": [
        "\n",
        "[BernoulliRBM] Iteration 30, pseudo-likelihood = -608.60, time = 0.06s"
       ]
      },
      {
       "output_type": "stream",
       "stream": "stdout",
       "text": [
        "\n",
        "[BernoulliRBM] Iteration 31, pseudo-likelihood = -625.58, time = 0.06s"
       ]
      },
      {
       "output_type": "stream",
       "stream": "stdout",
       "text": [
        "\n",
        "[BernoulliRBM] Iteration 32, pseudo-likelihood = -645.42, time = 0.06s"
       ]
      },
      {
       "output_type": "stream",
       "stream": "stdout",
       "text": [
        "\n",
        "[BernoulliRBM] Iteration 33, pseudo-likelihood = -662.34, time = 0.06s"
       ]
      },
      {
       "output_type": "stream",
       "stream": "stdout",
       "text": [
        "\n",
        "[BernoulliRBM] Iteration 34, pseudo-likelihood = -680.99, time = 0.06s"
       ]
      },
      {
       "output_type": "stream",
       "stream": "stdout",
       "text": [
        "\n",
        "[BernoulliRBM] Iteration 35, pseudo-likelihood = -698.48, time = 0.05s"
       ]
      },
      {
       "output_type": "stream",
       "stream": "stdout",
       "text": [
        "\n",
        "[BernoulliRBM] Iteration 36, pseudo-likelihood = -717.57, time = 0.06s"
       ]
      },
      {
       "output_type": "stream",
       "stream": "stdout",
       "text": [
        "\n",
        "[BernoulliRBM] Iteration 37, pseudo-likelihood = -733.73, time = 0.06s"
       ]
      },
      {
       "output_type": "stream",
       "stream": "stdout",
       "text": [
        "\n",
        "[BernoulliRBM] Iteration 38, pseudo-likelihood = -751.87, time = 0.07s"
       ]
      },
      {
       "output_type": "stream",
       "stream": "stdout",
       "text": [
        "\n",
        "[BernoulliRBM] Iteration 39, pseudo-likelihood = -775.92, time = 0.05s\n",
        "[BernoulliRBM] Iteration 40, pseudo-likelihood = -788.91, time = 0.05s"
       ]
      },
      {
       "output_type": "stream",
       "stream": "stdout",
       "text": [
        "\n",
        "[BernoulliRBM] Iteration 1, pseudo-likelihood = -86.44, time = 0.04s"
       ]
      },
      {
       "output_type": "stream",
       "stream": "stdout",
       "text": [
        "\n",
        "[BernoulliRBM] Iteration 2, pseudo-likelihood = -89.97, time = 0.05s"
       ]
      },
      {
       "output_type": "stream",
       "stream": "stdout",
       "text": [
        "\n",
        "[BernoulliRBM] Iteration 3, pseudo-likelihood = -97.00, time = 0.06s"
       ]
      },
      {
       "output_type": "stream",
       "stream": "stdout",
       "text": [
        "\n",
        "[BernoulliRBM] Iteration 4, pseudo-likelihood = -108.50, time = 0.07s"
       ]
      },
      {
       "output_type": "stream",
       "stream": "stdout",
       "text": [
        "\n",
        "[BernoulliRBM] Iteration 5, pseudo-likelihood = -118.54, time = 0.06s"
       ]
      },
      {
       "output_type": "stream",
       "stream": "stdout",
       "text": [
        "\n",
        "[BernoulliRBM] Iteration 6, pseudo-likelihood = -135.35, time = 0.06s"
       ]
      },
      {
       "output_type": "stream",
       "stream": "stdout",
       "text": [
        "\n",
        "[BernoulliRBM] Iteration 7, pseudo-likelihood = -151.45, time = 0.06s"
       ]
      },
      {
       "output_type": "stream",
       "stream": "stdout",
       "text": [
        "\n",
        "[BernoulliRBM] Iteration 8, pseudo-likelihood = -169.27, time = 0.06s"
       ]
      },
      {
       "output_type": "stream",
       "stream": "stdout",
       "text": [
        "\n",
        "[BernoulliRBM] Iteration 9, pseudo-likelihood = -182.92, time = 0.06s"
       ]
      },
      {
       "output_type": "stream",
       "stream": "stdout",
       "text": [
        "\n",
        "[BernoulliRBM] Iteration 10, pseudo-likelihood = -194.98, time = 0.06s"
       ]
      },
      {
       "output_type": "stream",
       "stream": "stdout",
       "text": [
        "\n",
        "[BernoulliRBM] Iteration 11, pseudo-likelihood = -208.98, time = 0.06s"
       ]
      },
      {
       "output_type": "stream",
       "stream": "stdout",
       "text": [
        "\n",
        "[BernoulliRBM] Iteration 12, pseudo-likelihood = -223.99, time = 0.07s"
       ]
      },
      {
       "output_type": "stream",
       "stream": "stdout",
       "text": [
        "\n",
        "[BernoulliRBM] Iteration 13, pseudo-likelihood = -240.88, time = 0.06s"
       ]
      },
      {
       "output_type": "stream",
       "stream": "stdout",
       "text": [
        "\n",
        "[BernoulliRBM] Iteration 14, pseudo-likelihood = -260.76, time = 0.05s"
       ]
      },
      {
       "output_type": "stream",
       "stream": "stdout",
       "text": [
        "\n",
        "[BernoulliRBM] Iteration 15, pseudo-likelihood = -269.76, time = 0.06s"
       ]
      },
      {
       "output_type": "stream",
       "stream": "stdout",
       "text": [
        "\n",
        "[BernoulliRBM] Iteration 16, pseudo-likelihood = -291.43, time = 0.06s"
       ]
      },
      {
       "output_type": "stream",
       "stream": "stdout",
       "text": [
        "\n",
        "[BernoulliRBM] Iteration 17, pseudo-likelihood = -302.32, time = 0.06s"
       ]
      },
      {
       "output_type": "stream",
       "stream": "stdout",
       "text": [
        "\n",
        "[BernoulliRBM] Iteration 18, pseudo-likelihood = -316.47, time = 0.06s"
       ]
      },
      {
       "output_type": "stream",
       "stream": "stdout",
       "text": [
        "\n",
        "[BernoulliRBM] Iteration 19, pseudo-likelihood = -333.82, time = 0.06s"
       ]
      },
      {
       "output_type": "stream",
       "stream": "stdout",
       "text": [
        "\n",
        "[BernoulliRBM] Iteration 20, pseudo-likelihood = -350.98, time = 0.05s"
       ]
      },
      {
       "output_type": "stream",
       "stream": "stdout",
       "text": [
        "\n",
        "[BernoulliRBM] Iteration 21, pseudo-likelihood = -365.97, time = 0.05s\n",
        "[BernoulliRBM] Iteration 22, pseudo-likelihood = -380.17, time = 0.05s"
       ]
      },
      {
       "output_type": "stream",
       "stream": "stdout",
       "text": [
        "\n",
        "[BernoulliRBM] Iteration 23, pseudo-likelihood = -393.83, time = 0.05s\n",
        "[BernoulliRBM] Iteration 24, pseudo-likelihood = -409.64, time = 0.06s"
       ]
      },
      {
       "output_type": "stream",
       "stream": "stdout",
       "text": [
        "\n",
        "[BernoulliRBM] Iteration 25, pseudo-likelihood = -427.07, time = 0.05s"
       ]
      },
      {
       "output_type": "stream",
       "stream": "stdout",
       "text": [
        "\n",
        "[BernoulliRBM] Iteration 26, pseudo-likelihood = -443.17, time = 0.06s"
       ]
      },
      {
       "output_type": "stream",
       "stream": "stdout",
       "text": [
        "\n",
        "[BernoulliRBM] Iteration 27, pseudo-likelihood = -458.11, time = 0.06s"
       ]
      },
      {
       "output_type": "stream",
       "stream": "stdout",
       "text": [
        "\n",
        "[BernoulliRBM] Iteration 28, pseudo-likelihood = -473.97, time = 0.06s"
       ]
      },
      {
       "output_type": "stream",
       "stream": "stdout",
       "text": [
        "\n",
        "[BernoulliRBM] Iteration 29, pseudo-likelihood = -489.69, time = 0.06s"
       ]
      },
      {
       "output_type": "stream",
       "stream": "stdout",
       "text": [
        "\n",
        "[BernoulliRBM] Iteration 30, pseudo-likelihood = -506.40, time = 0.06s"
       ]
      },
      {
       "output_type": "stream",
       "stream": "stdout",
       "text": [
        "\n",
        "[BernoulliRBM] Iteration 31, pseudo-likelihood = -521.98, time = 0.06s"
       ]
      },
      {
       "output_type": "stream",
       "stream": "stdout",
       "text": [
        "\n",
        "[BernoulliRBM] Iteration 32, pseudo-likelihood = -537.43, time = 0.06s"
       ]
      },
      {
       "output_type": "stream",
       "stream": "stdout",
       "text": [
        "\n",
        "[BernoulliRBM] Iteration 33, pseudo-likelihood = -552.99, time = 0.05s\n",
        "[BernoulliRBM] Iteration 34, pseudo-likelihood = -569.26, time = 0.05s"
       ]
      },
      {
       "output_type": "stream",
       "stream": "stdout",
       "text": [
        "\n",
        "[BernoulliRBM] Iteration 35, pseudo-likelihood = -584.05, time = 0.06s"
       ]
      },
      {
       "output_type": "stream",
       "stream": "stdout",
       "text": [
        "\n",
        "[BernoulliRBM] Iteration 36, pseudo-likelihood = -603.35, time = 0.05s\n",
        "[BernoulliRBM] Iteration 37, pseudo-likelihood = -616.46, time = 0.06s"
       ]
      },
      {
       "output_type": "stream",
       "stream": "stdout",
       "text": [
        "\n",
        "[BernoulliRBM] Iteration 38, pseudo-likelihood = -635.32, time = 0.06s"
       ]
      },
      {
       "output_type": "stream",
       "stream": "stdout",
       "text": [
        "\n",
        "[BernoulliRBM] Iteration 39, pseudo-likelihood = -650.88, time = 0.05s"
       ]
      },
      {
       "output_type": "stream",
       "stream": "stdout",
       "text": [
        "\n",
        "[BernoulliRBM] Iteration 40, pseudo-likelihood = -665.58, time = 0.05s\n",
        "[BernoulliRBM] Iteration 1, pseudo-likelihood = -86.06, time = 0.04s"
       ]
      },
      {
       "output_type": "stream",
       "stream": "stdout",
       "text": [
        "\n",
        "[BernoulliRBM] Iteration 2, pseudo-likelihood = -99.86, time = 0.06s"
       ]
      },
      {
       "output_type": "stream",
       "stream": "stdout",
       "text": [
        "\n",
        "[BernoulliRBM] Iteration 3, pseudo-likelihood = -93.59, time = 0.06s"
       ]
      },
      {
       "output_type": "stream",
       "stream": "stdout",
       "text": [
        "\n",
        "[BernoulliRBM] Iteration 4, pseudo-likelihood = -103.69, time = 0.06s"
       ]
      },
      {
       "output_type": "stream",
       "stream": "stdout",
       "text": [
        "\n",
        "[BernoulliRBM] Iteration 5, pseudo-likelihood = -117.13, time = 0.06s"
       ]
      },
      {
       "output_type": "stream",
       "stream": "stdout",
       "text": [
        "\n",
        "[BernoulliRBM] Iteration 6, pseudo-likelihood = -125.31, time = 0.06s"
       ]
      },
      {
       "output_type": "stream",
       "stream": "stdout",
       "text": [
        "\n",
        "[BernoulliRBM] Iteration 7, pseudo-likelihood = -144.71, time = 0.06s"
       ]
      },
      {
       "output_type": "stream",
       "stream": "stdout",
       "text": [
        "\n",
        "[BernoulliRBM] Iteration 8, pseudo-likelihood = -159.12, time = 0.05s"
       ]
      },
      {
       "output_type": "stream",
       "stream": "stdout",
       "text": [
        "\n",
        "[BernoulliRBM] Iteration 9, pseudo-likelihood = -174.70, time = 0.06s"
       ]
      },
      {
       "output_type": "stream",
       "stream": "stdout",
       "text": [
        "\n",
        "[BernoulliRBM] Iteration 10, pseudo-likelihood = -191.26, time = 0.06s"
       ]
      },
      {
       "output_type": "stream",
       "stream": "stdout",
       "text": [
        "\n",
        "[BernoulliRBM] Iteration 11, pseudo-likelihood = -201.65, time = 0.07s"
       ]
      },
      {
       "output_type": "stream",
       "stream": "stdout",
       "text": [
        "\n",
        "[BernoulliRBM] Iteration 12, pseudo-likelihood = -217.65, time = 0.06s"
       ]
      },
      {
       "output_type": "stream",
       "stream": "stdout",
       "text": [
        "\n",
        "[BernoulliRBM] Iteration 13, pseudo-likelihood = -236.65, time = 0.07s"
       ]
      },
      {
       "output_type": "stream",
       "stream": "stdout",
       "text": [
        "\n",
        "[BernoulliRBM] Iteration 14, pseudo-likelihood = -250.64, time = 0.06s"
       ]
      },
      {
       "output_type": "stream",
       "stream": "stdout",
       "text": [
        "\n",
        "[BernoulliRBM] Iteration 15, pseudo-likelihood = -268.29, time = 0.06s"
       ]
      },
      {
       "output_type": "stream",
       "stream": "stdout",
       "text": [
        "\n",
        "[BernoulliRBM] Iteration 16, pseudo-likelihood = -284.82, time = 0.06s"
       ]
      },
      {
       "output_type": "stream",
       "stream": "stdout",
       "text": [
        "\n",
        "[BernoulliRBM] Iteration 17, pseudo-likelihood = -302.88, time = 0.05s"
       ]
      },
      {
       "output_type": "stream",
       "stream": "stdout",
       "text": [
        "\n",
        "[BernoulliRBM] Iteration 18, pseudo-likelihood = -315.70, time = 0.06s"
       ]
      },
      {
       "output_type": "stream",
       "stream": "stdout",
       "text": [
        "\n",
        "[BernoulliRBM] Iteration 19, pseudo-likelihood = -337.38, time = 0.06s"
       ]
      },
      {
       "output_type": "stream",
       "stream": "stdout",
       "text": [
        "\n",
        "[BernoulliRBM] Iteration 20, pseudo-likelihood = -352.68, time = 0.06s"
       ]
      },
      {
       "output_type": "stream",
       "stream": "stdout",
       "text": [
        "\n",
        "[BernoulliRBM] Iteration 21, pseudo-likelihood = -369.99, time = 0.06s"
       ]
      },
      {
       "output_type": "stream",
       "stream": "stdout",
       "text": [
        "\n",
        "[BernoulliRBM] Iteration 22, pseudo-likelihood = -386.22, time = 0.06s"
       ]
      },
      {
       "output_type": "stream",
       "stream": "stdout",
       "text": [
        "\n",
        "[BernoulliRBM] Iteration 23, pseudo-likelihood = -397.80, time = 0.06s"
       ]
      },
      {
       "output_type": "stream",
       "stream": "stdout",
       "text": [
        "\n",
        "[BernoulliRBM] Iteration 24, pseudo-likelihood = -414.88, time = 0.06s"
       ]
      },
      {
       "output_type": "stream",
       "stream": "stdout",
       "text": [
        "\n",
        "[BernoulliRBM] Iteration 25, pseudo-likelihood = -431.15, time = 0.06s"
       ]
      },
      {
       "output_type": "stream",
       "stream": "stdout",
       "text": [
        "\n",
        "[BernoulliRBM] Iteration 26, pseudo-likelihood = -449.09, time = 0.06s"
       ]
      },
      {
       "output_type": "stream",
       "stream": "stdout",
       "text": [
        "\n",
        "[BernoulliRBM] Iteration 27, pseudo-likelihood = -466.17, time = 0.06s"
       ]
      },
      {
       "output_type": "stream",
       "stream": "stdout",
       "text": [
        "\n",
        "[BernoulliRBM] Iteration 28, pseudo-likelihood = -482.21, time = 0.06s"
       ]
      },
      {
       "output_type": "stream",
       "stream": "stdout",
       "text": [
        "\n",
        "[BernoulliRBM] Iteration 29, pseudo-likelihood = -499.52, time = 0.06s"
       ]
      },
      {
       "output_type": "stream",
       "stream": "stdout",
       "text": [
        "\n",
        "[BernoulliRBM] Iteration 30, pseudo-likelihood = -515.59, time = 0.06s"
       ]
      },
      {
       "output_type": "stream",
       "stream": "stdout",
       "text": [
        "\n",
        "[BernoulliRBM] Iteration 31, pseudo-likelihood = -533.31, time = 0.06s"
       ]
      },
      {
       "output_type": "stream",
       "stream": "stdout",
       "text": [
        "\n",
        "[BernoulliRBM] Iteration 32, pseudo-likelihood = -552.00, time = 0.06s"
       ]
      },
      {
       "output_type": "stream",
       "stream": "stdout",
       "text": [
        "\n",
        "[BernoulliRBM] Iteration 33, pseudo-likelihood = -570.34, time = 0.06s"
       ]
      },
      {
       "output_type": "stream",
       "stream": "stdout",
       "text": [
        "\n",
        "[BernoulliRBM] Iteration 34, pseudo-likelihood = -587.90, time = 0.06s"
       ]
      },
      {
       "output_type": "stream",
       "stream": "stdout",
       "text": [
        "\n",
        "[BernoulliRBM] Iteration 35, pseudo-likelihood = -600.73, time = 0.05s"
       ]
      },
      {
       "output_type": "stream",
       "stream": "stdout",
       "text": [
        "\n",
        "[BernoulliRBM] Iteration 36, pseudo-likelihood = -618.82, time = 0.06s"
       ]
      },
      {
       "output_type": "stream",
       "stream": "stdout",
       "text": [
        "\n",
        "[BernoulliRBM] Iteration 37, pseudo-likelihood = -635.18, time = 0.05s"
       ]
      },
      {
       "output_type": "stream",
       "stream": "stdout",
       "text": [
        "\n",
        "[BernoulliRBM] Iteration 38, pseudo-likelihood = -653.98, time = 0.06s"
       ]
      },
      {
       "output_type": "stream",
       "stream": "stdout",
       "text": [
        "\n",
        "[BernoulliRBM] Iteration 39, pseudo-likelihood = -672.63, time = 0.05s"
       ]
      },
      {
       "output_type": "stream",
       "stream": "stdout",
       "text": [
        "\n",
        "[BernoulliRBM] Iteration 40, pseudo-likelihood = -691.22, time = 0.05s"
       ]
      },
      {
       "output_type": "stream",
       "stream": "stdout",
       "text": [
        "\n",
        "[BernoulliRBM] Iteration 1, pseudo-likelihood = -85.46, time = 0.04s"
       ]
      },
      {
       "output_type": "stream",
       "stream": "stdout",
       "text": [
        "\n",
        "[BernoulliRBM] Iteration 2, pseudo-likelihood = -111.79, time = 0.05s"
       ]
      },
      {
       "output_type": "stream",
       "stream": "stdout",
       "text": [
        "\n",
        "[BernoulliRBM] Iteration 3, pseudo-likelihood = -105.75, time = 0.06s"
       ]
      },
      {
       "output_type": "stream",
       "stream": "stdout",
       "text": [
        "\n",
        "[BernoulliRBM] Iteration 4, pseudo-likelihood = -109.75, time = 0.06s"
       ]
      },
      {
       "output_type": "stream",
       "stream": "stdout",
       "text": [
        "\n",
        "[BernoulliRBM] Iteration 5, pseudo-likelihood = -119.94, time = 0.07s"
       ]
      },
      {
       "output_type": "stream",
       "stream": "stdout",
       "text": [
        "\n",
        "[BernoulliRBM] Iteration 6, pseudo-likelihood = -135.88, time = 0.06s"
       ]
      },
      {
       "output_type": "stream",
       "stream": "stdout",
       "text": [
        "\n",
        "[BernoulliRBM] Iteration 7, pseudo-likelihood = -145.75, time = 0.06s"
       ]
      },
      {
       "output_type": "stream",
       "stream": "stdout",
       "text": [
        "\n",
        "[BernoulliRBM] Iteration 8, pseudo-likelihood = -161.09, time = 0.07s"
       ]
      },
      {
       "output_type": "stream",
       "stream": "stdout",
       "text": [
        "\n",
        "[BernoulliRBM] Iteration 9, pseudo-likelihood = -174.38, time = 0.06s"
       ]
      },
      {
       "output_type": "stream",
       "stream": "stdout",
       "text": [
        "\n",
        "[BernoulliRBM] Iteration 10, pseudo-likelihood = -184.77, time = 0.06s"
       ]
      },
      {
       "output_type": "stream",
       "stream": "stdout",
       "text": [
        "\n",
        "[BernoulliRBM] Iteration 11, pseudo-likelihood = -198.68, time = 0.06s"
       ]
      },
      {
       "output_type": "stream",
       "stream": "stdout",
       "text": [
        "\n",
        "[BernoulliRBM] Iteration 12, pseudo-likelihood = -212.70, time = 0.06s"
       ]
      },
      {
       "output_type": "stream",
       "stream": "stdout",
       "text": [
        "\n",
        "[BernoulliRBM] Iteration 13, pseudo-likelihood = -231.55, time = 0.06s"
       ]
      },
      {
       "output_type": "stream",
       "stream": "stdout",
       "text": [
        "\n",
        "[BernoulliRBM] Iteration 14, pseudo-likelihood = -245.72, time = 0.06s"
       ]
      },
      {
       "output_type": "stream",
       "stream": "stdout",
       "text": [
        "\n",
        "[BernoulliRBM] Iteration 15, pseudo-likelihood = -256.16, time = 0.06s"
       ]
      },
      {
       "output_type": "stream",
       "stream": "stdout",
       "text": [
        "\n",
        "[BernoulliRBM] Iteration 16, pseudo-likelihood = -268.86, time = 0.06s"
       ]
      },
      {
       "output_type": "stream",
       "stream": "stdout",
       "text": [
        "\n",
        "[BernoulliRBM] Iteration 17, pseudo-likelihood = -285.95, time = 0.06s"
       ]
      },
      {
       "output_type": "stream",
       "stream": "stdout",
       "text": [
        "\n",
        "[BernoulliRBM] Iteration 18, pseudo-likelihood = -298.15, time = 0.05s"
       ]
      },
      {
       "output_type": "stream",
       "stream": "stdout",
       "text": [
        "\n",
        "[BernoulliRBM] Iteration 19, pseudo-likelihood = -314.98, time = 0.06s"
       ]
      },
      {
       "output_type": "stream",
       "stream": "stdout",
       "text": [
        "\n",
        "[BernoulliRBM] Iteration 20, pseudo-likelihood = -329.01, time = 0.06s"
       ]
      },
      {
       "output_type": "stream",
       "stream": "stdout",
       "text": [
        "\n",
        "[BernoulliRBM] Iteration 21, pseudo-likelihood = -348.70, time = 0.07s"
       ]
      },
      {
       "output_type": "stream",
       "stream": "stdout",
       "text": [
        "\n",
        "[BernoulliRBM] Iteration 22, pseudo-likelihood = -362.24, time = 0.06s"
       ]
      },
      {
       "output_type": "stream",
       "stream": "stdout",
       "text": [
        "\n",
        "[BernoulliRBM] Iteration 23, pseudo-likelihood = -373.04, time = 0.06s"
       ]
      },
      {
       "output_type": "stream",
       "stream": "stdout",
       "text": [
        "\n",
        "[BernoulliRBM] Iteration 24, pseudo-likelihood = -384.69, time = 0.06s"
       ]
      },
      {
       "output_type": "stream",
       "stream": "stdout",
       "text": [
        "\n",
        "[BernoulliRBM] Iteration 25, pseudo-likelihood = -401.00, time = 0.06s"
       ]
      },
      {
       "output_type": "stream",
       "stream": "stdout",
       "text": [
        "\n",
        "[BernoulliRBM] Iteration 26, pseudo-likelihood = -417.63, time = 0.06s"
       ]
      },
      {
       "output_type": "stream",
       "stream": "stdout",
       "text": [
        "\n",
        "[BernoulliRBM] Iteration 27, pseudo-likelihood = -430.80, time = 0.06s\n",
        "[BernoulliRBM] Iteration 28, pseudo-likelihood = -444.49, time = 0.06s"
       ]
      },
      {
       "output_type": "stream",
       "stream": "stdout",
       "text": [
        "\n",
        "[BernoulliRBM] Iteration 29, pseudo-likelihood = -461.36, time = 0.06s"
       ]
      },
      {
       "output_type": "stream",
       "stream": "stdout",
       "text": [
        "\n",
        "[BernoulliRBM] Iteration 30, pseudo-likelihood = -475.58, time = 0.06s"
       ]
      },
      {
       "output_type": "stream",
       "stream": "stdout",
       "text": [
        "\n",
        "[BernoulliRBM] Iteration 31, pseudo-likelihood = -490.43, time = 0.06s"
       ]
      },
      {
       "output_type": "stream",
       "stream": "stdout",
       "text": [
        "\n",
        "[BernoulliRBM] Iteration 32, pseudo-likelihood = -504.87, time = 0.06s"
       ]
      },
      {
       "output_type": "stream",
       "stream": "stdout",
       "text": [
        "\n",
        "[BernoulliRBM] Iteration 33, pseudo-likelihood = -520.96, time = 0.06s"
       ]
      },
      {
       "output_type": "stream",
       "stream": "stdout",
       "text": [
        "\n",
        "[BernoulliRBM] Iteration 34, pseudo-likelihood = -535.89, time = 0.06s"
       ]
      },
      {
       "output_type": "stream",
       "stream": "stdout",
       "text": [
        "\n",
        "[BernoulliRBM] Iteration 35, pseudo-likelihood = -550.17, time = 0.06s"
       ]
      },
      {
       "output_type": "stream",
       "stream": "stdout",
       "text": [
        "\n",
        "[BernoulliRBM] Iteration 36, pseudo-likelihood = -566.56, time = 0.06s"
       ]
      },
      {
       "output_type": "stream",
       "stream": "stdout",
       "text": [
        "\n",
        "[BernoulliRBM] Iteration 37, pseudo-likelihood = -580.48, time = 0.06s"
       ]
      },
      {
       "output_type": "stream",
       "stream": "stdout",
       "text": [
        "\n",
        "[BernoulliRBM] Iteration 38, pseudo-likelihood = -595.69, time = 0.06s"
       ]
      },
      {
       "output_type": "stream",
       "stream": "stdout",
       "text": [
        "\n",
        "[BernoulliRBM] Iteration 39, pseudo-likelihood = -613.37, time = 0.06s"
       ]
      },
      {
       "output_type": "stream",
       "stream": "stdout",
       "text": [
        "\n",
        "[BernoulliRBM] Iteration 40, pseudo-likelihood = -628.07, time = 0.06s"
       ]
      },
      {
       "output_type": "stream",
       "stream": "stdout",
       "text": [
        "\n",
        "[BernoulliRBM] Iteration 1, pseudo-likelihood = -77.20, time = 0.04s"
       ]
      },
      {
       "output_type": "stream",
       "stream": "stdout",
       "text": [
        "\n",
        "[BernoulliRBM] Iteration 2, pseudo-likelihood = -88.30, time = 0.06s"
       ]
      },
      {
       "output_type": "stream",
       "stream": "stdout",
       "text": [
        "\n",
        "[BernoulliRBM] Iteration 3, pseudo-likelihood = -89.17, time = 0.06s"
       ]
      },
      {
       "output_type": "stream",
       "stream": "stdout",
       "text": [
        "\n",
        "[BernoulliRBM] Iteration 4, pseudo-likelihood = -98.86, time = 0.06s"
       ]
      },
      {
       "output_type": "stream",
       "stream": "stdout",
       "text": [
        "\n",
        "[BernoulliRBM] Iteration 5, pseudo-likelihood = -109.60, time = 0.06s"
       ]
      },
      {
       "output_type": "stream",
       "stream": "stdout",
       "text": [
        "\n",
        "[BernoulliRBM] Iteration 6, pseudo-likelihood = -119.41, time = 0.06s"
       ]
      },
      {
       "output_type": "stream",
       "stream": "stdout",
       "text": [
        "\n",
        "[BernoulliRBM] Iteration 7, pseudo-likelihood = -133.69, time = 0.06s"
       ]
      },
      {
       "output_type": "stream",
       "stream": "stdout",
       "text": [
        "\n",
        "[BernoulliRBM] Iteration 8, pseudo-likelihood = -143.19, time = 0.06s"
       ]
      },
      {
       "output_type": "stream",
       "stream": "stdout",
       "text": [
        "\n",
        "[BernoulliRBM] Iteration 9, pseudo-likelihood = -157.99, time = 0.06s"
       ]
      },
      {
       "output_type": "stream",
       "stream": "stdout",
       "text": [
        "\n",
        "[BernoulliRBM] Iteration 10, pseudo-likelihood = -170.09, time = 0.07s"
       ]
      },
      {
       "output_type": "stream",
       "stream": "stdout",
       "text": [
        "\n",
        "[BernoulliRBM] Iteration 11, pseudo-likelihood = -184.47, time = 0.07s"
       ]
      },
      {
       "output_type": "stream",
       "stream": "stdout",
       "text": [
        "\n",
        "[BernoulliRBM] Iteration 12, pseudo-likelihood = -197.60, time = 0.06s"
       ]
      },
      {
       "output_type": "stream",
       "stream": "stdout",
       "text": [
        "\n",
        "[BernoulliRBM] Iteration 13, pseudo-likelihood = -213.97, time = 0.07s"
       ]
      },
      {
       "output_type": "stream",
       "stream": "stdout",
       "text": [
        "\n",
        "[BernoulliRBM] Iteration 14, pseudo-likelihood = -225.11, time = 0.07s"
       ]
      },
      {
       "output_type": "stream",
       "stream": "stdout",
       "text": [
        "\n",
        "[BernoulliRBM] Iteration 15, pseudo-likelihood = -241.79, time = 0.06s"
       ]
      },
      {
       "output_type": "stream",
       "stream": "stdout",
       "text": [
        "\n",
        "[BernoulliRBM] Iteration 16, pseudo-likelihood = -255.31, time = 0.05s\n",
        "[BernoulliRBM] Iteration 17, pseudo-likelihood = -269.64, time = 0.05s"
       ]
      },
      {
       "output_type": "stream",
       "stream": "stdout",
       "text": [
        "\n",
        "[BernoulliRBM] Iteration 18, pseudo-likelihood = -282.81, time = 0.06s"
       ]
      },
      {
       "output_type": "stream",
       "stream": "stdout",
       "text": [
        "\n",
        "[BernoulliRBM] Iteration 19, pseudo-likelihood = -297.45, time = 0.05s"
       ]
      },
      {
       "output_type": "stream",
       "stream": "stdout",
       "text": [
        "\n",
        "[BernoulliRBM] Iteration 20, pseudo-likelihood = -310.88, time = 0.06s"
       ]
      },
      {
       "output_type": "stream",
       "stream": "stdout",
       "text": [
        "\n",
        "[BernoulliRBM] Iteration 21, pseudo-likelihood = -325.76, time = 0.06s"
       ]
      },
      {
       "output_type": "stream",
       "stream": "stdout",
       "text": [
        "\n",
        "[BernoulliRBM] Iteration 22, pseudo-likelihood = -337.58, time = 0.06s"
       ]
      },
      {
       "output_type": "stream",
       "stream": "stdout",
       "text": [
        "\n",
        "[BernoulliRBM] Iteration 23, pseudo-likelihood = -352.80, time = 0.07s"
       ]
      },
      {
       "output_type": "stream",
       "stream": "stdout",
       "text": [
        "\n",
        "[BernoulliRBM] Iteration 24, pseudo-likelihood = -366.64, time = 0.06s"
       ]
      },
      {
       "output_type": "stream",
       "stream": "stdout",
       "text": [
        "\n",
        "[BernoulliRBM] Iteration 25, pseudo-likelihood = -380.19, time = 0.05s"
       ]
      },
      {
       "output_type": "stream",
       "stream": "stdout",
       "text": [
        "\n",
        "[BernoulliRBM] Iteration 26, pseudo-likelihood = -394.62, time = 0.07s"
       ]
      },
      {
       "output_type": "stream",
       "stream": "stdout",
       "text": [
        "\n",
        "[BernoulliRBM] Iteration 27, pseudo-likelihood = -409.12, time = 0.06s"
       ]
      },
      {
       "output_type": "stream",
       "stream": "stdout",
       "text": [
        "\n",
        "[BernoulliRBM] Iteration 28, pseudo-likelihood = -422.27, time = 0.06s"
       ]
      },
      {
       "output_type": "stream",
       "stream": "stdout",
       "text": [
        "\n",
        "[BernoulliRBM] Iteration 29, pseudo-likelihood = -439.30, time = 0.05s"
       ]
      },
      {
       "output_type": "stream",
       "stream": "stdout",
       "text": [
        "\n",
        "[BernoulliRBM] Iteration 30, pseudo-likelihood = -453.46, time = 0.06s\n",
        "[BernoulliRBM] Iteration 31, pseudo-likelihood = -467.86, time = 0.05s"
       ]
      },
      {
       "output_type": "stream",
       "stream": "stdout",
       "text": [
        "\n",
        "[BernoulliRBM] Iteration 32, pseudo-likelihood = -483.29, time = 0.05s"
       ]
      },
      {
       "output_type": "stream",
       "stream": "stdout",
       "text": [
        "\n",
        "[BernoulliRBM] Iteration 33, pseudo-likelihood = -495.92, time = 0.06s"
       ]
      },
      {
       "output_type": "stream",
       "stream": "stdout",
       "text": [
        "\n",
        "[BernoulliRBM] Iteration 34, pseudo-likelihood = -509.50, time = 0.05s\n",
        "[BernoulliRBM] Iteration 35, pseudo-likelihood = -524.01, time = 0.06s"
       ]
      },
      {
       "output_type": "stream",
       "stream": "stdout",
       "text": [
        "\n",
        "[BernoulliRBM] Iteration 36, pseudo-likelihood = -539.48, time = 0.06s"
       ]
      },
      {
       "output_type": "stream",
       "stream": "stdout",
       "text": [
        "\n",
        "[BernoulliRBM] Iteration 37, pseudo-likelihood = -551.19, time = 0.05s"
       ]
      },
      {
       "output_type": "stream",
       "stream": "stdout",
       "text": [
        "\n",
        "[BernoulliRBM] Iteration 38, pseudo-likelihood = -566.92, time = 0.06s"
       ]
      },
      {
       "output_type": "stream",
       "stream": "stdout",
       "text": [
        "\n",
        "[BernoulliRBM] Iteration 39, pseudo-likelihood = -582.76, time = 0.06s"
       ]
      },
      {
       "output_type": "stream",
       "stream": "stdout",
       "text": [
        "\n",
        "[BernoulliRBM] Iteration 40, pseudo-likelihood = -597.75, time = 0.06s"
       ]
      },
      {
       "output_type": "stream",
       "stream": "stdout",
       "text": [
        "\n",
        "[BernoulliRBM] Iteration 1, pseudo-likelihood = -82.11, time = 0.04s"
       ]
      },
      {
       "output_type": "stream",
       "stream": "stdout",
       "text": [
        "\n",
        "[BernoulliRBM] Iteration 2, pseudo-likelihood = -110.45, time = 0.06s"
       ]
      },
      {
       "output_type": "stream",
       "stream": "stdout",
       "text": [
        "\n",
        "[BernoulliRBM] Iteration 3, pseudo-likelihood = -106.14, time = 0.06s"
       ]
      },
      {
       "output_type": "stream",
       "stream": "stdout",
       "text": [
        "\n",
        "[BernoulliRBM] Iteration 4, pseudo-likelihood = -105.84, time = 0.07s"
       ]
      },
      {
       "output_type": "stream",
       "stream": "stdout",
       "text": [
        "\n",
        "[BernoulliRBM] Iteration 5, pseudo-likelihood = -113.91, time = 0.07s"
       ]
      },
      {
       "output_type": "stream",
       "stream": "stdout",
       "text": [
        "\n",
        "[BernoulliRBM] Iteration 6, pseudo-likelihood = -121.16, time = 0.06s"
       ]
      },
      {
       "output_type": "stream",
       "stream": "stdout",
       "text": [
        "\n",
        "[BernoulliRBM] Iteration 7, pseudo-likelihood = -135.56, time = 0.07s"
       ]
      },
      {
       "output_type": "stream",
       "stream": "stdout",
       "text": [
        "\n",
        "[BernoulliRBM] Iteration 8, pseudo-likelihood = -147.95, time = 0.06s"
       ]
      },
      {
       "output_type": "stream",
       "stream": "stdout",
       "text": [
        "\n",
        "[BernoulliRBM] Iteration 9, pseudo-likelihood = -161.23, time = 0.06s"
       ]
      },
      {
       "output_type": "stream",
       "stream": "stdout",
       "text": [
        "\n",
        "[BernoulliRBM] Iteration 10, pseudo-likelihood = -169.81, time = 0.06s"
       ]
      },
      {
       "output_type": "stream",
       "stream": "stdout",
       "text": [
        "\n",
        "[BernoulliRBM] Iteration 11, pseudo-likelihood = -183.19, time = 0.06s\n",
        "[BernoulliRBM] Iteration 12, pseudo-likelihood = -194.31, time = 0.06s"
       ]
      },
      {
       "output_type": "stream",
       "stream": "stdout",
       "text": [
        "\n",
        "[BernoulliRBM] Iteration 13, pseudo-likelihood = -210.27, time = 0.06s"
       ]
      },
      {
       "output_type": "stream",
       "stream": "stdout",
       "text": [
        "\n",
        "[BernoulliRBM] Iteration 14, pseudo-likelihood = -222.87, time = 0.06s"
       ]
      },
      {
       "output_type": "stream",
       "stream": "stdout",
       "text": [
        "\n",
        "[BernoulliRBM] Iteration 15, pseudo-likelihood = -230.02, time = 0.06s"
       ]
      },
      {
       "output_type": "stream",
       "stream": "stdout",
       "text": [
        "\n",
        "[BernoulliRBM] Iteration 16, pseudo-likelihood = -247.63, time = 0.06s"
       ]
      },
      {
       "output_type": "stream",
       "stream": "stdout",
       "text": [
        "\n",
        "[BernoulliRBM] Iteration 17, pseudo-likelihood = -259.28, time = 0.06s"
       ]
      },
      {
       "output_type": "stream",
       "stream": "stdout",
       "text": [
        "\n",
        "[BernoulliRBM] Iteration 18, pseudo-likelihood = -273.64, time = 0.06s"
       ]
      },
      {
       "output_type": "stream",
       "stream": "stdout",
       "text": [
        "\n",
        "[BernoulliRBM] Iteration 19, pseudo-likelihood = -285.89, time = 0.06s"
       ]
      },
      {
       "output_type": "stream",
       "stream": "stdout",
       "text": [
        "\n",
        "[BernoulliRBM] Iteration 20, pseudo-likelihood = -296.64, time = 0.06s"
       ]
      },
      {
       "output_type": "stream",
       "stream": "stdout",
       "text": [
        "\n",
        "[BernoulliRBM] Iteration 21, pseudo-likelihood = -314.47, time = 0.07s"
       ]
      },
      {
       "output_type": "stream",
       "stream": "stdout",
       "text": [
        "\n",
        "[BernoulliRBM] Iteration 22, pseudo-likelihood = -323.18, time = 0.06s"
       ]
      },
      {
       "output_type": "stream",
       "stream": "stdout",
       "text": [
        "\n",
        "[BernoulliRBM] Iteration 23, pseudo-likelihood = -334.37, time = 0.06s"
       ]
      },
      {
       "output_type": "stream",
       "stream": "stdout",
       "text": [
        "\n",
        "[BernoulliRBM] Iteration 24, pseudo-likelihood = -348.67, time = 0.06s"
       ]
      },
      {
       "output_type": "stream",
       "stream": "stdout",
       "text": [
        "\n",
        "[BernoulliRBM] Iteration 25, pseudo-likelihood = -361.92, time = 0.06s"
       ]
      },
      {
       "output_type": "stream",
       "stream": "stdout",
       "text": [
        "\n",
        "[BernoulliRBM] Iteration 26, pseudo-likelihood = -377.25, time = 0.05s"
       ]
      },
      {
       "output_type": "stream",
       "stream": "stdout",
       "text": [
        "\n",
        "[BernoulliRBM] Iteration 27, pseudo-likelihood = -389.45, time = 0.05s"
       ]
      },
      {
       "output_type": "stream",
       "stream": "stdout",
       "text": [
        "\n",
        "[BernoulliRBM] Iteration 28, pseudo-likelihood = -402.64, time = 0.05s"
       ]
      },
      {
       "output_type": "stream",
       "stream": "stdout",
       "text": [
        "\n",
        "[BernoulliRBM] Iteration 29, pseudo-likelihood = -415.37, time = 0.06s"
       ]
      },
      {
       "output_type": "stream",
       "stream": "stdout",
       "text": [
        "\n",
        "[BernoulliRBM] Iteration 30, pseudo-likelihood = -429.66, time = 0.06s"
       ]
      },
      {
       "output_type": "stream",
       "stream": "stdout",
       "text": [
        "\n",
        "[BernoulliRBM] Iteration 31, pseudo-likelihood = -443.64, time = 0.06s"
       ]
      },
      {
       "output_type": "stream",
       "stream": "stdout",
       "text": [
        "\n",
        "[BernoulliRBM] Iteration 32, pseudo-likelihood = -457.85, time = 0.06s"
       ]
      },
      {
       "output_type": "stream",
       "stream": "stdout",
       "text": [
        "\n",
        "[BernoulliRBM] Iteration 33, pseudo-likelihood = -470.31, time = 0.06s"
       ]
      },
      {
       "output_type": "stream",
       "stream": "stdout",
       "text": [
        "\n",
        "[BernoulliRBM] Iteration 34, pseudo-likelihood = -484.76, time = 0.06s"
       ]
      },
      {
       "output_type": "stream",
       "stream": "stdout",
       "text": [
        "\n",
        "[BernoulliRBM] Iteration 35, pseudo-likelihood = -497.44, time = 0.05s\n",
        "[BernoulliRBM] Iteration 36, pseudo-likelihood = -515.53, time = 0.06s"
       ]
      },
      {
       "output_type": "stream",
       "stream": "stdout",
       "text": [
        "\n",
        "[BernoulliRBM] Iteration 37, pseudo-likelihood = -526.09, time = 0.06s"
       ]
      },
      {
       "output_type": "stream",
       "stream": "stdout",
       "text": [
        "\n",
        "[BernoulliRBM] Iteration 38, pseudo-likelihood = -540.66, time = 0.06s"
       ]
      },
      {
       "output_type": "stream",
       "stream": "stdout",
       "text": [
        "\n",
        "[BernoulliRBM] Iteration 39, pseudo-likelihood = -556.72, time = 0.06s"
       ]
      },
      {
       "output_type": "stream",
       "stream": "stdout",
       "text": [
        "\n",
        "[BernoulliRBM] Iteration 40, pseudo-likelihood = -567.19, time = 0.06s"
       ]
      },
      {
       "output_type": "stream",
       "stream": "stdout",
       "text": [
        "\n",
        "[BernoulliRBM] Iteration 1, pseudo-likelihood = -90.92, time = 0.04s"
       ]
      },
      {
       "output_type": "stream",
       "stream": "stdout",
       "text": [
        "\n",
        "[BernoulliRBM] Iteration 2, pseudo-likelihood = -115.46, time = 0.05s"
       ]
      },
      {
       "output_type": "stream",
       "stream": "stdout",
       "text": [
        "\n",
        "[BernoulliRBM] Iteration 3, pseudo-likelihood = -104.24, time = 0.06s"
       ]
      },
      {
       "output_type": "stream",
       "stream": "stdout",
       "text": [
        "\n",
        "[BernoulliRBM] Iteration 4, pseudo-likelihood = -109.92, time = 0.06s"
       ]
      },
      {
       "output_type": "stream",
       "stream": "stdout",
       "text": [
        "\n",
        "[BernoulliRBM] Iteration 5, pseudo-likelihood = -123.92, time = 0.06s"
       ]
      },
      {
       "output_type": "stream",
       "stream": "stdout",
       "text": [
        "\n",
        "[BernoulliRBM] Iteration 6, pseudo-likelihood = -134.92, time = 0.06s"
       ]
      },
      {
       "output_type": "stream",
       "stream": "stdout",
       "text": [
        "\n",
        "[BernoulliRBM] Iteration 7, pseudo-likelihood = -156.91, time = 0.06s"
       ]
      },
      {
       "output_type": "stream",
       "stream": "stdout",
       "text": [
        "\n",
        "[BernoulliRBM] Iteration 8, pseudo-likelihood = -168.38, time = 0.07s"
       ]
      },
      {
       "output_type": "stream",
       "stream": "stdout",
       "text": [
        "\n",
        "[BernoulliRBM] Iteration 9, pseudo-likelihood = -189.50, time = 0.06s"
       ]
      },
      {
       "output_type": "stream",
       "stream": "stdout",
       "text": [
        "\n",
        "[BernoulliRBM] Iteration 10, pseudo-likelihood = -206.28, time = 0.06s"
       ]
      },
      {
       "output_type": "stream",
       "stream": "stdout",
       "text": [
        "\n",
        "[BernoulliRBM] Iteration 11, pseudo-likelihood = -221.82, time = 0.06s"
       ]
      },
      {
       "output_type": "stream",
       "stream": "stdout",
       "text": [
        "\n",
        "[BernoulliRBM] Iteration 12, pseudo-likelihood = -237.84, time = 0.06s"
       ]
      },
      {
       "output_type": "stream",
       "stream": "stdout",
       "text": [
        "\n",
        "[BernoulliRBM] Iteration 13, pseudo-likelihood = -253.12, time = 0.07s"
       ]
      },
      {
       "output_type": "stream",
       "stream": "stdout",
       "text": [
        "\n",
        "[BernoulliRBM] Iteration 14, pseudo-likelihood = -271.73, time = 0.06s"
       ]
      },
      {
       "output_type": "stream",
       "stream": "stdout",
       "text": [
        "\n",
        "[BernoulliRBM] Iteration 15, pseudo-likelihood = -288.48, time = 0.06s"
       ]
      },
      {
       "output_type": "stream",
       "stream": "stdout",
       "text": [
        "\n",
        "[BernoulliRBM] Iteration 16, pseudo-likelihood = -310.65, time = 0.05s"
       ]
      },
      {
       "output_type": "stream",
       "stream": "stdout",
       "text": [
        "\n",
        "[BernoulliRBM] Iteration 17, pseudo-likelihood = -327.23, time = 0.06s"
       ]
      },
      {
       "output_type": "stream",
       "stream": "stdout",
       "text": [
        "\n",
        "[BernoulliRBM] Iteration 18, pseudo-likelihood = -344.46, time = 0.06s"
       ]
      },
      {
       "output_type": "stream",
       "stream": "stdout",
       "text": [
        "\n",
        "[BernoulliRBM] Iteration 19, pseudo-likelihood = -363.34, time = 0.06s"
       ]
      },
      {
       "output_type": "stream",
       "stream": "stdout",
       "text": [
        "\n",
        "[BernoulliRBM] Iteration 20, pseudo-likelihood = -381.52, time = 0.06s"
       ]
      },
      {
       "output_type": "stream",
       "stream": "stdout",
       "text": [
        "\n",
        "[BernoulliRBM] Iteration 21, pseudo-likelihood = -401.25, time = 0.06s"
       ]
      },
      {
       "output_type": "stream",
       "stream": "stdout",
       "text": [
        "\n",
        "[BernoulliRBM] Iteration 22, pseudo-likelihood = -419.70, time = 0.06s"
       ]
      },
      {
       "output_type": "stream",
       "stream": "stdout",
       "text": [
        "\n",
        "[BernoulliRBM] Iteration 23, pseudo-likelihood = -434.78, time = 0.06s"
       ]
      },
      {
       "output_type": "stream",
       "stream": "stdout",
       "text": [
        "\n",
        "[BernoulliRBM] Iteration 24, pseudo-likelihood = -452.90, time = 0.06s"
       ]
      },
      {
       "output_type": "stream",
       "stream": "stdout",
       "text": [
        "\n",
        "[BernoulliRBM] Iteration 25, pseudo-likelihood = -470.03, time = 0.06s"
       ]
      },
      {
       "output_type": "stream",
       "stream": "stdout",
       "text": [
        "\n",
        "[BernoulliRBM] Iteration 26, pseudo-likelihood = -488.94, time = 0.05s"
       ]
      },
      {
       "output_type": "stream",
       "stream": "stdout",
       "text": [
        "\n",
        "[BernoulliRBM] Iteration 27, pseudo-likelihood = -509.56, time = 0.06s"
       ]
      },
      {
       "output_type": "stream",
       "stream": "stdout",
       "text": [
        "\n",
        "[BernoulliRBM] Iteration 28, pseudo-likelihood = -526.07, time = 0.06s"
       ]
      },
      {
       "output_type": "stream",
       "stream": "stdout",
       "text": [
        "\n",
        "[BernoulliRBM] Iteration 29, pseudo-likelihood = -543.85, time = 0.06s"
       ]
      },
      {
       "output_type": "stream",
       "stream": "stdout",
       "text": [
        "\n",
        "[BernoulliRBM] Iteration 30, pseudo-likelihood = -562.23, time = 0.06s"
       ]
      },
      {
       "output_type": "stream",
       "stream": "stdout",
       "text": [
        "\n",
        "[BernoulliRBM] Iteration 31, pseudo-likelihood = -580.50, time = 0.06s"
       ]
      },
      {
       "output_type": "stream",
       "stream": "stdout",
       "text": [
        "\n",
        "[BernoulliRBM] Iteration 32, pseudo-likelihood = -599.05, time = 0.06s"
       ]
      },
      {
       "output_type": "stream",
       "stream": "stdout",
       "text": [
        "\n",
        "[BernoulliRBM] Iteration 33, pseudo-likelihood = -617.37, time = 0.06s"
       ]
      },
      {
       "output_type": "stream",
       "stream": "stdout",
       "text": [
        "\n",
        "[BernoulliRBM] Iteration 34, pseudo-likelihood = -636.14, time = 0.06s"
       ]
      },
      {
       "output_type": "stream",
       "stream": "stdout",
       "text": [
        "\n",
        "[BernoulliRBM] Iteration 35, pseudo-likelihood = -654.07, time = 0.06s"
       ]
      },
      {
       "output_type": "stream",
       "stream": "stdout",
       "text": [
        "\n",
        "[BernoulliRBM] Iteration 36, pseudo-likelihood = -673.24, time = 0.06s"
       ]
      },
      {
       "output_type": "stream",
       "stream": "stdout",
       "text": [
        "\n",
        "[BernoulliRBM] Iteration 37, pseudo-likelihood = -690.75, time = 0.05s"
       ]
      },
      {
       "output_type": "stream",
       "stream": "stdout",
       "text": [
        "\n",
        "[BernoulliRBM] Iteration 38, pseudo-likelihood = -709.88, time = 0.06s"
       ]
      },
      {
       "output_type": "stream",
       "stream": "stdout",
       "text": [
        "\n",
        "[BernoulliRBM] Iteration 39, pseudo-likelihood = -728.72, time = 0.05s"
       ]
      },
      {
       "output_type": "stream",
       "stream": "stdout",
       "text": [
        "\n",
        "[BernoulliRBM] Iteration 40, pseudo-likelihood = -747.18, time = 0.06s"
       ]
      },
      {
       "output_type": "stream",
       "stream": "stdout",
       "text": [
        "\n",
        "[BernoulliRBM] Iteration 1, pseudo-likelihood = -92.07, time = 0.04s"
       ]
      },
      {
       "output_type": "stream",
       "stream": "stdout",
       "text": [
        "\n",
        "[BernoulliRBM] Iteration 2, pseudo-likelihood = -117.50, time = 0.06s"
       ]
      },
      {
       "output_type": "stream",
       "stream": "stdout",
       "text": [
        "\n",
        "[BernoulliRBM] Iteration 3, pseudo-likelihood = -114.37, time = 0.06s"
       ]
      },
      {
       "output_type": "stream",
       "stream": "stdout",
       "text": [
        "\n",
        "[BernoulliRBM] Iteration 4, pseudo-likelihood = -118.32, time = 0.06s"
       ]
      },
      {
       "output_type": "stream",
       "stream": "stdout",
       "text": [
        "\n",
        "[BernoulliRBM] Iteration 5, pseudo-likelihood = -136.40, time = 0.06s"
       ]
      },
      {
       "output_type": "stream",
       "stream": "stdout",
       "text": [
        "\n",
        "[BernoulliRBM] Iteration 6, pseudo-likelihood = -160.66, time = 0.06s"
       ]
      },
      {
       "output_type": "stream",
       "stream": "stdout",
       "text": [
        "\n",
        "[BernoulliRBM] Iteration 7, pseudo-likelihood = -173.23, time = 0.06s"
       ]
      },
      {
       "output_type": "stream",
       "stream": "stdout",
       "text": [
        "\n",
        "[BernoulliRBM] Iteration 8, pseudo-likelihood = -187.19, time = 0.06s"
       ]
      },
      {
       "output_type": "stream",
       "stream": "stdout",
       "text": [
        "\n",
        "[BernoulliRBM] Iteration 9, pseudo-likelihood = -210.83, time = 0.06s"
       ]
      },
      {
       "output_type": "stream",
       "stream": "stdout",
       "text": [
        "\n",
        "[BernoulliRBM] Iteration 10, pseudo-likelihood = -223.39, time = 0.06s"
       ]
      },
      {
       "output_type": "stream",
       "stream": "stdout",
       "text": [
        "\n",
        "[BernoulliRBM] Iteration 11, pseudo-likelihood = -250.91, time = 0.06s"
       ]
      },
      {
       "output_type": "stream",
       "stream": "stdout",
       "text": [
        "\n",
        "[BernoulliRBM] Iteration 12, pseudo-likelihood = -270.95, time = 0.06s"
       ]
      },
      {
       "output_type": "stream",
       "stream": "stdout",
       "text": [
        "\n",
        "[BernoulliRBM] Iteration 13, pseudo-likelihood = -295.82, time = 0.06s"
       ]
      },
      {
       "output_type": "stream",
       "stream": "stdout",
       "text": [
        "\n",
        "[BernoulliRBM] Iteration 14, pseudo-likelihood = -313.41, time = 0.06s"
       ]
      },
      {
       "output_type": "stream",
       "stream": "stdout",
       "text": [
        "\n",
        "[BernoulliRBM] Iteration 15, pseudo-likelihood = -329.76, time = 0.06s"
       ]
      },
      {
       "output_type": "stream",
       "stream": "stdout",
       "text": [
        "\n",
        "[BernoulliRBM] Iteration 16, pseudo-likelihood = -353.55, time = 0.06s"
       ]
      },
      {
       "output_type": "stream",
       "stream": "stdout",
       "text": [
        "\n",
        "[BernoulliRBM] Iteration 17, pseudo-likelihood = -372.67, time = 0.06s"
       ]
      },
      {
       "output_type": "stream",
       "stream": "stdout",
       "text": [
        "\n",
        "[BernoulliRBM] Iteration 18, pseudo-likelihood = -397.89, time = 0.06s"
       ]
      },
      {
       "output_type": "stream",
       "stream": "stdout",
       "text": [
        "\n",
        "[BernoulliRBM] Iteration 19, pseudo-likelihood = -416.27, time = 0.06s"
       ]
      },
      {
       "output_type": "stream",
       "stream": "stdout",
       "text": [
        "\n",
        "[BernoulliRBM] Iteration 20, pseudo-likelihood = -438.26, time = 0.06s"
       ]
      },
      {
       "output_type": "stream",
       "stream": "stdout",
       "text": [
        "\n",
        "[BernoulliRBM] Iteration 21, pseudo-likelihood = -459.36, time = 0.06s"
       ]
      },
      {
       "output_type": "stream",
       "stream": "stdout",
       "text": [
        "\n",
        "[BernoulliRBM] Iteration 22, pseudo-likelihood = -486.41, time = 0.06s"
       ]
      },
      {
       "output_type": "stream",
       "stream": "stdout",
       "text": [
        "\n",
        "[BernoulliRBM] Iteration 23, pseudo-likelihood = -503.26, time = 0.06s"
       ]
      },
      {
       "output_type": "stream",
       "stream": "stdout",
       "text": [
        "\n",
        "[BernoulliRBM] Iteration 24, pseudo-likelihood = -526.82, time = 0.05s"
       ]
      },
      {
       "output_type": "stream",
       "stream": "stdout",
       "text": [
        "\n",
        "[BernoulliRBM] Iteration 25, pseudo-likelihood = -545.87, time = 0.06s"
       ]
      },
      {
       "output_type": "stream",
       "stream": "stdout",
       "text": [
        "\n",
        "[BernoulliRBM] Iteration 26, pseudo-likelihood = -566.75, time = 0.06s"
       ]
      },
      {
       "output_type": "stream",
       "stream": "stdout",
       "text": [
        "\n",
        "[BernoulliRBM] Iteration 27, pseudo-likelihood = -584.10, time = 0.06s"
       ]
      },
      {
       "output_type": "stream",
       "stream": "stdout",
       "text": [
        "\n",
        "[BernoulliRBM] Iteration 28, pseudo-likelihood = -607.02, time = 0.05s"
       ]
      },
      {
       "output_type": "stream",
       "stream": "stdout",
       "text": [
        "\n",
        "[BernoulliRBM] Iteration 29, pseudo-likelihood = -630.96, time = 0.06s"
       ]
      },
      {
       "output_type": "stream",
       "stream": "stdout",
       "text": [
        "\n",
        "[BernoulliRBM] Iteration 30, pseudo-likelihood = -648.72, time = 0.06s"
       ]
      },
      {
       "output_type": "stream",
       "stream": "stdout",
       "text": [
        "\n",
        "[BernoulliRBM] Iteration 31, pseudo-likelihood = -672.34, time = 0.06s"
       ]
      },
      {
       "output_type": "stream",
       "stream": "stdout",
       "text": [
        "\n",
        "[BernoulliRBM] Iteration 32, pseudo-likelihood = -693.11, time = 0.06s"
       ]
      },
      {
       "output_type": "stream",
       "stream": "stdout",
       "text": [
        "\n",
        "[BernoulliRBM] Iteration 33, pseudo-likelihood = -713.67, time = 0.06s"
       ]
      },
      {
       "output_type": "stream",
       "stream": "stdout",
       "text": [
        "\n",
        "[BernoulliRBM] Iteration 34, pseudo-likelihood = -737.43, time = 0.05s\n",
        "[BernoulliRBM] Iteration 35, pseudo-likelihood = -757.64, time = 0.05s"
       ]
      },
      {
       "output_type": "stream",
       "stream": "stdout",
       "text": [
        "\n",
        "[BernoulliRBM] Iteration 36, pseudo-likelihood = -781.69, time = 0.05s\n",
        "[BernoulliRBM] Iteration 37, pseudo-likelihood = -801.45, time = 0.05s"
       ]
      },
      {
       "output_type": "stream",
       "stream": "stdout",
       "text": [
        "\n",
        "[BernoulliRBM] Iteration 38, pseudo-likelihood = -822.60, time = 0.06s"
       ]
      },
      {
       "output_type": "stream",
       "stream": "stdout",
       "text": [
        "\n",
        "[BernoulliRBM] Iteration 39, pseudo-likelihood = -845.28, time = 0.06s"
       ]
      },
      {
       "output_type": "stream",
       "stream": "stdout",
       "text": [
        "\n",
        "[BernoulliRBM] Iteration 40, pseudo-likelihood = -867.05, time = 0.06s"
       ]
      },
      {
       "output_type": "stream",
       "stream": "stdout",
       "text": [
        "\n",
        "[BernoulliRBM] Iteration 1, pseudo-likelihood = -101.71, time = 0.04s"
       ]
      },
      {
       "output_type": "stream",
       "stream": "stdout",
       "text": [
        "\n",
        "[BernoulliRBM] Iteration 2, pseudo-likelihood = -127.06, time = 0.07s"
       ]
      },
      {
       "output_type": "stream",
       "stream": "stdout",
       "text": [
        "\n",
        "[BernoulliRBM] Iteration 3, pseudo-likelihood = -124.06, time = 0.06s"
       ]
      },
      {
       "output_type": "stream",
       "stream": "stdout",
       "text": [
        "\n",
        "[BernoulliRBM] Iteration 4, pseudo-likelihood = -136.38, time = 0.06s"
       ]
      },
      {
       "output_type": "stream",
       "stream": "stdout",
       "text": [
        "\n",
        "[BernoulliRBM] Iteration 5, pseudo-likelihood = -151.27, time = 0.07s"
       ]
      },
      {
       "output_type": "stream",
       "stream": "stdout",
       "text": [
        "\n",
        "[BernoulliRBM] Iteration 6, pseudo-likelihood = -168.31, time = 0.07s"
       ]
      },
      {
       "output_type": "stream",
       "stream": "stdout",
       "text": [
        "\n",
        "[BernoulliRBM] Iteration 7, pseudo-likelihood = -185.20, time = 0.06s"
       ]
      },
      {
       "output_type": "stream",
       "stream": "stdout",
       "text": [
        "\n",
        "[BernoulliRBM] Iteration 8, pseudo-likelihood = -199.20, time = 0.07s"
       ]
      },
      {
       "output_type": "stream",
       "stream": "stdout",
       "text": [
        "\n",
        "[BernoulliRBM] Iteration 9, pseudo-likelihood = -218.03, time = 0.07s"
       ]
      },
      {
       "output_type": "stream",
       "stream": "stdout",
       "text": [
        "\n",
        "[BernoulliRBM] Iteration 10, pseudo-likelihood = -235.63, time = 0.06s"
       ]
      },
      {
       "output_type": "stream",
       "stream": "stdout",
       "text": [
        "\n",
        "[BernoulliRBM] Iteration 11, pseudo-likelihood = -254.47, time = 0.06s"
       ]
      },
      {
       "output_type": "stream",
       "stream": "stdout",
       "text": [
        "\n",
        "[BernoulliRBM] Iteration 12, pseudo-likelihood = -270.17, time = 0.06s"
       ]
      },
      {
       "output_type": "stream",
       "stream": "stdout",
       "text": [
        "\n",
        "[BernoulliRBM] Iteration 13, pseudo-likelihood = -289.69, time = 0.06s"
       ]
      },
      {
       "output_type": "stream",
       "stream": "stdout",
       "text": [
        "\n",
        "[BernoulliRBM] Iteration 14, pseudo-likelihood = -309.52, time = 0.06s"
       ]
      },
      {
       "output_type": "stream",
       "stream": "stdout",
       "text": [
        "\n",
        "[BernoulliRBM] Iteration 15, pseudo-likelihood = -326.24, time = 0.06s"
       ]
      },
      {
       "output_type": "stream",
       "stream": "stdout",
       "text": [
        "\n",
        "[BernoulliRBM] Iteration 16, pseudo-likelihood = -343.92, time = 0.06s"
       ]
      },
      {
       "output_type": "stream",
       "stream": "stdout",
       "text": [
        "\n",
        "[BernoulliRBM] Iteration 17, pseudo-likelihood = -363.82, time = 0.06s"
       ]
      },
      {
       "output_type": "stream",
       "stream": "stdout",
       "text": [
        "\n",
        "[BernoulliRBM] Iteration 18, pseudo-likelihood = -381.17, time = 0.06s"
       ]
      },
      {
       "output_type": "stream",
       "stream": "stdout",
       "text": [
        "\n",
        "[BernoulliRBM] Iteration 19, pseudo-likelihood = -400.88, time = 0.06s"
       ]
      },
      {
       "output_type": "stream",
       "stream": "stdout",
       "text": [
        "\n",
        "[BernoulliRBM] Iteration 20, pseudo-likelihood = -419.84, time = 0.06s"
       ]
      },
      {
       "output_type": "stream",
       "stream": "stdout",
       "text": [
        "\n",
        "[BernoulliRBM] Iteration 21, pseudo-likelihood = -438.49, time = 0.07s"
       ]
      },
      {
       "output_type": "stream",
       "stream": "stdout",
       "text": [
        "\n",
        "[BernoulliRBM] Iteration 22, pseudo-likelihood = -456.38, time = 0.06s"
       ]
      },
      {
       "output_type": "stream",
       "stream": "stdout",
       "text": [
        "\n",
        "[BernoulliRBM] Iteration 23, pseudo-likelihood = -474.22, time = 0.06s"
       ]
      },
      {
       "output_type": "stream",
       "stream": "stdout",
       "text": [
        "\n",
        "[BernoulliRBM] Iteration 24, pseudo-likelihood = -493.97, time = 0.05s"
       ]
      },
      {
       "output_type": "stream",
       "stream": "stdout",
       "text": [
        "\n",
        "[BernoulliRBM] Iteration 25, pseudo-likelihood = -512.40, time = 0.06s"
       ]
      },
      {
       "output_type": "stream",
       "stream": "stdout",
       "text": [
        "\n",
        "[BernoulliRBM] Iteration 26, pseudo-likelihood = -528.95, time = 0.06s"
       ]
      },
      {
       "output_type": "stream",
       "stream": "stdout",
       "text": [
        "\n",
        "[BernoulliRBM] Iteration 27, pseudo-likelihood = -548.95, time = 0.05s"
       ]
      },
      {
       "output_type": "stream",
       "stream": "stdout",
       "text": [
        "\n",
        "[BernoulliRBM] Iteration 28, pseudo-likelihood = -565.79, time = 0.06s"
       ]
      },
      {
       "output_type": "stream",
       "stream": "stdout",
       "text": [
        "\n",
        "[BernoulliRBM] Iteration 29, pseudo-likelihood = -586.81, time = 0.06s"
       ]
      },
      {
       "output_type": "stream",
       "stream": "stdout",
       "text": [
        "\n",
        "[BernoulliRBM] Iteration 30, pseudo-likelihood = -604.48, time = 0.06s"
       ]
      },
      {
       "output_type": "stream",
       "stream": "stdout",
       "text": [
        "\n",
        "[BernoulliRBM] Iteration 31, pseudo-likelihood = -621.72, time = 0.05s\n",
        "[BernoulliRBM] Iteration 32, pseudo-likelihood = -641.63, time = 0.05s"
       ]
      },
      {
       "output_type": "stream",
       "stream": "stdout",
       "text": [
        "\n",
        "[BernoulliRBM] Iteration 33, pseudo-likelihood = -659.66, time = 0.05s"
       ]
      },
      {
       "output_type": "stream",
       "stream": "stdout",
       "text": [
        "\n",
        "[BernoulliRBM] Iteration 34, pseudo-likelihood = -679.34, time = 0.06s"
       ]
      },
      {
       "output_type": "stream",
       "stream": "stdout",
       "text": [
        "\n",
        "[BernoulliRBM] Iteration 35, pseudo-likelihood = -696.02, time = 0.06s"
       ]
      },
      {
       "output_type": "stream",
       "stream": "stdout",
       "text": [
        "\n",
        "[BernoulliRBM] Iteration 36, pseudo-likelihood = -716.33, time = 0.06s"
       ]
      },
      {
       "output_type": "stream",
       "stream": "stdout",
       "text": [
        "\n",
        "[BernoulliRBM] Iteration 37, pseudo-likelihood = -731.87, time = 0.06s"
       ]
      },
      {
       "output_type": "stream",
       "stream": "stdout",
       "text": [
        "\n",
        "[BernoulliRBM] Iteration 38, pseudo-likelihood = -752.99, time = 0.06s"
       ]
      },
      {
       "output_type": "stream",
       "stream": "stdout",
       "text": [
        "\n",
        "[BernoulliRBM] Iteration 39, pseudo-likelihood = -772.00, time = 0.06s"
       ]
      },
      {
       "output_type": "stream",
       "stream": "stdout",
       "text": [
        "\n",
        "[BernoulliRBM] Iteration 40, pseudo-likelihood = -789.48, time = 0.06s"
       ]
      },
      {
       "output_type": "stream",
       "stream": "stdout",
       "text": [
        "\n",
        "[BernoulliRBM] Iteration 1, pseudo-likelihood = -124.60, time = 0.04s"
       ]
      },
      {
       "output_type": "stream",
       "stream": "stdout",
       "text": [
        "\n",
        "[BernoulliRBM] Iteration 2, pseudo-likelihood = -130.05, time = 0.05s"
       ]
      },
      {
       "output_type": "stream",
       "stream": "stdout",
       "text": [
        "\n",
        "[BernoulliRBM] Iteration 3, pseudo-likelihood = -136.10, time = 0.07s"
       ]
      },
      {
       "output_type": "stream",
       "stream": "stdout",
       "text": [
        "\n",
        "[BernoulliRBM] Iteration 4, pseudo-likelihood = -153.30, time = 0.07s"
       ]
      },
      {
       "output_type": "stream",
       "stream": "stdout",
       "text": [
        "\n",
        "[BernoulliRBM] Iteration 5, pseudo-likelihood = -163.24, time = 0.06s"
       ]
      },
      {
       "output_type": "stream",
       "stream": "stdout",
       "text": [
        "\n",
        "[BernoulliRBM] Iteration 6, pseudo-likelihood = -182.65, time = 0.06s"
       ]
      },
      {
       "output_type": "stream",
       "stream": "stdout",
       "text": [
        "\n",
        "[BernoulliRBM] Iteration 7, pseudo-likelihood = -193.75, time = 0.07s"
       ]
      },
      {
       "output_type": "stream",
       "stream": "stdout",
       "text": [
        "\n",
        "[BernoulliRBM] Iteration 8, pseudo-likelihood = -210.54, time = 0.07s"
       ]
      },
      {
       "output_type": "stream",
       "stream": "stdout",
       "text": [
        "\n",
        "[BernoulliRBM] Iteration 9, pseudo-likelihood = -222.66, time = 0.06s"
       ]
      },
      {
       "output_type": "stream",
       "stream": "stdout",
       "text": [
        "\n",
        "[BernoulliRBM] Iteration 10, pseudo-likelihood = -233.86, time = 0.06s"
       ]
      },
      {
       "output_type": "stream",
       "stream": "stdout",
       "text": [
        "\n",
        "[BernoulliRBM] Iteration 11, pseudo-likelihood = -246.82, time = 0.06s"
       ]
      },
      {
       "output_type": "stream",
       "stream": "stdout",
       "text": [
        "\n",
        "[BernoulliRBM] Iteration 12, pseudo-likelihood = -265.64, time = 0.06s"
       ]
      },
      {
       "output_type": "stream",
       "stream": "stdout",
       "text": [
        "\n",
        "[BernoulliRBM] Iteration 13, pseudo-likelihood = -274.78, time = 0.06s"
       ]
      },
      {
       "output_type": "stream",
       "stream": "stdout",
       "text": [
        "\n",
        "[BernoulliRBM] Iteration 14, pseudo-likelihood = -293.94, time = 0.06s"
       ]
      },
      {
       "output_type": "stream",
       "stream": "stdout",
       "text": [
        "\n",
        "[BernoulliRBM] Iteration 15, pseudo-likelihood = -309.11, time = 0.06s"
       ]
      },
      {
       "output_type": "stream",
       "stream": "stdout",
       "text": [
        "\n",
        "[BernoulliRBM] Iteration 16, pseudo-likelihood = -323.82, time = 0.06s"
       ]
      },
      {
       "output_type": "stream",
       "stream": "stdout",
       "text": [
        "\n",
        "[BernoulliRBM] Iteration 17, pseudo-likelihood = -341.32, time = 0.06s"
       ]
      },
      {
       "output_type": "stream",
       "stream": "stdout",
       "text": [
        "\n",
        "[BernoulliRBM] Iteration 18, pseudo-likelihood = -349.35, time = 0.05s"
       ]
      },
      {
       "output_type": "stream",
       "stream": "stdout",
       "text": [
        "\n",
        "[BernoulliRBM] Iteration 19, pseudo-likelihood = -369.93, time = 0.06s"
       ]
      },
      {
       "output_type": "stream",
       "stream": "stdout",
       "text": [
        "\n",
        "[BernoulliRBM] Iteration 20, pseudo-likelihood = -389.84, time = 0.06s"
       ]
      },
      {
       "output_type": "stream",
       "stream": "stdout",
       "text": [
        "\n",
        "[BernoulliRBM] Iteration 21, pseudo-likelihood = -397.44, time = 0.06s"
       ]
      },
      {
       "output_type": "stream",
       "stream": "stdout",
       "text": [
        "\n",
        "[BernoulliRBM] Iteration 22, pseudo-likelihood = -411.23, time = 0.06s"
       ]
      },
      {
       "output_type": "stream",
       "stream": "stdout",
       "text": [
        "\n",
        "[BernoulliRBM] Iteration 23, pseudo-likelihood = -426.41, time = 0.06s"
       ]
      },
      {
       "output_type": "stream",
       "stream": "stdout",
       "text": [
        "\n",
        "[BernoulliRBM] Iteration 24, pseudo-likelihood = -443.40, time = 0.06s"
       ]
      },
      {
       "output_type": "stream",
       "stream": "stdout",
       "text": [
        "\n",
        "[BernoulliRBM] Iteration 25, pseudo-likelihood = -457.32, time = 0.06s"
       ]
      },
      {
       "output_type": "stream",
       "stream": "stdout",
       "text": [
        "\n",
        "[BernoulliRBM] Iteration 26, pseudo-likelihood = -471.49, time = 0.06s"
       ]
      },
      {
       "output_type": "stream",
       "stream": "stdout",
       "text": [
        "\n",
        "[BernoulliRBM] Iteration 27, pseudo-likelihood = -488.11, time = 0.06s"
       ]
      },
      {
       "output_type": "stream",
       "stream": "stdout",
       "text": [
        "\n",
        "[BernoulliRBM] Iteration 28, pseudo-likelihood = -505.72, time = 0.06s"
       ]
      },
      {
       "output_type": "stream",
       "stream": "stdout",
       "text": [
        "\n",
        "[BernoulliRBM] Iteration 29, pseudo-likelihood = -520.24, time = 0.06s"
       ]
      },
      {
       "output_type": "stream",
       "stream": "stdout",
       "text": [
        "\n",
        "[BernoulliRBM] Iteration 30, pseudo-likelihood = -537.65, time = 0.06s"
       ]
      },
      {
       "output_type": "stream",
       "stream": "stdout",
       "text": [
        "\n",
        "[BernoulliRBM] Iteration 31, pseudo-likelihood = -551.10, time = 0.06s"
       ]
      },
      {
       "output_type": "stream",
       "stream": "stdout",
       "text": [
        "\n",
        "[BernoulliRBM] Iteration 32, pseudo-likelihood = -567.13, time = 0.06s"
       ]
      },
      {
       "output_type": "stream",
       "stream": "stdout",
       "text": [
        "\n",
        "[BernoulliRBM] Iteration 33, pseudo-likelihood = -583.81, time = 0.05s\n",
        "[BernoulliRBM] Iteration 34, pseudo-likelihood = -600.73, time = 0.05s"
       ]
      },
      {
       "output_type": "stream",
       "stream": "stdout",
       "text": [
        "\n",
        "[BernoulliRBM] Iteration 35, pseudo-likelihood = -616.01, time = 0.06s"
       ]
      },
      {
       "output_type": "stream",
       "stream": "stdout",
       "text": [
        "\n",
        "[BernoulliRBM] Iteration 36, pseudo-likelihood = -632.68, time = 0.06s"
       ]
      },
      {
       "output_type": "stream",
       "stream": "stdout",
       "text": [
        "\n",
        "[BernoulliRBM] Iteration 37, pseudo-likelihood = -650.30, time = 0.06s"
       ]
      },
      {
       "output_type": "stream",
       "stream": "stdout",
       "text": [
        "\n",
        "[BernoulliRBM] Iteration 38, pseudo-likelihood = -665.86, time = 0.06s"
       ]
      },
      {
       "output_type": "stream",
       "stream": "stdout",
       "text": [
        "\n",
        "[BernoulliRBM] Iteration 39, pseudo-likelihood = -683.01, time = 0.06s"
       ]
      },
      {
       "output_type": "stream",
       "stream": "stdout",
       "text": [
        "\n",
        "[BernoulliRBM] Iteration 40, pseudo-likelihood = -693.65, time = 0.06s"
       ]
      },
      {
       "output_type": "stream",
       "stream": "stdout",
       "text": [
        "\n",
        "[BernoulliRBM] Iteration 41, pseudo-likelihood = -715.37, time = 0.06s"
       ]
      },
      {
       "output_type": "stream",
       "stream": "stdout",
       "text": [
        "\n",
        "[BernoulliRBM] Iteration 42, pseudo-likelihood = -732.56, time = 0.06s"
       ]
      },
      {
       "output_type": "stream",
       "stream": "stdout",
       "text": [
        "\n",
        "[BernoulliRBM] Iteration 43, pseudo-likelihood = -748.81, time = 0.06s"
       ]
      },
      {
       "output_type": "stream",
       "stream": "stdout",
       "text": [
        "\n",
        "[BernoulliRBM] Iteration 44, pseudo-likelihood = -764.08, time = 0.06s"
       ]
      },
      {
       "output_type": "stream",
       "stream": "stdout",
       "text": [
        "\n",
        "[BernoulliRBM] Iteration 45, pseudo-likelihood = -773.75, time = 0.06s"
       ]
      },
      {
       "output_type": "stream",
       "stream": "stdout",
       "text": [
        "\n",
        "[BernoulliRBM] Iteration 1, pseudo-likelihood = -125.36, time = 0.04s"
       ]
      },
      {
       "output_type": "stream",
       "stream": "stdout",
       "text": [
        "\n",
        "[BernoulliRBM] Iteration 2, pseudo-likelihood = -131.14, time = 0.06s"
       ]
      },
      {
       "output_type": "stream",
       "stream": "stdout",
       "text": [
        "\n",
        "[BernoulliRBM] Iteration 3, pseudo-likelihood = -140.11, time = 0.06s"
       ]
      },
      {
       "output_type": "stream",
       "stream": "stdout",
       "text": [
        "\n",
        "[BernoulliRBM] Iteration 4, pseudo-likelihood = -156.81, time = 0.06s"
       ]
      },
      {
       "output_type": "stream",
       "stream": "stdout",
       "text": [
        "\n",
        "[BernoulliRBM] Iteration 5, pseudo-likelihood = -171.73, time = 0.06s"
       ]
      },
      {
       "output_type": "stream",
       "stream": "stdout",
       "text": [
        "\n",
        "[BernoulliRBM] Iteration 6, pseudo-likelihood = -191.60, time = 0.06s"
       ]
      },
      {
       "output_type": "stream",
       "stream": "stdout",
       "text": [
        "\n",
        "[BernoulliRBM] Iteration 7, pseudo-likelihood = -208.19, time = 0.06s"
       ]
      },
      {
       "output_type": "stream",
       "stream": "stdout",
       "text": [
        "\n",
        "[BernoulliRBM] Iteration 8, pseudo-likelihood = -223.98, time = 0.06s"
       ]
      },
      {
       "output_type": "stream",
       "stream": "stdout",
       "text": [
        "\n",
        "[BernoulliRBM] Iteration 9, pseudo-likelihood = -242.32, time = 0.06s"
       ]
      },
      {
       "output_type": "stream",
       "stream": "stdout",
       "text": [
        "\n",
        "[BernoulliRBM] Iteration 10, pseudo-likelihood = -260.01, time = 0.06s"
       ]
      },
      {
       "output_type": "stream",
       "stream": "stdout",
       "text": [
        "\n",
        "[BernoulliRBM] Iteration 11, pseudo-likelihood = -273.55, time = 0.06s"
       ]
      },
      {
       "output_type": "stream",
       "stream": "stdout",
       "text": [
        "\n",
        "[BernoulliRBM] Iteration 12, pseudo-likelihood = -288.00, time = 0.06s"
       ]
      },
      {
       "output_type": "stream",
       "stream": "stdout",
       "text": [
        "\n",
        "[BernoulliRBM] Iteration 13, pseudo-likelihood = -310.41, time = 0.06s"
       ]
      },
      {
       "output_type": "stream",
       "stream": "stdout",
       "text": [
        "\n",
        "[BernoulliRBM] Iteration 14, pseudo-likelihood = -330.78, time = 0.06s"
       ]
      },
      {
       "output_type": "stream",
       "stream": "stdout",
       "text": [
        "\n",
        "[BernoulliRBM] Iteration 15, pseudo-likelihood = -341.43, time = 0.06s"
       ]
      },
      {
       "output_type": "stream",
       "stream": "stdout",
       "text": [
        "\n",
        "[BernoulliRBM] Iteration 16, pseudo-likelihood = -362.47, time = 0.06s"
       ]
      },
      {
       "output_type": "stream",
       "stream": "stdout",
       "text": [
        "\n",
        "[BernoulliRBM] Iteration 17, pseudo-likelihood = -378.76, time = 0.06s"
       ]
      },
      {
       "output_type": "stream",
       "stream": "stdout",
       "text": [
        "\n",
        "[BernoulliRBM] Iteration 18, pseudo-likelihood = -396.41, time = 0.05s"
       ]
      },
      {
       "output_type": "stream",
       "stream": "stdout",
       "text": [
        "\n",
        "[BernoulliRBM] Iteration 19, pseudo-likelihood = -412.40, time = 0.06s"
       ]
      },
      {
       "output_type": "stream",
       "stream": "stdout",
       "text": [
        "\n",
        "[BernoulliRBM] Iteration 20, pseudo-likelihood = -433.81, time = 0.06s"
       ]
      },
      {
       "output_type": "stream",
       "stream": "stdout",
       "text": [
        "\n",
        "[BernoulliRBM] Iteration 21, pseudo-likelihood = -448.00, time = 0.06s"
       ]
      },
      {
       "output_type": "stream",
       "stream": "stdout",
       "text": [
        "\n",
        "[BernoulliRBM] Iteration 22, pseudo-likelihood = -463.65, time = 0.06s"
       ]
      },
      {
       "output_type": "stream",
       "stream": "stdout",
       "text": [
        "\n",
        "[BernoulliRBM] Iteration 23, pseudo-likelihood = -482.50, time = 0.06s"
       ]
      },
      {
       "output_type": "stream",
       "stream": "stdout",
       "text": [
        "\n",
        "[BernoulliRBM] Iteration 24, pseudo-likelihood = -500.86, time = 0.06s"
       ]
      },
      {
       "output_type": "stream",
       "stream": "stdout",
       "text": [
        "\n",
        "[BernoulliRBM] Iteration 25, pseudo-likelihood = -520.05, time = 0.06s"
       ]
      },
      {
       "output_type": "stream",
       "stream": "stdout",
       "text": [
        "\n",
        "[BernoulliRBM] Iteration 26, pseudo-likelihood = -534.96, time = 0.06s"
       ]
      },
      {
       "output_type": "stream",
       "stream": "stdout",
       "text": [
        "\n",
        "[BernoulliRBM] Iteration 27, pseudo-likelihood = -553.82, time = 0.06s"
       ]
      },
      {
       "output_type": "stream",
       "stream": "stdout",
       "text": [
        "\n",
        "[BernoulliRBM] Iteration 28, pseudo-likelihood = -571.47, time = 0.06s"
       ]
      },
      {
       "output_type": "stream",
       "stream": "stdout",
       "text": [
        "\n",
        "[BernoulliRBM] Iteration 29, pseudo-likelihood = -590.48, time = 0.06s"
       ]
      },
      {
       "output_type": "stream",
       "stream": "stdout",
       "text": [
        "\n",
        "[BernoulliRBM] Iteration 30, pseudo-likelihood = -608.60, time = 0.06s"
       ]
      },
      {
       "output_type": "stream",
       "stream": "stdout",
       "text": [
        "\n",
        "[BernoulliRBM] Iteration 31, pseudo-likelihood = -625.58, time = 0.06s"
       ]
      },
      {
       "output_type": "stream",
       "stream": "stdout",
       "text": [
        "\n",
        "[BernoulliRBM] Iteration 32, pseudo-likelihood = -645.42, time = 0.06s"
       ]
      },
      {
       "output_type": "stream",
       "stream": "stdout",
       "text": [
        "\n",
        "[BernoulliRBM] Iteration 33, pseudo-likelihood = -662.34, time = 0.05s\n",
        "[BernoulliRBM] Iteration 34, pseudo-likelihood = -680.99, time = 0.05s"
       ]
      },
      {
       "output_type": "stream",
       "stream": "stdout",
       "text": [
        "\n",
        "[BernoulliRBM] Iteration 35, pseudo-likelihood = -698.48, time = 0.05s"
       ]
      },
      {
       "output_type": "stream",
       "stream": "stdout",
       "text": [
        "\n",
        "[BernoulliRBM] Iteration 36, pseudo-likelihood = -717.57, time = 0.06s"
       ]
      },
      {
       "output_type": "stream",
       "stream": "stdout",
       "text": [
        "\n",
        "[BernoulliRBM] Iteration 37, pseudo-likelihood = -733.73, time = 0.06s"
       ]
      },
      {
       "output_type": "stream",
       "stream": "stdout",
       "text": [
        "\n",
        "[BernoulliRBM] Iteration 38, pseudo-likelihood = -751.87, time = 0.06s"
       ]
      },
      {
       "output_type": "stream",
       "stream": "stdout",
       "text": [
        "\n",
        "[BernoulliRBM] Iteration 39, pseudo-likelihood = -775.92, time = 0.06s"
       ]
      },
      {
       "output_type": "stream",
       "stream": "stdout",
       "text": [
        "\n",
        "[BernoulliRBM] Iteration 40, pseudo-likelihood = -788.91, time = 0.05s\n",
        "[BernoulliRBM] Iteration 41, pseudo-likelihood = -807.08, time = 0.05s"
       ]
      },
      {
       "output_type": "stream",
       "stream": "stdout",
       "text": [
        "\n",
        "[BernoulliRBM] Iteration 42, pseudo-likelihood = -825.52, time = 0.05s"
       ]
      },
      {
       "output_type": "stream",
       "stream": "stdout",
       "text": [
        "\n",
        "[BernoulliRBM] Iteration 43, pseudo-likelihood = -845.70, time = 0.05s"
       ]
      },
      {
       "output_type": "stream",
       "stream": "stdout",
       "text": [
        "\n",
        "[BernoulliRBM] Iteration 44, pseudo-likelihood = -866.53, time = 0.06s"
       ]
      },
      {
       "output_type": "stream",
       "stream": "stdout",
       "text": [
        "\n",
        "[BernoulliRBM] Iteration 45, pseudo-likelihood = -877.38, time = 0.06s"
       ]
      },
      {
       "output_type": "stream",
       "stream": "stdout",
       "text": [
        "\n",
        "[BernoulliRBM] Iteration 1, pseudo-likelihood = -86.44, time = 0.04s"
       ]
      },
      {
       "output_type": "stream",
       "stream": "stdout",
       "text": [
        "\n",
        "[BernoulliRBM] Iteration 2, pseudo-likelihood = -89.97, time = 0.06s"
       ]
      },
      {
       "output_type": "stream",
       "stream": "stdout",
       "text": [
        "\n",
        "[BernoulliRBM] Iteration 3, pseudo-likelihood = -97.00, time = 0.07s"
       ]
      },
      {
       "output_type": "stream",
       "stream": "stdout",
       "text": [
        "\n",
        "[BernoulliRBM] Iteration 4, pseudo-likelihood = -108.50, time = 0.06s"
       ]
      },
      {
       "output_type": "stream",
       "stream": "stdout",
       "text": [
        "\n",
        "[BernoulliRBM] Iteration 5, pseudo-likelihood = -118.54, time = 0.06s"
       ]
      },
      {
       "output_type": "stream",
       "stream": "stdout",
       "text": [
        "\n",
        "[BernoulliRBM] Iteration 6, pseudo-likelihood = -135.35, time = 0.06s"
       ]
      },
      {
       "output_type": "stream",
       "stream": "stdout",
       "text": [
        "\n",
        "[BernoulliRBM] Iteration 7, pseudo-likelihood = -151.45, time = 0.06s"
       ]
      },
      {
       "output_type": "stream",
       "stream": "stdout",
       "text": [
        "\n",
        "[BernoulliRBM] Iteration 8, pseudo-likelihood = -169.27, time = 0.06s"
       ]
      },
      {
       "output_type": "stream",
       "stream": "stdout",
       "text": [
        "\n",
        "[BernoulliRBM] Iteration 9, pseudo-likelihood = -182.92, time = 0.06s"
       ]
      },
      {
       "output_type": "stream",
       "stream": "stdout",
       "text": [
        "\n",
        "[BernoulliRBM] Iteration 10, pseudo-likelihood = -194.98, time = 0.07s"
       ]
      },
      {
       "output_type": "stream",
       "stream": "stdout",
       "text": [
        "\n",
        "[BernoulliRBM] Iteration 11, pseudo-likelihood = -208.98, time = 0.07s"
       ]
      },
      {
       "output_type": "stream",
       "stream": "stdout",
       "text": [
        "\n",
        "[BernoulliRBM] Iteration 12, pseudo-likelihood = -223.99, time = 0.06s"
       ]
      },
      {
       "output_type": "stream",
       "stream": "stdout",
       "text": [
        "\n",
        "[BernoulliRBM] Iteration 13, pseudo-likelihood = -240.88, time = 0.06s"
       ]
      }
     ]
    }
   ],
   "metadata": {}
  }
 ]
}